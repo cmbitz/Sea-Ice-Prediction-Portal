{
 "cells": [
  {
   "cell_type": "code",
   "execution_count": 1,
   "metadata": {},
   "outputs": [],
   "source": [
    "'''\n",
    "\n",
    "This code is part of the SIPN2 project focused on improving sub-seasonal to seasonal predictions of Arctic Sea Ice. \n",
    "If you use this code for a publication or presentation, please cite the reference in the README.md on the\n",
    "main page (https://github.com/NicWayand/ESIO). \n",
    "\n",
    "Questions or comments should be addressed to nicway@uw.edu\n",
    "\n",
    "Copyright (c) 2018 Nic Wayand\n",
    "\n",
    "GNU General Public License v3.0\n",
    "\n",
    "\n",
    "'''\n",
    "\n",
    "import xarray as xr\n",
    "import os\n",
    "import numpy as np"
   ]
  },
  {
   "cell_type": "code",
   "execution_count": 2,
   "metadata": {},
   "outputs": [],
   "source": [
    "grid_dir = '/home/disk/sipn/nicway/data/grids'"
   ]
  },
  {
   "cell_type": "code",
   "execution_count": 3,
   "metadata": {},
   "outputs": [
    {
     "name": "stderr",
     "output_type": "stream",
     "text": [
      "/home/disk/sipn/nicway/anaconda3/envs/esio/lib/python3.6/site-packages/ipykernel_launcher.py:2: FutureWarning: The inplace argument has been deprecated and will be removed in xarray 0.12.0.\n",
      "  \n",
      "/home/disk/sipn/nicway/anaconda3/envs/esio/lib/python3.6/site-packages/ipykernel_launcher.py:11: FutureWarning: The inplace argument has been deprecated and will be removed in xarray 0.12.0.\n",
      "  # This is added back by InteractiveShellApp.init_path()\n"
     ]
    }
   ],
   "source": [
    "ds_region = xr.open_dataset(os.path.join(grid_dir, 'sio_2016_mask.nc'))\n",
    "ds_region.set_coords(['lat','lon'], inplace=True);\n",
    "# Note minor -0.000004 degree differences in latitude\n",
    "# Replace with nsdidc obs file lat/lon\n",
    "ds_nsidc = xr.open_dataset('/home/disk/sipn/nicway/data/obs/NSIDC_0081/sipn_nc/nt_20170804_f18_nrt_n.nc')\n",
    "ds_region['lat'] = ds_nsidc.lat\n",
    "ds_region['lon'] = ds_nsidc.lon\n",
    "# Clean up string (need to do at import)\n",
    "ds_region.coords['region_names'] = xr.DataArray([x.item(0).decode(\"utf-8\").strip() for x in ds_region.region_names],\n",
    "                                                dims='nregions', coords={'nregions':ds_region.nregions})\n",
    "ds_region.rename({'nx':'x', 'ny':'y'}, inplace=True);\n",
    "ds_region['nregions'] = np.arange(1,22)\n",
    "rm_regs = ['Ice-free Oceans', 'null', 'land outline', 'land' ]\n",
    "# Get regions index for ones we want\n",
    "ds_region.coords['ocean_regions']  = xr.DataArray(ds_region.where(~ds_region.region_names.isin(rm_regs), drop=True).nregions.values,\n",
    "                                                dims='ocean_regions')\n",
    "ds_region.area.attrs = '' # was complaining about coords in attrs so remove\n",
    "\n",
    "# Fix greenland typo\n",
    "old_names = ds_region.region_names.values\n",
    "new_names = [w.replace('East Greeland Sea', 'East Greenland Sea') for w in old_names]\n",
    "ds_region['region_names'] = xr.DataArray(new_names, coords=ds_region.region_names.coords, \n",
    "                                         dims=ds_region.region_names.dims)\n",
    "# drop time\n",
    "ds_region = ds_region.drop('time')\n",
    "ds_region.to_netcdf(os.path.join(grid_dir,'sio_2016_mask_Update.nc'))"
   ]
  },
  {
   "cell_type": "code",
   "execution_count": null,
   "metadata": {},
   "outputs": [],
   "source": []
  },
  {
   "cell_type": "code",
   "execution_count": null,
   "metadata": {},
   "outputs": [],
   "source": []
  },
  {
   "cell_type": "code",
   "execution_count": 4,
   "metadata": {},
   "outputs": [
    {
     "data": {
      "text/plain": [
       "<xarray.DataArray 'region_names' (nregions: 21)>\n",
       "array(['Ice-free Oceans', 'Sea of Okhotsk', 'Bering', 'Hudson Bay', 'St John',\n",
       "       'Baffin Bay', 'East Greenland Sea', 'Barents Sea', 'Kara Sea',\n",
       "       'Laptev Sea', 'East Siberian Sea', 'Chukchi Sea', 'Beaufort Sea',\n",
       "       'Canadian Islands', 'Central Arctic', 'null', 'null', 'null', 'null',\n",
       "       'land', 'land outline'], dtype='<U18')\n",
       "Coordinates:\n",
       "    region_names  (nregions) <U18 'Ice-free Oceans' ... 'land outline'\n",
       "  * nregions      (nregions) int64 1 2 3 4 5 6 7 8 9 ... 14 15 16 17 18 19 20 21"
      ]
     },
     "execution_count": 4,
     "metadata": {},
     "output_type": "execute_result"
    }
   ],
   "source": [
    "ds_region.region_names"
   ]
  },
  {
   "cell_type": "code",
   "execution_count": 5,
   "metadata": {},
   "outputs": [
    {
     "data": {
      "text/plain": [
       "[('Sea of Okhotsk', 2),\n",
       " ('Bering', 3),\n",
       " ('Hudson Bay', 4),\n",
       " ('St John', 5),\n",
       " ('Baffin Bay', 6),\n",
       " ('East Greenland Sea', 7),\n",
       " ('Barents Sea', 8),\n",
       " ('Kara Sea', 9),\n",
       " ('Laptev Sea', 10),\n",
       " ('East Siberian Sea', 11),\n",
       " ('Chukchi Sea', 12),\n",
       " ('Beaufort Sea', 13),\n",
       " ('Canadian Islands', 14),\n",
       " ('Central Arctic', 15)]"
      ]
     },
     "execution_count": 5,
     "metadata": {},
     "output_type": "execute_result"
    }
   ],
   "source": [
    "list(zip(ds_region.region_names.sel(nregions=ds_region.ocean_regions.values).values, \n",
    "         ds_region.region_names.sel(nregions=ds_region.ocean_regions.values).nregions.values))"
   ]
  },
  {
   "cell_type": "code",
   "execution_count": 6,
   "metadata": {},
   "outputs": [
    {
     "data": {
      "text/plain": [
       "<xarray.DataArray 'region_names' (nregions: 21)>\n",
       "array(['Ice-free Oceans', 'Sea of Okhotsk', 'Bering', 'Hudson Bay', 'St John',\n",
       "       'Baffin Bay', 'East Greenland Sea', 'Barents Sea', 'Kara Sea',\n",
       "       'Laptev Sea', 'East Siberian Sea', 'Chukchi Sea', 'Beaufort Sea',\n",
       "       'Canadian Islands', 'Central Arctic', 'null', 'null', 'null', 'null',\n",
       "       'land', 'land outline'], dtype='<U18')\n",
       "Coordinates:\n",
       "    region_names  (nregions) <U18 'Ice-free Oceans' ... 'land outline'\n",
       "  * nregions      (nregions) int64 1 2 3 4 5 6 7 8 9 ... 14 15 16 17 18 19 20 21"
      ]
     },
     "execution_count": 6,
     "metadata": {},
     "output_type": "execute_result"
    }
   ],
   "source": [
    "ds_region.region_names"
   ]
  },
  {
   "cell_type": "code",
   "execution_count": null,
   "metadata": {},
   "outputs": [],
   "source": []
  }
 ],
 "metadata": {
  "kernelspec": {
   "display_name": "3.6.4 esio",
   "language": "python",
   "name": "esio"
  },
  "language_info": {
   "codemirror_mode": {
    "name": "ipython",
    "version": 3
   },
   "file_extension": ".py",
   "mimetype": "text/x-python",
   "name": "python",
   "nbconvert_exporter": "python",
   "pygments_lexer": "ipython3",
   "version": "3.6.4"
  }
 },
 "nbformat": 4,
 "nbformat_minor": 2
}
