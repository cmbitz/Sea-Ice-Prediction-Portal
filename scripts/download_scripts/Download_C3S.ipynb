{
 "cells": [
  {
   "cell_type": "code",
   "execution_count": 11,
   "metadata": {},
   "outputs": [
    {
     "data": {
      "text/plain": [
       "'\\nDownload models with sea ice forecasts from the Climate Data Service\\n\\nhttps://cds.climate.copernicus.eu/\\n\\n'"
      ]
     },
     "execution_count": 11,
     "metadata": {},
     "output_type": "execute_result"
    }
   ],
   "source": [
    "'''\n",
    "\n",
    "This code is part of the SIPN2 project focused on improving sub-seasonal to seasonal predictions of Arctic Sea Ice. \n",
    "If you use this code for a publication or presentation, please cite the reference in the README.md on the\n",
    "main page (https://github.com/NicWayand/ESIO). \n",
    "\n",
    "Questions or comments should be addressed to nicway@uw.edu\n",
    "\n",
    "Copyright (c) 2018 Nic Wayand\n",
    "\n",
    "GNU General Public License v3.0\n",
    "\n",
    "\n",
    "'''\n",
    "import cdsapi\n",
    "import os\n",
    "import sys\n",
    "import dask\n",
    "import numpy as np\n",
    "import datetime\n",
    "import calendar\n",
    "\n",
    "'''\n",
    "Download models with sea ice forecasts from the Climate Data Service\n",
    "\n",
    "https://cds.climate.copernicus.eu/\n",
    "\n",
    "'''"
   ]
  },
  {
   "cell_type": "code",
   "execution_count": 3,
   "metadata": {},
   "outputs": [
    {
     "ename": "ValueError",
     "evalue": "invalid literal for int() with base 10: '-f'",
     "output_type": "error",
     "traceback": [
      "\u001b[0;31m---------------------------------------------------------------------------\u001b[0m",
      "\u001b[0;31mValueError\u001b[0m                                Traceback (most recent call last)",
      "\u001b[0;32m<ipython-input-3-c3695ba30181>\u001b[0m in \u001b[0;36m<module>\u001b[0;34m()\u001b[0m\n\u001b[1;32m     12\u001b[0m     \u001b[0mmonths\u001b[0m \u001b[0;34m=\u001b[0m \u001b[0mcd\u001b[0m\u001b[0;34m.\u001b[0m\u001b[0mmonth\u001b[0m\u001b[0;34m\u001b[0m\u001b[0m\n\u001b[1;32m     13\u001b[0m \u001b[0;32melse\u001b[0m\u001b[0;34m:\u001b[0m\u001b[0;34m\u001b[0m\u001b[0m\n\u001b[0;32m---> 14\u001b[0;31m     \u001b[0myear_range_in\u001b[0m \u001b[0;34m=\u001b[0m \u001b[0mlist\u001b[0m\u001b[0;34m(\u001b[0m\u001b[0mmap\u001b[0m\u001b[0;34m(\u001b[0m\u001b[0mint\u001b[0m\u001b[0;34m,\u001b[0m \u001b[0msys\u001b[0m\u001b[0;34m.\u001b[0m\u001b[0margv\u001b[0m\u001b[0;34m[\u001b[0m\u001b[0;36m1\u001b[0m\u001b[0;34m]\u001b[0m\u001b[0;34m.\u001b[0m\u001b[0mstrip\u001b[0m\u001b[0;34m(\u001b[0m\u001b[0;34m'[]'\u001b[0m\u001b[0;34m)\u001b[0m\u001b[0;34m.\u001b[0m\u001b[0msplit\u001b[0m\u001b[0;34m(\u001b[0m\u001b[0;34m','\u001b[0m\u001b[0;34m)\u001b[0m\u001b[0;34m)\u001b[0m\u001b[0;34m)\u001b[0m\u001b[0;34m\u001b[0m\u001b[0m\n\u001b[0m\u001b[1;32m     15\u001b[0m     \u001b[0mmonth_range_in\u001b[0m \u001b[0;34m=\u001b[0m \u001b[0mlist\u001b[0m\u001b[0;34m(\u001b[0m\u001b[0mmap\u001b[0m\u001b[0;34m(\u001b[0m\u001b[0mint\u001b[0m\u001b[0;34m,\u001b[0m \u001b[0msys\u001b[0m\u001b[0;34m.\u001b[0m\u001b[0margv\u001b[0m\u001b[0;34m[\u001b[0m\u001b[0;36m2\u001b[0m\u001b[0;34m]\u001b[0m\u001b[0;34m.\u001b[0m\u001b[0mstrip\u001b[0m\u001b[0;34m(\u001b[0m\u001b[0;34m'[]'\u001b[0m\u001b[0;34m)\u001b[0m\u001b[0;34m.\u001b[0m\u001b[0msplit\u001b[0m\u001b[0;34m(\u001b[0m\u001b[0;34m','\u001b[0m\u001b[0;34m)\u001b[0m\u001b[0;34m)\u001b[0m\u001b[0;34m)\u001b[0m\u001b[0;34m\u001b[0m\u001b[0m\n\u001b[1;32m     16\u001b[0m     \u001b[0;32mif\u001b[0m \u001b[0;34m(\u001b[0m\u001b[0mlen\u001b[0m\u001b[0;34m(\u001b[0m\u001b[0myear_range_in\u001b[0m\u001b[0;34m)\u001b[0m\u001b[0;34m!=\u001b[0m\u001b[0;36m2\u001b[0m\u001b[0;34m)\u001b[0m \u001b[0;34m|\u001b[0m \u001b[0;34m(\u001b[0m\u001b[0mlen\u001b[0m\u001b[0;34m(\u001b[0m\u001b[0mmonth_range_in\u001b[0m\u001b[0;34m)\u001b[0m\u001b[0;34m!=\u001b[0m\u001b[0;36m2\u001b[0m\u001b[0;34m)\u001b[0m\u001b[0;34m:\u001b[0m\u001b[0;34m\u001b[0m\u001b[0m\n",
      "\u001b[0;31mValueError\u001b[0m: invalid literal for int() with base 10: '-f'"
     ]
    }
   ],
   "source": [
    "# do not run this part when from Jupyter notebook, instead run next cell\n",
    "\n",
    "# Check user defined configuraiton file\n",
    "if len(sys.argv) < 2:\n",
    "    raise ValueError('Requires either one arguments [recent] \\n or two [start_year, end_yaer] [start_month, end_month] (inclusive) ')\n",
    "\n",
    "# Get name of configuration file/module\n",
    "timeperiod = sys.argv[1]\n",
    "if timeperiod=='recent':\n",
    "    cd = datetime.datetime.now()\n",
    "    years = cd.year\n",
    "    months = cd.month\n",
    "else:\n",
    "    year_range_in = list(map(int, sys.argv[1].strip('[]').split(',')))\n",
    "    month_range_in = list(map(int, sys.argv[2].strip('[]').split(',')))\n",
    "    if (len(year_range_in)!=2) | (len(month_range_in)!=2):\n",
    "        raise ValueError('Year range and month range must be two values (inclusive)')\n",
    "    years = np.arange(year_range_in[0], year_range_in[1]+1, 1)\n",
    "    months = np.arange(month_range_in[0], month_range_in[1]+1, 1)\n",
    "    assert np.all(months>=0), 'months must be >=0'\n",
    "    assert np.all(months<=12), 'months must be <=12'"
   ]
  },
  {
   "cell_type": "code",
   "execution_count": 59,
   "metadata": {},
   "outputs": [
    {
     "name": "stdout",
     "output_type": "stream",
     "text": [
      "2019-11-28 17:49:06.291558 2019 11\n"
     ]
    }
   ],
   "source": [
    "# Testing\n",
    "#years = 2004\n",
    "#years=np.arange(2000,2019,1)\n",
    "#months = np.arange(1,7,1)\n",
    "\n",
    "# OR MOST RECENT\n",
    "#cd = datetime.datetime.now()\n",
    "#years = cd.year\n",
    "#months = cd.month\n",
    "print(cd, years, months)\n"
   ]
  },
  {
   "cell_type": "code",
   "execution_count": 13,
   "metadata": {},
   "outputs": [],
   "source": [
    "@dask.delayed\n",
    "def download_month(datatype,config_dict,target):\n",
    "    # Start server\n",
    "    cserver = cdsapi.Client()\n",
    "    print(\"Requesting data with datatype \",datatype)\n",
    "    print(\"configuration \",config_dict)\n",
    "    print(\"and target \",target)\n",
    "    cserver.retrieve(datatype,config_dict,target)\n",
    "    return 1\n"
   ]
  },
  {
   "cell_type": "code",
   "execution_count": 14,
   "metadata": {},
   "outputs": [],
   "source": [
    "main_dir = '/home/disk/sipn/nicway/data/model'"
   ]
  },
  {
   "cell_type": "code",
   "execution_count": 85,
   "metadata": {},
   "outputs": [],
   "source": [
    "# Templet dicts for each model\n",
    "### ukmetoffice is upgrading to system 14 at the moment only some months are done for retrospective\n",
    "# so get system 13 and 14 both\n",
    "# reforecast ukmetoffice only made on 01, 09, 17, 25\n",
    "\n",
    "# Init it\n",
    "mod_dicts = {}\n",
    "\n",
    "mod_dicts['ecmwfsipn']  =    {'format':'grib',\n",
    "     'originating_centre':'ecmwf',\n",
    "     'system':'5',\n",
    "     'variable':'sea_ice_cover',\n",
    "     'year':'placeholder',\n",
    "     'month':'placeholder',\n",
    "     'day':'01',\n",
    "     'leadtime_hour':['24','48','72',\n",
    "            '96','120','144',\n",
    "            '168','192','216',\n",
    "            '240','264','288',\n",
    "            '312','336','360',\n",
    "            '384','408','432',\n",
    "            '456','480','504',\n",
    "            '528','552','576',\n",
    "            '600','624','648',\n",
    "            '672','696','720',\n",
    "            '744','768','792',\n",
    "            '816','840','864',\n",
    "            '888','912','936',\n",
    "            '960','984','1008',\n",
    "            '1032','1056','1080',\n",
    "            '1104','1128','1152',\n",
    "            '1176','1200','1224',\n",
    "            '1248','1272','1296',\n",
    "            '1320','1344','1368',\n",
    "            '1392','1416','1440',\n",
    "            '1464','1488','1512',\n",
    "            '1536','1560','1584',\n",
    "            '1608','1632','1656',\n",
    "            '1680','1704','1728',\n",
    "            '1752','1776','1800',\n",
    "            '1824','1848','1872',\n",
    "            '1896','1920','1944',\n",
    "            '1968','1992','2016',\n",
    "            '2040','2064','2088',\n",
    "            '2112','2136','2160',\n",
    "            '2184','2208','2232',\n",
    "            '2256','2280','2304',\n",
    "            '2328','2352','2376',\n",
    "            '2400','2424','2448',\n",
    "            '2472','2496','2520',\n",
    "            '2544','2568','2592',\n",
    "            '2616','2640','2664',\n",
    "            '2688','2712','2736',\n",
    "            '2760','2784','2808',\n",
    "            '2832','2856','2880',\n",
    "            '2904','2928','2952',\n",
    "            '2976','3000','3024',\n",
    "            '3048','3072','3096',\n",
    "            '3120','3144','3168',\n",
    "            '3192','3216','3240',\n",
    "            '3264','3288','3312',\n",
    "            '3336','3360','3384',\n",
    "            '3408','3432','3456',\n",
    "            '3480','3504','3528',\n",
    "            '3552','3576','3600',\n",
    "            '3624','3648','3672',\n",
    "            '3696','3720','3744',\n",
    "            '3768','3792','3816',\n",
    "            '3840','3864','3888',\n",
    "            '3912','3936','3960',\n",
    "            '3984','4008','4032',\n",
    "            '4056','4080','4104',\n",
    "            '4128','4152','4176',\n",
    "            '4200','4224','4248',\n",
    "            '4272','4296','4320',\n",
    "            '4344','4368','4392',\n",
    "            '4416','4440','4464',\n",
    "            '4488','4512','4536',\n",
    "            '4560','4584','4608',\n",
    "            '4632','4656','4680',\n",
    "            '4704','4728','4752',\n",
    "            '4776','4800','4824',\n",
    "            '4848','4872','4896',\n",
    "            '4920','4944','4968',\n",
    "            '4992','5016','5040',\n",
    "            '5064','5088','5112',\n",
    "            '5136','5160'],\n",
    "             'format':'grib'      }\n",
    "\n",
    "# ukmetofficesipn only provides 01 until much later, not sure when the the rest\n",
    "# of the days become available but for sure by the 20th\n",
    "# so get only 01 for the first and then go back and get previous month for \n",
    "# the whole set\n",
    "\n",
    "mod_dicts['ukmetofficesipn']  =    {'format':'grib',\n",
    "     'originating_centre':'ukmo',\n",
    "     'system':'14',\n",
    "     'variable':'sea_ice_cover',\n",
    "     'year':'placeholder',\n",
    "     'month':'placeholder',\n",
    "     'day':['01','02','03','04','05','06','07','08','09','10','11','12','13','14','15','16','17','18','19','20','21','22','23','24','25','26','27','28','29','30','31'],\n",
    "\n",
    "     'leadtime_hour':['24','48','72','96','120','144','168','192','216','240','264','288','312','336','360','384','408','432','456','480','504','528','552','576','600','624','648','672','696','720','744','768','792','816','840','864','888','912','936','960','984','1008','1032','1056','1080','1104','1128','1152','1176','1200','1224','1248','1272','1296','1320','1344','1368','1392','1416','1440','1464','1488','1512','1536','1560','1584','1608','1632','1656','1680','1704','1728','1752','1776','1800','1824','1848','1872','1896','1920','1944','1968','1992','2016','2040','2064','2088','2112','2136','2160','2184','2208','2232','2256','2280','2304','2328','2352','2376','2400','2424','2448','2472','2496','2520','2544','2568','2592','2616','2640','2664','2688','2712','2736','2760','2784','2808','2832','2856','2880','2904','2928','2952','2976','3000','3024','3048','3072','3096','3120','3144','3168','3192','3216','3240','3264','3288','3312','3336','3360','3384','3408','3432','3456','3480','3504','3528','3552','3576','3600','3624','3648','3672','3696','3720','3744','3768','3792','3816','3840','3864','3888','3912','3936','3960','3984','4008','4032','4056','4080','4104','4128','4152','4176','4200','4224','4248','4272','4296','4320','4344','4368','4392','4416','4440','4464','4488','4512','4536','4560','4584','4608','4632','4656','4680','4704','4728','4752','4776','4800','4824','4848','4872','4896','4920','4944','4968','4992','5016','5040','5064','5088','5112','5136','5160'],\n",
    "             'format':'grib'      }\n",
    "\n",
    "\n",
    "mod_dicts['meteofrsipn']  =    {'format':'grib',\n",
    "     'originating_centre':'meteo_france',\n",
    "     'system':'',\n",
    "     'variable':'sea_ice_cover',\n",
    "     'year':'placeholder',\n",
    "     'month':'placeholder',\n",
    "     'day':'01',\n",
    "     'leadtime_hour':['24','48','72',\n",
    "            '96','120','144',\n",
    "            '168','192','216',\n",
    "            '240','264','288',\n",
    "            '312','336','360',\n",
    "            '384','408','432',\n",
    "            '456','480','504',\n",
    "            '528','552','576',\n",
    "            '600','624','648',\n",
    "            '672','696','720',\n",
    "            '744','768','792',\n",
    "            '816','840','864',\n",
    "            '888','912','936',\n",
    "            '960','984','1008',\n",
    "            '1032','1056','1080',\n",
    "            '1104','1128','1152',\n",
    "            '1176','1200','1224',\n",
    "            '1248','1272','1296',\n",
    "            '1320','1344','1368',\n",
    "            '1392','1416','1440',\n",
    "            '1464','1488','1512',\n",
    "            '1536','1560','1584',\n",
    "            '1608','1632','1656',\n",
    "            '1680','1704','1728',\n",
    "            '1752','1776','1800',\n",
    "            '1824','1848','1872',\n",
    "            '1896','1920','1944',\n",
    "            '1968','1992','2016',\n",
    "            '2040','2064','2088',\n",
    "            '2112','2136','2160',\n",
    "            '2184','2208','2232',\n",
    "            '2256','2280','2304',\n",
    "            '2328','2352','2376',\n",
    "            '2400','2424','2448',\n",
    "            '2472','2496','2520',\n",
    "            '2544','2568','2592',\n",
    "            '2616','2640','2664',\n",
    "            '2688','2712','2736',\n",
    "            '2760','2784','2808',\n",
    "            '2832','2856','2880',\n",
    "            '2904','2928','2952',\n",
    "            '2976','3000','3024',\n",
    "            '3048','3072','3096',\n",
    "            '3120','3144','3168',\n",
    "            '3192','3216','3240',\n",
    "            '3264','3288','3312',\n",
    "            '3336','3360','3384',\n",
    "            '3408','3432','3456',\n",
    "            '3480','3504','3528',\n",
    "            '3552','3576','3600',\n",
    "            '3624','3648','3672',\n",
    "            '3696','3720','3744',\n",
    "            '3768','3792','3816',\n",
    "            '3840','3864','3888',\n",
    "            '3912','3936','3960',\n",
    "            '3984','4008','4032',\n",
    "            '4056','4080','4104',\n",
    "            '4128','4152','4176',\n",
    "            '4200','4224','4248',\n",
    "            '4272','4296','4320',\n",
    "            '4344','4368','4392',\n",
    "            '4416','4440','4464',\n",
    "            '4488','4512','4536',\n",
    "            '4560','4584','4608',\n",
    "            '4632','4656','4680',\n",
    "            '4704','4728','4752',\n",
    "            '4776','4800','4824',\n",
    "            '4848','4872','4896',\n",
    "            '4920','4944','4968',\n",
    "            '4992','5016','5040',\n",
    "            '5064'\n",
    "        ]\n",
    " \n",
    "                               \n",
    "}\n"
   ]
  },
  {
   "cell_type": "code",
   "execution_count": 88,
   "metadata": {},
   "outputs": [
    {
     "name": "stdout",
     "output_type": "stream",
     "text": [
      "01\n"
     ]
    }
   ],
   "source": [
    "# check if this month, if so then get just day 01\n",
    "if ((months==cd.month) and (years==cd.year)):\n",
    "    mod_dicts['ukmetofficesipn']['day'] = '01'\n"
   ]
  },
  {
   "cell_type": "code",
   "execution_count": null,
   "metadata": {},
   "outputs": [],
   "source": []
  },
  {
   "cell_type": "code",
   "execution_count": 89,
   "metadata": {},
   "outputs": [
    {
     "name": "stderr",
     "output_type": "stream",
     "text": [
      "2019-11-28 18:05:11,268 INFO Sending request to https://cds.climate.copernicus.eu/api/v2/resources/seasonal-original-single-levels\n"
     ]
    },
    {
     "name": "stdout",
     "output_type": "stream",
     "text": [
      "Requesting data with datatype  seasonal-original-single-levels\n",
      "configuration  {'format': 'grib', 'originating_centre': 'ukmo', 'system': '14', 'variable': 'sea_ice_cover', 'year': '2019', 'month': '10', 'day': ['01', '02', '03', '04', '05', '06', '07', '08', '09', '10', '11', '12', '13', '14', '15', '16', '17', '18', '19', '20', '21', '22', '23', '24', '25', '26', '27', '28', '29', '30', '31'], 'leadtime_hour': ['24', '48', '72', '96', '120', '144', '168', '192', '216', '240', '264', '288', '312', '336', '360', '384', '408', '432', '456', '480', '504', '528', '552', '576', '600', '624', '648', '672', '696', '720', '744', '768', '792', '816', '840', '864', '888', '912', '936', '960', '984', '1008', '1032', '1056', '1080', '1104', '1128', '1152', '1176', '1200', '1224', '1248', '1272', '1296', '1320', '1344', '1368', '1392', '1416', '1440', '1464', '1488', '1512', '1536', '1560', '1584', '1608', '1632', '1656', '1680', '1704', '1728', '1752', '1776', '1800', '1824', '1848', '1872', '1896', '1920', '1944', '1968', '1992', '2016', '2040', '2064', '2088', '2112', '2136', '2160', '2184', '2208', '2232', '2256', '2280', '2304', '2328', '2352', '2376', '2400', '2424', '2448', '2472', '2496', '2520', '2544', '2568', '2592', '2616', '2640', '2664', '2688', '2712', '2736', '2760', '2784', '2808', '2832', '2856', '2880', '2904', '2928', '2952', '2976', '3000', '3024', '3048', '3072', '3096', '3120', '3144', '3168', '3192', '3216', '3240', '3264', '3288', '3312', '3336', '3360', '3384', '3408', '3432', '3456', '3480', '3504', '3528', '3552', '3576', '3600', '3624', '3648', '3672', '3696', '3720', '3744', '3768', '3792', '3816', '3840', '3864', '3888', '3912', '3936', '3960', '3984', '4008', '4032', '4056', '4080', '4104', '4128', '4152', '4176', '4200', '4224', '4248', '4272', '4296', '4320', '4344', '4368', '4392', '4416', '4440', '4464', '4488', '4512', '4536', '4560', '4584', '4608', '4632', '4656', '4680', '4704', '4728', '4752', '4776', '4800', '4824', '4848', '4872', '4896', '4920', '4944', '4968', '4992', '5016', '5040', '5064', '5088', '5112', '5136', '5160']}\n",
      "and target  /home/disk/sipn/nicway/data/model/ukmetofficesipn/forecast/native/ukmetofficesipn_2019_10.grib\n"
     ]
    },
    {
     "name": "stderr",
     "output_type": "stream",
     "text": [
      "2019-11-28 18:05:13,415 INFO Request is completed\n",
      "2019-11-28 18:05:13,417 INFO Downloading http://136.156.133.37/cache-compute-0011/cache/data6/adaptor.mars.external-1574991601.7245677-28456-16-110ac8b5-b402-48f8-b417-05fb3bcc5d4d.grib to /home/disk/sipn/nicway/data/model/ukmetofficesipn/forecast/native/ukmetofficesipn_2019_10.grib (1.3G)\n",
      "2019-11-28 18:06:42,855 INFO Download rate 14.3M/s\n"
     ]
    },
    {
     "data": {
      "text/plain": [
       "1"
      ]
     },
     "execution_count": 89,
     "metadata": {},
     "output_type": "execute_result"
    }
   ],
   "source": [
    "datatype='seasonal-original-single-levels'\n",
    "run_type='forecast'\n",
    "X=1\n",
    "\n",
    "monthstr = np.char.mod('%02d', months).tolist()\n",
    "\n",
    "for cmod in mod_dicts.keys():\n",
    "    cdict = mod_dicts[cmod]\n",
    "    cdict['year'] = str(years)\n",
    "    cdict['month'] = monthstr\n",
    "\n",
    "    target = os.path.join(main_dir, cmod, run_type,'native',\n",
    "                  cmod+'_'+str(years)+'_'+monthstr+'.grib')\n",
    "\n",
    "    X = X + download_month(datatype,cdict,target)\n",
    "\n",
    "\n",
    "# check if this month and if so get ukmet for previous months all days too\n",
    "if ((months==cd.month) and (years==cd.year)):\n",
    "    cmod = 'ukmetofficesipn'\n",
    "    mod_dicts[cmod]['day'] = ['01','02','03','04','05','06','07','08','09','10','11','12','13','14','15','16','17','18','19','20','21','22','23','24','25','26','27','28','29','30','31']\n",
    "    months = months-1\n",
    "    if months == 0:\n",
    "        months = 12\n",
    "        years = years -1\n",
    "    monthstr = np.char.mod('%02d', months).tolist()\n",
    "    cy=str(years)\n",
    "\n",
    "    cdict = mod_dicts[cmod]\n",
    "    cdict['year'] = str(years)\n",
    "    cdict['month'] = monthstr\n",
    "\n",
    "    target = os.path.join(main_dir, cmod, run_type,'native',\n",
    "                  cmod+'_'+str(years)+'_'+monthstr+'.grib')\n",
    "\n",
    "    X = X + download_month(datatype,cdict,target)\n",
    "    \n",
    "X.compute()"
   ]
  },
  {
   "cell_type": "code",
   "execution_count": 91,
   "metadata": {},
   "outputs": [
    {
     "data": {
      "text/plain": [
       "Delayed('download_month-97920b88-c58f-408b-adc3-1715875bc7b7')"
      ]
     },
     "execution_count": 91,
     "metadata": {},
     "output_type": "execute_result"
    }
   ],
   "source": []
  },
  {
   "cell_type": "code",
   "execution_count": null,
   "metadata": {},
   "outputs": [],
   "source": []
  }
 ],
 "metadata": {
  "kernelspec": {
   "display_name": "Python 3",
   "language": "python",
   "name": "python3"
  },
  "language_info": {
   "codemirror_mode": {
    "name": "ipython",
    "version": 3
   },
   "file_extension": ".py",
   "mimetype": "text/x-python",
   "name": "python",
   "nbconvert_exporter": "python",
   "pygments_lexer": "ipython3",
   "version": "3.6.4"
  }
 },
 "nbformat": 4,
 "nbformat_minor": 2
}
