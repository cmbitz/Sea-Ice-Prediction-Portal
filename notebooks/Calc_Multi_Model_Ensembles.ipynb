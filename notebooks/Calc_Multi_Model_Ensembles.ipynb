{
 "cells": [
  {
   "cell_type": "code",
   "execution_count": null,
   "metadata": {},
   "outputs": [],
   "source": [
    "'''\n",
    "\n",
    "This code is part of the SIPN2 project focused on improving sub-seasonal to seasonal predictions of Arctic Sea Ice. \n",
    "If you use this code for a publication or presentation, please cite the reference in the README.md on the\n",
    "main page (https://github.com/NicWayand/ESIO). \n",
    "\n",
    "Questions or comments should be addressed to nicway@uw.edu\n",
    "\n",
    "Copyright (c) 2018 Nic Wayand \n",
    "\n",
    "GNU General Public License v3.0\n",
    "\n",
    "\n",
    "'''\n"
   ]
  },
  {
   "cell_type": "code",
   "execution_count": null,
   "metadata": {},
   "outputs": [],
   "source": [
    "# Standard Imports\n",
    "%matplotlib inline\n",
    "%load_ext autoreload\n",
    "%autoreload\n",
    "import matplotlib\n",
    "import scipy\n",
    "import matplotlib.pyplot as plt\n",
    "import datetime\n",
    "import cartopy.crs as ccrs\n",
    "from cartopy.mpl.gridliner import LONGITUDE_FORMATTER, LATITUDE_FORMATTER\n",
    "import numpy as np\n",
    "import pandas as pd\n",
    "import xarray as xr\n",
    "import xesmf as xe\n",
    "import os\n",
    "import re\n",
    "import glob\n",
    "import seaborn as sns\n",
    "import warnings\n",
    "warnings.simplefilter(action='ignore', category=FutureWarning)\n",
    "\n",
    "import dask\n",
    "# dask.set_options(get=dask.threaded.get)\n",
    "\n",
    "from dask.distributed import Client\n",
    "client = Client()\n",
    "\n",
    "# ESIO Imports\n",
    "\n",
    "from esio import EsioData as ed"
   ]
  },
  {
   "cell_type": "code",
   "execution_count": null,
   "metadata": {},
   "outputs": [],
   "source": [
    "client"
   ]
  },
  {
   "cell_type": "code",
   "execution_count": null,
   "metadata": {
    "collapsed": true
   },
   "outputs": [],
   "source": [
    "# General plotting settings\n",
    "sns.set_style('whitegrid')\n",
    "sns.set_context(\"talk\", font_scale=1.5, rc={\"lines.linewidth\": 2.5})"
   ]
  },
  {
   "cell_type": "code",
   "execution_count": null,
   "metadata": {
    "collapsed": true
   },
   "outputs": [],
   "source": [
    "E = ed.EsioData.load()\n",
    "model_dir = E.model_dir\n",
    "# Directories\n",
    "# Define models to plot\n",
    "all_models = list(E.model.keys())\n",
    "all_models = [x for x in all_models if x!='piomas'] # remove some models\n",
    "# all_models = ['cma']\n",
    "runType='forecast'\n",
    "updateall = False\n",
    "data_vars = ['sic']"
   ]
  },
  {
   "cell_type": "code",
   "execution_count": null,
   "metadata": {},
   "outputs": [],
   "source": []
  },
  {
   "cell_type": "code",
   "execution_count": null,
   "metadata": {
    "collapsed": true
   },
   "outputs": [],
   "source": [
    "ds_region = xr.open_mfdataset(os.path.join(E.grid_dir, 'sio_2016_mask_Update.nc'))"
   ]
  },
  {
   "cell_type": "code",
   "execution_count": null,
   "metadata": {},
   "outputs": [],
   "source": [
    "# output dir\n",
    "data_out = os.path.join(model_dir, 'MME', runType, 'sipn_nc')\n",
    "if not os.path.exists(data_out):\n",
    "    os.makedirs(data_out)"
   ]
  },
  {
   "cell_type": "code",
   "execution_count": null,
   "metadata": {},
   "outputs": [],
   "source": [
    "# First loop through all models and lazily open them\n",
    "mod_l = []\n",
    "cen = 0 # Current ensemble number\n",
    "for model in all_models:\n",
    "    if model=='MME':\n",
    "        continue\n",
    "    print(model)\n",
    "    \n",
    "    data_dir = E.model[model][runType]['sipn_nc']\n",
    "    all_files = glob.glob(os.path.join(data_dir, '*.nc'))\n",
    "    \n",
    "    # Check for any files\n",
    "    if not all_files:\n",
    "        continue\n",
    "        \n",
    "    # Remove any \"empty\" files (sometimes happends with ecmwf downloads)\n",
    "    all_files_new = []\n",
    "    for cf in all_files:\n",
    "        if os.stat(cf).st_size > 0:\n",
    "            all_files_new.append(cf)\n",
    "    all_files = sorted(all_files_new) # Replace and sort\n",
    "\n",
    "\n",
    "    ds = xr.open_mfdataset(all_files , concat_dim='init_time', \n",
    "                           chunks={'fore_time':10, 'ensemble': 5, 'init_time': 10, 'nj': 304, 'ni': 448},\n",
    "                          autoclose=True,\n",
    "                          parallel=True) \n",
    "\n",
    "    # Update ensemble number\n",
    "    ds.coords['ensemble'] = np.arange(cen,cen+ds.ensemble.size)\n",
    "    cen = cen + ds.ensemble.size\n",
    "    \n",
    "    # Grab stuff\n",
    "    ds = ds[data_vars]\n",
    "    \n",
    "    # Drop stuff\n",
    "    if 'valid_time' in ds.coords:\n",
    "        ds = ds.drop(['valid_time'])\n",
    "        \n",
    "    print(ds.init_time.values[0], ds.init_time.values[-1])\n",
    "            \n",
    "    ds.coords['model'] = model\n",
    "    mod_l.append(ds)"
   ]
  },
  {
   "cell_type": "code",
   "execution_count": null,
   "metadata": {},
   "outputs": [],
   "source": []
  },
  {
   "cell_type": "code",
   "execution_count": null,
   "metadata": {},
   "outputs": [],
   "source": []
  },
  {
   "cell_type": "code",
   "execution_count": null,
   "metadata": {},
   "outputs": [],
   "source": [
    "# Concat data by model\n",
    "ds_all = xr.concat(mod_l, dim='ensemble')"
   ]
  },
  {
   "cell_type": "code",
   "execution_count": null,
   "metadata": {},
   "outputs": [],
   "source": [
    "ds_all"
   ]
  },
  {
   "cell_type": "code",
   "execution_count": null,
   "metadata": {},
   "outputs": [],
   "source": [
    "# Simple multi-model mean\n",
    "ds_mme = ds_all.mean(dim='ensemble')"
   ]
  },
  {
   "cell_type": "code",
   "execution_count": null,
   "metadata": {},
   "outputs": [],
   "source": [
    "# Expand dims\n",
    "ds_mme = import_data.expand_to_sipn_dims(ds_mme)"
   ]
  },
  {
   "cell_type": "code",
   "execution_count": null,
   "metadata": {},
   "outputs": [],
   "source": [
    "# Compute\n",
    "ds_mme.compute()"
   ]
  },
  {
   "cell_type": "code",
   "execution_count": null,
   "metadata": {},
   "outputs": [],
   "source": [
    "# Write out\n",
    "ds_mme.to_netcdf(os.path.join(data_out, 'MME.nc'))"
   ]
  },
  {
   "cell_type": "code",
   "execution_count": null,
   "metadata": {},
   "outputs": [],
   "source": []
  },
  {
   "cell_type": "code",
   "execution_count": null,
   "metadata": {},
   "outputs": [],
   "source": []
  },
  {
   "cell_type": "code",
   "execution_count": null,
   "metadata": {},
   "outputs": [],
   "source": []
  },
  {
   "cell_type": "code",
   "execution_count": null,
   "metadata": {},
   "outputs": [],
   "source": []
  },
  {
   "cell_type": "code",
   "execution_count": null,
   "metadata": {},
   "outputs": [],
   "source": []
  },
  {
   "cell_type": "code",
   "execution_count": null,
   "metadata": {},
   "outputs": [],
   "source": []
  }
 ],
 "metadata": {
  "kernelspec": {
   "display_name": "3.6.4 esio",
   "language": "python",
   "name": "esio"
  },
  "language_info": {
   "codemirror_mode": {
    "name": "ipython",
    "version": 3
   },
   "file_extension": ".py",
   "mimetype": "text/x-python",
   "name": "python",
   "nbconvert_exporter": "python",
   "pygments_lexer": "ipython3",
   "version": "3.6.4"
  }
 },
 "nbformat": 4,
 "nbformat_minor": 2
}
