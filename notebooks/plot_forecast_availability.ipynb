{
 "cells": [
  {
   "cell_type": "code",
   "execution_count": 1,
   "metadata": {},
   "outputs": [
    {
     "name": "stderr",
     "output_type": "stream",
     "text": [
      "/home/disk/sipn/nicway/anaconda3/envs/esio/lib/python3.6/site-packages/ipykernel_launcher.py:24: UserWarning: \n",
      "This call to matplotlib.use() has no effect because the backend has already\n",
      "been chosen; matplotlib.use() must be called *before* pylab, matplotlib.pyplot,\n",
      "or matplotlib.backends is imported for the first time.\n",
      "\n",
      "The backend was *originally* set to 'module://ipykernel.pylab.backend_inline' by the following code:\n",
      "  File \"/home/disk/sipn/nicway/anaconda3/envs/esio/lib/python3.6/runpy.py\", line 193, in _run_module_as_main\n",
      "    \"__main__\", mod_spec)\n",
      "  File \"/home/disk/sipn/nicway/anaconda3/envs/esio/lib/python3.6/runpy.py\", line 85, in _run_code\n",
      "    exec(code, run_globals)\n",
      "  File \"/home/disk/sipn/nicway/anaconda3/envs/esio/lib/python3.6/site-packages/ipykernel_launcher.py\", line 16, in <module>\n",
      "    app.launch_new_instance()\n",
      "  File \"/home/disk/sipn/nicway/anaconda3/envs/esio/lib/python3.6/site-packages/traitlets/config/application.py\", line 658, in launch_instance\n",
      "    app.start()\n",
      "  File \"/home/disk/sipn/nicway/anaconda3/envs/esio/lib/python3.6/site-packages/ipykernel/kernelapp.py\", line 486, in start\n",
      "    self.io_loop.start()\n",
      "  File \"/home/disk/sipn/nicway/anaconda3/envs/esio/lib/python3.6/site-packages/tornado/platform/asyncio.py\", line 127, in start\n",
      "    self.asyncio_loop.run_forever()\n",
      "  File \"/home/disk/sipn/nicway/anaconda3/envs/esio/lib/python3.6/asyncio/base_events.py\", line 421, in run_forever\n",
      "    self._run_once()\n",
      "  File \"/home/disk/sipn/nicway/anaconda3/envs/esio/lib/python3.6/asyncio/base_events.py\", line 1431, in _run_once\n",
      "    handle._run()\n",
      "  File \"/home/disk/sipn/nicway/anaconda3/envs/esio/lib/python3.6/asyncio/events.py\", line 145, in _run\n",
      "    self._callback(*self._args)\n",
      "  File \"/home/disk/sipn/nicway/anaconda3/envs/esio/lib/python3.6/site-packages/tornado/platform/asyncio.py\", line 117, in _handle_events\n",
      "    handler_func(fileobj, events)\n",
      "  File \"/home/disk/sipn/nicway/anaconda3/envs/esio/lib/python3.6/site-packages/tornado/stack_context.py\", line 276, in null_wrapper\n",
      "    return fn(*args, **kwargs)\n",
      "  File \"/home/disk/sipn/nicway/anaconda3/envs/esio/lib/python3.6/site-packages/zmq/eventloop/zmqstream.py\", line 450, in _handle_events\n",
      "    self._handle_recv()\n",
      "  File \"/home/disk/sipn/nicway/anaconda3/envs/esio/lib/python3.6/site-packages/zmq/eventloop/zmqstream.py\", line 480, in _handle_recv\n",
      "    self._run_callback(callback, msg)\n",
      "  File \"/home/disk/sipn/nicway/anaconda3/envs/esio/lib/python3.6/site-packages/zmq/eventloop/zmqstream.py\", line 432, in _run_callback\n",
      "    callback(*args, **kwargs)\n",
      "  File \"/home/disk/sipn/nicway/anaconda3/envs/esio/lib/python3.6/site-packages/tornado/stack_context.py\", line 276, in null_wrapper\n",
      "    return fn(*args, **kwargs)\n",
      "  File \"/home/disk/sipn/nicway/anaconda3/envs/esio/lib/python3.6/site-packages/ipykernel/kernelbase.py\", line 283, in dispatcher\n",
      "    return self.dispatch_shell(stream, msg)\n",
      "  File \"/home/disk/sipn/nicway/anaconda3/envs/esio/lib/python3.6/site-packages/ipykernel/kernelbase.py\", line 233, in dispatch_shell\n",
      "    handler(stream, idents, msg)\n",
      "  File \"/home/disk/sipn/nicway/anaconda3/envs/esio/lib/python3.6/site-packages/ipykernel/kernelbase.py\", line 399, in execute_request\n",
      "    user_expressions, allow_stdin)\n",
      "  File \"/home/disk/sipn/nicway/anaconda3/envs/esio/lib/python3.6/site-packages/ipykernel/ipkernel.py\", line 208, in do_execute\n",
      "    res = shell.run_cell(code, store_history=store_history, silent=silent)\n",
      "  File \"/home/disk/sipn/nicway/anaconda3/envs/esio/lib/python3.6/site-packages/ipykernel/zmqshell.py\", line 537, in run_cell\n",
      "    return super(ZMQInteractiveShell, self).run_cell(*args, **kwargs)\n",
      "  File \"/home/disk/sipn/nicway/anaconda3/envs/esio/lib/python3.6/site-packages/IPython/core/interactiveshell.py\", line 2728, in run_cell\n",
      "    interactivity=interactivity, compiler=compiler, result=result)\n",
      "  File \"/home/disk/sipn/nicway/anaconda3/envs/esio/lib/python3.6/site-packages/IPython/core/interactiveshell.py\", line 2850, in run_ast_nodes\n",
      "    if self.run_code(code, result):\n",
      "  File \"/home/disk/sipn/nicway/anaconda3/envs/esio/lib/python3.6/site-packages/IPython/core/interactiveshell.py\", line 2910, in run_code\n",
      "    exec(code_obj, self.user_global_ns, self.user_ns)\n",
      "  File \"<ipython-input-1-3d2581344bc7>\", line 20, in <module>\n",
      "    get_ipython().run_line_magic('matplotlib', 'inline')\n",
      "  File \"/home/disk/sipn/nicway/anaconda3/envs/esio/lib/python3.6/site-packages/IPython/core/interactiveshell.py\", line 2095, in run_line_magic\n",
      "    result = fn(*args,**kwargs)\n",
      "  File \"<decorator-gen-107>\", line 2, in matplotlib\n",
      "  File \"/home/disk/sipn/nicway/anaconda3/envs/esio/lib/python3.6/site-packages/IPython/core/magic.py\", line 187, in <lambda>\n",
      "    call = lambda f, *a, **k: f(*a, **k)\n",
      "  File \"/home/disk/sipn/nicway/anaconda3/envs/esio/lib/python3.6/site-packages/IPython/core/magics/pylab.py\", line 99, in matplotlib\n",
      "    gui, backend = self.shell.enable_matplotlib(args.gui)\n",
      "  File \"/home/disk/sipn/nicway/anaconda3/envs/esio/lib/python3.6/site-packages/IPython/core/interactiveshell.py\", line 2978, in enable_matplotlib\n",
      "    pt.activate_matplotlib(backend)\n",
      "  File \"/home/disk/sipn/nicway/anaconda3/envs/esio/lib/python3.6/site-packages/IPython/core/pylabtools.py\", line 308, in activate_matplotlib\n",
      "    matplotlib.pyplot.switch_backend(backend)\n",
      "  File \"/home/disk/sipn/nicway/anaconda3/envs/esio/lib/python3.6/site-packages/matplotlib/pyplot.py\", line 231, in switch_backend\n",
      "    matplotlib.use(newbackend, warn=False, force=True)\n",
      "  File \"/home/disk/sipn/nicway/anaconda3/envs/esio/lib/python3.6/site-packages/matplotlib/__init__.py\", line 1410, in use\n",
      "    reload(sys.modules['matplotlib.backends'])\n",
      "  File \"/home/disk/sipn/nicway/anaconda3/envs/esio/lib/python3.6/importlib/__init__.py\", line 166, in reload\n",
      "    _bootstrap._exec(spec, module)\n",
      "  File \"/home/disk/sipn/nicway/anaconda3/envs/esio/lib/python3.6/site-packages/matplotlib/backends/__init__.py\", line 16, in <module>\n",
      "    line for line in traceback.format_stack()\n",
      "\n",
      "\n"
     ]
    }
   ],
   "source": [
    "'''\n",
    "\n",
    "This code is part of the SIPN2 project focused on improving sub-seasonal to seasonal predictions of Arctic Sea Ice. \n",
    "If you use this code for a publication or presentation, please cite the reference in the README.md on the\n",
    "main page (https://github.com/NicWayand/ESIO). \n",
    "\n",
    "Questions or comments should be addressed to nicway@uw.edu\n",
    "\n",
    "Copyright (c) 2018 Nic Wayand\n",
    "\n",
    "GNU General Public License v3.0\n",
    "\n",
    "\n",
    "'''\n",
    "\n",
    "'''\n",
    "Plot model forecast avaibility\n",
    "'''\n",
    "\n",
    "%matplotlib inline\n",
    "%load_ext autoreload\n",
    "%autoreload\n",
    "import matplotlib\n",
    "matplotlib.use('Agg')\n",
    "import matplotlib.pyplot as plt, mpld3\n",
    "from collections import OrderedDict\n",
    "import itertools\n",
    "import numpy as np\n",
    "import numpy.ma as ma\n",
    "import pandas as pd\n",
    "import struct\n",
    "import os\n",
    "import xarray as xr\n",
    "import glob\n",
    "import datetime\n",
    "import cartopy.crs as ccrs\n",
    "from cartopy.mpl.gridliner import LONGITUDE_FORMATTER, LATITUDE_FORMATTER\n",
    "import seaborn as sns\n",
    "\n",
    "\n",
    "from esio import EsioData as ed\n",
    "from esio import ice_plot\n",
    "\n",
    "# General plotting settings\n",
    "sns.set_style('whitegrid')\n",
    "sns.set_context(\"talk\", font_scale=1.5, rc={\"lines.linewidth\": 2.5})"
   ]
  },
  {
   "cell_type": "code",
   "execution_count": 2,
   "metadata": {},
   "outputs": [],
   "source": [
    "# Amazingly slow should be possible to simplify or improve efficiency"
   ]
  },
  {
   "cell_type": "code",
   "execution_count": 3,
   "metadata": {},
   "outputs": [],
   "source": [
    "# Define models and variables to plot\n",
    "runType = 'forecast'\n",
    "variables = ['sic']"
   ]
  },
  {
   "cell_type": "code",
   "execution_count": 4,
   "metadata": {},
   "outputs": [],
   "source": [
    "# def plot_availability(cm):\n",
    "#     f = plt.figure(figsize=(20,4))\n",
    "#     plt.title(E.model[cm.model.item()]['model_label'])\n",
    "#     plt.pcolormesh(cm.fore_time.values.astype('timedelta64[D]').astype('int'), cm.init_time,  cm.data, cmap=cmap )\n",
    "#     cbar = plt.colorbar()\n",
    "#     cbar.set_ticks([0.25, 0.75])\n",
    "#     cbar.set_ticklabels(['Not Available', 'Available'])\n",
    "#     plt.gcf().autofmt_xdate()\n",
    "#     plt.xlabel('Forecast Lead (Days)')\n",
    "#     plt.ylabel('Initialization Date')\n",
    "#     return f"
   ]
  },
  {
   "cell_type": "code",
   "execution_count": 5,
   "metadata": {},
   "outputs": [],
   "source": [
    "ctime = np.datetime64(datetime.datetime.now())\n",
    "lag_time_30days = ctime - np.timedelta64(30, 'D')\n"
   ]
  },
  {
   "cell_type": "code",
   "execution_count": 7,
   "metadata": {},
   "outputs": [],
   "source": [
    "#############################################################\n",
    "# Load in Data\n",
    "#############################################################\n",
    "E = ed.EsioData.load()\n",
    "\n",
    "cvar = 'sic'\n",
    "fig_dir = os.path.join(E.fig_dir, 'model', 'all_model', cvar)\n",
    "models_2_plot = list(E.model.keys())\n",
    "models_2_plot = [x for x in models_2_plot if x not in ['dampedAnomalyTrend','MME','MME_NEW','eccc','hcmr','isaccnr','bom','jma']] # remove some models\n"
   ]
  },
  {
   "cell_type": "code",
   "execution_count": null,
   "metadata": {},
   "outputs": [
    {
     "name": "stdout",
     "output_type": "stream",
     "text": [
      "Plotting model  gfdlsipn\n"
     ]
    },
    {
     "name": "stderr",
     "output_type": "stream",
     "text": [
      "/home/disk/sipn/nicway/anaconda3/envs/esio/lib/python3.6/site-packages/ipykernel_launcher.py:17: FutureWarning: The inplace argument has been deprecated and will be removed in xarray 0.12.0.\n"
     ]
    },
    {
     "name": "stdout",
     "output_type": "stream",
     "text": [
      "Plotting model  piomas\n",
      "Skipping model piomas no forecast files found.\n",
      "Plotting model  yopp\n"
     ]
    },
    {
     "name": "stderr",
     "output_type": "stream",
     "text": [
      "/home/disk/sipn/nicway/anaconda3/envs/esio/lib/python3.6/site-packages/ipykernel_launcher.py:17: FutureWarning: The inplace argument has been deprecated and will be removed in xarray 0.12.0.\n"
     ]
    },
    {
     "name": "stdout",
     "output_type": "stream",
     "text": [
      "Plotting model  ukmetofficesipn\n"
     ]
    },
    {
     "name": "stderr",
     "output_type": "stream",
     "text": [
      "/home/disk/sipn/nicway/anaconda3/envs/esio/lib/python3.6/site-packages/ipykernel_launcher.py:17: FutureWarning: The inplace argument has been deprecated and will be removed in xarray 0.12.0.\n"
     ]
    },
    {
     "name": "stdout",
     "output_type": "stream",
     "text": [
      "Plotting model  ecmwfsipn\n"
     ]
    },
    {
     "name": "stderr",
     "output_type": "stream",
     "text": [
      "/home/disk/sipn/nicway/anaconda3/envs/esio/lib/python3.6/site-packages/ipykernel_launcher.py:17: FutureWarning: The inplace argument has been deprecated and will be removed in xarray 0.12.0.\n"
     ]
    },
    {
     "name": "stdout",
     "output_type": "stream",
     "text": [
      "Plotting model  cma\n"
     ]
    },
    {
     "name": "stderr",
     "output_type": "stream",
     "text": [
      "/home/disk/sipn/nicway/anaconda3/envs/esio/lib/python3.6/site-packages/ipykernel_launcher.py:17: FutureWarning: The inplace argument has been deprecated and will be removed in xarray 0.12.0.\n"
     ]
    },
    {
     "name": "stdout",
     "output_type": "stream",
     "text": [
      "Plotting model  ecmwf\n"
     ]
    },
    {
     "name": "stderr",
     "output_type": "stream",
     "text": [
      "/home/disk/sipn/nicway/anaconda3/envs/esio/lib/python3.6/site-packages/ipykernel_launcher.py:17: FutureWarning: The inplace argument has been deprecated and will be removed in xarray 0.12.0.\n"
     ]
    },
    {
     "name": "stdout",
     "output_type": "stream",
     "text": [
      "Plotting model  metreofr\n"
     ]
    },
    {
     "name": "stderr",
     "output_type": "stream",
     "text": [
      "/home/disk/sipn/nicway/anaconda3/envs/esio/lib/python3.6/site-packages/ipykernel_launcher.py:17: FutureWarning: The inplace argument has been deprecated and will be removed in xarray 0.12.0.\n"
     ]
    },
    {
     "name": "stdout",
     "output_type": "stream",
     "text": [
      "Plotting model  ukmo\n"
     ]
    },
    {
     "name": "stderr",
     "output_type": "stream",
     "text": [
      "/home/disk/sipn/nicway/anaconda3/envs/esio/lib/python3.6/site-packages/ipykernel_launcher.py:17: FutureWarning: The inplace argument has been deprecated and will be removed in xarray 0.12.0.\n"
     ]
    },
    {
     "name": "stdout",
     "output_type": "stream",
     "text": [
      "Plotting model  kma\n"
     ]
    },
    {
     "name": "stderr",
     "output_type": "stream",
     "text": [
      "/home/disk/sipn/nicway/anaconda3/envs/esio/lib/python3.6/site-packages/ipykernel_launcher.py:17: FutureWarning: The inplace argument has been deprecated and will be removed in xarray 0.12.0.\n"
     ]
    },
    {
     "name": "stdout",
     "output_type": "stream",
     "text": [
      "Plotting model  ncep\n"
     ]
    },
    {
     "name": "stderr",
     "output_type": "stream",
     "text": [
      "/home/disk/sipn/nicway/anaconda3/envs/esio/lib/python3.6/site-packages/ipykernel_launcher.py:17: FutureWarning: The inplace argument has been deprecated and will be removed in xarray 0.12.0.\n"
     ]
    },
    {
     "name": "stdout",
     "output_type": "stream",
     "text": [
      "Plotting model  usnavysipn\n"
     ]
    }
   ],
   "source": [
    "yticks1 = []\n",
    "yticklabels1 = []\n",
    "yshift = 0\n",
    "# Plot simple time line of init_times\n",
    "f = plt.figure(figsize=(20,12))\n",
    "for (i_cm, c_model) in enumerate(models_2_plot):\n",
    "#for (i_cm, c_model) in enumerate(models_2_plot[0:4]):\n",
    "    print(\"Plotting model \", c_model)\n",
    "    # Load in Model\n",
    "    model_forecast = os.path.join(E.model[c_model][runType]['sipn_nc'], '*.nc')\n",
    "    # Check we have files \n",
    "    files = glob.glob(model_forecast)\n",
    "    if not files:\n",
    "        print(\"Skipping model\", c_model, \"no forecast files found.\")\n",
    "        continue # Skip this model\n",
    "    ds_model = xr.open_mfdataset(model_forecast, concat_dim='init_time')\n",
    "    ds_model.rename({'nj':'x', 'ni':'y'}, inplace=True)\n",
    "\n",
    "    # Set attributes\n",
    "#         ds_model.attrs['model_label'] = E.model[c_model]['model_label']\n",
    "\n",
    "    # Select var of interest\n",
    "    ds_model = ds_model[cvar]\n",
    "\n",
    "    # Get model plotting specs\n",
    "    cc = E.model_color[c_model]\n",
    "    cm = E.model_marker[c_model]\n",
    "\n",
    "    x = ds_model.init_time.values\n",
    "    y = yshift*np.ones(len(x), dtype = int)\n",
    "    clabel = E.model[c_model]['model_label']\n",
    "    clabel = ''.join(clabel.splitlines()) # remove any returns\n",
    "    plt.scatter(x, y, s=50, \n",
    "                    facecolors=cc, edgecolors=cc, \n",
    "                    marker=cm, label=clabel)\n",
    "    yticks1.append(yshift)\n",
    "    yticklabels1.append(E.model[c_model]['model_label'])\n",
    "    yshift = yshift + 1\n",
    "\n",
    "plt.xlim([datetime.datetime(2015,1,1), ctime])\n",
    "plt.gcf().autofmt_xdate()\n",
    "plt.xlabel('Initialization Date')\n",
    "plt.gca().set_yticks(yticks1)\n",
    "plt.gca().set_yticklabels(yticklabels1)\n",
    "f.savefig(os.path.join(fig_dir,'Init_avail.png'),bbox_inches='tight',dpi=200)\n",
    "plt.title('Availbility of Initialization Dates')\n"
   ]
  },
  {
   "cell_type": "code",
   "execution_count": null,
   "metadata": {},
   "outputs": [],
   "source": [
    "# Plot simple time line of init_times\n",
    "f = plt.figure(figsize=(20,12))\n",
    "yticks1 = []\n",
    "yticklabels1 = []\n",
    "yshift = 0\n",
    "for (i_cm, c_model) in enumerate(models_2_plot):\n",
    "# for (i_cm, c_model) in enumerate(['ukmo','gfdlsipn']):\n",
    "    print(\"Plotting model \", c_model)\n",
    "    # Load in Model\n",
    "    model_forecast = os.path.join(E.model[c_model][runType]['sipn_nc'], '*.nc')\n",
    "    # Check we have files \n",
    "    files = glob.glob(model_forecast)\n",
    "    if not files:\n",
    "        print(\"Skipping model\", c_model, \"no forecast files found.\")\n",
    "        continue # Skip this model\n",
    "    ds_model = xr.open_mfdataset(model_forecast, concat_dim='init_time')\n",
    "    ds_model.rename({'nj':'x', 'ni':'y'}, inplace=True)\n",
    "\n",
    "    # Set attributes\n",
    "#         ds_model.attrs['model_label'] = E.model[c_model]['model_label']\n",
    "\n",
    "    # Select var of interest\n",
    "    ds_model = ds_model[cvar]\n",
    "\n",
    "    # Get model plotting specs\n",
    "    cc = E.model_color[c_model]\n",
    "    cm = E.model_marker[c_model]\n",
    "\n",
    "    x = ds_model.init_time.values\n",
    "    y = yshift*np.ones(len(x), dtype = int)\n",
    "    clabel = E.model[c_model]['model_label']\n",
    "    clabel = ''.join(clabel.splitlines()) # remove any returns\n",
    "    plt.scatter(x, y, s=50, \n",
    "                    facecolors=cc, edgecolors=cc, \n",
    "                    marker=cm, label=clabel)\n",
    "    yticks1.append(yshift)\n",
    "    yticklabels1.append(E.model[c_model]['model_label'])\n",
    "    yshift = yshift + 1\n",
    "\n",
    "\n",
    "plt.xlim([lag_time_30days,ctime])\n",
    "plt.gcf().autofmt_xdate()\n",
    "plt.xlabel('Initialization Date')\n",
    "plt.gca().set_yticks(yticks1)\n",
    "plt.gca().set_yticklabels(yticklabels1)\n",
    "f.savefig(os.path.join(fig_dir,'Init_avail_recent.png'),bbox_inches='tight',dpi=200)\n",
    "plt.title('Availbility of Initialization Dates')"
   ]
  },
  {
   "cell_type": "code",
   "execution_count": null,
   "metadata": {},
   "outputs": [],
   "source": []
  },
  {
   "cell_type": "code",
   "execution_count": null,
   "metadata": {},
   "outputs": [],
   "source": []
  },
  {
   "cell_type": "code",
   "execution_count": null,
   "metadata": {},
   "outputs": [],
   "source": [
    "# # Recent init_time VS. fore_time plot\n",
    "# c_xlim = [datetime.datetime.now() - datetime.timedelta(days=30), \n",
    "#           datetime.datetime.now() + datetime.timedelta(days=30*6)]\n",
    "# c_ylim = [datetime.datetime.now() - datetime.timedelta(days=60), \n",
    "#           datetime.datetime.now() - datetime.timedelta(days=1)]\n",
    "# for cvar in variables:\n",
    "\n",
    "#     fig_dir = os.path.join(E.fig_dir, 'model', 'all_model', cvar)\n",
    "#     if not os.path.exists(fig_dir):\n",
    "#         os.makedirs(fig_dir)\n",
    "    \n",
    "#     f = plt.figure(figsize=(20,10))\n",
    "#     for c_model in E.model.keys():\n",
    "# #     for c_model in ['yopp','gfdlsipn']:\n",
    "#         print(\"Plotting model \", c_model)\n",
    "#         # Load in Model\n",
    "#         model_forecast = os.path.join(E.model[c_model][runType]['sipn_nc'], '*.nc')\n",
    "#         # Check we have files \n",
    "#         files = glob.glob(model_forecast)\n",
    "#         if not files:\n",
    "#             print(\"Skipping model\", c_model, \"no forecast files found.\")\n",
    "#             continue # Skip this model\n",
    "#         ds_model = xr.open_mfdataset(model_forecast, concat_dim='init_time')\n",
    "#         ds_model.rename({'nj':'x', 'ni':'y'}, inplace=True)\n",
    "\n",
    "#         # Set attributes\n",
    "#         ds_model.attrs['model_label'] = E.model[c_model]['model_label']\n",
    "\n",
    "#         # Select var of interest\n",
    "#         ds_model = ds_model[cvar]\n",
    "\n",
    "#         # Check if any data for each init/fore time\n",
    "#         #ds_model = ds_model.notnull().any(dim='x').any(dim='y').astype('int')\n",
    "#         ds_model['valid_time'] = ds_model.init_time + ds_model.fore_time\n",
    "\n",
    "#         # Plot\n",
    "#         cc = E.model_color[c_model]\n",
    "#         cl = E.model_linestyle[c_model]\n",
    "#         haslabel = False\n",
    "#         for it in ds_model.init_time:\n",
    "#             if haslabel:\n",
    "#                 clabel = '_nolegend_'\n",
    "#             else:\n",
    "#                 clabel = E.model[c_model]['model_label']\n",
    "                \n",
    "#             x = ds_model.sel(init_time=it).valid_time.values\n",
    "#             y = [ds_model.sel(init_time=it).init_time.values for k in np.arange(0,x.size)]\n",
    "#             plt.plot([x[0],x[-1]], [y[0],y[-1]], color=cc, label=clabel, linestyle=cl)\n",
    "# #             plt.scatter(x, y, s=50, \n",
    "# #                         facecolors=cc, edgecolors=cc, \n",
    "# #                         label=clabel, marker=cmarker)\n",
    "#             haslabel = True\n",
    "\n",
    "#     plt.xlim(c_xlim)\n",
    "#     plt.ylim(c_ylim)\n",
    "#     plt.gcf().autofmt_xdate()\n",
    "#     plt.xlabel('Valid Date')\n",
    "#     plt.ylabel('Initialization Date')\n",
    "#     #plt.axis('tight')\n",
    "#     plt.legend(ncol=int(len(E.model.keys())/4), loc='upper left', bbox_to_anchor=(0, -0.5))\n",
    "#     # End of all models\n",
    "#     f.savefig(os.path.join(fig_dir,'DataAvailable_'+cvar+'.png'),bbox_inches='tight',dpi=200)\n",
    "# #     mpld3.save_html(f, os.path.join(fig_dir,'DataAvailable_'+cvar+'.html'))"
   ]
  },
  {
   "cell_type": "code",
   "execution_count": null,
   "metadata": {},
   "outputs": [],
   "source": []
  },
  {
   "cell_type": "code",
   "execution_count": null,
   "metadata": {},
   "outputs": [],
   "source": []
  },
  {
   "cell_type": "code",
   "execution_count": null,
   "metadata": {},
   "outputs": [],
   "source": []
  },
  {
   "cell_type": "code",
   "execution_count": null,
   "metadata": {},
   "outputs": [],
   "source": []
  },
  {
   "cell_type": "code",
   "execution_count": null,
   "metadata": {},
   "outputs": [],
   "source": []
  }
 ],
 "metadata": {
  "kernelspec": {
   "display_name": "Python 3",
   "language": "python",
   "name": "python3"
  },
  "language_info": {
   "codemirror_mode": {
    "name": "ipython",
    "version": 3
   },
   "file_extension": ".py",
   "mimetype": "text/x-python",
   "name": "python",
   "nbconvert_exporter": "python",
   "pygments_lexer": "ipython3",
   "version": "3.6.4"
  }
 },
 "nbformat": 4,
 "nbformat_minor": 2
}
