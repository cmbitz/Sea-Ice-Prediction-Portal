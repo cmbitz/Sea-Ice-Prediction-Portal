{
 "cells": [
  {
   "cell_type": "code",
   "execution_count": null,
   "metadata": {},
   "outputs": [],
   "source": [
    "'''\n",
    "\n",
    "This code is part of the SIPN2 project focused on improving sub-seasonal to seasonal predictions of Arctic Sea Ice. \n",
    "If you use this code for a publication or presentation, please cite the reference in the README.md on the\n",
    "main page (https://github.com/NicWayand/ESIO). \n",
    "\n",
    "Questions or comments should be addressed to nicway@uw.edu\n",
    "\n",
    "Copyright (c) 2018 Nic Wayand\n",
    "\n",
    "GNU General Public License v3.0\n",
    "\n",
    "\n",
    "'''\n",
    "\n",
    "'''\n",
    "Plot forecast maps with all available models.\n",
    "'''\n",
    "\n",
    "%matplotlib inline\n",
    "%load_ext autoreload\n",
    "%autoreload\n",
    "import matplotlib\n",
    "import matplotlib.pyplot as plt\n",
    "from collections import OrderedDict\n",
    "import numpy as np\n",
    "import numpy.ma as ma\n",
    "import pandas as pd\n",
    "import struct\n",
    "import os\n",
    "import xarray as xr\n",
    "import glob\n",
    "import datetime\n",
    "import cartopy.crs as ccrs\n",
    "from cartopy.mpl.gridliner import LONGITUDE_FORMATTER, LATITUDE_FORMATTER\n",
    "import seaborn as sns\n",
    "np.seterr(divide='ignore', invalid='ignore')\n",
    "import warnings\n",
    "warnings.simplefilter(action='ignore', category=FutureWarning)\n",
    "from esio import EsioData as ed\n",
    "from esio import ice_plot\n",
    "from esio import import_data\n",
    "from esio import metrics\n",
    "import dask\n",
    "\n",
    "# General plotting settings\n",
    "sns.set_style('whitegrid')\n",
    "sns.set_context(\"talk\", font_scale=.8, rc={\"lines.linewidth\": 2.5})"
   ]
  },
  {
   "cell_type": "code",
   "execution_count": null,
   "metadata": {},
   "outputs": [],
   "source": [
    "# from dask.distributed import Client\n",
    "# client = Client(n_workers=2)\n",
    "# client = Client()\n",
    "# client\n",
    "dask.config.set(scheduler='threads')  # overwrite default with threaded scheduler\n",
    "# dask.config.set(scheduler='processes')  # overwrite default with threaded scheduler"
   ]
  },
  {
   "cell_type": "code",
   "execution_count": null,
   "metadata": {},
   "outputs": [],
   "source": [
    "# Parameters\n",
    "pred_year = 2018 # Prediction year\n"
   ]
  },
  {
   "cell_type": "code",
   "execution_count": null,
   "metadata": {},
   "outputs": [],
   "source": []
  },
  {
   "cell_type": "code",
   "execution_count": null,
   "metadata": {},
   "outputs": [],
   "source": [
    "#############################################################\n",
    "# Load in Data\n",
    "#############################################################\n",
    "\n",
    "E = ed.EsioData.load()\n",
    "mod_dir = E.model_dir\n",
    "\n",
    "# Get recent observations\n",
    "ds_81 = xr.open_mfdataset(E.obs['NSIDC_0081']['sipn_nc']+'_yearly/*.nc', concat_dim='time', autoclose=True, parallel=True).sic\n",
    "#ds_51 = xr.open_mfdataset(E.obs['NSIDC_0051']['sipn_nc']+'_yearly/*.nc', concat_dim='time', autoclose=True, parallel=True)\n",
    "ds_79 = xr.open_mfdataset(E.obs['NSIDC_0079']['sipn_nc']+'_yearly/*.nc', concat_dim='time', autoclose=True, parallel=True).sic"
   ]
  },
  {
   "cell_type": "code",
   "execution_count": null,
   "metadata": {},
   "outputs": [],
   "source": [
    "# Fill in pole hole with sic of 1\n",
    "ds_81 = ds_81.where(ds_81.hole_mask==0, other=1)\n",
    "ds_79 = ds_79.where(ds_79.hole_mask==0, other=1)"
   ]
  },
  {
   "cell_type": "code",
   "execution_count": null,
   "metadata": {},
   "outputs": [],
   "source": [
    "ds_81.time[0].values, ds_81.time[-1].values"
   ]
  },
  {
   "cell_type": "code",
   "execution_count": null,
   "metadata": {},
   "outputs": [],
   "source": [
    "ds_79.time[0].values, ds_79.time[-1].values"
   ]
  },
  {
   "cell_type": "code",
   "execution_count": null,
   "metadata": {},
   "outputs": [],
   "source": []
  },
  {
   "cell_type": "code",
   "execution_count": null,
   "metadata": {},
   "outputs": [],
   "source": [
    "# Combine bootstrap with NASA NRT\n",
    "da_sic = ds_79.combine_first(ds_81)"
   ]
  },
  {
   "cell_type": "code",
   "execution_count": null,
   "metadata": {},
   "outputs": [],
   "source": []
  },
  {
   "cell_type": "code",
   "execution_count": null,
   "metadata": {},
   "outputs": [],
   "source": []
  },
  {
   "cell_type": "code",
   "execution_count": null,
   "metadata": {},
   "outputs": [],
   "source": [
    "# Reshape as year x doy\n",
    "# Add DOY\n",
    "DOY_all = [x.timetuple().tm_yday for x in pd.to_datetime(da_sic.time.values)]\n",
    "da_sic.coords['doy'] = xr.DataArray(DOY_all, dims='time', coords={'time':da_sic.time})\n",
    "year_all = [x.year for x in pd.to_datetime(da_sic.time.values)]\n",
    "da_sic.coords['year'] = xr.DataArray(year_all, dims='time', coords={'time':da_sic.time})"
   ]
  },
  {
   "cell_type": "code",
   "execution_count": null,
   "metadata": {},
   "outputs": [],
   "source": []
  },
  {
   "cell_type": "code",
   "execution_count": null,
   "metadata": {},
   "outputs": [],
   "source": [
    "# Grab sic dataArray\n",
    "da_sic.load()"
   ]
  },
  {
   "cell_type": "markdown",
   "metadata": {},
   "source": [
    "# Climatology forecast"
   ]
  },
  {
   "cell_type": "code",
   "execution_count": null,
   "metadata": {},
   "outputs": [],
   "source": [
    "test_plots = False"
   ]
  },
  {
   "cell_type": "code",
   "execution_count": null,
   "metadata": {},
   "outputs": [],
   "source": [
    "cmod = 'climatology'\n",
    "runType = 'forecast'\n",
    "Last_N_years = 'all' # Number of years prior to pred_year to train on. Use 'all' to use all available.\n",
    "\n",
    "if Last_N_years=='all':\n",
    "    Last_N_years = (pred_year-da_sic.year.min()).item()\n",
    "    \n",
    "\n",
    "for cdoy in np.arange(1,da_sic.doy.max().values+1,1):\n",
    "    print(\"Processing day of year\",cdoy)\n",
    "\n",
    "    # Select current day of year\n",
    "    da_cdoy = da_sic.where(da_sic.doy==cdoy, drop=True).swap_dims({'time':'year'})\n",
    "    \n",
    "    # Split by train and validate years\n",
    "    da_train = da_cdoy.sel(year=slice(pred_year - Last_N_years, pred_year - 1))\n",
    "    \n",
    "    # Call model\n",
    "    ds_pred = metrics.linearRegressionModel(da_train.chunk({'year': -1}), 'year', pred_year) # Have to rechunk year into one big one\n",
    "    \n",
    "    # Store\n",
    "    ds_pred.coords['doy'] = cdoy\n",
    "    \n",
    "    # Force prediction SIC to be between 0-1\n",
    "    ocnmask = ds_pred.notnull()\n",
    "    ds_pred = ds_pred.where(ds_pred >= 0, other=0).where(ocnmask)\n",
    "    ds_pred = ds_pred.where(ds_pred <= 1, other=1).where(ocnmask)\n",
    "    \n",
    "    if test_plots:\n",
    "        xr.exit()\n",
    "    \n",
    "    # Move back to actual (valid_time) space\n",
    "    ds_pred = ds_pred.expand_dims('time')\n",
    "    ds_pred.coords['time'] = xr.DataArray([datetime.datetime(pred_year,1,1) + datetime.timedelta(days=int(x-1)) for x in [cdoy]], dims='time')\n",
    "        \n",
    "    ds_pred.name = 'sic'\n",
    "\n",
    "    if not test_plots:\n",
    "        # Save to disk\n",
    "        file_out = os.path.join(mod_dir, cmod, runType, 'sipn_nc', str(pred_year)+'_'+format(cdoy, '03')+'_'+str(pred_year - Last_N_years)+'_'+str(pred_year - 1)+'_SIC.nc')\n",
    "        ds_pred.to_netcdf(file_out)\n",
    "        print(\"Saved\",file_out)\n",
    "    "
   ]
  },
  {
   "cell_type": "markdown",
   "metadata": {},
   "source": [
    "# Clim trend last 10 years"
   ]
  },
  {
   "cell_type": "code",
   "execution_count": null,
   "metadata": {},
   "outputs": [],
   "source": []
  },
  {
   "cell_type": "markdown",
   "metadata": {},
   "source": [
    "### For presentation figures"
   ]
  },
  {
   "cell_type": "code",
   "execution_count": null,
   "metadata": {},
   "outputs": [],
   "source": [
    "if test_plots:\n",
    "    fig_dir = '/home/disk/sipn/nicway/Nic/figures/pres/A'\n",
    "\n",
    "    cx = 160\n",
    "    cy = 220\n",
    "\n",
    "    sns.set_context(\"talk\", font_scale=1.5, rc={\"lines.linewidth\": 2.5})\n",
    "    f = plt.figure()\n",
    "    da_train.isel(year=1).T.plot(label='Sea ice Concentration')\n",
    "    plt.plot(cy,cx,marker='o',markersize=10,color='k')\n",
    "    plt.title('')\n",
    "    f_out = os.path.join(fig_dir,'spatial_plot.png')\n",
    "    f.savefig(f_out,bbox_inches='tight', dpi=300)\n",
    "\n",
    "    sns.set_context(\"talk\", font_scale=1.5, rc={\"lines.linewidth\": 2.5})\n",
    "\n",
    "\n",
    "\n",
    "\n",
    "\n",
    "    from scipy import stats\n",
    "    slope, intercept, r_value, p_value, std_err = stats.linregress(da_train.isel(y=cy,x=cx).year.values, da_train.isel(y=cy,x=cx).values)\n",
    "    predict_y = intercept + slope * da_train.isel(y=cy,x=cx).year.values\n",
    "    predict_y\n",
    "\n",
    "    f = plt.figure()\n",
    "    da_train.isel(y=cy,x=cx).plot(color='b',label='Observed')\n",
    "    plt.plot(2018, ds_pred.isel(y=cy,x=cx).values,'r*',label='Predicted',markersize=14)\n",
    "    plt.plot(da_train.isel(y=cy,x=cx).year.values, predict_y,'k--', label='linear least-squares')\n",
    "    plt.title('')\n",
    "    plt.legend(loc='lower left', bbox_to_anchor=(1.03, .7))\n",
    "    plt.ylabel('Sea Ice Concentration (-)')\n",
    "    f_out = os.path.join(fig_dir,'linearfit.png')\n",
    "    f.savefig(f_out,bbox_inches='tight', dpi=300)"
   ]
  },
  {
   "cell_type": "code",
   "execution_count": null,
   "metadata": {},
   "outputs": [],
   "source": []
  },
  {
   "cell_type": "code",
   "execution_count": null,
   "metadata": {},
   "outputs": [],
   "source": []
  }
 ],
 "metadata": {
  "kernelspec": {
   "display_name": "3.6.4 esio",
   "language": "python",
   "name": "esio"
  },
  "language_info": {
   "codemirror_mode": {
    "name": "ipython",
    "version": 3
   },
   "file_extension": ".py",
   "mimetype": "text/x-python",
   "name": "python",
   "nbconvert_exporter": "python",
   "pygments_lexer": "ipython3",
   "version": "3.6.4"
  }
 },
 "nbformat": 4,
 "nbformat_minor": 2
}
