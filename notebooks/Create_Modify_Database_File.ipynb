{
 "cells": [
  {
   "cell_type": "code",
   "execution_count": 2,
   "metadata": {},
   "outputs": [],
   "source": [
    "'''\n",
    "\n",
    "This code is part of the SIPN2 project focused on improving sub-seasonal to seasonal predictions of Arctic Sea Ice. \n",
    "If you use this code for a publication or presentation, please cite the reference in the README.md on the\n",
    "main page (https://github.com/NicWayand/ESIO). \n",
    "\n",
    "Questions or comments should be addressed to nicway@uw.edu\n",
    "\n",
    "Copyright (c) 2018 Nic Wayand\n",
    "\n",
    "GNU General Public License v3.0\n",
    "\n",
    "\n",
    "'''\n",
    "\n",
    "import os\n",
    "import xarray as xr\n",
    "import numpy as np\n",
    "import pickle\n",
    "from esio import EsioData as ed\n",
    "import itertools\n",
    "import seaborn as sns"
   ]
  },
  {
   "cell_type": "code",
   "execution_count": 3,
   "metadata": {},
   "outputs": [],
   "source": [
    "# Update your paths here\n",
    "my_data_dir = '/home/disk/sipn/nicway/data/' # Path to where SIPN2 data files are stored (where the pickle file gets stored)\n",
    "public_html_fig = r'/home/disk/sipn/nicway/public_html/sipn/figures/' # Where figs for website go"
   ]
  },
  {
   "cell_type": "code",
   "execution_count": 4,
   "metadata": {},
   "outputs": [],
   "source": [
    "# Create an esioData\n",
    "E = ed.EsioData(data_dir = my_data_dir)"
   ]
  },
  {
   "cell_type": "code",
   "execution_count": 5,
   "metadata": {},
   "outputs": [],
   "source": [
    "# Add observations\n",
    "obs_list = ['G10006',  'NSIDC_0051',  'NSIDC_0079',  'NSIDC_0081']\n",
    "for co in obs_list:\n",
    "    E.add_obs(co, grid_file='stereo_gridinfo.nc')\n",
    "E.add_obs('NSIDC_extent', grid_file='N/A')    "
   ]
  },
  {
   "cell_type": "code",
   "execution_count": null,
   "metadata": {},
   "outputs": [],
   "source": []
  },
  {
   "cell_type": "code",
   "execution_count": 6,
   "metadata": {},
   "outputs": [],
   "source": [
    "# Add Models\n",
    "\n",
    "# Statistical models\n",
    "#E.add_model(mod_name='dampedAnomaly', model_label='Damped\\n persistence', grid_file='MISSING') # Removed because it was terrible\n",
    "E.add_model(mod_name='dampedAnomalyTrend', model_label='Damped\\nAnomaly', grid_file='MISSING')\n",
    "\n",
    "# Dynamical models\n",
    "E.add_model(mod_name='gfdlsipn', model_label='GFDL-FLOR', grid_file='GFDLFLOR_gridinfo.nc')\n",
    "E.add_model(mod_name='piomas', model_label='PIOMAS', grid_file='PIOMAS_gridinfo.nc')\n",
    "E.add_model(mod_name='yopp', model_label='ECMWF-YOPP*', grid_file='yopp_land_sea_mask.nc')\n",
    "# c3S Models\n",
    "E.add_model(mod_name='ukmetofficesipn', model_label='UKMO-C3S*', grid_file='ukmetofficesipn_land_sea_mask.nc')\n",
    "E.add_model(mod_name='ecmwfsipn', model_label='ECMWF-C3S*', grid_file='ecmwfsipn_land_sea_mask.nc')\n",
    "# S2S download models\n",
    "E.add_model(mod_name='bom', model_label='BOM-S2S', grid_file='MISSING')\n",
    "E.add_model(mod_name='cma', model_label='CMA-S2S', grid_file='MISSING')\n",
    "E.add_model(mod_name='ecmwf', model_label='ECMWF-S2S', grid_file='MISSING')\n",
    "E.add_model(mod_name='hcmr', model_label='HCMR-S2S', grid_file='MISSING')\n",
    "E.add_model(mod_name='isaccnr', model_label='ISAC-CNR-S2S', grid_file='MISSING')\n",
    "E.add_model(mod_name='jma', model_label='JMA-S2S', grid_file='MISSING')\n",
    "E.add_model(mod_name='metreofr', model_label='MÉTÉO-FR-S2S', grid_file='MISSING')\n",
    "E.add_model(mod_name='ukmo', model_label='UKMO-S2S', grid_file='MISSING')\n",
    "E.add_model(mod_name='eccc', model_label='ECCC-S2S', grid_file='MISSING')\n",
    "E.add_model(mod_name='kma', model_label='KMA-S2S', grid_file='MISSING')\n",
    "E.add_model(mod_name='ncep', model_label='NCEP-S2S', grid_file='MISSING')\n",
    "# NAVY NEMO\n",
    "E.add_model(mod_name='usnavysipn', model_label='NRL NESM EXT', grid_file='MISSING')\n",
    "E.add_model(mod_name='usnavyncep', model_label='NRL NESM', grid_file='MISSING')\n",
    "# RASM ESRL\n",
    "E.add_model(mod_name='rasmesrl', model_label='CAFS', grid_file='MISSING')\n",
    "# NECP CFSv2\n",
    "E.add_model(mod_name='noaasipn', model_label='NCEP-EXP', grid_file='MISSING')\n",
    "E.add_model(mod_name='noaasipn_ext', model_label='NCEP-EXT', grid_file='MISSING')\n",
    "E.add_model(mod_name='usnavygofs', model_label='NRL-GOFS', grid_file='MISSING')\n",
    "\n",
    "# E.add_model(mod_name='noaasipn_ext_biascorr', model_label='ncep-ext-biascorr', grid_file='MISSING')\n",
    "\n",
    "E.add_model(mod_name='modcansipns_3', model_label='CANSIPS-3', grid_file='MISSING')\n",
    "E.add_model(mod_name='modcansipns_4', model_label='CANSIPS-4', grid_file='MISSING')\n",
    "E.add_model(mod_name='uclsipn', model_label='UCL', grid_file='mesh_mask_nemo.N3.6_ORCA1L75.nc')\n",
    "\n",
    "E.add_model(mod_name='szapirosipn', model_label='MPAS-CESM', grid_file='MISSING')\n",
    "\n",
    "E.add_model(mod_name='awispin', model_label='AWI', grid_file='MISSING') #\\n(Kauker et al.)\n",
    "E.add_model(mod_name='nicosipn', model_label='NICO SUN', grid_file='MISSING')\n",
    "E.add_model(mod_name='fgoalssipn', model_label='IAP LASG', grid_file='MISSING')\n",
    "\n",
    "\n",
    "# MME\n",
    "E.add_model(mod_name='MME', model_label='MME Mean', grid_file='MISSING')\n",
    "E.add_model(mod_name='MME_NEW', model_label='MME Mean', grid_file='MISSING')\n"
   ]
  },
  {
   "cell_type": "code",
   "execution_count": 7,
   "metadata": {},
   "outputs": [],
   "source": [
    "# Add other path info\n",
    "E.fig_dir = public_html_fig "
   ]
  },
  {
   "cell_type": "code",
   "execution_count": 8,
   "metadata": {},
   "outputs": [],
   "source": [
    "# Flag if modeled ice is predicted (True) or prescribed (False)\n",
    "icePredicted = {'gfdlsipn':True, 'piomas':True, 'yopp':True, 'bom':False, 'cma':False, 'ecmwf':True, \n",
    "              'hcmr':False, 'isaccnr':False, 'jma':False, 'metreofr':True, 'ukmo':True, 'eccc':False, \n",
    "              'kma':True, 'ncep':True, 'ukmetofficesipn':True, 'ecmwfsipn':True, 'usnavysipn':True,\n",
    "               'usnavyncep':True, 'rasmesrl':True, 'noaasipn':True, 'noaasipn_ext':True,\n",
    "               'MME':True, 'modcansipns_3':True, 'modcansipns_4':True, 'uclsipn':True, 'szapirosipn':True,\n",
    "               'awispin':True, 'nicosipn':True, 'usnavygofs':True, 'MME_NEW':True,\n",
    "               'dampedAnomalyTrend':True, 'fgoalssipn':True}\n",
    "E.icePredicted = icePredicted"
   ]
  },
  {
   "cell_type": "code",
   "execution_count": 9,
   "metadata": {},
   "outputs": [],
   "source": [
    "# Check all models have a predicted flag\n",
    "if not (icePredicted.keys() == E.model.keys()):\n",
    "    raise ValueError(\"Missing some predicted flags for models...\")"
   ]
  },
  {
   "cell_type": "code",
   "execution_count": 10,
   "metadata": {},
   "outputs": [
    {
     "data": {
      "text/plain": [
       "dict_keys(['dampedAnomalyTrend', 'gfdlsipn', 'piomas', 'yopp', 'ukmetofficesipn', 'ecmwfsipn', 'bom', 'cma', 'ecmwf', 'hcmr', 'isaccnr', 'jma', 'metreofr', 'ukmo', 'eccc', 'kma', 'ncep', 'usnavysipn', 'usnavyncep', 'rasmesrl', 'noaasipn', 'noaasipn_ext', 'usnavygofs', 'modcansipns_3', 'modcansipns_4', 'uclsipn', 'szapirosipn', 'awispin', 'nicosipn', 'fgoalssipn', 'MME', 'MME_NEW'])"
      ]
     },
     "execution_count": 10,
     "metadata": {},
     "output_type": "execute_result"
    }
   ],
   "source": [
    "E.model.keys()"
   ]
  },
  {
   "cell_type": "code",
   "execution_count": 11,
   "metadata": {},
   "outputs": [
    {
     "data": {
      "text/plain": [
       "dict_keys(['gfdlsipn', 'piomas', 'yopp', 'bom', 'cma', 'ecmwf', 'hcmr', 'isaccnr', 'jma', 'metreofr', 'ukmo', 'eccc', 'kma', 'ncep', 'ukmetofficesipn', 'ecmwfsipn', 'usnavysipn', 'usnavyncep', 'rasmesrl', 'noaasipn', 'noaasipn_ext', 'MME', 'modcansipns_3', 'modcansipns_4', 'uclsipn', 'szapirosipn', 'awispin', 'nicosipn', 'usnavygofs', 'MME_NEW', 'dampedAnomalyTrend', 'fgoalssipn'])"
      ]
     },
     "execution_count": 11,
     "metadata": {},
     "output_type": "execute_result"
    }
   ],
   "source": [
    "icePredicted.keys()"
   ]
  },
  {
   "cell_type": "code",
   "execution_count": 12,
   "metadata": {},
   "outputs": [
    {
     "data": {
      "text/plain": [
       "'ECMWF-S2S'"
      ]
     },
     "execution_count": 12,
     "metadata": {},
     "output_type": "execute_result"
    }
   ],
   "source": [
    "E.model['ecmwf']['model_label']"
   ]
  },
  {
   "cell_type": "code",
   "execution_count": 13,
   "metadata": {},
   "outputs": [
    {
     "data": {
      "text/plain": [
       "[('Damped\\nAnomaly', 'dampedAnomalyTrend'),\n",
       " ('GFDL-FLOR', 'gfdlsipn'),\n",
       " ('PIOMAS', 'piomas'),\n",
       " ('ECMWF-YOPP*', 'yopp'),\n",
       " ('UKMO-C3S*', 'ukmetofficesipn'),\n",
       " ('ECMWF-C3S*', 'ecmwfsipn'),\n",
       " ('BOM-S2S', 'bom'),\n",
       " ('CMA-S2S', 'cma'),\n",
       " ('ECMWF-S2S', 'ecmwf'),\n",
       " ('HCMR-S2S', 'hcmr'),\n",
       " ('ISAC-CNR-S2S', 'isaccnr'),\n",
       " ('JMA-S2S', 'jma'),\n",
       " ('MÉTÉO-FR-S2S', 'metreofr'),\n",
       " ('UKMO-S2S', 'ukmo'),\n",
       " ('ECCC-S2S', 'eccc'),\n",
       " ('KMA-S2S', 'kma'),\n",
       " ('NCEP-S2S', 'ncep'),\n",
       " ('NRL NESM EXT', 'usnavysipn'),\n",
       " ('NRL NESM', 'usnavyncep'),\n",
       " ('CAFS', 'rasmesrl'),\n",
       " ('NCEP-EXP', 'noaasipn'),\n",
       " ('NCEP-EXT', 'noaasipn_ext'),\n",
       " ('NRL-GOFS', 'usnavygofs'),\n",
       " ('CANSIPS-3', 'modcansipns_3'),\n",
       " ('CANSIPS-4', 'modcansipns_4'),\n",
       " ('UCL', 'uclsipn'),\n",
       " ('MPAS-CESM', 'szapirosipn'),\n",
       " ('AWI', 'awispin'),\n",
       " ('NICO SUN', 'nicosipn'),\n",
       " ('IAP LASG', 'fgoalssipn'),\n",
       " ('MME Mean', 'MME'),\n",
       " ('MME Mean', 'MME_NEW')]"
      ]
     },
     "execution_count": 13,
     "metadata": {},
     "output_type": "execute_result"
    }
   ],
   "source": [
    "list(zip([E.model[x]['model_label'] for x in E.model.keys()], E.model.keys()))"
   ]
  },
  {
   "cell_type": "code",
   "execution_count": 14,
   "metadata": {},
   "outputs": [],
   "source": [
    "# Define colors/lines etce for each model to use in plots\n",
    "cmap_c = itertools.cycle(sns.color_palette(\"Paired\", len(E.model.keys()) ))\n",
    "linecycler = itertools.cycle([\"-\",\"--\",\"-.\",\":\",\"--\"])\n",
    "markercycler = itertools.cycle([\"*\",\"o\",\"s\",\"v\",\"X\"])\n",
    "mod_cc = {}\n",
    "mod_ls = {}\n",
    "mod_mk = {}\n",
    "for (i, cmod) in enumerate(E.model.keys()):\n",
    "    mod_cc[cmod] = next(cmap_c)\n",
    "    mod_ls[cmod] = next(linecycler)\n",
    "    mod_mk[cmod] = next(markercycler)\n",
    "E.model_color = mod_cc\n",
    "E.model_linestyle = mod_ls\n",
    "E.model_marker= mod_mk\n",
    "\n",
    "# CC adjusted to her liking\n",
    "E.model_color['usnavygofs']='tab:olive'\n",
    "E.model_color['usnavyncep']='tab:olive'\n",
    "E.model_color['ncep']='blue'\n",
    "E.model_linestyle['usnavyncep']='-'\n",
    "E.model_linestyle['ncep']='-'\n",
    "E.model_linestyle['ecmwf']='-'"
   ]
  },
  {
   "cell_type": "code",
   "execution_count": null,
   "metadata": {},
   "outputs": [],
   "source": []
  },
  {
   "cell_type": "code",
   "execution_count": 15,
   "metadata": {},
   "outputs": [
    {
     "name": "stdout",
     "output_type": "stream",
     "text": [
      "Saving to  /home/disk/sipn/nicway/data/\n"
     ]
    }
   ],
   "source": [
    "# Save to ESIO dir\n",
    "print(\"Saving to \", my_data_dir)\n",
    "E.save()"
   ]
  },
  {
   "cell_type": "code",
   "execution_count": 16,
   "metadata": {},
   "outputs": [],
   "source": [
    "# # Load object to test\n",
    "# E = None\n",
    "# E = ed.EsioData.load()"
   ]
  },
  {
   "cell_type": "code",
   "execution_count": null,
   "metadata": {},
   "outputs": [],
   "source": []
  },
  {
   "cell_type": "code",
   "execution_count": null,
   "metadata": {},
   "outputs": [],
   "source": []
  },
  {
   "cell_type": "code",
   "execution_count": 17,
   "metadata": {},
   "outputs": [
    {
     "name": "stdout",
     "output_type": "stream",
     "text": [
      "['', '/home/disk/sipn/nicway/anaconda3/envs/esio/lib/python36.zip', '/home/disk/sipn/nicway/anaconda3/envs/esio/lib/python3.6', '/home/disk/sipn/nicway/anaconda3/envs/esio/lib/python3.6/lib-dynload', '/home/disk/eos11/bitz/.local/lib/python3.6/site-packages', '/home/disk/sipn/nicway/anaconda3/envs/esio/lib/python3.6/site-packages', '/home/disk/sipn/nicway/anaconda3/envs/esio/lib/python3.6/site-packages/PyNIO', '/home/disk/sipn/nicway/anaconda3/envs/esio/lib/python3.6/site-packages/cycler-0.10.0-py3.6.egg', '/home/disk/sipn/nicway/python/ESIO', '/home/disk/sipn/nicway/python/xskillscore', '/home/disk/sipn/nicway/anaconda3/envs/esio/lib/python3.6/site-packages/IPython/extensions', '/home/disk/eos11/bitz/.ipython']\n",
      "/home/disk/sipn/nicway/anaconda3/envs/esio\n"
     ]
    }
   ],
   "source": [
    "import sys\n",
    "print(sys.path)\n",
    "print(sys.prefix)"
   ]
  },
  {
   "cell_type": "code",
   "execution_count": null,
   "metadata": {},
   "outputs": [],
   "source": []
  }
 ],
 "metadata": {
  "kernelspec": {
   "display_name": "Python 3",
   "language": "python",
   "name": "python3"
  },
  "language_info": {
   "codemirror_mode": {
    "name": "ipython",
    "version": 3
   },
   "file_extension": ".py",
   "mimetype": "text/x-python",
   "name": "python",
   "nbconvert_exporter": "python",
   "pygments_lexer": "ipython3",
   "version": "3.6.4"
  }
 },
 "nbformat": 4,
 "nbformat_minor": 2
}
