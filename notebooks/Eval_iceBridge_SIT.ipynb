{
 "cells": [
  {
   "cell_type": "code",
   "execution_count": null,
   "metadata": {},
   "outputs": [],
   "source": [
    "'''\n",
    "\n",
    "This code is part of the SIPN2 project focused on improving sub-seasonal to seasonal predictions of Arctic Sea Ice. \n",
    "If you use this code for a publication or presentation, please cite the reference in the README.md on the\n",
    "main page (https://github.com/NicWayand/ESIO). \n",
    "\n",
    "Questions or comments should be addressed to nicway@uw.edu\n",
    "\n",
    "Copyright (c) 2018 Nic Wayand\n",
    "\n",
    "GNU General Public License v3.0\n",
    "\n",
    "\n",
    "'''\n",
    "\n",
    "'''\n",
    "Plot forecast maps with all available models.\n",
    "'''\n",
    "\n",
    "%matplotlib inline\n",
    "%load_ext autoreload\n",
    "%autoreload\n",
    "import matplotlib\n",
    "#matplotlib.use('Agg')\n",
    "import matplotlib.pyplot as plt\n",
    "from collections import OrderedDict\n",
    "import itertools\n",
    "import numpy as np\n",
    "import numpy.ma as ma\n",
    "import pandas as pd\n",
    "import struct\n",
    "import os\n",
    "import xarray as xr\n",
    "import glob\n",
    "import datetime\n",
    "import cartopy.crs as ccrs\n",
    "from cartopy.mpl.gridliner import LONGITUDE_FORMATTER, LATITUDE_FORMATTER\n",
    "import seaborn as sns\n",
    "np.seterr(divide='ignore', invalid='ignore')\n",
    "import warnings\n",
    "warnings.simplefilter(action='ignore', category=FutureWarning)\n",
    "import json\n",
    "\n",
    "from esio import EsioData as ed\n",
    "from esio import ice_plot\n",
    "from esio import import_data\n",
    "from esio import metrics\n",
    "\n",
    "import dask\n",
    "import timeit\n",
    "\n",
    "# General plotting settings\n",
    "sns.set_style('whitegrid')\n",
    "sns.set_context(\"talk\", font_scale=.8, rc={\"lines.linewidth\": 2.5})"
   ]
  },
  {
   "cell_type": "code",
   "execution_count": null,
   "metadata": {},
   "outputs": [],
   "source": []
  },
  {
   "cell_type": "code",
   "execution_count": null,
   "metadata": {},
   "outputs": [],
   "source": []
  },
  {
   "cell_type": "code",
   "execution_count": null,
   "metadata": {},
   "outputs": [],
   "source": [
    "# from dask.distributed import Client\n",
    "# client = Client(n_workers=8, )\n",
    "# client\n",
    "dask.config.set(scheduler='threads')  # overwrite default with threaded scheduler"
   ]
  },
  {
   "cell_type": "code",
   "execution_count": null,
   "metadata": {},
   "outputs": [],
   "source": [
    "metrics_all = ['mean_25km_1km']\n",
    "runType = 'forecast'\n",
    "variables = ['hi']"
   ]
  },
  {
   "cell_type": "code",
   "execution_count": null,
   "metadata": {},
   "outputs": [],
   "source": []
  },
  {
   "cell_type": "code",
   "execution_count": null,
   "metadata": {},
   "outputs": [],
   "source": [
    "# Get path data\n",
    "E = ed.EsioData.load()\n",
    "grid_dir = E.grid_dir\n",
    "\n",
    "# Load in regional data\n",
    "ds_region = xr.open_dataset(os.path.join(grid_dir, 'sio_2016_mask_Update.nc'))"
   ]
  },
  {
   "cell_type": "code",
   "execution_count": null,
   "metadata": {},
   "outputs": [],
   "source": [
    "concat_dim_time = 'fore_time'\n",
    "drop_coords = ['init_start','valid_start','valid_end']"
   ]
  },
  {
   "cell_type": "code",
   "execution_count": null,
   "metadata": {},
   "outputs": [],
   "source": [
    "cvar = variables[0]"
   ]
  },
  {
   "cell_type": "code",
   "execution_count": null,
   "metadata": {},
   "outputs": [],
   "source": [
    "# Define fig dir and make if doesn't exist\n",
    "fig_dir = os.path.join('/home/disk/sipn/nicway/Nic/figures', 'model', 'MME', cvar, 'iceBridgeQL')\n",
    "if not os.path.exists(fig_dir):\n",
    "    os.makedirs(fig_dir)"
   ]
  },
  {
   "cell_type": "code",
   "execution_count": null,
   "metadata": {},
   "outputs": [],
   "source": [
    "# ds_m = import_data.load_MME_by_init_end(E=E, runType=runType, variable=cvar, \n",
    "#                                     metrics=metrics_all)"
   ]
  },
  {
   "cell_type": "code",
   "execution_count": null,
   "metadata": {},
   "outputs": [],
   "source": [
    "ds_m = xr.open_zarr('/home/disk/sipn/nicway/data/model/zarr/hi.zarr')\n",
    "ds_m"
   ]
  },
  {
   "cell_type": "code",
   "execution_count": null,
   "metadata": {},
   "outputs": [],
   "source": [
    "%timeit ds_m.mean().values"
   ]
  },
  {
   "cell_type": "code",
   "execution_count": null,
   "metadata": {},
   "outputs": [],
   "source": [
    "ds_m.sel(model='rasmesrl').mean(dim=['init_end','fore_time']).mean_25km_1km.plot()"
   ]
  },
  {
   "cell_type": "code",
   "execution_count": null,
   "metadata": {},
   "outputs": [],
   "source": [
    "ds_ALL = import_data.get_valid_time(ds=ds_m, init_dim='init_end')"
   ]
  },
  {
   "cell_type": "code",
   "execution_count": null,
   "metadata": {},
   "outputs": [],
   "source": [
    "ds_ALL"
   ]
  },
  {
   "cell_type": "code",
   "execution_count": null,
   "metadata": {},
   "outputs": [],
   "source": [
    "ds_ALL.model"
   ]
  },
  {
   "cell_type": "code",
   "execution_count": null,
   "metadata": {},
   "outputs": [],
   "source": []
  },
  {
   "cell_type": "code",
   "execution_count": null,
   "metadata": {},
   "outputs": [],
   "source": [
    "# (f, axes) = ice_plot.multi_polar_axis(ncols=2, nrows=1,\n",
    "#                  Nplots=3, sizefcter=10)\n",
    "# it = 0\n",
    "# ft = 0\n",
    "# O = (ds_m.sel(model='Observed')).isel(fore_time=ft, init_end=it).mean_25km_1km\n",
    "# M = (ds_m.sel(model='gfdlsipn')).isel(fore_time=ft, init_end=it).mean_25km_1km\n",
    "# O.plot(ax=axes[0],x='lon',y='lat', transform=ccrs.PlateCarree())\n",
    "# M.plot(ax=axes[1], x='lon',y='lat', transform=ccrs.PlateCarree())"
   ]
  },
  {
   "cell_type": "code",
   "execution_count": null,
   "metadata": {},
   "outputs": [],
   "source": [
    "# (M-O).plot()"
   ]
  },
  {
   "cell_type": "code",
   "execution_count": null,
   "metadata": {},
   "outputs": [],
   "source": [
    "\n",
    "# plt.scatter(ds_m.sel(model='Observed').lon.values, ds_m.sel(model='Observed').lat.values, \n",
    "#             transform=ccrs.PlateCarree(), c='r', marker='o', s=100)\n",
    "# plt.scatter(ds_m.sel(model='gfdlsipn').lon.values, ds_m.sel(model='gfdpsipn').lat.values, \n",
    "#             transform=ccrs.PlateCarree(), c='k', marker='*')\n"
   ]
  },
  {
   "cell_type": "code",
   "execution_count": null,
   "metadata": {},
   "outputs": [],
   "source": [
    "# Drop models we don't want\n",
    "#ds_m = ds_m.where(ds_m.model!='dampedAnomaly', drop=True)"
   ]
  },
  {
   "cell_type": "code",
   "execution_count": null,
   "metadata": {},
   "outputs": [],
   "source": [
    "# lat and lon get loaded as different for each file, set to constant except along x and y\n",
    "# ds_m.coords['lat'] = ds_m.sel(model='Observed').isel(init_end=0,fore_time=0).lat.drop([concat_dim_time,'init_end','model'])\n",
    "# ds_m.coords['lon'] = ds_m.sel(model='Observed').isel(init_end=0,fore_time=0).lon.drop([concat_dim_time,'init_end','model'])\n"
   ]
  },
  {
   "cell_type": "code",
   "execution_count": null,
   "metadata": {},
   "outputs": [],
   "source": [
    "# # # Drop models that we don't evaluate (i.e. monthly means)\n",
    "# # models_keep = [x for x in ds_m.model.values if x not in ['noaasipn','modcansipns_3','modcansipns_4']]\n",
    "# # ds_m = ds_m.sel(model=models_keep)\n",
    "# # ds_m\n",
    "\n",
    "# # # Get list of dynamical models that are not observations\n",
    "# dynamical_Models = [x for x in ds_m.model.values if x not in ['Observed','climatology','dampedAnomaly','dampedAnomalyTrend']]\n",
    "# dynamical_Models\n",
    "\n",
    "# # # Get list of all models\n",
    "# all_Models = [x for x in ds_m.model.values if x not in ['Observed']]\n",
    "# all_Models\n",
    "\n",
    "# # # Add MME\n",
    "# MME_avg = ds_m.sel(model=dynamical_Models).mean(dim='model') # only take mean over dynamical models\n",
    "# MME_avg.coords['model'] = 'MME'\n",
    "# MME_avg\n",
    "\n",
    "# ds_ALL = xr.concat([ds_m, MME_avg], dim='model')\n",
    "# ds_ALL.model\n"
   ]
  },
  {
   "cell_type": "code",
   "execution_count": null,
   "metadata": {},
   "outputs": [],
   "source": [
    "ds_ALL.load()"
   ]
  },
  {
   "cell_type": "code",
   "execution_count": null,
   "metadata": {},
   "outputs": [],
   "source": []
  },
  {
   "cell_type": "code",
   "execution_count": null,
   "metadata": {},
   "outputs": [],
   "source": []
  },
  {
   "cell_type": "code",
   "execution_count": null,
   "metadata": {},
   "outputs": [],
   "source": [
    "def add_subplot_title(cmod, E, ax=None, statval=None):\n",
    "    if cmod in E.model.keys():\n",
    "        if statval:\n",
    "            ax.set_title(E.model[cmod]['model_label']+'\\n('+statval+')')\n",
    "        else:\n",
    "            ax.set_title(E.model[cmod]['model_label'])\n",
    "    else:\n",
    "        ax.set_title(cmod)"
   ]
  },
  {
   "cell_type": "code",
   "execution_count": null,
   "metadata": {},
   "outputs": [],
   "source": [
    "max_hi = 4"
   ]
  },
  {
   "cell_type": "code",
   "execution_count": null,
   "metadata": {},
   "outputs": [],
   "source": []
  },
  {
   "cell_type": "code",
   "execution_count": null,
   "metadata": {},
   "outputs": [],
   "source": []
  },
  {
   "cell_type": "code",
   "execution_count": null,
   "metadata": {},
   "outputs": [],
   "source": []
  },
  {
   "cell_type": "code",
   "execution_count": null,
   "metadata": {},
   "outputs": [],
   "source": [
    "# # Try to git flat array of lead time values\n",
    "# tsize = ds_ALL.sel(model=cmod).mean_25km_1km.values.flatten().size\n",
    "# lt = ds_ALL.fore_time.values\n",
    "# for n in np.ones(int(tsize/lt.size)):\n",
    "#     lt = np.concatenate((lt,lt))\n",
    "# lt.size"
   ]
  },
  {
   "cell_type": "code",
   "execution_count": null,
   "metadata": {},
   "outputs": [],
   "source": []
  },
  {
   "cell_type": "code",
   "execution_count": null,
   "metadata": {},
   "outputs": [],
   "source": [
    "## Plot multi-panel scatter model vs obs\n",
    "#\n",
    "# For ALL inits and lead times\n",
    "#\n",
    "ncols = 2\n",
    "nrows = 2\n",
    "f, (axes) = plt.subplots(ncols=ncols, nrows=nrows)\n",
    "f.set_size_inches((5,5))\n",
    "axes = axes.reshape(-1)\n",
    "cx = 0\n",
    "for cmod in ds_ALL.model.values:\n",
    "    if (cmod=='Observed') | (cmod=='MME'):\n",
    "        continue\n",
    "    axes[cx].scatter(ds_ALL.sel(model=cmod).mean_25km_1km.values.flatten(),\n",
    "                     ds_ALL.sel(model='Observed').mean_25km_1km.values.flatten(), \n",
    "                     c='k', \n",
    "                     marker='.',\n",
    "                     s=10)\n",
    "    axes[cx].plot([0,max_hi],[0,max_hi],'k--')\n",
    "    add_subplot_title(cmod, E, ax=axes[cx])\n",
    "#     axes[cx].set_title(cmod)\n",
    "    axes[cx].set_ylim([0,max_hi])\n",
    "    axes[cx].set_xlim([0,max_hi])\n",
    "    max_hi\n",
    "    if cx in [0,2]:\n",
    "        axes[cx].set_ylabel('Observed SIT (m)')\n",
    "    if cx in [2,3]:\n",
    "        axes[cx].set_xlabel('Modeled SIT (m)')\n",
    "    \n",
    "    cx = cx + 1\n",
    "plt.tight_layout()\n",
    "f_out = os.path.join(fig_dir,'HI_scatter_all_init_all_ft.png')\n",
    "f.savefig(f_out,bbox_inches='tight', dpi=300)"
   ]
  },
  {
   "cell_type": "code",
   "execution_count": null,
   "metadata": {},
   "outputs": [],
   "source": [
    "import scipy"
   ]
  },
  {
   "cell_type": "code",
   "execution_count": null,
   "metadata": {},
   "outputs": [],
   "source": [
    "def get_pearsonr(x,y):\n",
    "    I_ok = (~np.isnan(x)) & (~np.isnan(y))\n",
    "    x = x[I_ok]\n",
    "    y = y[I_ok]\n",
    "    \n",
    "    (r,p) = scipy.stats.pearsonr(x,y)\n",
    "    return r"
   ]
  },
  {
   "cell_type": "code",
   "execution_count": null,
   "metadata": {},
   "outputs": [],
   "source": [
    "def get_rmse(x,y):\n",
    "    I_ok = (~np.isnan(x)) & (~np.isnan(y))\n",
    "    x = x[I_ok]\n",
    "    y = y[I_ok]\n",
    "    \n",
    "    rmse = np.sqrt(np.mean((x-y)**2))\n",
    "    return rmse"
   ]
  },
  {
   "cell_type": "code",
   "execution_count": null,
   "metadata": {},
   "outputs": [],
   "source": []
  },
  {
   "cell_type": "code",
   "execution_count": null,
   "metadata": {},
   "outputs": [],
   "source": [
    "## Plot multi-panel scatter model vs obs\n",
    "#\n",
    "# For lead times < 1 week\n",
    "#\n",
    "sns.set_context(\"talk\", font_scale=.8, rc={\"lines.linewidth\": 2.5})\n",
    "mod_stats_dic = {}\n",
    "\n",
    "ncols = 2\n",
    "nrows = 3\n",
    "f, (axes) = plt.subplots(ncols=ncols, nrows=nrows)\n",
    "f.set_size_inches((5,5))\n",
    "axes = axes.reshape(-1)\n",
    "cx = 0\n",
    "for cmod in ds_ALL.model.values:\n",
    "    if (cmod=='Observed'):\n",
    "        continue\n",
    "    cmod_values = ds_ALL.isel(fore_time=slice(0,6)).sel(model=cmod).mean_25km_1km.values.flatten()\n",
    "    cobs_values = ds_ALL.isel(fore_time=slice(0,6)).sel(model='Observed').mean_25km_1km.values.flatten()\n",
    "    \n",
    "    axes[cx].scatter(cmod_values,\n",
    "                     cobs_values, \n",
    "                     c='k', \n",
    "                     marker='.',\n",
    "                     s=10,\n",
    "                     alpha=0.5)\n",
    "    r = get_pearsonr(cmod_values, cobs_values)\n",
    "    rmse = get_rmse(cmod_values, cobs_values)\n",
    "    stat_str = '$r^2$={0:.3f}, '.format(r**2) + 'rmse={0:.2f}'.format(rmse)\n",
    "    mod_stats_dic[cmod] = stat_str\n",
    "    print(stat_str)\n",
    "    axes[cx].plot([0,max_hi],[0,max_hi],'k--')\n",
    "    add_subplot_title(cmod, E, ax=axes[cx], statval=stat_str)\n",
    "#     axes[cx].set_title(cmod)\n",
    "    axes[cx].set_ylim([0,max_hi])\n",
    "    axes[cx].set_xlim([0,max_hi])\n",
    "    max_hi\n",
    "    if cx in [0,2]:\n",
    "        axes[cx].set_ylabel('Observed SIT (m)')\n",
    "    if cx in [2,3]:\n",
    "        axes[cx].set_xlabel('Modeled SIT (m)')\n",
    "    \n",
    "    cx = cx + 1\n",
    "plt.tight_layout()\n",
    "f_out = os.path.join(fig_dir,'HI_scatter_all_init_1week_ft.png')\n",
    "f.savefig(f_out,bbox_inches='tight', dpi=300)"
   ]
  },
  {
   "cell_type": "code",
   "execution_count": null,
   "metadata": {},
   "outputs": [],
   "source": [
    "## Plot multi-panel scatter model vs obs\n",
    "#\n",
    "# For lead times 2 week\n",
    "#\n",
    "ncols = 2\n",
    "nrows = 2\n",
    "f, (axes) = plt.subplots(ncols=ncols, nrows=nrows)\n",
    "f.set_size_inches((5,5))\n",
    "axes = axes.reshape(-1)\n",
    "cx = 0\n",
    "for cmod in ds_ALL.model.values:\n",
    "    if (cmod=='Observed') | (cmod=='MME'):\n",
    "        continue\n",
    "    axes[cx].scatter(ds_ALL.isel(fore_time=slice(8,8+7)).sel(model=cmod).mean_25km_1km.values.flatten(),\n",
    "                     ds_ALL.isel(fore_time=slice(8,8+7)).sel(model='Observed').mean_25km_1km.values.flatten(), \n",
    "                     c='k', \n",
    "                     marker='.',\n",
    "                     s=10)\n",
    "    axes[cx].plot([0,max_hi],[0,max_hi],'k--')\n",
    "    add_subplot_title(cmod, E, ax=axes[cx])\n",
    "#     axes[cx].set_title(cmod)\n",
    "    axes[cx].set_ylim([0,max_hi])\n",
    "    axes[cx].set_xlim([0,max_hi])\n",
    "    max_hi\n",
    "    if cx in [0,2]:\n",
    "        axes[cx].set_ylabel('Observed SIT (m)')\n",
    "    if cx in [2,3]:\n",
    "        axes[cx].set_xlabel('Modeled SIT (m)')\n",
    "    \n",
    "    cx = cx + 1\n",
    "plt.tight_layout()\n",
    "f_out = os.path.join(fig_dir,'HI_scatter_all_init_2weeks_ft.png')\n",
    "f.savefig(f_out,bbox_inches='tight', dpi=300)"
   ]
  },
  {
   "cell_type": "code",
   "execution_count": null,
   "metadata": {},
   "outputs": [],
   "source": [
    "def add_subplot_title(cmod, E, ax=None, statval=None, fontsize=24, fontcolor='k'):\n",
    "    if cmod in E.model.keys():\n",
    "        if statval:\n",
    "            ax.set_title(E.model[cmod]['model_label']+'\\n('+statval+')', fontsize=24, color=fontcolor)\n",
    "        else:\n",
    "            ax.set_title(E.model[cmod]['model_label'], fontsize=24, color=fontcolor)\n",
    "    else:\n",
    "        ax.set_title(cmod)"
   ]
  },
  {
   "cell_type": "code",
   "execution_count": null,
   "metadata": {},
   "outputs": [],
   "source": [
    "# Trying new map plot, colored overlays and scatter plot"
   ]
  },
  {
   "cell_type": "code",
   "execution_count": null,
   "metadata": {},
   "outputs": [],
   "source": [
    "ds_ALL.model.values"
   ]
  },
  {
   "cell_type": "code",
   "execution_count": null,
   "metadata": {},
   "outputs": [],
   "source": [
    "mod_stats_dic['Observed'] = None\n",
    "mod_colors = {'Observed':'k', 'gfdlsipn':'r', 'rasmesrl':'k', \n",
    "              'usnavygofs':'k', 'usnavyncep':'m','MME':'grey'}"
   ]
  },
  {
   "cell_type": "code",
   "execution_count": null,
   "metadata": {},
   "outputs": [],
   "source": [
    "## Plot subplots of SIT, model with observed overlayed\n",
    "# Set up color maps\n",
    "sns.set_context(\"talk\", font_scale=2, rc={\"lines.linewidth\": 2.5})\n",
    "\n",
    "N_cmap = 20\n",
    "cmap_c = matplotlib.colors.LinearSegmentedColormap.from_list(\"\", [\"white\",\"blue\",\"green\",\"red\",\"purple\"], N=N_cmap)\n",
    "#cmap_c = matplotlib.colors.ListedColormap(sns.color_palette(\"Blues\", N_cmap))\n",
    "\n",
    "cmap_c.set_bad(color = 'lightgrey')\n",
    "c_label = 'Sea Ice Thickness (m)'\n",
    "c_vmin = 0\n",
    "c_vmax = 4\n",
    "\n",
    "cmap_b = matplotlib.colors.LinearSegmentedColormap.from_list(\"\", [\"black\",\"black\"], N=2)\n",
    "\n",
    "\n",
    "nrows = 2#np.int(np.ceil(np.sqrt(ds_ALL.model.size)))\n",
    "ncols = 3#nrows\n",
    "Nplots = ds_ALL.model.size + 1\n",
    "\n",
    "ft_start = 0\n",
    "ft_end = 6 # inclusive!\n",
    "\n",
    "\n",
    "# New Plot\n",
    "central_extent = [-3850000*0.6, 3725000*0.6, -5325000*0.45, 5850000*0.45] # (x0, x1, y0, y1\n",
    "(f, axes) = ice_plot.multi_polar_axis(ncols=ncols, nrows=nrows, Nplots=Nplots, \n",
    "                                      extent=central_extent, central_longitude=0)\n",
    "\n",
    "f.set_size_inches(14, 9)\n",
    "\n",
    "label_dict = {0:'a)',1:'b)',2:'c)',4:'e)',5:'f)',}\n",
    "\n",
    "for (i, cmod) in enumerate(ds_ALL.model.values): #['Observed']+dynamical_Models+['MME']):\n",
    "    # Plot\n",
    "    \n",
    "    if cmod=='usnavygofs':\n",
    "        axs = plt.subplot(2,3,4)\n",
    "\n",
    "        axs.set_title('Models vs. Observed', fontsize=24)\n",
    "        \n",
    "        axs.text(-0.2, 1.2,'d)', fontsize=20, transform = axs.transAxes)\n",
    "        \n",
    "        for cmod in ds_ALL.model.values:\n",
    "            if (cmod=='Observed') | (cmod=='MME'):\n",
    "                continue\n",
    "            cmod_values = ds_ALL.isel(fore_time=slice(ft_start,ft_end)).sel(model=cmod).mean_25km_1km.values.flatten()\n",
    "            cobs_values = ds_ALL.isel(fore_time=slice(ft_start,ft_end)).sel(model='Observed').mean_25km_1km.values.flatten()\n",
    "\n",
    "            axs.scatter(cmod_values,\n",
    "                             cobs_values, \n",
    "                             c = mod_colors[cmod],\n",
    "                             marker='.',\n",
    "                             s=10,\n",
    "                             alpha=1)\n",
    "#             r = get_pearsonr(cmod_values, cobs_values)\n",
    "#             rmse = get_rmse(cmod_values, cobs_values)\n",
    "#             stat_str = '$r^2$={0:.3f}, '.format(r**2) + 'rmse={0:.2f}'.format(rmse)\n",
    "\n",
    "            \n",
    "        axs.plot([0,max_hi],[0,max_hi],'k--')\n",
    "        #add_subplot_title(cmod, E, ax=axes[cx], statval=stat_str)\n",
    "    #     axes[cx].set_title(cmod)\n",
    "        axs.set_ylim([0,max_hi])\n",
    "        axs.set_xlim([0,max_hi])\n",
    "        axs.set_ylabel('Observed SIT (m)')\n",
    "        axs.set_xlabel('Modeled SIT (m)')\n",
    "        \n",
    "        \n",
    "    else:\n",
    "        add_subplot_title(cmod, E, ax=axes[i], fontsize=20, statval=mod_stats_dic[cmod], fontcolor=mod_colors[cmod])\n",
    "        p = ds_ALL.sel(model=cmod).isel(fore_time=slice(ft_start,ft_end)).mean(dim=['init_end','fore_time']).mean_25km_1km.plot.pcolormesh(ax=axes[i], \n",
    "                                x='lon', y='lat', \n",
    "                                transform=ccrs.PlateCarree(),\n",
    "                                add_colorbar=False,cmap=cmap_c,vmin=c_vmin, vmax=c_vmax)\n",
    "        if cmod!='Observed':\n",
    "            axes[i].scatter(ds_ALL.lon.values,\n",
    "                           ds_ALL.lat.values,\n",
    "                           c = ds_ALL.sel(model='Observed').isel(fore_time=slice(ft_start,ft_end)).mean(dim=['init_end','fore_time']).mean_25km_1km.values,\n",
    "                           s = 1,\n",
    "                           transform=ccrs.PlateCarree(),\n",
    "                           cmap=cmap_b,vmin=c_vmin, vmax=c_vmax)\n",
    "        add_subplot_title(cmod, E, ax=axes[i], fontsize=24, statval=mod_stats_dic[cmod], fontcolor=mod_colors[cmod])\n",
    "        if cmod=='Observed':\n",
    "             axes[i].set_title('Observed (IceBridge)', fontsize=20) \n",
    "                \n",
    "        axes[i].text(-0.2, 1.2, label_dict[i], fontsize=20, transform = axes[i].transAxes)\n",
    "\n",
    "# Make pretty\n",
    "f.subplots_adjust(bottom=0.08, hspace=0.3)\n",
    "# cbar_ax = f.add_axes([0.85, 0.15, 0.05, 0.7])\n",
    "cbar_ax = f.add_axes([0.4, 0.001, .5, 0.03]) #  [left, bottom, width, height] w\n",
    "cbar = f.colorbar(p, cax=cbar_ax, label=c_label, orientation='horizontal')\n",
    "cbar.set_ticks(np.arange(0,max_hi+0.1,max_hi/N_cmap*2))\n",
    "cbar.ax.tick_params(labelsize=15) \n",
    "cbar.ax.yaxis.label.set_size(20)\n",
    "\n",
    "# # Save to file\n",
    "f_out = os.path.join(fig_dir,'SIT_maps_all_NEW_init_day_'+str(ft_start)+'_to_'+str(ft_end)+'_ft.png')\n",
    "f.savefig(f_out,bbox_inches='tight', dpi=300)"
   ]
  },
  {
   "cell_type": "code",
   "execution_count": null,
   "metadata": {},
   "outputs": [],
   "source": []
  },
  {
   "cell_type": "code",
   "execution_count": null,
   "metadata": {},
   "outputs": [],
   "source": []
  },
  {
   "cell_type": "code",
   "execution_count": null,
   "metadata": {},
   "outputs": [],
   "source": [
    "## Plot subplots of SIT, model with observed overlayed\n",
    "# Set up color maps\n",
    "sns.set_context(\"talk\", font_scale=2, rc={\"lines.linewidth\": 2.5})\n",
    "\n",
    "N_cmap = 20\n",
    "cmap_c = matplotlib.colors.LinearSegmentedColormap.from_list(\"\", [\"white\",\"blue\",\"green\",\"red\",\"purple\"], N=N_cmap)\n",
    "#cmap_c = matplotlib.colors.ListedColormap(sns.color_palette(\"Blues\", N_cmap))\n",
    "\n",
    "cmap_c.set_bad(color = 'lightgrey')\n",
    "c_label = 'Sea Ice Thickness (m)'\n",
    "c_vmin = 0\n",
    "c_vmax = 4\n",
    "\n",
    "cmap_b = matplotlib.colors.LinearSegmentedColormap.from_list(\"\", [\"black\",\"black\"], N=2)\n",
    "\n",
    "\n",
    "nrows = 2#np.int(np.ceil(np.sqrt(ds_ALL.model.size)))\n",
    "ncols = 3#nrows\n",
    "Nplots = ds_ALL.model.size + 1\n",
    "\n",
    "ft_start = 0\n",
    "ft_end = 6 # inclusive!\n",
    "\n",
    "\n",
    "# New Plot\n",
    "central_extent = [-3850000*0.6, 3725000*0.6, -5325000*0.45, 5850000*0.45] # (x0, x1, y0, y1\n",
    "(f, axes) = ice_plot.multi_polar_axis(ncols=ncols, nrows=nrows, Nplots=Nplots, \n",
    "                                      extent=central_extent, central_longitude=0)\n",
    "f.set_size_inches(14, 9)\n",
    "\n",
    "for (i, cmod) in enumerate(ds_ALL.model.values): #['Observed']+dynamical_Models+['MME']):\n",
    "    # Plot\n",
    "    add_subplot_title(cmod, E, ax=axes[i], fontsize=24)\n",
    "    p = ds_ALL.sel(model=cmod).isel(fore_time=slice(ft_start,ft_end)).mean(dim=['init_end','fore_time']).mean_25km_1km.plot.pcolormesh(ax=axes[i], \n",
    "                            x='lon', y='lat', \n",
    "                            transform=ccrs.PlateCarree(),\n",
    "                            add_colorbar=False,cmap=cmap_c,vmin=c_vmin, vmax=c_vmax)\n",
    "    if cmod!='Observed':\n",
    "        axes[i].scatter(ds_ALL.lon.values,\n",
    "                       ds_ALL.lat.values,\n",
    "                       c = ds_ALL.sel(model='Observed').isel(fore_time=slice(ft_start,ft_end)).mean(dim=['init_end','fore_time']).mean_25km_1km.values,\n",
    "                       s = 1,\n",
    "                       transform=ccrs.PlateCarree(),\n",
    "                       cmap=cmap_b,vmin=c_vmin, vmax=c_vmax)\n",
    "    add_subplot_title(cmod, E, ax=axes[i], fontsize=24)\n",
    "    if cmod=='Observed':\n",
    "         axes[i].set_title('Observed (IceBridge)', fontsize=24) \n",
    "\n",
    "# Make pretty\n",
    "f.subplots_adjust(bottom=0.05)\n",
    "# cbar_ax = f.add_axes([0.85, 0.15, 0.05, 0.7])\n",
    "cbar_ax = f.add_axes([0.2, 0.001, .6, 0.03]) #  [left, bottom, width, height] w\n",
    "cbar = f.colorbar(p, cax=cbar_ax, label=c_label, orientation='horizontal')\n",
    "cbar.set_ticks(np.arange(0,max_hi+0.1,max_hi/N_cmap*2))\n",
    "cbar.ax.tick_params(labelsize=15) \n",
    "cbar.ax.yaxis.label.set_size(20)\n",
    "\n",
    "# # Save to file\n",
    "f_out = os.path.join(fig_dir,'SIT_maps_all_init_day_'+str(ft_start)+'_to_'+str(ft_end)+'_ft.png')\n",
    "f.savefig(f_out,bbox_inches='tight', dpi=300)"
   ]
  },
  {
   "cell_type": "code",
   "execution_count": null,
   "metadata": {},
   "outputs": [],
   "source": []
  },
  {
   "cell_type": "code",
   "execution_count": null,
   "metadata": {},
   "outputs": [],
   "source": []
  },
  {
   "cell_type": "code",
   "execution_count": null,
   "metadata": {},
   "outputs": [],
   "source": []
  },
  {
   "cell_type": "code",
   "execution_count": null,
   "metadata": {},
   "outputs": [],
   "source": []
  },
  {
   "cell_type": "code",
   "execution_count": null,
   "metadata": {},
   "outputs": [],
   "source": [
    "# For SIP, calculate the Brier Skill Score for panArctic \n",
    "l = []\n",
    "for cmod in all_Models+['MME']:\n",
    "    c_SIP_BSS = metrics.BrierSkillScore(da_mod_sip=ds_ALL.sel(model=cmod).mean_25km_1km  , \n",
    "                                      da_obs_ip=ds_ALL.sel(model='Observed').mean_25km_1km  , \n",
    "                                      region=ds_region, \n",
    "                                      testplots=False)\n",
    "    c_SIP_BSS.coords['model'] = cmod\n",
    "    l.append(c_SIP_BSS)\n",
    "SIT_BSS = xr.concat(l, dim='model')"
   ]
  },
  {
   "cell_type": "code",
   "execution_count": null,
   "metadata": {},
   "outputs": [],
   "source": [
    "SIT_BSS.model"
   ]
  },
  {
   "cell_type": "code",
   "execution_count": null,
   "metadata": {},
   "outputs": [],
   "source": [
    "# Load into memory here (do compute once instead of many times below)\n",
    "#SIT_BSS.persist()"
   ]
  },
  {
   "cell_type": "code",
   "execution_count": null,
   "metadata": {},
   "outputs": [],
   "source": []
  },
  {
   "cell_type": "code",
   "execution_count": null,
   "metadata": {},
   "outputs": [],
   "source": [
    "# # Get BSS by region\n",
    "# SIT_BSS_region = metrics.agg_metric_domain(da_grid=SIT_BSS, ds_region=ds_region)\n",
    "# SIT_BSS_region"
   ]
  },
  {
   "cell_type": "code",
   "execution_count": null,
   "metadata": {},
   "outputs": [],
   "source": []
  },
  {
   "cell_type": "code",
   "execution_count": null,
   "metadata": {},
   "outputs": [],
   "source": []
  },
  {
   "cell_type": "code",
   "execution_count": null,
   "metadata": {},
   "outputs": [],
   "source": []
  },
  {
   "cell_type": "code",
   "execution_count": null,
   "metadata": {},
   "outputs": [],
   "source": [
    "# add missing info for climatology\n",
    "E.model_color['climatology'] = (0,0,0)\n",
    "E.model_linestyle['climatology'] = '--'\n",
    "E.model_marker['climatology'] = '*'\n",
    "E.model['climatology'] = {'model_label':'Climatology'}"
   ]
  },
  {
   "cell_type": "code",
   "execution_count": null,
   "metadata": {},
   "outputs": [],
   "source": [
    "# Aggregate over space (x,y)\n",
    "BSS_agg = SIT_BSS.mean(dim=['x','y'])\n",
    "BSS_agg.load()"
   ]
  },
  {
   "cell_type": "code",
   "execution_count": null,
   "metadata": {},
   "outputs": [],
   "source": []
  },
  {
   "cell_type": "code",
   "execution_count": null,
   "metadata": {},
   "outputs": [],
   "source": []
  },
  {
   "cell_type": "markdown",
   "metadata": {},
   "source": [
    "## Regional"
   ]
  },
  {
   "cell_type": "code",
   "execution_count": null,
   "metadata": {},
   "outputs": [],
   "source": [
    "# # For each region\n",
    "# for creg in SIT_BSS_region.nregions.values:\n",
    "\n",
    "#     # Agg over init_time\n",
    "#     c_agg_BSS = SIT_BSS_region.sel(nregions=creg).mean(dim='init_end')\n",
    "\n",
    "#     sns.set_context(\"talk\", font_scale=1.5, rc={\"lines.linewidth\": 2.5})\n",
    "#     f = plt.figure(figsize=(10,10))\n",
    "#     for cmod in c_agg_BSS.model.values:\n",
    "#         # Get model plotting specs\n",
    "#         cc = E.model_color[cmod]\n",
    "#         cl = E.model_linestyle[cmod]\n",
    "#         cm = E.model_marker[cmod]\n",
    "#         if cmod=='MME':\n",
    "#             lw=5\n",
    "#         else:\n",
    "#             lw = 2\n",
    "#         plt.plot(c_agg_BSS.fore_time.values.astype('timedelta64[D]').astype(int),\n",
    "#                 c_agg_BSS.sel(model=cmod).values, label=E.model[cmod]['model_label'],\n",
    "#                 color=cc,\n",
    "#                 linestyle=cl,\n",
    "#                 linewidth=lw,\n",
    "#                 marker=cm)\n",
    "#     plt.legend(loc='lower right', bbox_to_anchor=(1.4, 0))\n",
    "#     plt.ylabel('BSS (-)')\n",
    "#     plt.xlabel('Lead time (Days)')\n",
    "#     plt.title(c_agg_BSS.region_names.item())\n",
    "#     # Save to file\n",
    "#     f_out = os.path.join(fig_dir,'BSS_by_lead_time'+c_agg_BSS.region_names.item().replace(' ','_')+'.png')\n",
    "#     f.savefig(f_out,bbox_inches='tight', dpi=300)"
   ]
  },
  {
   "cell_type": "code",
   "execution_count": null,
   "metadata": {},
   "outputs": [],
   "source": [
    "# Try resampling to weekly means? (do before calcualting BSS)"
   ]
  },
  {
   "cell_type": "code",
   "execution_count": null,
   "metadata": {},
   "outputs": [],
   "source": [
    "# Agg over init_time\n",
    "BSS_agg_init = BSS_agg.mean(dim='init_end')\n",
    "\n",
    "sns.set_context(\"talk\", font_scale=1.5, rc={\"lines.linewidth\": 2.5})\n",
    "f = plt.figure(figsize=(10,10))\n",
    "for cmod in BSS_agg_init.model.values:\n",
    "    if cmod=='MME':\n",
    "        continue\n",
    "    # Get model plotting specs\n",
    "    cc = E.model_color[cmod]\n",
    "    cl = E.model_linestyle[cmod]\n",
    "    cm = E.model_marker[cmod]\n",
    "    if cmod=='MME':\n",
    "        lw=5\n",
    "    else:\n",
    "        lw = 2\n",
    "    plt.plot(BSS_agg_init.fore_time.values.astype('timedelta64[D]').astype(int)/7 + 1,\n",
    "            BSS_agg_init.sel(model=cmod).values, label=E.model[cmod]['model_label'],\n",
    "            color=cc,\n",
    "            linestyle=cl,\n",
    "            linewidth=lw,\n",
    "            marker=cm)\n",
    "plt.legend(loc='lower right', bbox_to_anchor=(1.4, 0))\n",
    "plt.ylabel('BSS (-)')\n",
    "plt.xlabel('Lead time (Weeks)')\n",
    "# Save to file\n",
    "f_out = os.path.join(fig_dir,'BSS_by_lead_time_PanArctic.png')\n",
    "f.savefig(f_out,bbox_inches='tight', dpi=300)"
   ]
  },
  {
   "cell_type": "code",
   "execution_count": null,
   "metadata": {},
   "outputs": [],
   "source": [
    "MaxLeadTime_With_Data = BSS_agg_init.where(BSS_agg_init.notnull(), drop=True).fore_time.max().values.astype('timedelta64[D]').astype(int)"
   ]
  },
  {
   "cell_type": "code",
   "execution_count": null,
   "metadata": {},
   "outputs": [],
   "source": []
  },
  {
   "cell_type": "code",
   "execution_count": null,
   "metadata": {},
   "outputs": [],
   "source": [
    "# BSS_agg_init_short = BSS_agg_init.isel(fore_time=slice(0,5))\n",
    "\n",
    "# sns.set_context(\"talk\", font_scale=1.5, rc={\"lines.linewidth\": 2.5})\n",
    "# f = plt.figure(figsize=(10,10))\n",
    "# for cmod in BSS_agg_init_short.model.values:\n",
    "#     # Get model plotting specs\n",
    "#     cc = E.model_color[cmod]\n",
    "#     cl = E.model_linestyle[cmod]\n",
    "#     cm = E.model_marker[cmod]\n",
    "#     if cmod=='MME':\n",
    "#         lw=5\n",
    "#     else:\n",
    "#         lw = 2\n",
    "#     plt.plot(BSS_agg_init_short.fore_time.values.astype('timedelta64[D]').astype(int)/7 + 1,\n",
    "#             BSS_agg_init_short.sel(model=cmod).values, label=E.model[cmod]['model_label'],\n",
    "#             color=cc,\n",
    "#             linestyle=cl,\n",
    "#             linewidth=lw,\n",
    "#             marker=cm)\n",
    "# plt.legend(loc='lower right', bbox_to_anchor=(1.4, 0))\n",
    "# plt.ylabel('BSS (-)')\n",
    "# plt.xlabel('Lead time (Weeks)')\n",
    "# plt.xlim([0,30])\n",
    "# # Save to file\n",
    "# f_out = os.path.join(fig_dir,'BSS_by_lead_time_short.png')\n",
    "# f.savefig(f_out,bbox_inches='tight', dpi=300)"
   ]
  },
  {
   "cell_type": "code",
   "execution_count": null,
   "metadata": {},
   "outputs": [],
   "source": [
    "# Plot BSS by init time for 1 selected fore_time\n",
    "# 4 = 28 days\n",
    "for ft_i in [4,6]:\n",
    "    BSS_agg_fore = BSS_agg.isel(fore_time=ft_i)\n",
    "\n",
    "    sns.set_context(\"talk\", font_scale=1.5, rc={\"lines.linewidth\": 2.5})\n",
    "    f = plt.figure(figsize=(10,10))\n",
    "    for cmod in BSS_agg_fore.model.values:\n",
    "        # Get model plotting specs\n",
    "        cc = E.model_color[cmod]\n",
    "        cl = E.model_linestyle[cmod]\n",
    "        cm = E.model_marker[cmod]\n",
    "        if cmod=='MME':\n",
    "            lw=4\n",
    "        else:\n",
    "            lw = 2\n",
    "        plt.plot(BSS_agg_fore.init_end.values,\n",
    "                BSS_agg_fore.sel(model=cmod).values, label=E.model[cmod]['model_label'],\n",
    "                color=cc,\n",
    "                linestyle=cl,\n",
    "                linewidth=lw,\n",
    "                marker=cm)\n",
    "    plt.legend(loc='lower right', bbox_to_anchor=(1.4, -0.1))\n",
    "    plt.ylabel('BSS (-)')\n",
    "    plt.xlabel('Initialization date')\n",
    "    plt.title(BSS_agg_fore.fore_time.values.astype('timedelta64[D]').astype(int))\n",
    "    f.autofmt_xdate()\n",
    "    # Save to file\n",
    "    f_out = os.path.join(fig_dir,'BSS_by_init_time_'+str(BSS_agg_fore.fore_time.values.astype('timedelta64[D]').astype(int))+'_days.png')\n",
    "    f.savefig(f_out,bbox_inches='tight', dpi=300)"
   ]
  },
  {
   "cell_type": "code",
   "execution_count": null,
   "metadata": {},
   "outputs": [],
   "source": []
  },
  {
   "cell_type": "code",
   "execution_count": null,
   "metadata": {},
   "outputs": [],
   "source": []
  },
  {
   "cell_type": "code",
   "execution_count": null,
   "metadata": {},
   "outputs": [],
   "source": [
    "# # Plot init_time vs. fore_time BSS for select models\n",
    "# ft_i = 6 \n",
    "# BSS_agg_fore = BSS_agg.isel(fore_time=ft_i)\n",
    "# BSS_agg_init = BSS_agg.mean(dim='init_end')\n",
    "\n",
    "# f = plt.figure()\n",
    "# plt.pcolormesh(BSS_agg_fore.init_end.values, \n",
    "#                BSS_agg_init.fore_time.values.astype('timedelta64[D]').astype(int), \n",
    "#                BSS_agg.sel(model='MME').T.values)\n",
    "# plt.colorbar()\n",
    "# f.autofmt_xdate()\n",
    "# plt.ylabel('Lead time (Days)')"
   ]
  },
  {
   "cell_type": "code",
   "execution_count": null,
   "metadata": {},
   "outputs": [],
   "source": []
  },
  {
   "cell_type": "code",
   "execution_count": null,
   "metadata": {},
   "outputs": [],
   "source": []
  },
  {
   "cell_type": "code",
   "execution_count": null,
   "metadata": {},
   "outputs": [],
   "source": [
    "BSS_agg_MAX = BSS_agg.max()"
   ]
  },
  {
   "cell_type": "code",
   "execution_count": null,
   "metadata": {},
   "outputs": [],
   "source": [
    "sns.set_style('ticks')\n",
    "sns.set_context(\"talk\", font_scale=1.3, rc={\"lines.linewidth\": 2.5})\n",
    "# Plot init_time vs. fore_time BSS for select models\n",
    "BSS_agg_fore = BSS_agg.isel(fore_time=0)\n",
    "BSS_agg_init = BSS_agg.mean(dim='init_end')\n",
    "\n",
    "Ncols=2\n",
    "Nrows=3\n",
    "\n",
    "f, (axes) = plt.subplots(ncols=Ncols, nrows=Nrows)    \n",
    "f.set_size_inches(20, 15)\n",
    "\n",
    "axes = axes.reshape(-1)\n",
    "for (i,cmod) in enumerate(BSS_agg.model.values):\n",
    "    p = axes[i].pcolormesh(BSS_agg_fore.init_end.values, \n",
    "               BSS_agg_init.fore_time.values.astype('timedelta64[D]').astype(int), \n",
    "               BSS_agg.sel(model=cmod).T.values,\n",
    "                      cmap='Blues', vmin=0) #, vmax=0.1)\n",
    "    axes[i].set_title(E.model[cmod]['model_label'])\n",
    "    axes[i].set_ylim([0,MaxLeadTime_With_Data])\n",
    "    if np.any(i in np.arange(0,Ncols*Nrows,5)):\n",
    "        axes[i].set_ylabel('Lead time (Days)')\n",
    "    else:\n",
    "        axes[i].set_yticklabels([])\n",
    "\n",
    "f.autofmt_xdate()   \n",
    "\n",
    "# Add colorbar\n",
    "f.subplots_adjust(right=0.8)\n",
    "cbar_ax = f.add_axes([0.85, 0.15, 0.025, 0.7])\n",
    "cbar = f.colorbar(p, cax=cbar_ax, label='Brier Skill Score (-)')\n",
    "\n",
    "f_out = os.path.join(fig_dir,'BSS_init_vs_fore_time.png')\n",
    "f.savefig(f_out,bbox_inches='tight', dpi=300)"
   ]
  },
  {
   "cell_type": "code",
   "execution_count": null,
   "metadata": {},
   "outputs": [],
   "source": []
  },
  {
   "cell_type": "code",
   "execution_count": null,
   "metadata": {},
   "outputs": [],
   "source": []
  },
  {
   "cell_type": "code",
   "execution_count": null,
   "metadata": {},
   "outputs": [],
   "source": [
    "# # Test skill at various lead times for one valid/target week\n",
    "# BSS_agg = import_data.get_valid_time(BSS_agg, init_dim='init_end')\n",
    "\n",
    "\n",
    "\n",
    "\n",
    "\n",
    "\n",
    "# tar_week_start = np.datetime64('2018-07-01')\n",
    "# tar_week_end = np.datetime64('2018-07-06')\n",
    "\n",
    "# BSS_agg.valid_time.max()\n",
    "\n",
    "# tar_BSS_agg = BSS_agg.where((BSS_agg.valid_time>=tar_week_start) & (BSS_agg.valid_time<=tar_week_end), drop=True) "
   ]
  },
  {
   "cell_type": "code",
   "execution_count": null,
   "metadata": {},
   "outputs": [],
   "source": []
  },
  {
   "cell_type": "code",
   "execution_count": null,
   "metadata": {},
   "outputs": [],
   "source": [
    "\n"
   ]
  },
  {
   "cell_type": "code",
   "execution_count": null,
   "metadata": {},
   "outputs": [],
   "source": [
    "# sns.set_context(\"talk\", font_scale=1.5, rc={\"lines.linewidth\": 2.5})\n",
    "# f = plt.figure(figsize=(10,10))\n",
    "# for cmod in tar_agg.model.values:\n",
    "#     # Get model plotting specs\n",
    "#     cc = E.model_color[cmod]\n",
    "#     cl = E.model_linestyle[cmod]\n",
    "#     cm = E.model_marker[cmod]\n",
    "#     if cmod=='MME':\n",
    "#         lw=5\n",
    "#     else:\n",
    "#         lw = 2\n",
    "        \n",
    "#     Y = tar_BSS_agg.sel(model=cmod).stack(forecast=('init_end','fore_time'))\n",
    "#     Y = Y.where(Y.notnull(), drop=True)        \n",
    "#     plt.plot(Y.init_end,\n",
    "#             Y.values, label=E.model[cmod]['model_label'],\n",
    "#             color=cc,\n",
    "#             linestyle=cl,\n",
    "#             linewidth=lw,\n",
    "#             marker=cm)\n",
    "# plt.legend(loc='lower right', bbox_to_anchor=(1.4, 0))\n",
    "# plt.ylabel('BSS (-)')\n",
    "# plt.xlabel('Initialization date')\n",
    "# f.autofmt_xdate()\n",
    "\n",
    "# # Save to file\n",
    "# f_out = os.path.join(fig_dir,'BSS_July_Target.png')\n",
    "# f.savefig(f_out,bbox_inches='tight', dpi=300)"
   ]
  },
  {
   "cell_type": "code",
   "execution_count": null,
   "metadata": {},
   "outputs": [],
   "source": []
  },
  {
   "cell_type": "markdown",
   "metadata": {},
   "source": [
    "# SIP"
   ]
  },
  {
   "cell_type": "code",
   "execution_count": null,
   "metadata": {},
   "outputs": [],
   "source": []
  },
  {
   "cell_type": "markdown",
   "metadata": {},
   "source": [
    "# BSS"
   ]
  },
  {
   "cell_type": "code",
   "execution_count": null,
   "metadata": {},
   "outputs": [],
   "source": []
  },
  {
   "cell_type": "code",
   "execution_count": null,
   "metadata": {},
   "outputs": [],
   "source": []
  },
  {
   "cell_type": "code",
   "execution_count": null,
   "metadata": {},
   "outputs": [],
   "source": [
    "SIP_BSS_init_avg = SIT_BSS.mean(dim='init_end')\n",
    "\n",
    "sns.set_context(\"talk\", font_scale=.8, rc={\"lines.linewidth\": 2.5})\n",
    "\n",
    "# Set up color maps\n",
    "cmap_c = matplotlib.colors.LinearSegmentedColormap.from_list(\"\", [\"white\",\"orange\",\"red\",\"#990000\"], N=10)\n",
    "cmap_c.set_bad(color = 'lightgrey')\n",
    "c_label = 'BSS (0=best, 1=worst)'\n",
    "c_vmin = 0\n",
    "c_vmax = 1\n",
    "\n",
    "nrows = np.int(np.ceil(np.sqrt(SIP_BSS_init_avg.model.size)))\n",
    "ncols = int(np.ceil(SIP_BSS_init_avg.model.size/nrows))\n",
    "Nplots = SIP_BSS_init_avg.model.size + 1\n",
    "        \n",
    "for ft in SIP_BSS_init_avg.fore_time.values:  \n",
    "    \n",
    "    # New Plot\n",
    "    central_extent = [-3850000*0.6, 3725000*0.6, -5325000*0.45, 5850000*0.45] # (x0, x1, y0, y1\n",
    "    (f, axes) = ice_plot.multi_polar_axis(ncols=ncols, nrows=nrows, Nplots=Nplots, \n",
    "                                          extent=central_extent, central_longitude=0)\n",
    "\n",
    "    for (i, cmod) in enumerate(SIP_BSS_init_avg.model.values):\n",
    "        # Plot\n",
    "        add_subplot_title(cmod, E, ax=axes[i])\n",
    "        p = SIP_BSS_init_avg.sel(model=cmod).sel(fore_time=ft).plot.pcolormesh(ax=axes[i], x='lon', y='lat', \n",
    "                              transform=ccrs.PlateCarree(),\n",
    "                              add_colorbar=False,\n",
    "                              cmap=cmap_c,\n",
    "                              vmin=c_vmin, vmax=c_vmax)\n",
    "        add_subplot_title(cmod, E, ax=axes[i], BSS_val='{0:.3f}'.format(SIP_BSS_init_avg.sel(model=cmod).sel(fore_time=ft).mean(dim=['x','y']).load().item()))\n",
    "\n",
    "    # Make pretty\n",
    "    f.subplots_adjust(bottom=0.05)\n",
    "    # cbar_ax = f.add_axes([0.85, 0.15, 0.05, 0.7])\n",
    "    cbar_ax = f.add_axes([0.25, 0.001, .5, 0.04]) #  [left, bottom, width, height] w\n",
    "    cbar = f.colorbar(p, cax=cbar_ax, label=c_label, orientation='horizontal')\n",
    "    cbar.set_ticks(np.arange(-1,1.1,0.2))\n",
    "    \n",
    "    # Set title of all plots\n",
    "    lead_time_days = str(ft.astype('timedelta64[D]').astype(int))\n",
    "    print(lead_time_days)\n",
    "#     plt.suptitle(lead_time_days+' day lead time', fontsize=15)\n",
    "#     plt.subplots_adjust(top=0.93)\n",
    "\n",
    "    # Save to file\n",
    "    f_out = os.path.join(fig_dir,'BSS_Avg_all_Inits_'+lead_time_days.zfill(3)+'_day_lead_time.png')\n",
    "    f.savefig(f_out,bbox_inches='tight', dpi=300)"
   ]
  },
  {
   "cell_type": "markdown",
   "metadata": {},
   "source": [
    "## Plot BSS as a ratio of model to damped trend"
   ]
  },
  {
   "cell_type": "code",
   "execution_count": null,
   "metadata": {},
   "outputs": [],
   "source": [
    "# SIP_BSS_init_avg = SIP_BSS.mean(dim='init_end')\n",
    "\n",
    "# sns.set_context(\"talk\", font_scale=.8, rc={\"lines.linewidth\": 2.5})\n",
    "\n",
    "# # Set up color maps\n",
    "\n",
    "# cmap_c = matplotlib.colors.LinearSegmentedColormap.from_list(\"\", [\"blue\", \"white\", \"red\"])\n",
    "# cmap_c.set_bad(color = 'lightgrey')\n",
    "# c_label = 'BSS Difference (model - damped trend)'\n",
    "# c_vmin = -1\n",
    "# c_vmax = 1\n",
    "\n",
    "# nrows = np.int(np.ceil(np.sqrt(SIP_BSS_init_avg.model.size)))\n",
    "# ncols = int(np.ceil(SIP_BSS_init_avg.model.size/nrows))\n",
    "# Nplots = SIP_BSS_init_avg.model.size + 1\n",
    "        \n",
    "# for ft in SIP_BSS_init_avg.fore_time.values:  \n",
    "    \n",
    "#     # New Plot\n",
    "#     central_extent = [-3850000*0.6, 3725000*0.6, -5325000*0.45, 5850000*0.45] # (x0, x1, y0, y1\n",
    "#     (f, axes) = ice_plot.multi_polar_axis(ncols=ncols, nrows=nrows, Nplots=Nplots, \n",
    "#                                           extent=central_extent, central_longitude=0)\n",
    "\n",
    "#     for (i, cmod) in enumerate(SIP_BSS_init_avg.model.values):\n",
    "#         # Plot\n",
    "#         add_subplot_title(cmod, E, ax=axes[i])\n",
    "#         c_ratio = SIP_BSS_init_avg.sel(model=cmod) - SIP_BSS_init_avg.sel(model='dampedAnomalyTrend')\n",
    "#         p = c_ratio.sel(fore_time=ft).plot.pcolormesh(ax=axes[i], x='lon', y='lat', \n",
    "#                               transform=ccrs.PlateCarree(),\n",
    "#                               add_colorbar=False,\n",
    "#                               cmap=cmap_c,\n",
    "#                               vmin=c_vmin, vmax=c_vmax)\n",
    "#         add_subplot_title(cmod, E, ax=axes[i], BSS_val='{0:.3f}'.format(c_ratio.sel(fore_time=ft).mean(dim=['x','y']).load().item()))\n",
    "\n",
    "#     # Make pretty\n",
    "#     f.subplots_adjust(bottom=0.05)\n",
    "#     # cbar_ax = f.add_axes([0.85, 0.15, 0.05, 0.7])\n",
    "#     cbar_ax = f.add_axes([0.25, 0.001, .5, 0.04]) #  [left, bottom, width, height] w\n",
    "#     cbar = f.colorbar(p, cax=cbar_ax, label=c_label, orientation='horizontal')\n",
    "#     cbar.set_ticks(np.arange(-1,1.1,0.2))\n",
    "    \n",
    "#     # Set title of all plots\n",
    "#     lead_time_days = str(ft.astype('timedelta64[D]').astype(int))\n",
    "#     print(lead_time_days)\n",
    "# #     plt.suptitle(lead_time_days+' day lead time', fontsize=15)\n",
    "# #     plt.subplots_adjust(top=0.93)\n",
    "\n",
    "#     # Save to file\n",
    "#     f_out = os.path.join(fig_dir,'Ratio','BSS_Avg_all_Inits_RATIO_'+lead_time_days.zfill(3)+'_day_lead_time.png')\n",
    "#     f.savefig(f_out,bbox_inches='tight', dpi=300)"
   ]
  },
  {
   "cell_type": "code",
   "execution_count": null,
   "metadata": {},
   "outputs": [],
   "source": [
    "# Plot spatial average BSS\n",
    "\n",
    "sns.set_context(\"talk\", font_scale=.8, rc={\"lines.linewidth\": 2.5})\n",
    "\n",
    "# Set up color maps\n",
    "cmap_c = matplotlib.colors.LinearSegmentedColormap.from_list(\"\", [\"white\",\"orange\",\"red\",\"#990000\"], N=10)\n",
    "cmap_c.set_bad(color = 'lightgrey')\n",
    "c_label = 'BSS (0=best, 1=worst)'\n",
    "c_vmin = 0\n",
    "c_vmax = 1\n",
    "\n",
    "nrows = np.int(np.ceil(np.sqrt(SIP_BSS.model.size)))\n",
    "ncols = nrows\n",
    "Nplots = SIP_BSS.model.size + 1\n",
    "\n",
    "\n",
    "        \n",
    "\n",
    "# New Plot\n",
    "central_extent = [-3850000*0.6, 3725000*0.6, -5325000*0.45, 5850000*0.45] # (x0, x1, y0, y1\n",
    "(f, axes) = ice_plot.multi_polar_axis(ncols=ncols, nrows=nrows, Nplots=Nplots, \n",
    "                                      extent=central_extent, central_longitude=0)\n",
    "\n",
    "for (i, cmod) in enumerate(SIP_BSS.model.values):\n",
    "    # Plot\n",
    "    add_subplot_title(cmod, E, ax=axes[i])\n",
    "    cBSS_data = SIP_BSS.sel(model=cmod).mean(dim='fore_time')\n",
    "    p = cBSS_data.plot.pcolormesh(ax=axes[i], x='lon', y='lat', \n",
    "                          transform=ccrs.PlateCarree(),\n",
    "                          add_colorbar=False,\n",
    "                          cmap=cmap_c,\n",
    "                          vmin=c_vmin, vmax=c_vmax)\n",
    "    add_subplot_title(cmod, E, ax=axes[i], BSS_val='{0:.3f}'.format(cBSS_data.mean(dim=['x','y']).load().item()))\n",
    "\n",
    "# Make pretty\n",
    "f.subplots_adjust(bottom=0.05)\n",
    "# cbar_ax = f.add_axes([0.85, 0.15, 0.05, 0.7])\n",
    "cbar_ax = f.add_axes([0.25, 0.001, .5, 0.04]) #  [left, bottom, width, height] w\n",
    "cbar = f.colorbar(p, cax=cbar_ax, label=c_label, orientation='horizontal')\n",
    "cbar.set_ticks(np.arange(-1,1.1,0.2))\n",
    "\n",
    "# Set title of all plots\n",
    "lead_time_days = str(SIP_BSS.fore_time[-1].values.astype('timedelta64[D]').astype(int))\n",
    "print(lead_time_days)\n",
    "plt.suptitle('BSS for all lead times', fontsize=15)\n",
    "plt.subplots_adjust(top=0.85)\n",
    "\n",
    "# Save to file\n",
    "f_out = os.path.join(fig_dir,'BSS_Avg_all_Inits_all_lead_times.png')\n",
    "f.savefig(f_out,bbox_inches='tight', dpi=300)"
   ]
  },
  {
   "cell_type": "code",
   "execution_count": null,
   "metadata": {},
   "outputs": [],
   "source": []
  },
  {
   "cell_type": "code",
   "execution_count": null,
   "metadata": {},
   "outputs": [],
   "source": []
  },
  {
   "cell_type": "code",
   "execution_count": null,
   "metadata": {},
   "outputs": [],
   "source": []
  },
  {
   "cell_type": "code",
   "execution_count": null,
   "metadata": {},
   "outputs": [],
   "source": []
  },
  {
   "cell_type": "code",
   "execution_count": null,
   "metadata": {},
   "outputs": [],
   "source": []
  },
  {
   "cell_type": "code",
   "execution_count": null,
   "metadata": {},
   "outputs": [],
   "source": []
  },
  {
   "cell_type": "code",
   "execution_count": null,
   "metadata": {},
   "outputs": [],
   "source": []
  },
  {
   "cell_type": "code",
   "execution_count": null,
   "metadata": {},
   "outputs": [],
   "source": []
  },
  {
   "cell_type": "code",
   "execution_count": null,
   "metadata": {},
   "outputs": [],
   "source": []
  },
  {
   "cell_type": "code",
   "execution_count": null,
   "metadata": {},
   "outputs": [],
   "source": []
  }
 ],
 "metadata": {
  "kernelspec": {
   "display_name": "3.6.4 esio",
   "language": "python",
   "name": "esio"
  },
  "language_info": {
   "codemirror_mode": {
    "name": "ipython",
    "version": 3
   },
   "file_extension": ".py",
   "mimetype": "text/x-python",
   "name": "python",
   "nbconvert_exporter": "python",
   "pygments_lexer": "ipython3",
   "version": "3.6.4"
  }
 },
 "nbformat": 4,
 "nbformat_minor": 2
}
