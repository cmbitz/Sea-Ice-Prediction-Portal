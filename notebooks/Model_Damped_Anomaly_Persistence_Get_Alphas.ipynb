{
 "cells": [
  {
   "cell_type": "code",
   "execution_count": 1,
   "metadata": {},
   "outputs": [],
   "source": [
    "'''\n",
    "\n",
    "This code is part of the SIPN2 project focused on improving sub-seasonal to seasonal predictions of Arctic Sea Ice. \n",
    "If you use this code for a publication or presentation, please cite the reference in the README.md on the\n",
    "main page (https://github.com/NicWayand/ESIO). \n",
    "\n",
    "Questions or comments should be addressed to nicway@uw.edu\n",
    "\n",
    "Copyright (c) 2018 Nic Wayand\n",
    "\n",
    "GNU General Public License v3.0\n",
    "\n",
    "\n",
    "'''\n",
    "\n",
    "'''\n",
    "Plot forecast maps with all available models.\n",
    "'''\n",
    "\n",
    "%matplotlib inline\n",
    "%load_ext autoreload\n",
    "%autoreload\n",
    "import matplotlib\n",
    "import matplotlib.pyplot as plt\n",
    "from collections import OrderedDict\n",
    "import numpy as np\n",
    "import numpy.ma as ma\n",
    "import pandas as pd\n",
    "import struct\n",
    "import os\n",
    "import xarray as xr\n",
    "import glob\n",
    "import datetime\n",
    "import cartopy.crs as ccrs\n",
    "from cartopy.mpl.gridliner import LONGITUDE_FORMATTER, LATITUDE_FORMATTER\n",
    "import seaborn as sns\n",
    "np.seterr(divide='ignore', invalid='ignore')\n",
    "import warnings\n",
    "warnings.simplefilter(action='ignore', category=FutureWarning)\n",
    "from esio import EsioData as ed\n",
    "from esio import ice_plot\n",
    "from esio import import_data\n",
    "from esio import metrics\n",
    "import dask\n",
    "import xskillscore as xs\n",
    "\n",
    "# General plotting settings\n",
    "sns.set_style('whitegrid')\n",
    "sns.set_context(\"talk\", font_scale=.8, rc={\"lines.linewidth\": 2.5})"
   ]
  },
  {
   "cell_type": "code",
   "execution_count": null,
   "metadata": {},
   "outputs": [],
   "source": []
  },
  {
   "cell_type": "code",
   "execution_count": 2,
   "metadata": {},
   "outputs": [
    {
     "data": {
      "text/plain": [
       "<dask.config.set at 0x7f0cfb72b4e0>"
      ]
     },
     "execution_count": 2,
     "metadata": {},
     "output_type": "execute_result"
    }
   ],
   "source": [
    "# from dask.distributed import Client\n",
    "# client = Client(n_workers=2)\n",
    "# client = Client()\n",
    "# client\n",
    "dask.config.set(scheduler='threads')  # overwrite default with threaded scheduler\n",
    "# dask.config.set(scheduler='processes')  # overwrite default with threaded scheduler"
   ]
  },
  {
   "cell_type": "code",
   "execution_count": 3,
   "metadata": {},
   "outputs": [],
   "source": [
    "# Parameters\n",
    "pred_year = 2018 # Prediction year\n",
    "Y_Start = 1979\n",
    "Y_End = 2017"
   ]
  },
  {
   "cell_type": "code",
   "execution_count": null,
   "metadata": {},
   "outputs": [],
   "source": []
  },
  {
   "cell_type": "code",
   "execution_count": 4,
   "metadata": {},
   "outputs": [],
   "source": [
    "#############################################################\n",
    "# Load in Data\n",
    "#############################################################\n",
    "\n",
    "E = ed.EsioData.load()\n",
    "mod_dir = E.model_dir\n",
    "\n",
    "# Get recent observations\n",
    "ds_81 = xr.open_mfdataset(E.obs['NSIDC_0081']['sipn_nc']+'_yearly/*.nc', concat_dim='time', autoclose=True, parallel=True).sic\n",
    "#ds_51 = xr.open_mfdataset(E.obs['NSIDC_0051']['sipn_nc']+'_yearly/*.nc', concat_dim='time', autoclose=True, parallel=True)\n",
    "ds_79 = xr.open_mfdataset(E.obs['NSIDC_0079']['sipn_nc']+'_yearly/*.nc', concat_dim='time', autoclose=True, parallel=True).sic"
   ]
  },
  {
   "cell_type": "code",
   "execution_count": null,
   "metadata": {},
   "outputs": [],
   "source": []
  },
  {
   "cell_type": "code",
   "execution_count": 5,
   "metadata": {},
   "outputs": [],
   "source": [
    "# Fill in pole hole with sic of 1\n",
    "ds_81 = ds_81.where(ds_81.hole_mask==0, other=1)\n",
    "ds_79 = ds_79.where(ds_79.hole_mask==0, other=1)"
   ]
  },
  {
   "cell_type": "code",
   "execution_count": null,
   "metadata": {},
   "outputs": [],
   "source": []
  },
  {
   "cell_type": "code",
   "execution_count": null,
   "metadata": {},
   "outputs": [],
   "source": [
    "\n"
   ]
  },
  {
   "cell_type": "code",
   "execution_count": 6,
   "metadata": {},
   "outputs": [
    {
     "data": {
      "text/plain": [
       "(numpy.datetime64('2015-01-01T00:00:00.000000000'),\n",
       " numpy.datetime64('2018-08-29T00:00:00.000000000'))"
      ]
     },
     "execution_count": 6,
     "metadata": {},
     "output_type": "execute_result"
    }
   ],
   "source": [
    "ds_81.time[0].values, ds_81.time[-1].values"
   ]
  },
  {
   "cell_type": "code",
   "execution_count": 7,
   "metadata": {},
   "outputs": [
    {
     "data": {
      "text/plain": [
       "(numpy.datetime64('1979-01-02T00:00:00.000000000'),\n",
       " numpy.datetime64('2017-12-31T00:00:00.000000000'))"
      ]
     },
     "execution_count": 7,
     "metadata": {},
     "output_type": "execute_result"
    }
   ],
   "source": [
    "ds_79.time[0].values, ds_79.time[-1].values"
   ]
  },
  {
   "cell_type": "code",
   "execution_count": null,
   "metadata": {},
   "outputs": [],
   "source": []
  },
  {
   "cell_type": "code",
   "execution_count": 8,
   "metadata": {},
   "outputs": [],
   "source": [
    "# Combine bootstrap with NASA NRT\n",
    "da_sic = ds_79.combine_first(ds_81)\n"
   ]
  },
  {
   "cell_type": "code",
   "execution_count": null,
   "metadata": {},
   "outputs": [],
   "source": []
  },
  {
   "cell_type": "code",
   "execution_count": null,
   "metadata": {},
   "outputs": [],
   "source": []
  },
  {
   "cell_type": "code",
   "execution_count": null,
   "metadata": {},
   "outputs": [],
   "source": []
  },
  {
   "cell_type": "code",
   "execution_count": 9,
   "metadata": {},
   "outputs": [],
   "source": [
    "# # Compute the rollowing 7 day window average (because we use the weekly forecast alhpa)\n",
    "# Nday = 7\n",
    "# ds_obs_avg = da_sic.rolling(min_periods=1, center=False, time=Nday).mean()\n",
    "# ds_obs_avg.isel(time=100).plot()"
   ]
  },
  {
   "cell_type": "code",
   "execution_count": 10,
   "metadata": {},
   "outputs": [],
   "source": [
    "# Reshape as year x doy\n",
    "# Add DOY\n",
    "DOY_all = [x.timetuple().tm_yday for x in pd.to_datetime(da_sic.time.values)]\n",
    "da_sic.coords['doy'] = xr.DataArray(DOY_all, dims='time', coords={'time':da_sic.time})\n",
    "year_all = [x.year for x in pd.to_datetime(da_sic.time.values)]\n",
    "da_sic.coords['year'] = xr.DataArray(year_all, dims='time', coords={'time':da_sic.time})"
   ]
  },
  {
   "cell_type": "code",
   "execution_count": null,
   "metadata": {},
   "outputs": [],
   "source": []
  },
  {
   "cell_type": "code",
   "execution_count": 11,
   "metadata": {},
   "outputs": [
    {
     "data": {
      "text/plain": [
       "<xarray.DataArray (time: 12876, y: 448, x: 304)>\n",
       "array([[[ 0.,  0., ..., nan, nan],\n",
       "        [ 0.,  0., ..., nan, nan],\n",
       "        ...,\n",
       "        [nan, nan, ...,  0.,  0.],\n",
       "        [nan, nan, ...,  0.,  0.]],\n",
       "\n",
       "       [[ 0.,  0., ..., nan, nan],\n",
       "        [ 0.,  0., ..., nan, nan],\n",
       "        ...,\n",
       "        [nan, nan, ...,  0.,  0.],\n",
       "        [nan, nan, ...,  0.,  0.]],\n",
       "\n",
       "       ...,\n",
       "\n",
       "       [[ 0.,  0., ..., nan, nan],\n",
       "        [ 0.,  0., ..., nan, nan],\n",
       "        ...,\n",
       "        [nan, nan, ...,  0.,  0.],\n",
       "        [nan, nan, ...,  0.,  0.]],\n",
       "\n",
       "       [[ 0.,  0., ..., nan, nan],\n",
       "        [ 0.,  0., ..., nan, nan],\n",
       "        ...,\n",
       "        [nan, nan, ...,  0.,  0.],\n",
       "        [nan, nan, ...,  0.,  0.]]])\n",
       "Coordinates:\n",
       "  * time     (time) datetime64[ns] 1979-01-02 1979-01-04 1979-01-06 ...\n",
       "  * x        (x) int64 0 1 2 3 4 5 6 7 8 9 10 11 12 13 14 15 16 17 18 19 20 ...\n",
       "  * y        (y) int64 0 1 2 3 4 5 6 7 8 9 10 11 12 13 14 15 16 17 18 19 20 ...\n",
       "    lat      (x, y) float64 31.1 31.25 31.4 31.55 31.69 31.84 31.99 32.13 ...\n",
       "    lon      (x, y) float64 168.3 168.4 168.5 168.7 168.8 168.9 169.0 169.1 ...\n",
       "    xm       (x) int64 -3850000 -3825000 -3800000 -3775000 -3750000 -3725000 ...\n",
       "    ym       (y) int64 5850000 5825000 5800000 5775000 5750000 5725000 ...\n",
       "    doy      (time) int64 2 4 6 8 10 12 14 16 18 20 22 24 26 28 30 32 34 36 ...\n",
       "    year     (time) int64 1979 1979 1979 1979 1979 1979 1979 1979 1979 1979 ..."
      ]
     },
     "execution_count": 11,
     "metadata": {},
     "output_type": "execute_result"
    }
   ],
   "source": [
    "da_sic.load()"
   ]
  },
  {
   "cell_type": "markdown",
   "metadata": {},
   "source": [
    "# Damped Anomaly "
   ]
  },
  {
   "cell_type": "code",
   "execution_count": 12,
   "metadata": {},
   "outputs": [],
   "source": [
    "cmod = 'dampedAnomalyTrend'\n",
    "runType = 'forecast'"
   ]
  },
  {
   "cell_type": "code",
   "execution_count": 13,
   "metadata": {},
   "outputs": [],
   "source": [
    "oceanmask = da_sic.isel(time=0).notnull().drop(['doy','year']).load()"
   ]
  },
  {
   "cell_type": "code",
   "execution_count": null,
   "metadata": {},
   "outputs": [],
   "source": []
  },
  {
   "cell_type": "code",
   "execution_count": 14,
   "metadata": {},
   "outputs": [],
   "source": [
    "# cdoy = 1\n",
    "# # Select current day of year\n",
    "# da_cdoy = da_sic.where(da_sic.doy==cdoy, drop=True).swap_dims({'time':'year'})\n",
    "# # Select training years\n",
    "# da_cdoy = da_cdoy.sel(year=slice(Y_Start, Y_End))    \n"
   ]
  },
  {
   "cell_type": "code",
   "execution_count": 15,
   "metadata": {},
   "outputs": [],
   "source": [
    "# stopped on 56\n",
    "\n",
    "# started on 204 to 211"
   ]
  },
  {
   "cell_type": "markdown",
   "metadata": {},
   "source": [
    "### Calculate alpha, the lag1 auto correlation "
   ]
  },
  {
   "cell_type": "code",
   "execution_count": 16,
   "metadata": {},
   "outputs": [
    {
     "name": "stdout",
     "output_type": "stream",
     "text": [
      "Processing day of year 1\n",
      "    detrending current day...\n",
      "    detrending lagged day...\n",
      "    Calculating pearson r...\n"
     ]
    },
    {
     "name": "stderr",
     "output_type": "stream",
     "text": [
      "/home/disk/sipn/nicway/anaconda3/envs/esio/lib/python3.6/site-packages/dask/local.py:255: RuntimeWarning: invalid value encountered in true_divide\n",
      "  return func(*args2)\n"
     ]
    },
    {
     "name": "stdout",
     "output_type": "stream",
     "text": [
      "Saved /home/disk/sipn/nicway/data/model/dampedAnomalyTrend/forecast/param/2018_001_1979_2017_Alpha.nc\n",
      "Processing day of year 2\n",
      "    detrending current day...\n",
      "    detrending lagged day...\n",
      "    Calculating pearson r...\n"
     ]
    },
    {
     "name": "stderr",
     "output_type": "stream",
     "text": [
      "/home/disk/sipn/nicway/anaconda3/envs/esio/lib/python3.6/site-packages/dask/local.py:255: RuntimeWarning: invalid value encountered in true_divide\n",
      "  return func(*args2)\n"
     ]
    },
    {
     "name": "stdout",
     "output_type": "stream",
     "text": [
      "Saved /home/disk/sipn/nicway/data/model/dampedAnomalyTrend/forecast/param/2018_002_1979_2017_Alpha.nc\n",
      "Processing day of year 3\n",
      "    detrending current day...\n",
      "    detrending lagged day...\n",
      "    Calculating pearson r...\n"
     ]
    },
    {
     "name": "stderr",
     "output_type": "stream",
     "text": [
      "/home/disk/sipn/nicway/anaconda3/envs/esio/lib/python3.6/site-packages/dask/local.py:255: RuntimeWarning: invalid value encountered in true_divide\n",
      "  return func(*args2)\n"
     ]
    },
    {
     "name": "stdout",
     "output_type": "stream",
     "text": [
      "Saved /home/disk/sipn/nicway/data/model/dampedAnomalyTrend/forecast/param/2018_003_1979_2017_Alpha.nc\n",
      "Processing day of year 4\n",
      "    detrending current day...\n",
      "    detrending lagged day...\n",
      "    Calculating pearson r...\n"
     ]
    },
    {
     "name": "stderr",
     "output_type": "stream",
     "text": [
      "/home/disk/sipn/nicway/anaconda3/envs/esio/lib/python3.6/site-packages/dask/local.py:255: RuntimeWarning: invalid value encountered in true_divide\n",
      "  return func(*args2)\n"
     ]
    },
    {
     "name": "stdout",
     "output_type": "stream",
     "text": [
      "Saved /home/disk/sipn/nicway/data/model/dampedAnomalyTrend/forecast/param/2018_004_1979_2017_Alpha.nc\n",
      "Processing day of year 5\n",
      "    detrending current day...\n",
      "    detrending lagged day...\n",
      "    Calculating pearson r...\n"
     ]
    },
    {
     "name": "stderr",
     "output_type": "stream",
     "text": [
      "/home/disk/sipn/nicway/anaconda3/envs/esio/lib/python3.6/site-packages/dask/local.py:255: RuntimeWarning: invalid value encountered in true_divide\n",
      "  return func(*args2)\n"
     ]
    },
    {
     "name": "stdout",
     "output_type": "stream",
     "text": [
      "Saved /home/disk/sipn/nicway/data/model/dampedAnomalyTrend/forecast/param/2018_005_1979_2017_Alpha.nc\n",
      "Processing day of year 6\n",
      "    detrending current day...\n",
      "    detrending lagged day...\n",
      "    Calculating pearson r...\n"
     ]
    },
    {
     "name": "stderr",
     "output_type": "stream",
     "text": [
      "/home/disk/sipn/nicway/anaconda3/envs/esio/lib/python3.6/site-packages/dask/local.py:255: RuntimeWarning: invalid value encountered in true_divide\n",
      "  return func(*args2)\n"
     ]
    },
    {
     "name": "stdout",
     "output_type": "stream",
     "text": [
      "Saved /home/disk/sipn/nicway/data/model/dampedAnomalyTrend/forecast/param/2018_006_1979_2017_Alpha.nc\n",
      "Processing day of year 7\n",
      "    detrending current day...\n",
      "    detrending lagged day...\n",
      "    Calculating pearson r...\n"
     ]
    },
    {
     "name": "stderr",
     "output_type": "stream",
     "text": [
      "/home/disk/sipn/nicway/anaconda3/envs/esio/lib/python3.6/site-packages/dask/local.py:255: RuntimeWarning: invalid value encountered in true_divide\n",
      "  return func(*args2)\n"
     ]
    },
    {
     "name": "stdout",
     "output_type": "stream",
     "text": [
      "Saved /home/disk/sipn/nicway/data/model/dampedAnomalyTrend/forecast/param/2018_007_1979_2017_Alpha.nc\n",
      "Processing day of year 8\n",
      "    detrending current day...\n",
      "    detrending lagged day...\n",
      "    Calculating pearson r...\n"
     ]
    },
    {
     "name": "stderr",
     "output_type": "stream",
     "text": [
      "/home/disk/sipn/nicway/anaconda3/envs/esio/lib/python3.6/site-packages/dask/local.py:255: RuntimeWarning: invalid value encountered in true_divide\n",
      "  return func(*args2)\n"
     ]
    },
    {
     "name": "stdout",
     "output_type": "stream",
     "text": [
      "Saved /home/disk/sipn/nicway/data/model/dampedAnomalyTrend/forecast/param/2018_008_1979_2017_Alpha.nc\n",
      "Processing day of year 9\n",
      "    detrending current day...\n",
      "    detrending lagged day...\n",
      "    Calculating pearson r...\n"
     ]
    },
    {
     "name": "stderr",
     "output_type": "stream",
     "text": [
      "/home/disk/sipn/nicway/anaconda3/envs/esio/lib/python3.6/site-packages/dask/local.py:255: RuntimeWarning: invalid value encountered in true_divide\n",
      "  return func(*args2)\n"
     ]
    },
    {
     "name": "stdout",
     "output_type": "stream",
     "text": [
      "Saved /home/disk/sipn/nicway/data/model/dampedAnomalyTrend/forecast/param/2018_009_1979_2017_Alpha.nc\n",
      "Processing day of year 10\n",
      "    detrending current day...\n",
      "    detrending lagged day...\n",
      "    Calculating pearson r...\n"
     ]
    },
    {
     "name": "stderr",
     "output_type": "stream",
     "text": [
      "/home/disk/sipn/nicway/anaconda3/envs/esio/lib/python3.6/site-packages/dask/local.py:255: RuntimeWarning: invalid value encountered in true_divide\n",
      "  return func(*args2)\n"
     ]
    },
    {
     "name": "stdout",
     "output_type": "stream",
     "text": [
      "Saved /home/disk/sipn/nicway/data/model/dampedAnomalyTrend/forecast/param/2018_010_1979_2017_Alpha.nc\n",
      "Processing day of year 11\n",
      "    detrending current day...\n",
      "    detrending lagged day...\n",
      "    Calculating pearson r...\n"
     ]
    },
    {
     "name": "stderr",
     "output_type": "stream",
     "text": [
      "/home/disk/sipn/nicway/anaconda3/envs/esio/lib/python3.6/site-packages/dask/local.py:255: RuntimeWarning: invalid value encountered in true_divide\n",
      "  return func(*args2)\n"
     ]
    },
    {
     "name": "stdout",
     "output_type": "stream",
     "text": [
      "Saved /home/disk/sipn/nicway/data/model/dampedAnomalyTrend/forecast/param/2018_011_1979_2017_Alpha.nc\n",
      "Processing day of year 12\n",
      "    detrending current day...\n",
      "    detrending lagged day...\n",
      "    Calculating pearson r...\n"
     ]
    },
    {
     "name": "stderr",
     "output_type": "stream",
     "text": [
      "/home/disk/sipn/nicway/anaconda3/envs/esio/lib/python3.6/site-packages/dask/local.py:255: RuntimeWarning: invalid value encountered in true_divide\n",
      "  return func(*args2)\n"
     ]
    },
    {
     "name": "stdout",
     "output_type": "stream",
     "text": [
      "Saved /home/disk/sipn/nicway/data/model/dampedAnomalyTrend/forecast/param/2018_012_1979_2017_Alpha.nc\n",
      "Processing day of year 13\n",
      "    detrending current day...\n",
      "    detrending lagged day...\n",
      "    Calculating pearson r...\n"
     ]
    },
    {
     "name": "stderr",
     "output_type": "stream",
     "text": [
      "/home/disk/sipn/nicway/anaconda3/envs/esio/lib/python3.6/site-packages/dask/local.py:255: RuntimeWarning: invalid value encountered in true_divide\n",
      "  return func(*args2)\n"
     ]
    },
    {
     "name": "stdout",
     "output_type": "stream",
     "text": [
      "Saved /home/disk/sipn/nicway/data/model/dampedAnomalyTrend/forecast/param/2018_013_1979_2017_Alpha.nc\n",
      "Processing day of year 14\n",
      "    detrending current day...\n",
      "    detrending lagged day...\n",
      "    Calculating pearson r...\n"
     ]
    },
    {
     "name": "stderr",
     "output_type": "stream",
     "text": [
      "/home/disk/sipn/nicway/anaconda3/envs/esio/lib/python3.6/site-packages/dask/local.py:255: RuntimeWarning: invalid value encountered in true_divide\n",
      "  return func(*args2)\n"
     ]
    },
    {
     "name": "stdout",
     "output_type": "stream",
     "text": [
      "Saved /home/disk/sipn/nicway/data/model/dampedAnomalyTrend/forecast/param/2018_014_1979_2017_Alpha.nc\n",
      "Processing day of year 15\n",
      "    detrending current day...\n",
      "    detrending lagged day...\n",
      "    Calculating pearson r...\n"
     ]
    },
    {
     "name": "stderr",
     "output_type": "stream",
     "text": [
      "/home/disk/sipn/nicway/anaconda3/envs/esio/lib/python3.6/site-packages/dask/local.py:255: RuntimeWarning: invalid value encountered in true_divide\n",
      "  return func(*args2)\n"
     ]
    },
    {
     "name": "stdout",
     "output_type": "stream",
     "text": [
      "Saved /home/disk/sipn/nicway/data/model/dampedAnomalyTrend/forecast/param/2018_015_1979_2017_Alpha.nc\n",
      "Processing day of year 16\n",
      "    detrending current day...\n",
      "    detrending lagged day...\n",
      "    Calculating pearson r...\n"
     ]
    },
    {
     "name": "stderr",
     "output_type": "stream",
     "text": [
      "/home/disk/sipn/nicway/anaconda3/envs/esio/lib/python3.6/site-packages/dask/local.py:255: RuntimeWarning: invalid value encountered in true_divide\n",
      "  return func(*args2)\n"
     ]
    },
    {
     "name": "stdout",
     "output_type": "stream",
     "text": [
      "Saved /home/disk/sipn/nicway/data/model/dampedAnomalyTrend/forecast/param/2018_016_1979_2017_Alpha.nc\n",
      "Processing day of year 17\n",
      "    detrending current day...\n",
      "    detrending lagged day...\n",
      "    Calculating pearson r...\n"
     ]
    },
    {
     "name": "stderr",
     "output_type": "stream",
     "text": [
      "/home/disk/sipn/nicway/anaconda3/envs/esio/lib/python3.6/site-packages/dask/local.py:255: RuntimeWarning: invalid value encountered in true_divide\n",
      "  return func(*args2)\n"
     ]
    },
    {
     "name": "stdout",
     "output_type": "stream",
     "text": [
      "Saved /home/disk/sipn/nicway/data/model/dampedAnomalyTrend/forecast/param/2018_017_1979_2017_Alpha.nc\n",
      "Processing day of year 18\n",
      "    detrending current day...\n",
      "    detrending lagged day...\n",
      "    Calculating pearson r...\n"
     ]
    },
    {
     "name": "stderr",
     "output_type": "stream",
     "text": [
      "/home/disk/sipn/nicway/anaconda3/envs/esio/lib/python3.6/site-packages/dask/local.py:255: RuntimeWarning: invalid value encountered in true_divide\n",
      "  return func(*args2)\n"
     ]
    },
    {
     "name": "stdout",
     "output_type": "stream",
     "text": [
      "Saved /home/disk/sipn/nicway/data/model/dampedAnomalyTrend/forecast/param/2018_018_1979_2017_Alpha.nc\n",
      "Processing day of year 19\n",
      "    detrending current day...\n",
      "    detrending lagged day...\n",
      "    Calculating pearson r...\n"
     ]
    },
    {
     "name": "stderr",
     "output_type": "stream",
     "text": [
      "/home/disk/sipn/nicway/anaconda3/envs/esio/lib/python3.6/site-packages/dask/local.py:255: RuntimeWarning: invalid value encountered in true_divide\n",
      "  return func(*args2)\n"
     ]
    },
    {
     "name": "stdout",
     "output_type": "stream",
     "text": [
      "Saved /home/disk/sipn/nicway/data/model/dampedAnomalyTrend/forecast/param/2018_019_1979_2017_Alpha.nc\n",
      "Processing day of year 20\n",
      "    detrending current day...\n",
      "    detrending lagged day...\n",
      "    Calculating pearson r...\n"
     ]
    },
    {
     "name": "stderr",
     "output_type": "stream",
     "text": [
      "/home/disk/sipn/nicway/anaconda3/envs/esio/lib/python3.6/site-packages/dask/local.py:255: RuntimeWarning: invalid value encountered in true_divide\n",
      "  return func(*args2)\n"
     ]
    },
    {
     "name": "stdout",
     "output_type": "stream",
     "text": [
      "Saved /home/disk/sipn/nicway/data/model/dampedAnomalyTrend/forecast/param/2018_020_1979_2017_Alpha.nc\n",
      "Processing day of year 21\n",
      "    detrending current day...\n",
      "    detrending lagged day...\n",
      "    Calculating pearson r...\n"
     ]
    },
    {
     "name": "stderr",
     "output_type": "stream",
     "text": [
      "/home/disk/sipn/nicway/anaconda3/envs/esio/lib/python3.6/site-packages/dask/local.py:255: RuntimeWarning: invalid value encountered in true_divide\n",
      "  return func(*args2)\n"
     ]
    },
    {
     "name": "stdout",
     "output_type": "stream",
     "text": [
      "Saved /home/disk/sipn/nicway/data/model/dampedAnomalyTrend/forecast/param/2018_021_1979_2017_Alpha.nc\n",
      "Processing day of year 22\n",
      "    detrending current day...\n",
      "    detrending lagged day...\n",
      "    Calculating pearson r...\n"
     ]
    },
    {
     "name": "stderr",
     "output_type": "stream",
     "text": [
      "/home/disk/sipn/nicway/anaconda3/envs/esio/lib/python3.6/site-packages/dask/local.py:255: RuntimeWarning: invalid value encountered in true_divide\n",
      "  return func(*args2)\n"
     ]
    },
    {
     "name": "stdout",
     "output_type": "stream",
     "text": [
      "Saved /home/disk/sipn/nicway/data/model/dampedAnomalyTrend/forecast/param/2018_022_1979_2017_Alpha.nc\n",
      "Processing day of year 23\n",
      "    detrending current day...\n",
      "    detrending lagged day...\n",
      "    Calculating pearson r...\n"
     ]
    },
    {
     "name": "stderr",
     "output_type": "stream",
     "text": [
      "/home/disk/sipn/nicway/anaconda3/envs/esio/lib/python3.6/site-packages/dask/local.py:255: RuntimeWarning: invalid value encountered in true_divide\n",
      "  return func(*args2)\n"
     ]
    },
    {
     "name": "stdout",
     "output_type": "stream",
     "text": [
      "Saved /home/disk/sipn/nicway/data/model/dampedAnomalyTrend/forecast/param/2018_023_1979_2017_Alpha.nc\n",
      "Processing day of year 24\n",
      "    detrending current day...\n",
      "    detrending lagged day...\n",
      "    Calculating pearson r...\n"
     ]
    },
    {
     "name": "stderr",
     "output_type": "stream",
     "text": [
      "/home/disk/sipn/nicway/anaconda3/envs/esio/lib/python3.6/site-packages/dask/local.py:255: RuntimeWarning: invalid value encountered in true_divide\n",
      "  return func(*args2)\n"
     ]
    },
    {
     "name": "stdout",
     "output_type": "stream",
     "text": [
      "Saved /home/disk/sipn/nicway/data/model/dampedAnomalyTrend/forecast/param/2018_024_1979_2017_Alpha.nc\n",
      "Processing day of year 25\n",
      "    detrending current day...\n",
      "    detrending lagged day...\n",
      "    Calculating pearson r...\n"
     ]
    },
    {
     "name": "stderr",
     "output_type": "stream",
     "text": [
      "/home/disk/sipn/nicway/anaconda3/envs/esio/lib/python3.6/site-packages/dask/local.py:255: RuntimeWarning: invalid value encountered in true_divide\n",
      "  return func(*args2)\n"
     ]
    },
    {
     "name": "stdout",
     "output_type": "stream",
     "text": [
      "Saved /home/disk/sipn/nicway/data/model/dampedAnomalyTrend/forecast/param/2018_025_1979_2017_Alpha.nc\n",
      "Processing day of year 26\n",
      "    detrending current day...\n",
      "    detrending lagged day...\n",
      "    Calculating pearson r...\n"
     ]
    },
    {
     "name": "stderr",
     "output_type": "stream",
     "text": [
      "/home/disk/sipn/nicway/anaconda3/envs/esio/lib/python3.6/site-packages/dask/local.py:255: RuntimeWarning: invalid value encountered in true_divide\n",
      "  return func(*args2)\n"
     ]
    },
    {
     "name": "stdout",
     "output_type": "stream",
     "text": [
      "Saved /home/disk/sipn/nicway/data/model/dampedAnomalyTrend/forecast/param/2018_026_1979_2017_Alpha.nc\n",
      "Processing day of year 27\n",
      "    detrending current day...\n",
      "    detrending lagged day...\n",
      "    Calculating pearson r...\n"
     ]
    },
    {
     "name": "stderr",
     "output_type": "stream",
     "text": [
      "/home/disk/sipn/nicway/anaconda3/envs/esio/lib/python3.6/site-packages/dask/local.py:255: RuntimeWarning: invalid value encountered in true_divide\n",
      "  return func(*args2)\n"
     ]
    },
    {
     "name": "stdout",
     "output_type": "stream",
     "text": [
      "Saved /home/disk/sipn/nicway/data/model/dampedAnomalyTrend/forecast/param/2018_027_1979_2017_Alpha.nc\n",
      "Processing day of year 28\n",
      "    detrending current day...\n",
      "    detrending lagged day...\n",
      "    Calculating pearson r...\n"
     ]
    },
    {
     "name": "stderr",
     "output_type": "stream",
     "text": [
      "/home/disk/sipn/nicway/anaconda3/envs/esio/lib/python3.6/site-packages/dask/local.py:255: RuntimeWarning: invalid value encountered in true_divide\n",
      "  return func(*args2)\n"
     ]
    },
    {
     "name": "stdout",
     "output_type": "stream",
     "text": [
      "Saved /home/disk/sipn/nicway/data/model/dampedAnomalyTrend/forecast/param/2018_028_1979_2017_Alpha.nc\n",
      "Processing day of year 29\n",
      "    detrending current day...\n",
      "    detrending lagged day...\n",
      "    Calculating pearson r...\n"
     ]
    },
    {
     "name": "stderr",
     "output_type": "stream",
     "text": [
      "/home/disk/sipn/nicway/anaconda3/envs/esio/lib/python3.6/site-packages/dask/local.py:255: RuntimeWarning: invalid value encountered in true_divide\n",
      "  return func(*args2)\n"
     ]
    },
    {
     "name": "stdout",
     "output_type": "stream",
     "text": [
      "Saved /home/disk/sipn/nicway/data/model/dampedAnomalyTrend/forecast/param/2018_029_1979_2017_Alpha.nc\n",
      "Processing day of year 30\n",
      "    detrending current day...\n",
      "    detrending lagged day...\n",
      "    Calculating pearson r...\n"
     ]
    },
    {
     "name": "stderr",
     "output_type": "stream",
     "text": [
      "/home/disk/sipn/nicway/anaconda3/envs/esio/lib/python3.6/site-packages/dask/local.py:255: RuntimeWarning: invalid value encountered in true_divide\n",
      "  return func(*args2)\n"
     ]
    },
    {
     "name": "stdout",
     "output_type": "stream",
     "text": [
      "Saved /home/disk/sipn/nicway/data/model/dampedAnomalyTrend/forecast/param/2018_030_1979_2017_Alpha.nc\n",
      "Processing day of year 31\n",
      "    detrending current day...\n",
      "    detrending lagged day...\n",
      "    Calculating pearson r...\n"
     ]
    },
    {
     "name": "stderr",
     "output_type": "stream",
     "text": [
      "/home/disk/sipn/nicway/anaconda3/envs/esio/lib/python3.6/site-packages/dask/local.py:255: RuntimeWarning: invalid value encountered in true_divide\n",
      "  return func(*args2)\n"
     ]
    },
    {
     "name": "stdout",
     "output_type": "stream",
     "text": [
      "Saved /home/disk/sipn/nicway/data/model/dampedAnomalyTrend/forecast/param/2018_031_1979_2017_Alpha.nc\n",
      "Processing day of year 32\n",
      "    detrending current day...\n",
      "    detrending lagged day...\n",
      "    Calculating pearson r...\n"
     ]
    },
    {
     "name": "stderr",
     "output_type": "stream",
     "text": [
      "/home/disk/sipn/nicway/anaconda3/envs/esio/lib/python3.6/site-packages/dask/local.py:255: RuntimeWarning: invalid value encountered in true_divide\n",
      "  return func(*args2)\n"
     ]
    },
    {
     "name": "stdout",
     "output_type": "stream",
     "text": [
      "Saved /home/disk/sipn/nicway/data/model/dampedAnomalyTrend/forecast/param/2018_032_1979_2017_Alpha.nc\n",
      "Processing day of year 33\n",
      "    detrending current day...\n",
      "    detrending lagged day...\n",
      "    Calculating pearson r...\n"
     ]
    },
    {
     "name": "stderr",
     "output_type": "stream",
     "text": [
      "/home/disk/sipn/nicway/anaconda3/envs/esio/lib/python3.6/site-packages/dask/local.py:255: RuntimeWarning: invalid value encountered in true_divide\n",
      "  return func(*args2)\n"
     ]
    },
    {
     "name": "stdout",
     "output_type": "stream",
     "text": [
      "Saved /home/disk/sipn/nicway/data/model/dampedAnomalyTrend/forecast/param/2018_033_1979_2017_Alpha.nc\n",
      "Processing day of year 34\n",
      "    detrending current day...\n",
      "    detrending lagged day...\n",
      "    Calculating pearson r...\n"
     ]
    },
    {
     "name": "stderr",
     "output_type": "stream",
     "text": [
      "/home/disk/sipn/nicway/anaconda3/envs/esio/lib/python3.6/site-packages/dask/local.py:255: RuntimeWarning: invalid value encountered in true_divide\n",
      "  return func(*args2)\n"
     ]
    },
    {
     "name": "stdout",
     "output_type": "stream",
     "text": [
      "Saved /home/disk/sipn/nicway/data/model/dampedAnomalyTrend/forecast/param/2018_034_1979_2017_Alpha.nc\n",
      "Processing day of year 35\n",
      "    detrending current day...\n",
      "    detrending lagged day...\n",
      "    Calculating pearson r...\n"
     ]
    },
    {
     "name": "stderr",
     "output_type": "stream",
     "text": [
      "/home/disk/sipn/nicway/anaconda3/envs/esio/lib/python3.6/site-packages/dask/local.py:255: RuntimeWarning: invalid value encountered in true_divide\n",
      "  return func(*args2)\n"
     ]
    },
    {
     "name": "stdout",
     "output_type": "stream",
     "text": [
      "Saved /home/disk/sipn/nicway/data/model/dampedAnomalyTrend/forecast/param/2018_035_1979_2017_Alpha.nc\n",
      "Processing day of year 36\n",
      "    detrending current day...\n",
      "    detrending lagged day...\n",
      "    Calculating pearson r...\n"
     ]
    },
    {
     "name": "stderr",
     "output_type": "stream",
     "text": [
      "/home/disk/sipn/nicway/anaconda3/envs/esio/lib/python3.6/site-packages/dask/local.py:255: RuntimeWarning: invalid value encountered in true_divide\n",
      "  return func(*args2)\n"
     ]
    },
    {
     "name": "stdout",
     "output_type": "stream",
     "text": [
      "Saved /home/disk/sipn/nicway/data/model/dampedAnomalyTrend/forecast/param/2018_036_1979_2017_Alpha.nc\n",
      "Processing day of year 37\n",
      "    detrending current day...\n",
      "    detrending lagged day...\n",
      "    Calculating pearson r...\n"
     ]
    },
    {
     "name": "stderr",
     "output_type": "stream",
     "text": [
      "/home/disk/sipn/nicway/anaconda3/envs/esio/lib/python3.6/site-packages/dask/local.py:255: RuntimeWarning: invalid value encountered in true_divide\n",
      "  return func(*args2)\n"
     ]
    },
    {
     "name": "stdout",
     "output_type": "stream",
     "text": [
      "Saved /home/disk/sipn/nicway/data/model/dampedAnomalyTrend/forecast/param/2018_037_1979_2017_Alpha.nc\n",
      "Processing day of year 38\n",
      "    detrending current day...\n",
      "    detrending lagged day...\n",
      "    Calculating pearson r...\n"
     ]
    },
    {
     "name": "stderr",
     "output_type": "stream",
     "text": [
      "/home/disk/sipn/nicway/anaconda3/envs/esio/lib/python3.6/site-packages/dask/local.py:255: RuntimeWarning: invalid value encountered in true_divide\n",
      "  return func(*args2)\n"
     ]
    },
    {
     "name": "stdout",
     "output_type": "stream",
     "text": [
      "Saved /home/disk/sipn/nicway/data/model/dampedAnomalyTrend/forecast/param/2018_038_1979_2017_Alpha.nc\n",
      "Processing day of year 39\n",
      "    detrending current day...\n",
      "    detrending lagged day...\n",
      "    Calculating pearson r...\n"
     ]
    },
    {
     "name": "stderr",
     "output_type": "stream",
     "text": [
      "/home/disk/sipn/nicway/anaconda3/envs/esio/lib/python3.6/site-packages/dask/local.py:255: RuntimeWarning: invalid value encountered in true_divide\n",
      "  return func(*args2)\n"
     ]
    },
    {
     "name": "stdout",
     "output_type": "stream",
     "text": [
      "Saved /home/disk/sipn/nicway/data/model/dampedAnomalyTrend/forecast/param/2018_039_1979_2017_Alpha.nc\n",
      "Processing day of year 40\n",
      "    detrending current day...\n",
      "    detrending lagged day...\n",
      "    Calculating pearson r...\n"
     ]
    },
    {
     "name": "stderr",
     "output_type": "stream",
     "text": [
      "/home/disk/sipn/nicway/anaconda3/envs/esio/lib/python3.6/site-packages/dask/local.py:255: RuntimeWarning: invalid value encountered in true_divide\n",
      "  return func(*args2)\n"
     ]
    },
    {
     "name": "stdout",
     "output_type": "stream",
     "text": [
      "Saved /home/disk/sipn/nicway/data/model/dampedAnomalyTrend/forecast/param/2018_040_1979_2017_Alpha.nc\n",
      "Processing day of year 41\n",
      "    detrending current day...\n",
      "    detrending lagged day...\n",
      "    Calculating pearson r...\n"
     ]
    },
    {
     "name": "stderr",
     "output_type": "stream",
     "text": [
      "/home/disk/sipn/nicway/anaconda3/envs/esio/lib/python3.6/site-packages/dask/local.py:255: RuntimeWarning: invalid value encountered in true_divide\n",
      "  return func(*args2)\n"
     ]
    },
    {
     "name": "stdout",
     "output_type": "stream",
     "text": [
      "Saved /home/disk/sipn/nicway/data/model/dampedAnomalyTrend/forecast/param/2018_041_1979_2017_Alpha.nc\n",
      "Processing day of year 42\n",
      "    detrending current day...\n",
      "    detrending lagged day...\n",
      "    Calculating pearson r...\n"
     ]
    },
    {
     "name": "stderr",
     "output_type": "stream",
     "text": [
      "/home/disk/sipn/nicway/anaconda3/envs/esio/lib/python3.6/site-packages/dask/local.py:255: RuntimeWarning: invalid value encountered in true_divide\n",
      "  return func(*args2)\n"
     ]
    },
    {
     "name": "stdout",
     "output_type": "stream",
     "text": [
      "Saved /home/disk/sipn/nicway/data/model/dampedAnomalyTrend/forecast/param/2018_042_1979_2017_Alpha.nc\n",
      "Processing day of year 43\n",
      "    detrending current day...\n",
      "    detrending lagged day...\n",
      "    Calculating pearson r...\n"
     ]
    },
    {
     "name": "stderr",
     "output_type": "stream",
     "text": [
      "/home/disk/sipn/nicway/anaconda3/envs/esio/lib/python3.6/site-packages/dask/local.py:255: RuntimeWarning: invalid value encountered in true_divide\n",
      "  return func(*args2)\n"
     ]
    },
    {
     "name": "stdout",
     "output_type": "stream",
     "text": [
      "Saved /home/disk/sipn/nicway/data/model/dampedAnomalyTrend/forecast/param/2018_043_1979_2017_Alpha.nc\n",
      "Processing day of year 44\n",
      "    detrending current day...\n",
      "    detrending lagged day...\n",
      "    Calculating pearson r...\n"
     ]
    },
    {
     "name": "stderr",
     "output_type": "stream",
     "text": [
      "/home/disk/sipn/nicway/anaconda3/envs/esio/lib/python3.6/site-packages/dask/local.py:255: RuntimeWarning: invalid value encountered in true_divide\n",
      "  return func(*args2)\n"
     ]
    },
    {
     "name": "stdout",
     "output_type": "stream",
     "text": [
      "Saved /home/disk/sipn/nicway/data/model/dampedAnomalyTrend/forecast/param/2018_044_1979_2017_Alpha.nc\n",
      "Processing day of year 45\n",
      "    detrending current day...\n",
      "    detrending lagged day...\n",
      "    Calculating pearson r...\n"
     ]
    },
    {
     "name": "stderr",
     "output_type": "stream",
     "text": [
      "/home/disk/sipn/nicway/anaconda3/envs/esio/lib/python3.6/site-packages/dask/local.py:255: RuntimeWarning: invalid value encountered in true_divide\n",
      "  return func(*args2)\n"
     ]
    },
    {
     "name": "stdout",
     "output_type": "stream",
     "text": [
      "Saved /home/disk/sipn/nicway/data/model/dampedAnomalyTrend/forecast/param/2018_045_1979_2017_Alpha.nc\n",
      "Processing day of year 46\n",
      "    detrending current day...\n",
      "    detrending lagged day...\n",
      "    Calculating pearson r...\n"
     ]
    },
    {
     "name": "stderr",
     "output_type": "stream",
     "text": [
      "/home/disk/sipn/nicway/anaconda3/envs/esio/lib/python3.6/site-packages/dask/local.py:255: RuntimeWarning: invalid value encountered in true_divide\n",
      "  return func(*args2)\n"
     ]
    },
    {
     "name": "stdout",
     "output_type": "stream",
     "text": [
      "Saved /home/disk/sipn/nicway/data/model/dampedAnomalyTrend/forecast/param/2018_046_1979_2017_Alpha.nc\n",
      "Processing day of year 47\n",
      "    detrending current day...\n",
      "    detrending lagged day...\n",
      "    Calculating pearson r...\n"
     ]
    },
    {
     "name": "stderr",
     "output_type": "stream",
     "text": [
      "/home/disk/sipn/nicway/anaconda3/envs/esio/lib/python3.6/site-packages/dask/local.py:255: RuntimeWarning: invalid value encountered in true_divide\n",
      "  return func(*args2)\n"
     ]
    },
    {
     "name": "stdout",
     "output_type": "stream",
     "text": [
      "Saved /home/disk/sipn/nicway/data/model/dampedAnomalyTrend/forecast/param/2018_047_1979_2017_Alpha.nc\n",
      "Processing day of year 48\n",
      "    detrending current day...\n",
      "    detrending lagged day...\n",
      "    Calculating pearson r...\n"
     ]
    },
    {
     "name": "stderr",
     "output_type": "stream",
     "text": [
      "/home/disk/sipn/nicway/anaconda3/envs/esio/lib/python3.6/site-packages/dask/local.py:255: RuntimeWarning: invalid value encountered in true_divide\n",
      "  return func(*args2)\n"
     ]
    },
    {
     "name": "stdout",
     "output_type": "stream",
     "text": [
      "Saved /home/disk/sipn/nicway/data/model/dampedAnomalyTrend/forecast/param/2018_048_1979_2017_Alpha.nc\n",
      "Processing day of year 49\n",
      "    detrending current day...\n",
      "    detrending lagged day...\n",
      "    Calculating pearson r...\n"
     ]
    },
    {
     "name": "stderr",
     "output_type": "stream",
     "text": [
      "/home/disk/sipn/nicway/anaconda3/envs/esio/lib/python3.6/site-packages/dask/local.py:255: RuntimeWarning: invalid value encountered in true_divide\n",
      "  return func(*args2)\n"
     ]
    },
    {
     "name": "stdout",
     "output_type": "stream",
     "text": [
      "Saved /home/disk/sipn/nicway/data/model/dampedAnomalyTrend/forecast/param/2018_049_1979_2017_Alpha.nc\n",
      "Processing day of year 50\n",
      "    detrending current day...\n",
      "    detrending lagged day...\n",
      "    Calculating pearson r...\n"
     ]
    },
    {
     "name": "stderr",
     "output_type": "stream",
     "text": [
      "/home/disk/sipn/nicway/anaconda3/envs/esio/lib/python3.6/site-packages/dask/local.py:255: RuntimeWarning: invalid value encountered in true_divide\n",
      "  return func(*args2)\n"
     ]
    },
    {
     "name": "stdout",
     "output_type": "stream",
     "text": [
      "Saved /home/disk/sipn/nicway/data/model/dampedAnomalyTrend/forecast/param/2018_050_1979_2017_Alpha.nc\n",
      "Processing day of year 51\n",
      "    detrending current day...\n",
      "    detrending lagged day...\n",
      "    Calculating pearson r...\n"
     ]
    },
    {
     "name": "stderr",
     "output_type": "stream",
     "text": [
      "/home/disk/sipn/nicway/anaconda3/envs/esio/lib/python3.6/site-packages/dask/local.py:255: RuntimeWarning: invalid value encountered in true_divide\n",
      "  return func(*args2)\n"
     ]
    },
    {
     "name": "stdout",
     "output_type": "stream",
     "text": [
      "Saved /home/disk/sipn/nicway/data/model/dampedAnomalyTrend/forecast/param/2018_051_1979_2017_Alpha.nc\n",
      "Processing day of year 52\n",
      "    detrending current day...\n",
      "    detrending lagged day...\n",
      "    Calculating pearson r...\n"
     ]
    },
    {
     "name": "stderr",
     "output_type": "stream",
     "text": [
      "/home/disk/sipn/nicway/anaconda3/envs/esio/lib/python3.6/site-packages/dask/local.py:255: RuntimeWarning: invalid value encountered in true_divide\n",
      "  return func(*args2)\n"
     ]
    },
    {
     "name": "stdout",
     "output_type": "stream",
     "text": [
      "Saved /home/disk/sipn/nicway/data/model/dampedAnomalyTrend/forecast/param/2018_052_1979_2017_Alpha.nc\n",
      "Processing day of year 53\n",
      "    detrending current day...\n",
      "    detrending lagged day...\n",
      "    Calculating pearson r...\n"
     ]
    },
    {
     "name": "stderr",
     "output_type": "stream",
     "text": [
      "/home/disk/sipn/nicway/anaconda3/envs/esio/lib/python3.6/site-packages/dask/local.py:255: RuntimeWarning: invalid value encountered in true_divide\n",
      "  return func(*args2)\n"
     ]
    },
    {
     "name": "stdout",
     "output_type": "stream",
     "text": [
      "Saved /home/disk/sipn/nicway/data/model/dampedAnomalyTrend/forecast/param/2018_053_1979_2017_Alpha.nc\n",
      "Processing day of year 54\n",
      "    detrending current day...\n",
      "    detrending lagged day...\n",
      "    Calculating pearson r...\n"
     ]
    },
    {
     "name": "stderr",
     "output_type": "stream",
     "text": [
      "/home/disk/sipn/nicway/anaconda3/envs/esio/lib/python3.6/site-packages/dask/local.py:255: RuntimeWarning: invalid value encountered in true_divide\n",
      "  return func(*args2)\n"
     ]
    },
    {
     "name": "stdout",
     "output_type": "stream",
     "text": [
      "Saved /home/disk/sipn/nicway/data/model/dampedAnomalyTrend/forecast/param/2018_054_1979_2017_Alpha.nc\n",
      "Processing day of year 55\n",
      "    detrending current day...\n",
      "    detrending lagged day...\n",
      "    Calculating pearson r...\n"
     ]
    },
    {
     "name": "stderr",
     "output_type": "stream",
     "text": [
      "/home/disk/sipn/nicway/anaconda3/envs/esio/lib/python3.6/site-packages/dask/local.py:255: RuntimeWarning: invalid value encountered in true_divide\n",
      "  return func(*args2)\n"
     ]
    },
    {
     "name": "stdout",
     "output_type": "stream",
     "text": [
      "Saved /home/disk/sipn/nicway/data/model/dampedAnomalyTrend/forecast/param/2018_055_1979_2017_Alpha.nc\n",
      "Processing day of year 56\n",
      "    detrending current day...\n",
      "    detrending lagged day...\n",
      "    Calculating pearson r...\n"
     ]
    },
    {
     "name": "stderr",
     "output_type": "stream",
     "text": [
      "/home/disk/sipn/nicway/anaconda3/envs/esio/lib/python3.6/site-packages/dask/local.py:255: RuntimeWarning: invalid value encountered in true_divide\n",
      "  return func(*args2)\n"
     ]
    },
    {
     "name": "stdout",
     "output_type": "stream",
     "text": [
      "Saved /home/disk/sipn/nicway/data/model/dampedAnomalyTrend/forecast/param/2018_056_1979_2017_Alpha.nc\n",
      "Processing day of year 57\n",
      "    detrending current day...\n",
      "    detrending lagged day...\n",
      "    Calculating pearson r...\n"
     ]
    },
    {
     "name": "stderr",
     "output_type": "stream",
     "text": [
      "/home/disk/sipn/nicway/anaconda3/envs/esio/lib/python3.6/site-packages/dask/local.py:255: RuntimeWarning: invalid value encountered in true_divide\n",
      "  return func(*args2)\n"
     ]
    },
    {
     "name": "stdout",
     "output_type": "stream",
     "text": [
      "Saved /home/disk/sipn/nicway/data/model/dampedAnomalyTrend/forecast/param/2018_057_1979_2017_Alpha.nc\n",
      "Processing day of year 58\n",
      "    detrending current day...\n",
      "    detrending lagged day...\n",
      "    Calculating pearson r...\n"
     ]
    },
    {
     "name": "stderr",
     "output_type": "stream",
     "text": [
      "/home/disk/sipn/nicway/anaconda3/envs/esio/lib/python3.6/site-packages/dask/local.py:255: RuntimeWarning: invalid value encountered in true_divide\n",
      "  return func(*args2)\n"
     ]
    },
    {
     "name": "stdout",
     "output_type": "stream",
     "text": [
      "Saved /home/disk/sipn/nicway/data/model/dampedAnomalyTrend/forecast/param/2018_058_1979_2017_Alpha.nc\n",
      "Processing day of year 59\n",
      "    detrending current day...\n",
      "    detrending lagged day...\n",
      "    Calculating pearson r...\n"
     ]
    },
    {
     "name": "stderr",
     "output_type": "stream",
     "text": [
      "/home/disk/sipn/nicway/anaconda3/envs/esio/lib/python3.6/site-packages/dask/local.py:255: RuntimeWarning: invalid value encountered in true_divide\n",
      "  return func(*args2)\n"
     ]
    },
    {
     "name": "stdout",
     "output_type": "stream",
     "text": [
      "Saved /home/disk/sipn/nicway/data/model/dampedAnomalyTrend/forecast/param/2018_059_1979_2017_Alpha.nc\n",
      "Processing day of year 60\n",
      "    detrending current day...\n",
      "    detrending lagged day...\n",
      "    Calculating pearson r...\n"
     ]
    },
    {
     "name": "stderr",
     "output_type": "stream",
     "text": [
      "/home/disk/sipn/nicway/anaconda3/envs/esio/lib/python3.6/site-packages/dask/local.py:255: RuntimeWarning: invalid value encountered in true_divide\n",
      "  return func(*args2)\n"
     ]
    },
    {
     "name": "stdout",
     "output_type": "stream",
     "text": [
      "Saved /home/disk/sipn/nicway/data/model/dampedAnomalyTrend/forecast/param/2018_060_1979_2017_Alpha.nc\n",
      "Processing day of year 61\n",
      "    detrending current day...\n",
      "    detrending lagged day...\n",
      "    Calculating pearson r...\n"
     ]
    },
    {
     "name": "stderr",
     "output_type": "stream",
     "text": [
      "/home/disk/sipn/nicway/anaconda3/envs/esio/lib/python3.6/site-packages/dask/local.py:255: RuntimeWarning: invalid value encountered in true_divide\n",
      "  return func(*args2)\n"
     ]
    },
    {
     "name": "stdout",
     "output_type": "stream",
     "text": [
      "Saved /home/disk/sipn/nicway/data/model/dampedAnomalyTrend/forecast/param/2018_061_1979_2017_Alpha.nc\n",
      "Processing day of year 62\n",
      "    detrending current day...\n",
      "    detrending lagged day...\n",
      "    Calculating pearson r...\n"
     ]
    },
    {
     "name": "stderr",
     "output_type": "stream",
     "text": [
      "/home/disk/sipn/nicway/anaconda3/envs/esio/lib/python3.6/site-packages/dask/local.py:255: RuntimeWarning: invalid value encountered in true_divide\n",
      "  return func(*args2)\n"
     ]
    },
    {
     "name": "stdout",
     "output_type": "stream",
     "text": [
      "Saved /home/disk/sipn/nicway/data/model/dampedAnomalyTrend/forecast/param/2018_062_1979_2017_Alpha.nc\n",
      "Processing day of year 63\n",
      "    detrending current day...\n",
      "    detrending lagged day...\n",
      "    Calculating pearson r...\n"
     ]
    },
    {
     "name": "stderr",
     "output_type": "stream",
     "text": [
      "/home/disk/sipn/nicway/anaconda3/envs/esio/lib/python3.6/site-packages/dask/local.py:255: RuntimeWarning: invalid value encountered in true_divide\n",
      "  return func(*args2)\n"
     ]
    },
    {
     "name": "stdout",
     "output_type": "stream",
     "text": [
      "Saved /home/disk/sipn/nicway/data/model/dampedAnomalyTrend/forecast/param/2018_063_1979_2017_Alpha.nc\n",
      "Processing day of year 64\n",
      "    detrending current day...\n",
      "    detrending lagged day...\n",
      "    Calculating pearson r...\n"
     ]
    },
    {
     "name": "stderr",
     "output_type": "stream",
     "text": [
      "/home/disk/sipn/nicway/anaconda3/envs/esio/lib/python3.6/site-packages/dask/local.py:255: RuntimeWarning: invalid value encountered in true_divide\n",
      "  return func(*args2)\n"
     ]
    },
    {
     "name": "stdout",
     "output_type": "stream",
     "text": [
      "Saved /home/disk/sipn/nicway/data/model/dampedAnomalyTrend/forecast/param/2018_064_1979_2017_Alpha.nc\n",
      "Processing day of year 65\n",
      "    detrending current day...\n",
      "    detrending lagged day...\n",
      "    Calculating pearson r...\n"
     ]
    },
    {
     "name": "stderr",
     "output_type": "stream",
     "text": [
      "/home/disk/sipn/nicway/anaconda3/envs/esio/lib/python3.6/site-packages/dask/local.py:255: RuntimeWarning: invalid value encountered in true_divide\n",
      "  return func(*args2)\n"
     ]
    },
    {
     "name": "stdout",
     "output_type": "stream",
     "text": [
      "Saved /home/disk/sipn/nicway/data/model/dampedAnomalyTrend/forecast/param/2018_065_1979_2017_Alpha.nc\n",
      "Processing day of year 66\n",
      "    detrending current day...\n",
      "    detrending lagged day...\n",
      "    Calculating pearson r...\n"
     ]
    },
    {
     "name": "stderr",
     "output_type": "stream",
     "text": [
      "/home/disk/sipn/nicway/anaconda3/envs/esio/lib/python3.6/site-packages/dask/local.py:255: RuntimeWarning: invalid value encountered in true_divide\n",
      "  return func(*args2)\n"
     ]
    },
    {
     "name": "stdout",
     "output_type": "stream",
     "text": [
      "Saved /home/disk/sipn/nicway/data/model/dampedAnomalyTrend/forecast/param/2018_066_1979_2017_Alpha.nc\n",
      "Processing day of year 67\n",
      "    detrending current day...\n",
      "    detrending lagged day...\n",
      "    Calculating pearson r...\n"
     ]
    },
    {
     "name": "stderr",
     "output_type": "stream",
     "text": [
      "/home/disk/sipn/nicway/anaconda3/envs/esio/lib/python3.6/site-packages/dask/local.py:255: RuntimeWarning: invalid value encountered in true_divide\n",
      "  return func(*args2)\n"
     ]
    },
    {
     "name": "stdout",
     "output_type": "stream",
     "text": [
      "Saved /home/disk/sipn/nicway/data/model/dampedAnomalyTrend/forecast/param/2018_067_1979_2017_Alpha.nc\n",
      "Processing day of year 68\n",
      "    detrending current day...\n",
      "    detrending lagged day...\n",
      "    Calculating pearson r...\n"
     ]
    },
    {
     "name": "stderr",
     "output_type": "stream",
     "text": [
      "/home/disk/sipn/nicway/anaconda3/envs/esio/lib/python3.6/site-packages/dask/local.py:255: RuntimeWarning: invalid value encountered in true_divide\n",
      "  return func(*args2)\n"
     ]
    },
    {
     "name": "stdout",
     "output_type": "stream",
     "text": [
      "Saved /home/disk/sipn/nicway/data/model/dampedAnomalyTrend/forecast/param/2018_068_1979_2017_Alpha.nc\n",
      "Processing day of year 69\n",
      "    detrending current day...\n",
      "    detrending lagged day...\n",
      "    Calculating pearson r...\n"
     ]
    },
    {
     "name": "stderr",
     "output_type": "stream",
     "text": [
      "/home/disk/sipn/nicway/anaconda3/envs/esio/lib/python3.6/site-packages/dask/local.py:255: RuntimeWarning: invalid value encountered in true_divide\n",
      "  return func(*args2)\n"
     ]
    },
    {
     "name": "stdout",
     "output_type": "stream",
     "text": [
      "Saved /home/disk/sipn/nicway/data/model/dampedAnomalyTrend/forecast/param/2018_069_1979_2017_Alpha.nc\n",
      "Processing day of year 70\n",
      "    detrending current day...\n",
      "    detrending lagged day...\n",
      "    Calculating pearson r...\n"
     ]
    },
    {
     "name": "stderr",
     "output_type": "stream",
     "text": [
      "/home/disk/sipn/nicway/anaconda3/envs/esio/lib/python3.6/site-packages/dask/local.py:255: RuntimeWarning: invalid value encountered in true_divide\n",
      "  return func(*args2)\n"
     ]
    },
    {
     "name": "stdout",
     "output_type": "stream",
     "text": [
      "Saved /home/disk/sipn/nicway/data/model/dampedAnomalyTrend/forecast/param/2018_070_1979_2017_Alpha.nc\n",
      "Processing day of year 71\n",
      "    detrending current day...\n",
      "    detrending lagged day...\n",
      "    Calculating pearson r...\n"
     ]
    },
    {
     "name": "stderr",
     "output_type": "stream",
     "text": [
      "/home/disk/sipn/nicway/anaconda3/envs/esio/lib/python3.6/site-packages/dask/local.py:255: RuntimeWarning: invalid value encountered in true_divide\n",
      "  return func(*args2)\n"
     ]
    },
    {
     "name": "stdout",
     "output_type": "stream",
     "text": [
      "Saved /home/disk/sipn/nicway/data/model/dampedAnomalyTrend/forecast/param/2018_071_1979_2017_Alpha.nc\n",
      "Processing day of year 72\n",
      "    detrending current day...\n",
      "    detrending lagged day...\n",
      "    Calculating pearson r...\n"
     ]
    },
    {
     "name": "stderr",
     "output_type": "stream",
     "text": [
      "/home/disk/sipn/nicway/anaconda3/envs/esio/lib/python3.6/site-packages/dask/local.py:255: RuntimeWarning: invalid value encountered in true_divide\n",
      "  return func(*args2)\n"
     ]
    },
    {
     "name": "stdout",
     "output_type": "stream",
     "text": [
      "Saved /home/disk/sipn/nicway/data/model/dampedAnomalyTrend/forecast/param/2018_072_1979_2017_Alpha.nc\n",
      "Processing day of year 73\n",
      "    detrending current day...\n",
      "    detrending lagged day...\n",
      "    Calculating pearson r...\n"
     ]
    },
    {
     "name": "stderr",
     "output_type": "stream",
     "text": [
      "/home/disk/sipn/nicway/anaconda3/envs/esio/lib/python3.6/site-packages/dask/local.py:255: RuntimeWarning: invalid value encountered in true_divide\n",
      "  return func(*args2)\n"
     ]
    },
    {
     "name": "stdout",
     "output_type": "stream",
     "text": [
      "Saved /home/disk/sipn/nicway/data/model/dampedAnomalyTrend/forecast/param/2018_073_1979_2017_Alpha.nc\n",
      "Processing day of year 74\n",
      "    detrending current day...\n",
      "    detrending lagged day...\n",
      "    Calculating pearson r...\n"
     ]
    },
    {
     "name": "stderr",
     "output_type": "stream",
     "text": [
      "/home/disk/sipn/nicway/anaconda3/envs/esio/lib/python3.6/site-packages/dask/local.py:255: RuntimeWarning: invalid value encountered in true_divide\n",
      "  return func(*args2)\n"
     ]
    },
    {
     "name": "stdout",
     "output_type": "stream",
     "text": [
      "Saved /home/disk/sipn/nicway/data/model/dampedAnomalyTrend/forecast/param/2018_074_1979_2017_Alpha.nc\n",
      "Processing day of year 75\n",
      "    detrending current day...\n",
      "    detrending lagged day...\n",
      "    Calculating pearson r...\n"
     ]
    },
    {
     "name": "stderr",
     "output_type": "stream",
     "text": [
      "/home/disk/sipn/nicway/anaconda3/envs/esio/lib/python3.6/site-packages/dask/local.py:255: RuntimeWarning: invalid value encountered in true_divide\n",
      "  return func(*args2)\n"
     ]
    },
    {
     "name": "stdout",
     "output_type": "stream",
     "text": [
      "Saved /home/disk/sipn/nicway/data/model/dampedAnomalyTrend/forecast/param/2018_075_1979_2017_Alpha.nc\n",
      "Processing day of year 76\n",
      "    detrending current day...\n",
      "    detrending lagged day...\n",
      "    Calculating pearson r...\n"
     ]
    },
    {
     "name": "stderr",
     "output_type": "stream",
     "text": [
      "/home/disk/sipn/nicway/anaconda3/envs/esio/lib/python3.6/site-packages/dask/local.py:255: RuntimeWarning: invalid value encountered in true_divide\n",
      "  return func(*args2)\n"
     ]
    },
    {
     "name": "stdout",
     "output_type": "stream",
     "text": [
      "Saved /home/disk/sipn/nicway/data/model/dampedAnomalyTrend/forecast/param/2018_076_1979_2017_Alpha.nc\n",
      "Processing day of year 77\n",
      "    detrending current day...\n",
      "    detrending lagged day...\n",
      "    Calculating pearson r...\n"
     ]
    },
    {
     "name": "stderr",
     "output_type": "stream",
     "text": [
      "/home/disk/sipn/nicway/anaconda3/envs/esio/lib/python3.6/site-packages/dask/local.py:255: RuntimeWarning: invalid value encountered in true_divide\n",
      "  return func(*args2)\n"
     ]
    },
    {
     "name": "stdout",
     "output_type": "stream",
     "text": [
      "Saved /home/disk/sipn/nicway/data/model/dampedAnomalyTrend/forecast/param/2018_077_1979_2017_Alpha.nc\n",
      "Processing day of year 78\n",
      "    detrending current day...\n",
      "    detrending lagged day...\n",
      "    Calculating pearson r...\n"
     ]
    },
    {
     "name": "stderr",
     "output_type": "stream",
     "text": [
      "/home/disk/sipn/nicway/anaconda3/envs/esio/lib/python3.6/site-packages/dask/local.py:255: RuntimeWarning: invalid value encountered in true_divide\n",
      "  return func(*args2)\n"
     ]
    },
    {
     "name": "stdout",
     "output_type": "stream",
     "text": [
      "Saved /home/disk/sipn/nicway/data/model/dampedAnomalyTrend/forecast/param/2018_078_1979_2017_Alpha.nc\n",
      "Processing day of year 79\n",
      "    detrending current day...\n",
      "    detrending lagged day...\n",
      "    Calculating pearson r...\n"
     ]
    },
    {
     "name": "stderr",
     "output_type": "stream",
     "text": [
      "/home/disk/sipn/nicway/anaconda3/envs/esio/lib/python3.6/site-packages/dask/local.py:255: RuntimeWarning: invalid value encountered in true_divide\n",
      "  return func(*args2)\n"
     ]
    },
    {
     "name": "stdout",
     "output_type": "stream",
     "text": [
      "Saved /home/disk/sipn/nicway/data/model/dampedAnomalyTrend/forecast/param/2018_079_1979_2017_Alpha.nc\n",
      "Processing day of year 80\n",
      "    detrending current day...\n",
      "    detrending lagged day...\n",
      "    Calculating pearson r...\n"
     ]
    },
    {
     "name": "stderr",
     "output_type": "stream",
     "text": [
      "/home/disk/sipn/nicway/anaconda3/envs/esio/lib/python3.6/site-packages/dask/local.py:255: RuntimeWarning: invalid value encountered in true_divide\n",
      "  return func(*args2)\n"
     ]
    },
    {
     "name": "stdout",
     "output_type": "stream",
     "text": [
      "Saved /home/disk/sipn/nicway/data/model/dampedAnomalyTrend/forecast/param/2018_080_1979_2017_Alpha.nc\n",
      "Processing day of year 81\n",
      "    detrending current day...\n",
      "    detrending lagged day...\n",
      "    Calculating pearson r...\n"
     ]
    },
    {
     "name": "stderr",
     "output_type": "stream",
     "text": [
      "/home/disk/sipn/nicway/anaconda3/envs/esio/lib/python3.6/site-packages/dask/local.py:255: RuntimeWarning: invalid value encountered in true_divide\n",
      "  return func(*args2)\n"
     ]
    },
    {
     "name": "stdout",
     "output_type": "stream",
     "text": [
      "Saved /home/disk/sipn/nicway/data/model/dampedAnomalyTrend/forecast/param/2018_081_1979_2017_Alpha.nc\n",
      "Processing day of year 82\n",
      "    detrending current day...\n",
      "    detrending lagged day...\n",
      "    Calculating pearson r...\n"
     ]
    },
    {
     "name": "stderr",
     "output_type": "stream",
     "text": [
      "/home/disk/sipn/nicway/anaconda3/envs/esio/lib/python3.6/site-packages/dask/local.py:255: RuntimeWarning: invalid value encountered in true_divide\n",
      "  return func(*args2)\n"
     ]
    },
    {
     "name": "stdout",
     "output_type": "stream",
     "text": [
      "Saved /home/disk/sipn/nicway/data/model/dampedAnomalyTrend/forecast/param/2018_082_1979_2017_Alpha.nc\n",
      "Processing day of year 83\n",
      "    detrending current day...\n",
      "    detrending lagged day...\n",
      "    Calculating pearson r...\n"
     ]
    },
    {
     "name": "stderr",
     "output_type": "stream",
     "text": [
      "/home/disk/sipn/nicway/anaconda3/envs/esio/lib/python3.6/site-packages/dask/local.py:255: RuntimeWarning: invalid value encountered in true_divide\n",
      "  return func(*args2)\n"
     ]
    },
    {
     "name": "stdout",
     "output_type": "stream",
     "text": [
      "Saved /home/disk/sipn/nicway/data/model/dampedAnomalyTrend/forecast/param/2018_083_1979_2017_Alpha.nc\n",
      "Processing day of year 84\n",
      "    detrending current day...\n",
      "    detrending lagged day...\n",
      "    Calculating pearson r...\n"
     ]
    },
    {
     "name": "stderr",
     "output_type": "stream",
     "text": [
      "/home/disk/sipn/nicway/anaconda3/envs/esio/lib/python3.6/site-packages/dask/local.py:255: RuntimeWarning: invalid value encountered in true_divide\n",
      "  return func(*args2)\n"
     ]
    },
    {
     "name": "stdout",
     "output_type": "stream",
     "text": [
      "Saved /home/disk/sipn/nicway/data/model/dampedAnomalyTrend/forecast/param/2018_084_1979_2017_Alpha.nc\n",
      "Processing day of year 85\n",
      "    detrending current day...\n",
      "    detrending lagged day...\n",
      "    Calculating pearson r...\n"
     ]
    },
    {
     "name": "stderr",
     "output_type": "stream",
     "text": [
      "/home/disk/sipn/nicway/anaconda3/envs/esio/lib/python3.6/site-packages/dask/local.py:255: RuntimeWarning: invalid value encountered in true_divide\n",
      "  return func(*args2)\n"
     ]
    },
    {
     "name": "stdout",
     "output_type": "stream",
     "text": [
      "Saved /home/disk/sipn/nicway/data/model/dampedAnomalyTrend/forecast/param/2018_085_1979_2017_Alpha.nc\n",
      "Processing day of year 86\n",
      "    detrending current day...\n",
      "    detrending lagged day...\n",
      "    Calculating pearson r...\n"
     ]
    },
    {
     "name": "stderr",
     "output_type": "stream",
     "text": [
      "/home/disk/sipn/nicway/anaconda3/envs/esio/lib/python3.6/site-packages/dask/local.py:255: RuntimeWarning: invalid value encountered in true_divide\n",
      "  return func(*args2)\n"
     ]
    },
    {
     "name": "stdout",
     "output_type": "stream",
     "text": [
      "Saved /home/disk/sipn/nicway/data/model/dampedAnomalyTrend/forecast/param/2018_086_1979_2017_Alpha.nc\n",
      "Processing day of year 87\n",
      "    detrending current day...\n",
      "    detrending lagged day...\n",
      "    Calculating pearson r...\n"
     ]
    },
    {
     "name": "stderr",
     "output_type": "stream",
     "text": [
      "/home/disk/sipn/nicway/anaconda3/envs/esio/lib/python3.6/site-packages/dask/local.py:255: RuntimeWarning: invalid value encountered in true_divide\n",
      "  return func(*args2)\n"
     ]
    },
    {
     "name": "stdout",
     "output_type": "stream",
     "text": [
      "Saved /home/disk/sipn/nicway/data/model/dampedAnomalyTrend/forecast/param/2018_087_1979_2017_Alpha.nc\n",
      "Processing day of year 88\n",
      "    detrending current day...\n",
      "    detrending lagged day...\n",
      "    Calculating pearson r...\n"
     ]
    },
    {
     "name": "stderr",
     "output_type": "stream",
     "text": [
      "/home/disk/sipn/nicway/anaconda3/envs/esio/lib/python3.6/site-packages/dask/local.py:255: RuntimeWarning: invalid value encountered in true_divide\n",
      "  return func(*args2)\n"
     ]
    },
    {
     "name": "stdout",
     "output_type": "stream",
     "text": [
      "Saved /home/disk/sipn/nicway/data/model/dampedAnomalyTrend/forecast/param/2018_088_1979_2017_Alpha.nc\n",
      "Processing day of year 89\n",
      "    detrending current day...\n",
      "    detrending lagged day...\n",
      "    Calculating pearson r...\n"
     ]
    },
    {
     "name": "stderr",
     "output_type": "stream",
     "text": [
      "/home/disk/sipn/nicway/anaconda3/envs/esio/lib/python3.6/site-packages/dask/local.py:255: RuntimeWarning: invalid value encountered in true_divide\n",
      "  return func(*args2)\n"
     ]
    },
    {
     "name": "stdout",
     "output_type": "stream",
     "text": [
      "Saved /home/disk/sipn/nicway/data/model/dampedAnomalyTrend/forecast/param/2018_089_1979_2017_Alpha.nc\n",
      "Processing day of year 90\n",
      "    detrending current day...\n",
      "    detrending lagged day...\n",
      "    Calculating pearson r...\n"
     ]
    },
    {
     "name": "stderr",
     "output_type": "stream",
     "text": [
      "/home/disk/sipn/nicway/anaconda3/envs/esio/lib/python3.6/site-packages/dask/local.py:255: RuntimeWarning: invalid value encountered in true_divide\n",
      "  return func(*args2)\n"
     ]
    },
    {
     "name": "stdout",
     "output_type": "stream",
     "text": [
      "Saved /home/disk/sipn/nicway/data/model/dampedAnomalyTrend/forecast/param/2018_090_1979_2017_Alpha.nc\n",
      "Processing day of year 91\n",
      "    detrending current day...\n",
      "    detrending lagged day...\n",
      "    Calculating pearson r...\n"
     ]
    },
    {
     "name": "stderr",
     "output_type": "stream",
     "text": [
      "/home/disk/sipn/nicway/anaconda3/envs/esio/lib/python3.6/site-packages/dask/local.py:255: RuntimeWarning: invalid value encountered in true_divide\n",
      "  return func(*args2)\n"
     ]
    },
    {
     "name": "stdout",
     "output_type": "stream",
     "text": [
      "Saved /home/disk/sipn/nicway/data/model/dampedAnomalyTrend/forecast/param/2018_091_1979_2017_Alpha.nc\n",
      "Processing day of year 92\n",
      "    detrending current day...\n",
      "    detrending lagged day...\n",
      "    Calculating pearson r...\n"
     ]
    },
    {
     "name": "stderr",
     "output_type": "stream",
     "text": [
      "/home/disk/sipn/nicway/anaconda3/envs/esio/lib/python3.6/site-packages/dask/local.py:255: RuntimeWarning: invalid value encountered in true_divide\n",
      "  return func(*args2)\n"
     ]
    },
    {
     "name": "stdout",
     "output_type": "stream",
     "text": [
      "Saved /home/disk/sipn/nicway/data/model/dampedAnomalyTrend/forecast/param/2018_092_1979_2017_Alpha.nc\n",
      "Processing day of year 93\n",
      "    detrending current day...\n",
      "    detrending lagged day...\n",
      "    Calculating pearson r...\n"
     ]
    },
    {
     "name": "stderr",
     "output_type": "stream",
     "text": [
      "/home/disk/sipn/nicway/anaconda3/envs/esio/lib/python3.6/site-packages/dask/local.py:255: RuntimeWarning: invalid value encountered in true_divide\n",
      "  return func(*args2)\n"
     ]
    },
    {
     "name": "stdout",
     "output_type": "stream",
     "text": [
      "Saved /home/disk/sipn/nicway/data/model/dampedAnomalyTrend/forecast/param/2018_093_1979_2017_Alpha.nc\n",
      "Processing day of year 94\n",
      "    detrending current day...\n",
      "    detrending lagged day...\n",
      "    Calculating pearson r...\n"
     ]
    },
    {
     "name": "stderr",
     "output_type": "stream",
     "text": [
      "/home/disk/sipn/nicway/anaconda3/envs/esio/lib/python3.6/site-packages/dask/local.py:255: RuntimeWarning: invalid value encountered in true_divide\n",
      "  return func(*args2)\n"
     ]
    },
    {
     "name": "stdout",
     "output_type": "stream",
     "text": [
      "Saved /home/disk/sipn/nicway/data/model/dampedAnomalyTrend/forecast/param/2018_094_1979_2017_Alpha.nc\n",
      "Processing day of year 95\n",
      "    detrending current day...\n",
      "    detrending lagged day...\n",
      "    Calculating pearson r...\n"
     ]
    },
    {
     "name": "stderr",
     "output_type": "stream",
     "text": [
      "/home/disk/sipn/nicway/anaconda3/envs/esio/lib/python3.6/site-packages/dask/local.py:255: RuntimeWarning: invalid value encountered in true_divide\n",
      "  return func(*args2)\n"
     ]
    },
    {
     "name": "stdout",
     "output_type": "stream",
     "text": [
      "Saved /home/disk/sipn/nicway/data/model/dampedAnomalyTrend/forecast/param/2018_095_1979_2017_Alpha.nc\n",
      "Processing day of year 96\n",
      "    detrending current day...\n",
      "    detrending lagged day...\n",
      "    Calculating pearson r...\n"
     ]
    },
    {
     "name": "stderr",
     "output_type": "stream",
     "text": [
      "/home/disk/sipn/nicway/anaconda3/envs/esio/lib/python3.6/site-packages/dask/local.py:255: RuntimeWarning: invalid value encountered in true_divide\n",
      "  return func(*args2)\n"
     ]
    },
    {
     "name": "stdout",
     "output_type": "stream",
     "text": [
      "Saved /home/disk/sipn/nicway/data/model/dampedAnomalyTrend/forecast/param/2018_096_1979_2017_Alpha.nc\n",
      "Processing day of year 97\n",
      "    detrending current day...\n",
      "    detrending lagged day...\n",
      "    Calculating pearson r...\n"
     ]
    },
    {
     "name": "stderr",
     "output_type": "stream",
     "text": [
      "/home/disk/sipn/nicway/anaconda3/envs/esio/lib/python3.6/site-packages/dask/local.py:255: RuntimeWarning: invalid value encountered in true_divide\n",
      "  return func(*args2)\n"
     ]
    },
    {
     "name": "stdout",
     "output_type": "stream",
     "text": [
      "Saved /home/disk/sipn/nicway/data/model/dampedAnomalyTrend/forecast/param/2018_097_1979_2017_Alpha.nc\n",
      "Processing day of year 98\n",
      "    detrending current day...\n",
      "    detrending lagged day...\n",
      "    Calculating pearson r...\n"
     ]
    },
    {
     "name": "stderr",
     "output_type": "stream",
     "text": [
      "/home/disk/sipn/nicway/anaconda3/envs/esio/lib/python3.6/site-packages/dask/local.py:255: RuntimeWarning: invalid value encountered in true_divide\n",
      "  return func(*args2)\n"
     ]
    },
    {
     "name": "stdout",
     "output_type": "stream",
     "text": [
      "Saved /home/disk/sipn/nicway/data/model/dampedAnomalyTrend/forecast/param/2018_098_1979_2017_Alpha.nc\n",
      "Processing day of year 99\n",
      "    detrending current day...\n",
      "    detrending lagged day...\n",
      "    Calculating pearson r...\n"
     ]
    },
    {
     "name": "stderr",
     "output_type": "stream",
     "text": [
      "/home/disk/sipn/nicway/anaconda3/envs/esio/lib/python3.6/site-packages/dask/local.py:255: RuntimeWarning: invalid value encountered in true_divide\n",
      "  return func(*args2)\n"
     ]
    },
    {
     "name": "stdout",
     "output_type": "stream",
     "text": [
      "Saved /home/disk/sipn/nicway/data/model/dampedAnomalyTrend/forecast/param/2018_099_1979_2017_Alpha.nc\n",
      "Processing day of year 100\n",
      "    detrending current day...\n",
      "    detrending lagged day...\n",
      "    Calculating pearson r...\n"
     ]
    },
    {
     "name": "stderr",
     "output_type": "stream",
     "text": [
      "/home/disk/sipn/nicway/anaconda3/envs/esio/lib/python3.6/site-packages/dask/local.py:255: RuntimeWarning: invalid value encountered in true_divide\n",
      "  return func(*args2)\n"
     ]
    },
    {
     "name": "stdout",
     "output_type": "stream",
     "text": [
      "Saved /home/disk/sipn/nicway/data/model/dampedAnomalyTrend/forecast/param/2018_100_1979_2017_Alpha.nc\n",
      "Processing day of year 101\n",
      "    detrending current day...\n",
      "    detrending lagged day...\n",
      "    Calculating pearson r...\n"
     ]
    },
    {
     "name": "stderr",
     "output_type": "stream",
     "text": [
      "/home/disk/sipn/nicway/anaconda3/envs/esio/lib/python3.6/site-packages/dask/local.py:255: RuntimeWarning: invalid value encountered in true_divide\n",
      "  return func(*args2)\n"
     ]
    },
    {
     "name": "stdout",
     "output_type": "stream",
     "text": [
      "Saved /home/disk/sipn/nicway/data/model/dampedAnomalyTrend/forecast/param/2018_101_1979_2017_Alpha.nc\n",
      "Processing day of year 102\n",
      "    detrending current day...\n",
      "    detrending lagged day...\n",
      "    Calculating pearson r...\n"
     ]
    },
    {
     "name": "stderr",
     "output_type": "stream",
     "text": [
      "/home/disk/sipn/nicway/anaconda3/envs/esio/lib/python3.6/site-packages/dask/local.py:255: RuntimeWarning: invalid value encountered in true_divide\n",
      "  return func(*args2)\n"
     ]
    },
    {
     "name": "stdout",
     "output_type": "stream",
     "text": [
      "Saved /home/disk/sipn/nicway/data/model/dampedAnomalyTrend/forecast/param/2018_102_1979_2017_Alpha.nc\n",
      "Processing day of year 103\n",
      "    detrending current day...\n",
      "    detrending lagged day...\n",
      "    Calculating pearson r...\n"
     ]
    },
    {
     "name": "stderr",
     "output_type": "stream",
     "text": [
      "/home/disk/sipn/nicway/anaconda3/envs/esio/lib/python3.6/site-packages/dask/local.py:255: RuntimeWarning: invalid value encountered in true_divide\n",
      "  return func(*args2)\n"
     ]
    },
    {
     "name": "stdout",
     "output_type": "stream",
     "text": [
      "Saved /home/disk/sipn/nicway/data/model/dampedAnomalyTrend/forecast/param/2018_103_1979_2017_Alpha.nc\n",
      "Processing day of year 104\n",
      "    detrending current day...\n",
      "    detrending lagged day...\n",
      "    Calculating pearson r...\n"
     ]
    },
    {
     "name": "stderr",
     "output_type": "stream",
     "text": [
      "/home/disk/sipn/nicway/anaconda3/envs/esio/lib/python3.6/site-packages/dask/local.py:255: RuntimeWarning: invalid value encountered in true_divide\n",
      "  return func(*args2)\n"
     ]
    },
    {
     "name": "stdout",
     "output_type": "stream",
     "text": [
      "Saved /home/disk/sipn/nicway/data/model/dampedAnomalyTrend/forecast/param/2018_104_1979_2017_Alpha.nc\n",
      "Processing day of year 105\n",
      "    detrending current day...\n",
      "    detrending lagged day...\n",
      "    Calculating pearson r...\n"
     ]
    },
    {
     "name": "stderr",
     "output_type": "stream",
     "text": [
      "/home/disk/sipn/nicway/anaconda3/envs/esio/lib/python3.6/site-packages/dask/local.py:255: RuntimeWarning: invalid value encountered in true_divide\n",
      "  return func(*args2)\n"
     ]
    },
    {
     "name": "stdout",
     "output_type": "stream",
     "text": [
      "Saved /home/disk/sipn/nicway/data/model/dampedAnomalyTrend/forecast/param/2018_105_1979_2017_Alpha.nc\n",
      "Processing day of year 106\n",
      "    detrending current day...\n",
      "    detrending lagged day...\n",
      "    Calculating pearson r...\n"
     ]
    },
    {
     "name": "stderr",
     "output_type": "stream",
     "text": [
      "/home/disk/sipn/nicway/anaconda3/envs/esio/lib/python3.6/site-packages/dask/local.py:255: RuntimeWarning: invalid value encountered in true_divide\n",
      "  return func(*args2)\n"
     ]
    },
    {
     "name": "stdout",
     "output_type": "stream",
     "text": [
      "Saved /home/disk/sipn/nicway/data/model/dampedAnomalyTrend/forecast/param/2018_106_1979_2017_Alpha.nc\n",
      "Processing day of year 107\n",
      "    detrending current day...\n",
      "    detrending lagged day...\n",
      "    Calculating pearson r...\n"
     ]
    },
    {
     "name": "stderr",
     "output_type": "stream",
     "text": [
      "/home/disk/sipn/nicway/anaconda3/envs/esio/lib/python3.6/site-packages/dask/local.py:255: RuntimeWarning: invalid value encountered in true_divide\n",
      "  return func(*args2)\n"
     ]
    },
    {
     "name": "stdout",
     "output_type": "stream",
     "text": [
      "Saved /home/disk/sipn/nicway/data/model/dampedAnomalyTrend/forecast/param/2018_107_1979_2017_Alpha.nc\n",
      "Processing day of year 108\n",
      "    detrending current day...\n",
      "    detrending lagged day...\n",
      "    Calculating pearson r...\n"
     ]
    },
    {
     "name": "stderr",
     "output_type": "stream",
     "text": [
      "/home/disk/sipn/nicway/anaconda3/envs/esio/lib/python3.6/site-packages/dask/local.py:255: RuntimeWarning: invalid value encountered in true_divide\n",
      "  return func(*args2)\n"
     ]
    },
    {
     "name": "stdout",
     "output_type": "stream",
     "text": [
      "Saved /home/disk/sipn/nicway/data/model/dampedAnomalyTrend/forecast/param/2018_108_1979_2017_Alpha.nc\n",
      "Processing day of year 109\n",
      "    detrending current day...\n",
      "    detrending lagged day...\n",
      "    Calculating pearson r...\n"
     ]
    },
    {
     "name": "stderr",
     "output_type": "stream",
     "text": [
      "/home/disk/sipn/nicway/anaconda3/envs/esio/lib/python3.6/site-packages/dask/local.py:255: RuntimeWarning: invalid value encountered in true_divide\n",
      "  return func(*args2)\n"
     ]
    },
    {
     "name": "stdout",
     "output_type": "stream",
     "text": [
      "Saved /home/disk/sipn/nicway/data/model/dampedAnomalyTrend/forecast/param/2018_109_1979_2017_Alpha.nc\n",
      "Processing day of year 110\n",
      "    detrending current day...\n",
      "    detrending lagged day...\n",
      "    Calculating pearson r...\n"
     ]
    },
    {
     "name": "stderr",
     "output_type": "stream",
     "text": [
      "/home/disk/sipn/nicway/anaconda3/envs/esio/lib/python3.6/site-packages/dask/local.py:255: RuntimeWarning: invalid value encountered in true_divide\n",
      "  return func(*args2)\n"
     ]
    },
    {
     "name": "stdout",
     "output_type": "stream",
     "text": [
      "Saved /home/disk/sipn/nicway/data/model/dampedAnomalyTrend/forecast/param/2018_110_1979_2017_Alpha.nc\n",
      "Processing day of year 111\n",
      "    detrending current day...\n",
      "    detrending lagged day...\n",
      "    Calculating pearson r...\n"
     ]
    },
    {
     "name": "stderr",
     "output_type": "stream",
     "text": [
      "/home/disk/sipn/nicway/anaconda3/envs/esio/lib/python3.6/site-packages/dask/local.py:255: RuntimeWarning: invalid value encountered in true_divide\n",
      "  return func(*args2)\n"
     ]
    },
    {
     "name": "stdout",
     "output_type": "stream",
     "text": [
      "Saved /home/disk/sipn/nicway/data/model/dampedAnomalyTrend/forecast/param/2018_111_1979_2017_Alpha.nc\n",
      "Processing day of year 112\n",
      "    detrending current day...\n",
      "    detrending lagged day...\n",
      "    Calculating pearson r...\n"
     ]
    },
    {
     "name": "stderr",
     "output_type": "stream",
     "text": [
      "/home/disk/sipn/nicway/anaconda3/envs/esio/lib/python3.6/site-packages/dask/local.py:255: RuntimeWarning: invalid value encountered in true_divide\n",
      "  return func(*args2)\n"
     ]
    },
    {
     "name": "stdout",
     "output_type": "stream",
     "text": [
      "Saved /home/disk/sipn/nicway/data/model/dampedAnomalyTrend/forecast/param/2018_112_1979_2017_Alpha.nc\n",
      "Processing day of year 113\n",
      "    detrending current day...\n",
      "    detrending lagged day...\n",
      "    Calculating pearson r...\n"
     ]
    },
    {
     "name": "stderr",
     "output_type": "stream",
     "text": [
      "/home/disk/sipn/nicway/anaconda3/envs/esio/lib/python3.6/site-packages/dask/local.py:255: RuntimeWarning: invalid value encountered in true_divide\n",
      "  return func(*args2)\n"
     ]
    },
    {
     "name": "stdout",
     "output_type": "stream",
     "text": [
      "Saved /home/disk/sipn/nicway/data/model/dampedAnomalyTrend/forecast/param/2018_113_1979_2017_Alpha.nc\n",
      "Processing day of year 114\n",
      "    detrending current day...\n",
      "    detrending lagged day...\n",
      "    Calculating pearson r...\n"
     ]
    },
    {
     "name": "stderr",
     "output_type": "stream",
     "text": [
      "/home/disk/sipn/nicway/anaconda3/envs/esio/lib/python3.6/site-packages/dask/local.py:255: RuntimeWarning: invalid value encountered in true_divide\n",
      "  return func(*args2)\n"
     ]
    },
    {
     "name": "stdout",
     "output_type": "stream",
     "text": [
      "Saved /home/disk/sipn/nicway/data/model/dampedAnomalyTrend/forecast/param/2018_114_1979_2017_Alpha.nc\n",
      "Processing day of year 115\n",
      "    detrending current day...\n",
      "    detrending lagged day...\n",
      "    Calculating pearson r...\n"
     ]
    },
    {
     "name": "stderr",
     "output_type": "stream",
     "text": [
      "/home/disk/sipn/nicway/anaconda3/envs/esio/lib/python3.6/site-packages/dask/local.py:255: RuntimeWarning: invalid value encountered in true_divide\n",
      "  return func(*args2)\n"
     ]
    },
    {
     "name": "stdout",
     "output_type": "stream",
     "text": [
      "Saved /home/disk/sipn/nicway/data/model/dampedAnomalyTrend/forecast/param/2018_115_1979_2017_Alpha.nc\n",
      "Processing day of year 116\n",
      "    detrending current day...\n",
      "    detrending lagged day...\n",
      "    Calculating pearson r...\n"
     ]
    },
    {
     "name": "stderr",
     "output_type": "stream",
     "text": [
      "/home/disk/sipn/nicway/anaconda3/envs/esio/lib/python3.6/site-packages/dask/local.py:255: RuntimeWarning: invalid value encountered in true_divide\n",
      "  return func(*args2)\n"
     ]
    },
    {
     "name": "stdout",
     "output_type": "stream",
     "text": [
      "Saved /home/disk/sipn/nicway/data/model/dampedAnomalyTrend/forecast/param/2018_116_1979_2017_Alpha.nc\n",
      "Processing day of year 117\n",
      "    detrending current day...\n",
      "    detrending lagged day...\n",
      "    Calculating pearson r...\n"
     ]
    },
    {
     "name": "stderr",
     "output_type": "stream",
     "text": [
      "/home/disk/sipn/nicway/anaconda3/envs/esio/lib/python3.6/site-packages/dask/local.py:255: RuntimeWarning: invalid value encountered in true_divide\n",
      "  return func(*args2)\n"
     ]
    },
    {
     "name": "stdout",
     "output_type": "stream",
     "text": [
      "Saved /home/disk/sipn/nicway/data/model/dampedAnomalyTrend/forecast/param/2018_117_1979_2017_Alpha.nc\n",
      "Processing day of year 118\n",
      "    detrending current day...\n",
      "    detrending lagged day...\n",
      "    Calculating pearson r...\n"
     ]
    },
    {
     "name": "stderr",
     "output_type": "stream",
     "text": [
      "/home/disk/sipn/nicway/anaconda3/envs/esio/lib/python3.6/site-packages/dask/local.py:255: RuntimeWarning: invalid value encountered in true_divide\n",
      "  return func(*args2)\n"
     ]
    },
    {
     "name": "stdout",
     "output_type": "stream",
     "text": [
      "Saved /home/disk/sipn/nicway/data/model/dampedAnomalyTrend/forecast/param/2018_118_1979_2017_Alpha.nc\n",
      "Processing day of year 119\n",
      "    detrending current day...\n",
      "    detrending lagged day...\n",
      "    Calculating pearson r...\n"
     ]
    },
    {
     "name": "stderr",
     "output_type": "stream",
     "text": [
      "/home/disk/sipn/nicway/anaconda3/envs/esio/lib/python3.6/site-packages/dask/local.py:255: RuntimeWarning: invalid value encountered in true_divide\n",
      "  return func(*args2)\n"
     ]
    },
    {
     "name": "stdout",
     "output_type": "stream",
     "text": [
      "Saved /home/disk/sipn/nicway/data/model/dampedAnomalyTrend/forecast/param/2018_119_1979_2017_Alpha.nc\n",
      "Processing day of year 120\n",
      "    detrending current day...\n",
      "    detrending lagged day...\n",
      "    Calculating pearson r...\n"
     ]
    },
    {
     "name": "stderr",
     "output_type": "stream",
     "text": [
      "/home/disk/sipn/nicway/anaconda3/envs/esio/lib/python3.6/site-packages/dask/local.py:255: RuntimeWarning: invalid value encountered in true_divide\n",
      "  return func(*args2)\n"
     ]
    },
    {
     "name": "stdout",
     "output_type": "stream",
     "text": [
      "Saved /home/disk/sipn/nicway/data/model/dampedAnomalyTrend/forecast/param/2018_120_1979_2017_Alpha.nc\n",
      "Processing day of year 121\n",
      "    detrending current day...\n",
      "    detrending lagged day...\n",
      "    Calculating pearson r...\n"
     ]
    },
    {
     "name": "stderr",
     "output_type": "stream",
     "text": [
      "/home/disk/sipn/nicway/anaconda3/envs/esio/lib/python3.6/site-packages/dask/local.py:255: RuntimeWarning: invalid value encountered in true_divide\n",
      "  return func(*args2)\n"
     ]
    },
    {
     "name": "stdout",
     "output_type": "stream",
     "text": [
      "Saved /home/disk/sipn/nicway/data/model/dampedAnomalyTrend/forecast/param/2018_121_1979_2017_Alpha.nc\n",
      "Processing day of year 122\n",
      "    detrending current day...\n",
      "    detrending lagged day...\n",
      "    Calculating pearson r...\n"
     ]
    },
    {
     "name": "stderr",
     "output_type": "stream",
     "text": [
      "/home/disk/sipn/nicway/anaconda3/envs/esio/lib/python3.6/site-packages/dask/local.py:255: RuntimeWarning: invalid value encountered in true_divide\n",
      "  return func(*args2)\n"
     ]
    },
    {
     "name": "stdout",
     "output_type": "stream",
     "text": [
      "Saved /home/disk/sipn/nicway/data/model/dampedAnomalyTrend/forecast/param/2018_122_1979_2017_Alpha.nc\n",
      "Processing day of year 123\n",
      "    detrending current day...\n",
      "    detrending lagged day...\n",
      "    Calculating pearson r...\n"
     ]
    },
    {
     "name": "stderr",
     "output_type": "stream",
     "text": [
      "/home/disk/sipn/nicway/anaconda3/envs/esio/lib/python3.6/site-packages/dask/local.py:255: RuntimeWarning: invalid value encountered in true_divide\n",
      "  return func(*args2)\n"
     ]
    },
    {
     "name": "stdout",
     "output_type": "stream",
     "text": [
      "Saved /home/disk/sipn/nicway/data/model/dampedAnomalyTrend/forecast/param/2018_123_1979_2017_Alpha.nc\n",
      "Processing day of year 124\n",
      "    detrending current day...\n",
      "    detrending lagged day...\n",
      "    Calculating pearson r...\n"
     ]
    },
    {
     "name": "stderr",
     "output_type": "stream",
     "text": [
      "/home/disk/sipn/nicway/anaconda3/envs/esio/lib/python3.6/site-packages/dask/local.py:255: RuntimeWarning: invalid value encountered in true_divide\n",
      "  return func(*args2)\n"
     ]
    },
    {
     "name": "stdout",
     "output_type": "stream",
     "text": [
      "Saved /home/disk/sipn/nicway/data/model/dampedAnomalyTrend/forecast/param/2018_124_1979_2017_Alpha.nc\n",
      "Processing day of year 125\n",
      "    detrending current day...\n",
      "    detrending lagged day...\n",
      "    Calculating pearson r...\n"
     ]
    },
    {
     "name": "stderr",
     "output_type": "stream",
     "text": [
      "/home/disk/sipn/nicway/anaconda3/envs/esio/lib/python3.6/site-packages/dask/local.py:255: RuntimeWarning: invalid value encountered in true_divide\n",
      "  return func(*args2)\n"
     ]
    },
    {
     "name": "stdout",
     "output_type": "stream",
     "text": [
      "Saved /home/disk/sipn/nicway/data/model/dampedAnomalyTrend/forecast/param/2018_125_1979_2017_Alpha.nc\n",
      "Processing day of year 126\n",
      "    detrending current day...\n",
      "    detrending lagged day...\n",
      "    Calculating pearson r...\n"
     ]
    },
    {
     "name": "stderr",
     "output_type": "stream",
     "text": [
      "/home/disk/sipn/nicway/anaconda3/envs/esio/lib/python3.6/site-packages/dask/local.py:255: RuntimeWarning: invalid value encountered in true_divide\n",
      "  return func(*args2)\n"
     ]
    },
    {
     "name": "stdout",
     "output_type": "stream",
     "text": [
      "Saved /home/disk/sipn/nicway/data/model/dampedAnomalyTrend/forecast/param/2018_126_1979_2017_Alpha.nc\n",
      "Processing day of year 127\n",
      "    detrending current day...\n",
      "    detrending lagged day...\n",
      "    Calculating pearson r...\n"
     ]
    },
    {
     "name": "stderr",
     "output_type": "stream",
     "text": [
      "/home/disk/sipn/nicway/anaconda3/envs/esio/lib/python3.6/site-packages/dask/local.py:255: RuntimeWarning: invalid value encountered in true_divide\n",
      "  return func(*args2)\n"
     ]
    },
    {
     "name": "stdout",
     "output_type": "stream",
     "text": [
      "Saved /home/disk/sipn/nicway/data/model/dampedAnomalyTrend/forecast/param/2018_127_1979_2017_Alpha.nc\n",
      "Processing day of year 128\n",
      "    detrending current day...\n",
      "    detrending lagged day...\n",
      "    Calculating pearson r...\n"
     ]
    },
    {
     "name": "stderr",
     "output_type": "stream",
     "text": [
      "/home/disk/sipn/nicway/anaconda3/envs/esio/lib/python3.6/site-packages/dask/local.py:255: RuntimeWarning: invalid value encountered in true_divide\n",
      "  return func(*args2)\n"
     ]
    },
    {
     "name": "stdout",
     "output_type": "stream",
     "text": [
      "Saved /home/disk/sipn/nicway/data/model/dampedAnomalyTrend/forecast/param/2018_128_1979_2017_Alpha.nc\n",
      "Processing day of year 129\n",
      "    detrending current day...\n",
      "    detrending lagged day...\n",
      "    Calculating pearson r...\n"
     ]
    },
    {
     "name": "stderr",
     "output_type": "stream",
     "text": [
      "/home/disk/sipn/nicway/anaconda3/envs/esio/lib/python3.6/site-packages/dask/local.py:255: RuntimeWarning: invalid value encountered in true_divide\n",
      "  return func(*args2)\n"
     ]
    },
    {
     "name": "stdout",
     "output_type": "stream",
     "text": [
      "Saved /home/disk/sipn/nicway/data/model/dampedAnomalyTrend/forecast/param/2018_129_1979_2017_Alpha.nc\n",
      "Processing day of year 130\n",
      "    detrending current day...\n",
      "    detrending lagged day...\n",
      "    Calculating pearson r...\n"
     ]
    },
    {
     "name": "stderr",
     "output_type": "stream",
     "text": [
      "/home/disk/sipn/nicway/anaconda3/envs/esio/lib/python3.6/site-packages/dask/local.py:255: RuntimeWarning: invalid value encountered in true_divide\n",
      "  return func(*args2)\n"
     ]
    },
    {
     "name": "stdout",
     "output_type": "stream",
     "text": [
      "Saved /home/disk/sipn/nicway/data/model/dampedAnomalyTrend/forecast/param/2018_130_1979_2017_Alpha.nc\n",
      "Processing day of year 131\n",
      "    detrending current day...\n",
      "    detrending lagged day...\n",
      "    Calculating pearson r...\n"
     ]
    },
    {
     "name": "stderr",
     "output_type": "stream",
     "text": [
      "/home/disk/sipn/nicway/anaconda3/envs/esio/lib/python3.6/site-packages/dask/local.py:255: RuntimeWarning: invalid value encountered in true_divide\n",
      "  return func(*args2)\n"
     ]
    },
    {
     "name": "stdout",
     "output_type": "stream",
     "text": [
      "Saved /home/disk/sipn/nicway/data/model/dampedAnomalyTrend/forecast/param/2018_131_1979_2017_Alpha.nc\n",
      "Processing day of year 132\n",
      "    detrending current day...\n",
      "    detrending lagged day...\n",
      "    Calculating pearson r...\n"
     ]
    },
    {
     "name": "stderr",
     "output_type": "stream",
     "text": [
      "/home/disk/sipn/nicway/anaconda3/envs/esio/lib/python3.6/site-packages/dask/local.py:255: RuntimeWarning: invalid value encountered in true_divide\n",
      "  return func(*args2)\n"
     ]
    },
    {
     "name": "stdout",
     "output_type": "stream",
     "text": [
      "Saved /home/disk/sipn/nicway/data/model/dampedAnomalyTrend/forecast/param/2018_132_1979_2017_Alpha.nc\n",
      "Processing day of year 133\n",
      "    detrending current day...\n",
      "    detrending lagged day...\n",
      "    Calculating pearson r...\n"
     ]
    },
    {
     "name": "stderr",
     "output_type": "stream",
     "text": [
      "/home/disk/sipn/nicway/anaconda3/envs/esio/lib/python3.6/site-packages/dask/local.py:255: RuntimeWarning: invalid value encountered in true_divide\n",
      "  return func(*args2)\n"
     ]
    },
    {
     "name": "stdout",
     "output_type": "stream",
     "text": [
      "Saved /home/disk/sipn/nicway/data/model/dampedAnomalyTrend/forecast/param/2018_133_1979_2017_Alpha.nc\n",
      "Processing day of year 134\n",
      "    detrending current day...\n",
      "    detrending lagged day...\n",
      "    Calculating pearson r...\n"
     ]
    },
    {
     "name": "stderr",
     "output_type": "stream",
     "text": [
      "/home/disk/sipn/nicway/anaconda3/envs/esio/lib/python3.6/site-packages/dask/local.py:255: RuntimeWarning: invalid value encountered in true_divide\n",
      "  return func(*args2)\n"
     ]
    },
    {
     "name": "stdout",
     "output_type": "stream",
     "text": [
      "Saved /home/disk/sipn/nicway/data/model/dampedAnomalyTrend/forecast/param/2018_134_1979_2017_Alpha.nc\n",
      "Processing day of year 135\n",
      "    detrending current day...\n",
      "    detrending lagged day...\n",
      "    Calculating pearson r...\n"
     ]
    },
    {
     "name": "stderr",
     "output_type": "stream",
     "text": [
      "/home/disk/sipn/nicway/anaconda3/envs/esio/lib/python3.6/site-packages/dask/local.py:255: RuntimeWarning: invalid value encountered in true_divide\n",
      "  return func(*args2)\n"
     ]
    },
    {
     "name": "stdout",
     "output_type": "stream",
     "text": [
      "Saved /home/disk/sipn/nicway/data/model/dampedAnomalyTrend/forecast/param/2018_135_1979_2017_Alpha.nc\n",
      "Processing day of year 136\n",
      "    detrending current day...\n",
      "    detrending lagged day...\n",
      "    Calculating pearson r...\n"
     ]
    },
    {
     "name": "stderr",
     "output_type": "stream",
     "text": [
      "/home/disk/sipn/nicway/anaconda3/envs/esio/lib/python3.6/site-packages/dask/local.py:255: RuntimeWarning: invalid value encountered in true_divide\n",
      "  return func(*args2)\n"
     ]
    },
    {
     "name": "stdout",
     "output_type": "stream",
     "text": [
      "Saved /home/disk/sipn/nicway/data/model/dampedAnomalyTrend/forecast/param/2018_136_1979_2017_Alpha.nc\n",
      "Processing day of year 137\n",
      "    detrending current day...\n",
      "    detrending lagged day...\n",
      "    Calculating pearson r...\n"
     ]
    },
    {
     "name": "stderr",
     "output_type": "stream",
     "text": [
      "/home/disk/sipn/nicway/anaconda3/envs/esio/lib/python3.6/site-packages/dask/local.py:255: RuntimeWarning: invalid value encountered in true_divide\n",
      "  return func(*args2)\n"
     ]
    },
    {
     "name": "stdout",
     "output_type": "stream",
     "text": [
      "Saved /home/disk/sipn/nicway/data/model/dampedAnomalyTrend/forecast/param/2018_137_1979_2017_Alpha.nc\n",
      "Processing day of year 138\n",
      "    detrending current day...\n",
      "    detrending lagged day...\n",
      "    Calculating pearson r...\n"
     ]
    },
    {
     "name": "stderr",
     "output_type": "stream",
     "text": [
      "/home/disk/sipn/nicway/anaconda3/envs/esio/lib/python3.6/site-packages/dask/local.py:255: RuntimeWarning: invalid value encountered in true_divide\n",
      "  return func(*args2)\n"
     ]
    },
    {
     "name": "stdout",
     "output_type": "stream",
     "text": [
      "Saved /home/disk/sipn/nicway/data/model/dampedAnomalyTrend/forecast/param/2018_138_1979_2017_Alpha.nc\n",
      "Processing day of year 139\n",
      "    detrending current day...\n",
      "    detrending lagged day...\n",
      "    Calculating pearson r...\n"
     ]
    },
    {
     "name": "stderr",
     "output_type": "stream",
     "text": [
      "/home/disk/sipn/nicway/anaconda3/envs/esio/lib/python3.6/site-packages/dask/local.py:255: RuntimeWarning: invalid value encountered in true_divide\n",
      "  return func(*args2)\n"
     ]
    },
    {
     "name": "stdout",
     "output_type": "stream",
     "text": [
      "Saved /home/disk/sipn/nicway/data/model/dampedAnomalyTrend/forecast/param/2018_139_1979_2017_Alpha.nc\n",
      "Processing day of year 140\n",
      "    detrending current day...\n",
      "    detrending lagged day...\n",
      "    Calculating pearson r...\n"
     ]
    },
    {
     "name": "stderr",
     "output_type": "stream",
     "text": [
      "/home/disk/sipn/nicway/anaconda3/envs/esio/lib/python3.6/site-packages/dask/local.py:255: RuntimeWarning: invalid value encountered in true_divide\n",
      "  return func(*args2)\n"
     ]
    },
    {
     "name": "stdout",
     "output_type": "stream",
     "text": [
      "Saved /home/disk/sipn/nicway/data/model/dampedAnomalyTrend/forecast/param/2018_140_1979_2017_Alpha.nc\n",
      "Processing day of year 141\n",
      "    detrending current day...\n",
      "    detrending lagged day...\n",
      "    Calculating pearson r...\n"
     ]
    },
    {
     "name": "stderr",
     "output_type": "stream",
     "text": [
      "/home/disk/sipn/nicway/anaconda3/envs/esio/lib/python3.6/site-packages/dask/local.py:255: RuntimeWarning: invalid value encountered in true_divide\n",
      "  return func(*args2)\n"
     ]
    },
    {
     "name": "stdout",
     "output_type": "stream",
     "text": [
      "Saved /home/disk/sipn/nicway/data/model/dampedAnomalyTrend/forecast/param/2018_141_1979_2017_Alpha.nc\n",
      "Processing day of year 142\n",
      "    detrending current day...\n",
      "    detrending lagged day...\n",
      "    Calculating pearson r...\n"
     ]
    },
    {
     "name": "stderr",
     "output_type": "stream",
     "text": [
      "/home/disk/sipn/nicway/anaconda3/envs/esio/lib/python3.6/site-packages/dask/local.py:255: RuntimeWarning: invalid value encountered in true_divide\n",
      "  return func(*args2)\n"
     ]
    },
    {
     "name": "stdout",
     "output_type": "stream",
     "text": [
      "Saved /home/disk/sipn/nicway/data/model/dampedAnomalyTrend/forecast/param/2018_142_1979_2017_Alpha.nc\n",
      "Processing day of year 143\n",
      "    detrending current day...\n",
      "    detrending lagged day...\n",
      "    Calculating pearson r...\n"
     ]
    },
    {
     "name": "stderr",
     "output_type": "stream",
     "text": [
      "/home/disk/sipn/nicway/anaconda3/envs/esio/lib/python3.6/site-packages/dask/local.py:255: RuntimeWarning: invalid value encountered in true_divide\n",
      "  return func(*args2)\n"
     ]
    },
    {
     "name": "stdout",
     "output_type": "stream",
     "text": [
      "Saved /home/disk/sipn/nicway/data/model/dampedAnomalyTrend/forecast/param/2018_143_1979_2017_Alpha.nc\n",
      "Processing day of year 144\n",
      "    detrending current day...\n",
      "    detrending lagged day...\n",
      "    Calculating pearson r...\n"
     ]
    },
    {
     "name": "stderr",
     "output_type": "stream",
     "text": [
      "/home/disk/sipn/nicway/anaconda3/envs/esio/lib/python3.6/site-packages/dask/local.py:255: RuntimeWarning: invalid value encountered in true_divide\n",
      "  return func(*args2)\n"
     ]
    },
    {
     "name": "stdout",
     "output_type": "stream",
     "text": [
      "Saved /home/disk/sipn/nicway/data/model/dampedAnomalyTrend/forecast/param/2018_144_1979_2017_Alpha.nc\n",
      "Processing day of year 145\n",
      "    detrending current day...\n",
      "    detrending lagged day...\n",
      "    Calculating pearson r...\n"
     ]
    },
    {
     "name": "stderr",
     "output_type": "stream",
     "text": [
      "/home/disk/sipn/nicway/anaconda3/envs/esio/lib/python3.6/site-packages/dask/local.py:255: RuntimeWarning: invalid value encountered in true_divide\n",
      "  return func(*args2)\n"
     ]
    },
    {
     "name": "stdout",
     "output_type": "stream",
     "text": [
      "Saved /home/disk/sipn/nicway/data/model/dampedAnomalyTrend/forecast/param/2018_145_1979_2017_Alpha.nc\n",
      "Processing day of year 146\n",
      "    detrending current day...\n",
      "    detrending lagged day...\n",
      "    Calculating pearson r...\n"
     ]
    },
    {
     "name": "stderr",
     "output_type": "stream",
     "text": [
      "/home/disk/sipn/nicway/anaconda3/envs/esio/lib/python3.6/site-packages/dask/local.py:255: RuntimeWarning: invalid value encountered in true_divide\n",
      "  return func(*args2)\n"
     ]
    },
    {
     "name": "stdout",
     "output_type": "stream",
     "text": [
      "Saved /home/disk/sipn/nicway/data/model/dampedAnomalyTrend/forecast/param/2018_146_1979_2017_Alpha.nc\n",
      "Processing day of year 147\n",
      "    detrending current day...\n",
      "    detrending lagged day...\n",
      "    Calculating pearson r...\n"
     ]
    },
    {
     "name": "stderr",
     "output_type": "stream",
     "text": [
      "/home/disk/sipn/nicway/anaconda3/envs/esio/lib/python3.6/site-packages/dask/local.py:255: RuntimeWarning: invalid value encountered in true_divide\n",
      "  return func(*args2)\n"
     ]
    },
    {
     "name": "stdout",
     "output_type": "stream",
     "text": [
      "Saved /home/disk/sipn/nicway/data/model/dampedAnomalyTrend/forecast/param/2018_147_1979_2017_Alpha.nc\n",
      "Processing day of year 148\n",
      "    detrending current day...\n",
      "    detrending lagged day...\n",
      "    Calculating pearson r...\n"
     ]
    },
    {
     "name": "stderr",
     "output_type": "stream",
     "text": [
      "/home/disk/sipn/nicway/anaconda3/envs/esio/lib/python3.6/site-packages/dask/local.py:255: RuntimeWarning: invalid value encountered in true_divide\n",
      "  return func(*args2)\n"
     ]
    },
    {
     "name": "stdout",
     "output_type": "stream",
     "text": [
      "Saved /home/disk/sipn/nicway/data/model/dampedAnomalyTrend/forecast/param/2018_148_1979_2017_Alpha.nc\n",
      "Processing day of year 149\n",
      "    detrending current day...\n",
      "    detrending lagged day...\n",
      "    Calculating pearson r...\n"
     ]
    },
    {
     "name": "stderr",
     "output_type": "stream",
     "text": [
      "/home/disk/sipn/nicway/anaconda3/envs/esio/lib/python3.6/site-packages/dask/local.py:255: RuntimeWarning: invalid value encountered in true_divide\n",
      "  return func(*args2)\n"
     ]
    },
    {
     "name": "stdout",
     "output_type": "stream",
     "text": [
      "Saved /home/disk/sipn/nicway/data/model/dampedAnomalyTrend/forecast/param/2018_149_1979_2017_Alpha.nc\n",
      "Processing day of year 150\n",
      "    detrending current day...\n",
      "    detrending lagged day...\n",
      "    Calculating pearson r...\n"
     ]
    },
    {
     "name": "stderr",
     "output_type": "stream",
     "text": [
      "/home/disk/sipn/nicway/anaconda3/envs/esio/lib/python3.6/site-packages/dask/local.py:255: RuntimeWarning: invalid value encountered in true_divide\n",
      "  return func(*args2)\n"
     ]
    },
    {
     "name": "stdout",
     "output_type": "stream",
     "text": [
      "Saved /home/disk/sipn/nicway/data/model/dampedAnomalyTrend/forecast/param/2018_150_1979_2017_Alpha.nc\n",
      "Processing day of year 151\n",
      "    detrending current day...\n",
      "    detrending lagged day...\n",
      "    Calculating pearson r...\n"
     ]
    },
    {
     "name": "stderr",
     "output_type": "stream",
     "text": [
      "/home/disk/sipn/nicway/anaconda3/envs/esio/lib/python3.6/site-packages/dask/local.py:255: RuntimeWarning: invalid value encountered in true_divide\n",
      "  return func(*args2)\n"
     ]
    },
    {
     "name": "stdout",
     "output_type": "stream",
     "text": [
      "Saved /home/disk/sipn/nicway/data/model/dampedAnomalyTrend/forecast/param/2018_151_1979_2017_Alpha.nc\n",
      "Processing day of year 152\n",
      "    detrending current day...\n",
      "    detrending lagged day...\n",
      "    Calculating pearson r...\n"
     ]
    },
    {
     "name": "stderr",
     "output_type": "stream",
     "text": [
      "/home/disk/sipn/nicway/anaconda3/envs/esio/lib/python3.6/site-packages/dask/local.py:255: RuntimeWarning: invalid value encountered in true_divide\n",
      "  return func(*args2)\n"
     ]
    },
    {
     "name": "stdout",
     "output_type": "stream",
     "text": [
      "Saved /home/disk/sipn/nicway/data/model/dampedAnomalyTrend/forecast/param/2018_152_1979_2017_Alpha.nc\n",
      "Processing day of year 153\n",
      "    detrending current day...\n",
      "    detrending lagged day...\n",
      "    Calculating pearson r...\n"
     ]
    },
    {
     "name": "stderr",
     "output_type": "stream",
     "text": [
      "/home/disk/sipn/nicway/anaconda3/envs/esio/lib/python3.6/site-packages/dask/local.py:255: RuntimeWarning: invalid value encountered in true_divide\n",
      "  return func(*args2)\n"
     ]
    },
    {
     "name": "stdout",
     "output_type": "stream",
     "text": [
      "Saved /home/disk/sipn/nicway/data/model/dampedAnomalyTrend/forecast/param/2018_153_1979_2017_Alpha.nc\n",
      "Processing day of year 154\n",
      "    detrending current day...\n",
      "    detrending lagged day...\n",
      "    Calculating pearson r...\n"
     ]
    },
    {
     "name": "stderr",
     "output_type": "stream",
     "text": [
      "/home/disk/sipn/nicway/anaconda3/envs/esio/lib/python3.6/site-packages/dask/local.py:255: RuntimeWarning: invalid value encountered in true_divide\n",
      "  return func(*args2)\n"
     ]
    },
    {
     "name": "stdout",
     "output_type": "stream",
     "text": [
      "Saved /home/disk/sipn/nicway/data/model/dampedAnomalyTrend/forecast/param/2018_154_1979_2017_Alpha.nc\n",
      "Processing day of year 155\n",
      "    detrending current day...\n",
      "    detrending lagged day...\n",
      "    Calculating pearson r...\n"
     ]
    },
    {
     "name": "stderr",
     "output_type": "stream",
     "text": [
      "/home/disk/sipn/nicway/anaconda3/envs/esio/lib/python3.6/site-packages/dask/local.py:255: RuntimeWarning: invalid value encountered in true_divide\n",
      "  return func(*args2)\n"
     ]
    },
    {
     "name": "stdout",
     "output_type": "stream",
     "text": [
      "Saved /home/disk/sipn/nicway/data/model/dampedAnomalyTrend/forecast/param/2018_155_1979_2017_Alpha.nc\n",
      "Processing day of year 156\n",
      "    detrending current day...\n",
      "    detrending lagged day...\n",
      "    Calculating pearson r...\n"
     ]
    },
    {
     "name": "stderr",
     "output_type": "stream",
     "text": [
      "/home/disk/sipn/nicway/anaconda3/envs/esio/lib/python3.6/site-packages/dask/local.py:255: RuntimeWarning: invalid value encountered in true_divide\n",
      "  return func(*args2)\n"
     ]
    },
    {
     "name": "stdout",
     "output_type": "stream",
     "text": [
      "Saved /home/disk/sipn/nicway/data/model/dampedAnomalyTrend/forecast/param/2018_156_1979_2017_Alpha.nc\n",
      "Processing day of year 157\n",
      "    detrending current day...\n",
      "    detrending lagged day...\n",
      "    Calculating pearson r...\n"
     ]
    },
    {
     "name": "stderr",
     "output_type": "stream",
     "text": [
      "/home/disk/sipn/nicway/anaconda3/envs/esio/lib/python3.6/site-packages/dask/local.py:255: RuntimeWarning: invalid value encountered in true_divide\n",
      "  return func(*args2)\n"
     ]
    },
    {
     "name": "stdout",
     "output_type": "stream",
     "text": [
      "Saved /home/disk/sipn/nicway/data/model/dampedAnomalyTrend/forecast/param/2018_157_1979_2017_Alpha.nc\n",
      "Processing day of year 158\n",
      "    detrending current day...\n",
      "    detrending lagged day...\n",
      "    Calculating pearson r...\n"
     ]
    },
    {
     "name": "stderr",
     "output_type": "stream",
     "text": [
      "/home/disk/sipn/nicway/anaconda3/envs/esio/lib/python3.6/site-packages/dask/local.py:255: RuntimeWarning: invalid value encountered in true_divide\n",
      "  return func(*args2)\n"
     ]
    },
    {
     "name": "stdout",
     "output_type": "stream",
     "text": [
      "Saved /home/disk/sipn/nicway/data/model/dampedAnomalyTrend/forecast/param/2018_158_1979_2017_Alpha.nc\n",
      "Processing day of year 159\n",
      "    detrending current day...\n",
      "    detrending lagged day...\n",
      "    Calculating pearson r...\n"
     ]
    },
    {
     "name": "stderr",
     "output_type": "stream",
     "text": [
      "/home/disk/sipn/nicway/anaconda3/envs/esio/lib/python3.6/site-packages/dask/local.py:255: RuntimeWarning: invalid value encountered in true_divide\n",
      "  return func(*args2)\n"
     ]
    },
    {
     "name": "stdout",
     "output_type": "stream",
     "text": [
      "Saved /home/disk/sipn/nicway/data/model/dampedAnomalyTrend/forecast/param/2018_159_1979_2017_Alpha.nc\n",
      "Processing day of year 160\n",
      "    detrending current day...\n",
      "    detrending lagged day...\n",
      "    Calculating pearson r...\n"
     ]
    },
    {
     "name": "stderr",
     "output_type": "stream",
     "text": [
      "/home/disk/sipn/nicway/anaconda3/envs/esio/lib/python3.6/site-packages/dask/local.py:255: RuntimeWarning: invalid value encountered in true_divide\n",
      "  return func(*args2)\n"
     ]
    },
    {
     "name": "stdout",
     "output_type": "stream",
     "text": [
      "Saved /home/disk/sipn/nicway/data/model/dampedAnomalyTrend/forecast/param/2018_160_1979_2017_Alpha.nc\n",
      "Processing day of year 161\n",
      "    detrending current day...\n",
      "    detrending lagged day...\n",
      "    Calculating pearson r...\n"
     ]
    },
    {
     "name": "stderr",
     "output_type": "stream",
     "text": [
      "/home/disk/sipn/nicway/anaconda3/envs/esio/lib/python3.6/site-packages/dask/local.py:255: RuntimeWarning: invalid value encountered in true_divide\n",
      "  return func(*args2)\n"
     ]
    },
    {
     "name": "stdout",
     "output_type": "stream",
     "text": [
      "Saved /home/disk/sipn/nicway/data/model/dampedAnomalyTrend/forecast/param/2018_161_1979_2017_Alpha.nc\n",
      "Processing day of year 162\n",
      "    detrending current day...\n",
      "    detrending lagged day...\n",
      "    Calculating pearson r...\n"
     ]
    },
    {
     "name": "stderr",
     "output_type": "stream",
     "text": [
      "/home/disk/sipn/nicway/anaconda3/envs/esio/lib/python3.6/site-packages/dask/local.py:255: RuntimeWarning: invalid value encountered in true_divide\n",
      "  return func(*args2)\n"
     ]
    },
    {
     "name": "stdout",
     "output_type": "stream",
     "text": [
      "Saved /home/disk/sipn/nicway/data/model/dampedAnomalyTrend/forecast/param/2018_162_1979_2017_Alpha.nc\n",
      "Processing day of year 163\n",
      "    detrending current day...\n",
      "    detrending lagged day...\n",
      "    Calculating pearson r...\n"
     ]
    },
    {
     "name": "stderr",
     "output_type": "stream",
     "text": [
      "/home/disk/sipn/nicway/anaconda3/envs/esio/lib/python3.6/site-packages/dask/local.py:255: RuntimeWarning: invalid value encountered in true_divide\n",
      "  return func(*args2)\n"
     ]
    },
    {
     "name": "stdout",
     "output_type": "stream",
     "text": [
      "Saved /home/disk/sipn/nicway/data/model/dampedAnomalyTrend/forecast/param/2018_163_1979_2017_Alpha.nc\n",
      "Processing day of year 164\n",
      "    detrending current day...\n",
      "    detrending lagged day...\n",
      "    Calculating pearson r...\n"
     ]
    },
    {
     "name": "stderr",
     "output_type": "stream",
     "text": [
      "/home/disk/sipn/nicway/anaconda3/envs/esio/lib/python3.6/site-packages/dask/local.py:255: RuntimeWarning: invalid value encountered in true_divide\n",
      "  return func(*args2)\n"
     ]
    },
    {
     "name": "stdout",
     "output_type": "stream",
     "text": [
      "Saved /home/disk/sipn/nicway/data/model/dampedAnomalyTrend/forecast/param/2018_164_1979_2017_Alpha.nc\n",
      "Processing day of year 165\n",
      "    detrending current day...\n",
      "    detrending lagged day...\n",
      "    Calculating pearson r...\n"
     ]
    },
    {
     "name": "stderr",
     "output_type": "stream",
     "text": [
      "/home/disk/sipn/nicway/anaconda3/envs/esio/lib/python3.6/site-packages/dask/local.py:255: RuntimeWarning: invalid value encountered in true_divide\n",
      "  return func(*args2)\n"
     ]
    },
    {
     "name": "stdout",
     "output_type": "stream",
     "text": [
      "Saved /home/disk/sipn/nicway/data/model/dampedAnomalyTrend/forecast/param/2018_165_1979_2017_Alpha.nc\n",
      "Processing day of year 166\n",
      "    detrending current day...\n",
      "    detrending lagged day...\n",
      "    Calculating pearson r...\n"
     ]
    },
    {
     "name": "stderr",
     "output_type": "stream",
     "text": [
      "/home/disk/sipn/nicway/anaconda3/envs/esio/lib/python3.6/site-packages/dask/local.py:255: RuntimeWarning: invalid value encountered in true_divide\n",
      "  return func(*args2)\n"
     ]
    },
    {
     "name": "stdout",
     "output_type": "stream",
     "text": [
      "Saved /home/disk/sipn/nicway/data/model/dampedAnomalyTrend/forecast/param/2018_166_1979_2017_Alpha.nc\n",
      "Processing day of year 167\n",
      "    detrending current day...\n",
      "    detrending lagged day...\n",
      "    Calculating pearson r...\n"
     ]
    },
    {
     "name": "stderr",
     "output_type": "stream",
     "text": [
      "/home/disk/sipn/nicway/anaconda3/envs/esio/lib/python3.6/site-packages/dask/local.py:255: RuntimeWarning: invalid value encountered in true_divide\n",
      "  return func(*args2)\n"
     ]
    },
    {
     "name": "stdout",
     "output_type": "stream",
     "text": [
      "Saved /home/disk/sipn/nicway/data/model/dampedAnomalyTrend/forecast/param/2018_167_1979_2017_Alpha.nc\n",
      "Processing day of year 168\n",
      "    detrending current day...\n",
      "    detrending lagged day...\n",
      "    Calculating pearson r...\n"
     ]
    },
    {
     "name": "stderr",
     "output_type": "stream",
     "text": [
      "/home/disk/sipn/nicway/anaconda3/envs/esio/lib/python3.6/site-packages/dask/local.py:255: RuntimeWarning: invalid value encountered in true_divide\n",
      "  return func(*args2)\n"
     ]
    },
    {
     "name": "stdout",
     "output_type": "stream",
     "text": [
      "Saved /home/disk/sipn/nicway/data/model/dampedAnomalyTrend/forecast/param/2018_168_1979_2017_Alpha.nc\n",
      "Processing day of year 169\n",
      "    detrending current day...\n",
      "    detrending lagged day...\n",
      "    Calculating pearson r...\n"
     ]
    },
    {
     "name": "stderr",
     "output_type": "stream",
     "text": [
      "/home/disk/sipn/nicway/anaconda3/envs/esio/lib/python3.6/site-packages/dask/local.py:255: RuntimeWarning: invalid value encountered in true_divide\n",
      "  return func(*args2)\n"
     ]
    },
    {
     "name": "stdout",
     "output_type": "stream",
     "text": [
      "Saved /home/disk/sipn/nicway/data/model/dampedAnomalyTrend/forecast/param/2018_169_1979_2017_Alpha.nc\n",
      "Processing day of year 170\n",
      "    detrending current day...\n",
      "    detrending lagged day...\n",
      "    Calculating pearson r...\n"
     ]
    },
    {
     "name": "stderr",
     "output_type": "stream",
     "text": [
      "/home/disk/sipn/nicway/anaconda3/envs/esio/lib/python3.6/site-packages/dask/local.py:255: RuntimeWarning: invalid value encountered in true_divide\n",
      "  return func(*args2)\n"
     ]
    },
    {
     "name": "stdout",
     "output_type": "stream",
     "text": [
      "Saved /home/disk/sipn/nicway/data/model/dampedAnomalyTrend/forecast/param/2018_170_1979_2017_Alpha.nc\n",
      "Processing day of year 171\n",
      "    detrending current day...\n",
      "    detrending lagged day...\n",
      "    Calculating pearson r...\n"
     ]
    },
    {
     "name": "stderr",
     "output_type": "stream",
     "text": [
      "/home/disk/sipn/nicway/anaconda3/envs/esio/lib/python3.6/site-packages/dask/local.py:255: RuntimeWarning: invalid value encountered in true_divide\n",
      "  return func(*args2)\n"
     ]
    },
    {
     "name": "stdout",
     "output_type": "stream",
     "text": [
      "Saved /home/disk/sipn/nicway/data/model/dampedAnomalyTrend/forecast/param/2018_171_1979_2017_Alpha.nc\n",
      "Processing day of year 172\n",
      "    detrending current day...\n",
      "    detrending lagged day...\n",
      "    Calculating pearson r...\n"
     ]
    },
    {
     "name": "stderr",
     "output_type": "stream",
     "text": [
      "/home/disk/sipn/nicway/anaconda3/envs/esio/lib/python3.6/site-packages/dask/local.py:255: RuntimeWarning: invalid value encountered in true_divide\n",
      "  return func(*args2)\n"
     ]
    },
    {
     "name": "stdout",
     "output_type": "stream",
     "text": [
      "Saved /home/disk/sipn/nicway/data/model/dampedAnomalyTrend/forecast/param/2018_172_1979_2017_Alpha.nc\n",
      "Processing day of year 173\n",
      "    detrending current day...\n",
      "    detrending lagged day...\n",
      "    Calculating pearson r...\n"
     ]
    },
    {
     "name": "stderr",
     "output_type": "stream",
     "text": [
      "/home/disk/sipn/nicway/anaconda3/envs/esio/lib/python3.6/site-packages/dask/local.py:255: RuntimeWarning: invalid value encountered in true_divide\n",
      "  return func(*args2)\n"
     ]
    },
    {
     "name": "stdout",
     "output_type": "stream",
     "text": [
      "Saved /home/disk/sipn/nicway/data/model/dampedAnomalyTrend/forecast/param/2018_173_1979_2017_Alpha.nc\n",
      "Processing day of year 174\n",
      "    detrending current day...\n",
      "    detrending lagged day...\n",
      "    Calculating pearson r...\n"
     ]
    },
    {
     "name": "stderr",
     "output_type": "stream",
     "text": [
      "/home/disk/sipn/nicway/anaconda3/envs/esio/lib/python3.6/site-packages/dask/local.py:255: RuntimeWarning: invalid value encountered in true_divide\n",
      "  return func(*args2)\n"
     ]
    },
    {
     "name": "stdout",
     "output_type": "stream",
     "text": [
      "Saved /home/disk/sipn/nicway/data/model/dampedAnomalyTrend/forecast/param/2018_174_1979_2017_Alpha.nc\n",
      "Processing day of year 175\n",
      "    detrending current day...\n",
      "    detrending lagged day...\n",
      "    Calculating pearson r...\n"
     ]
    },
    {
     "name": "stderr",
     "output_type": "stream",
     "text": [
      "/home/disk/sipn/nicway/anaconda3/envs/esio/lib/python3.6/site-packages/dask/local.py:255: RuntimeWarning: invalid value encountered in true_divide\n",
      "  return func(*args2)\n"
     ]
    },
    {
     "name": "stdout",
     "output_type": "stream",
     "text": [
      "Saved /home/disk/sipn/nicway/data/model/dampedAnomalyTrend/forecast/param/2018_175_1979_2017_Alpha.nc\n",
      "Processing day of year 176\n",
      "    detrending current day...\n",
      "    detrending lagged day...\n",
      "    Calculating pearson r...\n"
     ]
    },
    {
     "name": "stderr",
     "output_type": "stream",
     "text": [
      "/home/disk/sipn/nicway/anaconda3/envs/esio/lib/python3.6/site-packages/dask/local.py:255: RuntimeWarning: invalid value encountered in true_divide\n",
      "  return func(*args2)\n"
     ]
    },
    {
     "name": "stdout",
     "output_type": "stream",
     "text": [
      "Saved /home/disk/sipn/nicway/data/model/dampedAnomalyTrend/forecast/param/2018_176_1979_2017_Alpha.nc\n",
      "Processing day of year 177\n",
      "    detrending current day...\n",
      "    detrending lagged day...\n",
      "    Calculating pearson r...\n"
     ]
    },
    {
     "name": "stderr",
     "output_type": "stream",
     "text": [
      "/home/disk/sipn/nicway/anaconda3/envs/esio/lib/python3.6/site-packages/dask/local.py:255: RuntimeWarning: invalid value encountered in true_divide\n",
      "  return func(*args2)\n"
     ]
    },
    {
     "name": "stdout",
     "output_type": "stream",
     "text": [
      "Saved /home/disk/sipn/nicway/data/model/dampedAnomalyTrend/forecast/param/2018_177_1979_2017_Alpha.nc\n",
      "Processing day of year 178\n",
      "    detrending current day...\n",
      "    detrending lagged day...\n",
      "    Calculating pearson r...\n"
     ]
    },
    {
     "name": "stderr",
     "output_type": "stream",
     "text": [
      "/home/disk/sipn/nicway/anaconda3/envs/esio/lib/python3.6/site-packages/dask/local.py:255: RuntimeWarning: invalid value encountered in true_divide\n",
      "  return func(*args2)\n"
     ]
    },
    {
     "name": "stdout",
     "output_type": "stream",
     "text": [
      "Saved /home/disk/sipn/nicway/data/model/dampedAnomalyTrend/forecast/param/2018_178_1979_2017_Alpha.nc\n",
      "Processing day of year 179\n",
      "    detrending current day...\n",
      "    detrending lagged day...\n",
      "    Calculating pearson r...\n"
     ]
    },
    {
     "name": "stderr",
     "output_type": "stream",
     "text": [
      "/home/disk/sipn/nicway/anaconda3/envs/esio/lib/python3.6/site-packages/dask/local.py:255: RuntimeWarning: invalid value encountered in true_divide\n",
      "  return func(*args2)\n"
     ]
    },
    {
     "name": "stdout",
     "output_type": "stream",
     "text": [
      "Saved /home/disk/sipn/nicway/data/model/dampedAnomalyTrend/forecast/param/2018_179_1979_2017_Alpha.nc\n",
      "Processing day of year 180\n",
      "    detrending current day...\n",
      "    detrending lagged day...\n",
      "    Calculating pearson r...\n"
     ]
    },
    {
     "name": "stderr",
     "output_type": "stream",
     "text": [
      "/home/disk/sipn/nicway/anaconda3/envs/esio/lib/python3.6/site-packages/dask/local.py:255: RuntimeWarning: invalid value encountered in true_divide\n",
      "  return func(*args2)\n"
     ]
    },
    {
     "name": "stdout",
     "output_type": "stream",
     "text": [
      "Saved /home/disk/sipn/nicway/data/model/dampedAnomalyTrend/forecast/param/2018_180_1979_2017_Alpha.nc\n",
      "Processing day of year 181\n",
      "    detrending current day...\n",
      "    detrending lagged day...\n",
      "    Calculating pearson r...\n"
     ]
    },
    {
     "name": "stderr",
     "output_type": "stream",
     "text": [
      "/home/disk/sipn/nicway/anaconda3/envs/esio/lib/python3.6/site-packages/dask/local.py:255: RuntimeWarning: invalid value encountered in true_divide\n",
      "  return func(*args2)\n"
     ]
    },
    {
     "name": "stdout",
     "output_type": "stream",
     "text": [
      "Saved /home/disk/sipn/nicway/data/model/dampedAnomalyTrend/forecast/param/2018_181_1979_2017_Alpha.nc\n",
      "Processing day of year 182\n",
      "    detrending current day...\n",
      "    detrending lagged day...\n",
      "    Calculating pearson r...\n"
     ]
    },
    {
     "name": "stderr",
     "output_type": "stream",
     "text": [
      "/home/disk/sipn/nicway/anaconda3/envs/esio/lib/python3.6/site-packages/dask/local.py:255: RuntimeWarning: invalid value encountered in true_divide\n",
      "  return func(*args2)\n"
     ]
    },
    {
     "name": "stdout",
     "output_type": "stream",
     "text": [
      "Saved /home/disk/sipn/nicway/data/model/dampedAnomalyTrend/forecast/param/2018_182_1979_2017_Alpha.nc\n",
      "Processing day of year 183\n",
      "    detrending current day...\n",
      "    detrending lagged day...\n",
      "    Calculating pearson r...\n"
     ]
    },
    {
     "name": "stderr",
     "output_type": "stream",
     "text": [
      "/home/disk/sipn/nicway/anaconda3/envs/esio/lib/python3.6/site-packages/dask/local.py:255: RuntimeWarning: invalid value encountered in true_divide\n",
      "  return func(*args2)\n"
     ]
    },
    {
     "name": "stdout",
     "output_type": "stream",
     "text": [
      "Saved /home/disk/sipn/nicway/data/model/dampedAnomalyTrend/forecast/param/2018_183_1979_2017_Alpha.nc\n",
      "Processing day of year 184\n",
      "    detrending current day...\n",
      "    detrending lagged day...\n",
      "    Calculating pearson r...\n"
     ]
    },
    {
     "name": "stderr",
     "output_type": "stream",
     "text": [
      "/home/disk/sipn/nicway/anaconda3/envs/esio/lib/python3.6/site-packages/dask/local.py:255: RuntimeWarning: invalid value encountered in true_divide\n",
      "  return func(*args2)\n"
     ]
    },
    {
     "name": "stdout",
     "output_type": "stream",
     "text": [
      "Saved /home/disk/sipn/nicway/data/model/dampedAnomalyTrend/forecast/param/2018_184_1979_2017_Alpha.nc\n",
      "Processing day of year 185\n",
      "    detrending current day...\n",
      "    detrending lagged day...\n",
      "    Calculating pearson r...\n"
     ]
    },
    {
     "name": "stderr",
     "output_type": "stream",
     "text": [
      "/home/disk/sipn/nicway/anaconda3/envs/esio/lib/python3.6/site-packages/dask/local.py:255: RuntimeWarning: invalid value encountered in true_divide\n",
      "  return func(*args2)\n"
     ]
    },
    {
     "name": "stdout",
     "output_type": "stream",
     "text": [
      "Saved /home/disk/sipn/nicway/data/model/dampedAnomalyTrend/forecast/param/2018_185_1979_2017_Alpha.nc\n",
      "Processing day of year 186\n",
      "    detrending current day...\n",
      "    detrending lagged day...\n",
      "    Calculating pearson r...\n"
     ]
    },
    {
     "name": "stderr",
     "output_type": "stream",
     "text": [
      "/home/disk/sipn/nicway/anaconda3/envs/esio/lib/python3.6/site-packages/dask/local.py:255: RuntimeWarning: invalid value encountered in true_divide\n",
      "  return func(*args2)\n"
     ]
    },
    {
     "name": "stdout",
     "output_type": "stream",
     "text": [
      "Saved /home/disk/sipn/nicway/data/model/dampedAnomalyTrend/forecast/param/2018_186_1979_2017_Alpha.nc\n",
      "Processing day of year 187\n",
      "    detrending current day...\n",
      "    detrending lagged day...\n",
      "    Calculating pearson r...\n"
     ]
    },
    {
     "name": "stderr",
     "output_type": "stream",
     "text": [
      "/home/disk/sipn/nicway/anaconda3/envs/esio/lib/python3.6/site-packages/dask/local.py:255: RuntimeWarning: invalid value encountered in true_divide\n",
      "  return func(*args2)\n"
     ]
    },
    {
     "name": "stdout",
     "output_type": "stream",
     "text": [
      "Saved /home/disk/sipn/nicway/data/model/dampedAnomalyTrend/forecast/param/2018_187_1979_2017_Alpha.nc\n",
      "Processing day of year 188\n",
      "    detrending current day...\n",
      "    detrending lagged day...\n",
      "    Calculating pearson r...\n"
     ]
    },
    {
     "name": "stderr",
     "output_type": "stream",
     "text": [
      "/home/disk/sipn/nicway/anaconda3/envs/esio/lib/python3.6/site-packages/dask/local.py:255: RuntimeWarning: invalid value encountered in true_divide\n",
      "  return func(*args2)\n"
     ]
    },
    {
     "name": "stdout",
     "output_type": "stream",
     "text": [
      "Saved /home/disk/sipn/nicway/data/model/dampedAnomalyTrend/forecast/param/2018_188_1979_2017_Alpha.nc\n",
      "Processing day of year 189\n",
      "    detrending current day...\n",
      "    detrending lagged day...\n",
      "    Calculating pearson r...\n"
     ]
    },
    {
     "name": "stderr",
     "output_type": "stream",
     "text": [
      "/home/disk/sipn/nicway/anaconda3/envs/esio/lib/python3.6/site-packages/dask/local.py:255: RuntimeWarning: invalid value encountered in true_divide\n",
      "  return func(*args2)\n"
     ]
    },
    {
     "name": "stdout",
     "output_type": "stream",
     "text": [
      "Saved /home/disk/sipn/nicway/data/model/dampedAnomalyTrend/forecast/param/2018_189_1979_2017_Alpha.nc\n",
      "Processing day of year 190\n",
      "    detrending current day...\n",
      "    detrending lagged day...\n",
      "    Calculating pearson r...\n"
     ]
    },
    {
     "name": "stderr",
     "output_type": "stream",
     "text": [
      "/home/disk/sipn/nicway/anaconda3/envs/esio/lib/python3.6/site-packages/dask/local.py:255: RuntimeWarning: invalid value encountered in true_divide\n",
      "  return func(*args2)\n"
     ]
    },
    {
     "name": "stdout",
     "output_type": "stream",
     "text": [
      "Saved /home/disk/sipn/nicway/data/model/dampedAnomalyTrend/forecast/param/2018_190_1979_2017_Alpha.nc\n",
      "Processing day of year 191\n",
      "    detrending current day...\n",
      "    detrending lagged day...\n",
      "    Calculating pearson r...\n"
     ]
    },
    {
     "name": "stderr",
     "output_type": "stream",
     "text": [
      "/home/disk/sipn/nicway/anaconda3/envs/esio/lib/python3.6/site-packages/dask/local.py:255: RuntimeWarning: invalid value encountered in true_divide\n",
      "  return func(*args2)\n"
     ]
    },
    {
     "name": "stdout",
     "output_type": "stream",
     "text": [
      "Saved /home/disk/sipn/nicway/data/model/dampedAnomalyTrend/forecast/param/2018_191_1979_2017_Alpha.nc\n",
      "Processing day of year 192\n",
      "    detrending current day...\n",
      "    detrending lagged day...\n",
      "    Calculating pearson r...\n"
     ]
    },
    {
     "name": "stderr",
     "output_type": "stream",
     "text": [
      "/home/disk/sipn/nicway/anaconda3/envs/esio/lib/python3.6/site-packages/dask/local.py:255: RuntimeWarning: invalid value encountered in true_divide\n",
      "  return func(*args2)\n"
     ]
    },
    {
     "name": "stdout",
     "output_type": "stream",
     "text": [
      "Saved /home/disk/sipn/nicway/data/model/dampedAnomalyTrend/forecast/param/2018_192_1979_2017_Alpha.nc\n",
      "Processing day of year 193\n",
      "    detrending current day...\n",
      "    detrending lagged day...\n",
      "    Calculating pearson r...\n"
     ]
    },
    {
     "name": "stderr",
     "output_type": "stream",
     "text": [
      "/home/disk/sipn/nicway/anaconda3/envs/esio/lib/python3.6/site-packages/dask/local.py:255: RuntimeWarning: invalid value encountered in true_divide\n",
      "  return func(*args2)\n"
     ]
    },
    {
     "name": "stdout",
     "output_type": "stream",
     "text": [
      "Saved /home/disk/sipn/nicway/data/model/dampedAnomalyTrend/forecast/param/2018_193_1979_2017_Alpha.nc\n",
      "Processing day of year 194\n",
      "    detrending current day...\n",
      "    detrending lagged day...\n",
      "    Calculating pearson r...\n"
     ]
    },
    {
     "name": "stderr",
     "output_type": "stream",
     "text": [
      "/home/disk/sipn/nicway/anaconda3/envs/esio/lib/python3.6/site-packages/dask/local.py:255: RuntimeWarning: invalid value encountered in true_divide\n",
      "  return func(*args2)\n"
     ]
    },
    {
     "name": "stdout",
     "output_type": "stream",
     "text": [
      "Saved /home/disk/sipn/nicway/data/model/dampedAnomalyTrend/forecast/param/2018_194_1979_2017_Alpha.nc\n",
      "Processing day of year 195\n",
      "    detrending current day...\n",
      "    detrending lagged day...\n",
      "    Calculating pearson r...\n"
     ]
    },
    {
     "name": "stderr",
     "output_type": "stream",
     "text": [
      "/home/disk/sipn/nicway/anaconda3/envs/esio/lib/python3.6/site-packages/dask/local.py:255: RuntimeWarning: invalid value encountered in true_divide\n",
      "  return func(*args2)\n"
     ]
    },
    {
     "name": "stdout",
     "output_type": "stream",
     "text": [
      "Saved /home/disk/sipn/nicway/data/model/dampedAnomalyTrend/forecast/param/2018_195_1979_2017_Alpha.nc\n",
      "Processing day of year 196\n",
      "    detrending current day...\n",
      "    detrending lagged day...\n",
      "    Calculating pearson r...\n"
     ]
    },
    {
     "name": "stderr",
     "output_type": "stream",
     "text": [
      "/home/disk/sipn/nicway/anaconda3/envs/esio/lib/python3.6/site-packages/dask/local.py:255: RuntimeWarning: invalid value encountered in true_divide\n",
      "  return func(*args2)\n"
     ]
    },
    {
     "name": "stdout",
     "output_type": "stream",
     "text": [
      "Saved /home/disk/sipn/nicway/data/model/dampedAnomalyTrend/forecast/param/2018_196_1979_2017_Alpha.nc\n",
      "Processing day of year 197\n",
      "    detrending current day...\n",
      "    detrending lagged day...\n",
      "    Calculating pearson r...\n"
     ]
    },
    {
     "name": "stderr",
     "output_type": "stream",
     "text": [
      "/home/disk/sipn/nicway/anaconda3/envs/esio/lib/python3.6/site-packages/dask/local.py:255: RuntimeWarning: invalid value encountered in true_divide\n",
      "  return func(*args2)\n"
     ]
    },
    {
     "name": "stdout",
     "output_type": "stream",
     "text": [
      "Saved /home/disk/sipn/nicway/data/model/dampedAnomalyTrend/forecast/param/2018_197_1979_2017_Alpha.nc\n",
      "Processing day of year 198\n",
      "    detrending current day...\n",
      "    detrending lagged day...\n",
      "    Calculating pearson r...\n"
     ]
    },
    {
     "name": "stderr",
     "output_type": "stream",
     "text": [
      "/home/disk/sipn/nicway/anaconda3/envs/esio/lib/python3.6/site-packages/dask/local.py:255: RuntimeWarning: invalid value encountered in true_divide\n",
      "  return func(*args2)\n"
     ]
    },
    {
     "name": "stdout",
     "output_type": "stream",
     "text": [
      "Saved /home/disk/sipn/nicway/data/model/dampedAnomalyTrend/forecast/param/2018_198_1979_2017_Alpha.nc\n",
      "Processing day of year 199\n",
      "    detrending current day...\n",
      "    detrending lagged day...\n",
      "    Calculating pearson r...\n"
     ]
    },
    {
     "name": "stderr",
     "output_type": "stream",
     "text": [
      "/home/disk/sipn/nicway/anaconda3/envs/esio/lib/python3.6/site-packages/dask/local.py:255: RuntimeWarning: invalid value encountered in true_divide\n",
      "  return func(*args2)\n"
     ]
    },
    {
     "name": "stdout",
     "output_type": "stream",
     "text": [
      "Saved /home/disk/sipn/nicway/data/model/dampedAnomalyTrend/forecast/param/2018_199_1979_2017_Alpha.nc\n",
      "Processing day of year 200\n",
      "    detrending current day...\n",
      "    detrending lagged day...\n",
      "    Calculating pearson r...\n"
     ]
    },
    {
     "name": "stderr",
     "output_type": "stream",
     "text": [
      "/home/disk/sipn/nicway/anaconda3/envs/esio/lib/python3.6/site-packages/dask/local.py:255: RuntimeWarning: invalid value encountered in true_divide\n",
      "  return func(*args2)\n"
     ]
    },
    {
     "name": "stdout",
     "output_type": "stream",
     "text": [
      "Saved /home/disk/sipn/nicway/data/model/dampedAnomalyTrend/forecast/param/2018_200_1979_2017_Alpha.nc\n",
      "Processing day of year 201\n",
      "    detrending current day...\n",
      "    detrending lagged day...\n",
      "    Calculating pearson r...\n"
     ]
    },
    {
     "name": "stderr",
     "output_type": "stream",
     "text": [
      "/home/disk/sipn/nicway/anaconda3/envs/esio/lib/python3.6/site-packages/dask/local.py:255: RuntimeWarning: invalid value encountered in true_divide\n",
      "  return func(*args2)\n"
     ]
    },
    {
     "name": "stdout",
     "output_type": "stream",
     "text": [
      "Saved /home/disk/sipn/nicway/data/model/dampedAnomalyTrend/forecast/param/2018_201_1979_2017_Alpha.nc\n",
      "Processing day of year 202\n",
      "    detrending current day...\n",
      "    detrending lagged day...\n",
      "    Calculating pearson r...\n"
     ]
    },
    {
     "name": "stderr",
     "output_type": "stream",
     "text": [
      "/home/disk/sipn/nicway/anaconda3/envs/esio/lib/python3.6/site-packages/dask/local.py:255: RuntimeWarning: invalid value encountered in true_divide\n",
      "  return func(*args2)\n"
     ]
    },
    {
     "name": "stdout",
     "output_type": "stream",
     "text": [
      "Saved /home/disk/sipn/nicway/data/model/dampedAnomalyTrend/forecast/param/2018_202_1979_2017_Alpha.nc\n",
      "Processing day of year 203\n",
      "    detrending current day...\n",
      "    detrending lagged day...\n",
      "    Calculating pearson r...\n"
     ]
    },
    {
     "name": "stderr",
     "output_type": "stream",
     "text": [
      "/home/disk/sipn/nicway/anaconda3/envs/esio/lib/python3.6/site-packages/dask/local.py:255: RuntimeWarning: invalid value encountered in true_divide\n",
      "  return func(*args2)\n"
     ]
    },
    {
     "name": "stdout",
     "output_type": "stream",
     "text": [
      "Saved /home/disk/sipn/nicway/data/model/dampedAnomalyTrend/forecast/param/2018_203_1979_2017_Alpha.nc\n",
      "Processing day of year 204\n",
      "    detrending current day...\n",
      "    detrending lagged day...\n",
      "    Calculating pearson r...\n"
     ]
    },
    {
     "name": "stderr",
     "output_type": "stream",
     "text": [
      "/home/disk/sipn/nicway/anaconda3/envs/esio/lib/python3.6/site-packages/dask/local.py:255: RuntimeWarning: invalid value encountered in true_divide\n",
      "  return func(*args2)\n"
     ]
    },
    {
     "name": "stdout",
     "output_type": "stream",
     "text": [
      "Saved /home/disk/sipn/nicway/data/model/dampedAnomalyTrend/forecast/param/2018_204_1979_2017_Alpha.nc\n",
      "Processing day of year 205\n",
      "    detrending current day...\n",
      "    detrending lagged day...\n",
      "    Calculating pearson r...\n"
     ]
    },
    {
     "name": "stderr",
     "output_type": "stream",
     "text": [
      "/home/disk/sipn/nicway/anaconda3/envs/esio/lib/python3.6/site-packages/dask/local.py:255: RuntimeWarning: invalid value encountered in true_divide\n",
      "  return func(*args2)\n"
     ]
    },
    {
     "name": "stdout",
     "output_type": "stream",
     "text": [
      "Saved /home/disk/sipn/nicway/data/model/dampedAnomalyTrend/forecast/param/2018_205_1979_2017_Alpha.nc\n",
      "Processing day of year 206\n",
      "    detrending current day...\n",
      "    detrending lagged day...\n",
      "    Calculating pearson r...\n"
     ]
    },
    {
     "name": "stderr",
     "output_type": "stream",
     "text": [
      "/home/disk/sipn/nicway/anaconda3/envs/esio/lib/python3.6/site-packages/dask/local.py:255: RuntimeWarning: invalid value encountered in true_divide\n",
      "  return func(*args2)\n"
     ]
    },
    {
     "name": "stdout",
     "output_type": "stream",
     "text": [
      "Saved /home/disk/sipn/nicway/data/model/dampedAnomalyTrend/forecast/param/2018_206_1979_2017_Alpha.nc\n",
      "Processing day of year 207\n",
      "    detrending current day...\n",
      "    detrending lagged day...\n",
      "    Calculating pearson r...\n"
     ]
    },
    {
     "name": "stderr",
     "output_type": "stream",
     "text": [
      "/home/disk/sipn/nicway/anaconda3/envs/esio/lib/python3.6/site-packages/dask/local.py:255: RuntimeWarning: invalid value encountered in true_divide\n",
      "  return func(*args2)\n"
     ]
    },
    {
     "name": "stdout",
     "output_type": "stream",
     "text": [
      "Saved /home/disk/sipn/nicway/data/model/dampedAnomalyTrend/forecast/param/2018_207_1979_2017_Alpha.nc\n",
      "Processing day of year 208\n",
      "    detrending current day...\n",
      "    detrending lagged day...\n",
      "    Calculating pearson r...\n"
     ]
    },
    {
     "name": "stderr",
     "output_type": "stream",
     "text": [
      "/home/disk/sipn/nicway/anaconda3/envs/esio/lib/python3.6/site-packages/dask/local.py:255: RuntimeWarning: invalid value encountered in true_divide\n",
      "  return func(*args2)\n"
     ]
    },
    {
     "name": "stdout",
     "output_type": "stream",
     "text": [
      "Saved /home/disk/sipn/nicway/data/model/dampedAnomalyTrend/forecast/param/2018_208_1979_2017_Alpha.nc\n",
      "Processing day of year 209\n",
      "    detrending current day...\n",
      "    detrending lagged day...\n",
      "    Calculating pearson r...\n"
     ]
    },
    {
     "name": "stderr",
     "output_type": "stream",
     "text": [
      "/home/disk/sipn/nicway/anaconda3/envs/esio/lib/python3.6/site-packages/dask/local.py:255: RuntimeWarning: invalid value encountered in true_divide\n",
      "  return func(*args2)\n"
     ]
    },
    {
     "name": "stdout",
     "output_type": "stream",
     "text": [
      "Saved /home/disk/sipn/nicway/data/model/dampedAnomalyTrend/forecast/param/2018_209_1979_2017_Alpha.nc\n",
      "Processing day of year 210\n",
      "    detrending current day...\n",
      "    detrending lagged day...\n",
      "    Calculating pearson r...\n"
     ]
    },
    {
     "name": "stderr",
     "output_type": "stream",
     "text": [
      "/home/disk/sipn/nicway/anaconda3/envs/esio/lib/python3.6/site-packages/dask/local.py:255: RuntimeWarning: invalid value encountered in true_divide\n",
      "  return func(*args2)\n"
     ]
    },
    {
     "name": "stdout",
     "output_type": "stream",
     "text": [
      "Saved /home/disk/sipn/nicway/data/model/dampedAnomalyTrend/forecast/param/2018_210_1979_2017_Alpha.nc\n",
      "Processing day of year 211\n",
      "    detrending current day...\n",
      "    detrending lagged day...\n",
      "    Calculating pearson r...\n"
     ]
    },
    {
     "name": "stderr",
     "output_type": "stream",
     "text": [
      "/home/disk/sipn/nicway/anaconda3/envs/esio/lib/python3.6/site-packages/dask/local.py:255: RuntimeWarning: invalid value encountered in true_divide\n",
      "  return func(*args2)\n"
     ]
    },
    {
     "name": "stdout",
     "output_type": "stream",
     "text": [
      "Saved /home/disk/sipn/nicway/data/model/dampedAnomalyTrend/forecast/param/2018_211_1979_2017_Alpha.nc\n",
      "Processing day of year 212\n",
      "    detrending current day...\n",
      "    detrending lagged day...\n",
      "    Calculating pearson r...\n"
     ]
    },
    {
     "name": "stderr",
     "output_type": "stream",
     "text": [
      "/home/disk/sipn/nicway/anaconda3/envs/esio/lib/python3.6/site-packages/dask/local.py:255: RuntimeWarning: invalid value encountered in true_divide\n",
      "  return func(*args2)\n"
     ]
    },
    {
     "name": "stdout",
     "output_type": "stream",
     "text": [
      "Saved /home/disk/sipn/nicway/data/model/dampedAnomalyTrend/forecast/param/2018_212_1979_2017_Alpha.nc\n",
      "Processing day of year 213\n",
      "    detrending current day...\n",
      "    detrending lagged day...\n",
      "    Calculating pearson r...\n"
     ]
    },
    {
     "name": "stderr",
     "output_type": "stream",
     "text": [
      "/home/disk/sipn/nicway/anaconda3/envs/esio/lib/python3.6/site-packages/dask/local.py:255: RuntimeWarning: invalid value encountered in true_divide\n",
      "  return func(*args2)\n"
     ]
    },
    {
     "name": "stdout",
     "output_type": "stream",
     "text": [
      "Saved /home/disk/sipn/nicway/data/model/dampedAnomalyTrend/forecast/param/2018_213_1979_2017_Alpha.nc\n",
      "Processing day of year 214\n",
      "    detrending current day...\n",
      "    detrending lagged day...\n",
      "    Calculating pearson r...\n"
     ]
    },
    {
     "name": "stderr",
     "output_type": "stream",
     "text": [
      "/home/disk/sipn/nicway/anaconda3/envs/esio/lib/python3.6/site-packages/dask/local.py:255: RuntimeWarning: invalid value encountered in true_divide\n",
      "  return func(*args2)\n"
     ]
    },
    {
     "name": "stdout",
     "output_type": "stream",
     "text": [
      "Saved /home/disk/sipn/nicway/data/model/dampedAnomalyTrend/forecast/param/2018_214_1979_2017_Alpha.nc\n",
      "Processing day of year 215\n",
      "    detrending current day...\n",
      "    detrending lagged day...\n",
      "    Calculating pearson r...\n"
     ]
    },
    {
     "name": "stderr",
     "output_type": "stream",
     "text": [
      "/home/disk/sipn/nicway/anaconda3/envs/esio/lib/python3.6/site-packages/dask/local.py:255: RuntimeWarning: invalid value encountered in true_divide\n",
      "  return func(*args2)\n"
     ]
    },
    {
     "name": "stdout",
     "output_type": "stream",
     "text": [
      "Saved /home/disk/sipn/nicway/data/model/dampedAnomalyTrend/forecast/param/2018_215_1979_2017_Alpha.nc\n",
      "Processing day of year 216\n",
      "    detrending current day...\n",
      "    detrending lagged day...\n",
      "    Calculating pearson r...\n"
     ]
    },
    {
     "name": "stderr",
     "output_type": "stream",
     "text": [
      "/home/disk/sipn/nicway/anaconda3/envs/esio/lib/python3.6/site-packages/dask/local.py:255: RuntimeWarning: invalid value encountered in true_divide\n",
      "  return func(*args2)\n"
     ]
    },
    {
     "name": "stdout",
     "output_type": "stream",
     "text": [
      "Saved /home/disk/sipn/nicway/data/model/dampedAnomalyTrend/forecast/param/2018_216_1979_2017_Alpha.nc\n",
      "Processing day of year 217\n",
      "    detrending current day...\n",
      "    detrending lagged day...\n",
      "    Calculating pearson r...\n"
     ]
    },
    {
     "name": "stderr",
     "output_type": "stream",
     "text": [
      "/home/disk/sipn/nicway/anaconda3/envs/esio/lib/python3.6/site-packages/dask/local.py:255: RuntimeWarning: invalid value encountered in true_divide\n",
      "  return func(*args2)\n"
     ]
    },
    {
     "name": "stdout",
     "output_type": "stream",
     "text": [
      "Saved /home/disk/sipn/nicway/data/model/dampedAnomalyTrend/forecast/param/2018_217_1979_2017_Alpha.nc\n",
      "Processing day of year 218\n",
      "    detrending current day...\n",
      "    detrending lagged day...\n",
      "    Calculating pearson r...\n"
     ]
    },
    {
     "name": "stderr",
     "output_type": "stream",
     "text": [
      "/home/disk/sipn/nicway/anaconda3/envs/esio/lib/python3.6/site-packages/dask/local.py:255: RuntimeWarning: invalid value encountered in true_divide\n",
      "  return func(*args2)\n"
     ]
    },
    {
     "name": "stdout",
     "output_type": "stream",
     "text": [
      "Saved /home/disk/sipn/nicway/data/model/dampedAnomalyTrend/forecast/param/2018_218_1979_2017_Alpha.nc\n",
      "Processing day of year 219\n",
      "    detrending current day...\n",
      "    detrending lagged day...\n",
      "    Calculating pearson r...\n"
     ]
    },
    {
     "name": "stderr",
     "output_type": "stream",
     "text": [
      "/home/disk/sipn/nicway/anaconda3/envs/esio/lib/python3.6/site-packages/dask/local.py:255: RuntimeWarning: invalid value encountered in true_divide\n",
      "  return func(*args2)\n"
     ]
    },
    {
     "name": "stdout",
     "output_type": "stream",
     "text": [
      "Saved /home/disk/sipn/nicway/data/model/dampedAnomalyTrend/forecast/param/2018_219_1979_2017_Alpha.nc\n",
      "Processing day of year 220\n",
      "    detrending current day...\n",
      "    detrending lagged day...\n",
      "    Calculating pearson r...\n"
     ]
    },
    {
     "name": "stderr",
     "output_type": "stream",
     "text": [
      "/home/disk/sipn/nicway/anaconda3/envs/esio/lib/python3.6/site-packages/dask/local.py:255: RuntimeWarning: invalid value encountered in true_divide\n",
      "  return func(*args2)\n"
     ]
    },
    {
     "name": "stdout",
     "output_type": "stream",
     "text": [
      "Saved /home/disk/sipn/nicway/data/model/dampedAnomalyTrend/forecast/param/2018_220_1979_2017_Alpha.nc\n",
      "Processing day of year 221\n",
      "    detrending current day...\n",
      "    detrending lagged day...\n",
      "    Calculating pearson r...\n"
     ]
    },
    {
     "name": "stderr",
     "output_type": "stream",
     "text": [
      "/home/disk/sipn/nicway/anaconda3/envs/esio/lib/python3.6/site-packages/dask/local.py:255: RuntimeWarning: invalid value encountered in true_divide\n",
      "  return func(*args2)\n"
     ]
    },
    {
     "name": "stdout",
     "output_type": "stream",
     "text": [
      "Saved /home/disk/sipn/nicway/data/model/dampedAnomalyTrend/forecast/param/2018_221_1979_2017_Alpha.nc\n",
      "Processing day of year 222\n",
      "    detrending current day...\n",
      "    detrending lagged day...\n",
      "    Calculating pearson r...\n"
     ]
    },
    {
     "name": "stderr",
     "output_type": "stream",
     "text": [
      "/home/disk/sipn/nicway/anaconda3/envs/esio/lib/python3.6/site-packages/dask/local.py:255: RuntimeWarning: invalid value encountered in true_divide\n",
      "  return func(*args2)\n"
     ]
    },
    {
     "name": "stdout",
     "output_type": "stream",
     "text": [
      "Saved /home/disk/sipn/nicway/data/model/dampedAnomalyTrend/forecast/param/2018_222_1979_2017_Alpha.nc\n",
      "Processing day of year 223\n",
      "    detrending current day...\n",
      "    detrending lagged day...\n",
      "    Calculating pearson r...\n"
     ]
    },
    {
     "name": "stderr",
     "output_type": "stream",
     "text": [
      "/home/disk/sipn/nicway/anaconda3/envs/esio/lib/python3.6/site-packages/dask/local.py:255: RuntimeWarning: invalid value encountered in true_divide\n",
      "  return func(*args2)\n"
     ]
    },
    {
     "name": "stdout",
     "output_type": "stream",
     "text": [
      "Saved /home/disk/sipn/nicway/data/model/dampedAnomalyTrend/forecast/param/2018_223_1979_2017_Alpha.nc\n",
      "Processing day of year 224\n",
      "    detrending current day...\n",
      "    detrending lagged day...\n",
      "    Calculating pearson r...\n"
     ]
    },
    {
     "name": "stderr",
     "output_type": "stream",
     "text": [
      "/home/disk/sipn/nicway/anaconda3/envs/esio/lib/python3.6/site-packages/dask/local.py:255: RuntimeWarning: invalid value encountered in true_divide\n",
      "  return func(*args2)\n"
     ]
    },
    {
     "name": "stdout",
     "output_type": "stream",
     "text": [
      "Saved /home/disk/sipn/nicway/data/model/dampedAnomalyTrend/forecast/param/2018_224_1979_2017_Alpha.nc\n",
      "Processing day of year 225\n",
      "    detrending current day...\n",
      "    detrending lagged day...\n",
      "    Calculating pearson r...\n"
     ]
    },
    {
     "name": "stderr",
     "output_type": "stream",
     "text": [
      "/home/disk/sipn/nicway/anaconda3/envs/esio/lib/python3.6/site-packages/dask/local.py:255: RuntimeWarning: invalid value encountered in true_divide\n",
      "  return func(*args2)\n"
     ]
    },
    {
     "name": "stdout",
     "output_type": "stream",
     "text": [
      "Saved /home/disk/sipn/nicway/data/model/dampedAnomalyTrend/forecast/param/2018_225_1979_2017_Alpha.nc\n",
      "Processing day of year 226\n",
      "    detrending current day...\n",
      "    detrending lagged day...\n",
      "    Calculating pearson r...\n"
     ]
    },
    {
     "name": "stderr",
     "output_type": "stream",
     "text": [
      "/home/disk/sipn/nicway/anaconda3/envs/esio/lib/python3.6/site-packages/dask/local.py:255: RuntimeWarning: invalid value encountered in true_divide\n",
      "  return func(*args2)\n"
     ]
    },
    {
     "name": "stdout",
     "output_type": "stream",
     "text": [
      "Saved /home/disk/sipn/nicway/data/model/dampedAnomalyTrend/forecast/param/2018_226_1979_2017_Alpha.nc\n",
      "Processing day of year 227\n",
      "    detrending current day...\n",
      "    detrending lagged day...\n",
      "    Calculating pearson r...\n"
     ]
    },
    {
     "name": "stderr",
     "output_type": "stream",
     "text": [
      "/home/disk/sipn/nicway/anaconda3/envs/esio/lib/python3.6/site-packages/dask/local.py:255: RuntimeWarning: invalid value encountered in true_divide\n",
      "  return func(*args2)\n"
     ]
    },
    {
     "name": "stdout",
     "output_type": "stream",
     "text": [
      "Saved /home/disk/sipn/nicway/data/model/dampedAnomalyTrend/forecast/param/2018_227_1979_2017_Alpha.nc\n",
      "Processing day of year 228\n",
      "    detrending current day...\n",
      "    detrending lagged day...\n",
      "    Calculating pearson r...\n"
     ]
    },
    {
     "name": "stderr",
     "output_type": "stream",
     "text": [
      "/home/disk/sipn/nicway/anaconda3/envs/esio/lib/python3.6/site-packages/dask/local.py:255: RuntimeWarning: invalid value encountered in true_divide\n",
      "  return func(*args2)\n"
     ]
    },
    {
     "name": "stdout",
     "output_type": "stream",
     "text": [
      "Saved /home/disk/sipn/nicway/data/model/dampedAnomalyTrend/forecast/param/2018_228_1979_2017_Alpha.nc\n",
      "Processing day of year 229\n",
      "    detrending current day...\n",
      "    detrending lagged day...\n",
      "    Calculating pearson r...\n"
     ]
    },
    {
     "name": "stderr",
     "output_type": "stream",
     "text": [
      "/home/disk/sipn/nicway/anaconda3/envs/esio/lib/python3.6/site-packages/dask/local.py:255: RuntimeWarning: invalid value encountered in true_divide\n",
      "  return func(*args2)\n"
     ]
    },
    {
     "name": "stdout",
     "output_type": "stream",
     "text": [
      "Saved /home/disk/sipn/nicway/data/model/dampedAnomalyTrend/forecast/param/2018_229_1979_2017_Alpha.nc\n",
      "Processing day of year 230\n",
      "    detrending current day...\n",
      "    detrending lagged day...\n",
      "    Calculating pearson r...\n"
     ]
    },
    {
     "name": "stderr",
     "output_type": "stream",
     "text": [
      "/home/disk/sipn/nicway/anaconda3/envs/esio/lib/python3.6/site-packages/dask/local.py:255: RuntimeWarning: invalid value encountered in true_divide\n",
      "  return func(*args2)\n"
     ]
    },
    {
     "name": "stdout",
     "output_type": "stream",
     "text": [
      "Saved /home/disk/sipn/nicway/data/model/dampedAnomalyTrend/forecast/param/2018_230_1979_2017_Alpha.nc\n",
      "Processing day of year 231\n",
      "    detrending current day...\n",
      "    detrending lagged day...\n",
      "    Calculating pearson r...\n"
     ]
    },
    {
     "name": "stderr",
     "output_type": "stream",
     "text": [
      "/home/disk/sipn/nicway/anaconda3/envs/esio/lib/python3.6/site-packages/dask/local.py:255: RuntimeWarning: invalid value encountered in true_divide\n",
      "  return func(*args2)\n"
     ]
    },
    {
     "name": "stdout",
     "output_type": "stream",
     "text": [
      "Saved /home/disk/sipn/nicway/data/model/dampedAnomalyTrend/forecast/param/2018_231_1979_2017_Alpha.nc\n",
      "Processing day of year 232\n",
      "    detrending current day...\n",
      "    detrending lagged day...\n",
      "    Calculating pearson r...\n"
     ]
    },
    {
     "name": "stderr",
     "output_type": "stream",
     "text": [
      "/home/disk/sipn/nicway/anaconda3/envs/esio/lib/python3.6/site-packages/dask/local.py:255: RuntimeWarning: invalid value encountered in true_divide\n",
      "  return func(*args2)\n"
     ]
    },
    {
     "name": "stdout",
     "output_type": "stream",
     "text": [
      "Saved /home/disk/sipn/nicway/data/model/dampedAnomalyTrend/forecast/param/2018_232_1979_2017_Alpha.nc\n",
      "Processing day of year 233\n",
      "    detrending current day...\n",
      "    detrending lagged day...\n",
      "    Calculating pearson r...\n"
     ]
    },
    {
     "name": "stderr",
     "output_type": "stream",
     "text": [
      "/home/disk/sipn/nicway/anaconda3/envs/esio/lib/python3.6/site-packages/dask/local.py:255: RuntimeWarning: invalid value encountered in true_divide\n",
      "  return func(*args2)\n"
     ]
    },
    {
     "name": "stdout",
     "output_type": "stream",
     "text": [
      "Saved /home/disk/sipn/nicway/data/model/dampedAnomalyTrend/forecast/param/2018_233_1979_2017_Alpha.nc\n",
      "Processing day of year 234\n",
      "    detrending current day...\n",
      "    detrending lagged day...\n",
      "    Calculating pearson r...\n"
     ]
    },
    {
     "name": "stderr",
     "output_type": "stream",
     "text": [
      "/home/disk/sipn/nicway/anaconda3/envs/esio/lib/python3.6/site-packages/dask/local.py:255: RuntimeWarning: invalid value encountered in true_divide\n",
      "  return func(*args2)\n"
     ]
    },
    {
     "name": "stdout",
     "output_type": "stream",
     "text": [
      "Saved /home/disk/sipn/nicway/data/model/dampedAnomalyTrend/forecast/param/2018_234_1979_2017_Alpha.nc\n",
      "Processing day of year 235\n",
      "    detrending current day...\n",
      "    detrending lagged day...\n",
      "    Calculating pearson r...\n"
     ]
    },
    {
     "name": "stderr",
     "output_type": "stream",
     "text": [
      "/home/disk/sipn/nicway/anaconda3/envs/esio/lib/python3.6/site-packages/dask/local.py:255: RuntimeWarning: invalid value encountered in true_divide\n",
      "  return func(*args2)\n"
     ]
    },
    {
     "name": "stdout",
     "output_type": "stream",
     "text": [
      "Saved /home/disk/sipn/nicway/data/model/dampedAnomalyTrend/forecast/param/2018_235_1979_2017_Alpha.nc\n",
      "Processing day of year 236\n",
      "    detrending current day...\n",
      "    detrending lagged day...\n",
      "    Calculating pearson r...\n"
     ]
    },
    {
     "name": "stderr",
     "output_type": "stream",
     "text": [
      "/home/disk/sipn/nicway/anaconda3/envs/esio/lib/python3.6/site-packages/dask/local.py:255: RuntimeWarning: invalid value encountered in true_divide\n",
      "  return func(*args2)\n"
     ]
    },
    {
     "name": "stdout",
     "output_type": "stream",
     "text": [
      "Saved /home/disk/sipn/nicway/data/model/dampedAnomalyTrend/forecast/param/2018_236_1979_2017_Alpha.nc\n",
      "Processing day of year 237\n",
      "    detrending current day...\n",
      "    detrending lagged day...\n",
      "    Calculating pearson r...\n"
     ]
    },
    {
     "name": "stderr",
     "output_type": "stream",
     "text": [
      "/home/disk/sipn/nicway/anaconda3/envs/esio/lib/python3.6/site-packages/dask/local.py:255: RuntimeWarning: invalid value encountered in true_divide\n",
      "  return func(*args2)\n"
     ]
    },
    {
     "name": "stdout",
     "output_type": "stream",
     "text": [
      "Saved /home/disk/sipn/nicway/data/model/dampedAnomalyTrend/forecast/param/2018_237_1979_2017_Alpha.nc\n",
      "Processing day of year 238\n",
      "    detrending current day...\n",
      "    detrending lagged day...\n",
      "    Calculating pearson r...\n"
     ]
    },
    {
     "name": "stderr",
     "output_type": "stream",
     "text": [
      "/home/disk/sipn/nicway/anaconda3/envs/esio/lib/python3.6/site-packages/dask/local.py:255: RuntimeWarning: invalid value encountered in true_divide\n",
      "  return func(*args2)\n"
     ]
    },
    {
     "name": "stdout",
     "output_type": "stream",
     "text": [
      "Saved /home/disk/sipn/nicway/data/model/dampedAnomalyTrend/forecast/param/2018_238_1979_2017_Alpha.nc\n",
      "Processing day of year 239\n",
      "    detrending current day...\n",
      "    detrending lagged day...\n",
      "    Calculating pearson r...\n"
     ]
    },
    {
     "name": "stderr",
     "output_type": "stream",
     "text": [
      "/home/disk/sipn/nicway/anaconda3/envs/esio/lib/python3.6/site-packages/dask/local.py:255: RuntimeWarning: invalid value encountered in true_divide\n",
      "  return func(*args2)\n"
     ]
    },
    {
     "name": "stdout",
     "output_type": "stream",
     "text": [
      "Saved /home/disk/sipn/nicway/data/model/dampedAnomalyTrend/forecast/param/2018_239_1979_2017_Alpha.nc\n",
      "Processing day of year 240\n",
      "    detrending current day...\n",
      "    detrending lagged day...\n",
      "    Calculating pearson r...\n"
     ]
    },
    {
     "name": "stderr",
     "output_type": "stream",
     "text": [
      "/home/disk/sipn/nicway/anaconda3/envs/esio/lib/python3.6/site-packages/dask/local.py:255: RuntimeWarning: invalid value encountered in true_divide\n",
      "  return func(*args2)\n"
     ]
    },
    {
     "name": "stdout",
     "output_type": "stream",
     "text": [
      "Saved /home/disk/sipn/nicway/data/model/dampedAnomalyTrend/forecast/param/2018_240_1979_2017_Alpha.nc\n",
      "Processing day of year 241\n",
      "    detrending current day...\n",
      "    detrending lagged day...\n",
      "    Calculating pearson r...\n"
     ]
    },
    {
     "name": "stderr",
     "output_type": "stream",
     "text": [
      "/home/disk/sipn/nicway/anaconda3/envs/esio/lib/python3.6/site-packages/dask/local.py:255: RuntimeWarning: invalid value encountered in true_divide\n",
      "  return func(*args2)\n"
     ]
    },
    {
     "name": "stdout",
     "output_type": "stream",
     "text": [
      "Saved /home/disk/sipn/nicway/data/model/dampedAnomalyTrend/forecast/param/2018_241_1979_2017_Alpha.nc\n",
      "Processing day of year 242\n",
      "    detrending current day...\n",
      "    detrending lagged day...\n",
      "    Calculating pearson r...\n"
     ]
    },
    {
     "name": "stderr",
     "output_type": "stream",
     "text": [
      "/home/disk/sipn/nicway/anaconda3/envs/esio/lib/python3.6/site-packages/dask/local.py:255: RuntimeWarning: invalid value encountered in true_divide\n",
      "  return func(*args2)\n"
     ]
    },
    {
     "name": "stdout",
     "output_type": "stream",
     "text": [
      "Saved /home/disk/sipn/nicway/data/model/dampedAnomalyTrend/forecast/param/2018_242_1979_2017_Alpha.nc\n",
      "Processing day of year 243\n",
      "    detrending current day...\n",
      "    detrending lagged day...\n",
      "    Calculating pearson r...\n"
     ]
    },
    {
     "name": "stderr",
     "output_type": "stream",
     "text": [
      "/home/disk/sipn/nicway/anaconda3/envs/esio/lib/python3.6/site-packages/dask/local.py:255: RuntimeWarning: invalid value encountered in true_divide\n",
      "  return func(*args2)\n"
     ]
    },
    {
     "name": "stdout",
     "output_type": "stream",
     "text": [
      "Saved /home/disk/sipn/nicway/data/model/dampedAnomalyTrend/forecast/param/2018_243_1979_2017_Alpha.nc\n",
      "Processing day of year 244\n",
      "    detrending current day...\n",
      "    detrending lagged day...\n",
      "    Calculating pearson r...\n"
     ]
    },
    {
     "name": "stderr",
     "output_type": "stream",
     "text": [
      "/home/disk/sipn/nicway/anaconda3/envs/esio/lib/python3.6/site-packages/dask/local.py:255: RuntimeWarning: invalid value encountered in true_divide\n",
      "  return func(*args2)\n"
     ]
    },
    {
     "name": "stdout",
     "output_type": "stream",
     "text": [
      "Saved /home/disk/sipn/nicway/data/model/dampedAnomalyTrend/forecast/param/2018_244_1979_2017_Alpha.nc\n",
      "Processing day of year 245\n",
      "    detrending current day...\n",
      "    detrending lagged day...\n",
      "    Calculating pearson r...\n"
     ]
    },
    {
     "name": "stderr",
     "output_type": "stream",
     "text": [
      "/home/disk/sipn/nicway/anaconda3/envs/esio/lib/python3.6/site-packages/dask/local.py:255: RuntimeWarning: invalid value encountered in true_divide\n",
      "  return func(*args2)\n"
     ]
    },
    {
     "name": "stdout",
     "output_type": "stream",
     "text": [
      "Saved /home/disk/sipn/nicway/data/model/dampedAnomalyTrend/forecast/param/2018_245_1979_2017_Alpha.nc\n",
      "Processing day of year 246\n",
      "    detrending current day...\n",
      "    detrending lagged day...\n",
      "    Calculating pearson r...\n"
     ]
    },
    {
     "name": "stderr",
     "output_type": "stream",
     "text": [
      "/home/disk/sipn/nicway/anaconda3/envs/esio/lib/python3.6/site-packages/dask/local.py:255: RuntimeWarning: invalid value encountered in true_divide\n",
      "  return func(*args2)\n"
     ]
    },
    {
     "name": "stdout",
     "output_type": "stream",
     "text": [
      "Saved /home/disk/sipn/nicway/data/model/dampedAnomalyTrend/forecast/param/2018_246_1979_2017_Alpha.nc\n",
      "Processing day of year 247\n",
      "    detrending current day...\n",
      "    detrending lagged day...\n",
      "    Calculating pearson r...\n"
     ]
    },
    {
     "name": "stderr",
     "output_type": "stream",
     "text": [
      "/home/disk/sipn/nicway/anaconda3/envs/esio/lib/python3.6/site-packages/dask/local.py:255: RuntimeWarning: invalid value encountered in true_divide\n",
      "  return func(*args2)\n"
     ]
    },
    {
     "name": "stdout",
     "output_type": "stream",
     "text": [
      "Saved /home/disk/sipn/nicway/data/model/dampedAnomalyTrend/forecast/param/2018_247_1979_2017_Alpha.nc\n",
      "Processing day of year 248\n",
      "    detrending current day...\n",
      "    detrending lagged day...\n",
      "    Calculating pearson r...\n"
     ]
    },
    {
     "name": "stderr",
     "output_type": "stream",
     "text": [
      "/home/disk/sipn/nicway/anaconda3/envs/esio/lib/python3.6/site-packages/dask/local.py:255: RuntimeWarning: invalid value encountered in true_divide\n",
      "  return func(*args2)\n"
     ]
    },
    {
     "name": "stdout",
     "output_type": "stream",
     "text": [
      "Saved /home/disk/sipn/nicway/data/model/dampedAnomalyTrend/forecast/param/2018_248_1979_2017_Alpha.nc\n",
      "Processing day of year 249\n",
      "    detrending current day...\n",
      "    detrending lagged day...\n",
      "    Calculating pearson r...\n"
     ]
    },
    {
     "name": "stderr",
     "output_type": "stream",
     "text": [
      "/home/disk/sipn/nicway/anaconda3/envs/esio/lib/python3.6/site-packages/dask/local.py:255: RuntimeWarning: invalid value encountered in true_divide\n",
      "  return func(*args2)\n"
     ]
    },
    {
     "name": "stdout",
     "output_type": "stream",
     "text": [
      "Saved /home/disk/sipn/nicway/data/model/dampedAnomalyTrend/forecast/param/2018_249_1979_2017_Alpha.nc\n",
      "Processing day of year 250\n",
      "    detrending current day...\n",
      "    detrending lagged day...\n",
      "    Calculating pearson r...\n"
     ]
    },
    {
     "name": "stderr",
     "output_type": "stream",
     "text": [
      "/home/disk/sipn/nicway/anaconda3/envs/esio/lib/python3.6/site-packages/dask/local.py:255: RuntimeWarning: invalid value encountered in true_divide\n",
      "  return func(*args2)\n"
     ]
    },
    {
     "name": "stdout",
     "output_type": "stream",
     "text": [
      "Saved /home/disk/sipn/nicway/data/model/dampedAnomalyTrend/forecast/param/2018_250_1979_2017_Alpha.nc\n",
      "Processing day of year 251\n",
      "    detrending current day...\n",
      "    detrending lagged day...\n",
      "    Calculating pearson r...\n"
     ]
    },
    {
     "name": "stderr",
     "output_type": "stream",
     "text": [
      "/home/disk/sipn/nicway/anaconda3/envs/esio/lib/python3.6/site-packages/dask/local.py:255: RuntimeWarning: invalid value encountered in true_divide\n",
      "  return func(*args2)\n"
     ]
    },
    {
     "name": "stdout",
     "output_type": "stream",
     "text": [
      "Saved /home/disk/sipn/nicway/data/model/dampedAnomalyTrend/forecast/param/2018_251_1979_2017_Alpha.nc\n",
      "Processing day of year 252\n",
      "    detrending current day...\n",
      "    detrending lagged day...\n",
      "    Calculating pearson r...\n"
     ]
    },
    {
     "name": "stderr",
     "output_type": "stream",
     "text": [
      "/home/disk/sipn/nicway/anaconda3/envs/esio/lib/python3.6/site-packages/dask/local.py:255: RuntimeWarning: invalid value encountered in true_divide\n",
      "  return func(*args2)\n"
     ]
    },
    {
     "name": "stdout",
     "output_type": "stream",
     "text": [
      "Saved /home/disk/sipn/nicway/data/model/dampedAnomalyTrend/forecast/param/2018_252_1979_2017_Alpha.nc\n",
      "Processing day of year 253\n",
      "    detrending current day...\n",
      "    detrending lagged day...\n",
      "    Calculating pearson r...\n"
     ]
    },
    {
     "name": "stderr",
     "output_type": "stream",
     "text": [
      "/home/disk/sipn/nicway/anaconda3/envs/esio/lib/python3.6/site-packages/dask/local.py:255: RuntimeWarning: invalid value encountered in true_divide\n",
      "  return func(*args2)\n"
     ]
    },
    {
     "name": "stdout",
     "output_type": "stream",
     "text": [
      "Saved /home/disk/sipn/nicway/data/model/dampedAnomalyTrend/forecast/param/2018_253_1979_2017_Alpha.nc\n",
      "Processing day of year 254\n",
      "    detrending current day...\n",
      "    detrending lagged day...\n",
      "    Calculating pearson r...\n"
     ]
    },
    {
     "name": "stderr",
     "output_type": "stream",
     "text": [
      "/home/disk/sipn/nicway/anaconda3/envs/esio/lib/python3.6/site-packages/dask/local.py:255: RuntimeWarning: invalid value encountered in true_divide\n",
      "  return func(*args2)\n"
     ]
    },
    {
     "name": "stdout",
     "output_type": "stream",
     "text": [
      "Saved /home/disk/sipn/nicway/data/model/dampedAnomalyTrend/forecast/param/2018_254_1979_2017_Alpha.nc\n",
      "Processing day of year 255\n",
      "    detrending current day...\n",
      "    detrending lagged day...\n",
      "    Calculating pearson r...\n"
     ]
    },
    {
     "name": "stderr",
     "output_type": "stream",
     "text": [
      "/home/disk/sipn/nicway/anaconda3/envs/esio/lib/python3.6/site-packages/dask/local.py:255: RuntimeWarning: invalid value encountered in true_divide\n",
      "  return func(*args2)\n"
     ]
    },
    {
     "name": "stdout",
     "output_type": "stream",
     "text": [
      "Saved /home/disk/sipn/nicway/data/model/dampedAnomalyTrend/forecast/param/2018_255_1979_2017_Alpha.nc\n",
      "Processing day of year 256\n",
      "    detrending current day...\n",
      "    detrending lagged day...\n",
      "    Calculating pearson r...\n"
     ]
    },
    {
     "name": "stderr",
     "output_type": "stream",
     "text": [
      "/home/disk/sipn/nicway/anaconda3/envs/esio/lib/python3.6/site-packages/dask/local.py:255: RuntimeWarning: invalid value encountered in true_divide\n",
      "  return func(*args2)\n"
     ]
    },
    {
     "name": "stdout",
     "output_type": "stream",
     "text": [
      "Saved /home/disk/sipn/nicway/data/model/dampedAnomalyTrend/forecast/param/2018_256_1979_2017_Alpha.nc\n",
      "Processing day of year 257\n",
      "    detrending current day...\n",
      "    detrending lagged day...\n",
      "    Calculating pearson r...\n"
     ]
    },
    {
     "name": "stderr",
     "output_type": "stream",
     "text": [
      "/home/disk/sipn/nicway/anaconda3/envs/esio/lib/python3.6/site-packages/dask/local.py:255: RuntimeWarning: invalid value encountered in true_divide\n",
      "  return func(*args2)\n"
     ]
    },
    {
     "name": "stdout",
     "output_type": "stream",
     "text": [
      "Saved /home/disk/sipn/nicway/data/model/dampedAnomalyTrend/forecast/param/2018_257_1979_2017_Alpha.nc\n",
      "Processing day of year 258\n",
      "    detrending current day...\n",
      "    detrending lagged day...\n",
      "    Calculating pearson r...\n"
     ]
    },
    {
     "name": "stderr",
     "output_type": "stream",
     "text": [
      "/home/disk/sipn/nicway/anaconda3/envs/esio/lib/python3.6/site-packages/dask/local.py:255: RuntimeWarning: invalid value encountered in true_divide\n",
      "  return func(*args2)\n"
     ]
    },
    {
     "name": "stdout",
     "output_type": "stream",
     "text": [
      "Saved /home/disk/sipn/nicway/data/model/dampedAnomalyTrend/forecast/param/2018_258_1979_2017_Alpha.nc\n",
      "Processing day of year 259\n",
      "    detrending current day...\n",
      "    detrending lagged day...\n",
      "    Calculating pearson r...\n"
     ]
    },
    {
     "name": "stderr",
     "output_type": "stream",
     "text": [
      "/home/disk/sipn/nicway/anaconda3/envs/esio/lib/python3.6/site-packages/dask/local.py:255: RuntimeWarning: invalid value encountered in true_divide\n",
      "  return func(*args2)\n"
     ]
    },
    {
     "name": "stdout",
     "output_type": "stream",
     "text": [
      "Saved /home/disk/sipn/nicway/data/model/dampedAnomalyTrend/forecast/param/2018_259_1979_2017_Alpha.nc\n",
      "Processing day of year 260\n",
      "    detrending current day...\n",
      "    detrending lagged day...\n",
      "    Calculating pearson r...\n"
     ]
    },
    {
     "name": "stderr",
     "output_type": "stream",
     "text": [
      "/home/disk/sipn/nicway/anaconda3/envs/esio/lib/python3.6/site-packages/dask/local.py:255: RuntimeWarning: invalid value encountered in true_divide\n",
      "  return func(*args2)\n"
     ]
    },
    {
     "name": "stdout",
     "output_type": "stream",
     "text": [
      "Saved /home/disk/sipn/nicway/data/model/dampedAnomalyTrend/forecast/param/2018_260_1979_2017_Alpha.nc\n",
      "Processing day of year 261\n",
      "    detrending current day...\n",
      "    detrending lagged day...\n",
      "    Calculating pearson r...\n"
     ]
    },
    {
     "name": "stderr",
     "output_type": "stream",
     "text": [
      "/home/disk/sipn/nicway/anaconda3/envs/esio/lib/python3.6/site-packages/dask/local.py:255: RuntimeWarning: invalid value encountered in true_divide\n",
      "  return func(*args2)\n"
     ]
    },
    {
     "name": "stdout",
     "output_type": "stream",
     "text": [
      "Saved /home/disk/sipn/nicway/data/model/dampedAnomalyTrend/forecast/param/2018_261_1979_2017_Alpha.nc\n",
      "Processing day of year 262\n",
      "    detrending current day...\n",
      "    detrending lagged day...\n",
      "    Calculating pearson r...\n"
     ]
    },
    {
     "name": "stderr",
     "output_type": "stream",
     "text": [
      "/home/disk/sipn/nicway/anaconda3/envs/esio/lib/python3.6/site-packages/dask/local.py:255: RuntimeWarning: invalid value encountered in true_divide\n",
      "  return func(*args2)\n"
     ]
    },
    {
     "name": "stdout",
     "output_type": "stream",
     "text": [
      "Saved /home/disk/sipn/nicway/data/model/dampedAnomalyTrend/forecast/param/2018_262_1979_2017_Alpha.nc\n",
      "Processing day of year 263\n",
      "    detrending current day...\n",
      "    detrending lagged day...\n",
      "    Calculating pearson r...\n"
     ]
    },
    {
     "name": "stderr",
     "output_type": "stream",
     "text": [
      "/home/disk/sipn/nicway/anaconda3/envs/esio/lib/python3.6/site-packages/dask/local.py:255: RuntimeWarning: invalid value encountered in true_divide\n",
      "  return func(*args2)\n"
     ]
    },
    {
     "name": "stdout",
     "output_type": "stream",
     "text": [
      "Saved /home/disk/sipn/nicway/data/model/dampedAnomalyTrend/forecast/param/2018_263_1979_2017_Alpha.nc\n",
      "Processing day of year 264\n",
      "    detrending current day...\n",
      "    detrending lagged day...\n",
      "    Calculating pearson r...\n"
     ]
    },
    {
     "name": "stderr",
     "output_type": "stream",
     "text": [
      "/home/disk/sipn/nicway/anaconda3/envs/esio/lib/python3.6/site-packages/dask/local.py:255: RuntimeWarning: invalid value encountered in true_divide\n",
      "  return func(*args2)\n"
     ]
    },
    {
     "name": "stdout",
     "output_type": "stream",
     "text": [
      "Saved /home/disk/sipn/nicway/data/model/dampedAnomalyTrend/forecast/param/2018_264_1979_2017_Alpha.nc\n",
      "Processing day of year 265\n",
      "    detrending current day...\n",
      "    detrending lagged day...\n",
      "    Calculating pearson r...\n"
     ]
    },
    {
     "name": "stderr",
     "output_type": "stream",
     "text": [
      "/home/disk/sipn/nicway/anaconda3/envs/esio/lib/python3.6/site-packages/dask/local.py:255: RuntimeWarning: invalid value encountered in true_divide\n",
      "  return func(*args2)\n"
     ]
    },
    {
     "name": "stdout",
     "output_type": "stream",
     "text": [
      "Saved /home/disk/sipn/nicway/data/model/dampedAnomalyTrend/forecast/param/2018_265_1979_2017_Alpha.nc\n",
      "Processing day of year 266\n",
      "    detrending current day...\n",
      "    detrending lagged day...\n",
      "    Calculating pearson r...\n"
     ]
    },
    {
     "name": "stderr",
     "output_type": "stream",
     "text": [
      "/home/disk/sipn/nicway/anaconda3/envs/esio/lib/python3.6/site-packages/dask/local.py:255: RuntimeWarning: invalid value encountered in true_divide\n",
      "  return func(*args2)\n"
     ]
    },
    {
     "name": "stdout",
     "output_type": "stream",
     "text": [
      "Saved /home/disk/sipn/nicway/data/model/dampedAnomalyTrend/forecast/param/2018_266_1979_2017_Alpha.nc\n",
      "Processing day of year 267\n",
      "    detrending current day...\n",
      "    detrending lagged day...\n",
      "    Calculating pearson r...\n"
     ]
    },
    {
     "name": "stderr",
     "output_type": "stream",
     "text": [
      "/home/disk/sipn/nicway/anaconda3/envs/esio/lib/python3.6/site-packages/dask/local.py:255: RuntimeWarning: invalid value encountered in true_divide\n",
      "  return func(*args2)\n"
     ]
    },
    {
     "name": "stdout",
     "output_type": "stream",
     "text": [
      "Saved /home/disk/sipn/nicway/data/model/dampedAnomalyTrend/forecast/param/2018_267_1979_2017_Alpha.nc\n",
      "Processing day of year 268\n",
      "    detrending current day...\n",
      "    detrending lagged day...\n",
      "    Calculating pearson r...\n"
     ]
    },
    {
     "name": "stderr",
     "output_type": "stream",
     "text": [
      "/home/disk/sipn/nicway/anaconda3/envs/esio/lib/python3.6/site-packages/dask/local.py:255: RuntimeWarning: invalid value encountered in true_divide\n",
      "  return func(*args2)\n"
     ]
    },
    {
     "name": "stdout",
     "output_type": "stream",
     "text": [
      "Saved /home/disk/sipn/nicway/data/model/dampedAnomalyTrend/forecast/param/2018_268_1979_2017_Alpha.nc\n",
      "Processing day of year 269\n",
      "    detrending current day...\n",
      "    detrending lagged day...\n",
      "    Calculating pearson r...\n"
     ]
    },
    {
     "name": "stderr",
     "output_type": "stream",
     "text": [
      "/home/disk/sipn/nicway/anaconda3/envs/esio/lib/python3.6/site-packages/dask/local.py:255: RuntimeWarning: invalid value encountered in true_divide\n",
      "  return func(*args2)\n"
     ]
    },
    {
     "name": "stdout",
     "output_type": "stream",
     "text": [
      "Saved /home/disk/sipn/nicway/data/model/dampedAnomalyTrend/forecast/param/2018_269_1979_2017_Alpha.nc\n",
      "Processing day of year 270\n",
      "    detrending current day...\n",
      "    detrending lagged day...\n",
      "    Calculating pearson r...\n"
     ]
    },
    {
     "name": "stderr",
     "output_type": "stream",
     "text": [
      "/home/disk/sipn/nicway/anaconda3/envs/esio/lib/python3.6/site-packages/dask/local.py:255: RuntimeWarning: invalid value encountered in true_divide\n",
      "  return func(*args2)\n"
     ]
    },
    {
     "name": "stdout",
     "output_type": "stream",
     "text": [
      "Saved /home/disk/sipn/nicway/data/model/dampedAnomalyTrend/forecast/param/2018_270_1979_2017_Alpha.nc\n",
      "Processing day of year 271\n",
      "    detrending current day...\n",
      "    detrending lagged day...\n",
      "    Calculating pearson r...\n"
     ]
    },
    {
     "name": "stderr",
     "output_type": "stream",
     "text": [
      "/home/disk/sipn/nicway/anaconda3/envs/esio/lib/python3.6/site-packages/dask/local.py:255: RuntimeWarning: invalid value encountered in true_divide\n",
      "  return func(*args2)\n"
     ]
    },
    {
     "name": "stdout",
     "output_type": "stream",
     "text": [
      "Saved /home/disk/sipn/nicway/data/model/dampedAnomalyTrend/forecast/param/2018_271_1979_2017_Alpha.nc\n",
      "Processing day of year 272\n",
      "    detrending current day...\n",
      "    detrending lagged day...\n",
      "    Calculating pearson r...\n"
     ]
    },
    {
     "name": "stderr",
     "output_type": "stream",
     "text": [
      "/home/disk/sipn/nicway/anaconda3/envs/esio/lib/python3.6/site-packages/dask/local.py:255: RuntimeWarning: invalid value encountered in true_divide\n",
      "  return func(*args2)\n"
     ]
    },
    {
     "name": "stdout",
     "output_type": "stream",
     "text": [
      "Saved /home/disk/sipn/nicway/data/model/dampedAnomalyTrend/forecast/param/2018_272_1979_2017_Alpha.nc\n",
      "Processing day of year 273\n",
      "    detrending current day...\n",
      "    detrending lagged day...\n",
      "    Calculating pearson r...\n"
     ]
    },
    {
     "name": "stderr",
     "output_type": "stream",
     "text": [
      "/home/disk/sipn/nicway/anaconda3/envs/esio/lib/python3.6/site-packages/dask/local.py:255: RuntimeWarning: invalid value encountered in true_divide\n",
      "  return func(*args2)\n"
     ]
    },
    {
     "name": "stdout",
     "output_type": "stream",
     "text": [
      "Saved /home/disk/sipn/nicway/data/model/dampedAnomalyTrend/forecast/param/2018_273_1979_2017_Alpha.nc\n",
      "Processing day of year 274\n",
      "    detrending current day...\n",
      "    detrending lagged day...\n",
      "    Calculating pearson r...\n"
     ]
    },
    {
     "name": "stderr",
     "output_type": "stream",
     "text": [
      "/home/disk/sipn/nicway/anaconda3/envs/esio/lib/python3.6/site-packages/dask/local.py:255: RuntimeWarning: invalid value encountered in true_divide\n",
      "  return func(*args2)\n"
     ]
    },
    {
     "name": "stdout",
     "output_type": "stream",
     "text": [
      "Saved /home/disk/sipn/nicway/data/model/dampedAnomalyTrend/forecast/param/2018_274_1979_2017_Alpha.nc\n",
      "Processing day of year 275\n",
      "    detrending current day...\n",
      "    detrending lagged day...\n",
      "    Calculating pearson r...\n"
     ]
    },
    {
     "name": "stderr",
     "output_type": "stream",
     "text": [
      "/home/disk/sipn/nicway/anaconda3/envs/esio/lib/python3.6/site-packages/dask/local.py:255: RuntimeWarning: invalid value encountered in true_divide\n",
      "  return func(*args2)\n"
     ]
    },
    {
     "name": "stdout",
     "output_type": "stream",
     "text": [
      "Saved /home/disk/sipn/nicway/data/model/dampedAnomalyTrend/forecast/param/2018_275_1979_2017_Alpha.nc\n",
      "Processing day of year 276\n",
      "    detrending current day...\n",
      "    detrending lagged day...\n",
      "    Calculating pearson r...\n"
     ]
    },
    {
     "name": "stderr",
     "output_type": "stream",
     "text": [
      "/home/disk/sipn/nicway/anaconda3/envs/esio/lib/python3.6/site-packages/dask/local.py:255: RuntimeWarning: invalid value encountered in true_divide\n",
      "  return func(*args2)\n"
     ]
    },
    {
     "name": "stdout",
     "output_type": "stream",
     "text": [
      "Saved /home/disk/sipn/nicway/data/model/dampedAnomalyTrend/forecast/param/2018_276_1979_2017_Alpha.nc\n",
      "Processing day of year 277\n",
      "    detrending current day...\n",
      "    detrending lagged day...\n",
      "    Calculating pearson r...\n"
     ]
    },
    {
     "name": "stderr",
     "output_type": "stream",
     "text": [
      "/home/disk/sipn/nicway/anaconda3/envs/esio/lib/python3.6/site-packages/dask/local.py:255: RuntimeWarning: invalid value encountered in true_divide\n",
      "  return func(*args2)\n"
     ]
    },
    {
     "name": "stdout",
     "output_type": "stream",
     "text": [
      "Saved /home/disk/sipn/nicway/data/model/dampedAnomalyTrend/forecast/param/2018_277_1979_2017_Alpha.nc\n",
      "Processing day of year 278\n",
      "    detrending current day...\n",
      "    detrending lagged day...\n",
      "    Calculating pearson r...\n"
     ]
    },
    {
     "name": "stderr",
     "output_type": "stream",
     "text": [
      "/home/disk/sipn/nicway/anaconda3/envs/esio/lib/python3.6/site-packages/dask/local.py:255: RuntimeWarning: invalid value encountered in true_divide\n",
      "  return func(*args2)\n"
     ]
    },
    {
     "name": "stdout",
     "output_type": "stream",
     "text": [
      "Saved /home/disk/sipn/nicway/data/model/dampedAnomalyTrend/forecast/param/2018_278_1979_2017_Alpha.nc\n",
      "Processing day of year 279\n",
      "    detrending current day...\n",
      "    detrending lagged day...\n",
      "    Calculating pearson r...\n"
     ]
    },
    {
     "name": "stderr",
     "output_type": "stream",
     "text": [
      "/home/disk/sipn/nicway/anaconda3/envs/esio/lib/python3.6/site-packages/dask/local.py:255: RuntimeWarning: invalid value encountered in true_divide\n",
      "  return func(*args2)\n"
     ]
    },
    {
     "name": "stdout",
     "output_type": "stream",
     "text": [
      "Saved /home/disk/sipn/nicway/data/model/dampedAnomalyTrend/forecast/param/2018_279_1979_2017_Alpha.nc\n",
      "Processing day of year 280\n",
      "    detrending current day...\n",
      "    detrending lagged day...\n",
      "    Calculating pearson r...\n"
     ]
    },
    {
     "name": "stderr",
     "output_type": "stream",
     "text": [
      "/home/disk/sipn/nicway/anaconda3/envs/esio/lib/python3.6/site-packages/dask/local.py:255: RuntimeWarning: invalid value encountered in true_divide\n",
      "  return func(*args2)\n"
     ]
    },
    {
     "name": "stdout",
     "output_type": "stream",
     "text": [
      "Saved /home/disk/sipn/nicway/data/model/dampedAnomalyTrend/forecast/param/2018_280_1979_2017_Alpha.nc\n",
      "Processing day of year 281\n",
      "    detrending current day...\n",
      "    detrending lagged day...\n",
      "    Calculating pearson r...\n"
     ]
    },
    {
     "name": "stderr",
     "output_type": "stream",
     "text": [
      "/home/disk/sipn/nicway/anaconda3/envs/esio/lib/python3.6/site-packages/dask/local.py:255: RuntimeWarning: invalid value encountered in true_divide\n",
      "  return func(*args2)\n"
     ]
    },
    {
     "name": "stdout",
     "output_type": "stream",
     "text": [
      "Saved /home/disk/sipn/nicway/data/model/dampedAnomalyTrend/forecast/param/2018_281_1979_2017_Alpha.nc\n",
      "Processing day of year 282\n",
      "    detrending current day...\n",
      "    detrending lagged day...\n",
      "    Calculating pearson r...\n"
     ]
    },
    {
     "name": "stderr",
     "output_type": "stream",
     "text": [
      "/home/disk/sipn/nicway/anaconda3/envs/esio/lib/python3.6/site-packages/dask/local.py:255: RuntimeWarning: invalid value encountered in true_divide\n",
      "  return func(*args2)\n"
     ]
    },
    {
     "name": "stdout",
     "output_type": "stream",
     "text": [
      "Saved /home/disk/sipn/nicway/data/model/dampedAnomalyTrend/forecast/param/2018_282_1979_2017_Alpha.nc\n",
      "Processing day of year 283\n",
      "    detrending current day...\n",
      "    detrending lagged day...\n",
      "    Calculating pearson r...\n"
     ]
    },
    {
     "name": "stderr",
     "output_type": "stream",
     "text": [
      "/home/disk/sipn/nicway/anaconda3/envs/esio/lib/python3.6/site-packages/dask/local.py:255: RuntimeWarning: invalid value encountered in true_divide\n",
      "  return func(*args2)\n"
     ]
    },
    {
     "name": "stdout",
     "output_type": "stream",
     "text": [
      "Saved /home/disk/sipn/nicway/data/model/dampedAnomalyTrend/forecast/param/2018_283_1979_2017_Alpha.nc\n",
      "Processing day of year 284\n",
      "    detrending current day...\n",
      "    detrending lagged day...\n",
      "    Calculating pearson r...\n"
     ]
    },
    {
     "name": "stderr",
     "output_type": "stream",
     "text": [
      "/home/disk/sipn/nicway/anaconda3/envs/esio/lib/python3.6/site-packages/dask/local.py:255: RuntimeWarning: invalid value encountered in true_divide\n",
      "  return func(*args2)\n"
     ]
    },
    {
     "name": "stdout",
     "output_type": "stream",
     "text": [
      "Saved /home/disk/sipn/nicway/data/model/dampedAnomalyTrend/forecast/param/2018_284_1979_2017_Alpha.nc\n",
      "Processing day of year 285\n",
      "    detrending current day...\n",
      "    detrending lagged day...\n",
      "    Calculating pearson r...\n"
     ]
    },
    {
     "name": "stderr",
     "output_type": "stream",
     "text": [
      "/home/disk/sipn/nicway/anaconda3/envs/esio/lib/python3.6/site-packages/dask/local.py:255: RuntimeWarning: invalid value encountered in true_divide\n",
      "  return func(*args2)\n"
     ]
    },
    {
     "name": "stdout",
     "output_type": "stream",
     "text": [
      "Saved /home/disk/sipn/nicway/data/model/dampedAnomalyTrend/forecast/param/2018_285_1979_2017_Alpha.nc\n",
      "Processing day of year 286\n",
      "    detrending current day...\n",
      "    detrending lagged day...\n",
      "    Calculating pearson r...\n"
     ]
    },
    {
     "name": "stderr",
     "output_type": "stream",
     "text": [
      "/home/disk/sipn/nicway/anaconda3/envs/esio/lib/python3.6/site-packages/dask/local.py:255: RuntimeWarning: invalid value encountered in true_divide\n",
      "  return func(*args2)\n"
     ]
    },
    {
     "name": "stdout",
     "output_type": "stream",
     "text": [
      "Saved /home/disk/sipn/nicway/data/model/dampedAnomalyTrend/forecast/param/2018_286_1979_2017_Alpha.nc\n",
      "Processing day of year 287\n",
      "    detrending current day...\n",
      "    detrending lagged day...\n",
      "    Calculating pearson r...\n"
     ]
    },
    {
     "name": "stderr",
     "output_type": "stream",
     "text": [
      "/home/disk/sipn/nicway/anaconda3/envs/esio/lib/python3.6/site-packages/dask/local.py:255: RuntimeWarning: invalid value encountered in true_divide\n",
      "  return func(*args2)\n"
     ]
    },
    {
     "name": "stdout",
     "output_type": "stream",
     "text": [
      "Saved /home/disk/sipn/nicway/data/model/dampedAnomalyTrend/forecast/param/2018_287_1979_2017_Alpha.nc\n",
      "Processing day of year 288\n",
      "    detrending current day...\n",
      "    detrending lagged day...\n",
      "    Calculating pearson r...\n"
     ]
    },
    {
     "name": "stderr",
     "output_type": "stream",
     "text": [
      "/home/disk/sipn/nicway/anaconda3/envs/esio/lib/python3.6/site-packages/dask/local.py:255: RuntimeWarning: invalid value encountered in true_divide\n",
      "  return func(*args2)\n"
     ]
    },
    {
     "name": "stdout",
     "output_type": "stream",
     "text": [
      "Saved /home/disk/sipn/nicway/data/model/dampedAnomalyTrend/forecast/param/2018_288_1979_2017_Alpha.nc\n",
      "Processing day of year 289\n",
      "    detrending current day...\n",
      "    detrending lagged day...\n",
      "    Calculating pearson r...\n"
     ]
    },
    {
     "name": "stderr",
     "output_type": "stream",
     "text": [
      "/home/disk/sipn/nicway/anaconda3/envs/esio/lib/python3.6/site-packages/dask/local.py:255: RuntimeWarning: invalid value encountered in true_divide\n",
      "  return func(*args2)\n"
     ]
    },
    {
     "name": "stdout",
     "output_type": "stream",
     "text": [
      "Saved /home/disk/sipn/nicway/data/model/dampedAnomalyTrend/forecast/param/2018_289_1979_2017_Alpha.nc\n",
      "Processing day of year 290\n",
      "    detrending current day...\n",
      "    detrending lagged day...\n",
      "    Calculating pearson r...\n"
     ]
    },
    {
     "name": "stderr",
     "output_type": "stream",
     "text": [
      "/home/disk/sipn/nicway/anaconda3/envs/esio/lib/python3.6/site-packages/dask/local.py:255: RuntimeWarning: invalid value encountered in true_divide\n",
      "  return func(*args2)\n"
     ]
    },
    {
     "name": "stdout",
     "output_type": "stream",
     "text": [
      "Saved /home/disk/sipn/nicway/data/model/dampedAnomalyTrend/forecast/param/2018_290_1979_2017_Alpha.nc\n",
      "Processing day of year 291\n",
      "    detrending current day...\n",
      "    detrending lagged day...\n",
      "    Calculating pearson r...\n"
     ]
    },
    {
     "name": "stderr",
     "output_type": "stream",
     "text": [
      "/home/disk/sipn/nicway/anaconda3/envs/esio/lib/python3.6/site-packages/dask/local.py:255: RuntimeWarning: invalid value encountered in true_divide\n",
      "  return func(*args2)\n"
     ]
    },
    {
     "name": "stdout",
     "output_type": "stream",
     "text": [
      "Saved /home/disk/sipn/nicway/data/model/dampedAnomalyTrend/forecast/param/2018_291_1979_2017_Alpha.nc\n",
      "Processing day of year 292\n",
      "    detrending current day...\n",
      "    detrending lagged day...\n",
      "    Calculating pearson r...\n"
     ]
    },
    {
     "name": "stderr",
     "output_type": "stream",
     "text": [
      "/home/disk/sipn/nicway/anaconda3/envs/esio/lib/python3.6/site-packages/dask/local.py:255: RuntimeWarning: invalid value encountered in true_divide\n",
      "  return func(*args2)\n"
     ]
    },
    {
     "name": "stdout",
     "output_type": "stream",
     "text": [
      "Saved /home/disk/sipn/nicway/data/model/dampedAnomalyTrend/forecast/param/2018_292_1979_2017_Alpha.nc\n",
      "Processing day of year 293\n",
      "    detrending current day...\n",
      "    detrending lagged day...\n",
      "    Calculating pearson r...\n"
     ]
    },
    {
     "name": "stderr",
     "output_type": "stream",
     "text": [
      "/home/disk/sipn/nicway/anaconda3/envs/esio/lib/python3.6/site-packages/dask/local.py:255: RuntimeWarning: invalid value encountered in true_divide\n",
      "  return func(*args2)\n"
     ]
    },
    {
     "name": "stdout",
     "output_type": "stream",
     "text": [
      "Saved /home/disk/sipn/nicway/data/model/dampedAnomalyTrend/forecast/param/2018_293_1979_2017_Alpha.nc\n",
      "Processing day of year 294\n",
      "    detrending current day...\n",
      "    detrending lagged day...\n",
      "    Calculating pearson r...\n"
     ]
    },
    {
     "name": "stderr",
     "output_type": "stream",
     "text": [
      "/home/disk/sipn/nicway/anaconda3/envs/esio/lib/python3.6/site-packages/dask/local.py:255: RuntimeWarning: invalid value encountered in true_divide\n",
      "  return func(*args2)\n"
     ]
    },
    {
     "name": "stdout",
     "output_type": "stream",
     "text": [
      "Saved /home/disk/sipn/nicway/data/model/dampedAnomalyTrend/forecast/param/2018_294_1979_2017_Alpha.nc\n",
      "Processing day of year 295\n",
      "    detrending current day...\n",
      "    detrending lagged day...\n",
      "    Calculating pearson r...\n"
     ]
    },
    {
     "name": "stderr",
     "output_type": "stream",
     "text": [
      "/home/disk/sipn/nicway/anaconda3/envs/esio/lib/python3.6/site-packages/dask/local.py:255: RuntimeWarning: invalid value encountered in true_divide\n",
      "  return func(*args2)\n"
     ]
    },
    {
     "name": "stdout",
     "output_type": "stream",
     "text": [
      "Saved /home/disk/sipn/nicway/data/model/dampedAnomalyTrend/forecast/param/2018_295_1979_2017_Alpha.nc\n",
      "Processing day of year 296\n",
      "    detrending current day...\n",
      "    detrending lagged day...\n",
      "    Calculating pearson r...\n"
     ]
    },
    {
     "name": "stderr",
     "output_type": "stream",
     "text": [
      "/home/disk/sipn/nicway/anaconda3/envs/esio/lib/python3.6/site-packages/dask/local.py:255: RuntimeWarning: invalid value encountered in true_divide\n",
      "  return func(*args2)\n"
     ]
    },
    {
     "name": "stdout",
     "output_type": "stream",
     "text": [
      "Saved /home/disk/sipn/nicway/data/model/dampedAnomalyTrend/forecast/param/2018_296_1979_2017_Alpha.nc\n",
      "Processing day of year 297\n",
      "    detrending current day...\n",
      "    detrending lagged day...\n",
      "    Calculating pearson r...\n"
     ]
    },
    {
     "name": "stderr",
     "output_type": "stream",
     "text": [
      "/home/disk/sipn/nicway/anaconda3/envs/esio/lib/python3.6/site-packages/dask/local.py:255: RuntimeWarning: invalid value encountered in true_divide\n",
      "  return func(*args2)\n"
     ]
    },
    {
     "name": "stdout",
     "output_type": "stream",
     "text": [
      "Saved /home/disk/sipn/nicway/data/model/dampedAnomalyTrend/forecast/param/2018_297_1979_2017_Alpha.nc\n",
      "Processing day of year 298\n",
      "    detrending current day...\n",
      "    detrending lagged day...\n",
      "    Calculating pearson r...\n"
     ]
    },
    {
     "name": "stderr",
     "output_type": "stream",
     "text": [
      "/home/disk/sipn/nicway/anaconda3/envs/esio/lib/python3.6/site-packages/dask/local.py:255: RuntimeWarning: invalid value encountered in true_divide\n",
      "  return func(*args2)\n"
     ]
    },
    {
     "name": "stdout",
     "output_type": "stream",
     "text": [
      "Saved /home/disk/sipn/nicway/data/model/dampedAnomalyTrend/forecast/param/2018_298_1979_2017_Alpha.nc\n",
      "Processing day of year 299\n",
      "    detrending current day...\n",
      "    detrending lagged day...\n",
      "    Calculating pearson r...\n"
     ]
    },
    {
     "name": "stderr",
     "output_type": "stream",
     "text": [
      "/home/disk/sipn/nicway/anaconda3/envs/esio/lib/python3.6/site-packages/dask/local.py:255: RuntimeWarning: invalid value encountered in true_divide\n",
      "  return func(*args2)\n"
     ]
    },
    {
     "name": "stdout",
     "output_type": "stream",
     "text": [
      "Saved /home/disk/sipn/nicway/data/model/dampedAnomalyTrend/forecast/param/2018_299_1979_2017_Alpha.nc\n",
      "Processing day of year 300\n",
      "    detrending current day...\n",
      "    detrending lagged day...\n",
      "    Calculating pearson r...\n"
     ]
    },
    {
     "name": "stderr",
     "output_type": "stream",
     "text": [
      "/home/disk/sipn/nicway/anaconda3/envs/esio/lib/python3.6/site-packages/dask/local.py:255: RuntimeWarning: invalid value encountered in true_divide\n",
      "  return func(*args2)\n"
     ]
    },
    {
     "name": "stdout",
     "output_type": "stream",
     "text": [
      "Saved /home/disk/sipn/nicway/data/model/dampedAnomalyTrend/forecast/param/2018_300_1979_2017_Alpha.nc\n",
      "Processing day of year 301\n",
      "    detrending current day...\n",
      "    detrending lagged day...\n",
      "    Calculating pearson r...\n"
     ]
    },
    {
     "name": "stderr",
     "output_type": "stream",
     "text": [
      "/home/disk/sipn/nicway/anaconda3/envs/esio/lib/python3.6/site-packages/dask/local.py:255: RuntimeWarning: invalid value encountered in true_divide\n",
      "  return func(*args2)\n"
     ]
    },
    {
     "name": "stdout",
     "output_type": "stream",
     "text": [
      "Saved /home/disk/sipn/nicway/data/model/dampedAnomalyTrend/forecast/param/2018_301_1979_2017_Alpha.nc\n",
      "Processing day of year 302\n",
      "    detrending current day...\n",
      "    detrending lagged day...\n",
      "    Calculating pearson r...\n"
     ]
    },
    {
     "name": "stderr",
     "output_type": "stream",
     "text": [
      "/home/disk/sipn/nicway/anaconda3/envs/esio/lib/python3.6/site-packages/dask/local.py:255: RuntimeWarning: invalid value encountered in true_divide\n",
      "  return func(*args2)\n"
     ]
    },
    {
     "name": "stdout",
     "output_type": "stream",
     "text": [
      "Saved /home/disk/sipn/nicway/data/model/dampedAnomalyTrend/forecast/param/2018_302_1979_2017_Alpha.nc\n",
      "Processing day of year 303\n",
      "    detrending current day...\n",
      "    detrending lagged day...\n",
      "    Calculating pearson r...\n"
     ]
    },
    {
     "name": "stderr",
     "output_type": "stream",
     "text": [
      "/home/disk/sipn/nicway/anaconda3/envs/esio/lib/python3.6/site-packages/dask/local.py:255: RuntimeWarning: invalid value encountered in true_divide\n",
      "  return func(*args2)\n"
     ]
    },
    {
     "name": "stdout",
     "output_type": "stream",
     "text": [
      "Saved /home/disk/sipn/nicway/data/model/dampedAnomalyTrend/forecast/param/2018_303_1979_2017_Alpha.nc\n",
      "Processing day of year 304\n",
      "    detrending current day...\n",
      "    detrending lagged day...\n",
      "    Calculating pearson r...\n"
     ]
    },
    {
     "name": "stderr",
     "output_type": "stream",
     "text": [
      "/home/disk/sipn/nicway/anaconda3/envs/esio/lib/python3.6/site-packages/dask/local.py:255: RuntimeWarning: invalid value encountered in true_divide\n",
      "  return func(*args2)\n"
     ]
    },
    {
     "name": "stdout",
     "output_type": "stream",
     "text": [
      "Saved /home/disk/sipn/nicway/data/model/dampedAnomalyTrend/forecast/param/2018_304_1979_2017_Alpha.nc\n",
      "Processing day of year 305\n",
      "    detrending current day...\n",
      "    detrending lagged day...\n",
      "    Calculating pearson r...\n"
     ]
    },
    {
     "name": "stderr",
     "output_type": "stream",
     "text": [
      "/home/disk/sipn/nicway/anaconda3/envs/esio/lib/python3.6/site-packages/dask/local.py:255: RuntimeWarning: invalid value encountered in true_divide\n",
      "  return func(*args2)\n"
     ]
    },
    {
     "name": "stdout",
     "output_type": "stream",
     "text": [
      "Saved /home/disk/sipn/nicway/data/model/dampedAnomalyTrend/forecast/param/2018_305_1979_2017_Alpha.nc\n",
      "Processing day of year 306\n",
      "    detrending current day...\n",
      "    detrending lagged day...\n",
      "    Calculating pearson r...\n"
     ]
    },
    {
     "name": "stderr",
     "output_type": "stream",
     "text": [
      "/home/disk/sipn/nicway/anaconda3/envs/esio/lib/python3.6/site-packages/dask/local.py:255: RuntimeWarning: invalid value encountered in true_divide\n",
      "  return func(*args2)\n"
     ]
    },
    {
     "name": "stdout",
     "output_type": "stream",
     "text": [
      "Saved /home/disk/sipn/nicway/data/model/dampedAnomalyTrend/forecast/param/2018_306_1979_2017_Alpha.nc\n",
      "Processing day of year 307\n",
      "    detrending current day...\n",
      "    detrending lagged day...\n",
      "    Calculating pearson r...\n"
     ]
    },
    {
     "name": "stderr",
     "output_type": "stream",
     "text": [
      "/home/disk/sipn/nicway/anaconda3/envs/esio/lib/python3.6/site-packages/dask/local.py:255: RuntimeWarning: invalid value encountered in true_divide\n",
      "  return func(*args2)\n"
     ]
    },
    {
     "name": "stdout",
     "output_type": "stream",
     "text": [
      "Saved /home/disk/sipn/nicway/data/model/dampedAnomalyTrend/forecast/param/2018_307_1979_2017_Alpha.nc\n",
      "Processing day of year 308\n",
      "    detrending current day...\n",
      "    detrending lagged day...\n",
      "    Calculating pearson r...\n"
     ]
    },
    {
     "name": "stderr",
     "output_type": "stream",
     "text": [
      "/home/disk/sipn/nicway/anaconda3/envs/esio/lib/python3.6/site-packages/dask/local.py:255: RuntimeWarning: invalid value encountered in true_divide\n",
      "  return func(*args2)\n"
     ]
    },
    {
     "name": "stdout",
     "output_type": "stream",
     "text": [
      "Saved /home/disk/sipn/nicway/data/model/dampedAnomalyTrend/forecast/param/2018_308_1979_2017_Alpha.nc\n",
      "Processing day of year 309\n",
      "    detrending current day...\n",
      "    detrending lagged day...\n",
      "    Calculating pearson r...\n"
     ]
    },
    {
     "name": "stderr",
     "output_type": "stream",
     "text": [
      "/home/disk/sipn/nicway/anaconda3/envs/esio/lib/python3.6/site-packages/dask/local.py:255: RuntimeWarning: invalid value encountered in true_divide\n",
      "  return func(*args2)\n"
     ]
    },
    {
     "name": "stdout",
     "output_type": "stream",
     "text": [
      "Saved /home/disk/sipn/nicway/data/model/dampedAnomalyTrend/forecast/param/2018_309_1979_2017_Alpha.nc\n",
      "Processing day of year 310\n",
      "    detrending current day...\n",
      "    detrending lagged day...\n",
      "    Calculating pearson r...\n"
     ]
    },
    {
     "name": "stderr",
     "output_type": "stream",
     "text": [
      "/home/disk/sipn/nicway/anaconda3/envs/esio/lib/python3.6/site-packages/dask/local.py:255: RuntimeWarning: invalid value encountered in true_divide\n",
      "  return func(*args2)\n"
     ]
    },
    {
     "name": "stdout",
     "output_type": "stream",
     "text": [
      "Saved /home/disk/sipn/nicway/data/model/dampedAnomalyTrend/forecast/param/2018_310_1979_2017_Alpha.nc\n",
      "Processing day of year 311\n",
      "    detrending current day...\n",
      "    detrending lagged day...\n",
      "    Calculating pearson r...\n"
     ]
    },
    {
     "name": "stderr",
     "output_type": "stream",
     "text": [
      "/home/disk/sipn/nicway/anaconda3/envs/esio/lib/python3.6/site-packages/dask/local.py:255: RuntimeWarning: invalid value encountered in true_divide\n",
      "  return func(*args2)\n"
     ]
    },
    {
     "name": "stdout",
     "output_type": "stream",
     "text": [
      "Saved /home/disk/sipn/nicway/data/model/dampedAnomalyTrend/forecast/param/2018_311_1979_2017_Alpha.nc\n",
      "Processing day of year 312\n",
      "    detrending current day...\n",
      "    detrending lagged day...\n",
      "    Calculating pearson r...\n"
     ]
    },
    {
     "name": "stderr",
     "output_type": "stream",
     "text": [
      "/home/disk/sipn/nicway/anaconda3/envs/esio/lib/python3.6/site-packages/dask/local.py:255: RuntimeWarning: invalid value encountered in true_divide\n",
      "  return func(*args2)\n"
     ]
    },
    {
     "name": "stdout",
     "output_type": "stream",
     "text": [
      "Saved /home/disk/sipn/nicway/data/model/dampedAnomalyTrend/forecast/param/2018_312_1979_2017_Alpha.nc\n",
      "Processing day of year 313\n",
      "    detrending current day...\n",
      "    detrending lagged day...\n",
      "    Calculating pearson r...\n"
     ]
    },
    {
     "name": "stderr",
     "output_type": "stream",
     "text": [
      "/home/disk/sipn/nicway/anaconda3/envs/esio/lib/python3.6/site-packages/dask/local.py:255: RuntimeWarning: invalid value encountered in true_divide\n",
      "  return func(*args2)\n"
     ]
    },
    {
     "name": "stdout",
     "output_type": "stream",
     "text": [
      "Saved /home/disk/sipn/nicway/data/model/dampedAnomalyTrend/forecast/param/2018_313_1979_2017_Alpha.nc\n",
      "Processing day of year 314\n",
      "    detrending current day...\n",
      "    detrending lagged day...\n",
      "    Calculating pearson r...\n"
     ]
    },
    {
     "name": "stderr",
     "output_type": "stream",
     "text": [
      "/home/disk/sipn/nicway/anaconda3/envs/esio/lib/python3.6/site-packages/dask/local.py:255: RuntimeWarning: invalid value encountered in true_divide\n",
      "  return func(*args2)\n"
     ]
    },
    {
     "name": "stdout",
     "output_type": "stream",
     "text": [
      "Saved /home/disk/sipn/nicway/data/model/dampedAnomalyTrend/forecast/param/2018_314_1979_2017_Alpha.nc\n",
      "Processing day of year 315\n",
      "    detrending current day...\n",
      "    detrending lagged day...\n",
      "    Calculating pearson r...\n"
     ]
    },
    {
     "name": "stderr",
     "output_type": "stream",
     "text": [
      "/home/disk/sipn/nicway/anaconda3/envs/esio/lib/python3.6/site-packages/dask/local.py:255: RuntimeWarning: invalid value encountered in true_divide\n",
      "  return func(*args2)\n"
     ]
    },
    {
     "name": "stdout",
     "output_type": "stream",
     "text": [
      "Saved /home/disk/sipn/nicway/data/model/dampedAnomalyTrend/forecast/param/2018_315_1979_2017_Alpha.nc\n",
      "Processing day of year 316\n",
      "    detrending current day...\n",
      "    detrending lagged day...\n",
      "    Calculating pearson r...\n"
     ]
    },
    {
     "name": "stderr",
     "output_type": "stream",
     "text": [
      "/home/disk/sipn/nicway/anaconda3/envs/esio/lib/python3.6/site-packages/dask/local.py:255: RuntimeWarning: invalid value encountered in true_divide\n",
      "  return func(*args2)\n"
     ]
    },
    {
     "name": "stdout",
     "output_type": "stream",
     "text": [
      "Saved /home/disk/sipn/nicway/data/model/dampedAnomalyTrend/forecast/param/2018_316_1979_2017_Alpha.nc\n",
      "Processing day of year 317\n",
      "    detrending current day...\n",
      "    detrending lagged day...\n",
      "    Calculating pearson r...\n"
     ]
    },
    {
     "name": "stderr",
     "output_type": "stream",
     "text": [
      "/home/disk/sipn/nicway/anaconda3/envs/esio/lib/python3.6/site-packages/dask/local.py:255: RuntimeWarning: invalid value encountered in true_divide\n",
      "  return func(*args2)\n"
     ]
    },
    {
     "name": "stdout",
     "output_type": "stream",
     "text": [
      "Saved /home/disk/sipn/nicway/data/model/dampedAnomalyTrend/forecast/param/2018_317_1979_2017_Alpha.nc\n",
      "Processing day of year 318\n",
      "    detrending current day...\n",
      "    detrending lagged day...\n",
      "    Calculating pearson r...\n"
     ]
    },
    {
     "name": "stderr",
     "output_type": "stream",
     "text": [
      "/home/disk/sipn/nicway/anaconda3/envs/esio/lib/python3.6/site-packages/dask/local.py:255: RuntimeWarning: invalid value encountered in true_divide\n",
      "  return func(*args2)\n"
     ]
    },
    {
     "name": "stdout",
     "output_type": "stream",
     "text": [
      "Saved /home/disk/sipn/nicway/data/model/dampedAnomalyTrend/forecast/param/2018_318_1979_2017_Alpha.nc\n",
      "Processing day of year 319\n",
      "    detrending current day...\n",
      "    detrending lagged day...\n",
      "    Calculating pearson r...\n"
     ]
    },
    {
     "name": "stderr",
     "output_type": "stream",
     "text": [
      "/home/disk/sipn/nicway/anaconda3/envs/esio/lib/python3.6/site-packages/dask/local.py:255: RuntimeWarning: invalid value encountered in true_divide\n",
      "  return func(*args2)\n"
     ]
    },
    {
     "name": "stdout",
     "output_type": "stream",
     "text": [
      "Saved /home/disk/sipn/nicway/data/model/dampedAnomalyTrend/forecast/param/2018_319_1979_2017_Alpha.nc\n",
      "Processing day of year 320\n",
      "    detrending current day...\n",
      "    detrending lagged day...\n",
      "    Calculating pearson r...\n"
     ]
    },
    {
     "name": "stderr",
     "output_type": "stream",
     "text": [
      "/home/disk/sipn/nicway/anaconda3/envs/esio/lib/python3.6/site-packages/dask/local.py:255: RuntimeWarning: invalid value encountered in true_divide\n",
      "  return func(*args2)\n"
     ]
    },
    {
     "name": "stdout",
     "output_type": "stream",
     "text": [
      "Saved /home/disk/sipn/nicway/data/model/dampedAnomalyTrend/forecast/param/2018_320_1979_2017_Alpha.nc\n",
      "Processing day of year 321\n",
      "    detrending current day...\n",
      "    detrending lagged day...\n",
      "    Calculating pearson r...\n"
     ]
    },
    {
     "name": "stderr",
     "output_type": "stream",
     "text": [
      "/home/disk/sipn/nicway/anaconda3/envs/esio/lib/python3.6/site-packages/dask/local.py:255: RuntimeWarning: invalid value encountered in true_divide\n",
      "  return func(*args2)\n"
     ]
    },
    {
     "name": "stdout",
     "output_type": "stream",
     "text": [
      "Saved /home/disk/sipn/nicway/data/model/dampedAnomalyTrend/forecast/param/2018_321_1979_2017_Alpha.nc\n",
      "Processing day of year 322\n",
      "    detrending current day...\n",
      "    detrending lagged day...\n",
      "    Calculating pearson r...\n"
     ]
    },
    {
     "name": "stderr",
     "output_type": "stream",
     "text": [
      "/home/disk/sipn/nicway/anaconda3/envs/esio/lib/python3.6/site-packages/dask/local.py:255: RuntimeWarning: invalid value encountered in true_divide\n",
      "  return func(*args2)\n"
     ]
    },
    {
     "name": "stdout",
     "output_type": "stream",
     "text": [
      "Saved /home/disk/sipn/nicway/data/model/dampedAnomalyTrend/forecast/param/2018_322_1979_2017_Alpha.nc\n",
      "Processing day of year 323\n",
      "    detrending current day...\n",
      "    detrending lagged day...\n",
      "    Calculating pearson r...\n"
     ]
    },
    {
     "name": "stderr",
     "output_type": "stream",
     "text": [
      "/home/disk/sipn/nicway/anaconda3/envs/esio/lib/python3.6/site-packages/dask/local.py:255: RuntimeWarning: invalid value encountered in true_divide\n",
      "  return func(*args2)\n"
     ]
    },
    {
     "name": "stdout",
     "output_type": "stream",
     "text": [
      "Saved /home/disk/sipn/nicway/data/model/dampedAnomalyTrend/forecast/param/2018_323_1979_2017_Alpha.nc\n",
      "Processing day of year 324\n",
      "    detrending current day...\n",
      "    detrending lagged day...\n",
      "    Calculating pearson r...\n"
     ]
    },
    {
     "name": "stderr",
     "output_type": "stream",
     "text": [
      "/home/disk/sipn/nicway/anaconda3/envs/esio/lib/python3.6/site-packages/dask/local.py:255: RuntimeWarning: invalid value encountered in true_divide\n",
      "  return func(*args2)\n"
     ]
    },
    {
     "name": "stdout",
     "output_type": "stream",
     "text": [
      "Saved /home/disk/sipn/nicway/data/model/dampedAnomalyTrend/forecast/param/2018_324_1979_2017_Alpha.nc\n",
      "Processing day of year 325\n",
      "    detrending current day...\n",
      "    detrending lagged day...\n",
      "    Calculating pearson r...\n"
     ]
    },
    {
     "name": "stderr",
     "output_type": "stream",
     "text": [
      "/home/disk/sipn/nicway/anaconda3/envs/esio/lib/python3.6/site-packages/dask/local.py:255: RuntimeWarning: invalid value encountered in true_divide\n",
      "  return func(*args2)\n"
     ]
    },
    {
     "name": "stdout",
     "output_type": "stream",
     "text": [
      "Saved /home/disk/sipn/nicway/data/model/dampedAnomalyTrend/forecast/param/2018_325_1979_2017_Alpha.nc\n",
      "Processing day of year 326\n",
      "    detrending current day...\n",
      "    detrending lagged day...\n",
      "    Calculating pearson r...\n"
     ]
    },
    {
     "name": "stderr",
     "output_type": "stream",
     "text": [
      "/home/disk/sipn/nicway/anaconda3/envs/esio/lib/python3.6/site-packages/dask/local.py:255: RuntimeWarning: invalid value encountered in true_divide\n",
      "  return func(*args2)\n"
     ]
    },
    {
     "name": "stdout",
     "output_type": "stream",
     "text": [
      "Saved /home/disk/sipn/nicway/data/model/dampedAnomalyTrend/forecast/param/2018_326_1979_2017_Alpha.nc\n",
      "Processing day of year 327\n",
      "    detrending current day...\n",
      "    detrending lagged day...\n",
      "    Calculating pearson r...\n"
     ]
    },
    {
     "name": "stderr",
     "output_type": "stream",
     "text": [
      "/home/disk/sipn/nicway/anaconda3/envs/esio/lib/python3.6/site-packages/dask/local.py:255: RuntimeWarning: invalid value encountered in true_divide\n",
      "  return func(*args2)\n"
     ]
    },
    {
     "name": "stdout",
     "output_type": "stream",
     "text": [
      "Saved /home/disk/sipn/nicway/data/model/dampedAnomalyTrend/forecast/param/2018_327_1979_2017_Alpha.nc\n",
      "Processing day of year 328\n",
      "    detrending current day...\n",
      "    detrending lagged day...\n",
      "    Calculating pearson r...\n"
     ]
    },
    {
     "name": "stderr",
     "output_type": "stream",
     "text": [
      "/home/disk/sipn/nicway/anaconda3/envs/esio/lib/python3.6/site-packages/dask/local.py:255: RuntimeWarning: invalid value encountered in true_divide\n",
      "  return func(*args2)\n"
     ]
    },
    {
     "name": "stdout",
     "output_type": "stream",
     "text": [
      "Saved /home/disk/sipn/nicway/data/model/dampedAnomalyTrend/forecast/param/2018_328_1979_2017_Alpha.nc\n",
      "Processing day of year 329\n",
      "    detrending current day...\n",
      "    detrending lagged day...\n",
      "    Calculating pearson r...\n"
     ]
    },
    {
     "name": "stderr",
     "output_type": "stream",
     "text": [
      "/home/disk/sipn/nicway/anaconda3/envs/esio/lib/python3.6/site-packages/dask/local.py:255: RuntimeWarning: invalid value encountered in true_divide\n",
      "  return func(*args2)\n"
     ]
    },
    {
     "name": "stdout",
     "output_type": "stream",
     "text": [
      "Saved /home/disk/sipn/nicway/data/model/dampedAnomalyTrend/forecast/param/2018_329_1979_2017_Alpha.nc\n",
      "Processing day of year 330\n",
      "    detrending current day...\n",
      "    detrending lagged day...\n",
      "    Calculating pearson r...\n"
     ]
    },
    {
     "name": "stderr",
     "output_type": "stream",
     "text": [
      "/home/disk/sipn/nicway/anaconda3/envs/esio/lib/python3.6/site-packages/dask/local.py:255: RuntimeWarning: invalid value encountered in true_divide\n",
      "  return func(*args2)\n"
     ]
    },
    {
     "name": "stdout",
     "output_type": "stream",
     "text": [
      "Saved /home/disk/sipn/nicway/data/model/dampedAnomalyTrend/forecast/param/2018_330_1979_2017_Alpha.nc\n",
      "Processing day of year 331\n",
      "    detrending current day...\n",
      "    detrending lagged day...\n",
      "    Calculating pearson r...\n"
     ]
    },
    {
     "name": "stderr",
     "output_type": "stream",
     "text": [
      "/home/disk/sipn/nicway/anaconda3/envs/esio/lib/python3.6/site-packages/dask/local.py:255: RuntimeWarning: invalid value encountered in true_divide\n",
      "  return func(*args2)\n"
     ]
    },
    {
     "name": "stdout",
     "output_type": "stream",
     "text": [
      "Saved /home/disk/sipn/nicway/data/model/dampedAnomalyTrend/forecast/param/2018_331_1979_2017_Alpha.nc\n",
      "Processing day of year 332\n",
      "    detrending current day...\n",
      "    detrending lagged day...\n",
      "    Calculating pearson r...\n"
     ]
    },
    {
     "name": "stderr",
     "output_type": "stream",
     "text": [
      "/home/disk/sipn/nicway/anaconda3/envs/esio/lib/python3.6/site-packages/dask/local.py:255: RuntimeWarning: invalid value encountered in true_divide\n",
      "  return func(*args2)\n"
     ]
    },
    {
     "name": "stdout",
     "output_type": "stream",
     "text": [
      "Saved /home/disk/sipn/nicway/data/model/dampedAnomalyTrend/forecast/param/2018_332_1979_2017_Alpha.nc\n",
      "Processing day of year 333\n",
      "    detrending current day...\n",
      "    detrending lagged day...\n",
      "    Calculating pearson r...\n"
     ]
    },
    {
     "name": "stderr",
     "output_type": "stream",
     "text": [
      "/home/disk/sipn/nicway/anaconda3/envs/esio/lib/python3.6/site-packages/dask/local.py:255: RuntimeWarning: invalid value encountered in true_divide\n",
      "  return func(*args2)\n"
     ]
    },
    {
     "name": "stdout",
     "output_type": "stream",
     "text": [
      "Saved /home/disk/sipn/nicway/data/model/dampedAnomalyTrend/forecast/param/2018_333_1979_2017_Alpha.nc\n",
      "Processing day of year 334\n",
      "    detrending current day...\n",
      "    detrending lagged day...\n",
      "    Calculating pearson r...\n"
     ]
    },
    {
     "name": "stderr",
     "output_type": "stream",
     "text": [
      "/home/disk/sipn/nicway/anaconda3/envs/esio/lib/python3.6/site-packages/dask/local.py:255: RuntimeWarning: invalid value encountered in true_divide\n",
      "  return func(*args2)\n"
     ]
    },
    {
     "name": "stdout",
     "output_type": "stream",
     "text": [
      "Saved /home/disk/sipn/nicway/data/model/dampedAnomalyTrend/forecast/param/2018_334_1979_2017_Alpha.nc\n",
      "Processing day of year 335\n",
      "    detrending current day...\n",
      "    detrending lagged day...\n",
      "    Calculating pearson r...\n"
     ]
    },
    {
     "name": "stderr",
     "output_type": "stream",
     "text": [
      "/home/disk/sipn/nicway/anaconda3/envs/esio/lib/python3.6/site-packages/dask/local.py:255: RuntimeWarning: invalid value encountered in true_divide\n",
      "  return func(*args2)\n"
     ]
    },
    {
     "name": "stdout",
     "output_type": "stream",
     "text": [
      "Saved /home/disk/sipn/nicway/data/model/dampedAnomalyTrend/forecast/param/2018_335_1979_2017_Alpha.nc\n",
      "Processing day of year 336\n",
      "    detrending current day...\n",
      "    detrending lagged day...\n",
      "    Calculating pearson r...\n"
     ]
    },
    {
     "name": "stderr",
     "output_type": "stream",
     "text": [
      "/home/disk/sipn/nicway/anaconda3/envs/esio/lib/python3.6/site-packages/dask/local.py:255: RuntimeWarning: invalid value encountered in true_divide\n",
      "  return func(*args2)\n"
     ]
    },
    {
     "name": "stdout",
     "output_type": "stream",
     "text": [
      "Saved /home/disk/sipn/nicway/data/model/dampedAnomalyTrend/forecast/param/2018_336_1979_2017_Alpha.nc\n",
      "Processing day of year 337\n",
      "    detrending current day...\n",
      "    detrending lagged day...\n",
      "    Calculating pearson r...\n"
     ]
    },
    {
     "name": "stderr",
     "output_type": "stream",
     "text": [
      "/home/disk/sipn/nicway/anaconda3/envs/esio/lib/python3.6/site-packages/dask/local.py:255: RuntimeWarning: invalid value encountered in true_divide\n",
      "  return func(*args2)\n"
     ]
    },
    {
     "name": "stdout",
     "output_type": "stream",
     "text": [
      "Saved /home/disk/sipn/nicway/data/model/dampedAnomalyTrend/forecast/param/2018_337_1979_2017_Alpha.nc\n",
      "Processing day of year 338\n",
      "    detrending current day...\n",
      "    detrending lagged day...\n",
      "    Calculating pearson r...\n"
     ]
    },
    {
     "name": "stderr",
     "output_type": "stream",
     "text": [
      "/home/disk/sipn/nicway/anaconda3/envs/esio/lib/python3.6/site-packages/dask/local.py:255: RuntimeWarning: invalid value encountered in true_divide\n",
      "  return func(*args2)\n"
     ]
    },
    {
     "name": "stdout",
     "output_type": "stream",
     "text": [
      "Saved /home/disk/sipn/nicway/data/model/dampedAnomalyTrend/forecast/param/2018_338_1979_2017_Alpha.nc\n",
      "Processing day of year 339\n",
      "    detrending current day...\n",
      "    detrending lagged day...\n",
      "    Calculating pearson r...\n"
     ]
    },
    {
     "name": "stderr",
     "output_type": "stream",
     "text": [
      "/home/disk/sipn/nicway/anaconda3/envs/esio/lib/python3.6/site-packages/dask/local.py:255: RuntimeWarning: invalid value encountered in true_divide\n",
      "  return func(*args2)\n"
     ]
    },
    {
     "name": "stdout",
     "output_type": "stream",
     "text": [
      "Saved /home/disk/sipn/nicway/data/model/dampedAnomalyTrend/forecast/param/2018_339_1979_2017_Alpha.nc\n",
      "Processing day of year 340\n",
      "    detrending current day...\n",
      "    detrending lagged day...\n",
      "    Calculating pearson r...\n"
     ]
    },
    {
     "name": "stderr",
     "output_type": "stream",
     "text": [
      "/home/disk/sipn/nicway/anaconda3/envs/esio/lib/python3.6/site-packages/dask/local.py:255: RuntimeWarning: invalid value encountered in true_divide\n",
      "  return func(*args2)\n"
     ]
    },
    {
     "name": "stdout",
     "output_type": "stream",
     "text": [
      "Saved /home/disk/sipn/nicway/data/model/dampedAnomalyTrend/forecast/param/2018_340_1979_2017_Alpha.nc\n",
      "Processing day of year 341\n",
      "    detrending current day...\n",
      "    detrending lagged day...\n",
      "    Calculating pearson r...\n"
     ]
    },
    {
     "name": "stderr",
     "output_type": "stream",
     "text": [
      "/home/disk/sipn/nicway/anaconda3/envs/esio/lib/python3.6/site-packages/dask/local.py:255: RuntimeWarning: invalid value encountered in true_divide\n",
      "  return func(*args2)\n"
     ]
    },
    {
     "name": "stdout",
     "output_type": "stream",
     "text": [
      "Saved /home/disk/sipn/nicway/data/model/dampedAnomalyTrend/forecast/param/2018_341_1979_2017_Alpha.nc\n",
      "Processing day of year 342\n",
      "    detrending current day...\n",
      "    detrending lagged day...\n",
      "    Calculating pearson r...\n"
     ]
    },
    {
     "name": "stderr",
     "output_type": "stream",
     "text": [
      "/home/disk/sipn/nicway/anaconda3/envs/esio/lib/python3.6/site-packages/dask/local.py:255: RuntimeWarning: invalid value encountered in true_divide\n",
      "  return func(*args2)\n"
     ]
    },
    {
     "name": "stdout",
     "output_type": "stream",
     "text": [
      "Saved /home/disk/sipn/nicway/data/model/dampedAnomalyTrend/forecast/param/2018_342_1979_2017_Alpha.nc\n",
      "Processing day of year 343\n",
      "    detrending current day...\n",
      "    detrending lagged day...\n",
      "    Calculating pearson r...\n"
     ]
    },
    {
     "name": "stderr",
     "output_type": "stream",
     "text": [
      "/home/disk/sipn/nicway/anaconda3/envs/esio/lib/python3.6/site-packages/dask/local.py:255: RuntimeWarning: invalid value encountered in true_divide\n",
      "  return func(*args2)\n"
     ]
    },
    {
     "name": "stdout",
     "output_type": "stream",
     "text": [
      "Saved /home/disk/sipn/nicway/data/model/dampedAnomalyTrend/forecast/param/2018_343_1979_2017_Alpha.nc\n",
      "Processing day of year 344\n",
      "    detrending current day...\n",
      "    detrending lagged day...\n",
      "    Calculating pearson r...\n"
     ]
    },
    {
     "name": "stderr",
     "output_type": "stream",
     "text": [
      "/home/disk/sipn/nicway/anaconda3/envs/esio/lib/python3.6/site-packages/dask/local.py:255: RuntimeWarning: invalid value encountered in true_divide\n",
      "  return func(*args2)\n"
     ]
    },
    {
     "name": "stdout",
     "output_type": "stream",
     "text": [
      "Saved /home/disk/sipn/nicway/data/model/dampedAnomalyTrend/forecast/param/2018_344_1979_2017_Alpha.nc\n",
      "Processing day of year 345\n",
      "    detrending current day...\n",
      "    detrending lagged day...\n",
      "    Calculating pearson r...\n"
     ]
    },
    {
     "name": "stderr",
     "output_type": "stream",
     "text": [
      "/home/disk/sipn/nicway/anaconda3/envs/esio/lib/python3.6/site-packages/dask/local.py:255: RuntimeWarning: invalid value encountered in true_divide\n",
      "  return func(*args2)\n"
     ]
    },
    {
     "name": "stdout",
     "output_type": "stream",
     "text": [
      "Saved /home/disk/sipn/nicway/data/model/dampedAnomalyTrend/forecast/param/2018_345_1979_2017_Alpha.nc\n",
      "Processing day of year 346\n",
      "    detrending current day...\n",
      "    detrending lagged day...\n",
      "    Calculating pearson r...\n"
     ]
    },
    {
     "name": "stderr",
     "output_type": "stream",
     "text": [
      "/home/disk/sipn/nicway/anaconda3/envs/esio/lib/python3.6/site-packages/dask/local.py:255: RuntimeWarning: invalid value encountered in true_divide\n",
      "  return func(*args2)\n"
     ]
    },
    {
     "name": "stdout",
     "output_type": "stream",
     "text": [
      "Saved /home/disk/sipn/nicway/data/model/dampedAnomalyTrend/forecast/param/2018_346_1979_2017_Alpha.nc\n",
      "Processing day of year 347\n",
      "    detrending current day...\n",
      "    detrending lagged day...\n",
      "    Calculating pearson r...\n"
     ]
    },
    {
     "name": "stderr",
     "output_type": "stream",
     "text": [
      "/home/disk/sipn/nicway/anaconda3/envs/esio/lib/python3.6/site-packages/dask/local.py:255: RuntimeWarning: invalid value encountered in true_divide\n",
      "  return func(*args2)\n"
     ]
    },
    {
     "name": "stdout",
     "output_type": "stream",
     "text": [
      "Saved /home/disk/sipn/nicway/data/model/dampedAnomalyTrend/forecast/param/2018_347_1979_2017_Alpha.nc\n",
      "Processing day of year 348\n",
      "    detrending current day...\n",
      "    detrending lagged day...\n",
      "    Calculating pearson r...\n"
     ]
    },
    {
     "name": "stderr",
     "output_type": "stream",
     "text": [
      "/home/disk/sipn/nicway/anaconda3/envs/esio/lib/python3.6/site-packages/dask/local.py:255: RuntimeWarning: invalid value encountered in true_divide\n",
      "  return func(*args2)\n"
     ]
    },
    {
     "name": "stdout",
     "output_type": "stream",
     "text": [
      "Saved /home/disk/sipn/nicway/data/model/dampedAnomalyTrend/forecast/param/2018_348_1979_2017_Alpha.nc\n",
      "Processing day of year 349\n",
      "    detrending current day...\n",
      "    detrending lagged day...\n",
      "    Calculating pearson r...\n"
     ]
    },
    {
     "name": "stderr",
     "output_type": "stream",
     "text": [
      "/home/disk/sipn/nicway/anaconda3/envs/esio/lib/python3.6/site-packages/dask/local.py:255: RuntimeWarning: invalid value encountered in true_divide\n",
      "  return func(*args2)\n"
     ]
    },
    {
     "name": "stdout",
     "output_type": "stream",
     "text": [
      "Saved /home/disk/sipn/nicway/data/model/dampedAnomalyTrend/forecast/param/2018_349_1979_2017_Alpha.nc\n",
      "Processing day of year 350\n",
      "    detrending current day...\n",
      "    detrending lagged day...\n",
      "    Calculating pearson r...\n"
     ]
    },
    {
     "name": "stderr",
     "output_type": "stream",
     "text": [
      "/home/disk/sipn/nicway/anaconda3/envs/esio/lib/python3.6/site-packages/dask/local.py:255: RuntimeWarning: invalid value encountered in true_divide\n",
      "  return func(*args2)\n"
     ]
    },
    {
     "name": "stdout",
     "output_type": "stream",
     "text": [
      "Saved /home/disk/sipn/nicway/data/model/dampedAnomalyTrend/forecast/param/2018_350_1979_2017_Alpha.nc\n",
      "Processing day of year 351\n",
      "    detrending current day...\n",
      "    detrending lagged day...\n",
      "    Calculating pearson r...\n"
     ]
    },
    {
     "name": "stderr",
     "output_type": "stream",
     "text": [
      "/home/disk/sipn/nicway/anaconda3/envs/esio/lib/python3.6/site-packages/dask/local.py:255: RuntimeWarning: invalid value encountered in true_divide\n",
      "  return func(*args2)\n"
     ]
    },
    {
     "name": "stdout",
     "output_type": "stream",
     "text": [
      "Saved /home/disk/sipn/nicway/data/model/dampedAnomalyTrend/forecast/param/2018_351_1979_2017_Alpha.nc\n",
      "Processing day of year 352\n",
      "    detrending current day...\n",
      "    detrending lagged day...\n",
      "    Calculating pearson r...\n"
     ]
    },
    {
     "name": "stderr",
     "output_type": "stream",
     "text": [
      "/home/disk/sipn/nicway/anaconda3/envs/esio/lib/python3.6/site-packages/dask/local.py:255: RuntimeWarning: invalid value encountered in true_divide\n",
      "  return func(*args2)\n"
     ]
    },
    {
     "name": "stdout",
     "output_type": "stream",
     "text": [
      "Saved /home/disk/sipn/nicway/data/model/dampedAnomalyTrend/forecast/param/2018_352_1979_2017_Alpha.nc\n",
      "Processing day of year 353\n",
      "    detrending current day...\n",
      "    detrending lagged day...\n",
      "    Calculating pearson r...\n"
     ]
    },
    {
     "name": "stderr",
     "output_type": "stream",
     "text": [
      "/home/disk/sipn/nicway/anaconda3/envs/esio/lib/python3.6/site-packages/dask/local.py:255: RuntimeWarning: invalid value encountered in true_divide\n",
      "  return func(*args2)\n"
     ]
    },
    {
     "name": "stdout",
     "output_type": "stream",
     "text": [
      "Saved /home/disk/sipn/nicway/data/model/dampedAnomalyTrend/forecast/param/2018_353_1979_2017_Alpha.nc\n",
      "Processing day of year 354\n",
      "    detrending current day...\n",
      "    detrending lagged day...\n",
      "    Calculating pearson r...\n"
     ]
    },
    {
     "name": "stderr",
     "output_type": "stream",
     "text": [
      "/home/disk/sipn/nicway/anaconda3/envs/esio/lib/python3.6/site-packages/dask/local.py:255: RuntimeWarning: invalid value encountered in true_divide\n",
      "  return func(*args2)\n"
     ]
    },
    {
     "name": "stdout",
     "output_type": "stream",
     "text": [
      "Saved /home/disk/sipn/nicway/data/model/dampedAnomalyTrend/forecast/param/2018_354_1979_2017_Alpha.nc\n",
      "Processing day of year 355\n",
      "    detrending current day...\n",
      "    detrending lagged day...\n",
      "    Calculating pearson r...\n"
     ]
    },
    {
     "name": "stderr",
     "output_type": "stream",
     "text": [
      "/home/disk/sipn/nicway/anaconda3/envs/esio/lib/python3.6/site-packages/dask/local.py:255: RuntimeWarning: invalid value encountered in true_divide\n",
      "  return func(*args2)\n"
     ]
    },
    {
     "name": "stdout",
     "output_type": "stream",
     "text": [
      "Saved /home/disk/sipn/nicway/data/model/dampedAnomalyTrend/forecast/param/2018_355_1979_2017_Alpha.nc\n",
      "Processing day of year 356\n",
      "    detrending current day...\n",
      "    detrending lagged day...\n",
      "    Calculating pearson r...\n"
     ]
    },
    {
     "name": "stderr",
     "output_type": "stream",
     "text": [
      "/home/disk/sipn/nicway/anaconda3/envs/esio/lib/python3.6/site-packages/dask/local.py:255: RuntimeWarning: invalid value encountered in true_divide\n",
      "  return func(*args2)\n"
     ]
    },
    {
     "name": "stdout",
     "output_type": "stream",
     "text": [
      "Saved /home/disk/sipn/nicway/data/model/dampedAnomalyTrend/forecast/param/2018_356_1979_2017_Alpha.nc\n",
      "Processing day of year 357\n",
      "    detrending current day...\n",
      "    detrending lagged day...\n",
      "    Calculating pearson r...\n"
     ]
    },
    {
     "name": "stderr",
     "output_type": "stream",
     "text": [
      "/home/disk/sipn/nicway/anaconda3/envs/esio/lib/python3.6/site-packages/dask/local.py:255: RuntimeWarning: invalid value encountered in true_divide\n",
      "  return func(*args2)\n"
     ]
    },
    {
     "name": "stdout",
     "output_type": "stream",
     "text": [
      "Saved /home/disk/sipn/nicway/data/model/dampedAnomalyTrend/forecast/param/2018_357_1979_2017_Alpha.nc\n",
      "Processing day of year 358\n",
      "    detrending current day...\n",
      "    detrending lagged day...\n",
      "    Calculating pearson r...\n"
     ]
    },
    {
     "name": "stderr",
     "output_type": "stream",
     "text": [
      "/home/disk/sipn/nicway/anaconda3/envs/esio/lib/python3.6/site-packages/dask/local.py:255: RuntimeWarning: invalid value encountered in true_divide\n",
      "  return func(*args2)\n"
     ]
    },
    {
     "name": "stdout",
     "output_type": "stream",
     "text": [
      "Saved /home/disk/sipn/nicway/data/model/dampedAnomalyTrend/forecast/param/2018_358_1979_2017_Alpha.nc\n",
      "Processing day of year 359\n",
      "    detrending current day...\n",
      "    detrending lagged day...\n",
      "    Calculating pearson r...\n"
     ]
    },
    {
     "name": "stderr",
     "output_type": "stream",
     "text": [
      "/home/disk/sipn/nicway/anaconda3/envs/esio/lib/python3.6/site-packages/dask/local.py:255: RuntimeWarning: invalid value encountered in true_divide\n",
      "  return func(*args2)\n"
     ]
    },
    {
     "name": "stdout",
     "output_type": "stream",
     "text": [
      "Saved /home/disk/sipn/nicway/data/model/dampedAnomalyTrend/forecast/param/2018_359_1979_2017_Alpha.nc\n",
      "Processing day of year 360\n",
      "    detrending current day...\n",
      "    detrending lagged day...\n",
      "    Calculating pearson r...\n"
     ]
    },
    {
     "name": "stderr",
     "output_type": "stream",
     "text": [
      "/home/disk/sipn/nicway/anaconda3/envs/esio/lib/python3.6/site-packages/dask/local.py:255: RuntimeWarning: invalid value encountered in true_divide\n",
      "  return func(*args2)\n"
     ]
    },
    {
     "name": "stdout",
     "output_type": "stream",
     "text": [
      "Saved /home/disk/sipn/nicway/data/model/dampedAnomalyTrend/forecast/param/2018_360_1979_2017_Alpha.nc\n",
      "Processing day of year 361\n",
      "    detrending current day...\n",
      "    detrending lagged day...\n",
      "    Calculating pearson r...\n"
     ]
    },
    {
     "name": "stderr",
     "output_type": "stream",
     "text": [
      "/home/disk/sipn/nicway/anaconda3/envs/esio/lib/python3.6/site-packages/dask/local.py:255: RuntimeWarning: invalid value encountered in true_divide\n",
      "  return func(*args2)\n"
     ]
    },
    {
     "name": "stdout",
     "output_type": "stream",
     "text": [
      "Saved /home/disk/sipn/nicway/data/model/dampedAnomalyTrend/forecast/param/2018_361_1979_2017_Alpha.nc\n",
      "Processing day of year 362\n",
      "    detrending current day...\n",
      "    detrending lagged day...\n",
      "    Calculating pearson r...\n"
     ]
    },
    {
     "name": "stderr",
     "output_type": "stream",
     "text": [
      "/home/disk/sipn/nicway/anaconda3/envs/esio/lib/python3.6/site-packages/dask/local.py:255: RuntimeWarning: invalid value encountered in true_divide\n",
      "  return func(*args2)\n"
     ]
    },
    {
     "name": "stdout",
     "output_type": "stream",
     "text": [
      "Saved /home/disk/sipn/nicway/data/model/dampedAnomalyTrend/forecast/param/2018_362_1979_2017_Alpha.nc\n",
      "Processing day of year 363\n",
      "    detrending current day...\n",
      "    detrending lagged day...\n",
      "    Calculating pearson r...\n"
     ]
    },
    {
     "name": "stderr",
     "output_type": "stream",
     "text": [
      "/home/disk/sipn/nicway/anaconda3/envs/esio/lib/python3.6/site-packages/dask/local.py:255: RuntimeWarning: invalid value encountered in true_divide\n",
      "  return func(*args2)\n"
     ]
    },
    {
     "name": "stdout",
     "output_type": "stream",
     "text": [
      "Saved /home/disk/sipn/nicway/data/model/dampedAnomalyTrend/forecast/param/2018_363_1979_2017_Alpha.nc\n",
      "Processing day of year 364\n",
      "    detrending current day...\n",
      "    detrending lagged day...\n",
      "    Calculating pearson r...\n"
     ]
    },
    {
     "name": "stderr",
     "output_type": "stream",
     "text": [
      "/home/disk/sipn/nicway/anaconda3/envs/esio/lib/python3.6/site-packages/dask/local.py:255: RuntimeWarning: invalid value encountered in true_divide\n",
      "  return func(*args2)\n"
     ]
    },
    {
     "name": "stdout",
     "output_type": "stream",
     "text": [
      "Saved /home/disk/sipn/nicway/data/model/dampedAnomalyTrend/forecast/param/2018_364_1979_2017_Alpha.nc\n",
      "Processing day of year 365\n",
      "    detrending current day...\n",
      "    detrending lagged day...\n",
      "    Calculating pearson r...\n"
     ]
    },
    {
     "name": "stderr",
     "output_type": "stream",
     "text": [
      "/home/disk/sipn/nicway/anaconda3/envs/esio/lib/python3.6/site-packages/dask/local.py:255: RuntimeWarning: invalid value encountered in true_divide\n",
      "  return func(*args2)\n"
     ]
    },
    {
     "name": "stdout",
     "output_type": "stream",
     "text": [
      "Saved /home/disk/sipn/nicway/data/model/dampedAnomalyTrend/forecast/param/2018_365_1979_2017_Alpha.nc\n",
      "Processing day of year 366\n",
      "    detrending current day...\n",
      "    detrending lagged day...\n",
      "    Calculating pearson r...\n",
      "Saved /home/disk/sipn/nicway/data/model/dampedAnomalyTrend/forecast/param/2018_366_1979_2017_Alpha.nc\n"
     ]
    },
    {
     "name": "stderr",
     "output_type": "stream",
     "text": [
      "/home/disk/sipn/nicway/anaconda3/envs/esio/lib/python3.6/site-packages/dask/local.py:255: RuntimeWarning: invalid value encountered in true_divide\n",
      "  return func(*args2)\n"
     ]
    }
   ],
   "source": [
    "for cdoy in np.arange(1,da_sic.doy.max().values+1,1):\n",
    "    print(\"Processing day of year\", cdoy)\n",
    "    \n",
    "    #1) Get detrended SIC for curren doy and doy plus 7 days\n",
    "\n",
    "    # Select current day of year\n",
    "    da_cdoy = da_sic.where(da_sic.doy==cdoy, drop=True).swap_dims({'time':'year'})\n",
    "    # Select training years\n",
    "    da_cdoy = da_cdoy.sel(year=slice(Y_Start, Y_End))    \n",
    "    # Remove trend\n",
    "    print(\"    detrending current day...\")\n",
    "    da_detrend = metrics.detrend(da_cdoy.chunk({'year': -1}), 'year') # Have to rechunk year into one big one\n",
    "    \n",
    "#     plt.figure()\n",
    "#     da_detrend.sel(year=2017).plot()\n",
    "    \n",
    "    # Calc the correlation between now and 7 days from now (simple option)\n",
    "    day_lag = 7\n",
    "    if cdoy+day_lag > da_sic.doy.max().values:\n",
    "        next_doy = cdoy+day_lag - da_sic.doy.max().values\n",
    "    else:\n",
    "        next_doy = cdoy+day_lag\n",
    "    da_cdoy_lag = da_sic.where(da_sic.doy==next_doy, drop=True).swap_dims({'time':'year'})\n",
    "    da_cdoy_lag = da_cdoy_lag.sel(year=slice(Y_Start, Y_End))    \n",
    "    \n",
    "    # Remove trend\n",
    "    print(\"    detrending lagged day...\")\n",
    "    da_detrend_lag = metrics.detrend(da_cdoy_lag.chunk({'year': -1}), 'year') # Have to rechunk year into one big one\n",
    "    \n",
    "#     plt.figure()\n",
    "#     da_detrend_lag.sel(year=2017).plot()\n",
    "    \n",
    "    # Calculate correlation (over common years)\n",
    "    common_years = np.intersect1d(da_detrend.year.values,da_detrend_lag.year.values)\n",
    "    print(\"    Calculating pearson r...\")\n",
    "    alpha_cdoy = xs.pearson_r(da_detrend.sel(year=common_years), da_detrend_lag.sel(year=common_years), 'year')\n",
    "    \n",
    "    # nanpearson_r sets any pixel with only ocean in both arrays (SIC=0) to NaN becasue the std is zero.\n",
    "    # Set those regions to alpha values of zero\n",
    "    never_ice = ((alpha_cdoy.isnull()) & (oceanmask))\n",
    "    alpha_cdoy = alpha_cdoy.where(~never_ice, other=0)\n",
    "    \n",
    "    alpha_cdoy.coords['lag'] = day_lag\n",
    "    \n",
    "#     plt.figure()\n",
    "#     alpha_cdoy.plot()    \n",
    "    \n",
    "#     xr.exit()\n",
    "    \n",
    "#     # For each lag day\n",
    "#     r_l = []\n",
    "#     for day_lag in np.arange(1,3,1):\n",
    "#         print(day_lag)\n",
    "#         da_cdoy_lag = da_sic.where(da_sic.doy==cdoy+day_lag, drop=True).swap_dims({'time':'year'})\n",
    "#         da_cdoy_lag = da_cdoy_lag.sel(year=slice(Y_Start, Y_End))    \n",
    "#         # Remove trend\n",
    "#         da_detrend_lag = metrics.detrend(da_cdoy_lag.chunk({'year': -1}), 'year') # Have to rechunk year into one big one\n",
    "#         # Calculate correlation (over common years)\n",
    "#         common_years = np.intersect1d(da_detrend.year.values,da_detrend_lag.year.values)\n",
    "#         r = xs.pearson_r(da_detrend.sel(year=common_years), da_detrend_lag.sel(year=common_years), 'year')\n",
    "#         r.coords['lag'] = day_lag\n",
    "#         r_l.append(r)\n",
    "#     alpha_cdoy = xr.concat(r_l, dim='lag')\n",
    "    \n",
    "    # Store\n",
    "    alpha_cdoy.coords['doy'] = cdoy\n",
    "\n",
    "    alpha_cdoy.name = 'alpha'\n",
    "    \n",
    "    alpha_cdoy = alpha_cdoy.drop(['time'])\n",
    "        \n",
    "    # Save to disk\n",
    "    file_out = os.path.join(mod_dir, cmod, runType, 'param', str(pred_year)+'_'+format(cdoy, '03')+'_'+str(Y_Start)+'_'+str(Y_End)+'_Alpha.nc')\n",
    "    alpha_cdoy.to_netcdf(file_out)\n",
    "    print(\"Saved\",file_out)\n",
    "    "
   ]
  },
  {
   "cell_type": "code",
   "execution_count": null,
   "metadata": {},
   "outputs": [],
   "source": []
  },
  {
   "cell_type": "code",
   "execution_count": 17,
   "metadata": {},
   "outputs": [],
   "source": [
    "# from scipy import stats\n",
    "# x = da_cdoy.sel(x=150,y=240).year.values\n",
    "# y = da_cdoy.sel(x=150,y=240).values\n",
    "\n",
    "# nas = np.logical_or(np.isnan(x), np.isnan(y))\n",
    "# x = x[~nas]\n",
    "# y = y[~nas]\n",
    "# print(x,y)\n",
    "# slope, intercept, r_value, p_value, std_err = stats.linregress(x, y)\n"
   ]
  },
  {
   "cell_type": "code",
   "execution_count": 18,
   "metadata": {},
   "outputs": [],
   "source": [
    "# from scipy import stats\n",
    "# x = da_cdoy.sel(x=150,y=240).year\n",
    "# y = da_cdoy.sel(x=150,y=240)\n",
    "\n",
    "# nas = (x.notnull()) & (y.notnull())\n",
    "# x = x.where(nas, drop=True)\n",
    "# y = y.where(nas, drop=True)\n",
    "# print(x.values,y.values)\n",
    "# slope, intercept, r_value, p_value, std_err = stats.linregress(x, y)\n"
   ]
  },
  {
   "cell_type": "code",
   "execution_count": 19,
   "metadata": {},
   "outputs": [],
   "source": [
    "# alpha_cdoy = xr.open_mfdataset('/home/disk/sipn/nicway/data/model/dampedAnomaly/forecast/param/2018_*.nc',\n",
    "#                               concat_dim='doy', autoclose=True)\n",
    "\n",
    "\n",
    "# # Now make a forecast using todays SIC observations\n",
    "\n",
    "# # Get most recent obs\n",
    "# ds_81 = xr.open_mfdataset(E.obs['NSIDC_0081']['sipn_nc']+'_yearly/*.nc', concat_dim='time', autoclose=True, parallel=True)\n",
    "# # Get mean sic by DOY\n",
    "# mean_1980_2010_sic = xr.open_dataset(os.path.join(E.obs_dir, 'NSIDC_0051', 'agg_nc', 'mean_1980_2010_sic.nc')).sic\n",
    "# mean_1980_2010_sic\n",
    "\n",
    "# last_sic = ds_81.isel(time=-1).sic\n",
    "# cdoy = metrics.get_DOY(last_sic.time)[0]\n",
    "# cdoy\n",
    "\n",
    "# # Calculate most recent anomaly\n",
    "# c_anomaly = last_sic - mean_1980_2010_sic.sel(time=cdoy)\n",
    "\n",
    "# plt.figure()\n",
    "# last_sic.plot()\n",
    "\n",
    "\n",
    "\n",
    "# da_l = []\n",
    "# # Need to be careful that indices here are days (unless we change them)\n",
    "# for fore_index in np.arange(1,30,5):\n",
    "#     print(fore_index)\n",
    "#     fore_anomaly = (alpha_cdoy.sel(doy=cdoy, lag=7).alpha**fore_index) * c_anomaly\n",
    "#     fore_sic = fore_anomaly + mean_1980_2010_sic.sel(time=(cdoy+fore_index))\n",
    "    \n",
    "#     # Force prediction SIC to be between 0-1\n",
    "#     ocnmask = fore_sic.notnull()\n",
    "#     fore_sic = fore_sic.where(fore_sic >= 0, other=0).where(ocnmask)\n",
    "#     fore_sic = fore_sic.where(fore_sic <= 1, other=1).where(ocnmask)\n",
    "    \n",
    "#     plt.figure()\n",
    "#     fore_sic.plot()\n",
    "\n",
    "\n",
    "\n",
    "# fore_anomaly\n"
   ]
  },
  {
   "cell_type": "code",
   "execution_count": null,
   "metadata": {},
   "outputs": [],
   "source": []
  },
  {
   "cell_type": "code",
   "execution_count": null,
   "metadata": {},
   "outputs": [],
   "source": []
  },
  {
   "cell_type": "code",
   "execution_count": null,
   "metadata": {},
   "outputs": [],
   "source": []
  }
 ],
 "metadata": {
  "kernelspec": {
   "display_name": "3.6.4 esio",
   "language": "python",
   "name": "esio"
  },
  "language_info": {
   "codemirror_mode": {
    "name": "ipython",
    "version": 3
   },
   "file_extension": ".py",
   "mimetype": "text/x-python",
   "name": "python",
   "nbconvert_exporter": "python",
   "pygments_lexer": "ipython3",
   "version": "3.6.4"
  }
 },
 "nbformat": 4,
 "nbformat_minor": 2
}
