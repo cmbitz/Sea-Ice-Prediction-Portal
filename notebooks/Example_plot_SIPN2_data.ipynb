{
 "cells": [
  {
   "cell_type": "code",
   "execution_count": null,
   "metadata": {},
   "outputs": [],
   "source": [
    "%matplotlib inline\n",
    "import gcsfs\n",
    "import xarray as xr\n",
    "import matplotlib\n",
    "import pandas as pd\n",
    "import cartopy.crs as ccrs\n",
    "import seaborn as sns\n",
    "from cartopy.mpl.gridliner import LONGITUDE_FORMATTER, LATITUDE_FORMATTER\n",
    "from esio import ice_plot"
   ]
  },
  {
   "cell_type": "code",
   "execution_count": null,
   "metadata": {},
   "outputs": [],
   "source": [
    "### Connect to the Google cloud bucket and open the dataest\n",
    "#\n",
    "# Access to the sipn-data set is not yet public. Access to SIPN participants will be provide by end of 2018.\n",
    "# Questions can be addressed to nicway@uw.edu."
   ]
  },
  {
   "cell_type": "code",
   "execution_count": null,
   "metadata": {},
   "outputs": [],
   "source": []
  },
  {
   "cell_type": "code",
   "execution_count": null,
   "metadata": {},
   "outputs": [],
   "source": [
    "fs = gcsfs.GCSFileSystem(project='sipn2-pangeo', token='browser', access='read_only')\n",
    "gcsmap = gcsfs.mapping.GCSMap('sipn-data-sic/sic.zarr', gcs=fs, check=False, create=False)\n",
    "\n",
    "# Open Zarr dataset\n",
    "ds_gcs = xr.open_zarr(gcsmap)\n",
    "\n",
    "ds_gcs"
   ]
  },
  {
   "cell_type": "code",
   "execution_count": null,
   "metadata": {},
   "outputs": [],
   "source": [
    "da = ds_gcs.SIP.sel(model='MME').isel(init_end=30, fore_time=4)\n",
    "da"
   ]
  },
  {
   "cell_type": "markdown",
   "metadata": {},
   "source": [
    "### Plot the Multi-model mean Sea Ice Concentration (SIC) forecast Initialized on 2018-08-05 with a lead time of 28 days"
   ]
  },
  {
   "cell_type": "code",
   "execution_count": null,
   "metadata": {},
   "outputs": [],
   "source": [
    "cmap_sic = matplotlib.colors.ListedColormap(sns.color_palette(\"Blues_r\", 10))\n",
    "cmap_sic.set_bad(color = 'lightgrey')\n",
    "\n",
    "(f, ax1) = ice_plot.polar_axis()\n",
    "f.set_size_inches(10, 5)\n",
    "\n",
    "\n",
    "da.plot.pcolormesh(ax=ax1, x='lon', y='lat', \n",
    "                                     transform=ccrs.PlateCarree(),\n",
    "                                     cmap=cmap_sic,\n",
    "                      vmin=0, vmax=1, cbar_kwargs={'label':'Sea Ice Concentration (-)'})\n",
    "ax1.set_title('Valid time\\n'+pd.to_datetime((da.init_end+da.fore_time).values).strftime('%Y-%m-%d'))\n"
   ]
  },
  {
   "cell_type": "code",
   "execution_count": null,
   "metadata": {},
   "outputs": [],
   "source": []
  }
 ],
 "metadata": {
  "kernelspec": {
   "display_name": "3.6.4 esio",
   "language": "python",
   "name": "esio"
  },
  "language_info": {
   "codemirror_mode": {
    "name": "ipython",
    "version": 3
   },
   "file_extension": ".py",
   "mimetype": "text/x-python",
   "name": "python",
   "nbconvert_exporter": "python",
   "pygments_lexer": "ipython3",
   "version": "3.6.4"
  }
 },
 "nbformat": 4,
 "nbformat_minor": 2
}
