{
 "cells": [
  {
   "cell_type": "code",
   "execution_count": 1,
   "metadata": {},
   "outputs": [],
   "source": [
    "''\n",
    "\n",
    "%matplotlib inline\n",
    "%load_ext autoreload\n",
    "%autoreload\n",
    "import matplotlib\n",
    "#matplotlib.use('Agg')\n",
    "import matplotlib.pyplot as plt\n",
    "from collections import OrderedDict\n",
    "import itertools\n",
    "import numpy as np\n",
    "import timeit\n",
    "import numpy.ma as ma\n",
    "import pandas as pd\n",
    "import struct\n",
    "import os\n",
    "import xarray as xr\n",
    "import xesmf as xe\n",
    "import glob\n",
    "import datetime\n",
    "import calendar\n",
    "import cartopy.crs as ccrs\n",
    "from cartopy.mpl.gridliner import LONGITUDE_FORMATTER, LATITUDE_FORMATTER\n",
    "import seaborn as sns\n",
    "np.seterr(divide='ignore', invalid='ignore')\n",
    "import warnings\n",
    "warnings.simplefilter(action='ignore', category=FutureWarning)\n",
    "\n",
    "from esio import EsioData as ed\n",
    "from esio import ice_plot\n",
    "from esio import import_data\n",
    "from esio import metrics\n",
    "\n",
    "\n",
    "import dask\n",
    "#dask.config.set(scheduler='threads')  # overwrite default with threaded scheduler\n",
    "#from dask.distributed import Client\n",
    "\n",
    "\n",
    "# General plotting settings\n",
    "sns.set_style('ticks')\n",
    "sns.set_context(\"talk\", font_scale=.8, rc={\"lines.linewidth\": 2.5})"
   ]
  },
  {
   "cell_type": "code",
   "execution_count": 2,
   "metadata": {},
   "outputs": [],
   "source": [
    "# client = Client()\n",
    "# client"
   ]
  },
  {
   "cell_type": "code",
   "execution_count": 3,
   "metadata": {},
   "outputs": [],
   "source": [
    "E = ed.EsioData.load()\n",
    "# Directories\n",
    "runType='forecast'\n"
   ]
  },
  {
   "cell_type": "code",
   "execution_count": 4,
   "metadata": {},
   "outputs": [],
   "source": [
    "# Plotting Info\n",
    "runType = 'forecast'\n",
    "variables = ['sic']\n",
    "metrics_all = {'sic':['IFD']}\n",
    "# Some models are terrible/have serious issues, so don't include in MME\n",
    "MME_NO = ['hcmr']"
   ]
  },
  {
   "cell_type": "code",
   "execution_count": 5,
   "metadata": {},
   "outputs": [],
   "source": [
    "# Target time range\n",
    "valid_start = np.datetime64('2019-06-01')\n",
    "valid_end = np.datetime64('2019-09-30')"
   ]
  },
  {
   "cell_type": "code",
   "execution_count": 6,
   "metadata": {},
   "outputs": [
    {
     "data": {
      "text/plain": [
       "'2019-06-01'"
      ]
     },
     "execution_count": 6,
     "metadata": {},
     "output_type": "execute_result"
    }
   ],
   "source": [
    "# SIO Report Year_Month\n",
    "cyear = '2019'\n",
    "cmonth = 'June'\n",
    "#cmonth = 'July'\n",
    "\n",
    "r_yr_mon = cyear+'_'+cmonth\n",
    "mon_2_int = {v: k for k,v in enumerate(calendar.month_name)}\n",
    "\n",
    "month_cal=dict((v,k) for k,v in enumerate(calendar.month_abbr))\n",
    "date_str = pd.to_datetime(datetime.datetime(int(cyear), month_cal[cmonth[0:3]], 1)).strftime('%Y-%m-%d')\n",
    "itstr = date_str\n",
    "itstr"
   ]
  },
  {
   "cell_type": "code",
   "execution_count": 7,
   "metadata": {},
   "outputs": [],
   "source": [
    "stero_grid_file = E.obs['NSIDC_0051']['grid']\n",
    "obs_grid = import_data.load_grid_info(stero_grid_file, model='NSIDC')\n",
    "# Ensure latitude is within bounds (-90 to 90)\n",
    "# Have to do this because grid file has 90.000001\n",
    "obs_grid['lat_b'] = obs_grid.lat_b.where(obs_grid.lat_b < 90, other = 90)"
   ]
  },
  {
   "cell_type": "code",
   "execution_count": null,
   "metadata": {},
   "outputs": [],
   "source": []
  },
  {
   "cell_type": "code",
   "execution_count": null,
   "metadata": {},
   "outputs": [],
   "source": []
  },
  {
   "cell_type": "code",
   "execution_count": null,
   "metadata": {},
   "outputs": [],
   "source": []
  },
  {
   "cell_type": "code",
   "execution_count": 20,
   "metadata": {},
   "outputs": [
    {
     "name": "stdout",
     "output_type": "stream",
     "text": [
      "152 274\n"
     ]
    }
   ],
   "source": [
    "cyear = '2019'\n",
    "cmonth = 'June'\n",
    "#cmonth = 'July'\n",
    "#cmonth = 'August'\n",
    "\n",
    "c_vmin = [x.timetuple().tm_yday for x in [pd.datetime(int(cyear),  month_cal[cmonth[0:3]]  ,1)]][0]\n",
    "c_vmax = [x.timetuple().tm_yday for x in [pd.datetime(int(cyear),10,1)]][0]\n",
    "print(c_vmin, c_vmax)"
   ]
  },
  {
   "cell_type": "code",
   "execution_count": 9,
   "metadata": {},
   "outputs": [],
   "source": [
    "# Get dates for plot\n",
    "last_IFD = pd.to_datetime((np.datetime64('2019-01-01') + np.timedelta64(int(c_vmax),'D')))"
   ]
  },
  {
   "cell_type": "code",
   "execution_count": 10,
   "metadata": {},
   "outputs": [],
   "source": [
    "# Get monthly ticks\n",
    "DOY_months = [x.timetuple().tm_yday for x in pd.date_range(date_str,'2019-10-30', freq='MS')]\n",
    "DOY_labels = [calendar.month_abbr[mn]+' 1' for mn in np.arange( month_cal[cmonth[0:3]]  ,last_IFD.month+1)]\n",
    "assert len(DOY_months)==len(DOY_labels)"
   ]
  },
  {
   "cell_type": "code",
   "execution_count": 11,
   "metadata": {},
   "outputs": [
    {
     "name": "stdout",
     "output_type": "stream",
     "text": [
      "<xarray.DataArray 'sic' (time: 1461, y: 448, x: 304)>\n",
      "dask.array<shape=(1461, 448, 304), dtype=float64, chunksize=(365, 448, 304)>\n",
      "Coordinates:\n",
      "  * time     (time) datetime64[ns] 2015-01-01 2015-01-02 ... 2018-12-31\n",
      "  * x        (x) int64 0 1 2 3 4 5 6 7 8 ... 295 296 297 298 299 300 301 302 303\n",
      "  * y        (y) int64 0 1 2 3 4 5 6 7 8 ... 439 440 441 442 443 444 445 446 447\n",
      "    lat      (x, y) float64 31.1 31.25 31.4 31.55 ... 34.92 34.77 34.62 34.47\n",
      "    lon      (x, y) float64 168.3 168.4 168.5 168.7 ... -9.745 -9.872 -9.999\n",
      "    xm       (x) int64 -3850000 -3825000 -3800000 ... 3675000 3700000 3725000\n",
      "    ym       (y) int64 5850000 5825000 5800000 ... -5275000 -5300000 -5325000\n",
      "    year     (time) int64 2015 2015 2015 2015 2015 ... 2018 2018 2018 2018 2018\n",
      "    doy      (time) int64 1 2 3 4 5 6 7 8 9 ... 358 359 360 361 362 363 364 365\n"
     ]
    }
   ],
   "source": [
    "# compute climo10yr IFD\n",
    "# BE SURE THESE ARE NON OVERLAPPING, MUST BE UPDATED FOR NEW DATA\n",
    "# Get bootstrap and nrt observations with pole hole already filled in\n",
    "ds_81 = xr.open_mfdataset(E.obs['NSIDC_0081']['sipn_nc']+'_yearly/*.nc', concat_dim='time', autoclose=True, parallel=True).sic\n",
    "ds_79 = xr.open_mfdataset(E.obs['NSIDC_0079']['sipn_nc']+'_yearly/*.nc', concat_dim='time', autoclose=True, parallel=True).sic\n",
    "\n",
    "pred_year = int(cyear)\n",
    "start_year = pred_year-10\n",
    "start_year = pred_year-2\n",
    "\n",
    "\n",
    "ds_79=ds_79.sel(time=slice(str(start_year),str(pred_year-1)))  # end year just has to be way in the future\n",
    "ds_81=ds_81.sel(time=slice('2015',str(pred_year-1)))  # restrict to before prediciton year, lower year not important\n",
    "\n",
    "# Combine bootstrap with NASA NRT\n",
    "ds_81 = ds_79.combine_first(ds_81)  # takes ds_79 as priority\n",
    "ds_79 = None\n",
    "\n",
    "year_all = [x.year for x in pd.to_datetime(ds_81.time.values)]\n",
    "ds_81.coords['year'] = xr.DataArray(year_all, dims='time', coords={'time':ds_81.time})\n",
    "DOY = [x.timetuple().tm_yday for x in pd.to_datetime(ds_81.time.values)]\n",
    "ds_81.coords['doy'] = xr.DataArray(DOY, dims='time', coords={'time':ds_81.time})\n",
    "print(ds_81)  "
   ]
  },
  {
   "cell_type": "code",
   "execution_count": 23,
   "metadata": {},
   "outputs": [
    {
     "name": "stderr",
     "output_type": "stream",
     "text": [
      "/home/disk/sipn/nicway/anaconda3/envs/esio/lib/python3.6/site-packages/dask/core.py:137: RuntimeWarning: invalid value encountered in less\n",
      "  return func(*args2)\n",
      "/home/disk/sipn/nicway/anaconda3/envs/esio/lib/python3.6/site-packages/dask/core.py:137: RuntimeWarning: invalid value encountered in less\n",
      "  return func(*args2)\n",
      "/home/disk/sipn/nicway/anaconda3/envs/esio/lib/python3.6/site-packages/dask/core.py:137: RuntimeWarning: invalid value encountered in less\n",
      "  return func(*args2)\n",
      "/home/disk/sipn/nicway/anaconda3/envs/esio/lib/python3.6/site-packages/dask/core.py:137: RuntimeWarning: invalid value encountered in less\n",
      "  return func(*args2)\n"
     ]
    }
   ],
   "source": [
    "# Calc observed Ice Free Day\n",
    "da_IFD = ds_81.groupby('time.year').apply(metrics.calc_IFD)\n",
    "da_IFD.name = 'IFD'\n",
    "ObsYears=da_IFD.year.values\n",
    "\n",
    "ifd_all=[]  # need to deal with years when never get below 0.15\n",
    "            # choose to make them a high value that if all yrs are so high\n",
    "            # it is masked out\n",
    "            # but if say one yr is 270 and the rest are 275, then the mean is 274\n",
    "            # which will be plotted but will be near the upper limit\n",
    "for y in ObsYears:\n",
    "    tmp=ds_81.sel(time=str(y)).min(dim='time') # min sic at anytime during year\n",
    "    ifd = da_IFD.sel(year=y).where(tmp<0.15, other=c_vmax) # if never below 0.15 at anytime then set to max poss\n",
    "    ifd_all.append(ifd)\n",
    "\n",
    "ifd_all=xr.concat(ifd_all, dim='year')\n",
    "\n",
    "climo=ifd_all.mean(dim='year')\n",
    "climo = climo.where(tmp.notnull()) # Apply Orig mask "
   ]
  },
  {
   "cell_type": "code",
   "execution_count": 13,
   "metadata": {},
   "outputs": [
    {
     "name": "stderr",
     "output_type": "stream",
     "text": [
      "/home/disk/sipn/nicway/anaconda3/envs/esio/lib/python3.6/site-packages/dask/core.py:137: RuntimeWarning: invalid value encountered in less\n",
      "  return func(*args2)\n",
      "/home/disk/sipn/nicway/anaconda3/envs/esio/lib/python3.6/site-packages/dask/core.py:137: RuntimeWarning: invalid value encountered in less\n",
      "  return func(*args2)\n",
      "/home/disk/sipn/nicway/anaconda3/envs/esio/lib/python3.6/site-packages/dask/core.py:137: RuntimeWarning: invalid value encountered in less\n",
      "  return func(*args2)\n",
      "/home/disk/sipn/nicway/anaconda3/envs/esio/lib/python3.6/site-packages/dask/core.py:137: RuntimeWarning: invalid value encountered in less\n",
      "  return func(*args2)\n"
     ]
    }
   ],
   "source": [
    "# Calc observed Ice Free Day\n",
    "# NOT WORKING \n",
    "da_IFD2 = ds_81.groupby('time.year').apply(metrics.calc_IFD_10day, sic_threshold=0.5, Nday=10 )\n",
    "da_IFD2.name = 'IFD'\n",
    "\n",
    "ifd_all2=[]  # need to deal with years when never get below 0.15\n",
    "            # choose to make them a high value that if all yrs are so high\n",
    "            # it is masked out\n",
    "            # but if say one yr is 270 and the rest are 275, then the mean is 274\n",
    "            # which will be plotted but will be near the upper limit\n",
    "\n",
    "for y in ObsYears:\n",
    "    tmp=ds_81.sel(time=str(y)).min(dim='time') # min sic at anytime during year\n",
    "    ifd = da_IFD2.sel(year=y).where(tmp<0.5, other=c_vmax) # if never below 0.15 at anytime then set to max poss\n",
    "    ifd_all2.append(ifd)\n",
    "\n",
    "ifd_all2=xr.concat(ifd_all2, dim='year')\n",
    "\n",
    "climo2=ifd_all2.mean(dim='year')\n",
    "climo2 = climo2.where(ds_81.isel(time=10).notnull()) # Apply Orig mask \n"
   ]
  },
  {
   "cell_type": "markdown",
   "metadata": {},
   "source": [
    "### THE CODE LOOKS LIKE\n",
    "\n",
    "ds_ifd = metrics.calc_IFD_10day(ds_model, sic_threshold=0.5, DOY_s=DOY_first_vt[0], time_dim='fore_time', \n",
    "                                Nday=10, default_ice_free=pd.to_datetime('2019-06-01').timetuple().tm_yday)\n",
    "\n",
    "Coordinates:\n",
    "    lon         (x, y) float64 168.3 168.4 168.5 168.7 ... -9.745 -9.872 -9.999\n",
    "    lat         (x, y) float64 31.1 31.25 31.4 31.55 ... 34.92 34.77 34.62 34.47\n",
    "  * fore_time   (fore_time) timedelta64[ns] 0 days 1 days ... 59 days 60 days\n",
    "  * init_time   (init_time) datetime64[ns] 2019-08-01\n",
    "    valid_time  (init_time, fore_time) datetime64[ns] 2019-08-01 ... 2019-09-30"
   ]
  },
  {
   "cell_type": "code",
   "execution_count": null,
   "metadata": {},
   "outputs": [],
   "source": []
  },
  {
   "cell_type": "code",
   "execution_count": 58,
   "metadata": {
    "scrolled": true
   },
   "outputs": [
    {
     "name": "stdout",
     "output_type": "stream",
     "text": [
      "Operating on Year  2015\n",
      "Looking for times between 2015-08-01T00:00:00.000000 and 2015-12-01T00:00:00.000000\n",
      "213\n",
      "<xarray.DataArray 'sic' (time: 123, y: 448, x: 304)>\n",
      "dask.array<shape=(123, 448, 304), dtype=float64, chunksize=(123, 448, 304)>\n",
      "Coordinates:\n",
      "  * time     (time) timedelta64[ns] 0 days 1 days 2 days ... 121 days 122 days\n",
      "  * x        (x) int64 0 1 2 3 4 5 6 7 8 ... 295 296 297 298 299 300 301 302 303\n",
      "  * y        (y) int64 0 1 2 3 4 5 6 7 8 ... 439 440 441 442 443 444 445 446 447\n",
      "    lat      (x, y) float64 31.1 31.25 31.4 31.55 ... 34.92 34.77 34.62 34.47\n",
      "    lon      (x, y) float64 168.3 168.4 168.5 168.7 ... -9.745 -9.872 -9.999\n",
      "    xm       (x) int64 -3850000 -3825000 -3800000 ... 3675000 3700000 3725000\n",
      "    ym       (y) int64 5850000 5825000 5800000 ... -5275000 -5300000 -5325000\n",
      "    year     (time) int64 2015 2015 2015 2015 2015 ... 2015 2015 2015 2015 2015\n",
      "    doy      (time) int64 213 214 215 216 217 218 ... 330 331 332 333 334 335\n"
     ]
    },
    {
     "name": "stderr",
     "output_type": "stream",
     "text": [
      "/home/disk/sipn/nicway/anaconda3/envs/esio/lib/python3.6/site-packages/dask/core.py:137: RuntimeWarning: invalid value encountered in less\n",
      "  return func(*args2)\n"
     ]
    },
    {
     "name": "stdout",
     "output_type": "stream",
     "text": [
      "Operating on Year  2016\n",
      "Looking for times between 2016-08-01T00:00:00.000000 and 2016-12-01T00:00:00.000000\n",
      "214\n",
      "<xarray.DataArray 'sic' (time: 123, y: 448, x: 304)>\n",
      "dask.array<shape=(123, 448, 304), dtype=float64, chunksize=(123, 448, 304)>\n",
      "Coordinates:\n",
      "  * time     (time) timedelta64[ns] 0 days 1 days 2 days ... 121 days 122 days\n",
      "  * x        (x) int64 0 1 2 3 4 5 6 7 8 ... 295 296 297 298 299 300 301 302 303\n",
      "  * y        (y) int64 0 1 2 3 4 5 6 7 8 ... 439 440 441 442 443 444 445 446 447\n",
      "    lat      (x, y) float64 31.1 31.25 31.4 31.55 ... 34.92 34.77 34.62 34.47\n",
      "    lon      (x, y) float64 168.3 168.4 168.5 168.7 ... -9.745 -9.872 -9.999\n",
      "    xm       (x) int64 -3850000 -3825000 -3800000 ... 3675000 3700000 3725000\n",
      "    ym       (y) int64 5850000 5825000 5800000 ... -5275000 -5300000 -5325000\n",
      "    year     (time) int64 2016 2016 2016 2016 2016 ... 2016 2016 2016 2016 2016\n",
      "    doy      (time) int64 214 215 216 217 218 219 ... 331 332 333 334 335 336\n"
     ]
    },
    {
     "name": "stderr",
     "output_type": "stream",
     "text": [
      "/home/disk/sipn/nicway/anaconda3/envs/esio/lib/python3.6/site-packages/dask/core.py:137: RuntimeWarning: invalid value encountered in less\n",
      "  return func(*args2)\n"
     ]
    },
    {
     "name": "stdout",
     "output_type": "stream",
     "text": [
      "Operating on Year  2017\n",
      "Looking for times between 2017-08-01T00:00:00.000000 and 2017-12-01T00:00:00.000000\n",
      "213\n",
      "<xarray.DataArray 'sic' (time: 123, y: 448, x: 304)>\n",
      "dask.array<shape=(123, 448, 304), dtype=float64, chunksize=(123, 448, 304)>\n",
      "Coordinates:\n",
      "  * time     (time) timedelta64[ns] 0 days 1 days 2 days ... 121 days 122 days\n",
      "  * x        (x) int64 0 1 2 3 4 5 6 7 8 ... 295 296 297 298 299 300 301 302 303\n",
      "  * y        (y) int64 0 1 2 3 4 5 6 7 8 ... 439 440 441 442 443 444 445 446 447\n",
      "    lat      (x, y) float64 31.1 31.25 31.4 31.55 ... 34.92 34.77 34.62 34.47\n",
      "    lon      (x, y) float64 168.3 168.4 168.5 168.7 ... -9.745 -9.872 -9.999\n",
      "    xm       (x) int64 -3850000 -3825000 -3800000 ... 3675000 3700000 3725000\n",
      "    ym       (y) int64 5850000 5825000 5800000 ... -5275000 -5300000 -5325000\n",
      "    year     (time) int64 2017 2017 2017 2017 2017 ... 2017 2017 2017 2017 2017\n",
      "    doy      (time) int64 213 214 215 216 217 218 ... 330 331 332 333 334 335\n"
     ]
    },
    {
     "name": "stderr",
     "output_type": "stream",
     "text": [
      "/home/disk/sipn/nicway/anaconda3/envs/esio/lib/python3.6/site-packages/dask/core.py:137: RuntimeWarning: invalid value encountered in less\n",
      "  return func(*args2)\n"
     ]
    },
    {
     "name": "stdout",
     "output_type": "stream",
     "text": [
      "Operating on Year  2018\n",
      "Looking for times between 2018-08-01T00:00:00.000000 and 2018-12-01T00:00:00.000000\n",
      "213\n",
      "<xarray.DataArray 'sic' (time: 123, y: 448, x: 304)>\n",
      "dask.array<shape=(123, 448, 304), dtype=float64, chunksize=(123, 448, 304)>\n",
      "Coordinates:\n",
      "  * time     (time) timedelta64[ns] 0 days 1 days 2 days ... 121 days 122 days\n",
      "  * x        (x) int64 0 1 2 3 4 5 6 7 8 ... 295 296 297 298 299 300 301 302 303\n",
      "  * y        (y) int64 0 1 2 3 4 5 6 7 8 ... 439 440 441 442 443 444 445 446 447\n",
      "    lat      (x, y) float64 31.1 31.25 31.4 31.55 ... 34.92 34.77 34.62 34.47\n",
      "    lon      (x, y) float64 168.3 168.4 168.5 168.7 ... -9.745 -9.872 -9.999\n",
      "    xm       (x) int64 -3850000 -3825000 -3800000 ... 3675000 3700000 3725000\n",
      "    ym       (y) int64 5850000 5825000 5800000 ... -5275000 -5300000 -5325000\n",
      "    year     (time) int64 2018 2018 2018 2018 2018 ... 2018 2018 2018 2018 2018\n",
      "    doy      (time) int64 213 214 215 216 217 218 ... 330 331 332 333 334 335\n"
     ]
    },
    {
     "name": "stderr",
     "output_type": "stream",
     "text": [
      "/home/disk/sipn/nicway/anaconda3/envs/esio/lib/python3.6/site-packages/dask/core.py:137: RuntimeWarning: invalid value encountered in less\n",
      "  return func(*args2)\n"
     ]
    }
   ],
   "source": [
    "ifd_all2=[]  # need to deal with years when never get below 0.15\n",
    "\n",
    "for y in ObsYears:\n",
    "    print('Operating on Year ',y)\n",
    "    tmpo=ds_81.sel(time=str(y))\n",
    "    \n",
    "    first_day = np.datetime64(datetime.datetime(int(y),8,1))\n",
    "    last_day = np.datetime64(datetime.datetime(int(y),10,1))\n",
    "    print(\"Looking for times between\",first_day,\"and\",last_day)\n",
    "\n",
    "    tmpo = tmpo.sel(time=slice(first_day,last_day))\n",
    "    \n",
    "    tmp=tmpo.min(dim='time') # min sic at anytime during year\n",
    "    \n",
    "    DOY_first_vt = [x.timetuple().tm_yday for x in pd.to_datetime([tmpo.time.min().values])]\n",
    "    print(DOY_first_vt[0])\n",
    "    tmpo['time'] = tmpo.time - tmpo.time[0]\n",
    "    print(tmpo)\n",
    "\n",
    "    # setting the default_ice_free value equal to c_vmin is important\n",
    "    ifd = metrics.calc_IFD_10day(tmpo, sic_threshold=0.5, DOY_s=DOY_first_vt[0], time_dim='time', \n",
    "                                    Nday=10, default_ice_free=pd.to_datetime(str(y)+'-08-01').timetuple().tm_yday)\n",
    "\n",
    "\n",
    "    ifd_all2.append(ifd)\n",
    "\n",
    "ifd_all2=xr.concat(ifd_all2, dim='year')\n",
    "\n",
    "climo3 =ifd_all2.mean(dim='year')\n",
    "climo3 = climo3.where(ds_81.isel(time=10).notnull()) # Apply Orig mask \n",
    "\n"
   ]
  },
  {
   "cell_type": "code",
   "execution_count": null,
   "metadata": {},
   "outputs": [],
   "source": []
  },
  {
   "cell_type": "code",
   "execution_count": 59,
   "metadata": {},
   "outputs": [],
   "source": [
    "#cmap_std = matplotlib.colors.LinearSegmentedColormap.from_list('redhues', redhues, N=8)\n",
    "cmap_c = matplotlib.colors.LinearSegmentedColormap.from_list(\"\", [\"white\",\"orange\",\"red\",\"#990000\"], N=10)\n",
    "cmap_c.set_bad(color = 'lightgrey')\n"
   ]
  },
  {
   "cell_type": "code",
   "execution_count": 57,
   "metadata": {},
   "outputs": [
    {
     "name": "stderr",
     "output_type": "stream",
     "text": [
      "/home/disk/sipn/nicway/anaconda3/envs/esio/lib/python3.6/site-packages/dask/compatibility.py:93: RuntimeWarning: All-NaN slice encountered\n",
      "  return func(*args, **kwargs)\n",
      "/home/disk/sipn/nicway/anaconda3/envs/esio/lib/python3.6/site-packages/toolz/functoolz.py:468: RuntimeWarning: All-NaN slice encountered\n",
      "  ret = f(ret)\n",
      "/home/disk/sipn/nicway/anaconda3/envs/esio/lib/python3.6/site-packages/dask/core.py:137: RuntimeWarning: invalid value encountered in less\n",
      "  return func(*args2)\n",
      "/home/disk/sipn/nicway/anaconda3/envs/esio/lib/python3.6/site-packages/dask/core.py:137: RuntimeWarning: invalid value encountered in greater_equal\n",
      "  return func(*args2)\n",
      "/home/disk/sipn/nicway/anaconda3/envs/esio/lib/python3.6/site-packages/dask/array/numpy_compat.py:28: RuntimeWarning: invalid value encountered in true_divide\n",
      "  x = np.divide(x1, x2, out)\n"
     ]
    },
    {
     "data": {
      "image/png": "[encoded data removed]",
      "text/plain": [
       "<Figure size 648x288 with 4 Axes>"
      ]
     },
     "metadata": {},
     "output_type": "display_data"
    }
   ],
   "source": [
    "NPLOTS = 3\n",
    "c_vmin=213\n",
    "central_extent = [-3850000, 3725000, -5325000, 5850000] # (x0, x1, y0, y1\n",
    "\n",
    "(f, axes) = ice_plot.multi_polar_axis(ncols=3, nrows=1, Nplots=NPLOTS, sizefcter=2, extent=central_extent, central_longitude=0)\n",
    "\n",
    "i=0\n",
    "p = climo.plot.pcolormesh(ax=axes[i], x='lon', y='lat', \n",
    "                          transform=ccrs.PlateCarree(),\n",
    "                          add_colorbar=False,\n",
    "                          cmap=cmap_c,\n",
    "                          vmin=c_vmin, vmax=c_vmax)\n",
    "\n",
    "\n",
    "i=1\n",
    "p = climo3.plot.pcolormesh(ax=axes[i], x='lon', y='lat', \n",
    "                          transform=ccrs.PlateCarree(),\n",
    "                          add_colorbar=False,\n",
    "                          cmap=cmap_c,\n",
    "                          vmin=c_vmin, vmax=c_vmax)\n",
    "\n",
    "\n",
    "\n",
    "cbar_ax = f.add_axes([0.95, 0.07, .025, 0.775]) #  [left, bottom, width, height] w\n",
    "c_label = 'IFD'\n",
    "cbar = f.colorbar(p, cax=cbar_ax, label=c_label, orientation='vertical')"
   ]
  },
  {
   "cell_type": "code",
   "execution_count": null,
   "metadata": {},
   "outputs": [],
   "source": []
  },
  {
   "cell_type": "code",
   "execution_count": null,
   "metadata": {
    "scrolled": false
   },
   "outputs": [],
   "source": [
    "    # Plot perenial ice as black\n",
    "    #cper_mask = ds_IFD_All.sel(model=cmod)\n",
    "    pb = cper_mask.where(cper_mask==275).plot.pcolormesh(ax=axes[i], x='lon', y='lat', \n",
    "                          transform=ccrs.PlateCarree(),\n",
    "                          add_colorbar=False,\n",
    "                          cmap=cmap_b,\n",
    "                          vmin=0, vmax=1)    \n",
    "    \n",
    "    add_subplot_title(cmod, custom_names, E, ax=axes[i])\n",
    "\n",
    "    # Add init date\n",
    "#    axes[i].annotate(pd.to_datetime(ds_IFD_All.sel(model=cmod).init_date.values).strftime('%m/%d'), xy=(.6, -.15), xycoords='axes fraction', )\n",
    "\n",
    "# MME Mean\n",
    "i = i + 1\n",
    "\n",
    "cper_mask = ds_MME_avg.isel(init_time=0)\n",
    "\n",
    "pmme = cper_mask.plot.pcolormesh(ax=axes[i], x='lon', y='lat', \n",
    "                                  transform=ccrs.PlateCarree(),\n",
    "                                  add_colorbar=False, \n",
    "                                  cmap=cmap_c, vmin=c_vmin, vmax=c_vmax)\n",
    "\n",
    "# Plot perenial ice as black\n",
    "pb = cper_mask.where(cper_mask>=274).plot.pcolormesh(ax=axes[i], x='lon', y='lat', \n",
    "                      transform=ccrs.PlateCarree(),\n",
    "                      add_colorbar=False,\n",
    "                      cmap=cmap_b,\n",
    "                      vmin=0, vmax=1)    \n",
    "\n",
    "\n",
    "axes[i].set_title('Multi-Forecast\\nMean')\n",
    "\n",
    "\n",
    "PlotObs = True\n",
    "if PlotObs:       \n",
    "    print('Climo 10 yr')\n",
    "    # Climo10yrs\n",
    "    i = i + 1\n",
    "\n",
    "    pmme = climo.plot.pcolormesh(ax=axes[i], x='lon', y='lat', \n",
    "                                      transform=ccrs.PlateCarree(),\n",
    "                                      add_colorbar=False, \n",
    "                                      cmap=cmap_c, vmin=c_vmin, vmax=c_vmax)\n",
    "\n",
    "    # Plot perenial ice as black\n",
    "    pb = climo.where(climo>=274).plot.pcolormesh(ax=axes[i], x='lon', y='lat', \n",
    "                          transform=ccrs.PlateCarree(),\n",
    "                          add_colorbar=False,\n",
    "                          cmap=cmap_b,\n",
    "                          vmin=0, vmax=1)    \n",
    "\n",
    "\n",
    "    axes[i].set_title('Climatology\\nLast 10 yrs')\n",
    "    \n",
    "\n",
    "# MME Standard deviation\n",
    "i = i + 1\n",
    "\n",
    "print('MME sigma')\n",
    "\n",
    "fld = ds_MME_std.isel(init_time=0)\n",
    "landmask = fld.notnull()\n",
    "fld = fld.where(cper_mask>c_vmin,other=0)\n",
    "fld = fld.where(landmask)\n",
    "\n",
    "pstd = fld.plot.pcolormesh(ax=axes[i], x='lon', y='lat', \n",
    "                                  transform=ccrs.PlateCarree(),\n",
    "                                  add_colorbar=False, \n",
    "                                  cmap=cmap_std,vmin=ds_MME_std.min().values, vmax=ds_MME_std.max().values)\n",
    "axes[i].set_title('σ of\\nForecasts')\n",
    "\n",
    "\n",
    "\n",
    "# Make pretty\n",
    "f.subplots_adjust(bottom=0.05)\n",
    "\n",
    "cbar1vertical = True\n",
    "if cbar1vertical:\n",
    "#    cbar_ax = f.add_axes([0.95, 0.36, .05, 0.5]) #  [left, bottom, width, height]   span just top rows\n",
    "    cbar_ax = f.add_axes([0.95, 0.07, .025, 0.775]) #  [left, bottom, width, height] w\n",
    "    cbar = f.colorbar(p, cax=cbar_ax, label=c_label, orientation='vertical')\n",
    "else:\n",
    "    cbar_ax = f.add_axes([0.25, 0.001, .5, 0.04]) #  [left, bottom, width, height] w\n",
    "    cbar = f.colorbar(p, cax=cbar_ax, label=c_label, orientation='horizontal')\n",
    "cbar.set_ticks(DOY_months)\n",
    "cbar.set_ticklabels(DOY_labels)\n",
    "\n",
    "#f.subplots_adjust(right=0.05)\n",
    "#cbar_ax_2 = f.add_axes([0.925, 0.1, .025, .28]) #  [left, bottom, width, height] w   FAR RIGHT\n",
    "#cbar_ax_2 = f.add_axes([0.75, 0.1, .025, .28]) #  [left, bottom, width, height] w\n",
    "#cbar_ax_2 = f.add_axes([0.35, 0.07, .025, .20]) #  [left, bottom, width, height] w\n",
    "\n",
    "#cbar_ax_2 = f.add_axes([0.76, 0.07, .025, .20]) #  [left, bottom, width, height] w\n",
    "cbar_ax_2 = f.add_axes([0.53, 0.08, .025, .18]) #  [left, bottom, width, height] w\n",
    "\n",
    "cbar2 = f.colorbar(pstd, cax=cbar_ax_2, label='days', orientation='vertical')\n",
    "# cbar.set_ticks(DOY_months)\n",
    "# cbar.set_ticklabels(DOY_labels)"
   ]
  },
  {
   "cell_type": "code",
   "execution_count": null,
   "metadata": {},
   "outputs": [],
   "source": []
  },
  {
   "cell_type": "code",
   "execution_count": null,
   "metadata": {},
   "outputs": [],
   "source": []
  }
 ],
 "metadata": {
  "kernelspec": {
   "display_name": "Python 3",
   "language": "python",
   "name": "python3"
  },
  "language_info": {
   "codemirror_mode": {
    "name": "ipython",
    "version": 3
   },
   "file_extension": ".py",
   "mimetype": "text/x-python",
   "name": "python",
   "nbconvert_exporter": "python",
   "pygments_lexer": "ipython3",
   "version": "3.6.4"
  }
 },
 "nbformat": 4,
 "nbformat_minor": 2
}
