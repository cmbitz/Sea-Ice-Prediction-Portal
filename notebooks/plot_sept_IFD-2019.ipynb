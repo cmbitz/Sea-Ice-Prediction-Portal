{
 "cells": [
  {
   "cell_type": "code",
   "execution_count": 1,
   "metadata": {},
   "outputs": [],
   "source": [
    "'''\n",
    "\n",
    "This code is part of the SIPN2 project focused on improving sub-seasonal to seasonal predictions of Arctic Sea Ice. \n",
    "If you use this code for a publication or presentation, please cite the reference in the README.md on the\n",
    "main page (https://github.com/NicWayand/ESIO). \n",
    "\n",
    "Questions or comments should be addressed to nicway@uw.edu\n",
    "\n",
    "Copyright (c) 2018 Nic Wayand\n",
    "\n",
    "GNU General Public License v3.0\n",
    "\n",
    "\n",
    "'''\n",
    "\n",
    "'''\n",
    "Plot forecast maps with all available models.\n",
    "'''\n",
    "\n",
    "%matplotlib inline\n",
    "%load_ext autoreload\n",
    "%autoreload\n",
    "import matplotlib\n",
    "#matplotlib.use('Agg')\n",
    "import matplotlib.pyplot as plt\n",
    "from collections import OrderedDict\n",
    "import itertools\n",
    "import numpy as np\n",
    "import timeit\n",
    "import numpy.ma as ma\n",
    "import pandas as pd\n",
    "import struct\n",
    "import os\n",
    "import xarray as xr\n",
    "import xesmf as xe\n",
    "import glob\n",
    "import datetime\n",
    "import calendar\n",
    "import cartopy.crs as ccrs\n",
    "from cartopy.mpl.gridliner import LONGITUDE_FORMATTER, LATITUDE_FORMATTER\n",
    "import seaborn as sns\n",
    "np.seterr(divide='ignore', invalid='ignore')\n",
    "import warnings\n",
    "warnings.simplefilter(action='ignore', category=FutureWarning)\n",
    "\n",
    "from esio import EsioData as ed\n",
    "from esio import ice_plot\n",
    "from esio import import_data\n",
    "from esio import metrics\n",
    "\n",
    "\n",
    "import dask\n",
    "#dask.config.set(scheduler='threads')  # overwrite default with threaded scheduler\n",
    "#from dask.distributed import Client\n",
    "\n",
    "\n",
    "# General plotting settings\n",
    "sns.set_style('ticks')\n",
    "sns.set_context(\"talk\", font_scale=.8, rc={\"lines.linewidth\": 2.5})"
   ]
  },
  {
   "cell_type": "code",
   "execution_count": 2,
   "metadata": {},
   "outputs": [],
   "source": [
    "# client = Client()\n",
    "# client"
   ]
  },
  {
   "cell_type": "code",
   "execution_count": 3,
   "metadata": {},
   "outputs": [],
   "source": [
    "E = ed.EsioData.load()\n",
    "# Directories\n",
    "runType='forecast'\n"
   ]
  },
  {
   "cell_type": "code",
   "execution_count": 4,
   "metadata": {},
   "outputs": [],
   "source": [
    "# Plotting Info\n",
    "runType = 'forecast'\n",
    "variables = ['sic']\n",
    "metrics_all = {'sic':['IFD']}\n",
    "# Some models are terrible/have serious issues, so don't include in MME\n",
    "MME_NO = ['hcmr']"
   ]
  },
  {
   "cell_type": "code",
   "execution_count": 5,
   "metadata": {},
   "outputs": [],
   "source": [
    "# Target time range\n",
    "valid_start = np.datetime64('2019-06-01')\n",
    "valid_end = np.datetime64('2019-09-30')"
   ]
  },
  {
   "cell_type": "code",
   "execution_count": 6,
   "metadata": {},
   "outputs": [
    {
     "name": "stdout",
     "output_type": "stream",
     "text": [
      "2019-08-01\n",
      "2019_August\n"
     ]
    }
   ],
   "source": [
    "# SIO Report Year_Month\n",
    "cyear = '2019'\n",
    "#cmonth = 'June'\n",
    "cmonth = 'July'\n",
    "cmonth = 'August'\n",
    "\n",
    "month_cal=dict((v,k) for k,v in enumerate(calendar.month_abbr))\n",
    "itstr = date_str = pd.to_datetime(datetime.datetime(int(cyear), month_cal[cmonth[0:3]], 1)).strftime('%Y-%m-%d')\n",
    "itstr\n",
    "r_yr_mon = cyear+'_'+cmonth\n",
    "def_icefree = pd.to_datetime('2019-08-01').timetuple().tm_yday # doy that icefee even icefree at start\n",
    "    # make it june 1 does not matter what year\n",
    "\n",
    "print(itstr)\n",
    "print(r_yr_mon)"
   ]
  },
  {
   "cell_type": "code",
   "execution_count": null,
   "metadata": {},
   "outputs": [],
   "source": []
  },
  {
   "cell_type": "code",
   "execution_count": 7,
   "metadata": {},
   "outputs": [],
   "source": [
    "# Models that create an Ensemble using different init days\n",
    "it_target_size = {'usnavysipn':10, 'ukmetofficesipn':21} # Define the number of past days to use TODO: assumes daily inits"
   ]
  },
  {
   "cell_type": "code",
   "execution_count": 8,
   "metadata": {},
   "outputs": [],
   "source": [
    "# Define custom mod names, okay if not used\n",
    "# https://docs.google.com/document/d/1eztVwPllCKDYOXbZ4nBt3j-3aK3YeOfAf6TPSb-86fQ/edit \n",
    "custom_names = {'usnavysipn':'Navy ESPC','gfdlsipn':'NOAA GFDL','noaasipn':'NCEP CPC','uclsipn':'UCL',\n",
    "                'ukmetofficesipn':'Met. Office','ecmwfsipn':'ECMWF-c3s',\n",
    "                'gmao':'NASA GMAO','seansipn':'NSIDC,\\nCU Boulder', 'piomas':'UW APL',\n",
    "                'awispin':'AWI\\nConsortium','szapirosipn':'MPAS-CESM',\n",
    "                'nmisipn':'Norwegian\\nMet. Inst.','fgoalssipn':'IAP LASG',\n",
    "                'nicosipn':'Sun','Xiaojun':'Lamont','modcansipns_4':'Modified\\nCanSIPS'}\n"
   ]
  },
  {
   "cell_type": "code",
   "execution_count": 9,
   "metadata": {},
   "outputs": [
    {
     "data": {
      "text/plain": [
       "['gfdlsipn', 'ukmetofficesipn', 'usnavysipn', 'awispin', 'fgoalssipn']"
      ]
     },
     "execution_count": 9,
     "metadata": {},
     "output_type": "execute_result"
    }
   ],
   "source": [
    "# Define models to plot and not to plot\n",
    "No_No_models = ['MME_NEW','piomas','MME','modcansipns_3','modcansipns_4','ecmwfsipn','usnavygofs',\n",
    "                   'szapirosipn','noaasipn_ext','rasmesrl','uclsipn','noaasipn','yopp','nicosipn'] #, 'usnavysipn']\n",
    "non_SIPN_Report_models  = ['ecmwf','ukmo','kma','ncep','usnavyncep','metreofr','dampedAnomalyTrend'] # Models like s2s\n",
    "models_2_plot = list(E.model.keys())\n",
    "models_2_plot = [x for x in models_2_plot if np.any(x not in No_No_models) ] # remove some models\n",
    "models_2_plot = [x for x in models_2_plot if np.any(x not in non_SIPN_Report_models) ] # remove some more models\n",
    "models_2_plot = [x for x in models_2_plot if E.icePredicted[x]] # Only predictive models\n",
    "\n",
    "\n",
    "models_2_plot"
   ]
  },
  {
   "cell_type": "code",
   "execution_count": 10,
   "metadata": {},
   "outputs": [],
   "source": [
    "stero_grid_file = E.obs['NSIDC_0051']['grid']\n",
    "obs_grid = import_data.load_grid_info(stero_grid_file, model='NSIDC')\n",
    "# Ensure latitude is within bounds (-90 to 90)\n",
    "# Have to do this because grid file has 90.000001\n",
    "obs_grid['lat_b'] = obs_grid.lat_b.where(obs_grid.lat_b < 90, other = 90)"
   ]
  },
  {
   "cell_type": "code",
   "execution_count": 11,
   "metadata": {},
   "outputs": [],
   "source": [
    "# Regridding Options\n",
    "method='nearest_s2d' # ['bilinear', 'conservative', 'nearest_s2d', 'nearest_d2s', 'patch']"
   ]
  },
  {
   "cell_type": "markdown",
   "metadata": {},
   "source": [
    "### Load in User submited IFD data"
   ]
  },
  {
   "cell_type": "code",
   "execution_count": 12,
   "metadata": {},
   "outputs": [],
   "source": [
    "user_ifd = [] # Dictionary to store user submitted (regridded) SIP data\n",
    "mon_2_int = {v: k for k,v in enumerate(calendar.month_name)}"
   ]
  },
  {
   "cell_type": "markdown",
   "metadata": {},
   "source": [
    "### cansips (Mod CanSIPS)"
   ]
  },
  {
   "cell_type": "code",
   "execution_count": 13,
   "metadata": {},
   "outputs": [
    {
     "name": "stdout",
     "output_type": "stream",
     "text": [
      "273.0\n",
      "212.0\n",
      "275.0\n",
      "Create weight file: nearest_s2d_18x128_304x448.nc\n",
      "Remove file nearest_s2d_18x128_304x448.nc\n"
     ]
    },
    {
     "data": {
      "image/png": "[encoded data removed]",
      "text/plain": [
       "<Figure size 432x288 with 2 Axes>"
      ]
     },
     "metadata": {},
     "output_type": "display_data"
    },
    {
     "data": {
      "image/png": "[encoded data removed]",
      "text/plain": [
       "<Figure size 432x288 with 2 Axes>"
      ]
     },
     "metadata": {},
     "output_type": "display_data"
    },
    {
     "data": {
      "image/png": "[encoded data removed]",
      "text/plain": [
       "<Figure size 432x288 with 2 Axes>"
      ]
     },
     "metadata": {},
     "output_type": "display_data"
    }
   ],
   "source": [
    "cmod = 'modcansipns_4'\n",
    "\n",
    "if r_yr_mon=='2019_June':\n",
    "    sip_f = '/home/disk/sipn/upload/escersipn/forecast/Modified_CanSIPS_fields_postprocessed/June-init/ifd_bc_i2019m06_Mod_CanSIPS.nc'\n",
    "elif r_yr_mon=='2019_July':\n",
    "    sip_f=None\n",
    "elif r_yr_mon=='2019_August':\n",
    "    sip_f='/home/disk/sipn/upload/escersipn/forecast/Modified_CanSIPS_fields_postprocessed/August-init/ifd_bc_i2019m08_Mod_CanSIPS.nc'\n",
    "else:\n",
    "    raise ValueError(r_yr_mon,\"not found, add sip_f path.\")   \n",
    "\n",
    "if sip_f:\n",
    "    ds_user = xr.open_dataset(sip_f, drop_variables='time')\n",
    "    ds_user.rename({'longitude':'lon','latitude':'lat'}, inplace=True);\n",
    "    ds_user.set_coords(['lat','lon'], inplace=True)\n",
    "    da_in = ds_user.ifd\n",
    "    print(da_in.max().values)\n",
    "    print(da_in.min().values)\n",
    "\n",
    "    da_diff = da_in\n",
    "    # Set never melts to first valeus (to be consistent with how sipn does it)\n",
    "    # da_in = da_in.where(da_in<da_in.max().values, other=da_in.min().values)\n",
    "    # Set pernial to 275\n",
    "    da_in = da_in.where(da_in<(da_in.max().values), other=275)\n",
    "    print(da_in.max().values)\n",
    "\n",
    "    # Set pixels that are ice free at init, to -9999\n",
    "    da_in = da_in.where(da_in!=da_in.min().values, other=152) #pd.to_datetime('2018-06-01').timetuple().tm_yday)\n",
    "\n",
    "    da_diff=da_in - da_diff\n",
    "    plt.figure()\n",
    "    da_diff.plot()\n",
    "\n",
    "    # Calculate regridding matrix\n",
    "    regridder = xe.Regridder(da_in, obs_grid, method, periodic=False)\n",
    "    # Regrid \n",
    "    da_out = regridder(da_in)\n",
    "    # Remove weight file\n",
    "    regridder.clean_weight_file() \n",
    "\n",
    "    da_save = da_out\n",
    "\n",
    "    da_out.name = 'IFD'\n",
    "\n",
    "    # Store in dict of user submited SIP\n",
    "    da_out.coords['model'] = cmod\n",
    "    da_out = da_out.expand_dims('model')\n",
    "    # da_out.coords['init_date'] = xr.DataArray(np.array([np.datetime64(datetime.date(int(cyear), 1, 1) + datetime.timedelta(da_in.min().values - 1))]), \n",
    "    #                                           dims='model', coords={'model':da_out.model})\n",
    "    da_out.coords['init_date'] = xr.DataArray(np.array([np.datetime64(itstr)]), \n",
    "                                              dims='model', coords={'model':da_out.model})\n",
    "\n",
    "    da_out = da_out.rename({'nj':'x', 'ni':'y'})\n",
    "    user_ifd.append(da_out)\n",
    "\n",
    "    plt.figure()\n",
    "    da_in.plot()\n",
    "    plt.figure()\n",
    "    da_out.plot()"
   ]
  },
  {
   "cell_type": "code",
   "execution_count": 14,
   "metadata": {},
   "outputs": [
    {
     "data": {
      "text/plain": [
       "[<xarray.DataArray 'IFD' (model: 1, x: 304, y: 448)>\n",
       " array([[[152., 152., ..., 152., 152.],\n",
       "         [152., 152., ..., 152., 152.],\n",
       "         ...,\n",
       "         [152., 152., ..., 152., 152.],\n",
       "         [152., 152., ..., 152., 152.]]])\n",
       " Coordinates:\n",
       "     lon        (x, y) float64 168.3 168.4 168.5 168.7 ... -9.745 -9.872 -9.999\n",
       "     lat        (x, y) float64 31.1 31.25 31.4 31.55 ... 34.92 34.77 34.62 34.47\n",
       "   * model      (model) <U13 'modcansipns_4'\n",
       "     init_date  (model) datetime64[ns] 2019-08-01\n",
       " Dimensions without coordinates: x, y\n",
       " Attributes:\n",
       "     regrid_method:  nearest_s2d]"
      ]
     },
     "execution_count": 14,
     "metadata": {},
     "output_type": "execute_result"
    }
   ],
   "source": [
    "user_ifd"
   ]
  },
  {
   "cell_type": "code",
   "execution_count": null,
   "metadata": {},
   "outputs": [],
   "source": []
  },
  {
   "cell_type": "markdown",
   "metadata": {},
   "source": [
    "### GMAO"
   ]
  },
  {
   "cell_type": "code",
   "execution_count": 15,
   "metadata": {},
   "outputs": [],
   "source": [
    "cmod = 'gmao'\n",
    "\n",
    "if r_yr_mon=='2019_June':\n",
    "    sip_f = '/home/disk/sipn/nicway/data/model/gmao/nasa_gmao_Sep2019_Junedata.nc4'\n",
    "elif r_yr_mon=='2019_July':\n",
    "    sip_f = '/home/disk/sipn/nicway/data/model/gmao/nasa_gmao_Sep2019_Junedata.nc4'\n",
    "elif r_yr_mon=='2019_August':\n",
    "    sip_f=None\n",
    "else:\n",
    "    raise ValueError(r_yr_mon,\"not found, add sip_f path.\")  \n",
    "\n",
    "if sip_f:\n",
    "    ds_user = xr.open_dataset(sip_f)\n",
    "    landmask = ds_user.IFD.notnull()\n",
    "    \n",
    "    # Mask\n",
    "    ds_user = ds_user.set_coords(['LAT','LON'])\n",
    "\n",
    "    da_in = ds_user.rename({'LON':'lon','LAT':'lat'}).IFD\n",
    "    \n",
    "    # Set never melts to first valeus (to be consistent with how sipn does it)\n",
    "    da_in = da_in.where(da_in<da_in.max().values, other=275)\n",
    "    \n",
    "    da_in = da_in.where(landmask)\n",
    "    \n",
    "\n",
    "    # Calculate regridding matrix\n",
    "    regridder = xe.Regridder(da_in, obs_grid, method, periodic=True)\n",
    "    # Regrid \n",
    "    da_out = regridder(da_in)\n",
    "    # Remove weight file\n",
    "    regridder.clean_weight_file() \n",
    "\n",
    "    da_out.name = 'IFD'\n",
    "    da_out = da_out.rename({'nj':'x', 'ni':'y'})\n",
    "\n",
    "    da_in.plot()\n",
    "    plt.figure()\n",
    "    da_out.plot()\n",
    "\n",
    "    # Store in dict of user submited SIP\n",
    "    da_out.coords['model'] = cmod\n",
    "    da_out = da_out.expand_dims('model')\n",
    "    da_out.coords['init_date'] = xr.DataArray(np.array([np.datetime64(itstr)]), \n",
    "                                          dims='model', coords={'model':da_out.model})\n",
    "    user_ifd.append(da_out)\n",
    "    "
   ]
  },
  {
   "cell_type": "code",
   "execution_count": null,
   "metadata": {},
   "outputs": [],
   "source": []
  },
  {
   "cell_type": "markdown",
   "metadata": {},
   "source": [
    "## FGOALS"
   ]
  },
  {
   "cell_type": "code",
   "execution_count": 17,
   "metadata": {},
   "outputs": [],
   "source": [
    "# I moved this to a Regrid_FGOALS_Forecast.ipynb notebook so July 2019 and foreward\n",
    "# should run that first and then include fgoals as a \"regular\" model\n",
    "# should work for June too but haven't tried it\n",
    "cmod = 'fgoalssipn'\n",
    "\n",
    "# daily freq of sic (0,1) 40 ens member so compute Sep SIC and compute binary ice presence = SIP then avg across ens\n",
    "Update_FGOALS = False  # only do when needed since very slow\n",
    "Update_FGOALS = True  # only do when needed since very slow\n",
    "rereadit = False  # redoing takes forever but probably but probably always need to Update but not reread since\n",
    "  # writing IFD to file seems to lose its name, not sure why\n",
    "\n",
    "if r_yr_mon=='2019_June':\n",
    "    sip_f = '/home/disk/sipn/nicway/data/model/fgoalssipn/forecast/native/F1.2-20190601-*.cice.h1.2019-09*.nc'\n",
    "elif r_yr_mon=='2019_July':\n",
    "    sip_f=None\n",
    "    # must fix the slice in itime below for other months\n",
    "elif r_yr_mon=='2019_August':\n",
    "    sip_f=None\n",
    "    # must fix the slice in itime below for other months\n",
    "else:\n",
    "    raise ValueError(r_yr_mon,\"not found, add sip_f path.\")  \n",
    "\n",
    "if sip_f:\n",
    "    if Update_FGOALS:\n",
    "        if rereadit:\n",
    "            da_all = []\n",
    "            for ens in np.arange(1,41,1):\n",
    "                # read in daily data for each ens and avg to monthly sic and append to one big data array\n",
    "                fens = '/home/disk/sipn/nicway/data/model/fgoalssipn/forecast/native/F1.2-20190601-'+str(ens).zfill(2)+'.cice.h1.2019-0[6-9]*.nc'\n",
    "                ds_model = xr.open_mfdataset(fens, \n",
    "                                chunks={'time': 1, 'nj': 112, 'ni': 320}, \n",
    "                                                 concat_dim='time', autoclose=True, parallel=True)\n",
    "                da=ds_model.aice_d\n",
    "                da.coords['ensemble'] = ens\n",
    "                da = da.expand_dims('ensemble')\n",
    "                da_all.append(da)\n",
    "                print(ens)\n",
    "\n",
    "            da_all = xr.concat(da_all, dim='ensemble')\n",
    "            da_all = da_all.mean(dim='ensemble')\n",
    "            da_all.name = 'sic'\n",
    "            da_all.coords['lon'] = da_all.TLON\n",
    "            da_all.coords['lat'] = da_all.TLAT\n",
    "            da_all = da_all.drop(['TLAT','TLON'])\n",
    "            da_all = da_all/100 # percent to fraction\n",
    "            da_all = da_all.isel(time=slice(0,121)) # time is off not sure why\n",
    "\n",
    "            da_all.to_netcdf('/home/disk/sipn/nicway/data/model/fgoalssipn/metric/'+cyear+'_'+cmonth+'SIC_ensmean_daily.nc')\n",
    "        else:\n",
    "            da_all=xr.open_mfdataset('/home/disk/sipn/nicway/data/model/fgoalssipn/metric/'+cyear+'_'+cmonth+'SIC_ensmean_daily.nc')\n",
    "            da_all=da_all.sic\n",
    "\n",
    "        print(da_all)\n",
    "\n",
    "        regridder = xe.Regridder(da_all, obs_grid, method, periodic=False)\n",
    "        # Regrid \n",
    "        da_out = regridder(da_all)\n",
    "        # Remove weight file\n",
    "        regridder.clean_weight_file() \n",
    "        da_out.name = 'sic'\n",
    "        \n",
    "        da = xr.DataArray(da_out.values,dims=['fore_time','x','y'])\n",
    "        da=da.expand_dims('init_time')\n",
    "        da.name = 'sic'\n",
    "        da.coords['init_date'] = xr.DataArray(np.array([np.datetime64(itstr)]),dims='init_time')\n",
    "        vt_vec = np.arange(datetime.datetime(2019,6,2),datetime.datetime(2019,10,1),datetime.timedelta(days=1)).astype('datetime64[ns]')\n",
    "        da.coords['valid_time'] = xr.DataArray(vt_vec,dims='fore_time')\n",
    "        da.coords['lon'] = xr.DataArray(da_save.lon.values,dims=['x','y'])  # these are the lat and lon from can sips\n",
    "        da.coords['lat'] = xr.DataArray(da_save.lat.values,dims=['x','y'])\n",
    "\n",
    "        ds_model = da\n",
    "        da = None\n",
    "        da_out = None\n",
    "        ds_model.load()\n",
    "\n",
    "        print('what is the time dim?')\n",
    "        print(ds_model)\n",
    "        # Calculate IFD\n",
    "        print(\"    Calculating IFD\")\n",
    "\n",
    "        DOY_first_vt = [x.timetuple().tm_yday for x in pd.to_datetime([ds_model.valid_time.min().values])]\n",
    "        ds_ifd = metrics.calc_IFD_10day(ds_model, sic_threshold=0.5, DOY_s=DOY_first_vt[0], time_dim='fore_time', \n",
    "                                    Nday=10, default_ice_free=def_icefree)\n",
    "\n",
    "        ds_ifd.name = 'IFD'\n",
    "        ds_ifd=ds_ifd.drop(['valid_time'])\n",
    "\n",
    "        ds_ifd.coords['model'] = cmod\n",
    "        ds_ifd = ds_ifd.expand_dims('model')\n",
    "        ds_ifd.coords['init_date'] = xr.DataArray(np.array([np.datetime64(itstr)]), \n",
    "                                                dims='model', coords={'model':ds_ifd.model})\n",
    "\n",
    "        ds_ifd.to_netcdf('/home/disk/sipn/nicway/data/model/fgoalssipn/metric/'+cyear+'_'+cmonth+'IFD.nc')\n",
    "        \n",
    "        ds_model = None\n",
    "\n",
    "    else:\n",
    "        ds_ifd=xr.open_mfdataset('/home/disk/sipn/nicway/data/model/fgoalssipn/metric/'+cyear+'_'+cmonth+'IFD.nc')\n",
    "\n",
    "        \n",
    "    ds_ifd.plot()\n",
    "    plt.figure()\n",
    "    user_ifd.append(ds_ifd)"
   ]
  },
  {
   "cell_type": "markdown",
   "metadata": {},
   "source": [
    "## Nice Sun"
   ]
  },
  {
   "cell_type": "code",
   "execution_count": 18,
   "metadata": {},
   "outputs": [
    {
     "name": "stdout",
     "output_type": "stream",
     "text": [
      "vt_vec is  61\n",
      "    Calculating IFD\n",
      "213 213\n",
      "<xarray.DataArray 'sic' (fore_time: 61, x: 304, y: 448)>\n",
      "array([[[ 0.,  0., ..., nan, nan],\n",
      "        [ 0.,  0., ..., nan, nan],\n",
      "        ...,\n",
      "        [nan, nan, ...,  0.,  0.],\n",
      "        [nan, nan, ...,  0.,  0.]],\n",
      "\n",
      "       [[ 0.,  0., ..., nan, nan],\n",
      "        [ 0.,  0., ..., nan, nan],\n",
      "        ...,\n",
      "        [nan, nan, ...,  0.,  0.],\n",
      "        [nan, nan, ...,  0.,  0.]],\n",
      "\n",
      "       ...,\n",
      "\n",
      "       [[ 0.,  0., ..., nan, nan],\n",
      "        [ 0.,  0., ..., nan, nan],\n",
      "        ...,\n",
      "        [nan, nan, ...,  0.,  0.],\n",
      "        [nan, nan, ...,  0.,  0.]],\n",
      "\n",
      "       [[ 0.,  0., ..., nan, nan],\n",
      "        [ 0.,  0., ..., nan, nan],\n",
      "        ...,\n",
      "        [nan, nan, ...,  0.,  0.],\n",
      "        [nan, nan, ...,  0.,  0.]]])\n",
      "Coordinates:\n",
      "    valid_time  (fore_time) datetime64[ns] 2019-08-01 2019-08-02 ... 2019-09-30\n",
      "    lon         (x, y) float64 168.3 168.4 168.5 168.7 ... -9.745 -9.872 -9.999\n",
      "    lat         (x, y) float64 31.1 31.25 31.4 31.55 ... 34.92 34.77 34.62 34.47\n",
      "Dimensions without coordinates: fore_time, x, y\n"
     ]
    },
    {
     "data": {
      "image/png": "[encoded data removed]",
      "text/plain": [
       "<Figure size 432x288 with 2 Axes>"
      ]
     },
     "metadata": {},
     "output_type": "display_data"
    },
    {
     "data": {
      "image/png": "[encoded data removed]",
      "text/plain": [
       "<Figure size 432x288 with 2 Axes>"
      ]
     },
     "metadata": {},
     "output_type": "display_data"
    },
    {
     "data": {
      "text/plain": [
       "<Figure size 432x288 with 0 Axes>"
      ]
     },
     "metadata": {},
     "output_type": "display_data"
    }
   ],
   "source": [
    "cmod = 'nicosipn'\n",
    "NMAX = 122\n",
    "# Nicos files have time variable = 1 to 122 and always start on June 1 so must chop off \n",
    "if r_yr_mon=='2019_June':\n",
    "    sip_f = '/home/disk/sipn/upload/nicosipn/forecast/2019_06/NicoSun_2019_002_concentration.nc'\n",
    "    NMIN=1\n",
    "elif r_yr_mon=='2019_July':\n",
    "    sip_f = '/home/disk/sipn/upload/nicosipn/forecast/2019_07/NicoSun_2019_002_concentration.nc'\n",
    "    NMIN=31\n",
    "elif r_yr_mon=='2019_August':\n",
    "    sip_f = '/home/disk/sipn/upload/nicosipn/forecast/2019_08/NicoSun_2019_002_concentration.nc'\n",
    "    # must fix the slice in itime below for other months\n",
    "    NMIN=61\n",
    "else:\n",
    "    raise ValueError(r_yr_mon,\"not found, add sip_f path.\")  \n",
    "\n",
    "if sip_f:\n",
    "    ds_user = xr.open_dataset(sip_f)\n",
    "    ds_user = ds_user.isel(time=range(NMIN,NMAX))\n",
    "    theland = ds_user.sftof  # nico land mask        \n",
    "    ds_user = ds_user.siconc\n",
    "    ds_user = ds_user.where(theland<50, other=np.nan)\n",
    "    \n",
    "    da = xr.DataArray(ds_user.values/100,dims=['fore_time','y','x'])\n",
    "    da=da.transpose('fore_time','x','y')    \n",
    "    #da=da.expand_dims('init_time')\n",
    "    da.name = 'sic'    \n",
    "    #da.coords['init_date'] = xr.DataArray(np.array([np.datetime64(itstr)]),dims='init_time')\n",
    "    \n",
    "    if r_yr_mon=='2019_June':\n",
    "        vt_vec = np.arange(datetime.datetime(2019,6,1),datetime.datetime(2019,10,1),datetime.timedelta(days=1)).astype('datetime64[ns]')\n",
    "    elif r_yr_mon=='2019_July':\n",
    "        vt_vec = np.arange(datetime.datetime(2019,7,1),datetime.datetime(2019,10,1),datetime.timedelta(days=1)).astype('datetime64[ns]')\n",
    "    elif r_yr_mon=='2019_August':\n",
    "        vt_vec = np.arange(datetime.datetime(2019,8,1),datetime.datetime(2019,10,1),datetime.timedelta(days=1)).astype('datetime64[ns]')\n",
    "\n",
    "    print('vt_vec is ',len(vt_vec))\n",
    "    da.coords['valid_time'] = xr.DataArray(vt_vec,dims='fore_time')\n",
    "    da.coords['lon'] = xr.DataArray(obs_grid.lon.values,dims=['x','y'])  # these are the lat and lon from can sips\n",
    "    da.coords['lat'] = xr.DataArray(obs_grid.lat.values,dims=['x','y'])\n",
    "\n",
    "    ds_model = da\n",
    "    da = None\n",
    "    ds_model.load()\n",
    "    \n",
    "    # Calculate IFD\n",
    "    print(\"    Calculating IFD\")\n",
    "#             if cmod=='szapirosipn':\n",
    "#                 xr.exit()\n",
    "\n",
    "    DOY_first_vt = [x.timetuple().tm_yday for x in pd.to_datetime([ds_model.valid_time.min().values])]\n",
    "    print(DOY_first_vt[0], def_icefree)\n",
    "    print(ds_model)\n",
    "    ds_model.min(dim='fore_time').plot()\n",
    "    plt.figure()\n",
    "    \n",
    "    #perenial_ice_mask = (ds_model.min(dim='fore_time') >= sic_threshold)\n",
    "    \n",
    "\n",
    "    ds_ifd = metrics.calc_IFD_10day(ds_model, sic_threshold=0.5, DOY_s=DOY_first_vt[0], time_dim='fore_time', \n",
    "                                Nday=10, default_ice_free=def_icefree)\n",
    "\n",
    "#    ds_ifd = calc_IFD_10day(ds_model, sic_threshold=0.5, DOY_s=213, time_dim='fore_time', \n",
    "#                                Nday=10, default_ice_free=def_icefree)\n",
    "\n",
    "    ds_ifd.name = 'IFD'\n",
    "    ds_ifd=ds_ifd.drop(['valid_time'])\n",
    "    ds_ifd.plot()\n",
    "    plt.figure()\n",
    "    \n",
    "    ds_ifd.coords['model'] = cmod\n",
    "    ds_ifd = ds_ifd.expand_dims('model')\n",
    "    ds_ifd.coords['init_date'] = xr.DataArray(np.array([np.datetime64(itstr)]), \n",
    "                                            dims='model', coords={'model':ds_ifd.model})\n",
    "    user_ifd.append(ds_ifd)\n",
    "    ds_model = None\n",
    "    ds_ifd = None"
   ]
  },
  {
   "cell_type": "code",
   "execution_count": null,
   "metadata": {},
   "outputs": [],
   "source": []
  },
  {
   "cell_type": "code",
   "execution_count": 19,
   "metadata": {},
   "outputs": [
    {
     "data": {
      "text/plain": [
       "<xarray.DataArray 'IFD' (model: 2, x: 304, y: 448)>\n",
       "array([[[152., 152., ..., 152., 152.],\n",
       "        [152., 152., ..., 152., 152.],\n",
       "        ...,\n",
       "        [152., 152., ..., 152., 152.],\n",
       "        [152., 152., ..., 152., 152.]],\n",
       "\n",
       "       [[213., 213., ...,  nan,  nan],\n",
       "        [213., 213., ...,  nan,  nan],\n",
       "        ...,\n",
       "        [ nan,  nan, ..., 213., 213.],\n",
       "        [ nan,  nan, ..., 213., 213.]]])\n",
       "Coordinates:\n",
       "    lon        (x, y) float64 168.3 168.4 168.5 168.7 ... -9.745 -9.872 -9.999\n",
       "    lat        (x, y) float64 31.1 31.25 31.4 31.55 ... 34.92 34.77 34.62 34.47\n",
       "  * model      (model) object 'modcansipns_4' 'nicosipn'\n",
       "    init_date  (model) datetime64[ns] 2019-08-01 2019-08-01\n",
       "Dimensions without coordinates: x, y"
      ]
     },
     "execution_count": 19,
     "metadata": {},
     "output_type": "execute_result"
    }
   ],
   "source": [
    "# Concat them together by model\n",
    "usr_IFD = xr.concat(user_ifd, dim='model')\n",
    "#usr_IFD = usr_IFD.rename({'nj':'x', 'ni':'y'})\n",
    "usr_IFD.name = 'IFD'\n",
    "usr_IFD"
   ]
  },
  {
   "cell_type": "code",
   "execution_count": 23,
   "metadata": {},
   "outputs": [
    {
     "name": "stdout",
     "output_type": "stream",
     "text": [
      "Looking for init times between 2018-12-30T00:00:00.000000 and 2019-08-14T00:00:00.000000\n"
     ]
    }
   ],
   "source": [
    "# Define the last init day as the 11th of the current month's report (i.e. June would be the 13th of June)\n",
    "if cmonth=='August':\n",
    "    last_init_day = np.datetime64(datetime.datetime(int(cyear),mon_2_int[cmonth],14))\n",
    "else:\n",
    "    last_init_day = np.datetime64(datetime.datetime(int(cyear),mon_2_int[cmonth],13))\n",
    "\n",
    "# Define the earliest init day as 1 year before last_init_day ( some models init on 1st of month (i.e. UCL))\n",
    "first_init_day = np.datetime64(datetime.datetime(int(cyear),1,1))-np.timedelta64(2,'D')    # last_init_day-np.timedelta64(365,'D')\n",
    "print(\"Looking for init times between\",first_init_day,\"and\",last_init_day)"
   ]
  },
  {
   "cell_type": "code",
   "execution_count": 24,
   "metadata": {
    "scrolled": false
   },
   "outputs": [
    {
     "name": "stdout",
     "output_type": "stream",
     "text": [
      "\n",
      "\n",
      "----------------  gfdlsipn\n",
      "NEAR START, ds_model is  <xarray.Dataset>\n",
      "Dimensions:    (ensemble: 12, fore_time: 365, init_time: 8, x: 304, y: 448)\n",
      "Coordinates:\n",
      "    lon        (x, y) float64 168.3 168.4 168.5 168.7 ... -9.745 -9.872 -9.999\n",
      "    lat        (x, y) float64 31.1 31.25 31.4 31.55 ... 34.92 34.77 34.62 34.47\n",
      "  * ensemble   (ensemble) int64 1 2 3 4 5 6 7 8 9 10 11 12\n",
      "  * fore_time  (fore_time) timedelta64[ns] 0 days 1 days ... 363 days 364 days\n",
      "  * init_time  (init_time) datetime64[ns] 2019-01-01 2019-02-01 ... 2019-08-01\n",
      "Dimensions without coordinates: x, y\n",
      "Data variables:\n",
      "    sic        (ensemble, init_time, fore_time, x, y) float64 dask.array<shape=(12, 8, 365, 304, 448), chunksize=(12, 1, 365, 304, 448)>\n",
      "    hi         (ensemble, init_time, fore_time, x, y) float64 dask.array<shape=(12, 8, 365, 304, 448), chunksize=(12, 1, 365, 304, 448)>\n",
      "    Init time used is 2019-08-01T00:00:00.000000000\n"
     ]
    },
    {
     "name": "stderr",
     "output_type": "stream",
     "text": [
      "/home/disk/sipn/nicway/anaconda3/envs/esio/lib/python3.6/site-packages/dask/array/numpy_compat.py:28: RuntimeWarning: invalid value encountered in true_divide\n",
      "  x = np.divide(x1, x2, out)\n"
     ]
    },
    {
     "name": "stdout",
     "output_type": "stream",
     "text": [
      "<xarray.DataArray (init_time: 1, fore_time: 61, x: 304, y: 448)>\n",
      "array([[[[ 0., ..., nan],\n",
      "         ...,\n",
      "         [nan, ...,  0.]],\n",
      "\n",
      "        ...,\n",
      "\n",
      "        [[ 0., ..., nan],\n",
      "         ...,\n",
      "         [nan, ...,  0.]]]])\n",
      "Coordinates:\n",
      "    lon         (x, y) float64 168.3 168.4 168.5 168.7 ... -9.745 -9.872 -9.999\n",
      "    lat         (x, y) float64 31.1 31.25 31.4 31.55 ... 34.92 34.77 34.62 34.47\n",
      "  * fore_time   (fore_time) timedelta64[ns] 0 days 1 days ... 59 days 60 days\n",
      "  * init_time   (init_time) datetime64[ns] 2019-08-01\n",
      "    valid_time  (init_time, fore_time) datetime64[ns] 2019-08-01 ... 2019-09-30\n",
      "Dimensions without coordinates: x, y\n",
      "    Calculating IFD\n",
      "DOY_first_vt  [213]\n",
      "******ds_model looks like ****** <xarray.DataArray (init_time: 1, fore_time: 61, x: 304, y: 448)>\n",
      "array([[[[ 0., ..., nan],\n",
      "         ...,\n",
      "         [nan, ...,  0.]],\n",
      "\n",
      "        ...,\n",
      "\n",
      "        [[ 0., ..., nan],\n",
      "         ...,\n",
      "         [nan, ...,  0.]]]])\n",
      "Coordinates:\n",
      "    lon         (x, y) float64 168.3 168.4 168.5 168.7 ... -9.745 -9.872 -9.999\n",
      "    lat         (x, y) float64 31.1 31.25 31.4 31.55 ... 34.92 34.77 34.62 34.47\n",
      "  * fore_time   (fore_time) timedelta64[ns] 0 days 1 days ... 59 days 60 days\n",
      "  * init_time   (init_time) datetime64[ns] 2019-08-01\n",
      "    valid_time  (init_time, fore_time) datetime64[ns] 2019-08-01 ... 2019-09-30\n",
      "Dimensions without coordinates: x, y\n",
      "    Added  gfdlsipn  to MME.\n",
      "\n",
      "\n",
      "----------------  ukmetofficesipn\n",
      "NEAR START, ds_model is  <xarray.Dataset>\n",
      "Dimensions:    (ensemble: 2, fore_time: 215, init_time: 212, x: 304, y: 448)\n",
      "Coordinates:\n",
      "  * fore_time  (fore_time) timedelta64[ns] 1 days 2 days ... 214 days 215 days\n",
      "    lon        (x, y) float64 168.3 168.4 168.5 168.7 ... -9.745 -9.872 -9.999\n",
      "    lat        (x, y) float64 31.1 31.25 31.4 31.55 ... 34.92 34.77 34.62 34.47\n",
      "  * ensemble   (ensemble) int32 0 1\n",
      "  * init_time  (init_time) datetime64[ns] 2019-01-01 2019-01-02 ... 2019-08-01\n",
      "Dimensions without coordinates: x, y\n",
      "Data variables:\n",
      "    sic        (ensemble, init_time, fore_time, x, y) float64 dask.array<shape=(2, 212, 215, 304, 448), chunksize=(2, 1, 215, 304, 448)>\n",
      "    Init times used are ['2019-07-12T00:00:00.000000000' '2019-07-13T00:00:00.000000000'\n",
      " '2019-07-14T00:00:00.000000000' '2019-07-15T00:00:00.000000000'\n",
      " '2019-07-16T00:00:00.000000000' '2019-07-17T00:00:00.000000000'\n",
      " '2019-07-18T00:00:00.000000000' '2019-07-19T00:00:00.000000000'\n",
      " '2019-07-20T00:00:00.000000000' '2019-07-21T00:00:00.000000000'\n",
      " '2019-07-22T00:00:00.000000000' '2019-07-23T00:00:00.000000000'\n",
      " '2019-07-24T00:00:00.000000000' '2019-07-25T00:00:00.000000000'\n",
      " '2019-07-26T00:00:00.000000000' '2019-07-27T00:00:00.000000000'\n",
      " '2019-07-28T00:00:00.000000000' '2019-07-29T00:00:00.000000000'\n",
      " '2019-07-30T00:00:00.000000000' '2019-07-31T00:00:00.000000000'\n",
      " '2019-08-01T00:00:00.000000000']\n",
      "<xarray.DataArray 'sic' (fore_time: 215, x: 304, y: 448, ensemble: 42)>\n",
      "dask.array<shape=(215, 304, 448, 42), dtype=float64, chunksize=(215, 304, 448, 21)>\n",
      "Coordinates:\n",
      "  * fore_time  (fore_time) timedelta64[ns] 1 days 2 days ... 214 days 215 days\n",
      "    lon        (x, y) float64 168.3 168.4 168.5 168.7 ... -9.745 -9.872 -9.999\n",
      "    lat        (x, y) float64 31.1 31.25 31.4 31.55 ... 34.92 34.77 34.62 34.47\n",
      "  * ensemble   (ensemble) int64 1 2 3 4 5 6 7 8 9 ... 34 35 36 37 38 39 40 41 42\n",
      "    init_time  datetime64[ns] 2019-08-01\n",
      "Dimensions without coordinates: x, y\n",
      "Attributes:\n",
      "    regrid_method:  nearest_s2d\n",
      "    Init time used is 2019-08-01T00:00:00.000000000\n"
     ]
    },
    {
     "name": "stderr",
     "output_type": "stream",
     "text": [
      "/home/disk/sipn/nicway/anaconda3/envs/esio/lib/python3.6/site-packages/dask/array/numpy_compat.py:28: RuntimeWarning: invalid value encountered in true_divide\n",
      "  x = np.divide(x1, x2, out)\n"
     ]
    },
    {
     "name": "stdout",
     "output_type": "stream",
     "text": [
      "<xarray.DataArray (init_time: 1, fore_time: 60, x: 304, y: 448)>\n",
      "array([[[[ 0., ..., nan],\n",
      "         ...,\n",
      "         [nan, ...,  0.]],\n",
      "\n",
      "        ...,\n",
      "\n",
      "        [[ 0., ..., nan],\n",
      "         ...,\n",
      "         [nan, ...,  0.]]]])\n",
      "Coordinates:\n",
      "  * fore_time   (fore_time) timedelta64[ns] 1 days 2 days ... 59 days 60 days\n",
      "    lon         (x, y) float64 168.3 168.4 168.5 168.7 ... -9.745 -9.872 -9.999\n",
      "    lat         (x, y) float64 31.1 31.25 31.4 31.55 ... 34.92 34.77 34.62 34.47\n",
      "  * init_time   (init_time) datetime64[ns] 2019-08-01\n",
      "    valid_time  (init_time, fore_time) datetime64[ns] 2019-08-02 ... 2019-09-30\n",
      "Dimensions without coordinates: x, y\n",
      "    Calculating IFD\n",
      "DOY_first_vt  [214]\n",
      "******ds_model looks like ****** <xarray.DataArray (init_time: 1, fore_time: 60, x: 304, y: 448)>\n",
      "array([[[[ 0., ..., nan],\n",
      "         ...,\n",
      "         [nan, ...,  0.]],\n",
      "\n",
      "        ...,\n",
      "\n",
      "        [[ 0., ..., nan],\n",
      "         ...,\n",
      "         [nan, ...,  0.]]]])\n",
      "Coordinates:\n",
      "  * fore_time   (fore_time) timedelta64[ns] 1 days 2 days ... 59 days 60 days\n",
      "    lon         (x, y) float64 168.3 168.4 168.5 168.7 ... -9.745 -9.872 -9.999\n",
      "    lat         (x, y) float64 31.1 31.25 31.4 31.55 ... 34.92 34.77 34.62 34.47\n",
      "  * init_time   (init_time) datetime64[ns] 2019-08-01\n",
      "    valid_time  (init_time, fore_time) datetime64[ns] 2019-08-02 ... 2019-09-30\n",
      "Dimensions without coordinates: x, y\n",
      "    Added  ukmetofficesipn  to MME.\n",
      "\n",
      "\n",
      "----------------  usnavysipn\n",
      "NEAR START, ds_model is  <xarray.Dataset>\n",
      "Dimensions:    (ensemble: 1, fore_time: 278, init_time: 30, x: 304, y: 448)\n",
      "Coordinates:\n",
      "  * fore_time  (fore_time) timedelta64[ns] 0 days 12:00:00 ... 153 days\n",
      "    lon        (x, y) float64 168.3 168.4 168.5 168.7 ... -9.745 -9.872 -9.999\n",
      "    lat        (x, y) float64 31.1 31.25 31.4 31.55 ... 34.92 34.77 34.62 34.47\n",
      "  * init_time  (init_time) datetime64[ns] 2019-05-01 ... 2019-07-10T12:00:00\n",
      "Dimensions without coordinates: ensemble, x, y\n",
      "Data variables:\n",
      "    sic        (init_time, ensemble, fore_time, x, y) float64 dask.array<shape=(30, 1, 278, 304, 448), chunksize=(1, 1, 278, 304, 448)>\n",
      "    Init times used are ['2019-07-01T12:00:00.000000000' '2019-07-02T12:00:00.000000000'\n",
      " '2019-07-03T12:00:00.000000000' '2019-07-04T12:00:00.000000000'\n",
      " '2019-07-05T12:00:00.000000000' '2019-07-06T12:00:00.000000000'\n",
      " '2019-07-07T12:00:00.000000000' '2019-07-08T12:00:00.000000000'\n",
      " '2019-07-09T12:00:00.000000000' '2019-07-10T12:00:00.000000000']\n",
      "<xarray.DataArray 'sic' (fore_time: 278, x: 304, y: 448, ensemble: 10)>\n",
      "dask.array<shape=(278, 304, 448, 10), dtype=float64, chunksize=(278, 304, 448, 1)>\n",
      "Coordinates:\n",
      "  * fore_time  (fore_time) timedelta64[ns] 0 days 12:00:00 ... 153 days\n",
      "    lon        (x, y) float64 168.3 168.4 168.5 168.7 ... -9.745 -9.872 -9.999\n",
      "    lat        (x, y) float64 31.1 31.25 31.4 31.55 ... 34.92 34.77 34.62 34.47\n",
      "  * ensemble   (ensemble) int64 1 2 3 4 5 6 7 8 9 10\n",
      "    init_time  datetime64[ns] 2019-07-10T12:00:00\n",
      "Dimensions without coordinates: x, y\n",
      "Attributes:\n",
      "    regrid_method:  nearest_s2d\n",
      "    Init time used is 2019-07-10T12:00:00.000000000\n"
     ]
    },
    {
     "name": "stderr",
     "output_type": "stream",
     "text": [
      "/home/disk/sipn/nicway/anaconda3/envs/esio/lib/python3.6/site-packages/dask/array/numpy_compat.py:28: RuntimeWarning: invalid value encountered in true_divide\n",
      "  x = np.divide(x1, x2, out)\n"
     ]
    },
    {
     "name": "stdout",
     "output_type": "stream",
     "text": [
      "<xarray.DataArray (init_time: 1, fore_time: 163, x: 304, y: 448)>\n",
      "array([[[[ 0., ..., nan],\n",
      "         ...,\n",
      "         [nan, ...,  0.]],\n",
      "\n",
      "        ...,\n",
      "\n",
      "        [[ 0., ..., nan],\n",
      "         ...,\n",
      "         [nan, ...,  0.]]]])\n",
      "Coordinates:\n",
      "  * fore_time   (fore_time) timedelta64[ns] 0 days 12:00:00 ... 81 days 12:00:00\n",
      "    lon         (x, y) float64 168.3 168.4 168.5 168.7 ... -9.745 -9.872 -9.999\n",
      "    lat         (x, y) float64 31.1 31.25 31.4 31.55 ... 34.92 34.77 34.62 34.47\n",
      "  * init_time   (init_time) datetime64[ns] 2019-07-10T12:00:00\n",
      "    valid_time  (init_time, fore_time) datetime64[ns] 2019-07-11 ... 2019-09-30\n",
      "Dimensions without coordinates: x, y\n",
      "    Calculating IFD\n",
      "DOY_first_vt  [192]\n",
      "******ds_model looks like ****** <xarray.DataArray (init_time: 1, fore_time: 163, x: 304, y: 448)>\n",
      "array([[[[ 0., ..., nan],\n",
      "         ...,\n",
      "         [nan, ...,  0.]],\n",
      "\n",
      "        ...,\n",
      "\n",
      "        [[ 0., ..., nan],\n",
      "         ...,\n",
      "         [nan, ...,  0.]]]])\n",
      "Coordinates:\n",
      "  * fore_time   (fore_time) timedelta64[ns] 0 days 12:00:00 ... 81 days 12:00:00\n",
      "    lon         (x, y) float64 168.3 168.4 168.5 168.7 ... -9.745 -9.872 -9.999\n",
      "    lat         (x, y) float64 31.1 31.25 31.4 31.55 ... 34.92 34.77 34.62 34.47\n",
      "  * init_time   (init_time) datetime64[ns] 2019-07-10T12:00:00\n",
      "    valid_time  (init_time, fore_time) datetime64[ns] 2019-07-11 ... 2019-09-30\n",
      "Dimensions without coordinates: x, y\n",
      "    Added  usnavysipn  to MME.\n",
      "\n",
      "\n",
      "----------------  awispin\n",
      "NEAR START, ds_model is  <xarray.Dataset>\n",
      "Dimensions:    (ensemble: 10, fore_time: 117, init_time: 3, x: 304, y: 448)\n",
      "Coordinates:\n",
      "  * fore_time  (fore_time) timedelta64[ns] 0 days 1 days ... 115 days 116 days\n",
      "    lon        (x, y) float64 168.3 168.4 168.5 168.7 ... -9.745 -9.872 -9.999\n",
      "    lat        (x, y) float64 31.1 31.25 31.4 31.55 ... 34.92 34.77 34.62 34.47\n",
      "  * ensemble   (ensemble) int64 1 2 3 4 5 6 7 8 9 10\n",
      "  * init_time  (init_time) datetime64[ns] 2019-06-07 2019-07-10 2019-08-12\n",
      "Dimensions without coordinates: x, y\n",
      "Data variables:\n",
      "    sic        (init_time, ensemble, fore_time, x, y) float32 dask.array<shape=(3, 10, 117, 304, 448), chunksize=(1, 10, 117, 304, 448)>\n",
      "Attributes:\n",
      "    CDI:            Climate Data Interface version 1.9.6 (http://mpimet.mpg.d...\n",
      "    Conventions:    CF-1.4\n",
      "    history:        Tue Jun 25 06:57:44 2019: cdo remapbil,../../../stereo_gr...\n",
      "    title:           ice time mean\n",
      "    missing-value:  -1e+30\n",
      "    year:           2009\n",
      "    month:          6\n",
      "    day:            7\n",
      "    hour:           0\n",
      "    minute:         0\n",
      "    second:         0\n",
      "    CDO:            Climate Data Operators version 1.9.6 (http://mpimet.mpg.d...\n",
      "SELECTING LAST TIME\n",
      "['2019-06-07T00:00:00.000000000' '2019-07-10T00:00:00.000000000'\n",
      " '2019-08-12T00:00:00.000000000']\n",
      "    Init time used is 2019-08-12T00:00:00.000000000\n"
     ]
    },
    {
     "name": "stderr",
     "output_type": "stream",
     "text": [
      "/home/disk/sipn/nicway/anaconda3/envs/esio/lib/python3.6/site-packages/dask/array/numpy_compat.py:28: RuntimeWarning: invalid value encountered in true_divide\n",
      "  x = np.divide(x1, x2, out)\n"
     ]
    },
    {
     "name": "stdout",
     "output_type": "stream",
     "text": [
      "<xarray.DataArray (init_time: 1, fore_time: 50, x: 304, y: 448)>\n",
      "array([[[[nan, ..., nan],\n",
      "         ...,\n",
      "         [nan, ..., nan]],\n",
      "\n",
      "        ...,\n",
      "\n",
      "        [[nan, ..., nan],\n",
      "         ...,\n",
      "         [nan, ..., nan]]]], dtype=float32)\n",
      "Coordinates:\n",
      "  * fore_time   (fore_time) timedelta64[ns] 0 days 1 days ... 48 days 49 days\n",
      "    lon         (x, y) float64 168.3 168.4 168.5 168.7 ... -9.745 -9.872 -9.999\n",
      "    lat         (x, y) float64 31.1 31.25 31.4 31.55 ... 34.92 34.77 34.62 34.47\n",
      "  * init_time   (init_time) datetime64[ns] 2019-08-12\n",
      "    valid_time  (init_time, fore_time) datetime64[ns] 2019-08-12 ... 2019-09-30\n",
      "Dimensions without coordinates: x, y\n",
      "    Calculating IFD\n",
      "DOY_first_vt  [224]\n",
      "******ds_model looks like ****** <xarray.DataArray (init_time: 1, fore_time: 50, x: 304, y: 448)>\n",
      "array([[[[nan, ..., nan],\n",
      "         ...,\n",
      "         [nan, ..., nan]],\n",
      "\n",
      "        ...,\n",
      "\n",
      "        [[nan, ..., nan],\n",
      "         ...,\n",
      "         [nan, ..., nan]]]], dtype=float32)\n",
      "Coordinates:\n",
      "  * fore_time   (fore_time) timedelta64[ns] 0 days 1 days ... 48 days 49 days\n",
      "    lon         (x, y) float64 168.3 168.4 168.5 168.7 ... -9.745 -9.872 -9.999\n",
      "    lat         (x, y) float64 31.1 31.25 31.4 31.55 ... 34.92 34.77 34.62 34.47\n",
      "  * init_time   (init_time) datetime64[ns] 2019-08-12\n",
      "    valid_time  (init_time, fore_time) datetime64[ns] 2019-08-12 ... 2019-09-30\n",
      "Dimensions without coordinates: x, y\n",
      "    Added  awispin  to MME.\n",
      "\n",
      "\n",
      "----------------  fgoalssipn\n",
      "WARNING NEED TO UPDATE FGOALS BY HAND BECAUSE FTIMES VARY IN NUMBER GRR\n",
      "/home/disk/sipn/nicway/data/model/fgoalssipn/forecast/sipn_nc/*2019081[2-4]*_Stereo.nc\n",
      "NEAR START, ds_model is  <xarray.Dataset>\n",
      "Dimensions:    (ensemble: 16, fore_time: 65, init_time: 3, x: 304, y: 448)\n",
      "Coordinates:\n",
      "    lon        (x, y) float64 168.3 168.4 168.5 168.7 ... -9.745 -9.872 -9.999\n",
      "    lat        (x, y) float64 31.1 31.25 31.4 31.55 ... 34.92 34.77 34.62 34.47\n",
      "  * ensemble   (ensemble) int64 11 12 13 14 21 22 23 24 31 32 33 34 41 42 43 44\n",
      "  * fore_time  (fore_time) timedelta64[ns] 1 days 2 days ... 64 days 65 days\n",
      "  * init_time  (init_time) datetime64[ns] 2019-08-12 2019-08-13 2019-08-14\n",
      "Dimensions without coordinates: x, y\n",
      "Data variables:\n",
      "    sic        (init_time, ensemble, fore_time, x, y) float64 dask.array<shape=(3, 16, 65, 304, 448), chunksize=(1, 16, 65, 304, 448)>\n",
      "    Init time used is 2019-08-14T00:00:00.000000000\n"
     ]
    },
    {
     "name": "stderr",
     "output_type": "stream",
     "text": [
      "/home/disk/sipn/nicway/anaconda3/envs/esio/lib/python3.6/site-packages/dask/array/numpy_compat.py:28: RuntimeWarning: invalid value encountered in true_divide\n",
      "  x = np.divide(x1, x2, out)\n"
     ]
    },
    {
     "name": "stdout",
     "output_type": "stream",
     "text": [
      "<xarray.DataArray (init_time: 1, fore_time: 47, x: 304, y: 448)>\n",
      "array([[[[ 0., ..., nan],\n",
      "         ...,\n",
      "         [nan, ...,  0.]],\n",
      "\n",
      "        ...,\n",
      "\n",
      "        [[ 0., ..., nan],\n",
      "         ...,\n",
      "         [nan, ...,  0.]]]])\n",
      "Coordinates:\n",
      "    lon         (x, y) float64 168.3 168.4 168.5 168.7 ... -9.745 -9.872 -9.999\n",
      "    lat         (x, y) float64 31.1 31.25 31.4 31.55 ... 34.92 34.77 34.62 34.47\n",
      "  * fore_time   (fore_time) timedelta64[ns] 1 days 2 days ... 46 days 47 days\n",
      "  * init_time   (init_time) datetime64[ns] 2019-08-14\n",
      "    valid_time  (init_time, fore_time) datetime64[ns] 2019-08-15 ... 2019-09-30\n",
      "Dimensions without coordinates: x, y\n",
      "    Calculating IFD\n",
      "DOY_first_vt  [227]\n",
      "******ds_model looks like ****** <xarray.DataArray (init_time: 1, fore_time: 47, x: 304, y: 448)>\n",
      "array([[[[ 0., ..., nan],\n",
      "         ...,\n",
      "         [nan, ...,  0.]],\n",
      "\n",
      "        ...,\n",
      "\n",
      "        [[ 0., ..., nan],\n",
      "         ...,\n",
      "         [nan, ...,  0.]]]])\n",
      "Coordinates:\n",
      "    lon         (x, y) float64 168.3 168.4 168.5 168.7 ... -9.745 -9.872 -9.999\n",
      "    lat         (x, y) float64 31.1 31.25 31.4 31.55 ... 34.92 34.77 34.62 34.47\n",
      "  * fore_time   (fore_time) timedelta64[ns] 1 days 2 days ... 46 days 47 days\n",
      "  * init_time   (init_time) datetime64[ns] 2019-08-14\n",
      "    valid_time  (init_time, fore_time) datetime64[ns] 2019-08-15 ... 2019-09-30\n",
      "Dimensions without coordinates: x, y\n",
      "    Added  fgoalssipn  to MME.\n"
     ]
    },
    {
     "data": {
      "image/png": "[encoded data removed]",
      "text/plain": [
       "<Figure size 432x288 with 2 Axes>"
      ]
     },
     "metadata": {},
     "output_type": "display_data"
    },
    {
     "data": {
      "image/png": "[encoded data removed]",
      "text/plain": [
       "<Figure size 432x288 with 2 Axes>"
      ]
     },
     "metadata": {},
     "output_type": "display_data"
    },
    {
     "data": {
      "image/png": "[encoded data removed]",
      "text/plain": [
       "<Figure size 432x288 with 2 Axes>"
      ]
     },
     "metadata": {},
     "output_type": "display_data"
    },
    {
     "data": {
      "image/png": "[encoded data removed]",
      "text/plain": [
       "<Figure size 432x288 with 2 Axes>"
      ]
     },
     "metadata": {},
     "output_type": "display_data"
    },
    {
     "data": {
      "image/png": "[encoded data removed]",
      "text/plain": [
       "<Figure size 432x288 with 2 Axes>"
      ]
     },
     "metadata": {},
     "output_type": "display_data"
    },
    {
     "data": {
      "text/plain": [
       "<Figure size 432x288 with 0 Axes>"
      ]
     },
     "metadata": {},
     "output_type": "display_data"
    }
   ],
   "source": [
    "for cvar in variables:\n",
    "    \n",
    "    # Define fig dir and make if doesn't exist\n",
    "    fig_dir = os.path.join(E.fig_dir, 'model', 'SIO_Reports', cyear, cmonth)\n",
    "    if not os.path.exists(fig_dir):\n",
    "        os.makedirs(fig_dir)\n",
    "       \n",
    "    # Loop through variable of interest + any metrics (i.e. SIP) based on that\n",
    "    for metric in metrics_all[cvar]:\n",
    "\n",
    "        MME_list = []      \n",
    "    \n",
    "        # For each model\n",
    "        for (i, cmod) in enumerate(models_2_plot): # ['nicosipn']\n",
    "        #for (i, cmod) in enumerate(['usnavysipn']): # ['nicosipn']\n",
    "            print('\\n\\n---------------- ',cmod)\n",
    "\n",
    "                        # Load in Model data for just this year\n",
    "            model_forecast = os.path.join(E.model[cmod][runType]['sipn_nc'], \n",
    "                                          '*'+cyear+'*.nc') \n",
    "\n",
    "            if (cmod=='fgoalssipn') and (cmonth == 'July'):\n",
    "                model_forecast = os.path.join(E.model[cmod][runType]['sipn_nc'], \n",
    "                                          '*20190709_Stereo.nc') \n",
    "                print('WARNING NEED TO UPDATE FGOALS BY HAND BECAUSE FTIMES VARY IN NUMBER GRR')\n",
    "            elif (cmod=='fgoalssipn') and (cmonth == 'August'):\n",
    "                model_forecast = os.path.join(E.model[cmod][runType]['sipn_nc'], \n",
    "                                          '*2019081[2-4]*_Stereo.nc') \n",
    "                print('WARNING NEED TO UPDATE FGOALS BY HAND BECAUSE FTIMES VARY IN NUMBER GRR')\n",
    "                print(model_forecast)\n",
    "\n",
    "                \n",
    "            # Check we have files \n",
    "            files = glob.glob(model_forecast)\n",
    "            if not files:\n",
    "                #print(\"Skipping model\", cmod, \"no forecast files found.\")\n",
    "                continue # Skip this model\n",
    "            ds_model = xr.open_mfdataset(model_forecast, \n",
    "                        chunks={'init_time': 1, 'nj': 304, 'ni': 448}, \n",
    "                                         concat_dim='init_time', autoclose=True, parallel=True)\n",
    "            ds_model.rename({'nj':'x', 'ni':'y'}, inplace=True)\n",
    "            ds_model=ds_model.sortby(ds_model.init_time)\n",
    "            print('NEAR START, ds_model is ',ds_model)\n",
    "\n",
    "            # Restrictions for calculating IFD\n",
    "            \n",
    "            # 1) Must be Daily or less\n",
    "            c_dt = (ds_model.fore_time[1]-ds_model.fore_time[0]).values.astype('timedelta64[D]').astype('int')\n",
    "            if c_dt > 1:\n",
    "                print(\"    fore_time timestep greater than 1 day, skipping.\")\n",
    "                continue\n",
    "            \n",
    "            # Select var of interest (if available)\n",
    "            if cvar in ds_model.variables:\n",
    "                ds_model = ds_model[cvar]\n",
    "            else:\n",
    "                print('    cvar not found.')\n",
    "                continue\n",
    "                  \n",
    "            # Use lagged ensemble\n",
    "            if cmod in list(it_target_size.keys()): # Uses a lagged ensemble... so grab all inits and make them ensembles\n",
    "                \n",
    "                # NESM (Joe) wants us to use the past months inits (June for July report)\n",
    "                if cmod == 'usnavysipn':\n",
    "                    # Replace last_init_day inline below (note the \"-1\" meaning last month)\n",
    "                    ds_model = ds_model.sel(init_time=slice(first_init_day,  np.datetime64(datetime.datetime(int(cyear),mon_2_int[cmonth] - 1, 11))  )) # First get all time between start and stop (up to and including the 10th)\n",
    "                else:\n",
    "                    ds_model = ds_model.sel(init_time=slice(first_init_day,last_init_day)) # First get all time between start and stop (up to and including the 10th)\n",
    "                \n",
    "                if ds_model.init_time.size==0:\n",
    "                    print(\"    No init_times found in requested start range\",first_init_day,\"to\",last_init_day,\". So skipping...\")\n",
    "                    continue\n",
    "                    \n",
    "                print(\"    Init times used are\",ds_model.init_time[-1*it_target_size[cmod]:].values)    \n",
    "                \n",
    "                ds_model = ds_model.sel(init_time=ds_model.init_time[-1*it_target_size[cmod]:]) # Get nearest date to 10th\n",
    "                avg_init_time = ds_model.init_time.astype('int').max().astype('datetime64[ns]')\n",
    "                ds_model = ds_model.stack(hybrid_ensemble=('ensemble', 'init_time')).reset_index('hybrid_ensemble')\n",
    "                ds_model.coords['hybrid_ensemble'] = np.arange(1,ds_model.hybrid_ensemble.size+1,1)\n",
    "                ds_model = ds_model.drop(['ensemble','init_time'])\n",
    "                ds_model.coords['init_time'] = avg_init_time\n",
    "                ds_model = ds_model.rename({'hybrid_ensemble':'ensemble'})\n",
    "                print(ds_model)\n",
    "\n",
    "            # Normal Ensemble\n",
    "            else:\n",
    "                if cmod=='awispin':\n",
    "                    print('SELECTING LAST TIME')\n",
    "                    print(ds_model.init_time.values)\n",
    "                    ds_model = ds_model.isel(init_time=2) # Get nearest date to 10th\n",
    "                else:\n",
    "                    # Find init time closest and earlier to the 10th of the month\n",
    "                    ds_model = ds_model.sel(init_time=slice(first_init_day,last_init_day)) # First get all time between start and stop (up to and including the 10th)\n",
    "                    if ds_model.init_time.size==0:\n",
    "                        print(\"    No init_times found in requested start range\",first_init_day,\"to\",last_init_day,\". So skipping...\")\n",
    "                        continue\n",
    "                    ds_model = ds_model.sel(init_time=last_init_day, method='nearest') # Get nearest date to 10th\n",
    "                \n",
    "            print(\"    Init time used is\", ds_model.init_time.values)\n",
    "            \n",
    "            \n",
    "            # Get Valid time\n",
    "            ds_model = import_data.get_valid_time(ds_model.expand_dims('init_time'))\n",
    "                           \n",
    "            # Check if we have any valid times in range of target dates\n",
    "            ds_model = ds_model.where((ds_model.valid_time>=valid_start) & (ds_model.valid_time<=valid_end), drop=True) \n",
    "            if ds_model.fore_time.size == 0:\n",
    "                print(\"    No fore_time found for target period.\")\n",
    "                continue\n",
    "                \n",
    "            # 2) Must have a forecast that goes until end of sept.\n",
    "            last_f = ds_model.valid_time.max()\n",
    "            if last_f < valid_end - np.timedelta64(20,'D'): # allow 5 days wiggle room\n",
    "                print('    Last Valid time', last_f.values, ' was not within 20 days of target end ', valid_end)\n",
    "                continue\n",
    "                \n",
    "            # Averave SIC over ensembles\n",
    "            ds_model = ds_model.mean(dim='ensemble')\n",
    "            ds_model.load()\n",
    "            \n",
    "            print(ds_model)\n",
    "#            print('ds_model fore_time values ---------',ds_model.fore_time.values)\n",
    "                \n",
    "            # Calculate IFD\n",
    "            print(\"    Calculating IFD\")\n",
    "\n",
    "            DOY_first_vt = [x.timetuple().tm_yday for x in pd.to_datetime([ds_model.valid_time.min().values])]\n",
    "            print('DOY_first_vt ', DOY_first_vt)\n",
    "\n",
    "            print('******ds_model looks like ******',ds_model)\n",
    "            if cmod=='awispin':\n",
    "                ds_ifd = metrics.calc_IFD_10day(ds_model, sic_threshold=0.5, DOY_s=DOY_first_vt[0], time_dim='fore_time', \n",
    "                                            Nday=10, default_ice_free=213)                \n",
    "            elif cmod=='usnavysipn':\n",
    "                ds_ifd = metrics.calc_IFD_10day(ds_model, sic_threshold=0.5, DOY_s=191, time_dim='fore_time', \n",
    "                                            Nday=10, default_ice_free=191)\n",
    "            else:\n",
    "                ds_ifd = metrics.calc_IFD_10day(ds_model, sic_threshold=0.5, DOY_s=DOY_first_vt[0], time_dim='fore_time', \n",
    "                                            Nday=10, default_ice_free=def_icefree)\n",
    "\n",
    "            ds_ifd.plot()\n",
    "            plt.figure()\n",
    "\n",
    "            # Build MME\n",
    "            ds_idf = ds_ifd.isel(init_time=0).drop('init_time')\n",
    "\n",
    "            if cmod not in MME_NO: # Exclude some models (bad) from MME\n",
    "                ds_ifd.coords['model'] = cmod\n",
    "                ds_ifd = ds_ifd.expand_dims('model')\n",
    "                ds_ifd.coords['init_date'] = xr.DataArray(ds_model.init_time.values, dims='model', coords={'model':ds_ifd.model})\n",
    "                MME_list.append(ds_ifd)\n",
    "                print('    Added ', cmod, ' to MME.')\n",
    "\n",
    "\n",
    "# Concat over all models\n",
    "ds_MME = xr.concat(MME_list, dim='model')\n",
    "ds_MME.name = 'IFD'"
   ]
  },
  {
   "cell_type": "code",
   "execution_count": 25,
   "metadata": {},
   "outputs": [],
   "source": [
    "# DOY_first_vt = [x.timetuple().tm_yday for x in pd.to_datetime([ds_model.valid_time.min().values])]\n",
    "# ds_ifd = metrics.calc_IFD_10day(ds_model, sic_threshold=0.5, DOY_s=DOY_first_vt[0], time_dim='fore_time', \n",
    "#                                 Nday=10, default_ice_free=pd.to_datetime('2018-06-01').timetuple().tm_yday)\n",
    "# print(ds_ifd.where(ds_ifd<275).max().values)\n",
    "# plt.figure()\n",
    "# ds_ifd.isel(init_time=0).plot(vmin=153,vmax=274)"
   ]
  },
  {
   "cell_type": "code",
   "execution_count": null,
   "metadata": {},
   "outputs": [],
   "source": []
  },
  {
   "cell_type": "code",
   "execution_count": 26,
   "metadata": {},
   "outputs": [
    {
     "name": "stderr",
     "output_type": "stream",
     "text": [
      "/home/disk/sipn/nicway/anaconda3/envs/esio/lib/python3.6/site-packages/xarray/core/nanops.py:161: RuntimeWarning: Mean of empty slice\n",
      "  return np.nanmean(a, axis=axis, dtype=dtype)\n"
     ]
    }
   ],
   "source": [
    "# Take mean\n",
    "model_inits = ds_MME.init_time.values\n",
    "ds_MME = ds_MME.mean(dim='init_time')\n",
    "ds_MME = ds_MME.drop('time')"
   ]
  },
  {
   "cell_type": "code",
   "execution_count": 27,
   "metadata": {},
   "outputs": [],
   "source": [
    "# Merge user SIP with SPIN SIP\n",
    "ds_IFD_All = xr.concat([ds_MME, usr_IFD], dim='model')"
   ]
  },
  {
   "cell_type": "code",
   "execution_count": null,
   "metadata": {},
   "outputs": [],
   "source": []
  },
  {
   "cell_type": "code",
   "execution_count": 28,
   "metadata": {},
   "outputs": [],
   "source": [
    "# Load into memory\n",
    "ds_IFD_All.load();"
   ]
  },
  {
   "cell_type": "code",
   "execution_count": 29,
   "metadata": {},
   "outputs": [
    {
     "data": {
      "text/plain": [
       "<xarray.DataArray 'IFD' (model: 7, x: 304, y: 448)>\n",
       "array([[[213., 213., ...,  nan,  nan],\n",
       "        [213., 213., ...,  nan,  nan],\n",
       "        ...,\n",
       "        [ nan,  nan, ..., 213., 213.],\n",
       "        [ nan,  nan, ..., 213., 213.]],\n",
       "\n",
       "       [[213., 213., ...,  nan,  nan],\n",
       "        [213., 213., ...,  nan,  nan],\n",
       "        ...,\n",
       "        [ nan,  nan, ..., 213., 213.],\n",
       "        [ nan,  nan, ..., 213., 213.]],\n",
       "\n",
       "       ...,\n",
       "\n",
       "       [[152., 152., ..., 152., 152.],\n",
       "        [152., 152., ..., 152., 152.],\n",
       "        ...,\n",
       "        [152., 152., ..., 152., 152.],\n",
       "        [152., 152., ..., 152., 152.]],\n",
       "\n",
       "       [[213., 213., ...,  nan,  nan],\n",
       "        [213., 213., ...,  nan,  nan],\n",
       "        ...,\n",
       "        [ nan,  nan, ..., 213., 213.],\n",
       "        [ nan,  nan, ..., 213., 213.]]])\n",
       "Coordinates:\n",
       "    lon        (x, y) float64 168.3 168.4 168.5 168.7 ... -9.745 -9.872 -9.999\n",
       "    lat        (x, y) float64 31.1 31.25 31.4 31.55 ... 34.92 34.77 34.62 34.47\n",
       "  * model      (model) object 'gfdlsipn' 'ukmetofficesipn' ... 'nicosipn'\n",
       "    init_date  (model) datetime64[ns] 2019-08-01 2019-08-01 ... 2019-08-01\n",
       "Dimensions without coordinates: x, y"
      ]
     },
     "execution_count": 29,
     "metadata": {},
     "output_type": "execute_result"
    }
   ],
   "source": [
    "ds_IFD_All"
   ]
  },
  {
   "cell_type": "code",
   "execution_count": 30,
   "metadata": {},
   "outputs": [],
   "source": [
    "# Save to disk\n",
    "ds_IFD_All.to_netcdf('/home/disk/sipn/nicway/data/model/SIO/'+cyear+'/'+cmonth+'/IFD.nc')"
   ]
  },
  {
   "cell_type": "code",
   "execution_count": 31,
   "metadata": {},
   "outputs": [],
   "source": [
    "# Get mean and std of all models (set -9999 (ice free at init) and perenial ice (275) to missing))\n",
    "ds_MME_avg = ds_IFD_All.mean(dim='model') #.where((ds_IFD_All>1) & (ds_IFD_All<275))\n",
    "ds_MME_std = ds_IFD_All.std(dim='model')"
   ]
  },
  {
   "cell_type": "code",
   "execution_count": 32,
   "metadata": {},
   "outputs": [
    {
     "name": "stdout",
     "output_type": "stream",
     "text": [
      "213 274\n"
     ]
    }
   ],
   "source": [
    "c_vmin = [x.timetuple().tm_yday for x in [pd.datetime(int(cyear),  month_cal[cmonth[0:3]]  ,1)]][0]\n",
    "c_vmax = [x.timetuple().tm_yday for x in [pd.datetime(int(cyear),10,1)]][0]\n",
    "print(c_vmin, c_vmax)"
   ]
  },
  {
   "cell_type": "code",
   "execution_count": 33,
   "metadata": {},
   "outputs": [],
   "source": [
    "# Get dates for plot\n",
    "last_IFD = pd.to_datetime((np.datetime64('2019-01-01') + np.timedelta64(int(c_vmax),'D')))"
   ]
  },
  {
   "cell_type": "code",
   "execution_count": 34,
   "metadata": {},
   "outputs": [],
   "source": [
    "# Get monthly ticks\n",
    "DOY_months = [x.timetuple().tm_yday for x in pd.date_range(date_str,'2019-10-30', freq='MS')]\n",
    "DOY_labels = [calendar.month_abbr[mn]+' 1' for mn in np.arange( month_cal[cmonth[0:3]]  ,last_IFD.month+1)]\n",
    "assert len(DOY_months)==len(DOY_labels)"
   ]
  },
  {
   "cell_type": "code",
   "execution_count": 35,
   "metadata": {},
   "outputs": [
    {
     "name": "stdout",
     "output_type": "stream",
     "text": [
      "['gfdlsipn' 'ukmetofficesipn' 'usnavysipn' 'awispin' 'fgoalssipn'\n",
      " 'modcansipns_4' 'nicosipn']\n"
     ]
    }
   ],
   "source": [
    "print(ds_IFD_All.model.values)"
   ]
  },
  {
   "cell_type": "code",
   "execution_count": 36,
   "metadata": {},
   "outputs": [],
   "source": [
    "if cmonth == 'June':\n",
    "    ds_IFD_All.loc[dict(model='modcansipns_4')] = ds_IFD_All.sel(model='modcansipns_4').where(ds_IFD_All.isel(model=0).notnull())\n",
    "    \n",
    "ds_MME_std = ds_MME_std.where(ds_IFD_All.isel(model=0).notnull())\n",
    "ds_MME_avg = ds_MME_avg.where(ds_IFD_All.isel(model=0).notnull())"
   ]
  },
  {
   "cell_type": "code",
   "execution_count": 37,
   "metadata": {},
   "outputs": [
    {
     "name": "stdout",
     "output_type": "stream",
     "text": [
      "<xarray.DataArray 'sic' (time: 3652, y: 448, x: 304)>\n",
      "dask.array<shape=(3652, 448, 304), dtype=float64, chunksize=(365, 448, 304)>\n",
      "Coordinates:\n",
      "  * time     (time) datetime64[ns] 2009-01-01 2009-01-02 ... 2018-12-31\n",
      "  * x        (x) int64 0 1 2 3 4 5 6 7 8 ... 295 296 297 298 299 300 301 302 303\n",
      "  * y        (y) int64 0 1 2 3 4 5 6 7 8 ... 439 440 441 442 443 444 445 446 447\n",
      "    lat      (x, y) float64 31.1 31.25 31.4 31.55 ... 34.92 34.77 34.62 34.47\n",
      "    lon      (x, y) float64 168.3 168.4 168.5 168.7 ... -9.745 -9.872 -9.999\n",
      "    xm       (x) int64 -3850000 -3825000 -3800000 ... 3675000 3700000 3725000\n",
      "    ym       (y) int64 5850000 5825000 5800000 ... -5275000 -5300000 -5325000\n",
      "    year     (time) int64 2009 2009 2009 2009 2009 ... 2018 2018 2018 2018 2018\n",
      "    doy      (time) int64 1 2 3 4 5 6 7 8 9 ... 358 359 360 361 362 363 364 365\n",
      "Looking for times between 2009-08-01T00:00:00.000000 and 2009-10-01T00:00:00.000000\n",
      "<xarray.DataArray 'sic' (time: 62, y: 448, x: 304)>\n",
      "dask.array<shape=(62, 448, 304), dtype=float64, chunksize=(62, 448, 304)>\n",
      "Coordinates:\n",
      "  * time     (time) timedelta64[ns] 0 days 1 days 2 days ... 60 days 61 days\n",
      "  * x        (x) int64 0 1 2 3 4 5 6 7 8 ... 295 296 297 298 299 300 301 302 303\n",
      "  * y        (y) int64 0 1 2 3 4 5 6 7 8 ... 439 440 441 442 443 444 445 446 447\n",
      "    lat      (x, y) float64 31.1 31.25 31.4 31.55 ... 34.92 34.77 34.62 34.47\n",
      "    lon      (x, y) float64 168.3 168.4 168.5 168.7 ... -9.745 -9.872 -9.999\n",
      "    xm       (x) int64 -3850000 -3825000 -3800000 ... 3675000 3700000 3725000\n",
      "    ym       (y) int64 5850000 5825000 5800000 ... -5275000 -5300000 -5325000\n",
      "    year     (time) int64 2009 2009 2009 2009 2009 ... 2009 2009 2009 2009 2009\n",
      "    doy      (time) int64 213 214 215 216 217 218 ... 269 270 271 272 273 274\n"
     ]
    },
    {
     "name": "stderr",
     "output_type": "stream",
     "text": [
      "/home/disk/sipn/nicway/anaconda3/envs/esio/lib/python3.6/site-packages/dask/core.py:137: RuntimeWarning: invalid value encountered in less\n",
      "  return func(*args2)\n"
     ]
    },
    {
     "name": "stdout",
     "output_type": "stream",
     "text": [
      "Looking for times between 2010-08-01T00:00:00.000000 and 2010-10-01T00:00:00.000000\n",
      "<xarray.DataArray 'sic' (time: 62, y: 448, x: 304)>\n",
      "dask.array<shape=(62, 448, 304), dtype=float64, chunksize=(62, 448, 304)>\n",
      "Coordinates:\n",
      "  * time     (time) timedelta64[ns] 0 days 1 days 2 days ... 60 days 61 days\n",
      "  * x        (x) int64 0 1 2 3 4 5 6 7 8 ... 295 296 297 298 299 300 301 302 303\n",
      "  * y        (y) int64 0 1 2 3 4 5 6 7 8 ... 439 440 441 442 443 444 445 446 447\n",
      "    lat      (x, y) float64 31.1 31.25 31.4 31.55 ... 34.92 34.77 34.62 34.47\n",
      "    lon      (x, y) float64 168.3 168.4 168.5 168.7 ... -9.745 -9.872 -9.999\n",
      "    xm       (x) int64 -3850000 -3825000 -3800000 ... 3675000 3700000 3725000\n",
      "    ym       (y) int64 5850000 5825000 5800000 ... -5275000 -5300000 -5325000\n",
      "    year     (time) int64 2010 2010 2010 2010 2010 ... 2010 2010 2010 2010 2010\n",
      "    doy      (time) int64 213 214 215 216 217 218 ... 269 270 271 272 273 274\n"
     ]
    },
    {
     "name": "stderr",
     "output_type": "stream",
     "text": [
      "/home/disk/sipn/nicway/anaconda3/envs/esio/lib/python3.6/site-packages/dask/core.py:137: RuntimeWarning: invalid value encountered in less\n",
      "  return func(*args2)\n"
     ]
    },
    {
     "name": "stdout",
     "output_type": "stream",
     "text": [
      "Looking for times between 2011-08-01T00:00:00.000000 and 2011-10-01T00:00:00.000000\n",
      "<xarray.DataArray 'sic' (time: 62, y: 448, x: 304)>\n",
      "dask.array<shape=(62, 448, 304), dtype=float64, chunksize=(62, 448, 304)>\n",
      "Coordinates:\n",
      "  * time     (time) timedelta64[ns] 0 days 1 days 2 days ... 60 days 61 days\n",
      "  * x        (x) int64 0 1 2 3 4 5 6 7 8 ... 295 296 297 298 299 300 301 302 303\n",
      "  * y        (y) int64 0 1 2 3 4 5 6 7 8 ... 439 440 441 442 443 444 445 446 447\n",
      "    lat      (x, y) float64 31.1 31.25 31.4 31.55 ... 34.92 34.77 34.62 34.47\n",
      "    lon      (x, y) float64 168.3 168.4 168.5 168.7 ... -9.745 -9.872 -9.999\n",
      "    xm       (x) int64 -3850000 -3825000 -3800000 ... 3675000 3700000 3725000\n",
      "    ym       (y) int64 5850000 5825000 5800000 ... -5275000 -5300000 -5325000\n",
      "    year     (time) int64 2011 2011 2011 2011 2011 ... 2011 2011 2011 2011 2011\n",
      "    doy      (time) int64 213 214 215 216 217 218 ... 269 270 271 272 273 274\n"
     ]
    },
    {
     "name": "stderr",
     "output_type": "stream",
     "text": [
      "/home/disk/sipn/nicway/anaconda3/envs/esio/lib/python3.6/site-packages/dask/core.py:137: RuntimeWarning: invalid value encountered in less\n",
      "  return func(*args2)\n"
     ]
    },
    {
     "name": "stdout",
     "output_type": "stream",
     "text": [
      "Looking for times between 2012-08-01T00:00:00.000000 and 2012-10-01T00:00:00.000000\n",
      "<xarray.DataArray 'sic' (time: 62, y: 448, x: 304)>\n",
      "dask.array<shape=(62, 448, 304), dtype=float64, chunksize=(62, 448, 304)>\n",
      "Coordinates:\n",
      "  * time     (time) timedelta64[ns] 0 days 1 days 2 days ... 60 days 61 days\n",
      "  * x        (x) int64 0 1 2 3 4 5 6 7 8 ... 295 296 297 298 299 300 301 302 303\n",
      "  * y        (y) int64 0 1 2 3 4 5 6 7 8 ... 439 440 441 442 443 444 445 446 447\n",
      "    lat      (x, y) float64 31.1 31.25 31.4 31.55 ... 34.92 34.77 34.62 34.47\n",
      "    lon      (x, y) float64 168.3 168.4 168.5 168.7 ... -9.745 -9.872 -9.999\n",
      "    xm       (x) int64 -3850000 -3825000 -3800000 ... 3675000 3700000 3725000\n",
      "    ym       (y) int64 5850000 5825000 5800000 ... -5275000 -5300000 -5325000\n",
      "    year     (time) int64 2012 2012 2012 2012 2012 ... 2012 2012 2012 2012 2012\n",
      "    doy      (time) int64 214 215 216 217 218 219 ... 270 271 272 273 274 275\n"
     ]
    },
    {
     "name": "stderr",
     "output_type": "stream",
     "text": [
      "/home/disk/sipn/nicway/anaconda3/envs/esio/lib/python3.6/site-packages/dask/core.py:137: RuntimeWarning: invalid value encountered in less\n",
      "  return func(*args2)\n"
     ]
    },
    {
     "name": "stdout",
     "output_type": "stream",
     "text": [
      "Looking for times between 2013-08-01T00:00:00.000000 and 2013-10-01T00:00:00.000000\n",
      "<xarray.DataArray 'sic' (time: 62, y: 448, x: 304)>\n",
      "dask.array<shape=(62, 448, 304), dtype=float64, chunksize=(62, 448, 304)>\n",
      "Coordinates:\n",
      "  * time     (time) timedelta64[ns] 0 days 1 days 2 days ... 60 days 61 days\n",
      "  * x        (x) int64 0 1 2 3 4 5 6 7 8 ... 295 296 297 298 299 300 301 302 303\n",
      "  * y        (y) int64 0 1 2 3 4 5 6 7 8 ... 439 440 441 442 443 444 445 446 447\n",
      "    lat      (x, y) float64 31.1 31.25 31.4 31.55 ... 34.92 34.77 34.62 34.47\n",
      "    lon      (x, y) float64 168.3 168.4 168.5 168.7 ... -9.745 -9.872 -9.999\n",
      "    xm       (x) int64 -3850000 -3825000 -3800000 ... 3675000 3700000 3725000\n",
      "    ym       (y) int64 5850000 5825000 5800000 ... -5275000 -5300000 -5325000\n",
      "    year     (time) int64 2013 2013 2013 2013 2013 ... 2013 2013 2013 2013 2013\n",
      "    doy      (time) int64 213 214 215 216 217 218 ... 269 270 271 272 273 274\n"
     ]
    },
    {
     "name": "stderr",
     "output_type": "stream",
     "text": [
      "/home/disk/sipn/nicway/anaconda3/envs/esio/lib/python3.6/site-packages/dask/core.py:137: RuntimeWarning: invalid value encountered in less\n",
      "  return func(*args2)\n"
     ]
    },
    {
     "name": "stdout",
     "output_type": "stream",
     "text": [
      "Looking for times between 2014-08-01T00:00:00.000000 and 2014-10-01T00:00:00.000000\n",
      "<xarray.DataArray 'sic' (time: 62, y: 448, x: 304)>\n",
      "dask.array<shape=(62, 448, 304), dtype=float64, chunksize=(62, 448, 304)>\n",
      "Coordinates:\n",
      "  * time     (time) timedelta64[ns] 0 days 1 days 2 days ... 60 days 61 days\n",
      "  * x        (x) int64 0 1 2 3 4 5 6 7 8 ... 295 296 297 298 299 300 301 302 303\n",
      "  * y        (y) int64 0 1 2 3 4 5 6 7 8 ... 439 440 441 442 443 444 445 446 447\n",
      "    lat      (x, y) float64 31.1 31.25 31.4 31.55 ... 34.92 34.77 34.62 34.47\n",
      "    lon      (x, y) float64 168.3 168.4 168.5 168.7 ... -9.745 -9.872 -9.999\n",
      "    xm       (x) int64 -3850000 -3825000 -3800000 ... 3675000 3700000 3725000\n",
      "    ym       (y) int64 5850000 5825000 5800000 ... -5275000 -5300000 -5325000\n",
      "    year     (time) int64 2014 2014 2014 2014 2014 ... 2014 2014 2014 2014 2014\n",
      "    doy      (time) int64 213 214 215 216 217 218 ... 269 270 271 272 273 274\n"
     ]
    },
    {
     "name": "stderr",
     "output_type": "stream",
     "text": [
      "/home/disk/sipn/nicway/anaconda3/envs/esio/lib/python3.6/site-packages/dask/core.py:137: RuntimeWarning: invalid value encountered in less\n",
      "  return func(*args2)\n"
     ]
    },
    {
     "name": "stdout",
     "output_type": "stream",
     "text": [
      "Looking for times between 2015-08-01T00:00:00.000000 and 2015-10-01T00:00:00.000000\n",
      "<xarray.DataArray 'sic' (time: 62, y: 448, x: 304)>\n",
      "dask.array<shape=(62, 448, 304), dtype=float64, chunksize=(62, 448, 304)>\n",
      "Coordinates:\n",
      "  * time     (time) timedelta64[ns] 0 days 1 days 2 days ... 60 days 61 days\n",
      "  * x        (x) int64 0 1 2 3 4 5 6 7 8 ... 295 296 297 298 299 300 301 302 303\n",
      "  * y        (y) int64 0 1 2 3 4 5 6 7 8 ... 439 440 441 442 443 444 445 446 447\n",
      "    lat      (x, y) float64 31.1 31.25 31.4 31.55 ... 34.92 34.77 34.62 34.47\n",
      "    lon      (x, y) float64 168.3 168.4 168.5 168.7 ... -9.745 -9.872 -9.999\n",
      "    xm       (x) int64 -3850000 -3825000 -3800000 ... 3675000 3700000 3725000\n",
      "    ym       (y) int64 5850000 5825000 5800000 ... -5275000 -5300000 -5325000\n",
      "    year     (time) int64 2015 2015 2015 2015 2015 ... 2015 2015 2015 2015 2015\n",
      "    doy      (time) int64 213 214 215 216 217 218 ... 269 270 271 272 273 274\n"
     ]
    },
    {
     "name": "stderr",
     "output_type": "stream",
     "text": [
      "/home/disk/sipn/nicway/anaconda3/envs/esio/lib/python3.6/site-packages/dask/core.py:137: RuntimeWarning: invalid value encountered in less\n",
      "  return func(*args2)\n"
     ]
    },
    {
     "name": "stdout",
     "output_type": "stream",
     "text": [
      "Looking for times between 2016-08-01T00:00:00.000000 and 2016-10-01T00:00:00.000000\n",
      "<xarray.DataArray 'sic' (time: 62, y: 448, x: 304)>\n",
      "dask.array<shape=(62, 448, 304), dtype=float64, chunksize=(62, 448, 304)>\n",
      "Coordinates:\n",
      "  * time     (time) timedelta64[ns] 0 days 1 days 2 days ... 60 days 61 days\n",
      "  * x        (x) int64 0 1 2 3 4 5 6 7 8 ... 295 296 297 298 299 300 301 302 303\n",
      "  * y        (y) int64 0 1 2 3 4 5 6 7 8 ... 439 440 441 442 443 444 445 446 447\n",
      "    lat      (x, y) float64 31.1 31.25 31.4 31.55 ... 34.92 34.77 34.62 34.47\n",
      "    lon      (x, y) float64 168.3 168.4 168.5 168.7 ... -9.745 -9.872 -9.999\n",
      "    xm       (x) int64 -3850000 -3825000 -3800000 ... 3675000 3700000 3725000\n",
      "    ym       (y) int64 5850000 5825000 5800000 ... -5275000 -5300000 -5325000\n",
      "    year     (time) int64 2016 2016 2016 2016 2016 ... 2016 2016 2016 2016 2016\n",
      "    doy      (time) int64 214 215 216 217 218 219 ... 270 271 272 273 274 275\n"
     ]
    },
    {
     "name": "stderr",
     "output_type": "stream",
     "text": [
      "/home/disk/sipn/nicway/anaconda3/envs/esio/lib/python3.6/site-packages/dask/core.py:137: RuntimeWarning: invalid value encountered in less\n",
      "  return func(*args2)\n"
     ]
    },
    {
     "name": "stdout",
     "output_type": "stream",
     "text": [
      "Looking for times between 2017-08-01T00:00:00.000000 and 2017-10-01T00:00:00.000000\n",
      "<xarray.DataArray 'sic' (time: 62, y: 448, x: 304)>\n",
      "dask.array<shape=(62, 448, 304), dtype=float64, chunksize=(62, 448, 304)>\n",
      "Coordinates:\n",
      "  * time     (time) timedelta64[ns] 0 days 1 days 2 days ... 60 days 61 days\n",
      "  * x        (x) int64 0 1 2 3 4 5 6 7 8 ... 295 296 297 298 299 300 301 302 303\n",
      "  * y        (y) int64 0 1 2 3 4 5 6 7 8 ... 439 440 441 442 443 444 445 446 447\n",
      "    lat      (x, y) float64 31.1 31.25 31.4 31.55 ... 34.92 34.77 34.62 34.47\n",
      "    lon      (x, y) float64 168.3 168.4 168.5 168.7 ... -9.745 -9.872 -9.999\n",
      "    xm       (x) int64 -3850000 -3825000 -3800000 ... 3675000 3700000 3725000\n",
      "    ym       (y) int64 5850000 5825000 5800000 ... -5275000 -5300000 -5325000\n",
      "    year     (time) int64 2017 2017 2017 2017 2017 ... 2017 2017 2017 2017 2017\n",
      "    doy      (time) int64 213 214 215 216 217 218 ... 269 270 271 272 273 274\n"
     ]
    },
    {
     "name": "stderr",
     "output_type": "stream",
     "text": [
      "/home/disk/sipn/nicway/anaconda3/envs/esio/lib/python3.6/site-packages/dask/core.py:137: RuntimeWarning: invalid value encountered in less\n",
      "  return func(*args2)\n"
     ]
    },
    {
     "name": "stdout",
     "output_type": "stream",
     "text": [
      "Looking for times between 2018-08-01T00:00:00.000000 and 2018-10-01T00:00:00.000000\n",
      "<xarray.DataArray 'sic' (time: 62, y: 448, x: 304)>\n",
      "dask.array<shape=(62, 448, 304), dtype=float64, chunksize=(62, 448, 304)>\n",
      "Coordinates:\n",
      "  * time     (time) timedelta64[ns] 0 days 1 days 2 days ... 60 days 61 days\n",
      "  * x        (x) int64 0 1 2 3 4 5 6 7 8 ... 295 296 297 298 299 300 301 302 303\n",
      "  * y        (y) int64 0 1 2 3 4 5 6 7 8 ... 439 440 441 442 443 444 445 446 447\n",
      "    lat      (x, y) float64 31.1 31.25 31.4 31.55 ... 34.92 34.77 34.62 34.47\n",
      "    lon      (x, y) float64 168.3 168.4 168.5 168.7 ... -9.745 -9.872 -9.999\n",
      "    xm       (x) int64 -3850000 -3825000 -3800000 ... 3675000 3700000 3725000\n",
      "    ym       (y) int64 5850000 5825000 5800000 ... -5275000 -5300000 -5325000\n",
      "    year     (time) int64 2018 2018 2018 2018 2018 ... 2018 2018 2018 2018 2018\n",
      "    doy      (time) int64 213 214 215 216 217 218 ... 269 270 271 272 273 274\n"
     ]
    },
    {
     "name": "stderr",
     "output_type": "stream",
     "text": [
      "/home/disk/sipn/nicway/anaconda3/envs/esio/lib/python3.6/site-packages/dask/core.py:137: RuntimeWarning: invalid value encountered in less\n",
      "  return func(*args2)\n"
     ]
    }
   ],
   "source": [
    "# compute climo10yr IFD\n",
    "# BE SURE THESE ARE NON OVERLAPPING, MUST BE UPDATED FOR NEW DATA\n",
    "# Get bootstrap and nrt observations with pole hole already filled in\n",
    "ds_81 = xr.open_mfdataset(E.obs['NSIDC_0081']['sipn_nc']+'_yearly/*.nc', concat_dim='time', autoclose=True, parallel=True).sic\n",
    "ds_79 = xr.open_mfdataset(E.obs['NSIDC_0079']['sipn_nc']+'_yearly/*.nc', concat_dim='time', autoclose=True, parallel=True).sic\n",
    "\n",
    "pred_year = int(cyear)\n",
    "start_year = pred_year-10\n",
    "ds_79=ds_79.sel(time=slice(str(start_year),str(pred_year-1)))  # end year just has to be way in the future\n",
    "ds_81=ds_81.sel(time=slice('2015',str(pred_year-1)))  # restrict to before prediciton year, lower year not important\n",
    "\n",
    "# Combine bootstrap with NASA NRT\n",
    "ds_81 = ds_79.combine_first(ds_81)  # takes ds_79 as priority\n",
    "ds_79 = None\n",
    "\n",
    "year_all = [x.year for x in pd.to_datetime(ds_81.time.values)]\n",
    "ds_81.coords['year'] = xr.DataArray(year_all, dims='time', coords={'time':ds_81.time})\n",
    "DOY = [x.timetuple().tm_yday for x in pd.to_datetime(ds_81.time.values)]\n",
    "ds_81.coords['doy'] = xr.DataArray(DOY, dims='time', coords={'time':ds_81.time})\n",
    "print(ds_81)\n",
    "ObsYears=np.arange(min(2015, start_year), pred_year)\n",
    "\n",
    "# OOPS WRONG DEFINITION\n",
    "#ifd_all=[]  # need to deal with years when never get below 0.15\n",
    "            # choose to make them a high value that if all yrs are so high\n",
    "            # it is masked out\n",
    "            # but if say one yr is 270 and the rest are 275, then the mean is 274\n",
    "            # which will be plotted but will be near the upper limit\n",
    "#for y in ObsYears:\n",
    "#    tmp=ds_81.sel(time=str(y)).min(dim='time') # min sic at anytime during year\n",
    "#    ifd = da_IFD.sel(year=y).where(tmp<0.15, other=c_vmax) # if never below 0.15 at anytime then set to max poss\n",
    "#    ifd_all.append(ifd)\n",
    "\n",
    "#ifd_all=xr.concat(ifd_all, dim='year')\n",
    "\n",
    "#climo=ifd_all.mean(dim='year')\n",
    "#climo = climo.where(tmp.notnull()) # Apply Orig mask \n",
    "\n",
    "\n",
    "ifd_all2=[]  # need to deal with years when never get below 0.15\n",
    "\n",
    "for y in ObsYears:\n",
    "    tmpo=ds_81.sel(time=str(y))\n",
    "    \n",
    "    first_day = np.datetime64(datetime.datetime(int(y),8,1))\n",
    "    last_day = np.datetime64(datetime.datetime(int(y),10,1))\n",
    "    print(\"Looking for times between\",first_day,\"and\",last_day)\n",
    "\n",
    "    tmpo = tmpo.sel(time=slice(first_day,last_day))\n",
    "    \n",
    "    tmp=tmpo.min(dim='time') # min sic at anytime during year\n",
    "    \n",
    "    DOY_first_vt = [x.timetuple().tm_yday for x in pd.to_datetime([tmpo.time.min().values])]\n",
    "    tmpo['time'] = tmpo.time - tmpo.time[0]\n",
    "    print(tmpo)\n",
    "    \n",
    "    # setting the default_ice_free value equal to c_vmin is important\n",
    "    ifd = metrics.calc_IFD_10day(tmpo, sic_threshold=0.5, DOY_s=DOY_first_vt[0], time_dim='time', \n",
    "                                    Nday=10, default_ice_free=def_icefree)\n",
    "\n",
    "\n",
    "    ifd_all2.append(ifd)\n",
    "\n",
    "ifd_all2=xr.concat(ifd_all2, dim='year')\n",
    "\n",
    "climo =ifd_all2.mean(dim='year')\n",
    "climo = climo.where(ds_81.isel(time=10).notnull()) # Apply Orig mask "
   ]
  },
  {
   "cell_type": "code",
   "execution_count": null,
   "metadata": {},
   "outputs": [],
   "source": []
  },
  {
   "cell_type": "code",
   "execution_count": 38,
   "metadata": {},
   "outputs": [],
   "source": [
    "#         cmap_c = matplotlib.colors.LinearSegmentedColormap.from_list(\"\", [\"white\",\"orange\",\"red\",\"#990000\"], N=8)\n",
    "#         cmap_c.set_bad(color = 'lightgrey')\n",
    "\n",
    "#cmap_std = matplotlib.colors.LinearSegmentedColormap.from_list('redhues', redhues, N=8)\n",
    "cmap_c = matplotlib.colors.LinearSegmentedColormap.from_list(\"\", [\"white\",\"orange\",\"red\",\"#990000\"], N=10)\n",
    "cmap_c.set_bad(color = 'lightgrey')\n",
    "\n",
    "cmap_std = matplotlib.colors.ListedColormap(sns.color_palette(\"Blues\", 10))\n",
    "cmap_std = matplotlib.colors.LinearSegmentedColormap.from_list(\"\", [\"white\",\"blue\"], N=10)\n",
    "cmap_std.set_bad(color = 'lightgrey')\n",
    "\n",
    "cmap_b =  matplotlib.colors.ListedColormap(sns.color_palette(\"binary\", 2))\n",
    "cmap_b.set_bad(color = 'None')\n",
    "\n",
    "cmap_obs =  matplotlib.colors.ListedColormap(sns.color_palette(\"Greys\", 2))\n",
    "cmap_obs.set_bad(color = 'None')\n",
    "\n",
    "c_label = 'Ice Free Day'\n",
    "\n",
    "    \n",
    "def add_subplot_title(cmod, custom_names, E, ax=None):\n",
    "    if cmod in custom_names:\n",
    "        ax.set_title(custom_names[cmod])\n",
    "    elif cmod in E.model.keys():\n",
    "        ax.set_title(E.model[cmod]['model_label'])\n",
    "    else:\n",
    "        ax.set_title(cmod)"
   ]
  },
  {
   "cell_type": "code",
   "execution_count": null,
   "metadata": {},
   "outputs": [],
   "source": []
  },
  {
   "cell_type": "code",
   "execution_count": 41,
   "metadata": {
    "scrolled": false
   },
   "outputs": [
    {
     "name": "stdout",
     "output_type": "stream",
     "text": [
      "gfdlsipn\n",
      "ukmetofficesipn\n",
      "usnavysipn\n",
      "awispin\n",
      "fgoalssipn\n",
      "modcansipns_4\n",
      "nicosipn\n",
      "Climo 10 yr\n"
     ]
    },
    {
     "name": "stderr",
     "output_type": "stream",
     "text": [
      "/home/disk/sipn/nicway/anaconda3/envs/esio/lib/python3.6/site-packages/dask/compatibility.py:93: RuntimeWarning: All-NaN slice encountered\n",
      "  return func(*args, **kwargs)\n",
      "/home/disk/sipn/nicway/anaconda3/envs/esio/lib/python3.6/site-packages/toolz/functoolz.py:468: RuntimeWarning: All-NaN slice encountered\n",
      "  ret = f(ret)\n",
      "/home/disk/sipn/nicway/anaconda3/envs/esio/lib/python3.6/site-packages/dask/core.py:137: RuntimeWarning: invalid value encountered in greater_equal\n",
      "  return func(*args2)\n",
      "/home/disk/sipn/nicway/anaconda3/envs/esio/lib/python3.6/site-packages/dask/array/numpy_compat.py:28: RuntimeWarning: invalid value encountered in true_divide\n",
      "  x = np.divide(x1, x2, out)\n",
      "/home/disk/sipn/nicway/anaconda3/envs/esio/lib/python3.6/site-packages/dask/compatibility.py:93: RuntimeWarning: All-NaN slice encountered\n",
      "  return func(*args, **kwargs)\n",
      "/home/disk/sipn/nicway/anaconda3/envs/esio/lib/python3.6/site-packages/toolz/functoolz.py:468: RuntimeWarning: All-NaN slice encountered\n",
      "  ret = f(ret)\n",
      "/home/disk/sipn/nicway/anaconda3/envs/esio/lib/python3.6/site-packages/dask/core.py:137: RuntimeWarning: invalid value encountered in greater_equal\n",
      "  return func(*args2)\n",
      "/home/disk/sipn/nicway/anaconda3/envs/esio/lib/python3.6/site-packages/dask/array/numpy_compat.py:28: RuntimeWarning: invalid value encountered in true_divide\n",
      "  x = np.divide(x1, x2, out)\n"
     ]
    },
    {
     "name": "stdout",
     "output_type": "stream",
     "text": [
      "MME sigma\n",
      "saved  /home/disk/sipn/nicway/public_html/sipn/figures/model/SIO_Reports/2019/August/panArctic_IFD_forecast_2019_August_plus_std_lowRes.png\n"
     ]
    },
    {
     "data": {
      "image/png": "[encoded data removed]",
      "text/plain": [
       "<Figure size 432x432 with 12 Axes>"
      ]
     },
     "metadata": {},
     "output_type": "display_data"
    }
   ],
   "source": [
    "# New Plot\n",
    "if cmonth=='July':\n",
    "    NPLOTS = 11\n",
    "elif cmonth=='June':\n",
    "    Nplots = 12\n",
    "else: \n",
    "    NPLOTS = 11\n",
    "central_extent = [-3850000*0.6, 3725000*0.6, -5325000*0.45, 5850000*0.45] # (x0, x1, y0, y1\n",
    "\n",
    "(f, axes) = ice_plot.multi_polar_axis(ncols=4, nrows=3, Nplots=NPLOTS, extent=central_extent, central_longitude=0)\n",
    "\n",
    "for (i, cmod) in enumerate(ds_IFD_All.model.values):\n",
    "#for (i, cmod) in enumerate(['fgoalssipn']):\n",
    "    print(cmod)\n",
    "    # Plot\n",
    "    add_subplot_title(cmod, custom_names, E, ax=axes[i])\n",
    "    cper_mask = ds_IFD_All.sel(model=cmod)\n",
    "\n",
    "#    print(cper_mask)\n",
    "    p = cper_mask.plot.pcolormesh(ax=axes[i], x='lon', y='lat', \n",
    "                          transform=ccrs.PlateCarree(),\n",
    "                          add_colorbar=False,\n",
    "                          cmap=cmap_c,\n",
    "                          vmin=c_vmin, vmax=c_vmax)\n",
    "\n",
    "    # Plot perenial ice as black\n",
    "    #cper_mask = ds_IFD_All.sel(model=cmod)\n",
    "    pb = cper_mask.where(cper_mask==275).plot.pcolormesh(ax=axes[i], x='lon', y='lat', \n",
    "                          transform=ccrs.PlateCarree(),\n",
    "                          add_colorbar=False,\n",
    "                          cmap=cmap_b,\n",
    "                          vmin=0, vmax=1)    \n",
    "    \n",
    "    add_subplot_title(cmod, custom_names, E, ax=axes[i])\n",
    "\n",
    "    # Add init date\n",
    "#    axes[i].annotate(pd.to_datetime(ds_IFD_All.sel(model=cmod).init_date.values).strftime('%m/%d'), xy=(.6, -.15), xycoords='axes fraction', )\n",
    "\n",
    "# MME Mean\n",
    "i = i + 1\n",
    "\n",
    "cper_mask = ds_MME_avg\n",
    "\n",
    "pmme = cper_mask.plot.pcolormesh(ax=axes[i], x='lon', y='lat', \n",
    "                                  transform=ccrs.PlateCarree(),\n",
    "                                  add_colorbar=False, \n",
    "                                  cmap=cmap_c, vmin=c_vmin, vmax=c_vmax)\n",
    "\n",
    "# Plot perenial ice as black\n",
    "pb = cper_mask.where(cper_mask>=274).plot.pcolormesh(ax=axes[i], x='lon', y='lat', \n",
    "                      transform=ccrs.PlateCarree(),\n",
    "                      add_colorbar=False,\n",
    "                      cmap=cmap_b,\n",
    "                      vmin=0, vmax=1)    \n",
    "\n",
    "\n",
    "axes[i].set_title('Multi-Forecast\\nMean')\n",
    "\n",
    "\n",
    "PlotObs = True\n",
    "if PlotObs:       \n",
    "    print('Climo 10 yr')\n",
    "    # Climo10yrs\n",
    "    i = i + 1\n",
    "\n",
    "    pmme = climo.plot.pcolormesh(ax=axes[i], x='lon', y='lat', \n",
    "                                      transform=ccrs.PlateCarree(),\n",
    "                                      add_colorbar=False, \n",
    "                                      cmap=cmap_c, vmin=c_vmin, vmax=c_vmax)\n",
    "\n",
    "    # Plot perenial ice as black\n",
    "    pb = climo.where(climo>=274).plot.pcolormesh(ax=axes[i], x='lon', y='lat', \n",
    "                          transform=ccrs.PlateCarree(),\n",
    "                          add_colorbar=False,\n",
    "                          cmap=cmap_b,\n",
    "                          vmin=0, vmax=1)    \n",
    "\n",
    "\n",
    "    axes[i].set_title('Climatology\\nLast 10 yrs')\n",
    "    \n",
    "\n",
    "# MME Standard deviation\n",
    "i = i + 1\n",
    "\n",
    "print('MME sigma')\n",
    "\n",
    "fld = ds_MME_std\n",
    "landmask = fld.notnull()\n",
    "fld = fld.where(cper_mask>c_vmin,other=0)\n",
    "fld = fld.where(landmask)\n",
    "\n",
    "pstd = fld.plot.pcolormesh(ax=axes[i], x='lon', y='lat', \n",
    "                                  transform=ccrs.PlateCarree(),\n",
    "                                  add_colorbar=False, \n",
    "                                  cmap=cmap_std,vmin=ds_MME_std.min().values, vmax=ds_MME_std.max().values)\n",
    "axes[i].set_title('σ of\\nForecasts')\n",
    "\n",
    "\n",
    "\n",
    "# Make pretty\n",
    "f.subplots_adjust(bottom=0.05)\n",
    "\n",
    "cbar1vertical = True\n",
    "if cbar1vertical:\n",
    "#    cbar_ax = f.add_axes([0.95, 0.36, .05, 0.5]) #  [left, bottom, width, height]   span just top rows\n",
    "    cbar_ax = f.add_axes([0.95, 0.07, .025, 0.775]) #  [left, bottom, width, height] w\n",
    "    cbar = f.colorbar(p, cax=cbar_ax, label=c_label, orientation='vertical')\n",
    "else:\n",
    "    cbar_ax = f.add_axes([0.25, 0.001, .5, 0.04]) #  [left, bottom, width, height] w\n",
    "    cbar = f.colorbar(p, cax=cbar_ax, label=c_label, orientation='horizontal')\n",
    "cbar.set_ticks(DOY_months)\n",
    "cbar.set_ticklabels(DOY_labels)\n",
    "\n",
    "#f.subplots_adjust(right=0.05)\n",
    "#cbar_ax_2 = f.add_axes([0.925, 0.1, .025, .28]) #  [left, bottom, width, height] w   FAR RIGHT\n",
    "#cbar_ax_2 = f.add_axes([0.75, 0.1, .025, .28]) #  [left, bottom, width, height] w\n",
    "#cbar_ax_2 = f.add_axes([0.35, 0.07, .025, .20]) #  [left, bottom, width, height] w\n",
    "\n",
    "#cbar_ax_2 = f.add_axes([0.76, 0.07, .025, .20]) #  [left, bottom, width, height] w\n",
    "#cbar_ax_2 = f.add_axes([0.33, 0.08, .025, .18]) #  [left, bottom, width, height] w\n",
    "cbar_ax_2 = f.add_axes([0.53, 0.08, .025, .18]) #  [left, bottom, width, height] w\n",
    "\n",
    "\n",
    "cbar2 = f.colorbar(pstd, cax=cbar_ax_2, label='days', orientation='vertical')\n",
    "# cbar.set_ticks(DOY_months)\n",
    "# cbar.set_ticklabels(DOY_labels)\n",
    "\n",
    "# Save to file\n",
    "f_out = os.path.join(fig_dir,'panArctic_'+metric+'_'+runType+'_'+cyear+'_'+cmonth+'_plus_std.png')\n",
    "f.savefig(f_out,bbox_inches='tight', dpi=300)\n",
    "f_out = os.path.join(fig_dir,'panArctic_'+metric+'_'+runType+'_'+cyear+'_'+cmonth+'_plus_std_lowRes.png')\n",
    "f.savefig(f_out,bbox_inches='tight', dpi=90)\n",
    "print(\"saved \", f_out)"
   ]
  },
  {
   "cell_type": "code",
   "execution_count": null,
   "metadata": {},
   "outputs": [],
   "source": [
    "diehere"
   ]
  },
  {
   "cell_type": "markdown",
   "metadata": {},
   "source": [
    "## Hudson Bay Region"
   ]
  },
  {
   "cell_type": "code",
   "execution_count": null,
   "metadata": {},
   "outputs": [],
   "source": [
    "ds_region = xr.open_dataset(os.path.join(E.grid_dir, 'sio_2016_mask_Update.nc'))\n",
    "print(ds_region)\n",
    "print(ds_region.region_names)\n",
    "\n",
    "reg2plot = (2,3,4,6,7,8,9,10,11,12,13,15)\n",
    "# Okhotsk, Bering, Hudson, Baffin+E. Grn., Barents+Kara, Laptev+E. Sib., Chuk+Beauf, Central\n",
    "\n",
    "reg2plot = (2,3,4,(6,7),(8,9),(10,11),(12,13),15)\n",
    "\n",
    "cR=2  # Hudson Bay\n",
    "creg = 2\n",
    "\n",
    "crExt = ds_region.where(ds_region.mask.isin(reg2plot[cR]), drop=True)[['xm','ym']]\n",
    "crExt = [crExt.xm.min().values, crExt.xm.max().values, \n",
    "     crExt.ym.min().values, crExt.ym.max().values]\n",
    "#crExt[2]=np.max([crExt[2],-3700000])\n"
   ]
  },
  {
   "cell_type": "code",
   "execution_count": null,
   "metadata": {},
   "outputs": [],
   "source": [
    "c_vmax=220\n",
    "c_vmin=152"
   ]
  },
  {
   "cell_type": "code",
   "execution_count": null,
   "metadata": {},
   "outputs": [],
   "source": [
    "print(ds_IFD_All.model.values)  # get rid of models that have no Hudson Bay  \n",
    "ds_IFD_Most=ds_IFD_All\n",
    "ds_IFD_Most=ds_IFD_Most.where(ds_IFD_Most.model!='awispin',drop=True)\n",
    "ds_IFD_Most.model.values"
   ]
  },
  {
   "cell_type": "code",
   "execution_count": null,
   "metadata": {},
   "outputs": [],
   "source": [
    "ds_MME_avg = ds_IFD_Most.mean(dim='model') #.where((ds_IFD_All>1) & (ds_IFD_All<275))\n",
    "ds_MME_std = ds_IFD_Most.std(dim='model')"
   ]
  },
  {
   "cell_type": "code",
   "execution_count": null,
   "metadata": {},
   "outputs": [],
   "source": []
  },
  {
   "cell_type": "code",
   "execution_count": null,
   "metadata": {},
   "outputs": [],
   "source": [
    "cvar = 'sic'\n",
    "PlotObs=False\n",
    "metric='IFD'\n",
    "\n",
    "# Set up plotting info\n",
    "if cvar=='sic':\n",
    "    if metric=='mean':\n",
    "        cmap_c = matplotlib.colors.ListedColormap(sns.color_palette(\"Blues_r\", 10))\n",
    "        cmap_c.set_bad(color = 'lightgrey')\n",
    "        c_label = 'Sea Ice Concentration (-)'\n",
    "        c_vmin = 0\n",
    "        c_vmax = 1\n",
    "    elif metric=='SIP':\n",
    "        cmap_c = matplotlib.colors.LinearSegmentedColormap.from_list(\"\", [\"white\",\"orange\",\"red\",\"#990000\"])\n",
    "        #cmap_c = plt.get_cmap('jet') \n",
    "        cmap_c.set_bad(color = 'lightgrey')\n",
    "        c_label = 'Sea Ice Probability (-)'\n",
    "        c_vmin = 0\n",
    "        c_vmax = 1\n",
    "    elif metric=='anomaly':\n",
    "#                         cmap_c = matplotlib.colors.ListedColormap(sns.color_palette(\"coolwarm\", 9))\n",
    "        cmap_c = matplotlib.colors.LinearSegmentedColormap.from_list(\"\", [\"red\",\"white\",\"blue\"])\n",
    "        cmap_c.set_bad(color = 'lightgrey')\n",
    "        c_label = 'SIC Anomaly to 1980-2010 Mean'\n",
    "        c_vmin = -1\n",
    "        c_vmax = 1\n",
    "    elif metric=='IFD':\n",
    "#         cmap_c = matplotlib.colors.LinearSegmentedColormap.from_list(\"\", [\"white\",\"orange\",\"red\",\"#990000\"], N=8)\n",
    "#         cmap_c.set_bad(color = 'lightgrey')\n",
    "                \n",
    "        #cmap_std = matplotlib.colors.LinearSegmentedColormap.from_list('redhues', redhues, N=8)\n",
    "        cmap_c = matplotlib.colors.LinearSegmentedColormap.from_list(\"\", [\"white\",\"orange\",\"red\",\"#990000\"], N=10)\n",
    "        cmap_c.set_bad(color = 'lightgrey')\n",
    "\n",
    "        cmap_std = matplotlib.colors.ListedColormap(sns.color_palette(\"Blues\", 10))\n",
    "        cmap_std.set_bad(color = 'lightgrey')\n",
    "        \n",
    "        cmap_b =  matplotlib.colors.ListedColormap(sns.color_palette(\"binary\", 2))\n",
    "        cmap_b.set_bad(color = 'None')\n",
    "        \n",
    "        cmap_obs =  matplotlib.colors.ListedColormap(sns.color_palette(\"Greys\", 2))\n",
    "        cmap_obs.set_bad(color = 'None')\n",
    "        \n",
    "        c_label = 'Ice Free Day'\n",
    "\n",
    "\n",
    "elif cvar=='hi':\n",
    "    if metric=='mean':\n",
    "        cmap_c = matplotlib.colors.ListedColormap(sns.color_palette(\"Reds_r\", 10))\n",
    "        cmap_c.set_bad(color = 'lightgrey')\n",
    "        c_label = 'Sea Ice Thickness (m)'\n",
    "        c_vmin = 0\n",
    "        c_vmax = None\n",
    "else:\n",
    "    raise ValueError(\"cvar not found.\") \n",
    "\n",
    "\n",
    "    \n",
    "def add_subplot_title(cmod, custom_names, E, ax=None):\n",
    "    if cmod in custom_names:\n",
    "        ax.set_title(custom_names[cmod])\n",
    "    elif cmod in E.model.keys():\n",
    "        ax.set_title(E.model[cmod]['model_label'])\n",
    "    else:\n",
    "        ax.set_title(cmod)\n",
    "\n",
    "        \n",
    "# New Plot\n",
    "if cmonth=='July':\n",
    "    NPLOTS = 9\n",
    "else: \n",
    "    NPLOTS = 10\n",
    "\n",
    "# New Plot\n",
    "(f, axes) = ice_plot.multi_polar_axis(ncols=4, nrows=3, Nplots=NPLOTS, extent=crExt)\n",
    "\n",
    "for (i, cmod) in enumerate(ds_IFD_Most.model.values):\n",
    "    print(cmod)\n",
    "    # Plot\n",
    "    add_subplot_title(cmod, custom_names, E, ax=axes[i])\n",
    "    cper_mask = ds_IFD_Most.sel(model=cmod).isel(init_time=0)\n",
    "\n",
    "#    print(cper_mask)\n",
    "    p = cper_mask.plot.pcolormesh(ax=axes[i], x='lon', y='lat', \n",
    "                          transform=ccrs.PlateCarree(),\n",
    "                          add_colorbar=False,\n",
    "                          cmap=cmap_c,\n",
    "                          vmin=c_vmin, vmax=c_vmax)\n",
    "\n",
    "    pb = cper_mask.where(cper_mask==275).plot.pcolormesh(ax=axes[i], x='lon', y='lat', \n",
    "                          transform=ccrs.PlateCarree(),\n",
    "                          add_colorbar=False,\n",
    "                          cmap=cmap_b,\n",
    "                          vmin=0, vmax=1)    \n",
    "    \n",
    "    add_subplot_title(cmod, custom_names, E, ax=axes[i])\n",
    "\n",
    "i = i + 1\n",
    "\n",
    "cper_mask = ds_MME_avg.isel(init_time=0)\n",
    "\n",
    "pmme = cper_mask.plot.pcolormesh(ax=axes[i], x='lon', y='lat', \n",
    "                                  transform=ccrs.PlateCarree(),\n",
    "                                  add_colorbar=False, \n",
    "                                  cmap=cmap_c, vmin=c_vmin, vmax=c_vmax)\n",
    "\n",
    "# Plot perenial ice as black\n",
    "pb = cper_mask.where(cper_mask>=274).plot.pcolormesh(ax=axes[i], x='lon', y='lat', \n",
    "                      transform=ccrs.PlateCarree(),\n",
    "                      add_colorbar=False,\n",
    "                      cmap=cmap_b,\n",
    "                      vmin=0, vmax=1)    \n",
    "\n",
    "\n",
    "axes[i].set_title('Multi-Forecast\\nMean')\n",
    "\n",
    "    \n",
    "# Climo10yrs\n",
    "i = i + 1\n",
    "\n",
    "pmme = climo.plot.pcolormesh(ax=axes[i], x='lon', y='lat', \n",
    "                                  transform=ccrs.PlateCarree(),\n",
    "                                  add_colorbar=False, \n",
    "                                  cmap=cmap_c, vmin=c_vmin, vmax=c_vmax)\n",
    "\n",
    "# Plot perenial ice as black\n",
    "pb = climo.where(climo>=274).plot.pcolormesh(ax=axes[i], x='lon', y='lat', \n",
    "                      transform=ccrs.PlateCarree(),\n",
    "                      add_colorbar=False,\n",
    "                      cmap=cmap_b,\n",
    "                      vmin=0, vmax=1)    \n",
    "\n",
    "\n",
    "axes[i].set_title('Climatology\\nLast 10 yrs')\n",
    "    \n",
    "# MME Standard deviation\n",
    "i = i + 1\n",
    "\n",
    "pstd = ds_MME_std.isel(init_time=0).plot.pcolormesh(ax=axes[i], x='lon', y='lat', \n",
    "                                  transform=ccrs.PlateCarree(),\n",
    "                                  add_colorbar=False, \n",
    "                                  cmap=cmap_std,vmin=ds_MME_std.min().values, vmax=0.67*ds_MME_std.max().values)\n",
    "axes[i].set_title('σ')\n",
    "\n",
    "\n",
    "\n",
    "# Make pretty\n",
    "f.subplots_adjust(bottom=0.05)\n",
    "\n",
    "cbar1vertical = True\n",
    "if cbar1vertical:\n",
    "    cbar_ax = f.add_axes([0.95, 0.36, .05, 0.5]) #  [left, bottom, width, height] w\n",
    "    cbar = f.colorbar(p, cax=cbar_ax, label=c_label, orientation='vertical')\n",
    "else:\n",
    "    cbar_ax = f.add_axes([0.55, 0.001, .5, 0.04]) #  [left, bottom, width, height] w\n",
    "    cbar = f.colorbar(p, cax=cbar_ax, label=c_label, orientation='horizontal')\n",
    "cbar.set_ticks(DOY_months)\n",
    "cbar.set_ticklabels(DOY_labels)\n",
    "\n",
    "#f.subplots_adjust(right=0.05)\n",
    "#cbar_ax_2 = f.add_axes([0.925, 0.1, .025, .28]) #  [left, bottom, width, height] w   FAR RIGHT\n",
    "#cbar_ax_2 = f.add_axes([0.75, 0.1, .025, .28]) #  [left, bottom, width, height] w\n",
    "\n",
    "cbar_ax_2 = f.add_axes([0.35, 0.07, .025, .20]) #  [left, bottom, width, height] w\n",
    "\n",
    "cbar2 = f.colorbar(pstd, cax=cbar_ax_2, label='days', orientation='vertical')\n",
    "# cbar.set_ticks(DOY_months)\n",
    "# cbar.set_ticklabels(DOY_labels)\n",
    "\n",
    "# Save to file\n",
    "f_out = os.path.join(fig_dir,'HudsonBay_'+metric+'_'+runType+'_'+cyear+'_'+cmonth+'_plus_std.png')\n",
    "f.savefig(f_out,bbox_inches='tight', dpi=300)\n",
    "f_out = os.path.join(fig_dir,'HudsonBay_'+metric+'_'+runType+'_'+cyear+'_'+cmonth+'_plus_std_lowRes.png')\n",
    "f.savefig(f_out,bbox_inches='tight', dpi=90)\n",
    "print(\"saved \", f_out)"
   ]
  },
  {
   "cell_type": "code",
   "execution_count": null,
   "metadata": {},
   "outputs": [],
   "source": []
  },
  {
   "cell_type": "code",
   "execution_count": null,
   "metadata": {},
   "outputs": [],
   "source": []
  }
 ],
 "metadata": {
  "kernelspec": {
   "display_name": "Python 3",
   "language": "python",
   "name": "python3"
  },
  "language_info": {
   "codemirror_mode": {
    "name": "ipython",
    "version": 3
   },
   "file_extension": ".py",
   "mimetype": "text/x-python",
   "name": "python",
   "nbconvert_exporter": "python",
   "pygments_lexer": "ipython3",
   "version": "3.6.4"
  }
 },
 "nbformat": 4,
 "nbformat_minor": 2
}
