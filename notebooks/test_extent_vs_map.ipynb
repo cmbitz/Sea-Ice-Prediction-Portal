{
 "cells": [
  {
   "cell_type": "code",
   "execution_count": null,
   "metadata": {},
   "outputs": [],
   "source": [
    "'''\n",
    "\n",
    "This code is part of the SIPN2 project focused on improving sub-seasonal to seasonal predictions of Arctic Sea Ice. \n",
    "If you use this code for a publication or presentation, please cite the reference in the README.md on the\n",
    "main page (https://github.com/NicWayand/ESIO). \n",
    "\n",
    "Questions or comments should be addressed to nicway@uw.edu\n",
    "\n",
    "Copyright (c) 2018 Nic Wayand\n",
    "\n",
    "GNU General Public License v3.0\n",
    "\n",
    "\n",
    "'''\n",
    "\n",
    "'''\n",
    "Plot exetent/area from observations and models (past and future)\n",
    "'''\n",
    "\n",
    "%matplotlib inline\n",
    "%load_ext autoreload\n",
    "%autoreload\n",
    "import matplotlib\n",
    "import matplotlib.pyplot as plt, mpld3\n",
    "from collections import OrderedDict\n",
    "import itertools\n",
    "import numpy as np\n",
    "import numpy.ma as ma\n",
    "import pandas as pd\n",
    "import struct\n",
    "import os\n",
    "import xarray as xr\n",
    "import glob\n",
    "import datetime\n",
    "import cartopy.crs as ccrs\n",
    "from cartopy.mpl.gridliner import LONGITUDE_FORMATTER, LATITUDE_FORMATTER\n",
    "import seaborn as sns\n",
    "np.seterr(divide='ignore', invalid='ignore')\n",
    "\n",
    "\n",
    "from esio import EsioData as ed\n",
    "\n",
    "# General plotting settings\n",
    "sns.set_style('whitegrid')\n",
    "sns.set_context(\"talk\", font_scale=1.5, rc={\"lines.linewidth\": 2.5})"
   ]
  },
  {
   "cell_type": "code",
   "execution_count": null,
   "metadata": {},
   "outputs": [],
   "source": []
  },
  {
   "cell_type": "code",
   "execution_count": null,
   "metadata": {},
   "outputs": [],
   "source": []
  },
  {
   "cell_type": "code",
   "execution_count": null,
   "metadata": {},
   "outputs": [],
   "source": [
    "#############################################################\n",
    "# Load in Data\n",
    "#############################################################\n",
    "E = ed.EsioData.load()\n",
    "\n",
    "ds_81 = xr.open_mfdataset(E.obs['NSIDC_0081']['sipn_nc']+'/*.nc', concat_dim='time', autoclose=True)\n",
    "\n",
    "ds_ext = xr.open_dataset(os.path.join(E.obs['NSIDC_extent']['sipn_nc'], 'N_seaice_extent_daily_v3.0.nc'))\n",
    "ds_ext = ds_ext.rename({'datetime':'time'})"
   ]
  },
  {
   "cell_type": "code",
   "execution_count": null,
   "metadata": {},
   "outputs": [],
   "source": [
    "# Load in regional data\n",
    "# Note minor -0.000004 degree differences in latitude\n",
    "ds_region = xr.open_dataset(os.path.join(E.grid_dir, 'sio_2016_mask_Update.nc'))\n",
    "# ds_region.set_coords(['lat','lon'], inplace=True);\n",
    "# ds_region.rename({'nx':'x', 'ny':'y'}, inplace=True);"
   ]
  },
  {
   "cell_type": "code",
   "execution_count": null,
   "metadata": {},
   "outputs": [],
   "source": [
    "model='ecmwfsipn'"
   ]
  },
  {
   "cell_type": "code",
   "execution_count": null,
   "metadata": {},
   "outputs": [],
   "source": [
    "ds_mod = xr.open_dataset('/home/disk/sipn/nicway/data/model/'+model+'/forecast/sipn_nc/'+model+'_2018_03_Stereo.nc')\n",
    "ds_mod = ds_mod.isel(ensemble=0).isel(init_time=0).isel(fore_time=0).sic\n",
    "ds_mod = ds_mod.rename({'nj':'x','ni':'y'})"
   ]
  },
  {
   "cell_type": "code",
   "execution_count": null,
   "metadata": {},
   "outputs": [],
   "source": [
    "fig_dir = os.path.join(E.fig_dir, 'model', 'extent_test')"
   ]
  },
  {
   "cell_type": "code",
   "execution_count": null,
   "metadata": {},
   "outputs": [],
   "source": [
    "mod_ext = ((ds_mod >= 0.15).astype('int') * ds_region.area).sum(dim='x').sum(dim='y')/(10**6)\n",
    "mod_ext_2 = esio.calc_extent(ds_mod, ds_region)"
   ]
  },
  {
   "cell_type": "code",
   "execution_count": null,
   "metadata": {},
   "outputs": [],
   "source": [
    "# Obs\n",
    "obs_ext_2 = esio.calc_extent(ds_81.sic.sel(time=ds_mod.init_time.values, method='nearest'), ds_region)\n",
    "p_obs = (ds_81.sic.sel(time=ds_mod.init_time.values, method='nearest') >=0.15 ).where(ds_81.sic.sel(time=ds_mod.init_time.values, method='nearest').notnull())\n",
    "obs_ext = ((p_obs * ds_region.area).sum(dim='x').sum(dim='y')/(10**6)).load()\n",
    "obs_ext_Offical = ds_ext.sel(time=ds_mod.init_time.values, method='nearest')"
   ]
  },
  {
   "cell_type": "code",
   "execution_count": null,
   "metadata": {},
   "outputs": [],
   "source": [
    "print('model',mod_ext.values)\n",
    "print('model function)',mod_ext_2.values)\n",
    "\n",
    "\n",
    "print('Obs cal',obs_ext.values)\n",
    "print('Obs cal (function)',obs_ext_2.values)\n",
    "\n",
    "\n",
    "print('Obs Offical',obs_ext_Offical.Extent.values)\n"
   ]
  },
  {
   "cell_type": "code",
   "execution_count": null,
   "metadata": {},
   "outputs": [],
   "source": [
    "MOD = ds_mod\n",
    "OBS = ds_81.sic.sel(time=ds_mod.init_time.values, method='nearest')"
   ]
  },
  {
   "cell_type": "code",
   "execution_count": null,
   "metadata": {},
   "outputs": [],
   "source": [
    "plt.scatter(ds_region.lat.values[:],ds_region.area.values[:])\n",
    "plt.ylabel('area')\n",
    "plt.xlabel('lat')"
   ]
  },
  {
   "cell_type": "code",
   "execution_count": null,
   "metadata": {},
   "outputs": [],
   "source": [
    "ds_region.area.plot()"
   ]
  },
  {
   "cell_type": "code",
   "execution_count": null,
   "metadata": {},
   "outputs": [],
   "source": [
    "((OBS.where(ds_region.mask.isin(ds_region.ocean_regions))>=0).astype('int') * ds_region.area).plot()\n",
    "((OBS.where(ds_region.mask.isin(ds_region.ocean_regions))>=0).astype('int') * ds_region.area).sum().values/(10**6)"
   ]
  },
  {
   "cell_type": "code",
   "execution_count": null,
   "metadata": {},
   "outputs": [],
   "source": [
    "((MOD.T.where(ds_region.mask.isin(ds_region.ocean_regions))>=0).astype('int') * ds_region.area).plot()\n",
    "((MOD.T.where(ds_region.mask.isin(ds_region.ocean_regions))>=0).astype('int') * ds_region.area).sum().values/(10**6)"
   ]
  },
  {
   "cell_type": "code",
   "execution_count": null,
   "metadata": {},
   "outputs": [],
   "source": [
    "19.033/22.54"
   ]
  },
  {
   "cell_type": "code",
   "execution_count": null,
   "metadata": {},
   "outputs": [],
   "source": [
    " extent = (( da.where(region.mask.isin(region.ocean_regions)) >= extent_thress ).astype('int') * region.area).sum(dim='x').sum(dim='y')/(10**6)"
   ]
  },
  {
   "cell_type": "code",
   "execution_count": null,
   "metadata": {},
   "outputs": [],
   "source": [
    "# Plot map at fore_time 0\n",
    "cmap_c = matplotlib.colors.ListedColormap(sns.color_palette(\"Blues_r\", 10))\n",
    "cmap_c.set_bad(color = 'lightgrey')\n",
    "c_label = 'Sea Ice Concentration (-)'\n",
    "c_vmin = 0\n",
    "c_vmax = 1\n",
    "(f, axes) = ice_plot.multi_polar_axis(ncols=3, nrows=1, Nplots=4, sizefcter=3, extent=[-3850000, 3725000, -5325000, 5850000])\n",
    "p = (ds_mod >= 0.15).where(ds_mod.notnull()).plot.pcolormesh(ax=axes[0], x='lon', y='lat', \n",
    "                                      transform=ccrs.PlateCarree(),\n",
    "                                      add_colorbar=False,\n",
    "                                      cmap='Reds',\n",
    "                                      vmin=c_vmin, vmax=c_vmax)\n",
    "# Calc extents\n",
    "axes[0].set_title(model+'\\nCalc Extent:'+'{0:.1f}'.format(mod_ext.values))\n",
    "\n",
    "p = p_obs.plot.pcolormesh(ax=axes[1], x='lon', y='lat', \n",
    "                                      transform=ccrs.PlateCarree(),\n",
    "                                      add_colorbar=False,\n",
    "                                      cmap='Reds',\n",
    "                                      vmin=c_vmin, vmax=c_vmax)\n",
    "axes[1].set_title('Observed. \\nCalc Extent:'+'{0:.1f}'.format(obs_ext.values)+'\\n'+\n",
    "                 'Offical Extent:'+'{0:.1f}'.format(obs_ext_Offical.Extent.values))\n",
    "\n",
    "p = ds_region.mask.isin(ds_region.ocean_regions).plot.pcolormesh(ax=axes[2], x='lon', y='lat', \n",
    "                                      transform=ccrs.PlateCarree(),\n",
    "                                      add_colorbar=False,\n",
    "                                      cmap='Reds',\n",
    "                                      vmin=c_vmin, vmax=c_vmax)\n",
    "axes[2].set_title('Regional area included')"
   ]
  },
  {
   "cell_type": "code",
   "execution_count": null,
   "metadata": {},
   "outputs": [],
   "source": [
    "f.savefig(os.path.join(fig_dir, model+'_example.png'))"
   ]
  },
  {
   "cell_type": "code",
   "execution_count": null,
   "metadata": {},
   "outputs": [],
   "source": [
    "(ds_mod >= 0.15).where(ds_mod.notnull()).T.plot()\n",
    "(ds_mod >= 0.15).where(ds_mod.notnull()).sum().values"
   ]
  },
  {
   "cell_type": "code",
   "execution_count": null,
   "metadata": {},
   "outputs": [],
   "source": [
    "p_obs.plot()\n",
    "p_obs.sum().values"
   ]
  },
  {
   "cell_type": "code",
   "execution_count": null,
   "metadata": {},
   "outputs": [],
   "source": [
    "18390/23716"
   ]
  },
  {
   "cell_type": "code",
   "execution_count": null,
   "metadata": {},
   "outputs": [],
   "source": [
    "11.5/14.6"
   ]
  },
  {
   "cell_type": "code",
   "execution_count": null,
   "metadata": {},
   "outputs": [],
   "source": []
  }
 ],
 "metadata": {
  "kernelspec": {
   "display_name": "3.6.4 esio",
   "language": "python",
   "name": "esio"
  },
  "language_info": {
   "codemirror_mode": {
    "name": "ipython",
    "version": 3
   },
   "file_extension": ".py",
   "mimetype": "text/x-python",
   "name": "python",
   "nbconvert_exporter": "python",
   "pygments_lexer": "ipython3",
   "version": "3.6.4"
  }
 },
 "nbformat": 4,
 "nbformat_minor": 2
}
