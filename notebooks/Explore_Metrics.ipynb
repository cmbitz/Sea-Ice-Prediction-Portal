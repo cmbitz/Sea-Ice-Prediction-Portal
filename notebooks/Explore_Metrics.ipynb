{
 "cells": [
  {
   "cell_type": "code",
   "execution_count": null,
   "metadata": {},
   "outputs": [],
   "source": [
    "'''\n",
    "\n",
    "This code is part of the SIPN2 project focused on improving sub-seasonal to seasonal predictions of Arctic Sea Ice. \n",
    "If you use this code for a publication or presentation, please cite the reference in the README.md on the\n",
    "main page (https://github.com/NicWayand/ESIO). \n",
    "\n",
    "Questions or comments should be addressed to nicway@uw.edu\n",
    "\n",
    "Copyright (c) 2018 Nic Wayand\n",
    "\n",
    "GNU General Public License v3.0\n",
    "\n",
    "\n",
    "'''\n",
    "\n",
    "%matplotlib inline\n",
    "%load_ext autoreload\n",
    "%autoreload\n",
    "import matplotlib.pyplot as plt\n",
    "import matplotlib\n",
    "import numpy as np\n",
    "import numpy.ma as ma\n",
    "import struct\n",
    "import os\n",
    "import xarray as xr\n",
    "import glob\n",
    "import datetime \n",
    "import cartopy.crs as ccrs\n",
    "from cartopy.mpl.gridliner import LONGITUDE_FORMATTER, LATITUDE_FORMATTER\n",
    "import seaborn as sns\n",
    "import pandas as pd\n",
    "\n",
    "# ESIO Imports\n",
    "\n",
    "from esio import EsioData as ed\n",
    "\n",
    "import dask\n",
    "\n",
    "from dask.distributed import Client\n",
    "client = Client()\n",
    "\n",
    "\n",
    "# General plotting settings\n",
    "sns.set_style('ticks')\n",
    "sns.set_context(\"talk\", font_scale=1.5, rc={\"lines.linewidth\": 2.5})\n",
    "\n",
    "#############################################################\n",
    "# Load in Data\n",
    "#############################################################\n",
    "E = ed.EsioData.load()\n",
    "data_dir = E.data_dir\n",
    "grid_dir = E.grid_dir\n",
    "fig_dir = os.path.join(E.fig_dir, 'model', 'extent_test')"
   ]
  },
  {
   "cell_type": "code",
   "execution_count": null,
   "metadata": {},
   "outputs": [],
   "source": [
    "client"
   ]
  },
  {
   "cell_type": "code",
   "execution_count": null,
   "metadata": {},
   "outputs": [],
   "source": [
    "runType = 'forecast'\n",
    "variables = ['sic']\n",
    "cvar = variables[0]\n",
    "test_plots = False"
   ]
  },
  {
   "cell_type": "code",
   "execution_count": null,
   "metadata": {},
   "outputs": [],
   "source": [
    "# Define models\n",
    "# models_2_process = list(E.model.keys())\n",
    "# models_2_process = [x for x in models_2_process if x!='piomas'] # remove some models\n",
    "models_2_process = ['yopp']\n",
    "models_2_process"
   ]
  },
  {
   "cell_type": "code",
   "execution_count": null,
   "metadata": {},
   "outputs": [],
   "source": [
    "# Load in Obs\n",
    "da_obs_in = xr.open_mfdataset(E.obs['NSIDC_0081']['sipn_nc']+'/*.nc', concat_dim='time', autoclose=True)\n",
    "ds_region = xr.open_mfdataset(os.path.join(E.grid_dir, 'sio_2016_mask_Update.nc'))"
   ]
  },
  {
   "cell_type": "code",
   "execution_count": null,
   "metadata": {},
   "outputs": [],
   "source": [
    "for (i, c_model) in enumerate(models_2_process):\n",
    "    print(c_model)\n",
    "    \n",
    "    # Output temp dir\n",
    "    out_dir =  os.path.join(data_dir, 'model', c_model , 'forecast', 'agg_nc')\n",
    "    if not os.path.exists(out_dir):\n",
    "        os.makedirs(out_dir)\n",
    "\n",
    "    # Load in Model\n",
    "    model_forecast = os.path.join(E.model[c_model][runType]['sipn_nc'], '*.nc')\n",
    "    ds_model = xr.open_mfdataset(model_forecast, \n",
    "                 chunks={'ensemble': 1, 'fore_time': 1, 'init_time': 1, 'nj': 304, 'ni': 448},\n",
    "                    concat_dim='init_time')\n",
    "    ds_model.rename({'nj':'x', 'ni':'y'}, inplace=True)\n",
    "    \n",
    "    # Select by variable\n",
    "    da_mod_in = ds_model[cvar]\n",
    "    \n",
    "    \n"
   ]
  },
  {
   "cell_type": "code",
   "execution_count": null,
   "metadata": {},
   "outputs": [],
   "source": [
    "ds_model"
   ]
  },
  {
   "cell_type": "code",
   "execution_count": null,
   "metadata": {},
   "outputs": [],
   "source": []
  },
  {
   "cell_type": "code",
   "execution_count": null,
   "metadata": {},
   "outputs": [],
   "source": [
    "c_ds = ds_model.isel(ensemble=0).isel(init_time=0)\n",
    "c_ds.coords['valid_time'] = c_ds.init_time + c_ds.fore_time \n",
    "c_ds.swap_dims({'fore_time':'valid_time'}, inplace=True)\n",
    "c_ds"
   ]
  },
  {
   "cell_type": "code",
   "execution_count": null,
   "metadata": {},
   "outputs": [],
   "source": []
  },
  {
   "cell_type": "code",
   "execution_count": null,
   "metadata": {},
   "outputs": [],
   "source": [
    "comm_time = [x for x in c_ds.valid_time.values if x in da_obs_in.time.values]\n",
    "c_obs = da_obs_in.sic.sel(time=comm_time)\n",
    "c_mod = c_ds.sic.sel(valid_time=comm_time)\n",
    "c_mod = c_mod.rename({'valid_time':'time'})"
   ]
  },
  {
   "cell_type": "code",
   "execution_count": null,
   "metadata": {},
   "outputs": [],
   "source": [
    "# Mask by Regoin\n",
    "cR = 3\n",
    "ds_region.sel(nregions=cR).region_names.values"
   ]
  },
  {
   "cell_type": "code",
   "execution_count": null,
   "metadata": {},
   "outputs": [],
   "source": [
    "c_mod_reg = c_mod.where(ds_region.mask==cR, drop=True)\n",
    "c_obs_reg = c_obs.where(ds_region.mask==cR, drop=True)"
   ]
  },
  {
   "cell_type": "code",
   "execution_count": null,
   "metadata": {},
   "outputs": [],
   "source": []
  },
  {
   "cell_type": "code",
   "execution_count": null,
   "metadata": {},
   "outputs": [],
   "source": [
    "(c_obs_reg.isel(time=15)-c_obs_reg.isel(time=0)).plot()"
   ]
  },
  {
   "cell_type": "code",
   "execution_count": null,
   "metadata": {},
   "outputs": [],
   "source": [
    "(c_mod_reg.isel(time=15)-c_mod_reg.isel(time=0)).plot()"
   ]
  },
  {
   "cell_type": "code",
   "execution_count": null,
   "metadata": {},
   "outputs": [],
   "source": [
    "# Initial conditoin error\n",
    "plt.figure()\n",
    "plt.scatter(c_mod_reg.T.isel(time=0).values, c_obs_reg.isel(time=0).values)\n",
    "plt.axis('square');"
   ]
  },
  {
   "cell_type": "code",
   "execution_count": null,
   "metadata": {},
   "outputs": [],
   "source": [
    "# plt.figure()\n",
    "# for x in c_mod_reg.x:\n",
    "#     for y in c_mod_reg.y:\n",
    "#         tO = c_obs_reg.sel(x=x1, y=y1)\n",
    "#         tM = c_mod_reg.sel(x=x1, y=y1)\n",
    "#         if np.any(tO.notnull()):\n",
    "#             tO.plot(color='b')\n",
    "#         if np.any(tM.notnull()):\n",
    "#             tM.plot(color='r')    "
   ]
  },
  {
   "cell_type": "code",
   "execution_count": null,
   "metadata": {},
   "outputs": [],
   "source": []
  },
  {
   "cell_type": "code",
   "execution_count": null,
   "metadata": {},
   "outputs": [],
   "source": [
    "c_obs_reg.values.shape"
   ]
  },
  {
   "cell_type": "code",
   "execution_count": null,
   "metadata": {},
   "outputs": [],
   "source": []
  },
  {
   "cell_type": "code",
   "execution_count": null,
   "metadata": {},
   "outputs": [],
   "source": [
    "# Reshape by points (use xarray function)\n",
    "new_obs = xr.DataArray(np.reshape(c_obs_reg.values, (c_obs_reg.time.size,c_obs_reg.y.size*c_obs_reg.x.size)), dims=('time','point'), coords={'time':c_obs_reg.time})\n",
    "new_mod = xr.DataArray(np.reshape(c_mod_reg.values, (c_mod_reg.time.size,c_mod_reg.y.size*c_mod_reg.x.size)), dims=('time','point'), coords={'time':c_mod_reg.time})\n",
    "new_mod = new_mod.where((new_obs.notnull()) , drop=True)\n",
    "new_obs = new_obs.where((new_obs.notnull()) , drop=True)\n"
   ]
  },
  {
   "cell_type": "code",
   "execution_count": null,
   "metadata": {},
   "outputs": [],
   "source": []
  },
  {
   "cell_type": "code",
   "execution_count": null,
   "metadata": {},
   "outputs": [],
   "source": [
    "f = plt.figure(figsize=(10,5))\n",
    "plt.plot(new_obs.time, new_obs.values, color='blue', alpha=0.01);\n",
    "f.autofmt_xdate()"
   ]
  },
  {
   "cell_type": "code",
   "execution_count": null,
   "metadata": {},
   "outputs": [],
   "source": [
    "f = plt.figure(figsize=(10,5))\n",
    "plt.plot(new_mod.time, new_mod.values, color='red', alpha=0.01);\n",
    "f.autofmt_xdate()"
   ]
  },
  {
   "cell_type": "code",
   "execution_count": null,
   "metadata": {},
   "outputs": [],
   "source": [
    "f = plt.figure(figsize=(10,5))\n",
    "plt.plot(new_mod.values, new_obs.values, color='red', alpha=0.05);"
   ]
  },
  {
   "cell_type": "code",
   "execution_count": null,
   "metadata": {},
   "outputs": [],
   "source": [
    "f = plt.figure(figsize=(10,5))\n",
    "plt.plot(new_mod.time, (new_mod-new_obs).values, color='red', alpha=0.01);\n",
    "f.autofmt_xdate()"
   ]
  },
  {
   "cell_type": "code",
   "execution_count": null,
   "metadata": {},
   "outputs": [],
   "source": [
    "new_mod"
   ]
  },
  {
   "cell_type": "code",
   "execution_count": null,
   "metadata": {},
   "outputs": [],
   "source": [
    "new_obs"
   ]
  },
  {
   "cell_type": "code",
   "execution_count": null,
   "metadata": {},
   "outputs": [],
   "source": [
    "plt.figure()\n",
    "plt.scatter(new_mod.values, new_obs.values, alpha=0.05)\n",
    "plt.axis('square');"
   ]
  },
  {
   "cell_type": "code",
   "execution_count": null,
   "metadata": {},
   "outputs": [],
   "source": [
    "plt.figure()\n",
    "plt.scatter(new_mod.isel(time=0).values, new_obs.isel(time=0).values, alpha=0.05)\n",
    "plt.axis('square');"
   ]
  },
  {
   "cell_type": "code",
   "execution_count": null,
   "metadata": {},
   "outputs": [],
   "source": []
  },
  {
   "cell_type": "code",
   "execution_count": null,
   "metadata": {},
   "outputs": [],
   "source": [
    "x1 = 60\n",
    "y1 = 170\n",
    "tO = c_obs_reg.sel(x=x1, y=y1)\n",
    "tM = c_mod_reg.sel(x=x1, y=y1)\n",
    "np.any(tO.notnull())\n",
    "tO.plot(color='b')\n",
    "tM.plot(color='r')"
   ]
  },
  {
   "cell_type": "code",
   "execution_count": null,
   "metadata": {},
   "outputs": [],
   "source": []
  },
  {
   "cell_type": "code",
   "execution_count": null,
   "metadata": {},
   "outputs": [],
   "source": [
    "plt.figure()\n",
    "c_mod.isel(x=x, y=y).plot()\n",
    "c_obs.isel(x=x, y=y).plot()"
   ]
  },
  {
   "cell_type": "code",
   "execution_count": null,
   "metadata": {},
   "outputs": [],
   "source": [
    "client.close()"
   ]
  },
  {
   "cell_type": "code",
   "execution_count": null,
   "metadata": {},
   "outputs": [],
   "source": []
  }
 ],
 "metadata": {
  "kernelspec": {
   "display_name": "3.6.4 esio",
   "language": "python",
   "name": "esio"
  },
  "language_info": {
   "codemirror_mode": {
    "name": "ipython",
    "version": 3
   },
   "file_extension": ".py",
   "mimetype": "text/x-python",
   "name": "python",
   "nbconvert_exporter": "python",
   "pygments_lexer": "ipython3",
   "version": "3.6.4"
  }
 },
 "nbformat": 4,
 "nbformat_minor": 2
}
