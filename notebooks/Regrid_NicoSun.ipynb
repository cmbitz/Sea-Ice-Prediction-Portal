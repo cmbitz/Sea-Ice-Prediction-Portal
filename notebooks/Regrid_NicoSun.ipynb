{
 "cells": [
  {
   "cell_type": "code",
   "execution_count": null,
   "metadata": {},
   "outputs": [],
   "source": [
    "'''\n",
    "\n",
    "This code is part of the SIPN2 project focused on improving sub-seasonal to seasonal predictions of Arctic Sea Ice. \n",
    "If you use this code for a publication or presentation, please cite the reference in the README.md on the\n",
    "main page (https://github.com/NicWayand/ESIO). \n",
    "\n",
    "Questions or comments should be addressed to nicway@uw.edu\n",
    "\n",
    "Copyright (c) 2018 Nic Wayand\n",
    "\n",
    "GNU General Public License v3.0\n",
    "\n",
    "\n",
    "'''\n",
    "\n",
    "# Standard Imports\n",
    "%matplotlib inline\n",
    "%load_ext autoreload\n",
    "%autoreload\n",
    "import matplotlib\n",
    "import scipy\n",
    "import matplotlib.pyplot as plt\n",
    "import cartopy.crs as ccrs\n",
    "from cartopy.mpl.gridliner import LONGITUDE_FORMATTER, LATITUDE_FORMATTER\n",
    "import numpy as np\n",
    "import pandas as pd\n",
    "import xarray as xr\n",
    "import xesmf as xe\n",
    "import os\n",
    "import glob\n",
    "import seaborn as sns\n",
    "import warnings\n",
    "import datetime\n",
    "warnings.simplefilter(action='ignore', category=FutureWarning)\n",
    "\n",
    "# ESIO Imports\n",
    "\n",
    "from esio import EsioData as ed\n",
    "from esio import import_data\n",
    "from esio import ice_plot"
   ]
  },
  {
   "cell_type": "code",
   "execution_count": null,
   "metadata": {
    "collapsed": true
   },
   "outputs": [],
   "source": [
    "# General plotting settings\n",
    "sns.set_style('whitegrid')\n",
    "sns.set_context(\"talk\", font_scale=1.5, rc={\"lines.linewidth\": 2.5})"
   ]
  },
  {
   "cell_type": "code",
   "execution_count": null,
   "metadata": {
    "collapsed": true
   },
   "outputs": [],
   "source": [
    "E = ed.EsioData.load()\n",
    "# Directories\n",
    "all_models=['nicosipn']\n",
    "runType='forecast'\n",
    "updateall = True"
   ]
  },
  {
   "cell_type": "code",
   "execution_count": null,
   "metadata": {},
   "outputs": [],
   "source": [
    "stero_grid_file = E.obs['NSIDC_0051']['grid']\n",
    "obs_grid = import_data.load_grid_info(stero_grid_file, model='NSIDC')\n",
    "# Ensure latitude is within bounds (-90 to 90)\n",
    "# Have to do this because grid file has 90.000001\n",
    "obs_grid['lat_b'] = obs_grid.lat_b.where(obs_grid.lat_b < 90, other = 90)"
   ]
  },
  {
   "cell_type": "code",
   "execution_count": null,
   "metadata": {},
   "outputs": [],
   "source": [
    "obs_grid"
   ]
  },
  {
   "cell_type": "code",
   "execution_count": null,
   "metadata": {},
   "outputs": [],
   "source": []
  },
  {
   "cell_type": "code",
   "execution_count": null,
   "metadata": {},
   "outputs": [],
   "source": [
    "def load_sun_extent(f, valid_time):\n",
    "    #extent maps in uint8\n",
    "    with open( f, 'rb') as frr:\n",
    "        extentforecast = np.fromfile(frr, dtype=np.uint8)\n",
    "    extentforecast = extentforecast.reshape(448, 304)\n",
    "    da = xr.DataArray(extentforecast, dims=('ni','nj')).T\n",
    "    oceanmask = da<255 # Mask land\n",
    "    da = (da==250).astype('int').where(oceanmask)\n",
    "    da.coords['valid_time'] = valid_time\n",
    "    \n",
    "    return da\n",
    "    "
   ]
  },
  {
   "cell_type": "code",
   "execution_count": null,
   "metadata": {},
   "outputs": [],
   "source": [
    "def load_sun_sic(f, valid_time):\n",
    "    #extent maps in uint8\n",
    "    with open( f, 'rb') as frr:\n",
    "        extentforecast = np.fromfile(frr, dtype=np.uint8)\n",
    "    extentforecast = extentforecast.reshape(448, 304)\n",
    "    da = xr.DataArray(extentforecast, dims=('ni','nj')).T\n",
    "    oceanmask = da<255 # Mask land\n",
    "    da = (da/250).where(oceanmask)\n",
    "    da.coords['valid_time'] = valid_time\n",
    "    \n",
    "    return da\n",
    "    "
   ]
  },
  {
   "cell_type": "code",
   "execution_count": null,
   "metadata": {},
   "outputs": [],
   "source": [
    "cvar = 'SIC'\n",
    "\n",
    "# Pre 2018 July\n",
    "prefix_single = ['SIPN2_Extent_over']\n",
    "# Post 2018 July\n",
    "ens_prefix = ['SIPN2_SIC_High','SIPN2_SIC_Low','SIPN2_SIC_Mean']"
   ]
  },
  {
   "cell_type": "code",
   "execution_count": null,
   "metadata": {},
   "outputs": [],
   "source": [
    "for model in all_models:\n",
    "    print('Regridding ', model, '...')\n",
    "    \n",
    "    data_dir = os.path.join('/home/disk/sipn/upload',model,runType) \n",
    "    data_out = '/home/disk/sipn/nicway/data/model/nicosipn/forecast/sipn_nc'\n",
    "   \n",
    "    # Get list of dir (\"months\")\n",
    "    mon_dirs = [ name for name in os.listdir(data_dir) if os.path.isdir(os.path.join(data_dir, name)) ]\n",
    "    print(mon_dirs)\n",
    "\n",
    "    print(\"Found \",len(mon_dirs),\" months.\")\n",
    "    if updateall:\n",
    "        print(\"Updating all files...\")\n",
    "    else:\n",
    "        print(\"Only updating new files\")\n",
    "    \n",
    "    # for each  month\n",
    "    for cdir in mon_dirs:\n",
    "        print(\"processing \",cdir)\n",
    "        cyear = cdir.split('_')[0]\n",
    "        cmon = cdir.split('_')[1]\n",
    "        \n",
    "        # Check if already imported and skip (unless updateall flag is True)\n",
    "        f_out = os.path.join(data_out, cyear+'_'+cmon+'_Stereo.nc') # netcdf file out \n",
    "        if not updateall:\n",
    "            # TODO: Test if the file is openable (not corrupted)\n",
    "            if os.path.isfile(f_out):\n",
    "                print(\"Skipping \", os.path.basename(f_out), \" already imported.\")\n",
    "                continue # Skip, file already imported\n",
    "        \n",
    "        if (cyear=='2018') & (cmon=='07'): # Single ensemble\n",
    "            prefix_l = prefix_single\n",
    "            Nunderscores = 4\n",
    "        else:\n",
    "            prefix_l = ens_prefix\n",
    "            Nunderscores = 3 # Becuase file format changes.... sigh\n",
    "        \n",
    "        ds_ens = []\n",
    "        for (en, c_prefix) in enumerate(prefix_l):\n",
    "            print(en)\n",
    "            all_files = sorted(glob.glob(os.path.join(data_dir, cdir, cvar, c_prefix+'*.bin'), recursive=True))\n",
    "            print(\"Found\",len(all_files),\"files\")\n",
    "\n",
    "            ds_l = []\n",
    "            for cf in all_files:\n",
    "                valid_date = os.path.basename(cf).split('_')[Nunderscores].split('.')[0]\n",
    "                valid_date = np.datetime64(pd.to_datetime(valid_date))\n",
    "                if (cyear=='2018') & (cmon=='07'): # Single ensemble\n",
    "                    da_f = load_sun_extent(cf, valid_date)\n",
    "                else:\n",
    "                    da_f = load_sun_sic(cf, valid_date)\n",
    "\n",
    "                ds_l.append(da_f)\n",
    "            ds_out = xr.concat(ds_l, dim='valid_time')\n",
    "            # add init time\n",
    "            ds_out.coords['init_time'] = ds_out.valid_time.values[0]\n",
    "            ds_out.coords['fore_time'] = (ds_out.valid_time - ds_out.init_time)\n",
    "            ds_out = ds_out.swap_dims({'valid_time':'fore_time'})\n",
    "            ds_out = ds_out.drop('valid_time')\n",
    "\n",
    "            ds_out.name = 'sic'\n",
    "\n",
    "            # Add lat/lon\n",
    "            ds_out.coords['lat'] = obs_grid.lat\n",
    "            ds_out.coords['lon'] = obs_grid.lon\n",
    "            \n",
    "            # Set ensemeble dim\n",
    "            ds_out.coords['ensemble'] = en\n",
    "            \n",
    "            # Expand dims\n",
    "            ds_out = import_data.expand_to_sipn_dims(ds_out)\n",
    "            \n",
    "            # Store in list\n",
    "            ds_ens.append(ds_out)\n",
    "            \n",
    "        if len(ds_ens)>1:\n",
    "            ds_out_all = xr.concat(ds_ens, dim='ensemble')\n",
    "        else:\n",
    "            ds_out_all = ds_ens[0]\n",
    "\n",
    "        # # Save regridded to netcdf file\n",
    "        ds_out_all.to_netcdf(f_out)\n",
    "        ds_out_all = None # Memory clean up\n",
    "        ds = None\n",
    "        print('Saved ', f_out)\n",
    "        "
   ]
  },
  {
   "cell_type": "code",
   "execution_count": null,
   "metadata": {},
   "outputs": [],
   "source": [
    "ds_out"
   ]
  },
  {
   "cell_type": "code",
   "execution_count": null,
   "metadata": {},
   "outputs": [],
   "source": []
  },
  {
   "cell_type": "code",
   "execution_count": null,
   "metadata": {},
   "outputs": [],
   "source": []
  },
  {
   "cell_type": "code",
   "execution_count": null,
   "metadata": {},
   "outputs": [],
   "source": []
  },
  {
   "cell_type": "code",
   "execution_count": null,
   "metadata": {},
   "outputs": [],
   "source": []
  },
  {
   "cell_type": "markdown",
   "metadata": {},
   "source": [
    "# Plotting"
   ]
  },
  {
   "cell_type": "code",
   "execution_count": null,
   "metadata": {},
   "outputs": [],
   "source": [
    "sic_all = xr.open_mfdataset('/home/disk/sipn/nicway/data/model/nicosipn/forecast/sipn_nc/2018_08_Stereo.nc')\n",
    "sic_all"
   ]
  },
  {
   "cell_type": "code",
   "execution_count": null,
   "metadata": {
    "scrolled": true
   },
   "outputs": [],
   "source": [
    "\n",
    "# Set up plotting info\n",
    "cmap_sic = matplotlib.colors.ListedColormap(sns.color_palette(\"Blues\", 10))\n",
    "cmap_sic.set_bad(color = 'red')\n",
    "\n",
    "# # Plot original projection\n",
    "# plt.figure(figsize=(20,10))\n",
    "# ax1 = plt.axes(projection=ccrs.PlateCarree())\n",
    "# ds_p = ds.sic.isel(fore_time=8).isel(ensemble=0)\n",
    "# ds_p.plot.pcolormesh(ax=ax1, x='lon', y='lat', \n",
    "#                                  vmin=0, vmax=1,\n",
    "#                                  cmap=matplotlib.colors.ListedColormap(sns.color_palette(\"Blues\", 10)),\n",
    "#                     transform=ccrs.PlateCarree());\n",
    "# ax1.set_extent([-180, 180, -90, 90], crs=ccrs.PlateCarree())\n",
    "# gl = ax1.gridlines(crs=ccrs.PlateCarree(), linestyle='-')\n",
    "# gl.xlabels_bottom = True\n",
    "# gl.ylabels_left = True\n",
    "# gl.xformatter = LONGITUDE_FORMATTER\n",
    "# gl.yformatter = LATITUDE_FORMATTER\n",
    "# ax1.coastlines(linewidth=0.75, color='black', resolution='50m');\n",
    "\n",
    "# # Plot SIC on target projection\n",
    "# (f, ax1) = ice_plot.polar_axis()\n",
    "# ds_p.plot.pcolormesh(ax=ax1, x='lon', y='lat', \n",
    "#                                      transform=ccrs.PlateCarree(),\n",
    "#                                      cmap=cmap_sic)\n",
    "# ax1.set_title('Original Grid')\n",
    "\n",
    "# Plot SIC on target projection\n",
    "(f, ax1) = ice_plot.polar_axis()\n",
    "ds_p2 = sic_all.sic.isel(init_time=0).isel(fore_time=8).isel(ensemble=0)\n",
    "ds_p2.plot.pcolormesh(ax=ax1, x='lon', y='lat', \n",
    "                                     transform=ccrs.PlateCarree(),\n",
    "                                     cmap=cmap_sic)\n",
    "ax1.set_title('Target Grid')\n",
    "\n",
    "(f, ax1) = ice_plot.polar_axis()\n",
    "ds_p2 = sic_all.sic.isel(init_time=0).isel(fore_time=8).isel(ensemble=1)\n",
    "ds_p2.plot.pcolormesh(ax=ax1, x='lon', y='lat', \n",
    "                                     transform=ccrs.PlateCarree(),\n",
    "                                     cmap=cmap_sic)\n",
    "ax1.set_title('Target Grid')\n",
    "\n",
    "(f, ax1) = ice_plot.polar_axis()\n",
    "ds_p2 = sic_all.sic.isel(init_time=0).isel(fore_time=8).isel(ensemble=2)\n",
    "ds_p2.plot.pcolormesh(ax=ax1, x='lon', y='lat', \n",
    "                                     transform=ccrs.PlateCarree(),\n",
    "                                     cmap=cmap_sic)\n",
    "ax1.set_title('Target Grid')\n"
   ]
  },
  {
   "cell_type": "code",
   "execution_count": null,
   "metadata": {},
   "outputs": [],
   "source": []
  },
  {
   "cell_type": "code",
   "execution_count": null,
   "metadata": {},
   "outputs": [],
   "source": []
  },
  {
   "cell_type": "code",
   "execution_count": null,
   "metadata": {},
   "outputs": [],
   "source": []
  }
 ],
 "metadata": {
  "kernelspec": {
   "display_name": "3.6.4 esio",
   "language": "python",
   "name": "esio"
  },
  "language_info": {
   "codemirror_mode": {
    "name": "ipython",
    "version": 3
   },
   "file_extension": ".py",
   "mimetype": "text/x-python",
   "name": "python",
   "nbconvert_exporter": "python",
   "pygments_lexer": "ipython3",
   "version": "3.6.4"
  }
 },
 "nbformat": 4,
 "nbformat_minor": 2
}
