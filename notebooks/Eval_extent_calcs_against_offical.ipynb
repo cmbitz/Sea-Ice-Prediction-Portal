{
 "cells": [
  {
   "cell_type": "code",
   "execution_count": null,
   "metadata": {},
   "outputs": [],
   "source": [
    "'''\n",
    "\n",
    "This code is part of the SIPN2 project focused on improving sub-seasonal to seasonal predictions of Arctic Sea Ice. \n",
    "If you use this code for a publication or presentation, please cite the reference in the README.md on the\n",
    "main page (https://github.com/NicWayand/ESIO). \n",
    "\n",
    "Questions or comments should be addressed to nicway@uw.edu\n",
    "\n",
    "Copyright (c) 2018 Nic Wayand\n",
    "\n",
    "GNU General Public License v3.0\n",
    "\n",
    "\n",
    "'''\n",
    "\n",
    "%matplotlib inline\n",
    "%load_ext autoreload\n",
    "%autoreload\n",
    "import matplotlib.pyplot as plt\n",
    "import matplotlib\n",
    "import numpy as np\n",
    "import numpy.ma as ma\n",
    "import struct\n",
    "import os\n",
    "import xarray as xr\n",
    "import glob\n",
    "import datetime \n",
    "import cartopy.crs as ccrs\n",
    "from cartopy.mpl.gridliner import LONGITUDE_FORMATTER, LATITUDE_FORMATTER\n",
    "import seaborn as sns\n",
    "\n",
    "# ESIO Imports\n",
    "\n",
    "from esio import EsioData as ed"
   ]
  },
  {
   "cell_type": "markdown",
   "metadata": {},
   "source": [
    "\"...in calculating ice extent, algorithms assume the pole hole is  covered by ice at greater than 15 percent, and in calculating ice area, both simply do not include the area of the pole hole.\"\n",
    "\n",
    "https://nsidc.org/sites/nsidc.org/files/files/NSIDC-special-report-19.pdf\n",
    "\n",
    "https://nsidc.org/data/g02135?qt-data_set_tabs=2#qt-data_set_tabs   4.2.3 Arctic Pole Hole\n"
   ]
  },
  {
   "cell_type": "code",
   "execution_count": null,
   "metadata": {},
   "outputs": [],
   "source": [
    "# General plotting settings\n",
    "sns.set_style('whitegrid')\n",
    "sns.set_context(\"talk\", font_scale=1.5, rc={\"lines.linewidth\": 2.5})"
   ]
  },
  {
   "cell_type": "code",
   "execution_count": null,
   "metadata": {},
   "outputs": [],
   "source": [
    "#############################################################\n",
    "# Load in Data\n",
    "#############################################################\n",
    "\n",
    "E = ed.EsioData.load()\n",
    "\n",
    "# Load in Obs\n",
    "data_dir = E.data_dir\n",
    "grid_dir = E.grid_dir\n",
    "# fig_dir = os.path.join(E.fig_dir, 'obs', 'NSIDC_0081' , 'standard')\n",
    "da_51 = xr.open_mfdataset(E.obs['NSIDC_0051']['sipn_nc']+'_yearly/*.nc', concat_dim='time', autoclose=True, parallel=True)#,\n",
    "da_81 = xr.open_mfdataset(E.obs['NSIDC_0081']['sipn_nc']+'_yearly/*.nc', concat_dim='time', autoclose=True, parallel=True)#,\n",
    "da_79 = xr.open_mfdataset(E.obs['NSIDC_0079']['sipn_nc']+'_yearly/*.nc', concat_dim='time', autoclose=True, parallel=True)#,\n",
    "\n",
    "\n",
    "ds_ext = xr.open_dataset(os.path.join(E.obs['NSIDC_extent']['sipn_nc'], 'N_seaice_extent_daily_v3.0.nc'))\n",
    "ds_ext = ds_ext.rename({'datetime':'time'})"
   ]
  },
  {
   "cell_type": "code",
   "execution_count": null,
   "metadata": {},
   "outputs": [],
   "source": []
  },
  {
   "cell_type": "code",
   "execution_count": null,
   "metadata": {},
   "outputs": [],
   "source": [
    "DS=datetime.datetime(2015,3,1)\n",
    "DE=datetime.datetime(2015,4,1)\n",
    "plt.figure(figsize=(18,6))\n",
    "ds_ext.Extent.sel(time=slice(DS,DE)).plot(label='Offical', linewidth=4, linestyle='--')\n",
    "da_51.extent.sel(time=slice(DS,DE)).plot(label='Nasa')\n",
    "da_81.extent.sel(time=slice(DS,DE)).plot(label='Realtime')\n",
    "da_79.extent.sel(time=slice(DS,DE)).plot(label='Bootstrap', linestyle='--')\n",
    "plt.legend()"
   ]
  },
  {
   "cell_type": "code",
   "execution_count": null,
   "metadata": {},
   "outputs": [],
   "source": [
    "plt.figure(figsize=(18,6))\n",
    "(da_51.extent-ds_ext.Extent).plot(label='Nasa - Offical')\n",
    "(da_81.extent-ds_ext.Extent).plot(label='Realtime- Offical')\n",
    "(da_79.extent-ds_ext.Extent).plot(label='Bootstrap- Offical', linestyle='--')\n",
    "plt.legend()"
   ]
  },
  {
   "cell_type": "code",
   "execution_count": null,
   "metadata": {},
   "outputs": [],
   "source": [
    "(da_81.extent-da_51.extent).plot(label='NRT - NASA TEAM')\n",
    "np.sqrt(((da_81.extent-da_51.extent)**2).mean()).values"
   ]
  },
  {
   "cell_type": "code",
   "execution_count": null,
   "metadata": {},
   "outputs": [],
   "source": []
  }
 ],
 "metadata": {
  "kernelspec": {
   "display_name": "3.6.4 esio",
   "language": "python",
   "name": "esio"
  },
  "language_info": {
   "codemirror_mode": {
    "name": "ipython",
    "version": 3
   },
   "file_extension": ".py",
   "mimetype": "text/x-python",
   "name": "python",
   "nbconvert_exporter": "python",
   "pygments_lexer": "ipython3",
   "version": "3.6.4"
  }
 },
 "nbformat": 4,
 "nbformat_minor": 2
}
