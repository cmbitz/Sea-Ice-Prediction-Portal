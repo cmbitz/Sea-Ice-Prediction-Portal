{
 "cells": [
  {
   "cell_type": "code",
   "execution_count": 2,
   "metadata": {},
   "outputs": [],
   "source": [
    "'''\n",
    "\n",
    "This code is part of the SIPN2 project focused on improving sub-seasonal to seasonal predictions of Arctic Sea Ice. \n",
    "If you use this code for a publication or presentation, please cite the reference in the README.md on the\n",
    "main page (https://github.com/NicWayand/ESIO). \n",
    "\n",
    "Questions or comments should be addressed to nicway@uw.edu\n",
    "\n",
    "Copyright (c) 2018 Nic Wayand\n",
    "\n",
    "GNU General Public License v3.0\n",
    "\n",
    "\n",
    "'''\n",
    "\n",
    "'''\n",
    "For the bootstrap and latest nrt weekly mean obs since 1990 (it was made weekly in Agg_NSIDC_Obs)\n",
    "filter with a LOESS smoother in time then polynomial fit to get the \n",
    "fit parameters. Save the fit parameters since this takes forever.\n",
    "\n",
    "Later read in fit parameters to extrapolate forward, giving climatological trend \n",
    "benchmark\n",
    "\n",
    "Also use fit parameters for each year to compute an anomaly and save that too for computing alpha\n",
    "\n",
    "At present this routine is meant to be used once a year, but should make it so that it produces a new climotrend\n",
    "estimate each week!!!\n",
    "\n",
    "'''\n",
    "\n",
    "%matplotlib inline\n",
    "%load_ext autoreload\n",
    "%autoreload\n",
    "import matplotlib\n",
    "import matplotlib.pyplot as plt\n",
    "from collections import OrderedDict\n",
    "import numpy as np\n",
    "import numpy.ma as ma\n",
    "import pandas as pd\n",
    "import struct\n",
    "import os\n",
    "import xarray as xr\n",
    "import glob\n",
    "import datetime\n",
    "import cartopy.crs as ccrs\n",
    "from cartopy.mpl.gridliner import LONGITUDE_FORMATTER, LATITUDE_FORMATTER\n",
    "import seaborn as sns\n",
    "np.seterr(divide='ignore', invalid='ignore')\n",
    "import warnings\n",
    "warnings.simplefilter(action='ignore', category=FutureWarning)\n",
    "from esio import EsioData as ed\n",
    "from esio import ice_plot\n",
    "from esio import import_data\n",
    "from esio import metrics\n",
    "import dask\n",
    "\n",
    "# General plotting settings\n",
    "sns.set_style('whitegrid')\n",
    "sns.set_context(\"talk\", font_scale=.8, rc={\"lines.linewidth\": 2.5})"
   ]
  },
  {
   "cell_type": "markdown",
   "metadata": {},
   "source": [
    "# Climo10yrs is average SIC or presence for the past 10 years after first computing weekly means starting with Jan 1 each year, then interpolating linearly in time to init_time "
   ]
  },
  {
   "cell_type": "code",
   "execution_count": 3,
   "metadata": {},
   "outputs": [
    {
     "data": {
      "text/plain": [
       "<dask.config.set at 0x152e5c706518>"
      ]
     },
     "execution_count": 3,
     "metadata": {},
     "output_type": "execute_result"
    }
   ],
   "source": [
    "# from dask.distributed import Client\n",
    "# client = Client(n_workers=2)\n",
    "# client = Client()\n",
    "# client\n",
    "dask.config.set(scheduler='threads')  # overwrite default with threaded scheduler\n",
    "# dask.config.set(scheduler='processes')  # overwrite default with threaded scheduler"
   ]
  },
  {
   "cell_type": "code",
   "execution_count": 4,
   "metadata": {},
   "outputs": [],
   "source": [
    "# Parameters\n",
    "today_date = datetime.datetime.now()\n",
    "nextyear = today_date.year + 1\n",
    "E = ed.EsioData.load()\n",
    "mod_dir = E.model_dir\n",
    "cmod = 'climo10yrs'\n",
    "runType = 'forecast'"
   ]
  },
  {
   "cell_type": "code",
   "execution_count": 8,
   "metadata": {},
   "outputs": [
    {
     "name": "stdout",
     "output_type": "stream",
     "text": [
      "1985 1995\n",
      "The last week to compute is  52\n",
      "<xarray.Dataset>\n",
      "Dimensions:  (time: 52, x: 304, y: 448)\n",
      "Coordinates:\n",
      "  * x        (x) int64 0 1 2 3 4 5 6 7 8 ... 295 296 297 298 299 300 301 302 303\n",
      "  * y        (y) int64 0 1 2 3 4 5 6 7 8 ... 439 440 441 442 443 444 445 446 447\n",
      "    lat      (x, y) float64 31.1 31.25 31.4 31.55 ... 34.92 34.77 34.62 34.47\n",
      "    lon      (x, y) float64 168.3 168.4 168.5 168.7 ... -9.745 -9.872 -9.999\n",
      "    xm       (x) int64 -3850000 -3825000 -3800000 ... 3675000 3700000 3725000\n",
      "    ym       (y) int64 5850000 5825000 5800000 ... -5275000 -5300000 -5325000\n",
      "    week     (time) int64 1 2 3 4 5 6 7 8 9 10 ... 43 44 45 46 47 48 49 50 51 52\n",
      "  * time     (time) datetime64[ns] 1995-01-04 1995-01-11 ... 1995-12-27\n",
      "Data variables:\n",
      "    sic      (time, y, x) float64 dask.array<shape=(52, 448, 304), chunksize=(1, 448, 304)>\n",
      "    SIP      (time, y, x) float64 dask.array<shape=(52, 448, 304), chunksize=(1, 448, 304)>\n"
     ]
    },
    {
     "name": "stderr",
     "output_type": "stream",
     "text": [
      "/home/disk/sipn/nicway/anaconda3/envs/esio/lib/python3.6/site-packages/dask/core.py:137: RuntimeWarning: invalid value encountered in greater_equal\n",
      "  return func(*args2)\n",
      "/home/disk/sipn/nicway/anaconda3/envs/esio/lib/python3.6/site-packages/dask/array/numpy_compat.py:28: RuntimeWarning: invalid value encountered in true_divide\n",
      "  x = np.divide(x1, x2, out)\n"
     ]
    },
    {
     "name": "stdout",
     "output_type": "stream",
     "text": [
      "Saved /home/disk/sipn/nicway/data/model/climo10yrs/forecast/sipn_nc_yearly_byweek/1995_byweek.nc\n",
      "1986 1996\n",
      "The last week to compute is  52\n",
      "<xarray.Dataset>\n",
      "Dimensions:  (time: 52, x: 304, y: 448)\n",
      "Coordinates:\n",
      "  * x        (x) int64 0 1 2 3 4 5 6 7 8 ... 295 296 297 298 299 300 301 302 303\n",
      "  * y        (y) int64 0 1 2 3 4 5 6 7 8 ... 439 440 441 442 443 444 445 446 447\n",
      "    lat      (x, y) float64 31.1 31.25 31.4 31.55 ... 34.92 34.77 34.62 34.47\n",
      "    lon      (x, y) float64 168.3 168.4 168.5 168.7 ... -9.745 -9.872 -9.999\n",
      "    xm       (x) int64 -3850000 -3825000 -3800000 ... 3675000 3700000 3725000\n",
      "    ym       (y) int64 5850000 5825000 5800000 ... -5275000 -5300000 -5325000\n",
      "    week     (time) int64 1 2 3 4 5 6 7 8 9 10 ... 43 44 45 46 47 48 49 50 51 52\n",
      "  * time     (time) datetime64[ns] 1996-01-04 1996-01-11 ... 1996-12-26\n",
      "Data variables:\n",
      "    sic      (time, y, x) float64 dask.array<shape=(52, 448, 304), chunksize=(1, 448, 304)>\n",
      "    SIP      (time, y, x) float64 dask.array<shape=(52, 448, 304), chunksize=(1, 448, 304)>\n"
     ]
    },
    {
     "name": "stderr",
     "output_type": "stream",
     "text": [
      "/home/disk/sipn/nicway/anaconda3/envs/esio/lib/python3.6/site-packages/dask/core.py:137: RuntimeWarning: invalid value encountered in greater_equal\n",
      "  return func(*args2)\n",
      "/home/disk/sipn/nicway/anaconda3/envs/esio/lib/python3.6/site-packages/dask/array/numpy_compat.py:28: RuntimeWarning: invalid value encountered in true_divide\n",
      "  x = np.divide(x1, x2, out)\n"
     ]
    },
    {
     "name": "stdout",
     "output_type": "stream",
     "text": [
      "Saved /home/disk/sipn/nicway/data/model/climo10yrs/forecast/sipn_nc_yearly_byweek/1996_byweek.nc\n",
      "1987 1997\n",
      "The last week to compute is  52\n",
      "<xarray.Dataset>\n",
      "Dimensions:  (time: 52, x: 304, y: 448)\n",
      "Coordinates:\n",
      "  * x        (x) int64 0 1 2 3 4 5 6 7 8 ... 295 296 297 298 299 300 301 302 303\n",
      "  * y        (y) int64 0 1 2 3 4 5 6 7 8 ... 439 440 441 442 443 444 445 446 447\n",
      "    lat      (x, y) float64 31.1 31.25 31.4 31.55 ... 34.92 34.77 34.62 34.47\n",
      "    lon      (x, y) float64 168.3 168.4 168.5 168.7 ... -9.745 -9.872 -9.999\n",
      "    xm       (x) int64 -3850000 -3825000 -3800000 ... 3675000 3700000 3725000\n",
      "    ym       (y) int64 5850000 5825000 5800000 ... -5275000 -5300000 -5325000\n",
      "    week     (time) int64 1 2 3 4 5 6 7 8 9 10 ... 43 44 45 46 47 48 49 50 51 52\n",
      "  * time     (time) datetime64[ns] 1997-01-04 1997-01-11 ... 1997-12-27\n",
      "Data variables:\n",
      "    sic      (time, y, x) float64 dask.array<shape=(52, 448, 304), chunksize=(1, 448, 304)>\n",
      "    SIP      (time, y, x) float64 dask.array<shape=(52, 448, 304), chunksize=(1, 448, 304)>\n"
     ]
    },
    {
     "name": "stderr",
     "output_type": "stream",
     "text": [
      "/home/disk/sipn/nicway/anaconda3/envs/esio/lib/python3.6/site-packages/dask/core.py:137: RuntimeWarning: invalid value encountered in greater_equal\n",
      "  return func(*args2)\n",
      "/home/disk/sipn/nicway/anaconda3/envs/esio/lib/python3.6/site-packages/dask/array/numpy_compat.py:28: RuntimeWarning: invalid value encountered in true_divide\n",
      "  x = np.divide(x1, x2, out)\n"
     ]
    },
    {
     "name": "stdout",
     "output_type": "stream",
     "text": [
      "Saved /home/disk/sipn/nicway/data/model/climo10yrs/forecast/sipn_nc_yearly_byweek/1997_byweek.nc\n",
      "1988 1998\n",
      "The last week to compute is  52\n",
      "<xarray.Dataset>\n",
      "Dimensions:  (time: 52, x: 304, y: 448)\n",
      "Coordinates:\n",
      "  * x        (x) int64 0 1 2 3 4 5 6 7 8 ... 295 296 297 298 299 300 301 302 303\n",
      "  * y        (y) int64 0 1 2 3 4 5 6 7 8 ... 439 440 441 442 443 444 445 446 447\n",
      "    lat      (x, y) float64 31.1 31.25 31.4 31.55 ... 34.92 34.77 34.62 34.47\n",
      "    lon      (x, y) float64 168.3 168.4 168.5 168.7 ... -9.745 -9.872 -9.999\n",
      "    xm       (x) int64 -3850000 -3825000 -3800000 ... 3675000 3700000 3725000\n",
      "    ym       (y) int64 5850000 5825000 5800000 ... -5275000 -5300000 -5325000\n",
      "    week     (time) int64 1 2 3 4 5 6 7 8 9 10 ... 43 44 45 46 47 48 49 50 51 52\n",
      "  * time     (time) datetime64[ns] 1998-01-04 1998-01-11 ... 1998-12-27\n",
      "Data variables:\n",
      "    sic      (time, y, x) float64 dask.array<shape=(52, 448, 304), chunksize=(1, 448, 304)>\n",
      "    SIP      (time, y, x) float64 dask.array<shape=(52, 448, 304), chunksize=(1, 448, 304)>\n"
     ]
    },
    {
     "name": "stderr",
     "output_type": "stream",
     "text": [
      "/home/disk/sipn/nicway/anaconda3/envs/esio/lib/python3.6/site-packages/dask/core.py:137: RuntimeWarning: invalid value encountered in greater_equal\n",
      "  return func(*args2)\n",
      "/home/disk/sipn/nicway/anaconda3/envs/esio/lib/python3.6/site-packages/dask/array/numpy_compat.py:28: RuntimeWarning: invalid value encountered in true_divide\n",
      "  x = np.divide(x1, x2, out)\n"
     ]
    },
    {
     "name": "stdout",
     "output_type": "stream",
     "text": [
      "Saved /home/disk/sipn/nicway/data/model/climo10yrs/forecast/sipn_nc_yearly_byweek/1998_byweek.nc\n",
      "1989 1999\n",
      "The last week to compute is  52\n",
      "<xarray.Dataset>\n",
      "Dimensions:  (time: 52, x: 304, y: 448)\n",
      "Coordinates:\n",
      "  * x        (x) int64 0 1 2 3 4 5 6 7 8 ... 295 296 297 298 299 300 301 302 303\n",
      "  * y        (y) int64 0 1 2 3 4 5 6 7 8 ... 439 440 441 442 443 444 445 446 447\n",
      "    lat      (x, y) float64 31.1 31.25 31.4 31.55 ... 34.92 34.77 34.62 34.47\n",
      "    lon      (x, y) float64 168.3 168.4 168.5 168.7 ... -9.745 -9.872 -9.999\n",
      "    xm       (x) int64 -3850000 -3825000 -3800000 ... 3675000 3700000 3725000\n",
      "    ym       (y) int64 5850000 5825000 5800000 ... -5275000 -5300000 -5325000\n",
      "    week     (time) int64 1 2 3 4 5 6 7 8 9 10 ... 43 44 45 46 47 48 49 50 51 52\n",
      "  * time     (time) datetime64[ns] 1999-01-04 1999-01-11 ... 1999-12-27\n",
      "Data variables:\n",
      "    sic      (time, y, x) float64 dask.array<shape=(52, 448, 304), chunksize=(1, 448, 304)>\n",
      "    SIP      (time, y, x) float64 dask.array<shape=(52, 448, 304), chunksize=(1, 448, 304)>\n"
     ]
    },
    {
     "name": "stderr",
     "output_type": "stream",
     "text": [
      "/home/disk/sipn/nicway/anaconda3/envs/esio/lib/python3.6/site-packages/dask/core.py:137: RuntimeWarning: invalid value encountered in greater_equal\n",
      "  return func(*args2)\n",
      "/home/disk/sipn/nicway/anaconda3/envs/esio/lib/python3.6/site-packages/dask/array/numpy_compat.py:28: RuntimeWarning: invalid value encountered in true_divide\n",
      "  x = np.divide(x1, x2, out)\n"
     ]
    },
    {
     "name": "stdout",
     "output_type": "stream",
     "text": [
      "Saved /home/disk/sipn/nicway/data/model/climo10yrs/forecast/sipn_nc_yearly_byweek/1999_byweek.nc\n",
      "1990 2000\n",
      "The last week to compute is  52\n",
      "<xarray.Dataset>\n",
      "Dimensions:  (time: 52, x: 304, y: 448)\n",
      "Coordinates:\n",
      "  * x        (x) int64 0 1 2 3 4 5 6 7 8 ... 295 296 297 298 299 300 301 302 303\n",
      "  * y        (y) int64 0 1 2 3 4 5 6 7 8 ... 439 440 441 442 443 444 445 446 447\n",
      "    lat      (x, y) float64 31.1 31.25 31.4 31.55 ... 34.92 34.77 34.62 34.47\n",
      "    lon      (x, y) float64 168.3 168.4 168.5 168.7 ... -9.745 -9.872 -9.999\n",
      "    xm       (x) int64 -3850000 -3825000 -3800000 ... 3675000 3700000 3725000\n",
      "    ym       (y) int64 5850000 5825000 5800000 ... -5275000 -5300000 -5325000\n",
      "    week     (time) int64 1 2 3 4 5 6 7 8 9 10 ... 43 44 45 46 47 48 49 50 51 52\n",
      "  * time     (time) datetime64[ns] 2000-01-04 2000-01-11 ... 2000-12-26\n",
      "Data variables:\n",
      "    sic      (time, y, x) float64 dask.array<shape=(52, 448, 304), chunksize=(1, 448, 304)>\n",
      "    SIP      (time, y, x) float64 dask.array<shape=(52, 448, 304), chunksize=(1, 448, 304)>\n"
     ]
    },
    {
     "name": "stderr",
     "output_type": "stream",
     "text": [
      "/home/disk/sipn/nicway/anaconda3/envs/esio/lib/python3.6/site-packages/dask/core.py:137: RuntimeWarning: invalid value encountered in greater_equal\n",
      "  return func(*args2)\n",
      "/home/disk/sipn/nicway/anaconda3/envs/esio/lib/python3.6/site-packages/dask/array/numpy_compat.py:28: RuntimeWarning: invalid value encountered in true_divide\n",
      "  x = np.divide(x1, x2, out)\n"
     ]
    },
    {
     "name": "stdout",
     "output_type": "stream",
     "text": [
      "Saved /home/disk/sipn/nicway/data/model/climo10yrs/forecast/sipn_nc_yearly_byweek/2000_byweek.nc\n",
      "1991 2001\n",
      "The last week to compute is  52\n",
      "<xarray.Dataset>\n",
      "Dimensions:  (time: 52, x: 304, y: 448)\n",
      "Coordinates:\n",
      "  * x        (x) int64 0 1 2 3 4 5 6 7 8 ... 295 296 297 298 299 300 301 302 303\n",
      "  * y        (y) int64 0 1 2 3 4 5 6 7 8 ... 439 440 441 442 443 444 445 446 447\n",
      "    lat      (x, y) float64 31.1 31.25 31.4 31.55 ... 34.92 34.77 34.62 34.47\n",
      "    lon      (x, y) float64 168.3 168.4 168.5 168.7 ... -9.745 -9.872 -9.999\n",
      "    xm       (x) int64 -3850000 -3825000 -3800000 ... 3675000 3700000 3725000\n",
      "    ym       (y) int64 5850000 5825000 5800000 ... -5275000 -5300000 -5325000\n",
      "    week     (time) int64 1 2 3 4 5 6 7 8 9 10 ... 43 44 45 46 47 48 49 50 51 52\n",
      "  * time     (time) datetime64[ns] 2001-01-04 2001-01-11 ... 2001-12-27\n",
      "Data variables:\n",
      "    sic      (time, y, x) float64 dask.array<shape=(52, 448, 304), chunksize=(1, 448, 304)>\n",
      "    SIP      (time, y, x) float64 dask.array<shape=(52, 448, 304), chunksize=(1, 448, 304)>\n"
     ]
    },
    {
     "name": "stderr",
     "output_type": "stream",
     "text": [
      "/home/disk/sipn/nicway/anaconda3/envs/esio/lib/python3.6/site-packages/dask/core.py:137: RuntimeWarning: invalid value encountered in greater_equal\n",
      "  return func(*args2)\n",
      "/home/disk/sipn/nicway/anaconda3/envs/esio/lib/python3.6/site-packages/dask/array/numpy_compat.py:28: RuntimeWarning: invalid value encountered in true_divide\n",
      "  x = np.divide(x1, x2, out)\n"
     ]
    },
    {
     "name": "stdout",
     "output_type": "stream",
     "text": [
      "Saved /home/disk/sipn/nicway/data/model/climo10yrs/forecast/sipn_nc_yearly_byweek/2001_byweek.nc\n",
      "1992 2002\n",
      "The last week to compute is  52\n",
      "<xarray.Dataset>\n",
      "Dimensions:  (time: 52, x: 304, y: 448)\n",
      "Coordinates:\n",
      "  * x        (x) int64 0 1 2 3 4 5 6 7 8 ... 295 296 297 298 299 300 301 302 303\n",
      "  * y        (y) int64 0 1 2 3 4 5 6 7 8 ... 439 440 441 442 443 444 445 446 447\n",
      "    lat      (x, y) float64 31.1 31.25 31.4 31.55 ... 34.92 34.77 34.62 34.47\n",
      "    lon      (x, y) float64 168.3 168.4 168.5 168.7 ... -9.745 -9.872 -9.999\n",
      "    xm       (x) int64 -3850000 -3825000 -3800000 ... 3675000 3700000 3725000\n",
      "    ym       (y) int64 5850000 5825000 5800000 ... -5275000 -5300000 -5325000\n",
      "    week     (time) int64 1 2 3 4 5 6 7 8 9 10 ... 43 44 45 46 47 48 49 50 51 52\n",
      "  * time     (time) datetime64[ns] 2002-01-04 2002-01-11 ... 2002-12-27\n",
      "Data variables:\n",
      "    sic      (time, y, x) float64 dask.array<shape=(52, 448, 304), chunksize=(1, 448, 304)>\n",
      "    SIP      (time, y, x) float64 dask.array<shape=(52, 448, 304), chunksize=(1, 448, 304)>\n"
     ]
    },
    {
     "name": "stderr",
     "output_type": "stream",
     "text": [
      "/home/disk/sipn/nicway/anaconda3/envs/esio/lib/python3.6/site-packages/dask/core.py:137: RuntimeWarning: invalid value encountered in greater_equal\n",
      "  return func(*args2)\n",
      "/home/disk/sipn/nicway/anaconda3/envs/esio/lib/python3.6/site-packages/dask/array/numpy_compat.py:28: RuntimeWarning: invalid value encountered in true_divide\n",
      "  x = np.divide(x1, x2, out)\n"
     ]
    },
    {
     "name": "stdout",
     "output_type": "stream",
     "text": [
      "Saved /home/disk/sipn/nicway/data/model/climo10yrs/forecast/sipn_nc_yearly_byweek/2002_byweek.nc\n",
      "1993 2003\n",
      "The last week to compute is  52\n",
      "<xarray.Dataset>\n",
      "Dimensions:  (time: 52, x: 304, y: 448)\n",
      "Coordinates:\n",
      "  * x        (x) int64 0 1 2 3 4 5 6 7 8 ... 295 296 297 298 299 300 301 302 303\n",
      "  * y        (y) int64 0 1 2 3 4 5 6 7 8 ... 439 440 441 442 443 444 445 446 447\n",
      "    lat      (x, y) float64 31.1 31.25 31.4 31.55 ... 34.92 34.77 34.62 34.47\n",
      "    lon      (x, y) float64 168.3 168.4 168.5 168.7 ... -9.745 -9.872 -9.999\n",
      "    xm       (x) int64 -3850000 -3825000 -3800000 ... 3675000 3700000 3725000\n",
      "    ym       (y) int64 5850000 5825000 5800000 ... -5275000 -5300000 -5325000\n",
      "    week     (time) int64 1 2 3 4 5 6 7 8 9 10 ... 43 44 45 46 47 48 49 50 51 52\n",
      "  * time     (time) datetime64[ns] 2003-01-04 2003-01-11 ... 2003-12-27\n",
      "Data variables:\n",
      "    sic      (time, y, x) float64 dask.array<shape=(52, 448, 304), chunksize=(1, 448, 304)>\n",
      "    SIP      (time, y, x) float64 dask.array<shape=(52, 448, 304), chunksize=(1, 448, 304)>\n"
     ]
    },
    {
     "name": "stderr",
     "output_type": "stream",
     "text": [
      "/home/disk/sipn/nicway/anaconda3/envs/esio/lib/python3.6/site-packages/dask/core.py:137: RuntimeWarning: invalid value encountered in greater_equal\n",
      "  return func(*args2)\n",
      "/home/disk/sipn/nicway/anaconda3/envs/esio/lib/python3.6/site-packages/dask/array/numpy_compat.py:28: RuntimeWarning: invalid value encountered in true_divide\n",
      "  x = np.divide(x1, x2, out)\n"
     ]
    },
    {
     "name": "stdout",
     "output_type": "stream",
     "text": [
      "Saved /home/disk/sipn/nicway/data/model/climo10yrs/forecast/sipn_nc_yearly_byweek/2003_byweek.nc\n",
      "1994 2004\n",
      "The last week to compute is  52\n",
      "<xarray.Dataset>\n",
      "Dimensions:  (time: 52, x: 304, y: 448)\n",
      "Coordinates:\n",
      "  * x        (x) int64 0 1 2 3 4 5 6 7 8 ... 295 296 297 298 299 300 301 302 303\n",
      "  * y        (y) int64 0 1 2 3 4 5 6 7 8 ... 439 440 441 442 443 444 445 446 447\n",
      "    lat      (x, y) float64 31.1 31.25 31.4 31.55 ... 34.92 34.77 34.62 34.47\n",
      "    lon      (x, y) float64 168.3 168.4 168.5 168.7 ... -9.745 -9.872 -9.999\n",
      "    xm       (x) int64 -3850000 -3825000 -3800000 ... 3675000 3700000 3725000\n",
      "    ym       (y) int64 5850000 5825000 5800000 ... -5275000 -5300000 -5325000\n",
      "    week     (time) int64 1 2 3 4 5 6 7 8 9 10 ... 43 44 45 46 47 48 49 50 51 52\n",
      "  * time     (time) datetime64[ns] 2004-01-04 2004-01-11 ... 2004-12-26\n",
      "Data variables:\n",
      "    sic      (time, y, x) float64 dask.array<shape=(52, 448, 304), chunksize=(1, 448, 304)>\n",
      "    SIP      (time, y, x) float64 dask.array<shape=(52, 448, 304), chunksize=(1, 448, 304)>\n"
     ]
    },
    {
     "name": "stderr",
     "output_type": "stream",
     "text": [
      "/home/disk/sipn/nicway/anaconda3/envs/esio/lib/python3.6/site-packages/dask/core.py:137: RuntimeWarning: invalid value encountered in greater_equal\n",
      "  return func(*args2)\n",
      "/home/disk/sipn/nicway/anaconda3/envs/esio/lib/python3.6/site-packages/dask/array/numpy_compat.py:28: RuntimeWarning: invalid value encountered in true_divide\n",
      "  x = np.divide(x1, x2, out)\n"
     ]
    },
    {
     "name": "stdout",
     "output_type": "stream",
     "text": [
      "Saved /home/disk/sipn/nicway/data/model/climo10yrs/forecast/sipn_nc_yearly_byweek/2004_byweek.nc\n",
      "1995 2005\n",
      "The last week to compute is  52\n",
      "<xarray.Dataset>\n",
      "Dimensions:  (time: 52, x: 304, y: 448)\n",
      "Coordinates:\n",
      "  * x        (x) int64 0 1 2 3 4 5 6 7 8 ... 295 296 297 298 299 300 301 302 303\n",
      "  * y        (y) int64 0 1 2 3 4 5 6 7 8 ... 439 440 441 442 443 444 445 446 447\n",
      "    lat      (x, y) float64 31.1 31.25 31.4 31.55 ... 34.92 34.77 34.62 34.47\n",
      "    lon      (x, y) float64 168.3 168.4 168.5 168.7 ... -9.745 -9.872 -9.999\n",
      "    xm       (x) int64 -3850000 -3825000 -3800000 ... 3675000 3700000 3725000\n",
      "    ym       (y) int64 5850000 5825000 5800000 ... -5275000 -5300000 -5325000\n",
      "    week     (time) int64 1 2 3 4 5 6 7 8 9 10 ... 43 44 45 46 47 48 49 50 51 52\n",
      "  * time     (time) datetime64[ns] 2005-01-04 2005-01-11 ... 2005-12-27\n",
      "Data variables:\n",
      "    sic      (time, y, x) float64 dask.array<shape=(52, 448, 304), chunksize=(1, 448, 304)>\n",
      "    SIP      (time, y, x) float64 dask.array<shape=(52, 448, 304), chunksize=(1, 448, 304)>\n"
     ]
    },
    {
     "name": "stderr",
     "output_type": "stream",
     "text": [
      "/home/disk/sipn/nicway/anaconda3/envs/esio/lib/python3.6/site-packages/dask/core.py:137: RuntimeWarning: invalid value encountered in greater_equal\n",
      "  return func(*args2)\n",
      "/home/disk/sipn/nicway/anaconda3/envs/esio/lib/python3.6/site-packages/dask/array/numpy_compat.py:28: RuntimeWarning: invalid value encountered in true_divide\n",
      "  x = np.divide(x1, x2, out)\n"
     ]
    },
    {
     "name": "stdout",
     "output_type": "stream",
     "text": [
      "Saved /home/disk/sipn/nicway/data/model/climo10yrs/forecast/sipn_nc_yearly_byweek/2005_byweek.nc\n",
      "1996 2006\n",
      "The last week to compute is  52\n",
      "<xarray.Dataset>\n",
      "Dimensions:  (time: 52, x: 304, y: 448)\n",
      "Coordinates:\n",
      "  * x        (x) int64 0 1 2 3 4 5 6 7 8 ... 295 296 297 298 299 300 301 302 303\n",
      "  * y        (y) int64 0 1 2 3 4 5 6 7 8 ... 439 440 441 442 443 444 445 446 447\n",
      "    lat      (x, y) float64 31.1 31.25 31.4 31.55 ... 34.92 34.77 34.62 34.47\n",
      "    lon      (x, y) float64 168.3 168.4 168.5 168.7 ... -9.745 -9.872 -9.999\n",
      "    xm       (x) int64 -3850000 -3825000 -3800000 ... 3675000 3700000 3725000\n",
      "    ym       (y) int64 5850000 5825000 5800000 ... -5275000 -5300000 -5325000\n",
      "    week     (time) int64 1 2 3 4 5 6 7 8 9 10 ... 43 44 45 46 47 48 49 50 51 52\n",
      "  * time     (time) datetime64[ns] 2006-01-04 2006-01-11 ... 2006-12-27\n",
      "Data variables:\n",
      "    sic      (time, y, x) float64 dask.array<shape=(52, 448, 304), chunksize=(1, 448, 304)>\n",
      "    SIP      (time, y, x) float64 dask.array<shape=(52, 448, 304), chunksize=(1, 448, 304)>\n"
     ]
    },
    {
     "name": "stderr",
     "output_type": "stream",
     "text": [
      "/home/disk/sipn/nicway/anaconda3/envs/esio/lib/python3.6/site-packages/dask/core.py:137: RuntimeWarning: invalid value encountered in greater_equal\n",
      "  return func(*args2)\n",
      "/home/disk/sipn/nicway/anaconda3/envs/esio/lib/python3.6/site-packages/dask/array/numpy_compat.py:28: RuntimeWarning: invalid value encountered in true_divide\n",
      "  x = np.divide(x1, x2, out)\n"
     ]
    },
    {
     "name": "stdout",
     "output_type": "stream",
     "text": [
      "Saved /home/disk/sipn/nicway/data/model/climo10yrs/forecast/sipn_nc_yearly_byweek/2006_byweek.nc\n",
      "1997 2007\n",
      "The last week to compute is  52\n",
      "<xarray.Dataset>\n",
      "Dimensions:  (time: 52, x: 304, y: 448)\n",
      "Coordinates:\n",
      "  * x        (x) int64 0 1 2 3 4 5 6 7 8 ... 295 296 297 298 299 300 301 302 303\n",
      "  * y        (y) int64 0 1 2 3 4 5 6 7 8 ... 439 440 441 442 443 444 445 446 447\n",
      "    lat      (x, y) float64 31.1 31.25 31.4 31.55 ... 34.92 34.77 34.62 34.47\n",
      "    lon      (x, y) float64 168.3 168.4 168.5 168.7 ... -9.745 -9.872 -9.999\n",
      "    xm       (x) int64 -3850000 -3825000 -3800000 ... 3675000 3700000 3725000\n",
      "    ym       (y) int64 5850000 5825000 5800000 ... -5275000 -5300000 -5325000\n",
      "    week     (time) int64 1 2 3 4 5 6 7 8 9 10 ... 43 44 45 46 47 48 49 50 51 52\n",
      "  * time     (time) datetime64[ns] 2007-01-04 2007-01-11 ... 2007-12-27\n",
      "Data variables:\n",
      "    sic      (time, y, x) float64 dask.array<shape=(52, 448, 304), chunksize=(1, 448, 304)>\n",
      "    SIP      (time, y, x) float64 dask.array<shape=(52, 448, 304), chunksize=(1, 448, 304)>\n"
     ]
    },
    {
     "name": "stderr",
     "output_type": "stream",
     "text": [
      "/home/disk/sipn/nicway/anaconda3/envs/esio/lib/python3.6/site-packages/dask/core.py:137: RuntimeWarning: invalid value encountered in greater_equal\n",
      "  return func(*args2)\n",
      "/home/disk/sipn/nicway/anaconda3/envs/esio/lib/python3.6/site-packages/dask/array/numpy_compat.py:28: RuntimeWarning: invalid value encountered in true_divide\n",
      "  x = np.divide(x1, x2, out)\n"
     ]
    },
    {
     "name": "stdout",
     "output_type": "stream",
     "text": [
      "Saved /home/disk/sipn/nicway/data/model/climo10yrs/forecast/sipn_nc_yearly_byweek/2007_byweek.nc\n",
      "1998 2008\n",
      "The last week to compute is  52\n",
      "<xarray.Dataset>\n",
      "Dimensions:  (time: 52, x: 304, y: 448)\n",
      "Coordinates:\n",
      "  * x        (x) int64 0 1 2 3 4 5 6 7 8 ... 295 296 297 298 299 300 301 302 303\n",
      "  * y        (y) int64 0 1 2 3 4 5 6 7 8 ... 439 440 441 442 443 444 445 446 447\n",
      "    lat      (x, y) float64 31.1 31.25 31.4 31.55 ... 34.92 34.77 34.62 34.47\n",
      "    lon      (x, y) float64 168.3 168.4 168.5 168.7 ... -9.745 -9.872 -9.999\n",
      "    xm       (x) int64 -3850000 -3825000 -3800000 ... 3675000 3700000 3725000\n",
      "    ym       (y) int64 5850000 5825000 5800000 ... -5275000 -5300000 -5325000\n",
      "    week     (time) int64 1 2 3 4 5 6 7 8 9 10 ... 43 44 45 46 47 48 49 50 51 52\n",
      "  * time     (time) datetime64[ns] 2008-01-04 2008-01-11 ... 2008-12-26\n",
      "Data variables:\n",
      "    sic      (time, y, x) float64 dask.array<shape=(52, 448, 304), chunksize=(1, 448, 304)>\n",
      "    SIP      (time, y, x) float64 dask.array<shape=(52, 448, 304), chunksize=(1, 448, 304)>\n"
     ]
    },
    {
     "name": "stderr",
     "output_type": "stream",
     "text": [
      "/home/disk/sipn/nicway/anaconda3/envs/esio/lib/python3.6/site-packages/dask/core.py:137: RuntimeWarning: invalid value encountered in greater_equal\n",
      "  return func(*args2)\n",
      "/home/disk/sipn/nicway/anaconda3/envs/esio/lib/python3.6/site-packages/dask/array/numpy_compat.py:28: RuntimeWarning: invalid value encountered in true_divide\n",
      "  x = np.divide(x1, x2, out)\n"
     ]
    },
    {
     "name": "stdout",
     "output_type": "stream",
     "text": [
      "Saved /home/disk/sipn/nicway/data/model/climo10yrs/forecast/sipn_nc_yearly_byweek/2008_byweek.nc\n",
      "1999 2009\n",
      "The last week to compute is  52\n",
      "<xarray.Dataset>\n",
      "Dimensions:  (time: 52, x: 304, y: 448)\n",
      "Coordinates:\n",
      "  * x        (x) int64 0 1 2 3 4 5 6 7 8 ... 295 296 297 298 299 300 301 302 303\n",
      "  * y        (y) int64 0 1 2 3 4 5 6 7 8 ... 439 440 441 442 443 444 445 446 447\n",
      "    lat      (x, y) float64 31.1 31.25 31.4 31.55 ... 34.92 34.77 34.62 34.47\n",
      "    lon      (x, y) float64 168.3 168.4 168.5 168.7 ... -9.745 -9.872 -9.999\n",
      "    xm       (x) int64 -3850000 -3825000 -3800000 ... 3675000 3700000 3725000\n",
      "    ym       (y) int64 5850000 5825000 5800000 ... -5275000 -5300000 -5325000\n",
      "    week     (time) int64 1 2 3 4 5 6 7 8 9 10 ... 43 44 45 46 47 48 49 50 51 52\n",
      "  * time     (time) datetime64[ns] 2009-01-04 2009-01-11 ... 2009-12-27\n",
      "Data variables:\n",
      "    sic      (time, y, x) float64 dask.array<shape=(52, 448, 304), chunksize=(1, 448, 304)>\n",
      "    SIP      (time, y, x) float64 dask.array<shape=(52, 448, 304), chunksize=(1, 448, 304)>\n"
     ]
    },
    {
     "name": "stderr",
     "output_type": "stream",
     "text": [
      "/home/disk/sipn/nicway/anaconda3/envs/esio/lib/python3.6/site-packages/dask/core.py:137: RuntimeWarning: invalid value encountered in greater_equal\n",
      "  return func(*args2)\n",
      "/home/disk/sipn/nicway/anaconda3/envs/esio/lib/python3.6/site-packages/dask/array/numpy_compat.py:28: RuntimeWarning: invalid value encountered in true_divide\n",
      "  x = np.divide(x1, x2, out)\n"
     ]
    },
    {
     "name": "stdout",
     "output_type": "stream",
     "text": [
      "Saved /home/disk/sipn/nicway/data/model/climo10yrs/forecast/sipn_nc_yearly_byweek/2009_byweek.nc\n",
      "2000 2010\n",
      "The last week to compute is  52\n",
      "<xarray.Dataset>\n",
      "Dimensions:  (time: 52, x: 304, y: 448)\n",
      "Coordinates:\n",
      "  * x        (x) int64 0 1 2 3 4 5 6 7 8 ... 295 296 297 298 299 300 301 302 303\n",
      "  * y        (y) int64 0 1 2 3 4 5 6 7 8 ... 439 440 441 442 443 444 445 446 447\n",
      "    lat      (x, y) float64 31.1 31.25 31.4 31.55 ... 34.92 34.77 34.62 34.47\n",
      "    lon      (x, y) float64 168.3 168.4 168.5 168.7 ... -9.745 -9.872 -9.999\n",
      "    xm       (x) int64 -3850000 -3825000 -3800000 ... 3675000 3700000 3725000\n",
      "    ym       (y) int64 5850000 5825000 5800000 ... -5275000 -5300000 -5325000\n",
      "    week     (time) int64 1 2 3 4 5 6 7 8 9 10 ... 43 44 45 46 47 48 49 50 51 52\n",
      "  * time     (time) datetime64[ns] 2010-01-04 2010-01-11 ... 2010-12-27\n",
      "Data variables:\n",
      "    sic      (time, y, x) float64 dask.array<shape=(52, 448, 304), chunksize=(1, 448, 304)>\n",
      "    SIP      (time, y, x) float64 dask.array<shape=(52, 448, 304), chunksize=(1, 448, 304)>\n"
     ]
    },
    {
     "name": "stderr",
     "output_type": "stream",
     "text": [
      "/home/disk/sipn/nicway/anaconda3/envs/esio/lib/python3.6/site-packages/dask/core.py:137: RuntimeWarning: invalid value encountered in greater_equal\n",
      "  return func(*args2)\n",
      "/home/disk/sipn/nicway/anaconda3/envs/esio/lib/python3.6/site-packages/dask/array/numpy_compat.py:28: RuntimeWarning: invalid value encountered in true_divide\n",
      "  x = np.divide(x1, x2, out)\n"
     ]
    },
    {
     "name": "stdout",
     "output_type": "stream",
     "text": [
      "Saved /home/disk/sipn/nicway/data/model/climo10yrs/forecast/sipn_nc_yearly_byweek/2010_byweek.nc\n",
      "2001 2011\n",
      "The last week to compute is  52\n",
      "<xarray.Dataset>\n",
      "Dimensions:  (time: 52, x: 304, y: 448)\n",
      "Coordinates:\n",
      "  * x        (x) int64 0 1 2 3 4 5 6 7 8 ... 295 296 297 298 299 300 301 302 303\n",
      "  * y        (y) int64 0 1 2 3 4 5 6 7 8 ... 439 440 441 442 443 444 445 446 447\n",
      "    lat      (x, y) float64 31.1 31.25 31.4 31.55 ... 34.92 34.77 34.62 34.47\n",
      "    lon      (x, y) float64 168.3 168.4 168.5 168.7 ... -9.745 -9.872 -9.999\n",
      "    xm       (x) int64 -3850000 -3825000 -3800000 ... 3675000 3700000 3725000\n",
      "    ym       (y) int64 5850000 5825000 5800000 ... -5275000 -5300000 -5325000\n",
      "    week     (time) int64 1 2 3 4 5 6 7 8 9 10 ... 43 44 45 46 47 48 49 50 51 52\n",
      "  * time     (time) datetime64[ns] 2011-01-04 2011-01-11 ... 2011-12-27\n",
      "Data variables:\n",
      "    sic      (time, y, x) float64 dask.array<shape=(52, 448, 304), chunksize=(1, 448, 304)>\n",
      "    SIP      (time, y, x) float64 dask.array<shape=(52, 448, 304), chunksize=(1, 448, 304)>\n"
     ]
    },
    {
     "name": "stderr",
     "output_type": "stream",
     "text": [
      "/home/disk/sipn/nicway/anaconda3/envs/esio/lib/python3.6/site-packages/dask/core.py:137: RuntimeWarning: invalid value encountered in greater_equal\n",
      "  return func(*args2)\n",
      "/home/disk/sipn/nicway/anaconda3/envs/esio/lib/python3.6/site-packages/dask/array/numpy_compat.py:28: RuntimeWarning: invalid value encountered in true_divide\n",
      "  x = np.divide(x1, x2, out)\n"
     ]
    },
    {
     "name": "stdout",
     "output_type": "stream",
     "text": [
      "Saved /home/disk/sipn/nicway/data/model/climo10yrs/forecast/sipn_nc_yearly_byweek/2011_byweek.nc\n",
      "2002 2012\n",
      "The last week to compute is  52\n",
      "<xarray.Dataset>\n",
      "Dimensions:  (time: 52, x: 304, y: 448)\n",
      "Coordinates:\n",
      "  * x        (x) int64 0 1 2 3 4 5 6 7 8 ... 295 296 297 298 299 300 301 302 303\n",
      "  * y        (y) int64 0 1 2 3 4 5 6 7 8 ... 439 440 441 442 443 444 445 446 447\n",
      "    lat      (x, y) float64 31.1 31.25 31.4 31.55 ... 34.92 34.77 34.62 34.47\n",
      "    lon      (x, y) float64 168.3 168.4 168.5 168.7 ... -9.745 -9.872 -9.999\n",
      "    xm       (x) int64 -3850000 -3825000 -3800000 ... 3675000 3700000 3725000\n",
      "    ym       (y) int64 5850000 5825000 5800000 ... -5275000 -5300000 -5325000\n",
      "    week     (time) int64 1 2 3 4 5 6 7 8 9 10 ... 43 44 45 46 47 48 49 50 51 52\n",
      "  * time     (time) datetime64[ns] 2012-01-04 2012-01-11 ... 2012-12-26\n",
      "Data variables:\n",
      "    sic      (time, y, x) float64 dask.array<shape=(52, 448, 304), chunksize=(1, 448, 304)>\n",
      "    SIP      (time, y, x) float64 dask.array<shape=(52, 448, 304), chunksize=(1, 448, 304)>\n"
     ]
    },
    {
     "name": "stderr",
     "output_type": "stream",
     "text": [
      "/home/disk/sipn/nicway/anaconda3/envs/esio/lib/python3.6/site-packages/dask/core.py:137: RuntimeWarning: invalid value encountered in greater_equal\n",
      "  return func(*args2)\n",
      "/home/disk/sipn/nicway/anaconda3/envs/esio/lib/python3.6/site-packages/dask/array/numpy_compat.py:28: RuntimeWarning: invalid value encountered in true_divide\n",
      "  x = np.divide(x1, x2, out)\n"
     ]
    },
    {
     "name": "stdout",
     "output_type": "stream",
     "text": [
      "Saved /home/disk/sipn/nicway/data/model/climo10yrs/forecast/sipn_nc_yearly_byweek/2012_byweek.nc\n",
      "2003 2013\n",
      "The last week to compute is  52\n",
      "<xarray.Dataset>\n",
      "Dimensions:  (time: 52, x: 304, y: 448)\n",
      "Coordinates:\n",
      "  * x        (x) int64 0 1 2 3 4 5 6 7 8 ... 295 296 297 298 299 300 301 302 303\n",
      "  * y        (y) int64 0 1 2 3 4 5 6 7 8 ... 439 440 441 442 443 444 445 446 447\n",
      "    lat      (x, y) float64 31.1 31.25 31.4 31.55 ... 34.92 34.77 34.62 34.47\n",
      "    lon      (x, y) float64 168.3 168.4 168.5 168.7 ... -9.745 -9.872 -9.999\n",
      "    xm       (x) int64 -3850000 -3825000 -3800000 ... 3675000 3700000 3725000\n",
      "    ym       (y) int64 5850000 5825000 5800000 ... -5275000 -5300000 -5325000\n",
      "    week     (time) int64 1 2 3 4 5 6 7 8 9 10 ... 43 44 45 46 47 48 49 50 51 52\n",
      "  * time     (time) datetime64[ns] 2013-01-04 2013-01-11 ... 2013-12-27\n",
      "Data variables:\n",
      "    sic      (time, y, x) float64 dask.array<shape=(52, 448, 304), chunksize=(1, 448, 304)>\n",
      "    SIP      (time, y, x) float64 dask.array<shape=(52, 448, 304), chunksize=(1, 448, 304)>\n"
     ]
    },
    {
     "name": "stderr",
     "output_type": "stream",
     "text": [
      "/home/disk/sipn/nicway/anaconda3/envs/esio/lib/python3.6/site-packages/dask/core.py:137: RuntimeWarning: invalid value encountered in greater_equal\n",
      "  return func(*args2)\n",
      "/home/disk/sipn/nicway/anaconda3/envs/esio/lib/python3.6/site-packages/dask/array/numpy_compat.py:28: RuntimeWarning: invalid value encountered in true_divide\n",
      "  x = np.divide(x1, x2, out)\n"
     ]
    },
    {
     "name": "stdout",
     "output_type": "stream",
     "text": [
      "Saved /home/disk/sipn/nicway/data/model/climo10yrs/forecast/sipn_nc_yearly_byweek/2013_byweek.nc\n",
      "2004 2014\n",
      "The last week to compute is  52\n",
      "<xarray.Dataset>\n",
      "Dimensions:  (time: 52, x: 304, y: 448)\n",
      "Coordinates:\n",
      "  * x        (x) int64 0 1 2 3 4 5 6 7 8 ... 295 296 297 298 299 300 301 302 303\n",
      "  * y        (y) int64 0 1 2 3 4 5 6 7 8 ... 439 440 441 442 443 444 445 446 447\n",
      "    lat      (x, y) float64 31.1 31.25 31.4 31.55 ... 34.92 34.77 34.62 34.47\n",
      "    lon      (x, y) float64 168.3 168.4 168.5 168.7 ... -9.745 -9.872 -9.999\n",
      "    xm       (x) int64 -3850000 -3825000 -3800000 ... 3675000 3700000 3725000\n",
      "    ym       (y) int64 5850000 5825000 5800000 ... -5275000 -5300000 -5325000\n",
      "    week     (time) int64 1 2 3 4 5 6 7 8 9 10 ... 43 44 45 46 47 48 49 50 51 52\n",
      "  * time     (time) datetime64[ns] 2014-01-04 2014-01-11 ... 2014-12-27\n",
      "Data variables:\n",
      "    sic      (time, y, x) float64 dask.array<shape=(52, 448, 304), chunksize=(1, 448, 304)>\n",
      "    SIP      (time, y, x) float64 dask.array<shape=(52, 448, 304), chunksize=(1, 448, 304)>\n"
     ]
    },
    {
     "name": "stderr",
     "output_type": "stream",
     "text": [
      "/home/disk/sipn/nicway/anaconda3/envs/esio/lib/python3.6/site-packages/dask/core.py:137: RuntimeWarning: invalid value encountered in greater_equal\n",
      "  return func(*args2)\n",
      "/home/disk/sipn/nicway/anaconda3/envs/esio/lib/python3.6/site-packages/dask/array/numpy_compat.py:28: RuntimeWarning: invalid value encountered in true_divide\n",
      "  x = np.divide(x1, x2, out)\n"
     ]
    },
    {
     "name": "stdout",
     "output_type": "stream",
     "text": [
      "Saved /home/disk/sipn/nicway/data/model/climo10yrs/forecast/sipn_nc_yearly_byweek/2014_byweek.nc\n",
      "2005 2015\n",
      "The last week to compute is  52\n",
      "<xarray.Dataset>\n",
      "Dimensions:  (time: 52, x: 304, y: 448)\n",
      "Coordinates:\n",
      "  * x        (x) int64 0 1 2 3 4 5 6 7 8 ... 295 296 297 298 299 300 301 302 303\n",
      "  * y        (y) int64 0 1 2 3 4 5 6 7 8 ... 439 440 441 442 443 444 445 446 447\n",
      "    lat      (x, y) float64 31.1 31.25 31.4 31.55 ... 34.92 34.77 34.62 34.47\n",
      "    lon      (x, y) float64 168.3 168.4 168.5 168.7 ... -9.745 -9.872 -9.999\n",
      "    xm       (x) int64 -3850000 -3825000 -3800000 ... 3675000 3700000 3725000\n",
      "    ym       (y) int64 5850000 5825000 5800000 ... -5275000 -5300000 -5325000\n",
      "    week     (time) int64 1 2 3 4 5 6 7 8 9 10 ... 43 44 45 46 47 48 49 50 51 52\n",
      "  * time     (time) datetime64[ns] 2015-01-04 2015-01-11 ... 2015-12-27\n",
      "Data variables:\n",
      "    sic      (time, y, x) float64 dask.array<shape=(52, 448, 304), chunksize=(1, 448, 304)>\n",
      "    SIP      (time, y, x) float64 dask.array<shape=(52, 448, 304), chunksize=(1, 448, 304)>\n"
     ]
    },
    {
     "name": "stderr",
     "output_type": "stream",
     "text": [
      "/home/disk/sipn/nicway/anaconda3/envs/esio/lib/python3.6/site-packages/dask/core.py:137: RuntimeWarning: invalid value encountered in greater_equal\n",
      "  return func(*args2)\n",
      "/home/disk/sipn/nicway/anaconda3/envs/esio/lib/python3.6/site-packages/dask/array/numpy_compat.py:28: RuntimeWarning: invalid value encountered in true_divide\n",
      "  x = np.divide(x1, x2, out)\n"
     ]
    },
    {
     "name": "stdout",
     "output_type": "stream",
     "text": [
      "Saved /home/disk/sipn/nicway/data/model/climo10yrs/forecast/sipn_nc_yearly_byweek/2015_byweek.nc\n",
      "2006 2016\n",
      "The last week to compute is  52\n",
      "<xarray.Dataset>\n",
      "Dimensions:  (time: 52, x: 304, y: 448)\n",
      "Coordinates:\n",
      "  * x        (x) int64 0 1 2 3 4 5 6 7 8 ... 295 296 297 298 299 300 301 302 303\n",
      "  * y        (y) int64 0 1 2 3 4 5 6 7 8 ... 439 440 441 442 443 444 445 446 447\n",
      "    lat      (x, y) float64 31.1 31.25 31.4 31.55 ... 34.92 34.77 34.62 34.47\n",
      "    lon      (x, y) float64 168.3 168.4 168.5 168.7 ... -9.745 -9.872 -9.999\n",
      "    xm       (x) int64 -3850000 -3825000 -3800000 ... 3675000 3700000 3725000\n",
      "    ym       (y) int64 5850000 5825000 5800000 ... -5275000 -5300000 -5325000\n",
      "    week     (time) int64 1 2 3 4 5 6 7 8 9 10 ... 43 44 45 46 47 48 49 50 51 52\n",
      "  * time     (time) datetime64[ns] 2016-01-04 2016-01-11 ... 2016-12-26\n",
      "Data variables:\n",
      "    sic      (time, y, x) float64 dask.array<shape=(52, 448, 304), chunksize=(1, 448, 304)>\n",
      "    SIP      (time, y, x) float64 dask.array<shape=(52, 448, 304), chunksize=(1, 448, 304)>\n"
     ]
    },
    {
     "name": "stderr",
     "output_type": "stream",
     "text": [
      "/home/disk/sipn/nicway/anaconda3/envs/esio/lib/python3.6/site-packages/dask/core.py:137: RuntimeWarning: invalid value encountered in greater_equal\n",
      "  return func(*args2)\n",
      "/home/disk/sipn/nicway/anaconda3/envs/esio/lib/python3.6/site-packages/dask/array/numpy_compat.py:28: RuntimeWarning: invalid value encountered in true_divide\n",
      "  x = np.divide(x1, x2, out)\n"
     ]
    },
    {
     "name": "stdout",
     "output_type": "stream",
     "text": [
      "Saved /home/disk/sipn/nicway/data/model/climo10yrs/forecast/sipn_nc_yearly_byweek/2016_byweek.nc\n",
      "2007 2017\n",
      "The last week to compute is  52\n",
      "<xarray.Dataset>\n",
      "Dimensions:  (time: 52, x: 304, y: 448)\n",
      "Coordinates:\n",
      "  * x        (x) int64 0 1 2 3 4 5 6 7 8 ... 295 296 297 298 299 300 301 302 303\n",
      "  * y        (y) int64 0 1 2 3 4 5 6 7 8 ... 439 440 441 442 443 444 445 446 447\n",
      "    lat      (x, y) float64 31.1 31.25 31.4 31.55 ... 34.92 34.77 34.62 34.47\n",
      "    lon      (x, y) float64 168.3 168.4 168.5 168.7 ... -9.745 -9.872 -9.999\n",
      "    xm       (x) int64 -3850000 -3825000 -3800000 ... 3675000 3700000 3725000\n",
      "    ym       (y) int64 5850000 5825000 5800000 ... -5275000 -5300000 -5325000\n",
      "    week     (time) int64 1 2 3 4 5 6 7 8 9 10 ... 43 44 45 46 47 48 49 50 51 52\n",
      "  * time     (time) datetime64[ns] 2017-01-04 2017-01-11 ... 2017-12-27\n",
      "Data variables:\n",
      "    sic      (time, y, x) float64 dask.array<shape=(52, 448, 304), chunksize=(1, 448, 304)>\n",
      "    SIP      (time, y, x) float64 dask.array<shape=(52, 448, 304), chunksize=(1, 448, 304)>\n"
     ]
    },
    {
     "name": "stderr",
     "output_type": "stream",
     "text": [
      "/home/disk/sipn/nicway/anaconda3/envs/esio/lib/python3.6/site-packages/dask/core.py:137: RuntimeWarning: invalid value encountered in greater_equal\n",
      "  return func(*args2)\n",
      "/home/disk/sipn/nicway/anaconda3/envs/esio/lib/python3.6/site-packages/dask/array/numpy_compat.py:28: RuntimeWarning: invalid value encountered in true_divide\n",
      "  x = np.divide(x1, x2, out)\n"
     ]
    },
    {
     "name": "stdout",
     "output_type": "stream",
     "text": [
      "Saved /home/disk/sipn/nicway/data/model/climo10yrs/forecast/sipn_nc_yearly_byweek/2017_byweek.nc\n",
      "2008 2018\n",
      "The last week to compute is  52\n"
     ]
    },
    {
     "name": "stderr",
     "output_type": "stream",
     "text": [
      "/home/disk/sipn/nicway/anaconda3/envs/esio/lib/python3.6/site-packages/dask/core.py:137: RuntimeWarning: invalid value encountered in greater_equal\n",
      "  return func(*args2)\n",
      "/home/disk/sipn/nicway/anaconda3/envs/esio/lib/python3.6/site-packages/dask/array/numpy_compat.py:28: RuntimeWarning: invalid value encountered in true_divide\n",
      "  x = np.divide(x1, x2, out)\n"
     ]
    },
    {
     "name": "stdout",
     "output_type": "stream",
     "text": [
      "<xarray.Dataset>\n",
      "Dimensions:  (time: 52, x: 304, y: 448)\n",
      "Coordinates:\n",
      "  * x        (x) int64 0 1 2 3 4 5 6 7 8 ... 295 296 297 298 299 300 301 302 303\n",
      "  * y        (y) int64 0 1 2 3 4 5 6 7 8 ... 439 440 441 442 443 444 445 446 447\n",
      "    lat      (x, y) float64 31.1 31.25 31.4 31.55 ... 34.92 34.77 34.62 34.47\n",
      "    lon      (x, y) float64 168.3 168.4 168.5 168.7 ... -9.745 -9.872 -9.999\n",
      "    xm       (x) int64 -3850000 -3825000 -3800000 ... 3675000 3700000 3725000\n",
      "    ym       (y) int64 5850000 5825000 5800000 ... -5275000 -5300000 -5325000\n",
      "    week     (time) int64 1 2 3 4 5 6 7 8 9 10 ... 43 44 45 46 47 48 49 50 51 52\n",
      "  * time     (time) datetime64[ns] 2018-01-04 2018-01-11 ... 2018-12-27\n",
      "Data variables:\n",
      "    sic      (time, y, x) float64 dask.array<shape=(52, 448, 304), chunksize=(1, 448, 304)>\n",
      "    SIP      (time, y, x) float64 dask.array<shape=(52, 448, 304), chunksize=(1, 448, 304)>\n",
      "Saved /home/disk/sipn/nicway/data/model/climo10yrs/forecast/sipn_nc_yearly_byweek/2018_byweek.nc\n",
      "2009 2019\n",
      "The last week to compute is  52\n",
      "<xarray.Dataset>\n",
      "Dimensions:  (time: 52, x: 304, y: 448)\n",
      "Coordinates:\n",
      "  * x        (x) int64 0 1 2 3 4 5 6 7 8 ... 295 296 297 298 299 300 301 302 303\n",
      "  * y        (y) int64 0 1 2 3 4 5 6 7 8 ... 439 440 441 442 443 444 445 446 447\n",
      "    lat      (x, y) float64 31.1 31.25 31.4 31.55 ... 34.92 34.77 34.62 34.47\n",
      "    lon      (x, y) float64 168.3 168.4 168.5 168.7 ... -9.745 -9.872 -9.999\n",
      "    xm       (x) int64 -3850000 -3825000 -3800000 ... 3675000 3700000 3725000\n",
      "    ym       (y) int64 5850000 5825000 5800000 ... -5275000 -5300000 -5325000\n",
      "    week     (time) int64 1 2 3 4 5 6 7 8 9 10 ... 43 44 45 46 47 48 49 50 51 52\n",
      "  * time     (time) datetime64[ns] 2019-01-04 2019-01-11 ... 2019-12-27\n",
      "Data variables:\n",
      "    sic      (time, y, x) float64 dask.array<shape=(52, 448, 304), chunksize=(1, 448, 304)>\n",
      "    SIP      (time, y, x) float64 dask.array<shape=(52, 448, 304), chunksize=(1, 448, 304)>\n"
     ]
    },
    {
     "name": "stderr",
     "output_type": "stream",
     "text": [
      "/home/disk/sipn/nicway/anaconda3/envs/esio/lib/python3.6/site-packages/dask/core.py:137: RuntimeWarning: invalid value encountered in greater_equal\n",
      "  return func(*args2)\n",
      "/home/disk/sipn/nicway/anaconda3/envs/esio/lib/python3.6/site-packages/dask/array/numpy_compat.py:28: RuntimeWarning: invalid value encountered in true_divide\n",
      "  x = np.divide(x1, x2, out)\n"
     ]
    },
    {
     "name": "stdout",
     "output_type": "stream",
     "text": [
      "Saved /home/disk/sipn/nicway/data/model/climo10yrs/forecast/sipn_nc_yearly_byweek/2019_byweek.nc\n"
     ]
    }
   ],
   "source": [
    "for pred_year in np.arange(1995,2020,1):   # done to make reforecast\n",
    "#for pred_year in [nextyear]:\n",
    "    start_year = pred_year - 10\n",
    "    print(start_year,pred_year)  # normally we are computing the fits for predicting far into the future\n",
    "\n",
    "    #############################################################\n",
    "    # Load in Data that have already been averaged for each week of the year, always starting on Jan 1\n",
    "    #############################################################\n",
    "\n",
    "    # BE SURE THESE ARE NON OVERLAPPING, MUST BE UPDATED FOR NEW DATA\n",
    "    # Get bootstrap and nrt observations with pole hole already filled in\n",
    "    ds_81 = xr.open_mfdataset(E.obs['NSIDC_0081']['sipn_nc']+'_yearly_byweek/*byweek.nc', concat_dim='time', autoclose=True, parallel=True).sic\n",
    "    #ds_51 = xr.open_mfdataset(E.obs['NSIDC_0051']['sipn_nc']+'_yearly_byweek/*byweek.nc', concat_dim='time', autoclose=True, parallel=True)\n",
    "    ds_79 = xr.open_mfdataset(E.obs['NSIDC_0079']['sipn_nc']+'_yearly_byweek/*byweek.nc', concat_dim='time', autoclose=True, parallel=True).sic\n",
    "\n",
    "    ds_79=ds_79.sel(time=slice(str(start_year),str(pred_year-1)))  # end year just has to be way in the future\n",
    "    ds_81=ds_81.sel(time=slice('2015',str(pred_year-1)))  # restrict to before prediciton year, lower year not important\n",
    "\n",
    "    # Combine bootstrap with NASA NRT\n",
    "    da_sic = ds_79.combine_first(ds_81)  # takes ds_79 as priority\n",
    "    ds_79 = None\n",
    "    ds_81 = None\n",
    "\n",
    "    #da_sic=ds_81  # for testing\n",
    "    # add year coordinate\n",
    "    year_all = [x.year for x in pd.to_datetime(da_sic.time.values)]\n",
    "    da_sic.coords['year'] = xr.DataArray(year_all, dims='time', coords={'time':da_sic.time})\n",
    "\n",
    "    # put week coordinate back since combine first rubbed them out\n",
    "    DOY = [x.timetuple().tm_yday for x in pd.to_datetime(da_sic.time.values)]\n",
    "    weeks= np.ceil(np.divide(DOY,7))\n",
    "    weeks = weeks.astype(int)\n",
    "    da_sic.coords['week'] = xr.DataArray(weeks, dims='time', coords={'time':da_sic.time})\n",
    "    #print(da_sic)\n",
    "\n",
    "    # plot so we are sure this is going right\n",
    "    ocnmask = da_sic.isel(time=-30).notnull()  # take a value near the end when not likely to have missing values\n",
    "    ocnmask.name = 'oceanmask'\n",
    "\n",
    "    maxweek = da_sic.sel(time=str(pred_year-1)).week.values[-1]\n",
    "    print('The last week to compute is ',maxweek)\n",
    "\n",
    "    # Convert sea ice presence\n",
    "    da_sip = (da_sic >= 0.15).astype('int') # This unfortunatly makes all NaN -> zeros...\n",
    "    da_sip = da_sip.where(ocnmask,other=np.nan)  \n",
    "    da_sip.coords['week'] = da_sic.week\n",
    "    #print(ds_sp)\n",
    "    \n",
    "    ds_sip_climo = da_sip.groupby('week').mean(dim='time').to_dataset(name='SIP')\n",
    "    ds_sic_climo = da_sic.groupby('week').mean(dim='time').to_dataset(name='sic')\n",
    "    ds_climo=xr.merge([ds_sic_climo,ds_sip_climo])\n",
    "    ds_climo = ds_climo.sel(week=slice(1,maxweek))\n",
    "    ds_climo.coords['time'] = xr.DataArray([datetime.datetime(pred_year,1,1) + datetime.timedelta(days=int(7*(x-1)+3)) for x in np.arange(1,maxweek+1,1)], dims='week')\n",
    "    ds_climo=ds_climo.swap_dims({'week':'time'})\n",
    "    \n",
    "    print(ds_climo)\n",
    "    file_out = os.path.join(mod_dir, cmod, runType, 'sipn_nc_yearly_byweek',str(pred_year)+'_byweek.nc')\n",
    "    ds_climo.to_netcdf(file_out)\n",
    "    print(\"Saved\",file_out)"
   ]
  },
  {
   "cell_type": "code",
   "execution_count": null,
   "metadata": {},
   "outputs": [],
   "source": []
  },
  {
   "cell_type": "code",
   "execution_count": null,
   "metadata": {},
   "outputs": [],
   "source": []
  },
  {
   "cell_type": "code",
   "execution_count": 7,
   "metadata": {},
   "outputs": [],
   "source": [
    "PlotTest = False\n",
    "if PlotTest:\n",
    "    tmpsip1=ds_sip_climo.sel(week=1) # save one time at random for plot verification\n",
    "    tmpsip2=ds_sip_climo.sel(week=maxweek) # save one time at random for plot verification\n",
    "\n",
    "    # plot one time at random to ensure it is about right Nplots has to be one more than you'd think\n",
    "    (f, axes) = ice_plot.multi_polar_axis(ncols=2, nrows=1, Nplots = 3, sizefcter=3)\n",
    "    tmpsip1.plot.pcolormesh(cmap='Reds',ax=axes[0], x='lon', y='lat',transform=ccrs.PlateCarree())\n",
    "    tmpsip2.plot.pcolormesh(cmap='Reds',ax=axes[1], x='lon', y='lat',transform=ccrs.PlateCarree())"
   ]
  },
  {
   "cell_type": "code",
   "execution_count": 36,
   "metadata": {},
   "outputs": [
    {
     "name": "stdout",
     "output_type": "stream",
     "text": [
      "init_slices are at end of the range\n",
      "2018-01-07T00:00:00.000000000 2020-07-05T00:00:00.000000000\n",
      "shift to midpoint of range\n",
      "2018-01-04T00:00:00.000000000 2020-07-02T00:00:00.000000000\n"
     ]
    }
   ],
   "source": [
    "# Hardcoded start date (makes incremental weeks always the same)\n",
    "start_t = datetime.datetime(1950, 1, 1) # datetime.datetime(1950, 1, 1)\n",
    "# Params for this plot\n",
    "Ndays = 7 # time period to aggregate maps to (default is 7)\n",
    "\n",
    "init_start_date = np.datetime64('2018-01-01') # first date we have computed metrics\n",
    "                   \n",
    "#init_start_date = np.datetime64('2019-01-01') # speeds up substantially b\n",
    "\n",
    "cd = today_date +  datetime.timedelta(days=365)\n",
    "\n",
    "init_slice = np.arange(start_t, cd, datetime.timedelta(days=Ndays)).astype('datetime64[ns]')\n",
    "# init_slice = init_slice[-Npers:] # Select only the last Npers of periods (weeks) since current date\n",
    "init_slice = init_slice[init_slice>=init_start_date] # Select only the inits after init_start_date\n",
    "\n",
    "limited_slice = init_slice[init_slice<=np.datetime64(today_date)] # Select only the inits after init_start_date\n",
    "\n",
    "init_midpoint = np.arange(start_t- datetime.timedelta(days=3), cd- datetime.timedelta(days=3), datetime.timedelta(days=Ndays)).astype('datetime64[ns]')\n",
    "init_midpoint = init_midpoint[init_midpoint>=init_start_date] # Select only the inits after init_start_date\n",
    "\n",
    "print('init_slices are at end of the range')\n",
    "print(init_slice[0],init_slice[-1])\n",
    "print('shift to midpoint of range')\n",
    "print(init_midpoint[0],init_midpoint[-1])\n"
   ]
  },
  {
   "cell_type": "code",
   "execution_count": 10,
   "metadata": {},
   "outputs": [
    {
     "name": "stdout",
     "output_type": "stream",
     "text": [
      "<xarray.Dataset>\n",
      "Dimensions:  (time: 1328, x: 304, y: 448)\n",
      "Coordinates:\n",
      "  * x        (x) int64 0 1 2 3 4 5 6 7 8 ... 295 296 297 298 299 300 301 302 303\n",
      "  * y        (y) int64 0 1 2 3 4 5 6 7 8 ... 439 440 441 442 443 444 445 446 447\n",
      "    lat      (x, y) float64 31.1 31.25 31.4 31.55 ... 34.92 34.77 34.62 34.47\n",
      "    lon      (x, y) float64 168.3 168.4 168.5 168.7 ... -9.745 -9.872 -9.999\n",
      "    xm       (x) int64 -3850000 -3825000 -3800000 ... 3675000 3700000 3725000\n",
      "    ym       (y) int64 5850000 5825000 5800000 ... -5275000 -5300000 -5325000\n",
      "    week     (time) int64 dask.array<shape=(1328,), chunksize=(52,)>\n",
      "  * time     (time) datetime64[ns] 1995-01-04 1995-01-11 ... 2020-07-11\n",
      "Data variables:\n",
      "    sic      (time, y, x) float64 dask.array<shape=(1328, 448, 304), chunksize=(52, 448, 304)>\n",
      "    SIP      (time, y, x) float64 dask.array<shape=(1328, 448, 304), chunksize=(52, 448, 304)>\n"
     ]
    }
   ],
   "source": [
    "files = os.path.join(mod_dir, cmod, runType, 'sipn_nc_yearly_byweek','*_byweek.nc')\n",
    "ds = xr.open_mfdataset(files, concat_dim='time', parallel=True)\n",
    "cd = today_date +  datetime.timedelta(days=375)\n",
    "print(ds)"
   ]
  },
  {
   "cell_type": "code",
   "execution_count": 11,
   "metadata": {},
   "outputs": [
    {
     "name": "stdout",
     "output_type": "stream",
     "text": [
      "<xarray.Dataset>\n",
      "Dimensions:  (time: 132, x: 304, y: 448)\n",
      "Coordinates:\n",
      "  * x        (x) int64 0 1 2 3 4 5 6 7 8 ... 295 296 297 298 299 300 301 302 303\n",
      "  * y        (y) int64 0 1 2 3 4 5 6 7 8 ... 439 440 441 442 443 444 445 446 447\n",
      "    lat      (x, y) float64 dask.array<shape=(304, 448), chunksize=(304, 8)>\n",
      "    lon      (x, y) float64 dask.array<shape=(304, 448), chunksize=(304, 8)>\n",
      "    xm       (x) int64 dask.array<shape=(304,), chunksize=(304,)>\n",
      "    ym       (y) int64 dask.array<shape=(448,), chunksize=(8,)>\n",
      "    week     (time) int64 dask.array<shape=(132,), chunksize=(132,)>\n",
      "  * time     (time) datetime64[ns] 2018-01-04 2018-01-11 ... 2020-07-11\n",
      "Data variables:\n",
      "    sic      (time, y, x) float64 dask.array<shape=(132, 448, 304), chunksize=(132, 8, 304)>\n",
      "    SIP      (time, y, x) float64 dask.array<shape=(132, 448, 304), chunksize=(132, 8, 304)>\n"
     ]
    }
   ],
   "source": [
    "ds=ds.sel(time=slice(str(init_start_date),str(cd)))  # end year just has to be way in the future\n",
    "ds=ds.chunk({'time': 132, 'y': 8}) # change chunk so time is one chunk, required for interp\n",
    "print(ds)\n",
    "dsr=ds.interp(time=init_midpoint,method= 'linear')\n",
    "dsr['time']=init_slice\n",
    "dsr = dsr.rename({'time':'init_end'})\n",
    "dsr = dsr.drop('week')\n",
    "print(dsr)\n",
    "file_out = os.path.join(mod_dir, cmod, runType, 'metrics','climoSIP_SIC_2018_to_nextyear.nc')\n",
    "dsr.to_netcdf(file_out)\n",
    "print(\"Saved\",file_out)"
   ]
  },
  {
   "cell_type": "code",
   "execution_count": null,
   "metadata": {},
   "outputs": [],
   "source": []
  },
  {
   "cell_type": "code",
   "execution_count": 13,
   "metadata": {},
   "outputs": [
    {
     "name": "stdout",
     "output_type": "stream",
     "text": [
      "<xarray.Dataset>\n",
      "Dimensions:   (init_end: 131, x: 304, y: 448)\n",
      "Coordinates:\n",
      "  * x         (x) int64 0 1 2 3 4 5 6 7 8 ... 296 297 298 299 300 301 302 303\n",
      "  * y         (y) int64 0 1 2 3 4 5 6 7 8 ... 440 441 442 443 444 445 446 447\n",
      "    lat       (x, y) float64 dask.array<shape=(304, 448), chunksize=(304, 8)>\n",
      "    lon       (x, y) float64 dask.array<shape=(304, 448), chunksize=(304, 8)>\n",
      "    xm        (x) int64 dask.array<shape=(304,), chunksize=(304,)>\n",
      "    ym        (y) int64 dask.array<shape=(448,), chunksize=(8,)>\n",
      "  * init_end  (init_end) datetime64[ns] 2018-01-07 2018-01-14 ... 2020-07-05\n",
      "Data variables:\n",
      "    sic       (init_end, y, x) float64 dask.array<shape=(131, 448, 304), chunksize=(131, 8, 304)>\n",
      "    SIP       (init_end, y, x) float64 dask.array<shape=(131, 448, 304), chunksize=(131, 8, 304)>\n",
      "Saved /home/disk/sipn/nicway/data/model/climo10yrs/forecast/metrics/climoSIP_SIC_2018_to_nextyear.nc\n"
     ]
    }
   ],
   "source": []
  },
  {
   "cell_type": "code",
   "execution_count": null,
   "metadata": {},
   "outputs": [],
   "source": [
    "PlotTest = False\n",
    "if PlotTest:\n",
    "    tmpsip1=da.isel(time=80) # save one time at random for plot verification\n",
    "    tmpsip2=dar.isel(time=80) # save one time at random for plot verification\n",
    "    tmpsip2=tmpsip2-tmpsip1\n",
    "\n",
    "    # plot one time at random to ensure it is about right Nplots has to be one more than you'd think\n",
    "    (f, axes) = ice_plot.multi_polar_axis(ncols=2, nrows=1, Nplots = 3, sizefcter=3)\n",
    "    tmpsip1.plot.pcolormesh(cmap='Reds',ax=axes[0], x='lon', y='lat',transform=ccrs.PlateCarree())\n",
    "    tmpsip2.plot.pcolormesh(cmap='Reds',ax=axes[1], x='lon', y='lat',transform=ccrs.PlateCarree())"
   ]
  },
  {
   "cell_type": "code",
   "execution_count": 38,
   "metadata": {},
   "outputs": [
    {
     "name": "stdout",
     "output_type": "stream",
     "text": [
      "<xarray.DataArray (fore_time: 52)>\n",
      "array([                0,   604800000000000,  1209600000000000,\n",
      "        1814400000000000,  2419200000000000,  3024000000000000,\n",
      "        3628800000000000,  4233600000000000,  4838400000000000,\n",
      "        5443200000000000,  6048000000000000,  6652800000000000,\n",
      "        7257600000000000,  7862400000000000,  8467200000000000,\n",
      "        9072000000000000,  9676800000000000, 10281600000000000,\n",
      "       10886400000000000, 11491200000000000, 12096000000000000,\n",
      "       12700800000000000, 13305600000000000, 13910400000000000,\n",
      "       14515200000000000, 15120000000000000, 15724800000000000,\n",
      "       16329600000000000, 16934400000000000, 17539200000000000,\n",
      "       18144000000000000, 18748800000000000, 19353600000000000,\n",
      "       19958400000000000, 20563200000000000, 21168000000000000,\n",
      "       21772800000000000, 22377600000000000, 22982400000000000,\n",
      "       23587200000000000, 24192000000000000, 24796800000000000,\n",
      "       25401600000000000, 26006400000000000, 26611200000000000,\n",
      "       27216000000000000, 27820800000000000, 28425600000000000,\n",
      "       29030400000000000, 29635200000000000, 30240000000000000,\n",
      "       30844800000000000], dtype='timedelta64[ns]')\n",
      "Coordinates:\n",
      "  * fore_time  (fore_time) timedelta64[ns] 0 days 7 days ... 350 days 357 days\n",
      "2018-01-01T00:00:00.000000000 to 2018-01-07T00:00:00.000000000\n",
      "2018-01-08T00:00:00.000000000 to 2018-01-14T00:00:00.000000000\n",
      "2018-01-15T00:00:00.000000000 to 2018-01-21T00:00:00.000000000\n",
      "2018-01-22T00:00:00.000000000 to 2018-01-28T00:00:00.000000000\n",
      "2018-01-29T00:00:00.000000000 to 2018-02-04T00:00:00.000000000\n",
      "2018-02-05T00:00:00.000000000 to 2018-02-11T00:00:00.000000000\n",
      "2018-02-12T00:00:00.000000000 to 2018-02-18T00:00:00.000000000\n",
      "2018-02-19T00:00:00.000000000 to 2018-02-25T00:00:00.000000000\n",
      "2018-02-26T00:00:00.000000000 to 2018-03-04T00:00:00.000000000\n",
      "2018-03-05T00:00:00.000000000 to 2018-03-11T00:00:00.000000000\n",
      "2018-03-12T00:00:00.000000000 to 2018-03-18T00:00:00.000000000\n",
      "2018-03-19T00:00:00.000000000 to 2018-03-25T00:00:00.000000000\n",
      "2018-03-26T00:00:00.000000000 to 2018-04-01T00:00:00.000000000\n",
      "2018-04-02T00:00:00.000000000 to 2018-04-08T00:00:00.000000000\n",
      "2018-04-09T00:00:00.000000000 to 2018-04-15T00:00:00.000000000\n",
      "2018-04-16T00:00:00.000000000 to 2018-04-22T00:00:00.000000000\n",
      "2018-04-23T00:00:00.000000000 to 2018-04-29T00:00:00.000000000\n",
      "2018-04-30T00:00:00.000000000 to 2018-05-06T00:00:00.000000000\n",
      "2018-05-07T00:00:00.000000000 to 2018-05-13T00:00:00.000000000\n",
      "2018-05-14T00:00:00.000000000 to 2018-05-20T00:00:00.000000000\n",
      "2018-05-21T00:00:00.000000000 to 2018-05-27T00:00:00.000000000\n",
      "2018-05-28T00:00:00.000000000 to 2018-06-03T00:00:00.000000000\n",
      "2018-06-04T00:00:00.000000000 to 2018-06-10T00:00:00.000000000\n",
      "2018-06-11T00:00:00.000000000 to 2018-06-17T00:00:00.000000000\n",
      "2018-06-18T00:00:00.000000000 to 2018-06-24T00:00:00.000000000\n",
      "2018-06-25T00:00:00.000000000 to 2018-07-01T00:00:00.000000000\n",
      "2018-07-02T00:00:00.000000000 to 2018-07-08T00:00:00.000000000\n",
      "2018-07-09T00:00:00.000000000 to 2018-07-15T00:00:00.000000000\n",
      "2018-07-16T00:00:00.000000000 to 2018-07-22T00:00:00.000000000\n",
      "2018-07-23T00:00:00.000000000 to 2018-07-29T00:00:00.000000000\n",
      "2018-07-30T00:00:00.000000000 to 2018-08-05T00:00:00.000000000\n",
      "2018-08-06T00:00:00.000000000 to 2018-08-12T00:00:00.000000000\n",
      "2018-08-13T00:00:00.000000000 to 2018-08-19T00:00:00.000000000\n",
      "2018-08-20T00:00:00.000000000 to 2018-08-26T00:00:00.000000000\n",
      "2018-08-27T00:00:00.000000000 to 2018-09-02T00:00:00.000000000\n",
      "2018-09-03T00:00:00.000000000 to 2018-09-09T00:00:00.000000000\n",
      "2018-09-10T00:00:00.000000000 to 2018-09-16T00:00:00.000000000\n",
      "2018-09-17T00:00:00.000000000 to 2018-09-23T00:00:00.000000000\n",
      "2018-09-24T00:00:00.000000000 to 2018-09-30T00:00:00.000000000\n",
      "2018-10-01T00:00:00.000000000 to 2018-10-07T00:00:00.000000000\n",
      "2018-10-08T00:00:00.000000000 to 2018-10-14T00:00:00.000000000\n",
      "2018-10-15T00:00:00.000000000 to 2018-10-21T00:00:00.000000000\n",
      "2018-10-22T00:00:00.000000000 to 2018-10-28T00:00:00.000000000\n",
      "2018-10-29T00:00:00.000000000 to 2018-11-04T00:00:00.000000000\n",
      "2018-11-05T00:00:00.000000000 to 2018-11-11T00:00:00.000000000\n",
      "2018-11-12T00:00:00.000000000 to 2018-11-18T00:00:00.000000000\n",
      "2018-11-19T00:00:00.000000000 to 2018-11-25T00:00:00.000000000\n",
      "2018-11-26T00:00:00.000000000 to 2018-12-02T00:00:00.000000000\n",
      "2018-12-03T00:00:00.000000000 to 2018-12-09T00:00:00.000000000\n",
      "2018-12-10T00:00:00.000000000 to 2018-12-16T00:00:00.000000000\n",
      "2018-12-17T00:00:00.000000000 to 2018-12-23T00:00:00.000000000\n",
      "2018-12-24T00:00:00.000000000 to 2018-12-30T00:00:00.000000000\n",
      "2018-12-31T00:00:00.000000000 to 2019-01-06T00:00:00.000000000\n",
      "2019-01-07T00:00:00.000000000 to 2019-01-13T00:00:00.000000000\n",
      "2019-01-14T00:00:00.000000000 to 2019-01-20T00:00:00.000000000\n",
      "2019-01-21T00:00:00.000000000 to 2019-01-27T00:00:00.000000000\n",
      "2019-01-28T00:00:00.000000000 to 2019-02-03T00:00:00.000000000\n",
      "2019-02-04T00:00:00.000000000 to 2019-02-10T00:00:00.000000000\n",
      "2019-02-11T00:00:00.000000000 to 2019-02-17T00:00:00.000000000\n",
      "2019-02-18T00:00:00.000000000 to 2019-02-24T00:00:00.000000000\n",
      "2019-02-25T00:00:00.000000000 to 2019-03-03T00:00:00.000000000\n",
      "2019-03-04T00:00:00.000000000 to 2019-03-10T00:00:00.000000000\n",
      "2019-03-11T00:00:00.000000000 to 2019-03-17T00:00:00.000000000\n",
      "2019-03-18T00:00:00.000000000 to 2019-03-24T00:00:00.000000000\n",
      "2019-03-25T00:00:00.000000000 to 2019-03-31T00:00:00.000000000\n",
      "2019-04-01T00:00:00.000000000 to 2019-04-07T00:00:00.000000000\n",
      "2019-04-08T00:00:00.000000000 to 2019-04-14T00:00:00.000000000\n",
      "2019-04-15T00:00:00.000000000 to 2019-04-21T00:00:00.000000000\n",
      "2019-04-22T00:00:00.000000000 to 2019-04-28T00:00:00.000000000\n",
      "2019-04-29T00:00:00.000000000 to 2019-05-05T00:00:00.000000000\n",
      "2019-05-06T00:00:00.000000000 to 2019-05-12T00:00:00.000000000\n",
      "2019-05-13T00:00:00.000000000 to 2019-05-19T00:00:00.000000000\n",
      "2019-05-20T00:00:00.000000000 to 2019-05-26T00:00:00.000000000\n",
      "2019-05-27T00:00:00.000000000 to 2019-06-02T00:00:00.000000000\n",
      "2019-06-03T00:00:00.000000000 to 2019-06-09T00:00:00.000000000\n",
      "2019-06-10T00:00:00.000000000 to 2019-06-16T00:00:00.000000000\n",
      "2019-06-17T00:00:00.000000000 to 2019-06-23T00:00:00.000000000\n",
      "2019-06-24T00:00:00.000000000 to 2019-06-30T00:00:00.000000000\n",
      "2019-07-01T00:00:00.000000000 to 2019-07-07T00:00:00.000000000\n"
     ]
    }
   ],
   "source": [
    "# put the metrics in the MME_NEW folder one file per it and ft \n",
    "metrics_all = ['SIP']\n",
    "cvar = 'sic'\n",
    "updateAll = False\n",
    "\n",
    "# Forecast times are weekly for a year\n",
    "weeks = pd.to_timedelta(np.arange(0,52,1), unit='W')\n",
    "#months = pd.to_timedelta(np.arange(2,12,1), unit='M')\n",
    "#years = pd.to_timedelta(np.arange(1,2), unit='Y') - np.timedelta64(1, 'D') # need 364 not 365\n",
    "#slices = weeks.union(months).union(years).round('1d')\n",
    "da_slices = xr.DataArray(weeks, dims=('fore_time'))\n",
    "da_slices.fore_time.values.astype('timedelta64[D]')\n",
    "print(da_slices)\n",
    "\n",
    "# For each init time period\n",
    "for it in limited_slice: \n",
    "    it_start = it-np.timedelta64(Ndays,'D') + np.timedelta64(1,'D') # Start period for init period (it is end of period). Add 1 day because when\n",
    "    # we select using slice(start,stop) it is inclusive of end points. So here we are defining the start of the init AND the start of the valid time.\n",
    "    # So we need to add one day, so we don't double count.\n",
    "    print(it_start,\"to\",it)\n",
    "\n",
    "    for ft in da_slices.values: \n",
    "\n",
    "        cdoy_end = pd.to_datetime(it + ft).timetuple().tm_yday # Get current day of year end for valid time\n",
    "        cdoy_start = pd.to_datetime(it_start + ft).timetuple().tm_yday  # Get current day of year end for valid time\n",
    "\n",
    "        # Get datetime64 of valid time start and end\n",
    "        valid_start = it_start + ft\n",
    "        valid_end = it + ft\n",
    "\n",
    "        # Loop through variable of interest + any metrics (i.e. SIP) based on that\n",
    "        for metric in metrics_all:\n",
    "\n",
    "            # File paths and stuff\n",
    "            out_metric_dir = os.path.join(E.model['MME_NEW'][runType]['sipn_nc'], cvar, metric)\n",
    "            if not os.path.exists(out_metric_dir):\n",
    "                os.makedirs(out_metric_dir) \n",
    "\n",
    "            out_init_dir = os.path.join(out_metric_dir, pd.to_datetime(it).strftime('%Y-%m-%d'))\n",
    "            if not os.path.exists(out_init_dir):\n",
    "                os.makedirs(out_init_dir)\n",
    "\n",
    "            out_mod_dir = os.path.join(out_init_dir, cmod)\n",
    "            if not os.path.exists(out_mod_dir):\n",
    "                os.makedirs(out_mod_dir)     \n",
    "\n",
    "            out_nc_file = os.path.join(out_mod_dir, pd.to_datetime(it+ft).strftime('%Y-%m-%d')+'_'+cmod+'.nc')\n",
    "\n",
    "            # Only update if either we are updating All or it doesn't yet exist\n",
    "            # OR, its one of the last 3 init times \n",
    "            if updateAll | (os.path.isfile(out_nc_file)==False) | np.any(it in init_slice[-2:]):\n",
    "                #print(\"    Updating...\")\n",
    "\n",
    "                # select valid time\n",
    "                ds_model =  dsr[cvar].sel(init_end=valid_end)\n",
    "\n",
    "                # Check we have all observations for this week (7)\n",
    "                if ds_model.init_end.size == 1:\n",
    "\n",
    "                    # Add Coords info\n",
    "                    ds_model.name = metric\n",
    "                    ds_model.coords['model'] = cmod\n",
    "                    ds_model.coords['init_start'] = it_start\n",
    "                    ds_model.coords['init_end'] = it\n",
    "                    ds_model.coords['valid_start'] = it_start+ft\n",
    "                    ds_model.coords['valid_end'] = it+ft\n",
    "                    ds_model.coords['fore_time'] = ft\n",
    "\n",
    "                    # Write to disk\n",
    "                    ds_model.to_netcdf(out_nc_file)\n",
    "                    #print('Saving file ',out_nc_file)\n",
    "                    # Clean up for current model\n",
    "                    ds_model = None\n",
    "                else:\n",
    "                    print('Warning NO VALID TIME where there should be', it, ft)"
   ]
  },
  {
   "cell_type": "code",
   "execution_count": null,
   "metadata": {},
   "outputs": [],
   "source": []
  },
  {
   "cell_type": "code",
   "execution_count": null,
   "metadata": {},
   "outputs": [],
   "source": []
  }
 ],
 "metadata": {
  "kernelspec": {
   "display_name": "Python 3",
   "language": "python",
   "name": "python3"
  },
  "language_info": {
   "codemirror_mode": {
    "name": "ipython",
    "version": 3
   },
   "file_extension": ".py",
   "mimetype": "text/x-python",
   "name": "python",
   "nbconvert_exporter": "python",
   "pygments_lexer": "ipython3",
   "version": "3.6.4"
  }
 },
 "nbformat": 4,
 "nbformat_minor": 2
}
