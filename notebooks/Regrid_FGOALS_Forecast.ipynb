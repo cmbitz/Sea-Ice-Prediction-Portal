{
 "cells": [
  {
   "cell_type": "markdown",
   "metadata": {},
   "source": [
    "# FGOALS Forecast\n",
    "\n",
    "- Loads in all daily forecasts of sea ice\n",
    "- Regrids to polar stereographic,\n",
    "- Saves to netcdf files grouped by month of initial date"
   ]
  },
  {
   "cell_type": "code",
   "execution_count": 7,
   "metadata": {},
   "outputs": [],
   "source": [
    "'''\n",
    "\n",
    "This code is part of the SIPN2 project focused on improving sub-seasonal to seasonal predictions of Arctic Sea Ice. \n",
    "If you use this code for a publication or presentation, please cite the reference in the README.md on the\n",
    "main page (https://github.com/NicWayand/ESIO). \n",
    "\n",
    "Questions or comments should be addressed to nicway@uw.edu\n",
    "\n",
    "Copyright (c) 2018 Nic Wayand\n",
    "\n",
    "GNU General Public License v3.0\n",
    "\n",
    "\n",
    "'''\n",
    "\n",
    "# Standard Imports\n",
    "#%matplotlib inline\n",
    "#%load_ext autoreload\n",
    "#%autoreload\n",
    "import matplotlib\n",
    "import scipy\n",
    "import matplotlib.pyplot as plt\n",
    "import cartopy.crs as ccrs\n",
    "from cartopy.mpl.gridliner import LONGITUDE_FORMATTER, LATITUDE_FORMATTER\n",
    "import numpy as np\n",
    "import xarray as xr\n",
    "import xesmf as xe\n",
    "import os\n",
    "from os import walk\n",
    "import glob\n",
    "import seaborn as sns\n",
    "import pandas as pd\n",
    "import datetime\n",
    "import warnings\n",
    "warnings.simplefilter(action='ignore', category=FutureWarning)\n",
    "\n",
    "# ESIO Imports\n",
    "from esio import import_data\n",
    "\n",
    "import dask\n",
    "from dask.distributed import Client"
   ]
  },
  {
   "cell_type": "code",
   "execution_count": 8,
   "metadata": {},
   "outputs": [
    {
     "name": "stderr",
     "output_type": "stream",
     "text": [
      "/home/disk/sipn/nicway/anaconda3/envs/esio/lib/python3.6/site-packages/distributed/bokeh/core.py:57: UserWarning: \n",
      "Port 8787 is already in use. \n",
      "Perhaps you already have a cluster running?\n",
      "Hosting the diagnostics dashboard on a random port instead.\n",
      "  warnings.warn('\\n' + msg)\n"
     ]
    },
    {
     "data": {
      "text/html": [
       "<table style=\"border: 2px solid white;\">\n",
       "<tr>\n",
       "<td style=\"vertical-align: top; border: 0px solid white\">\n",
       "<h3>Client</h3>\n",
       "<ul>\n",
       "  <li><b>Scheduler: </b>tcp://127.0.0.1:36989\n",
       "  <li><b>Dashboard: </b><a href='http://127.0.0.1:36353/status' target='_blank'>http://127.0.0.1:36353/status</a>\n",
       "</ul>\n",
       "</td>\n",
       "<td style=\"vertical-align: top; border: 0px solid white\">\n",
       "<h3>Cluster</h3>\n",
       "<ul>\n",
       "  <li><b>Workers: </b>8</li>\n",
       "  <li><b>Cores: </b>16</li>\n",
       "  <li><b>Memory: </b>67.47 GB</li>\n",
       "</ul>\n",
       "</td>\n",
       "</tr>\n",
       "</table>"
      ],
      "text/plain": [
       "<Client: scheduler='tcp://127.0.0.1:36989' processes=8 cores=16>"
      ]
     },
     "execution_count": 8,
     "metadata": {},
     "output_type": "execute_result"
    }
   ],
   "source": [
    "client = Client(n_workers=8)\n",
    "client"
   ]
  },
  {
   "cell_type": "code",
   "execution_count": 9,
   "metadata": {},
   "outputs": [],
   "source": [
    "# General plotting settings\n",
    "sns.set_style('whitegrid')\n",
    "sns.set_context(\"talk\", font_scale=1.5, rc={\"lines.linewidth\": 2.5})"
   ]
  },
  {
   "cell_type": "code",
   "execution_count": 10,
   "metadata": {},
   "outputs": [],
   "source": [
    "# Directories\n",
    "model='fgoalssipn'\n",
    "runType='forecast'\n",
    "base_dir = r'/home/disk/sipn/nicway/data/'\n",
    "ftp_dir = r'/home/disk/sipn/upload/'\n",
    "data_dir = os.path.join(base_dir, 'model', model, runType)\n",
    "data_out = os.path.join(base_dir, 'model', model, runType, 'sipn_nc')\n",
    "stero_grid_file = os.path.join(base_dir, 'grids', 'stereo_gridinfo.nc')"
   ]
  },
  {
   "cell_type": "code",
   "execution_count": 11,
   "metadata": {},
   "outputs": [],
   "source": [
    "updateall = False"
   ]
  },
  {
   "cell_type": "code",
   "execution_count": null,
   "metadata": {},
   "outputs": [],
   "source": []
  },
  {
   "cell_type": "code",
   "execution_count": 12,
   "metadata": {},
   "outputs": [
    {
     "name": "stdout",
     "output_type": "stream",
     "text": [
      "/home/disk/sipn/nicway/data/model/fgoalssipn/forecast/native/orig\n",
      "['20190701', '20190702', '20190703', '20190704', '20190709', '20190601']\n",
      "/home/disk/sipn/nicway/data/model/fgoalssipn/forecast/native/fgoalssipn-20190701.nc  already exists - skipping\n",
      "/home/disk/sipn/nicway/data/model/fgoalssipn/forecast/native/fgoalssipn-20190702.nc  already exists - skipping\n",
      "/home/disk/sipn/nicway/data/model/fgoalssipn/forecast/native/fgoalssipn-20190703.nc  already exists - skipping\n",
      "/home/disk/sipn/nicway/data/model/fgoalssipn/forecast/native/fgoalssipn-20190704.nc  already exists - skipping\n",
      "/home/disk/sipn/nicway/data/model/fgoalssipn/forecast/native/fgoalssipn-20190709.nc  already exists - skipping\n",
      "/home/disk/sipn/nicway/data/model/fgoalssipn/forecast/native/fgoalssipn-20190601.nc  already exists - skipping\n"
     ]
    }
   ],
   "source": [
    "# look for new data each day and concat into a manageable file\n",
    "\n",
    "native_dir=os.path.join(data_dir,'native')\n",
    "orig_dir=os.path.join(native_dir,'orig')\n",
    "print(orig_dir)\n",
    "\n",
    "init_dates = []\n",
    "for (dirpath, dirnames, filenames) in walk(orig_dir):\n",
    "    init_dates.extend(dirnames)\n",
    "    break\n",
    "    \n",
    "print(init_dates)\n",
    "\n",
    "for itstr in init_dates:\n",
    "    itdata_dir=os.path.join(orig_dir,itstr)\n",
    "    f_out = os.path.join(native_dir,model+'-'+itstr+'.nc')\n",
    "    if (os.path.isfile(f_out)):\n",
    "        print(f_out, ' already exists - skipping')\n",
    "        continue\n",
    "\n",
    "    ens_dirs = []\n",
    "    for (dirpath, dirnames, filenames) in walk(itdata_dir):\n",
    "        ens_dirs.extend(dirnames)\n",
    "        break\n",
    "    nens=len(ens_dirs)\n",
    "    print(nens)\n",
    "    print(ens_dirs)\n",
    "    tmp = ens_dirs[0].split('-')\n",
    "    tmp = tmp[2]\n",
    "    e=int(tmp[-2:])\n",
    "    print(e)\n",
    "    ds_list = []\n",
    "    for esub in ens_dirs:\n",
    "        tmp = esub.split('-')\n",
    "        tmp = tmp[2]\n",
    "        e=int(tmp[-2:])\n",
    "        cfiles = os.path.join(itdata_dir, esub, '*.cice.h1.*.nc')  \n",
    "        print(cfiles)\n",
    "        ds = xr.open_mfdataset(cfiles, concat_dim='time', chunks={'time': 1, 'nj': 112, 'ni': 320} , parallel=True)\n",
    "\n",
    "    #    # Add ensemble coord\n",
    "        ds.coords['ensemble'] = e\n",
    "        da=ds.aice_d\n",
    "        da=da.expand_dims('ensemble')\n",
    "        #print(da)\n",
    "        ds_list.append(da)\n",
    "\n",
    "    #print(ds_list)    \n",
    "\n",
    "    print('merge to one and save file ',f_out)\n",
    "    ds_all = xr.merge(ds_list)\n",
    "    print(ds_all)\n",
    "    ds_all.to_netcdf(f_out)"
   ]
  },
  {
   "cell_type": "code",
   "execution_count": null,
   "metadata": {},
   "outputs": [],
   "source": []
  },
  {
   "cell_type": "code",
   "execution_count": null,
   "metadata": {},
   "outputs": [],
   "source": []
  },
  {
   "cell_type": "code",
   "execution_count": 13,
   "metadata": {},
   "outputs": [],
   "source": [
    "obs_grid = import_data.load_grid_info(stero_grid_file, model='NSIDC')\n",
    "# Ensure latitude is within bounds (-90 to 90)\n",
    "# Have to do this because grid file has 90.000001\n",
    "obs_grid['lat_b'] = obs_grid.lat_b.where(obs_grid.lat_b < 90, other = 90)"
   ]
  },
  {
   "cell_type": "code",
   "execution_count": null,
   "metadata": {},
   "outputs": [],
   "source": []
  },
  {
   "cell_type": "code",
   "execution_count": 14,
   "metadata": {},
   "outputs": [],
   "source": [
    "# Regridding Options\n",
    "method='nearest_s2d' # ['bilinear', 'conservative', 'nearest_s2d', 'nearest_d2s', 'patch']"
   ]
  },
  {
   "cell_type": "code",
   "execution_count": null,
   "metadata": {},
   "outputs": [],
   "source": [
    "\n"
   ]
  },
  {
   "cell_type": "code",
   "execution_count": 15,
   "metadata": {},
   "outputs": [],
   "source": [
    "weights_flag = False # Flag to set up weights have been created\n",
    "have_grid_file  = False"
   ]
  },
  {
   "cell_type": "code",
   "execution_count": 16,
   "metadata": {},
   "outputs": [
    {
     "name": "stdout",
     "output_type": "stream",
     "text": [
      "2019 7\n"
     ]
    }
   ],
   "source": [
    "# CICE model variable names\n",
    "varnames = ['aice_d']\n",
    "\n",
    "cd = datetime.datetime.now()\n",
    "thisyear = cd.year\n",
    "thismonth = cd.month\n",
    "print(thisyear,thismonth)"
   ]
  },
  {
   "cell_type": "code",
   "execution_count": 22,
   "metadata": {},
   "outputs": [
    {
     "name": "stdout",
     "output_type": "stream",
     "text": [
      "Procesing year  2019 6\n",
      "   file:  /home/disk/sipn/nicway/data/model/fgoalssipn/forecast/native/fgoalssipn-20190601.nc\n",
      "<xarray.DataArray 'sic' (init_time: 1, ensemble: 40, fore_time: 183, nj: 112, ni: 320)>\n",
      "dask.array<shape=(1, 40, 183, 112, 320), dtype=float32, chunksize=(1, 40, 183, 112, 320)>\n",
      "Coordinates:\n",
      "  * ensemble   (ensemble) int64 1 2 3 4 5 6 7 8 9 ... 32 33 34 35 36 37 38 39 40\n",
      "  * fore_time  (fore_time) timedelta64[ns] 1 days 2 days ... 182 days 183 days\n",
      "  * init_time  (init_time) datetime64[ns] 2019-06-01\n",
      "    lon        (nj, ni) float32 dask.array<shape=(112, 320), chunksize=(112, 320)>\n",
      "    lat        (nj, ni) float32 dask.array<shape=(112, 320), chunksize=(112, 320)>\n",
      "Dimensions without coordinates: nj, ni\n",
      "Reuse existing file: nearest_s2d_112x320_304x448.nc\n"
     ]
    },
    {
     "name": "stderr",
     "output_type": "stream",
     "text": [
      "/home/disk/sipn/nicway/anaconda3/envs/esio/lib/python3.6/site-packages/xesmf/backend.py:52: UserWarning: Latitude is outside of [-90, 90]\n",
      "  warnings.warn(\"Latitude is outside of [-90, 90]\")\n"
     ]
    },
    {
     "name": "stdout",
     "output_type": "stream",
     "text": [
      "Saved file /home/disk/sipn/nicway/data/model/fgoalssipn/forecast/sipn_nc/fgoalssipn_20190601_Stereo.nc\n"
     ]
    }
   ],
   "source": [
    "# Always import the most recent two months of files (because they get updated)    \n",
    "for im in [thismonth-1,thismonth]:\n",
    "#for im in [thismonth-1]:\n",
    "    cm=im    \n",
    "    if im==0:\n",
    "        cm=12\n",
    "        year=thisyear-1\n",
    "    else:\n",
    "        cm = im\n",
    "        year = thisyear\n",
    "\n",
    "    # Check any files for this year exist:\n",
    "    cfiles=glob.glob(os.path.join(data_dir, 'native','*'+str(year)+format(cm, '02')+'*.nc'))\n",
    "    cfiles = sorted(cfiles) \n",
    "    if (len(cfiles)==0):\n",
    "        print(\"Skipping since no files found for year and month\", year, cm, \".\")\n",
    "        continue    \n",
    "\n",
    "    print(\"Procesing year \", year, cm)\n",
    "\n",
    "    for ifile in cfiles:\n",
    "        print('   file: ',ifile)\n",
    "        tmp = ifile.split('-')\n",
    "        tmp = tmp[1].split('.')\n",
    "        date=tmp[0]\n",
    "        itime = np.datetime64(datetime.datetime(int(date[0:4]), int(date[5:6]), int(date[7:8])))\n",
    "        # print(np.datetime64(date)) # this might have worked\n",
    "        ds = xr.open_mfdataset(ifile,  parallel=True)\n",
    "        da = ds.aice_d\n",
    "        da.coords['init_time'] = itime\n",
    "        da = da.expand_dims('init_time')\n",
    "        da = da.rename({'time':'fore_time'})\n",
    "        #dt_mod = da.time.values[1] - da.time.values[0]\n",
    "        da.coords['fore_time'] = pd.to_timedelta(np.arange(1,len(da.fore_time)+1,1), unit='D')\n",
    "\n",
    "        da.name = 'sic'\n",
    "        da.coords['lon'] = da.TLON\n",
    "        da.coords['lat'] = da.TLAT\n",
    "        da = da.drop(['TLAT','TLON'])\n",
    "        da = da/100 # percent to fraction\n",
    "        print(da)\n",
    "\n",
    "        # Calculate regridding matrix\n",
    "        regridder = xe.Regridder(da, obs_grid, method, periodic=False, reuse_weights=weights_flag)\n",
    "        weights_flag = True # Set true for following loops\n",
    "\n",
    "        # Add NaNs to empty rows of matrix (forces any target cell with ANY source cells containing NaN to be NaN)\n",
    "        if method=='conservative':\n",
    "            regridder = import_data.add_matrix_NaNs(regridder)\n",
    "\n",
    "        da_out = regridder(da)\n",
    "        f_out = os.path.join(data_out, model+'_'+date+'_Stereo.nc')\n",
    "\n",
    "        print('Saved file', f_out)\n",
    "        # Save regridded to netcdf file\n",
    "        da_out.to_netcdf(f_out)\n",
    "\n",
    "    # Save regridded to multiple netcdf files by month\n",
    "#         months, datasets = zip(*ds_out_all.groupby('init_time.month'))\n",
    "#         paths = [os.path.join(data_out, 'GFDL_FLOR_'+str(year)+'_'+str(m)+'_Stereo.nc') for m in months]\n",
    "#         xr.save_mfdataset(datasets, paths)\n",
    "\n",
    "da = None # Memory clean up\n",
    "    "
   ]
  },
  {
   "cell_type": "code",
   "execution_count": null,
   "metadata": {},
   "outputs": [],
   "source": []
  },
  {
   "cell_type": "code",
   "execution_count": 23,
   "metadata": {},
   "outputs": [
    {
     "name": "stdout",
     "output_type": "stream",
     "text": [
      "Remove file nearest_s2d_112x320_304x448.nc\n"
     ]
    }
   ],
   "source": [
    "# Clean up\n",
    "if weights_flag:\n",
    "    regridder.clean_weight_file()  # clean-up"
   ]
  },
  {
   "cell_type": "code",
   "execution_count": 24,
   "metadata": {},
   "outputs": [],
   "source": [
    "client.close()"
   ]
  },
  {
   "cell_type": "markdown",
   "metadata": {},
   "source": [
    "# Plotting"
   ]
  },
  {
   "cell_type": "code",
   "execution_count": 82,
   "metadata": {},
   "outputs": [],
   "source": [
    "#ds_new = xr.open_dataset(f_out)"
   ]
  },
  {
   "cell_type": "code",
   "execution_count": 83,
   "metadata": {},
   "outputs": [
    {
     "data": {
      "text/plain": [
       "<xarray.Dataset>\n",
       "Dimensions:    (ensemble: 16, fore_time: 65, init_time: 4, ni: 448, nj: 304)\n",
       "Coordinates:\n",
       "    lon        (nj, ni) float64 ...\n",
       "    lat        (nj, ni) float64 ...\n",
       "  * init_time  (init_time) datetime64[ns] 2019-07-01 2019-07-02 ... 2019-07-04\n",
       "  * ensemble   (ensemble) int64 11 12 13 14 21 22 23 24 31 32 33 34 41 42 43 44\n",
       "  * fore_time  (fore_time) timedelta64[ns] 1 days 2 days ... 64 days 65 days\n",
       "Dimensions without coordinates: ni, nj\n",
       "Data variables:\n",
       "    sic        (init_time, ensemble, fore_time, nj, ni) float64 ..."
      ]
     },
     "execution_count": 83,
     "metadata": {},
     "output_type": "execute_result"
    }
   ],
   "source": [
    "#ds_new"
   ]
  },
  {
   "cell_type": "code",
   "execution_count": 90,
   "metadata": {},
   "outputs": [
    {
     "data": {
      "text/plain": [
       "<matplotlib.collections.QuadMesh at 0x1482f869b4e0>"
      ]
     },
     "execution_count": 90,
     "metadata": {},
     "output_type": "execute_result"
    },
    {
     "data": {
      "image/png": "[encoded data removed]",
      "text/plain": [
       "<Figure size 432x288 with 2 Axes>"
      ]
     },
     "metadata": {},
     "output_type": "display_data"
    }
   ],
   "source": [
    "#plt.figure()\n",
    "#ds_new.sic.sel(ensemble=11).isel(fore_time=0,init_time=3).plot()"
   ]
  },
  {
   "cell_type": "code",
   "execution_count": null,
   "metadata": {},
   "outputs": [],
   "source": []
  }
 ],
 "metadata": {
  "kernelspec": {
   "display_name": "Python 3",
   "language": "python",
   "name": "python3"
  },
  "language_info": {
   "codemirror_mode": {
    "name": "ipython",
    "version": 3
   },
   "file_extension": ".py",
   "mimetype": "text/x-python",
   "name": "python",
   "nbconvert_exporter": "python",
   "pygments_lexer": "ipython3",
   "version": "3.6.4"
  }
 },
 "nbformat": 4,
 "nbformat_minor": 2
}
