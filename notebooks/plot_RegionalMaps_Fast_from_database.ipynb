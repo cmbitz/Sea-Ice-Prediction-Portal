{
 "cells": [
  {
   "cell_type": "code",
   "execution_count": 1,
   "metadata": {},
   "outputs": [],
   "source": [
    "'''\n",
    "\n",
    "This code is part of the SIPN2 project focused on improving sub-seasonal to seasonal predictions of Arctic Sea Ice. \n",
    "If you use this code for a publication or presentation, please cite the reference in the README.md on the\n",
    "main page (https://github.com/NicWayand/ESIO). \n",
    "\n",
    "Questions or comments should be addressed to bitz@uw.edu\n",
    "\n",
    "Copyright (c) 2018 Nic Wayand\n",
    "\n",
    "GNU General Public License v3.0\n",
    "\n",
    "\n",
    "'''\n",
    "\n",
    "'''\n",
    "Plot forecast maps by region, takes about 50 min per init time\n",
    "'''\n",
    "\n",
    "%matplotlib inline\n",
    "%load_ext autoreload\n",
    "%autoreload\n",
    "import matplotlib\n",
    "# matplotlib.use('Agg')\n",
    "import matplotlib.pyplot as plt\n",
    "from collections import OrderedDict\n",
    "import itertools\n",
    "import numpy as np\n",
    "import numpy.ma as ma\n",
    "import pandas as pd\n",
    "import struct\n",
    "import os\n",
    "import xarray as xr\n",
    "import glob\n",
    "import datetime\n",
    "import cartopy.crs as ccrs\n",
    "from cartopy.mpl.gridliner import LONGITUDE_FORMATTER, LATITUDE_FORMATTER\n",
    "import seaborn as sns\n",
    "np.seterr(divide='ignore', invalid='ignore')\n",
    "import warnings\n",
    "warnings.simplefilter(action='ignore', category=FutureWarning)\n",
    "import json\n",
    "from esio import EsioData as ed\n",
    "from esio import ice_plot\n",
    "from esio import import_data\n",
    "import subprocess\n",
    "import dask\n",
    "from dask.distributed import Client\n",
    "import timeit\n",
    "\n",
    "# General plotting settings\n",
    "sns.set_style('whitegrid')\n",
    "sns.set_context(\"talk\", font_scale=.8, rc={\"lines.linewidth\": 2.5})"
   ]
  },
  {
   "cell_type": "code",
   "execution_count": 2,
   "metadata": {},
   "outputs": [],
   "source": [
    "# # Set up local cluster for testing\n",
    "# client = Client()\n",
    "# client"
   ]
  },
  {
   "cell_type": "code",
   "execution_count": null,
   "metadata": {},
   "outputs": [],
   "source": []
  },
  {
   "cell_type": "code",
   "execution_count": null,
   "metadata": {},
   "outputs": [],
   "source": []
  },
  {
   "cell_type": "code",
   "execution_count": 3,
   "metadata": {},
   "outputs": [
    {
     "name": "stdout",
     "output_type": "stream",
     "text": [
      "forecast time slices to plot in days:\n",
      "[  0   7  14  21  28  63  91 119 154 182]\n"
     ]
    }
   ],
   "source": [
    "# Plotting Info\n",
    "runType = 'forecast'\n",
    "variables = ['sic']\n",
    "metrics_all = {'sic':['anomaly','mean','SIP'], 'hi':['mean']}\n",
    "\n",
    "Ndays = 7 # time period to aggregate maps to (default is 7, all hell could break loose if changed)\n",
    "\n",
    "updateAll = False  # when this is false we do not remake figures done already except the last NweeksUpdate\n",
    "\n",
    "Npers =  24 # number of weeks to potentially plot counting back from current date \n",
    "            # BUT only remake those already made if updateAll = TRUE\n",
    "            # about once every few months should do an updateALL = TRUE to fill in obs and other delayed data\n",
    "\n",
    "NweeksUpdate = 2 #3 # Always update the most recent NweeksUpdate weeks (usually 2 or 3 )\n",
    "\n",
    "\n",
    "\n",
    "# Exclude some models\n",
    "MME_NO = ['hcmr']\n",
    "\n",
    "# Define Init Periods here, spaced by 7 days (aprox a week)\n",
    "# Now\n",
    "cd = datetime.datetime.now()\n",
    "cd = datetime.datetime(cd.year, cd.month, cd.day) # Set hour min sec to 0. \n",
    "#cd = datetime.datetime(cd.year, 3, 4)  # force redo of period ending 2019-03-03\n",
    "#cd = datetime.datetime(cd.year, 4, 20)  # force redo of 2019-04-14\n",
    "#cd = datetime.datetime(cd.year, 4, 10)  # force redo of 2019-04-07\n",
    "\n",
    "#cd = datetime.datetime(cd.year, 5, 8)  # force redo of 2019-04-07\n",
    "\n",
    "# Hardcoded start date (makes incremental weeks always the same)\n",
    "start_t = datetime.datetime(1950, 1, 1) # datetime.datetime(1950, 1, 1)\n",
    "init_slice = np.arange(start_t, cd, datetime.timedelta(days=Ndays)).astype('datetime64[ns]')\n",
    "init_slice = init_slice[-Npers:] # Select only the last Npers of periods (weeks) since current date\n",
    "\n",
    "\n",
    "\n",
    "# Forecast times to plot\n",
    "weeks = pd.to_timedelta(np.arange(0,5,1), unit='W')\n",
    "morewks = pd.to_timedelta([9,13,17,22,26], unit='W')\n",
    "\n",
    "slices = weeks.union(morewks).round('1d')\n",
    "da_slices = xr.DataArray(slices, dims=('fore_time'))\n",
    "print('forecast time slices to plot in days:')\n",
    "print(da_slices.fore_time.values.astype('timedelta64[D]'))\n",
    "\n",
    "# Help conversion between \"week/month\" period used for figure naming and the actual forecast time delta value\n",
    "int_2_days_dict = dict(zip(np.arange(0,da_slices.size), da_slices.values))\n",
    "days_2_int_dict = {v: k for k, v in int_2_days_dict.items()}"
   ]
  },
  {
   "cell_type": "code",
   "execution_count": 6,
   "metadata": {},
   "outputs": [
    {
     "data": {
      "text/plain": [
       "array(['2019-11-03T00:00:00.000000000', '2019-11-10T00:00:00.000000000',\n",
       "       '2019-11-17T00:00:00.000000000', '2019-11-24T00:00:00.000000000'],\n",
       "      dtype='datetime64[ns]')"
      ]
     },
     "execution_count": 6,
     "metadata": {},
     "output_type": "execute_result"
    }
   ],
   "source": [
    "# doint this temporarily to force remake of a few times in the past\n",
    "#updateAll = True\n",
    "#init_slice = init_slice[20:]\n",
    "init_slice"
   ]
  },
  {
   "cell_type": "code",
   "execution_count": null,
   "metadata": {},
   "outputs": [],
   "source": []
  },
  {
   "cell_type": "code",
   "execution_count": 7,
   "metadata": {},
   "outputs": [
    {
     "name": "stdout",
     "output_type": "stream",
     "text": [
      "['dampedAnomalyTrend', 'gfdlsipn', 'yopp', 'ukmetofficesipn', 'ecmwfsipn', 'meteofrsipn', 'ecmwf', 'metreofr', 'ukmo', 'kma', 'ncep', 'usnavysipn', 'usnavyncep', 'rasmesrl', 'fgoalssipn', 'climatology']\n"
     ]
    }
   ],
   "source": [
    "E = ed.EsioData.load()\n",
    "\n",
    "# add missing info for climatology\n",
    "E.model_color['climatology'] = (0,0,0)\n",
    "E.model_linestyle['climatology'] = '--'\n",
    "E.model_marker['climatology'] = '*'\n",
    "E.model['climatology'] = {'model_label':'Extrap.\\n Clim. Trend'}\n",
    "E.icePredicted['climatology'] = True\n",
    "\n",
    "mod_dir = E.model_dir\n",
    "\n",
    "# Define models to plot, only change this if we get new models or lead times\n",
    "models_2_plot = list(E.model.keys())\n",
    "models_2_plot = [x for x in models_2_plot if x not in ['piomas','MME','MME_NEW','uclsipn']] # remove some models\n",
    "models_2_plot = [x for x in models_2_plot if x not in ['modcansipns_3', 'modcansipns_4', 'szapirosipn', 'awispin', 'nicosipn']] # might return these in summer\n",
    "models_2_plot = [x for x in models_2_plot if x not in ['noaasipn','noaasipn_ext']] # might return these in summer\n",
    "models_2_plot = [x for x in models_2_plot if E.icePredicted[x]] # Only predictive models\n",
    "models_2_plot = [x for x in models_2_plot if x not in ['usnavygofs']] # remove some models\n",
    "\n",
    "print(models_2_plot)"
   ]
  },
  {
   "cell_type": "code",
   "execution_count": 8,
   "metadata": {},
   "outputs": [
    {
     "name": "stdout",
     "output_type": "stream",
     "text": [
      "['MME', 'climo10yrs', 'dampedAnomalyTrend', 'gfdlsipn', 'ukmetofficesipn', 'ecmwfsipn', 'meteofrsipn', 'usnavysipn', 'fgoalssipn', 'kma', 'ecmwf', 'metreofr', 'ukmo', 'ncep', 'usnavyncep', 'yopp', 'rasmesrl']\n"
     ]
    }
   ],
   "source": [
    "models_2_plot = ['MME']+models_2_plot # Add models to always plot at top\n",
    "models_2_plot.insert(1, models_2_plot.pop(-1)) # Move climatology from last to second\n",
    "\n",
    "# arrange in order of models that have longest lead times, OLD\n",
    "##models_2_plot.insert(13, models_2_plot.pop(4)) # Move yopp\n",
    "##models_2_plot.insert(6, models_2_plot.pop(11)) # Move NESM-ext\n",
    "##models_2_plot.insert(7, models_2_plot.pop(10)) # Move KMA\n",
    "##models_2_plot.insert(7, models_2_plot.pop(15)) # Move fgoalssipn\n",
    "\n",
    "# arrange in order of models that have longest lead times\n",
    "models_2_plot.insert(14, models_2_plot.pop(4)) # Move yopp\n",
    "models_2_plot.insert(6, models_2_plot.pop(12)) # Move NESM-ext\n",
    "models_2_plot.insert(7, models_2_plot.pop(6)) # Move MF\n",
    "models_2_plot.insert(8, models_2_plot.pop(11)) # Move KMA\n",
    "models_2_plot.insert(8, models_2_plot.pop(16)) # Move fgoalssipn\n",
    "\n",
    "# switch to climo10 yrs and\n",
    "# add missing info for climo10yrs for future\n",
    "models_2_plot[1]='climo10yrs'\n",
    "E.model_color['climo10yrs'] = (0,0,0)\n",
    "E.model_linestyle['climo10yrs'] = '--'\n",
    "E.model_marker['climo10yrs'] = '*'\n",
    "E.model['climo10yrs'] = {'model_label':'Climatology\\nLast 10 Yrs'}\n",
    "E.icePredicted['climo10yrs'] = True\n",
    "\n",
    "print(models_2_plot)"
   ]
  },
  {
   "cell_type": "code",
   "execution_count": 9,
   "metadata": {},
   "outputs": [
    {
     "name": "stdout",
     "output_type": "stream",
     "text": [
      "for week   0  models are: ['MME', 'climo10yrs', 'dampedAnomalyTrend', 'gfdlsipn', 'ukmetofficesipn', 'ecmwfsipn', 'meteofrsipn', 'usnavysipn', 'fgoalssipn', 'kma', 'ecmwf', 'metreofr', 'ukmo', 'ncep', 'usnavyncep', 'yopp', 'rasmesrl']\n",
      "for week   1  models are: ['MME', 'climo10yrs', 'dampedAnomalyTrend', 'gfdlsipn', 'ukmetofficesipn', 'ecmwfsipn', 'meteofrsipn', 'usnavysipn', 'fgoalssipn', 'kma', 'ecmwf', 'metreofr', 'ukmo', 'ncep', 'usnavyncep', 'yopp', 'rasmesrl']\n",
      "for week   2  models are: ['MME', 'climo10yrs', 'dampedAnomalyTrend', 'gfdlsipn', 'ukmetofficesipn', 'ecmwfsipn', 'meteofrsipn', 'usnavysipn', 'fgoalssipn', 'kma', 'ecmwf', 'metreofr', 'ukmo', 'ncep', 'usnavyncep', 'yopp', 'rasmesrl']\n",
      "for week   3  models are: ['MME', 'climo10yrs', 'dampedAnomalyTrend', 'gfdlsipn', 'ukmetofficesipn', 'ecmwfsipn', 'meteofrsipn', 'usnavysipn', 'fgoalssipn', 'kma', 'ecmwf', 'metreofr', 'ukmo', 'ncep', 'usnavyncep']\n",
      "for week   4  models are: ['MME', 'climo10yrs', 'dampedAnomalyTrend', 'gfdlsipn', 'ukmetofficesipn', 'ecmwfsipn', 'meteofrsipn', 'usnavysipn', 'fgoalssipn', 'kma', 'ecmwf', 'metreofr', 'ukmo', 'ncep']\n",
      "for week   5  models are: ['MME', 'climo10yrs', 'dampedAnomalyTrend', 'gfdlsipn', 'ukmetofficesipn', 'ecmwfsipn', 'meteofrsipn', 'usnavysipn', 'fgoalssipn']\n",
      "for week   6  models are: ['MME', 'climo10yrs', 'dampedAnomalyTrend', 'gfdlsipn', 'ukmetofficesipn', 'ecmwfsipn', 'meteofrsipn', 'usnavysipn', 'fgoalssipn']\n",
      "for week   7  models are: ['MME', 'climo10yrs', 'dampedAnomalyTrend', 'gfdlsipn', 'ukmetofficesipn', 'ecmwfsipn', 'meteofrsipn', 'usnavysipn']\n",
      "for week   8  models are: ['MME', 'climo10yrs', 'dampedAnomalyTrend', 'gfdlsipn', 'ukmetofficesipn', 'ecmwfsipn', 'meteofrsipn', 'usnavysipn']\n",
      "for week   9  models are: ['MME', 'climo10yrs', 'dampedAnomalyTrend', 'gfdlsipn', 'ukmetofficesipn', 'ecmwfsipn', 'meteofrsipn', 'usnavysipn']\n"
     ]
    }
   ],
   "source": [
    "models_2_plot_master ={0: models_2_plot,\n",
    "                       1: models_2_plot,\n",
    "                       2: models_2_plot,\n",
    "                       3: models_2_plot[0:15],\n",
    "                       4: models_2_plot[0:14],\n",
    "                       5: models_2_plot[0:9],\n",
    "                       6: models_2_plot[0:9],\n",
    "                       7: models_2_plot[0:8],\n",
    "                       8: models_2_plot[0:8],\n",
    "                       9: models_2_plot[0:8]  }\n",
    "\n",
    "\n",
    "for iweek in np.arange(0,10,1):\n",
    "    print('for week  ',iweek,' models are:' ,models_2_plot_master[iweek])"
   ]
  },
  {
   "cell_type": "code",
   "execution_count": 10,
   "metadata": {},
   "outputs": [],
   "source": [
    "# Get median ice edge by DOY\n",
    "median_ice_fill = xr.open_mfdataset(os.path.join(E.obs_dir, 'NSIDC_0051', 'agg_nc', 'ice_edge.nc')).sic\n",
    "# Get mean sic by DOY\n",
    "mean_1980_2010_sic = xr.open_dataset(os.path.join(E.obs_dir, 'NSIDC_0051', 'agg_nc', 'mean_1980_2010_sic.nc')).sic\n",
    "# Get average sip by DOY\n",
    "mean_1980_2010_SIP = xr.open_dataset(os.path.join(E.obs_dir, 'NSIDC_0051', 'agg_nc', 'hist_SIP_1980_2010.nc')).sip    "
   ]
  },
  {
   "cell_type": "code",
   "execution_count": 11,
   "metadata": {},
   "outputs": [],
   "source": [
    "def get_figure_init_times(fig_dir):\n",
    "    # Get list of all figures\n",
    "    fig_files = glob.glob(os.path.join(fig_dir,'*.png'))\n",
    "    init_times = list(reversed(sorted(list(set([os.path.basename(x).split('_')[4] for x in fig_files])))))\n",
    "    return init_times"
   ]
  },
  {
   "cell_type": "code",
   "execution_count": 12,
   "metadata": {},
   "outputs": [],
   "source": [
    "def update_status(ds_status=None, fig_dir=None, int_2_days_dict=None, NweeksUpdate=3):\n",
    "    # function to populate the status with 1 if the fig has been made or leave it set to nan if unmade\n",
    "    # Get list of all figures\n",
    "    fig_files = glob.glob(os.path.join(fig_dir,'*.png'))\n",
    "    # For each figure\n",
    "    for fig_f in fig_files:\n",
    "        # Get the init_time from file name\n",
    "        cit = os.path.basename(fig_f).split('_')[4]\n",
    "        # Get the forecast int from file name\n",
    "        cft = int(os.path.basename(fig_f).split('_')[5].split('.')[0])\n",
    "        # Check if current it and ft were requested, otherwise skip\n",
    "        if (np.datetime64(cit) in ds_status.init_time.values) & (np.timedelta64(int_2_days_dict[cft]) in ds_status.fore_time.values):\n",
    "            # Always update the last 3 weeks (some models have lagg before we get them)\n",
    "            # Check if cit is one of the last NweeksUpdate init times in init_time\n",
    "            if (np.datetime64(cit) not in ds_status.init_time.values[-NweeksUpdate:]):\n",
    "                ds_status.status.loc[dict(init_time=cit, fore_time=int_2_days_dict[cft])] = 1\n",
    "        \n",
    "    return ds_status\n",
    "\n",
    "# this bit is just to try to figure out what this code does\n",
    "DontSkipThis = False\n",
    "\n",
    "if DontSkipThis:\n",
    "\n",
    "    cvar = 'sic'\n",
    "    fig_dir = os.path.join(E.fig_dir, 'model', 'all_model', cvar, \"Regional_maps_NEW\")\n",
    "\n",
    "\n",
    "    ds_status = xr.DataArray(np.ones((init_slice.size, da_slices.size))*np.NaN, \n",
    "                                 dims=('init_time','fore_time'), \n",
    "                                 coords={'init_time':init_slice,'fore_time':da_slices}) \n",
    "    ds_status.name = 'status'\n",
    "    ds_status = ds_status.to_dataset()\n",
    "\n",
    "    print(ds_status)\n",
    "\n",
    "    print('ds_status.init_time.values ',ds_status.init_time.values)\n",
    "    print('ds_status.fore_time.values ',ds_status.fore_time.values)\n",
    "    print('ds_status.fore_time.values ',ds_status.status.values)\n",
    "\n",
    "    # Check what plots we already have\n",
    "    print(\"Set status to 1 for figures we have already made\")\n",
    "\n",
    "    # Get list of all figures\n",
    "    fig_files = glob.glob(os.path.join(fig_dir,'*.png'))\n",
    "#    print(fig_files)\n",
    "    # For each figure\n",
    "    for fig_f in fig_files:\n",
    "        # Get the init_time from file name\n",
    "        cit = os.path.basename(fig_f).split('_')[4]\n",
    "        # Get the forecast int from file name\n",
    "        #print(fig_f)\n",
    "        cft = int(os.path.basename(fig_f).split('_')[5].split('.')[0])\n",
    "        #print(cit, cft)\n",
    "        # Check if current it and ft were requested, otherwise skip\n",
    "        if (np.datetime64(cit) in ds_status.init_time.values) & (np.timedelta64(int_2_days_dict[cft]) in ds_status.fore_time.values):\n",
    "            # Always update the last 3 weeks (some models have lagg before we get them)\n",
    "            # Check if cit is one of the last NweeksUpdate init times in init_time\n",
    "            if (np.datetime64(cit) not in ds_status.init_time.values[-NweeksUpdate:]):\n",
    "                ds_status.status.loc[dict(init_time=cit, fore_time=int_2_days_dict[cft])] = 1\n",
    "\n",
    "\n",
    "    print(ds_status.status.values)\n",
    "\n",
    "    # Drop IC/FT for figures we have already made\n",
    "    ds_status = ds_status.where(ds_status.status.sum(dim='fore_time')<ds_status.fore_time.size, drop=True)\n",
    "\n",
    "    print('ds_status.init_time.values ',ds_status.init_time.values)\n",
    "    print('ds_status.fore_time.values ',ds_status.status.values)\n",
    "\n",
    "\n"
   ]
  },
  {
   "cell_type": "code",
   "execution_count": null,
   "metadata": {},
   "outputs": [],
   "source": []
  },
  {
   "cell_type": "code",
   "execution_count": null,
   "metadata": {},
   "outputs": [],
   "source": []
  },
  {
   "cell_type": "code",
   "execution_count": 13,
   "metadata": {},
   "outputs": [
    {
     "name": "stdout",
     "output_type": "stream",
     "text": [
      "(2, 3, 4, (6, 7), (8, 9), (10, 11), (12, 13), 15)\n"
     ]
    }
   ],
   "source": [
    "ds_region = xr.open_dataset(os.path.join(E.grid_dir, 'sio_2016_mask_Update.nc'))\n",
    "ds_region.region_names\n",
    "\n",
    "reg2plot = (2,3,4,6,7,8,9,10,11,12,13,15)\n",
    "# Okhotsk, Bering, Hudson, Baffin+E. Grn., Barents+Kara, Laptev+E. Sib., Chuk+Beauf, Central\n",
    "reg2plot = (2,3,4,(6,7),(8,9),(10,11),(12,13),15)\n",
    "\n",
    "print(reg2plot)"
   ]
  },
  {
   "cell_type": "code",
   "execution_count": null,
   "metadata": {},
   "outputs": [],
   "source": []
  },
  {
   "cell_type": "code",
   "execution_count": 14,
   "metadata": {},
   "outputs": [],
   "source": [
    "# make the set of key maps for the website, only need to do once\n",
    "Update = False\n",
    "\n",
    "if Update:\n",
    "    cvar = 'sic'\n",
    "    fig_dir = os.path.join(E.fig_dir, 'model', 'all_model', cvar, \"Regional_maps_NEW\")\n",
    "    for creg in np.arange(0,len(reg2plot),1):\n",
    "        crExt = ds_region.where(ds_region.mask.isin(reg2plot[creg]),other=0) #, drop=True)\n",
    "        #crExt = crExt.where(crExt<1, other=1)\n",
    "        #crExt = ds_region\n",
    "\n",
    "         # Mask out other areas to missing\n",
    "        #crExt = ds_region.where(ds_region.mask.isin(ds_region.ocean_regions))\n",
    "        crExt = crExt.where(ds_region.mask<20)\n",
    "        (f, ax1) = ice_plot.polar_axis()\n",
    "        f.set_size_inches(10, 5)\n",
    "        cmap_c = matplotlib.colors.ListedColormap(sns.color_palette(\"Purples\", 10))\n",
    "        cmap_c.set_bad(color = 'lightgrey')\n",
    "        c_vmin=0\n",
    "        c_vmax=1\n",
    "        p = crExt.mask.plot(ax=ax1,  x='lon', y='lat', cmap=cmap_c, vmin=c_vmin, vmax=c_vmax,\n",
    "                             transform=ccrs.PlateCarree(),add_colorbar=False);\n",
    "        #                                  'labels':mask_plot.region_names.sel(nregions=plot_regs)})\n",
    "        ax1.set_title('Region Map')\n",
    "        plt.tight_layout()\n",
    "\n",
    "        # Save to file\n",
    "        f_out = os.path.join(fig_dir,'keys/Region_'+str(creg)+'_key.png')\n",
    "        f.savefig(f_out,bbox_inches='tight', dpi=200)\n"
   ]
  },
  {
   "cell_type": "code",
   "execution_count": null,
   "metadata": {},
   "outputs": [],
   "source": []
  },
  {
   "cell_type": "code",
   "execution_count": null,
   "metadata": {},
   "outputs": [],
   "source": []
  },
  {
   "cell_type": "code",
   "execution_count": 15,
   "metadata": {},
   "outputs": [],
   "source": [
    "def Update_Regional_Maps():\n",
    "    \n",
    "    # Make requested dataArray as specified above\n",
    "    ds_status = xr.DataArray(np.ones((init_slice.size, da_slices.size))*np.NaN, \n",
    "                             dims=('init_time','fore_time'), \n",
    "                             coords={'init_time':init_slice,'fore_time':da_slices}) \n",
    "    ds_status.name = 'status'\n",
    "    ds_status = ds_status.to_dataset()\n",
    "\n",
    "\n",
    "    # Check what plots we already have\n",
    "    if not updateAll:\n",
    "        print(\"set status to 1 for figures we have already made, so we do not remake. Just make nans\")\n",
    "        ds_status = update_status(ds_status=ds_status, fig_dir=fig_dir, \n",
    "                                  int_2_days_dict=int_2_days_dict, \n",
    "                                  NweeksUpdate=NweeksUpdate)\n",
    "\n",
    "        print(ds_status.status.values)\n",
    "        # Drop IC/FT we have already plotted so we do not remake \n",
    "        ds_status = ds_status.where(ds_status.status.sum(dim='fore_time')<ds_status.fore_time.size, drop=True)\n",
    "\n",
    "    print(\"Starting plots...\")\n",
    "    # For each init_time we haven't plotted yet\n",
    "        \n",
    "    for it in ds_status.init_time.values: \n",
    "        start_time_cmod = timeit.default_timer()\n",
    "        print(it)\n",
    "        it_start = it-np.timedelta64(Ndays,'D') + np.timedelta64(1,'D') # Start period for init period (it is end of period). Add 1 day because when\n",
    "        # we select using slice(start,stop) it is inclusive of end points. So here we are defining the start of the init AND the start of the valid time.\n",
    "        # So we need to add one day, so we don't double count. \n",
    "\n",
    "        # For each forecast time we haven't plotted yet\n",
    "        ft_to_plot = ds_status.sel(init_time=it)\n",
    "        ft_to_plot = ft_to_plot.where(ft_to_plot.isnull(), drop=True).fore_time\n",
    "        \n",
    "        print('all forecast times to be plotted, ft_to_plot ',ft_to_plot.values)\n",
    "\n",
    "        for ft in ft_to_plot.values: \n",
    "\n",
    "            print('Processing forecast time: ',ft.astype('timedelta64[D]'))\n",
    "\n",
    "            ift = days_2_int_dict[ft] # index of ft\n",
    "            cs_str = format(days_2_int_dict[ft], '02') # Get index of current forcast week\n",
    "            week_str = format(iweek , '02') # Get string of current week\n",
    "            cdoy_end = pd.to_datetime(it + ft).timetuple().tm_yday # Get current day of year end for valid time\n",
    "            cdoy_start = pd.to_datetime(it_start + ft).timetuple().tm_yday  # Get current day of year end for valid time\n",
    "            it_yr = str(pd.to_datetime(it).year) \n",
    "            it_m = str(pd.to_datetime(it).month)\n",
    "\n",
    "            # Get datetime64 of valid time start and end\n",
    "            valid_start = it_start + ft\n",
    "            valid_end = it + ft\n",
    "            \n",
    "            print(ift)\n",
    "            #if ift<=0:\n",
    "            #    continue\n",
    "\n",
    "            models_2_plot=models_2_plot_master[ift]\n",
    "            print('models to plot ',models_2_plot)\n",
    "            # Get # of models and setup subplot dims\n",
    "            Nmod = len(models_2_plot) + 2  #(+3 for obs, MME, and clim)\n",
    "            Nc = int(np.floor(np.sqrt(Nmod)))\n",
    "            # Max number of columns == 5 (plots get too small otherwise)\n",
    "            Nc = 5 #np.min([Nc,5])\n",
    "            Nr = int(np.ceil((Nmod-1)/Nc))\n",
    "            print(Nr, Nc, Nmod)\n",
    "            assert Nc*Nr>=Nmod-1, 'Need more subplots'\n",
    "\n",
    "\n",
    "            # Loop through variable of interest + any metrics (i.e. SIP) based on that\n",
    "            for metric in metrics_all[cvar]:\n",
    "\n",
    "                # Set up plotting info\n",
    "                if cvar=='sic':\n",
    "                    if metric=='mean':\n",
    "                        cmap_c = matplotlib.colors.ListedColormap(sns.color_palette(\"Blues_r\", 10))\n",
    "                        cmap_c.set_bad(color = 'lightgrey')\n",
    "                        c_label = 'Sea Ice Concentration (-)'\n",
    "                        c_vmin = 0\n",
    "                        c_vmax = 1\n",
    "                    elif metric=='SIP':\n",
    "                        cmap_c = matplotlib.colors.LinearSegmentedColormap.from_list(\"\", [\"white\",\"orange\",\"red\",\"#990000\"])\n",
    "                        cmap_c.set_bad(color = 'lightgrey')\n",
    "                        c_label = 'Sea Ice Probability (-)'\n",
    "                        c_vmin = 0\n",
    "                        c_vmax = 1\n",
    "                    elif metric=='anomaly':\n",
    "#                         cmap_c = matplotlib.colors.ListedColormap(sns.color_palette(\"coolwarm\", 9))\n",
    "                        cmap_c = matplotlib.colors.LinearSegmentedColormap.from_list(\"\", [\"red\",\"white\",\"blue\"])\n",
    "                        cmap_c.set_bad(color = 'lightgrey')\n",
    "                        c_label = 'SIC Anomaly to 1980-2010 Mean'\n",
    "                        c_vmin = -1\n",
    "                        c_vmax = 1\n",
    "\n",
    "                elif cvar=='hi':\n",
    "                    if metric=='mean':\n",
    "                        cmap_c = matplotlib.colors.ListedColormap(sns.color_palette(\"Reds_r\", 10))\n",
    "                        cmap_c.set_bad(color = 'lightgrey')\n",
    "                        c_label = 'Sea Ice Thickness (m)'\n",
    "                        c_vmin = 0\n",
    "                        c_vmax = None\n",
    "                else:\n",
    "                    raise ValueError(\"cvar not found.\") \n",
    "\n",
    "\n",
    "                for cR in np.arange(0,len(reg2plot),1):\n",
    "\n",
    "                    # New Plot\n",
    "                    #start_time_plot = timeit.default_timer()\n",
    "\n",
    "                                    # Get regional extent to plot\n",
    "                    crExt = ds_region.where(ds_region.mask.isin(reg2plot[cR]), drop=True)[['xm','ym']]\n",
    "                    crExt = [crExt.xm.min().values, crExt.xm.max().values, \n",
    "                         crExt.ym.min().values, crExt.ym.max().values]\n",
    "                    crExt[2]=np.max([crExt[2],-3700000])\n",
    "\n",
    "\n",
    "                    # New Plot\n",
    "                    (f, axes) = ice_plot.multi_polar_axis(ncols=Nc, nrows=Nr, \n",
    "                                                  Nplots=Nmod, extent=crExt)\n",
    "\n",
    "\n",
    "                    ############################################################################\n",
    "                    #                               OBSERVATIONS                               #\n",
    "                    ############################################################################\n",
    "\n",
    "                    # Plot Obs (if available)\n",
    "                    ax_num = 0\n",
    "                    axes[ax_num].set_title('Observed', fontsize=10)\n",
    "\n",
    "                    try:\n",
    "                        da_obs_c = ds_ALL[metric].sel(model=b'Observed',init_end=it, fore_time=ft)\n",
    "                        #print('da_obs_c',da_obs_c)\n",
    "                        haveObs = True # we think there are obs...\n",
    "                    except KeyError:\n",
    "                        haveObs = False\n",
    "                                                \n",
    "                    rightnow = datetime.datetime.now()\n",
    "                    if valid_start > np.datetime64(rightnow):\n",
    "                        haveObs = False  # but we know there are no obs in the future...\n",
    "                        \n",
    "                    # another brute force method\n",
    "                    if haveObs:\n",
    "                        nonnancount = np.count_nonzero(~np.isnan(da_obs_c.values))\n",
    "                        if nonnancount == 0:\n",
    "                            haveObs = False  # no obs\n",
    "\n",
    "                    # If obs then plot\n",
    "                    if haveObs:\n",
    "                        #da_obs_c = da_obs_c.where(ds_region.mask.isin(reg2plot[cR]))\n",
    "                        da_obs_c.plot.pcolormesh(ax=axes[ax_num], x='lon', y='lat', \n",
    "                                              transform=ccrs.PlateCarree(),\n",
    "                                              add_colorbar=False,\n",
    "                                              cmap=cmap_c,\n",
    "                                              vmin=c_vmin, vmax=c_vmax)\n",
    "                        axes[ax_num].set_title('Observed', fontsize=10)     \n",
    "                    else: # When in the future (or obs are missing)\n",
    "                        #print('no obs avail yet')\n",
    "                        if metric=='SIP': # Plot this historical mean SIP \n",
    "                            print(\"plotting hist obs SIP\")\n",
    "                            da_obs_c = mean_1980_2010_SIP.isel(time=slice(cdoy_start,cdoy_end)).mean(dim='time')\n",
    "                            da_obs_c.plot.pcolormesh(ax=axes[ax_num], x='lon', y='lat', \n",
    "                              transform=ccrs.PlateCarree(),\n",
    "                              add_colorbar=False,\n",
    "                              cmap=cmap_c,\n",
    "                              vmin=c_vmin, vmax=c_vmax)\n",
    "                            axes[ax_num].set_title('Hist. Obs.', fontsize=10)\n",
    "                        else:\n",
    "                            textstr = 'Not Available'\n",
    "                            # these are matplotlib.patch.Patch properties\n",
    "                            props = dict(boxstyle='round', facecolor='white', alpha=0.5)\n",
    "\n",
    "                            # place a text box in upper left in axes coords\n",
    "                            axes[ax_num].text(0.075, 0.55, textstr, transform=axes[ax_num].transAxes, fontsize=8,\n",
    "                                    verticalalignment='top', bbox=props)\n",
    "\n",
    "                    ############################################################################\n",
    "                    #                    Plot all models                                       #\n",
    "                    ############################################################################\n",
    "                    p = {}\n",
    "                    for (i, cmod) in enumerate(models_2_plot):\n",
    "                        #print(cmod)\n",
    "                        i = i+1 # shift for obs\n",
    "                        axes[i].set_title(E.model[cmod]['model_label'], fontsize=10)\n",
    "\n",
    "                        # Select current model to plot\n",
    "                        try:\n",
    "                            ds_model = ds_ALL[metric].sel(model=cmod.encode('utf-8'),init_end=it, fore_time=ft)\n",
    "                            haveMod = True\n",
    "                        except:\n",
    "                            haveMod = False\n",
    "\n",
    "                        # another brute force method\n",
    "                        if haveMod:\n",
    "                            nonnancount = np.count_nonzero(~np.isnan(ds_model.values))\n",
    "                            if nonnancount == 0:\n",
    "                                haveMod = False  # no output\n",
    "                            \n",
    "                        # Plot\n",
    "                        if haveMod:\n",
    "                            # Select region\n",
    "                            # Lat and Long feilds have round off differences, so set to same here\n",
    "                            ds_model['lat'] = ds_region.lat\n",
    "                            ds_model['lon'] = ds_region.lon\n",
    "                            ds_model = ds_model.where(ds_region.mask<20, other = np.nan)\n",
    "                            #ds_model = ds_model.where(ds_region.mask.isin(reg2plot[cR]))\n",
    "\n",
    "                            p[i] = ds_model.plot.pcolormesh(ax=axes[i], x='lon', y='lat', \n",
    "                                              transform=ccrs.PlateCarree(),\n",
    "                                              add_colorbar=False,\n",
    "                                              cmap=cmap_c,\n",
    "                                              vmin=c_vmin, vmax=c_vmax)\n",
    "\n",
    "                            axes[i].set_title(E.model[cmod]['model_label'], fontsize=10)\n",
    "\n",
    "                            # Clean up for current model\n",
    "                            ds_model = None\n",
    "                            \n",
    "                        else:\n",
    "                            textstr = 'Not Available'\n",
    "                            # these are matplotlib.patch.Patch properties\n",
    "                            props = dict(boxstyle='round', facecolor='white', alpha=0.5)\n",
    "\n",
    "                            # place a text box in upper left in axes coords\n",
    "                            axes[i].text(0.075, 0.55, textstr, transform=axes[i].transAxes, fontsize=8,\n",
    "                                    verticalalignment='top', bbox=props)\n",
    "\n",
    "\n",
    "                    # Make pretty\n",
    "                    f.subplots_adjust(right=0.8)\n",
    "                    cbar_ax = f.add_axes([0.85, 0.12, 0.05, 0.7])\n",
    "                    if p: # if its not empty\n",
    "                        cbar = f.colorbar(next(iter(p.values())), cax=cbar_ax, label=c_label) # use first plot to gen colorbar\n",
    "                        if metric=='anomaly':\n",
    "                            cbar.set_ticks(np.arange(-1,1.1,0.2))\n",
    "                        else:\n",
    "                            cbar.set_ticks(np.arange(0,1.1,0.1))\n",
    "\n",
    "                    # Set title of all plots\n",
    "                    init_time_2 =  pd.to_datetime(it).strftime('%Y-%m-%d')\n",
    "                    init_time_1 =  pd.to_datetime(it_start).strftime('%Y-%m-%d')\n",
    "                    valid_time_2 = pd.to_datetime(it+ft).strftime('%Y-%m-%d')\n",
    "                    valid_time_1 = pd.to_datetime(it_start+ft).strftime('%Y-%m-%d')\n",
    "                    if ift<3: \n",
    "                        titlesize=15\n",
    "                    elif ift<5:\n",
    "                        titlesize=13\n",
    "                    else:\n",
    "                        titlesize=11\n",
    "                    plt.suptitle('Initialization Time: '+init_time_1+' to '+init_time_2+'\\n Valid Time: '+valid_time_1+' to '+valid_time_2,\n",
    "                                 fontsize=titlesize) # +'\\n Week '+week_str\n",
    "\n",
    "                    if (ift>4):\n",
    "                        plt.subplots_adjust(top=0.75)\n",
    "                    else:\n",
    "                        plt.subplots_adjust(top=0.85)\n",
    "\n",
    "                    # Save to file\n",
    "                    f_out = os.path.join(fig_dir,'Region_'+str(cR)+'_'+metric+'_'+runType+'_'+init_time_2+'_'+cs_str+'.png')\n",
    "                    f.savefig(f_out,bbox_inches='tight', dpi=200)\n",
    "                    print(\"saved \", f_out)\n",
    "                    #print(\"Figure took  \", (timeit.default_timer() - start_time_plot)/60, \" minutes.\")\n",
    "\n",
    "                    # Mem clean up\n",
    "                    p = None\n",
    "                    plt.close(f)\n",
    "                    da_obs_c = None\n",
    "\n",
    "                    #diehere\n",
    "\n",
    "            # loop over regions\n",
    "\n",
    "        # Done with current it\n",
    "        print(\"Took \", (timeit.default_timer() - start_time_cmod)/60, \" minutes.\")\n",
    "\n",
    "\n",
    "    # Update json file\n",
    "    json_format = get_figure_init_times(fig_dir)\n",
    "    json_dict = [{\"date\":cd,\"label\":cd} for cd in json_format]\n",
    "\n",
    "    json_f = os.path.join(fig_dir, 'plotdates_current.json')\n",
    "    with open(json_f, 'w') as outfile:\n",
    "        json.dump(json_dict, outfile)\n",
    "\n",
    "    # Make into Gifs\n",
    "    # TODO: make parallel, add &\n",
    "#    for cit in json_format:\n",
    "#        subprocess.call(str(\"/home/disk/sipn/nicway/python/ESIO/scripts/makeGif.sh \" + fig_dir + \" \" + cit), shell=True)\n",
    "\n",
    "    print(\"Finished plotting panArctic Maps.\")"
   ]
  },
  {
   "cell_type": "code",
   "execution_count": null,
   "metadata": {},
   "outputs": [],
   "source": []
  },
  {
   "cell_type": "code",
   "execution_count": null,
   "metadata": {},
   "outputs": [],
   "source": []
  },
  {
   "cell_type": "code",
   "execution_count": 16,
   "metadata": {},
   "outputs": [
    {
     "name": "stdout",
     "output_type": "stream",
     "text": [
      "Starting plots...\n",
      "2019-11-03T00:00:00.000000000\n",
      "all forecast times to be plotted, ft_to_plot  [                0   604800000000000  1209600000000000  1814400000000000\n",
      "  2419200000000000  5443200000000000  7862400000000000 10281600000000000\n",
      " 13305600000000000 15724800000000000]\n",
      "Processing forecast time:  0 days\n",
      "0\n",
      "models to plot  ['MME', 'climo10yrs', 'dampedAnomalyTrend', 'gfdlsipn', 'ukmetofficesipn', 'ecmwfsipn', 'meteofrsipn', 'usnavysipn', 'fgoalssipn', 'kma', 'ecmwf', 'metreofr', 'ukmo', 'ncep', 'usnavyncep', 'yopp', 'rasmesrl']\n",
      "4 5 19\n",
      "saved  /home/disk/sipn/nicway/public_html/sipn/figures/model/all_model/sic/Regional_maps_NEW/Region_0_anomaly_forecast_2019-11-03_00.png\n",
      "saved  /home/disk/sipn/nicway/public_html/sipn/figures/model/all_model/sic/Regional_maps_NEW/Region_1_anomaly_forecast_2019-11-03_00.png\n",
      "saved  /home/disk/sipn/nicway/public_html/sipn/figures/model/all_model/sic/Regional_maps_NEW/Region_2_anomaly_forecast_2019-11-03_00.png\n",
      "saved  /home/disk/sipn/nicway/public_html/sipn/figures/model/all_model/sic/Regional_maps_NEW/Region_3_anomaly_forecast_2019-11-03_00.png\n",
      "saved  /home/disk/sipn/nicway/public_html/sipn/figures/model/all_model/sic/Regional_maps_NEW/Region_4_anomaly_forecast_2019-11-03_00.png\n",
      "saved  /home/disk/sipn/nicway/public_html/sipn/figures/model/all_model/sic/Regional_maps_NEW/Region_5_anomaly_forecast_2019-11-03_00.png\n",
      "saved  /home/disk/sipn/nicway/public_html/sipn/figures/model/all_model/sic/Regional_maps_NEW/Region_6_anomaly_forecast_2019-11-03_00.png\n",
      "saved  /home/disk/sipn/nicway/public_html/sipn/figures/model/all_model/sic/Regional_maps_NEW/Region_7_anomaly_forecast_2019-11-03_00.png\n",
      "saved  /home/disk/sipn/nicway/public_html/sipn/figures/model/all_model/sic/Regional_maps_NEW/Region_0_mean_forecast_2019-11-03_00.png\n",
      "saved  /home/disk/sipn/nicway/public_html/sipn/figures/model/all_model/sic/Regional_maps_NEW/Region_1_mean_forecast_2019-11-03_00.png\n",
      "saved  /home/disk/sipn/nicway/public_html/sipn/figures/model/all_model/sic/Regional_maps_NEW/Region_2_mean_forecast_2019-11-03_00.png\n",
      "saved  /home/disk/sipn/nicway/public_html/sipn/figures/model/all_model/sic/Regional_maps_NEW/Region_3_mean_forecast_2019-11-03_00.png\n",
      "saved  /home/disk/sipn/nicway/public_html/sipn/figures/model/all_model/sic/Regional_maps_NEW/Region_4_mean_forecast_2019-11-03_00.png\n",
      "saved  /home/disk/sipn/nicway/public_html/sipn/figures/model/all_model/sic/Regional_maps_NEW/Region_5_mean_forecast_2019-11-03_00.png\n",
      "saved  /home/disk/sipn/nicway/public_html/sipn/figures/model/all_model/sic/Regional_maps_NEW/Region_6_mean_forecast_2019-11-03_00.png\n",
      "saved  /home/disk/sipn/nicway/public_html/sipn/figures/model/all_model/sic/Regional_maps_NEW/Region_7_mean_forecast_2019-11-03_00.png\n",
      "saved  /home/disk/sipn/nicway/public_html/sipn/figures/model/all_model/sic/Regional_maps_NEW/Region_0_SIP_forecast_2019-11-03_00.png\n",
      "saved  /home/disk/sipn/nicway/public_html/sipn/figures/model/all_model/sic/Regional_maps_NEW/Region_1_SIP_forecast_2019-11-03_00.png\n",
      "saved  /home/disk/sipn/nicway/public_html/sipn/figures/model/all_model/sic/Regional_maps_NEW/Region_2_SIP_forecast_2019-11-03_00.png\n",
      "saved  /home/disk/sipn/nicway/public_html/sipn/figures/model/all_model/sic/Regional_maps_NEW/Region_3_SIP_forecast_2019-11-03_00.png\n",
      "saved  /home/disk/sipn/nicway/public_html/sipn/figures/model/all_model/sic/Regional_maps_NEW/Region_4_SIP_forecast_2019-11-03_00.png\n",
      "saved  /home/disk/sipn/nicway/public_html/sipn/figures/model/all_model/sic/Regional_maps_NEW/Region_5_SIP_forecast_2019-11-03_00.png\n",
      "saved  /home/disk/sipn/nicway/public_html/sipn/figures/model/all_model/sic/Regional_maps_NEW/Region_6_SIP_forecast_2019-11-03_00.png\n",
      "saved  /home/disk/sipn/nicway/public_html/sipn/figures/model/all_model/sic/Regional_maps_NEW/Region_7_SIP_forecast_2019-11-03_00.png\n",
      "Processing forecast time:  7 days\n",
      "1\n",
      "models to plot  ['MME', 'climo10yrs', 'dampedAnomalyTrend', 'gfdlsipn', 'ukmetofficesipn', 'ecmwfsipn', 'meteofrsipn', 'usnavysipn', 'fgoalssipn', 'kma', 'ecmwf', 'metreofr', 'ukmo', 'ncep', 'usnavyncep', 'yopp', 'rasmesrl']\n",
      "4 5 19\n",
      "saved  /home/disk/sipn/nicway/public_html/sipn/figures/model/all_model/sic/Regional_maps_NEW/Region_0_anomaly_forecast_2019-11-03_01.png\n",
      "saved  /home/disk/sipn/nicway/public_html/sipn/figures/model/all_model/sic/Regional_maps_NEW/Region_1_anomaly_forecast_2019-11-03_01.png\n",
      "saved  /home/disk/sipn/nicway/public_html/sipn/figures/model/all_model/sic/Regional_maps_NEW/Region_2_anomaly_forecast_2019-11-03_01.png\n",
      "saved  /home/disk/sipn/nicway/public_html/sipn/figures/model/all_model/sic/Regional_maps_NEW/Region_3_anomaly_forecast_2019-11-03_01.png\n",
      "saved  /home/disk/sipn/nicway/public_html/sipn/figures/model/all_model/sic/Regional_maps_NEW/Region_4_anomaly_forecast_2019-11-03_01.png\n",
      "saved  /home/disk/sipn/nicway/public_html/sipn/figures/model/all_model/sic/Regional_maps_NEW/Region_5_anomaly_forecast_2019-11-03_01.png\n",
      "saved  /home/disk/sipn/nicway/public_html/sipn/figures/model/all_model/sic/Regional_maps_NEW/Region_6_anomaly_forecast_2019-11-03_01.png\n",
      "saved  /home/disk/sipn/nicway/public_html/sipn/figures/model/all_model/sic/Regional_maps_NEW/Region_7_anomaly_forecast_2019-11-03_01.png\n",
      "saved  /home/disk/sipn/nicway/public_html/sipn/figures/model/all_model/sic/Regional_maps_NEW/Region_0_mean_forecast_2019-11-03_01.png\n",
      "saved  /home/disk/sipn/nicway/public_html/sipn/figures/model/all_model/sic/Regional_maps_NEW/Region_1_mean_forecast_2019-11-03_01.png\n",
      "saved  /home/disk/sipn/nicway/public_html/sipn/figures/model/all_model/sic/Regional_maps_NEW/Region_2_mean_forecast_2019-11-03_01.png\n",
      "saved  /home/disk/sipn/nicway/public_html/sipn/figures/model/all_model/sic/Regional_maps_NEW/Region_3_mean_forecast_2019-11-03_01.png\n",
      "saved  /home/disk/sipn/nicway/public_html/sipn/figures/model/all_model/sic/Regional_maps_NEW/Region_4_mean_forecast_2019-11-03_01.png\n",
      "saved  /home/disk/sipn/nicway/public_html/sipn/figures/model/all_model/sic/Regional_maps_NEW/Region_5_mean_forecast_2019-11-03_01.png\n",
      "saved  /home/disk/sipn/nicway/public_html/sipn/figures/model/all_model/sic/Regional_maps_NEW/Region_6_mean_forecast_2019-11-03_01.png\n",
      "saved  /home/disk/sipn/nicway/public_html/sipn/figures/model/all_model/sic/Regional_maps_NEW/Region_7_mean_forecast_2019-11-03_01.png\n",
      "saved  /home/disk/sipn/nicway/public_html/sipn/figures/model/all_model/sic/Regional_maps_NEW/Region_0_SIP_forecast_2019-11-03_01.png\n",
      "saved  /home/disk/sipn/nicway/public_html/sipn/figures/model/all_model/sic/Regional_maps_NEW/Region_1_SIP_forecast_2019-11-03_01.png\n",
      "saved  /home/disk/sipn/nicway/public_html/sipn/figures/model/all_model/sic/Regional_maps_NEW/Region_2_SIP_forecast_2019-11-03_01.png\n",
      "saved  /home/disk/sipn/nicway/public_html/sipn/figures/model/all_model/sic/Regional_maps_NEW/Region_3_SIP_forecast_2019-11-03_01.png\n",
      "saved  /home/disk/sipn/nicway/public_html/sipn/figures/model/all_model/sic/Regional_maps_NEW/Region_4_SIP_forecast_2019-11-03_01.png\n",
      "saved  /home/disk/sipn/nicway/public_html/sipn/figures/model/all_model/sic/Regional_maps_NEW/Region_5_SIP_forecast_2019-11-03_01.png\n",
      "saved  /home/disk/sipn/nicway/public_html/sipn/figures/model/all_model/sic/Regional_maps_NEW/Region_6_SIP_forecast_2019-11-03_01.png\n",
      "saved  /home/disk/sipn/nicway/public_html/sipn/figures/model/all_model/sic/Regional_maps_NEW/Region_7_SIP_forecast_2019-11-03_01.png\n",
      "Processing forecast time:  14 days\n",
      "2\n",
      "models to plot  ['MME', 'climo10yrs', 'dampedAnomalyTrend', 'gfdlsipn', 'ukmetofficesipn', 'ecmwfsipn', 'meteofrsipn', 'usnavysipn', 'fgoalssipn', 'kma', 'ecmwf', 'metreofr', 'ukmo', 'ncep', 'usnavyncep', 'yopp', 'rasmesrl']\n",
      "4 5 19\n",
      "saved  /home/disk/sipn/nicway/public_html/sipn/figures/model/all_model/sic/Regional_maps_NEW/Region_0_anomaly_forecast_2019-11-03_02.png\n",
      "saved  /home/disk/sipn/nicway/public_html/sipn/figures/model/all_model/sic/Regional_maps_NEW/Region_1_anomaly_forecast_2019-11-03_02.png\n",
      "saved  /home/disk/sipn/nicway/public_html/sipn/figures/model/all_model/sic/Regional_maps_NEW/Region_2_anomaly_forecast_2019-11-03_02.png\n",
      "saved  /home/disk/sipn/nicway/public_html/sipn/figures/model/all_model/sic/Regional_maps_NEW/Region_3_anomaly_forecast_2019-11-03_02.png\n",
      "saved  /home/disk/sipn/nicway/public_html/sipn/figures/model/all_model/sic/Regional_maps_NEW/Region_4_anomaly_forecast_2019-11-03_02.png\n"
     ]
    },
    {
     "name": "stdout",
     "output_type": "stream",
     "text": [
      "saved  /home/disk/sipn/nicway/public_html/sipn/figures/model/all_model/sic/Regional_maps_NEW/Region_5_anomaly_forecast_2019-11-03_02.png\n",
      "saved  /home/disk/sipn/nicway/public_html/sipn/figures/model/all_model/sic/Regional_maps_NEW/Region_6_anomaly_forecast_2019-11-03_02.png\n",
      "saved  /home/disk/sipn/nicway/public_html/sipn/figures/model/all_model/sic/Regional_maps_NEW/Region_7_anomaly_forecast_2019-11-03_02.png\n",
      "saved  /home/disk/sipn/nicway/public_html/sipn/figures/model/all_model/sic/Regional_maps_NEW/Region_0_mean_forecast_2019-11-03_02.png\n",
      "saved  /home/disk/sipn/nicway/public_html/sipn/figures/model/all_model/sic/Regional_maps_NEW/Region_1_mean_forecast_2019-11-03_02.png\n",
      "saved  /home/disk/sipn/nicway/public_html/sipn/figures/model/all_model/sic/Regional_maps_NEW/Region_2_mean_forecast_2019-11-03_02.png\n",
      "saved  /home/disk/sipn/nicway/public_html/sipn/figures/model/all_model/sic/Regional_maps_NEW/Region_3_mean_forecast_2019-11-03_02.png\n",
      "saved  /home/disk/sipn/nicway/public_html/sipn/figures/model/all_model/sic/Regional_maps_NEW/Region_4_mean_forecast_2019-11-03_02.png\n",
      "saved  /home/disk/sipn/nicway/public_html/sipn/figures/model/all_model/sic/Regional_maps_NEW/Region_5_mean_forecast_2019-11-03_02.png\n",
      "saved  /home/disk/sipn/nicway/public_html/sipn/figures/model/all_model/sic/Regional_maps_NEW/Region_6_mean_forecast_2019-11-03_02.png\n",
      "saved  /home/disk/sipn/nicway/public_html/sipn/figures/model/all_model/sic/Regional_maps_NEW/Region_7_mean_forecast_2019-11-03_02.png\n",
      "saved  /home/disk/sipn/nicway/public_html/sipn/figures/model/all_model/sic/Regional_maps_NEW/Region_0_SIP_forecast_2019-11-03_02.png\n",
      "saved  /home/disk/sipn/nicway/public_html/sipn/figures/model/all_model/sic/Regional_maps_NEW/Region_1_SIP_forecast_2019-11-03_02.png\n",
      "saved  /home/disk/sipn/nicway/public_html/sipn/figures/model/all_model/sic/Regional_maps_NEW/Region_2_SIP_forecast_2019-11-03_02.png\n",
      "saved  /home/disk/sipn/nicway/public_html/sipn/figures/model/all_model/sic/Regional_maps_NEW/Region_3_SIP_forecast_2019-11-03_02.png\n",
      "saved  /home/disk/sipn/nicway/public_html/sipn/figures/model/all_model/sic/Regional_maps_NEW/Region_4_SIP_forecast_2019-11-03_02.png\n",
      "saved  /home/disk/sipn/nicway/public_html/sipn/figures/model/all_model/sic/Regional_maps_NEW/Region_5_SIP_forecast_2019-11-03_02.png\n",
      "saved  /home/disk/sipn/nicway/public_html/sipn/figures/model/all_model/sic/Regional_maps_NEW/Region_6_SIP_forecast_2019-11-03_02.png\n",
      "saved  /home/disk/sipn/nicway/public_html/sipn/figures/model/all_model/sic/Regional_maps_NEW/Region_7_SIP_forecast_2019-11-03_02.png\n",
      "Processing forecast time:  21 days\n",
      "3\n",
      "models to plot  ['MME', 'climo10yrs', 'dampedAnomalyTrend', 'gfdlsipn', 'ukmetofficesipn', 'ecmwfsipn', 'meteofrsipn', 'usnavysipn', 'fgoalssipn', 'kma', 'ecmwf', 'metreofr', 'ukmo', 'ncep', 'usnavyncep']\n",
      "4 5 17\n",
      "saved  /home/disk/sipn/nicway/public_html/sipn/figures/model/all_model/sic/Regional_maps_NEW/Region_0_anomaly_forecast_2019-11-03_03.png\n",
      "saved  /home/disk/sipn/nicway/public_html/sipn/figures/model/all_model/sic/Regional_maps_NEW/Region_1_anomaly_forecast_2019-11-03_03.png\n",
      "saved  /home/disk/sipn/nicway/public_html/sipn/figures/model/all_model/sic/Regional_maps_NEW/Region_2_anomaly_forecast_2019-11-03_03.png\n",
      "saved  /home/disk/sipn/nicway/public_html/sipn/figures/model/all_model/sic/Regional_maps_NEW/Region_3_anomaly_forecast_2019-11-03_03.png\n",
      "saved  /home/disk/sipn/nicway/public_html/sipn/figures/model/all_model/sic/Regional_maps_NEW/Region_4_anomaly_forecast_2019-11-03_03.png\n",
      "saved  /home/disk/sipn/nicway/public_html/sipn/figures/model/all_model/sic/Regional_maps_NEW/Region_5_anomaly_forecast_2019-11-03_03.png\n",
      "saved  /home/disk/sipn/nicway/public_html/sipn/figures/model/all_model/sic/Regional_maps_NEW/Region_6_anomaly_forecast_2019-11-03_03.png\n",
      "saved  /home/disk/sipn/nicway/public_html/sipn/figures/model/all_model/sic/Regional_maps_NEW/Region_7_anomaly_forecast_2019-11-03_03.png\n",
      "saved  /home/disk/sipn/nicway/public_html/sipn/figures/model/all_model/sic/Regional_maps_NEW/Region_0_mean_forecast_2019-11-03_03.png\n",
      "saved  /home/disk/sipn/nicway/public_html/sipn/figures/model/all_model/sic/Regional_maps_NEW/Region_1_mean_forecast_2019-11-03_03.png\n",
      "saved  /home/disk/sipn/nicway/public_html/sipn/figures/model/all_model/sic/Regional_maps_NEW/Region_2_mean_forecast_2019-11-03_03.png\n",
      "saved  /home/disk/sipn/nicway/public_html/sipn/figures/model/all_model/sic/Regional_maps_NEW/Region_3_mean_forecast_2019-11-03_03.png\n",
      "saved  /home/disk/sipn/nicway/public_html/sipn/figures/model/all_model/sic/Regional_maps_NEW/Region_4_mean_forecast_2019-11-03_03.png\n",
      "saved  /home/disk/sipn/nicway/public_html/sipn/figures/model/all_model/sic/Regional_maps_NEW/Region_5_mean_forecast_2019-11-03_03.png\n",
      "saved  /home/disk/sipn/nicway/public_html/sipn/figures/model/all_model/sic/Regional_maps_NEW/Region_6_mean_forecast_2019-11-03_03.png\n",
      "saved  /home/disk/sipn/nicway/public_html/sipn/figures/model/all_model/sic/Regional_maps_NEW/Region_7_mean_forecast_2019-11-03_03.png\n",
      "plotting hist obs SIP\n"
     ]
    },
    {
     "name": "stderr",
     "output_type": "stream",
     "text": [
      "/home/disk/sipn/nicway/anaconda3/envs/esio/lib/python3.6/site-packages/xarray/core/nanops.py:161: RuntimeWarning: Mean of empty slice\n",
      "  return np.nanmean(a, axis=axis, dtype=dtype)\n"
     ]
    },
    {
     "name": "stdout",
     "output_type": "stream",
     "text": [
      "saved  /home/disk/sipn/nicway/public_html/sipn/figures/model/all_model/sic/Regional_maps_NEW/Region_0_SIP_forecast_2019-11-03_03.png\n",
      "plotting hist obs SIP\n"
     ]
    },
    {
     "name": "stderr",
     "output_type": "stream",
     "text": [
      "/home/disk/sipn/nicway/anaconda3/envs/esio/lib/python3.6/site-packages/xarray/core/nanops.py:161: RuntimeWarning: Mean of empty slice\n",
      "  return np.nanmean(a, axis=axis, dtype=dtype)\n"
     ]
    },
    {
     "name": "stdout",
     "output_type": "stream",
     "text": [
      "saved  /home/disk/sipn/nicway/public_html/sipn/figures/model/all_model/sic/Regional_maps_NEW/Region_1_SIP_forecast_2019-11-03_03.png\n",
      "plotting hist obs SIP\n"
     ]
    },
    {
     "name": "stderr",
     "output_type": "stream",
     "text": [
      "/home/disk/sipn/nicway/anaconda3/envs/esio/lib/python3.6/site-packages/xarray/core/nanops.py:161: RuntimeWarning: Mean of empty slice\n",
      "  return np.nanmean(a, axis=axis, dtype=dtype)\n"
     ]
    },
    {
     "name": "stdout",
     "output_type": "stream",
     "text": [
      "saved  /home/disk/sipn/nicway/public_html/sipn/figures/model/all_model/sic/Regional_maps_NEW/Region_2_SIP_forecast_2019-11-03_03.png\n",
      "plotting hist obs SIP\n"
     ]
    },
    {
     "name": "stderr",
     "output_type": "stream",
     "text": [
      "/home/disk/sipn/nicway/anaconda3/envs/esio/lib/python3.6/site-packages/xarray/core/nanops.py:161: RuntimeWarning: Mean of empty slice\n",
      "  return np.nanmean(a, axis=axis, dtype=dtype)\n"
     ]
    },
    {
     "name": "stdout",
     "output_type": "stream",
     "text": [
      "saved  /home/disk/sipn/nicway/public_html/sipn/figures/model/all_model/sic/Regional_maps_NEW/Region_3_SIP_forecast_2019-11-03_03.png\n",
      "plotting hist obs SIP\n"
     ]
    },
    {
     "name": "stderr",
     "output_type": "stream",
     "text": [
      "/home/disk/sipn/nicway/anaconda3/envs/esio/lib/python3.6/site-packages/xarray/core/nanops.py:161: RuntimeWarning: Mean of empty slice\n",
      "  return np.nanmean(a, axis=axis, dtype=dtype)\n"
     ]
    },
    {
     "name": "stdout",
     "output_type": "stream",
     "text": [
      "saved  /home/disk/sipn/nicway/public_html/sipn/figures/model/all_model/sic/Regional_maps_NEW/Region_4_SIP_forecast_2019-11-03_03.png\n",
      "plotting hist obs SIP\n"
     ]
    },
    {
     "name": "stderr",
     "output_type": "stream",
     "text": [
      "/home/disk/sipn/nicway/anaconda3/envs/esio/lib/python3.6/site-packages/xarray/core/nanops.py:161: RuntimeWarning: Mean of empty slice\n",
      "  return np.nanmean(a, axis=axis, dtype=dtype)\n"
     ]
    },
    {
     "name": "stdout",
     "output_type": "stream",
     "text": [
      "saved  /home/disk/sipn/nicway/public_html/sipn/figures/model/all_model/sic/Regional_maps_NEW/Region_5_SIP_forecast_2019-11-03_03.png\n",
      "plotting hist obs SIP\n"
     ]
    },
    {
     "name": "stderr",
     "output_type": "stream",
     "text": [
      "/home/disk/sipn/nicway/anaconda3/envs/esio/lib/python3.6/site-packages/xarray/core/nanops.py:161: RuntimeWarning: Mean of empty slice\n",
      "  return np.nanmean(a, axis=axis, dtype=dtype)\n"
     ]
    },
    {
     "name": "stdout",
     "output_type": "stream",
     "text": [
      "saved  /home/disk/sipn/nicway/public_html/sipn/figures/model/all_model/sic/Regional_maps_NEW/Region_6_SIP_forecast_2019-11-03_03.png\n",
      "plotting hist obs SIP\n"
     ]
    },
    {
     "name": "stderr",
     "output_type": "stream",
     "text": [
      "/home/disk/sipn/nicway/anaconda3/envs/esio/lib/python3.6/site-packages/xarray/core/nanops.py:161: RuntimeWarning: Mean of empty slice\n",
      "  return np.nanmean(a, axis=axis, dtype=dtype)\n"
     ]
    },
    {
     "name": "stdout",
     "output_type": "stream",
     "text": [
      "saved  /home/disk/sipn/nicway/public_html/sipn/figures/model/all_model/sic/Regional_maps_NEW/Region_7_SIP_forecast_2019-11-03_03.png\n",
      "Processing forecast time:  28 days\n",
      "4\n",
      "models to plot  ['MME', 'climo10yrs', 'dampedAnomalyTrend', 'gfdlsipn', 'ukmetofficesipn', 'ecmwfsipn', 'meteofrsipn', 'usnavysipn', 'fgoalssipn', 'kma', 'ecmwf', 'metreofr', 'ukmo', 'ncep']\n",
      "3 5 16\n",
      "saved  /home/disk/sipn/nicway/public_html/sipn/figures/model/all_model/sic/Regional_maps_NEW/Region_0_anomaly_forecast_2019-11-03_04.png\n",
      "saved  /home/disk/sipn/nicway/public_html/sipn/figures/model/all_model/sic/Regional_maps_NEW/Region_1_anomaly_forecast_2019-11-03_04.png\n",
      "saved  /home/disk/sipn/nicway/public_html/sipn/figures/model/all_model/sic/Regional_maps_NEW/Region_2_anomaly_forecast_2019-11-03_04.png\n",
      "saved  /home/disk/sipn/nicway/public_html/sipn/figures/model/all_model/sic/Regional_maps_NEW/Region_3_anomaly_forecast_2019-11-03_04.png\n",
      "saved  /home/disk/sipn/nicway/public_html/sipn/figures/model/all_model/sic/Regional_maps_NEW/Region_4_anomaly_forecast_2019-11-03_04.png\n",
      "saved  /home/disk/sipn/nicway/public_html/sipn/figures/model/all_model/sic/Regional_maps_NEW/Region_5_anomaly_forecast_2019-11-03_04.png\n",
      "saved  /home/disk/sipn/nicway/public_html/sipn/figures/model/all_model/sic/Regional_maps_NEW/Region_6_anomaly_forecast_2019-11-03_04.png\n",
      "saved  /home/disk/sipn/nicway/public_html/sipn/figures/model/all_model/sic/Regional_maps_NEW/Region_7_anomaly_forecast_2019-11-03_04.png\n",
      "saved  /home/disk/sipn/nicway/public_html/sipn/figures/model/all_model/sic/Regional_maps_NEW/Region_0_mean_forecast_2019-11-03_04.png\n",
      "saved  /home/disk/sipn/nicway/public_html/sipn/figures/model/all_model/sic/Regional_maps_NEW/Region_1_mean_forecast_2019-11-03_04.png\n",
      "saved  /home/disk/sipn/nicway/public_html/sipn/figures/model/all_model/sic/Regional_maps_NEW/Region_2_mean_forecast_2019-11-03_04.png\n",
      "saved  /home/disk/sipn/nicway/public_html/sipn/figures/model/all_model/sic/Regional_maps_NEW/Region_3_mean_forecast_2019-11-03_04.png\n",
      "saved  /home/disk/sipn/nicway/public_html/sipn/figures/model/all_model/sic/Regional_maps_NEW/Region_4_mean_forecast_2019-11-03_04.png\n",
      "saved  /home/disk/sipn/nicway/public_html/sipn/figures/model/all_model/sic/Regional_maps_NEW/Region_5_mean_forecast_2019-11-03_04.png\n",
      "saved  /home/disk/sipn/nicway/public_html/sipn/figures/model/all_model/sic/Regional_maps_NEW/Region_6_mean_forecast_2019-11-03_04.png\n",
      "saved  /home/disk/sipn/nicway/public_html/sipn/figures/model/all_model/sic/Regional_maps_NEW/Region_7_mean_forecast_2019-11-03_04.png\n",
      "plotting hist obs SIP\n"
     ]
    },
    {
     "name": "stderr",
     "output_type": "stream",
     "text": [
      "/home/disk/sipn/nicway/anaconda3/envs/esio/lib/python3.6/site-packages/xarray/core/nanops.py:161: RuntimeWarning: Mean of empty slice\n",
      "  return np.nanmean(a, axis=axis, dtype=dtype)\n"
     ]
    },
    {
     "name": "stdout",
     "output_type": "stream",
     "text": [
      "saved  /home/disk/sipn/nicway/public_html/sipn/figures/model/all_model/sic/Regional_maps_NEW/Region_0_SIP_forecast_2019-11-03_04.png\n",
      "plotting hist obs SIP\n"
     ]
    },
    {
     "name": "stderr",
     "output_type": "stream",
     "text": [
      "/home/disk/sipn/nicway/anaconda3/envs/esio/lib/python3.6/site-packages/xarray/core/nanops.py:161: RuntimeWarning: Mean of empty slice\n",
      "  return np.nanmean(a, axis=axis, dtype=dtype)\n"
     ]
    },
    {
     "name": "stdout",
     "output_type": "stream",
     "text": [
      "saved  /home/disk/sipn/nicway/public_html/sipn/figures/model/all_model/sic/Regional_maps_NEW/Region_1_SIP_forecast_2019-11-03_04.png\n",
      "plotting hist obs SIP\n"
     ]
    },
    {
     "name": "stderr",
     "output_type": "stream",
     "text": [
      "/home/disk/sipn/nicway/anaconda3/envs/esio/lib/python3.6/site-packages/xarray/core/nanops.py:161: RuntimeWarning: Mean of empty slice\n",
      "  return np.nanmean(a, axis=axis, dtype=dtype)\n"
     ]
    },
    {
     "name": "stdout",
     "output_type": "stream",
     "text": [
      "saved  /home/disk/sipn/nicway/public_html/sipn/figures/model/all_model/sic/Regional_maps_NEW/Region_2_SIP_forecast_2019-11-03_04.png\n",
      "plotting hist obs SIP\n"
     ]
    },
    {
     "name": "stderr",
     "output_type": "stream",
     "text": [
      "/home/disk/sipn/nicway/anaconda3/envs/esio/lib/python3.6/site-packages/xarray/core/nanops.py:161: RuntimeWarning: Mean of empty slice\n",
      "  return np.nanmean(a, axis=axis, dtype=dtype)\n"
     ]
    },
    {
     "name": "stdout",
     "output_type": "stream",
     "text": [
      "saved  /home/disk/sipn/nicway/public_html/sipn/figures/model/all_model/sic/Regional_maps_NEW/Region_3_SIP_forecast_2019-11-03_04.png\n",
      "plotting hist obs SIP\n"
     ]
    },
    {
     "name": "stderr",
     "output_type": "stream",
     "text": [
      "/home/disk/sipn/nicway/anaconda3/envs/esio/lib/python3.6/site-packages/xarray/core/nanops.py:161: RuntimeWarning: Mean of empty slice\n",
      "  return np.nanmean(a, axis=axis, dtype=dtype)\n"
     ]
    },
    {
     "name": "stdout",
     "output_type": "stream",
     "text": [
      "saved  /home/disk/sipn/nicway/public_html/sipn/figures/model/all_model/sic/Regional_maps_NEW/Region_4_SIP_forecast_2019-11-03_04.png\n",
      "plotting hist obs SIP\n"
     ]
    },
    {
     "name": "stderr",
     "output_type": "stream",
     "text": [
      "/home/disk/sipn/nicway/anaconda3/envs/esio/lib/python3.6/site-packages/xarray/core/nanops.py:161: RuntimeWarning: Mean of empty slice\n",
      "  return np.nanmean(a, axis=axis, dtype=dtype)\n"
     ]
    },
    {
     "name": "stdout",
     "output_type": "stream",
     "text": [
      "saved  /home/disk/sipn/nicway/public_html/sipn/figures/model/all_model/sic/Regional_maps_NEW/Region_5_SIP_forecast_2019-11-03_04.png\n",
      "plotting hist obs SIP\n"
     ]
    },
    {
     "name": "stderr",
     "output_type": "stream",
     "text": [
      "/home/disk/sipn/nicway/anaconda3/envs/esio/lib/python3.6/site-packages/xarray/core/nanops.py:161: RuntimeWarning: Mean of empty slice\n",
      "  return np.nanmean(a, axis=axis, dtype=dtype)\n"
     ]
    },
    {
     "name": "stdout",
     "output_type": "stream",
     "text": [
      "saved  /home/disk/sipn/nicway/public_html/sipn/figures/model/all_model/sic/Regional_maps_NEW/Region_6_SIP_forecast_2019-11-03_04.png\n",
      "plotting hist obs SIP\n"
     ]
    },
    {
     "name": "stderr",
     "output_type": "stream",
     "text": [
      "/home/disk/sipn/nicway/anaconda3/envs/esio/lib/python3.6/site-packages/xarray/core/nanops.py:161: RuntimeWarning: Mean of empty slice\n",
      "  return np.nanmean(a, axis=axis, dtype=dtype)\n"
     ]
    },
    {
     "name": "stdout",
     "output_type": "stream",
     "text": [
      "saved  /home/disk/sipn/nicway/public_html/sipn/figures/model/all_model/sic/Regional_maps_NEW/Region_7_SIP_forecast_2019-11-03_04.png\n",
      "Processing forecast time:  63 days\n",
      "5\n",
      "models to plot  ['MME', 'climo10yrs', 'dampedAnomalyTrend', 'gfdlsipn', 'ukmetofficesipn', 'ecmwfsipn', 'meteofrsipn', 'usnavysipn', 'fgoalssipn']\n",
      "2 5 11\n",
      "saved  /home/disk/sipn/nicway/public_html/sipn/figures/model/all_model/sic/Regional_maps_NEW/Region_0_anomaly_forecast_2019-11-03_05.png\n",
      "saved  /home/disk/sipn/nicway/public_html/sipn/figures/model/all_model/sic/Regional_maps_NEW/Region_1_anomaly_forecast_2019-11-03_05.png\n",
      "saved  /home/disk/sipn/nicway/public_html/sipn/figures/model/all_model/sic/Regional_maps_NEW/Region_2_anomaly_forecast_2019-11-03_05.png\n",
      "saved  /home/disk/sipn/nicway/public_html/sipn/figures/model/all_model/sic/Regional_maps_NEW/Region_3_anomaly_forecast_2019-11-03_05.png\n",
      "saved  /home/disk/sipn/nicway/public_html/sipn/figures/model/all_model/sic/Regional_maps_NEW/Region_4_anomaly_forecast_2019-11-03_05.png\n",
      "saved  /home/disk/sipn/nicway/public_html/sipn/figures/model/all_model/sic/Regional_maps_NEW/Region_5_anomaly_forecast_2019-11-03_05.png\n",
      "saved  /home/disk/sipn/nicway/public_html/sipn/figures/model/all_model/sic/Regional_maps_NEW/Region_6_anomaly_forecast_2019-11-03_05.png\n",
      "saved  /home/disk/sipn/nicway/public_html/sipn/figures/model/all_model/sic/Regional_maps_NEW/Region_7_anomaly_forecast_2019-11-03_05.png\n",
      "saved  /home/disk/sipn/nicway/public_html/sipn/figures/model/all_model/sic/Regional_maps_NEW/Region_0_mean_forecast_2019-11-03_05.png\n",
      "saved  /home/disk/sipn/nicway/public_html/sipn/figures/model/all_model/sic/Regional_maps_NEW/Region_1_mean_forecast_2019-11-03_05.png\n",
      "saved  /home/disk/sipn/nicway/public_html/sipn/figures/model/all_model/sic/Regional_maps_NEW/Region_2_mean_forecast_2019-11-03_05.png\n",
      "saved  /home/disk/sipn/nicway/public_html/sipn/figures/model/all_model/sic/Regional_maps_NEW/Region_3_mean_forecast_2019-11-03_05.png\n",
      "saved  /home/disk/sipn/nicway/public_html/sipn/figures/model/all_model/sic/Regional_maps_NEW/Region_4_mean_forecast_2019-11-03_05.png\n",
      "saved  /home/disk/sipn/nicway/public_html/sipn/figures/model/all_model/sic/Regional_maps_NEW/Region_5_mean_forecast_2019-11-03_05.png\n",
      "saved  /home/disk/sipn/nicway/public_html/sipn/figures/model/all_model/sic/Regional_maps_NEW/Region_6_mean_forecast_2019-11-03_05.png\n",
      "saved  /home/disk/sipn/nicway/public_html/sipn/figures/model/all_model/sic/Regional_maps_NEW/Region_7_mean_forecast_2019-11-03_05.png\n",
      "plotting hist obs SIP\n"
     ]
    },
    {
     "name": "stderr",
     "output_type": "stream",
     "text": [
      "/home/disk/sipn/nicway/anaconda3/envs/esio/lib/python3.6/site-packages/xarray/core/nanops.py:161: RuntimeWarning: Mean of empty slice\n",
      "  return np.nanmean(a, axis=axis, dtype=dtype)\n"
     ]
    },
    {
     "name": "stdout",
     "output_type": "stream",
     "text": [
      "saved  /home/disk/sipn/nicway/public_html/sipn/figures/model/all_model/sic/Regional_maps_NEW/Region_0_SIP_forecast_2019-11-03_05.png\n",
      "plotting hist obs SIP\n"
     ]
    },
    {
     "name": "stderr",
     "output_type": "stream",
     "text": [
      "/home/disk/sipn/nicway/anaconda3/envs/esio/lib/python3.6/site-packages/xarray/core/nanops.py:161: RuntimeWarning: Mean of empty slice\n",
      "  return np.nanmean(a, axis=axis, dtype=dtype)\n"
     ]
    },
    {
     "name": "stdout",
     "output_type": "stream",
     "text": [
      "saved  /home/disk/sipn/nicway/public_html/sipn/figures/model/all_model/sic/Regional_maps_NEW/Region_1_SIP_forecast_2019-11-03_05.png\n",
      "plotting hist obs SIP\n"
     ]
    },
    {
     "name": "stderr",
     "output_type": "stream",
     "text": [
      "/home/disk/sipn/nicway/anaconda3/envs/esio/lib/python3.6/site-packages/xarray/core/nanops.py:161: RuntimeWarning: Mean of empty slice\n",
      "  return np.nanmean(a, axis=axis, dtype=dtype)\n"
     ]
    },
    {
     "name": "stdout",
     "output_type": "stream",
     "text": [
      "saved  /home/disk/sipn/nicway/public_html/sipn/figures/model/all_model/sic/Regional_maps_NEW/Region_2_SIP_forecast_2019-11-03_05.png\n",
      "plotting hist obs SIP\n"
     ]
    },
    {
     "name": "stderr",
     "output_type": "stream",
     "text": [
      "/home/disk/sipn/nicway/anaconda3/envs/esio/lib/python3.6/site-packages/xarray/core/nanops.py:161: RuntimeWarning: Mean of empty slice\n",
      "  return np.nanmean(a, axis=axis, dtype=dtype)\n"
     ]
    },
    {
     "name": "stdout",
     "output_type": "stream",
     "text": [
      "saved  /home/disk/sipn/nicway/public_html/sipn/figures/model/all_model/sic/Regional_maps_NEW/Region_3_SIP_forecast_2019-11-03_05.png\n",
      "plotting hist obs SIP\n"
     ]
    },
    {
     "name": "stderr",
     "output_type": "stream",
     "text": [
      "/home/disk/sipn/nicway/anaconda3/envs/esio/lib/python3.6/site-packages/xarray/core/nanops.py:161: RuntimeWarning: Mean of empty slice\n",
      "  return np.nanmean(a, axis=axis, dtype=dtype)\n"
     ]
    },
    {
     "name": "stdout",
     "output_type": "stream",
     "text": [
      "saved  /home/disk/sipn/nicway/public_html/sipn/figures/model/all_model/sic/Regional_maps_NEW/Region_4_SIP_forecast_2019-11-03_05.png\n",
      "plotting hist obs SIP\n"
     ]
    },
    {
     "name": "stderr",
     "output_type": "stream",
     "text": [
      "/home/disk/sipn/nicway/anaconda3/envs/esio/lib/python3.6/site-packages/xarray/core/nanops.py:161: RuntimeWarning: Mean of empty slice\n",
      "  return np.nanmean(a, axis=axis, dtype=dtype)\n"
     ]
    },
    {
     "name": "stdout",
     "output_type": "stream",
     "text": [
      "saved  /home/disk/sipn/nicway/public_html/sipn/figures/model/all_model/sic/Regional_maps_NEW/Region_5_SIP_forecast_2019-11-03_05.png\n",
      "plotting hist obs SIP\n"
     ]
    },
    {
     "name": "stderr",
     "output_type": "stream",
     "text": [
      "/home/disk/sipn/nicway/anaconda3/envs/esio/lib/python3.6/site-packages/xarray/core/nanops.py:161: RuntimeWarning: Mean of empty slice\n",
      "  return np.nanmean(a, axis=axis, dtype=dtype)\n"
     ]
    },
    {
     "name": "stdout",
     "output_type": "stream",
     "text": [
      "saved  /home/disk/sipn/nicway/public_html/sipn/figures/model/all_model/sic/Regional_maps_NEW/Region_6_SIP_forecast_2019-11-03_05.png\n",
      "plotting hist obs SIP\n"
     ]
    },
    {
     "name": "stderr",
     "output_type": "stream",
     "text": [
      "/home/disk/sipn/nicway/anaconda3/envs/esio/lib/python3.6/site-packages/xarray/core/nanops.py:161: RuntimeWarning: Mean of empty slice\n",
      "  return np.nanmean(a, axis=axis, dtype=dtype)\n"
     ]
    },
    {
     "name": "stdout",
     "output_type": "stream",
     "text": [
      "saved  /home/disk/sipn/nicway/public_html/sipn/figures/model/all_model/sic/Regional_maps_NEW/Region_7_SIP_forecast_2019-11-03_05.png\n",
      "Processing forecast time:  91 days\n",
      "6\n",
      "models to plot  ['MME', 'climo10yrs', 'dampedAnomalyTrend', 'gfdlsipn', 'ukmetofficesipn', 'ecmwfsipn', 'meteofrsipn', 'usnavysipn', 'fgoalssipn']\n",
      "2 5 11\n",
      "saved  /home/disk/sipn/nicway/public_html/sipn/figures/model/all_model/sic/Regional_maps_NEW/Region_0_anomaly_forecast_2019-11-03_06.png\n",
      "saved  /home/disk/sipn/nicway/public_html/sipn/figures/model/all_model/sic/Regional_maps_NEW/Region_1_anomaly_forecast_2019-11-03_06.png\n",
      "saved  /home/disk/sipn/nicway/public_html/sipn/figures/model/all_model/sic/Regional_maps_NEW/Region_2_anomaly_forecast_2019-11-03_06.png\n",
      "saved  /home/disk/sipn/nicway/public_html/sipn/figures/model/all_model/sic/Regional_maps_NEW/Region_3_anomaly_forecast_2019-11-03_06.png\n",
      "saved  /home/disk/sipn/nicway/public_html/sipn/figures/model/all_model/sic/Regional_maps_NEW/Region_4_anomaly_forecast_2019-11-03_06.png\n",
      "saved  /home/disk/sipn/nicway/public_html/sipn/figures/model/all_model/sic/Regional_maps_NEW/Region_5_anomaly_forecast_2019-11-03_06.png\n",
      "saved  /home/disk/sipn/nicway/public_html/sipn/figures/model/all_model/sic/Regional_maps_NEW/Region_6_anomaly_forecast_2019-11-03_06.png\n",
      "saved  /home/disk/sipn/nicway/public_html/sipn/figures/model/all_model/sic/Regional_maps_NEW/Region_7_anomaly_forecast_2019-11-03_06.png\n",
      "saved  /home/disk/sipn/nicway/public_html/sipn/figures/model/all_model/sic/Regional_maps_NEW/Region_0_mean_forecast_2019-11-03_06.png\n",
      "saved  /home/disk/sipn/nicway/public_html/sipn/figures/model/all_model/sic/Regional_maps_NEW/Region_1_mean_forecast_2019-11-03_06.png\n",
      "saved  /home/disk/sipn/nicway/public_html/sipn/figures/model/all_model/sic/Regional_maps_NEW/Region_2_mean_forecast_2019-11-03_06.png\n",
      "saved  /home/disk/sipn/nicway/public_html/sipn/figures/model/all_model/sic/Regional_maps_NEW/Region_3_mean_forecast_2019-11-03_06.png\n",
      "saved  /home/disk/sipn/nicway/public_html/sipn/figures/model/all_model/sic/Regional_maps_NEW/Region_4_mean_forecast_2019-11-03_06.png\n",
      "saved  /home/disk/sipn/nicway/public_html/sipn/figures/model/all_model/sic/Regional_maps_NEW/Region_5_mean_forecast_2019-11-03_06.png\n",
      "saved  /home/disk/sipn/nicway/public_html/sipn/figures/model/all_model/sic/Regional_maps_NEW/Region_6_mean_forecast_2019-11-03_06.png\n",
      "saved  /home/disk/sipn/nicway/public_html/sipn/figures/model/all_model/sic/Regional_maps_NEW/Region_7_mean_forecast_2019-11-03_06.png\n",
      "plotting hist obs SIP\n"
     ]
    },
    {
     "name": "stderr",
     "output_type": "stream",
     "text": [
      "/home/disk/sipn/nicway/anaconda3/envs/esio/lib/python3.6/site-packages/xarray/core/nanops.py:161: RuntimeWarning: Mean of empty slice\n",
      "  return np.nanmean(a, axis=axis, dtype=dtype)\n"
     ]
    },
    {
     "name": "stdout",
     "output_type": "stream",
     "text": [
      "saved  /home/disk/sipn/nicway/public_html/sipn/figures/model/all_model/sic/Regional_maps_NEW/Region_0_SIP_forecast_2019-11-03_06.png\n",
      "plotting hist obs SIP\n"
     ]
    },
    {
     "name": "stderr",
     "output_type": "stream",
     "text": [
      "/home/disk/sipn/nicway/anaconda3/envs/esio/lib/python3.6/site-packages/xarray/core/nanops.py:161: RuntimeWarning: Mean of empty slice\n",
      "  return np.nanmean(a, axis=axis, dtype=dtype)\n"
     ]
    },
    {
     "name": "stdout",
     "output_type": "stream",
     "text": [
      "saved  /home/disk/sipn/nicway/public_html/sipn/figures/model/all_model/sic/Regional_maps_NEW/Region_1_SIP_forecast_2019-11-03_06.png\n",
      "plotting hist obs SIP\n"
     ]
    },
    {
     "name": "stderr",
     "output_type": "stream",
     "text": [
      "/home/disk/sipn/nicway/anaconda3/envs/esio/lib/python3.6/site-packages/xarray/core/nanops.py:161: RuntimeWarning: Mean of empty slice\n",
      "  return np.nanmean(a, axis=axis, dtype=dtype)\n"
     ]
    },
    {
     "name": "stdout",
     "output_type": "stream",
     "text": [
      "saved  /home/disk/sipn/nicway/public_html/sipn/figures/model/all_model/sic/Regional_maps_NEW/Region_2_SIP_forecast_2019-11-03_06.png\n",
      "plotting hist obs SIP\n"
     ]
    },
    {
     "name": "stderr",
     "output_type": "stream",
     "text": [
      "/home/disk/sipn/nicway/anaconda3/envs/esio/lib/python3.6/site-packages/xarray/core/nanops.py:161: RuntimeWarning: Mean of empty slice\n",
      "  return np.nanmean(a, axis=axis, dtype=dtype)\n"
     ]
    },
    {
     "name": "stdout",
     "output_type": "stream",
     "text": [
      "saved  /home/disk/sipn/nicway/public_html/sipn/figures/model/all_model/sic/Regional_maps_NEW/Region_3_SIP_forecast_2019-11-03_06.png\n",
      "plotting hist obs SIP\n"
     ]
    },
    {
     "name": "stderr",
     "output_type": "stream",
     "text": [
      "/home/disk/sipn/nicway/anaconda3/envs/esio/lib/python3.6/site-packages/xarray/core/nanops.py:161: RuntimeWarning: Mean of empty slice\n",
      "  return np.nanmean(a, axis=axis, dtype=dtype)\n"
     ]
    },
    {
     "name": "stdout",
     "output_type": "stream",
     "text": [
      "saved  /home/disk/sipn/nicway/public_html/sipn/figures/model/all_model/sic/Regional_maps_NEW/Region_4_SIP_forecast_2019-11-03_06.png\n",
      "plotting hist obs SIP\n"
     ]
    },
    {
     "name": "stderr",
     "output_type": "stream",
     "text": [
      "/home/disk/sipn/nicway/anaconda3/envs/esio/lib/python3.6/site-packages/xarray/core/nanops.py:161: RuntimeWarning: Mean of empty slice\n",
      "  return np.nanmean(a, axis=axis, dtype=dtype)\n"
     ]
    },
    {
     "name": "stdout",
     "output_type": "stream",
     "text": [
      "saved  /home/disk/sipn/nicway/public_html/sipn/figures/model/all_model/sic/Regional_maps_NEW/Region_5_SIP_forecast_2019-11-03_06.png\n",
      "plotting hist obs SIP\n"
     ]
    },
    {
     "name": "stderr",
     "output_type": "stream",
     "text": [
      "/home/disk/sipn/nicway/anaconda3/envs/esio/lib/python3.6/site-packages/xarray/core/nanops.py:161: RuntimeWarning: Mean of empty slice\n",
      "  return np.nanmean(a, axis=axis, dtype=dtype)\n"
     ]
    },
    {
     "name": "stdout",
     "output_type": "stream",
     "text": [
      "saved  /home/disk/sipn/nicway/public_html/sipn/figures/model/all_model/sic/Regional_maps_NEW/Region_6_SIP_forecast_2019-11-03_06.png\n",
      "plotting hist obs SIP\n"
     ]
    },
    {
     "name": "stderr",
     "output_type": "stream",
     "text": [
      "/home/disk/sipn/nicway/anaconda3/envs/esio/lib/python3.6/site-packages/xarray/core/nanops.py:161: RuntimeWarning: Mean of empty slice\n",
      "  return np.nanmean(a, axis=axis, dtype=dtype)\n"
     ]
    },
    {
     "name": "stdout",
     "output_type": "stream",
     "text": [
      "saved  /home/disk/sipn/nicway/public_html/sipn/figures/model/all_model/sic/Regional_maps_NEW/Region_7_SIP_forecast_2019-11-03_06.png\n",
      "Processing forecast time:  119 days\n",
      "7\n",
      "models to plot  ['MME', 'climo10yrs', 'dampedAnomalyTrend', 'gfdlsipn', 'ukmetofficesipn', 'ecmwfsipn', 'meteofrsipn', 'usnavysipn']\n",
      "2 5 10\n",
      "saved  /home/disk/sipn/nicway/public_html/sipn/figures/model/all_model/sic/Regional_maps_NEW/Region_0_anomaly_forecast_2019-11-03_07.png\n",
      "saved  /home/disk/sipn/nicway/public_html/sipn/figures/model/all_model/sic/Regional_maps_NEW/Region_1_anomaly_forecast_2019-11-03_07.png\n",
      "saved  /home/disk/sipn/nicway/public_html/sipn/figures/model/all_model/sic/Regional_maps_NEW/Region_2_anomaly_forecast_2019-11-03_07.png\n",
      "saved  /home/disk/sipn/nicway/public_html/sipn/figures/model/all_model/sic/Regional_maps_NEW/Region_3_anomaly_forecast_2019-11-03_07.png\n",
      "saved  /home/disk/sipn/nicway/public_html/sipn/figures/model/all_model/sic/Regional_maps_NEW/Region_4_anomaly_forecast_2019-11-03_07.png\n",
      "saved  /home/disk/sipn/nicway/public_html/sipn/figures/model/all_model/sic/Regional_maps_NEW/Region_5_anomaly_forecast_2019-11-03_07.png\n",
      "saved  /home/disk/sipn/nicway/public_html/sipn/figures/model/all_model/sic/Regional_maps_NEW/Region_6_anomaly_forecast_2019-11-03_07.png\n",
      "saved  /home/disk/sipn/nicway/public_html/sipn/figures/model/all_model/sic/Regional_maps_NEW/Region_7_anomaly_forecast_2019-11-03_07.png\n",
      "saved  /home/disk/sipn/nicway/public_html/sipn/figures/model/all_model/sic/Regional_maps_NEW/Region_0_mean_forecast_2019-11-03_07.png\n",
      "saved  /home/disk/sipn/nicway/public_html/sipn/figures/model/all_model/sic/Regional_maps_NEW/Region_1_mean_forecast_2019-11-03_07.png\n",
      "saved  /home/disk/sipn/nicway/public_html/sipn/figures/model/all_model/sic/Regional_maps_NEW/Region_2_mean_forecast_2019-11-03_07.png\n",
      "saved  /home/disk/sipn/nicway/public_html/sipn/figures/model/all_model/sic/Regional_maps_NEW/Region_3_mean_forecast_2019-11-03_07.png\n",
      "saved  /home/disk/sipn/nicway/public_html/sipn/figures/model/all_model/sic/Regional_maps_NEW/Region_4_mean_forecast_2019-11-03_07.png\n",
      "saved  /home/disk/sipn/nicway/public_html/sipn/figures/model/all_model/sic/Regional_maps_NEW/Region_5_mean_forecast_2019-11-03_07.png\n",
      "saved  /home/disk/sipn/nicway/public_html/sipn/figures/model/all_model/sic/Regional_maps_NEW/Region_6_mean_forecast_2019-11-03_07.png\n",
      "saved  /home/disk/sipn/nicway/public_html/sipn/figures/model/all_model/sic/Regional_maps_NEW/Region_7_mean_forecast_2019-11-03_07.png\n",
      "plotting hist obs SIP\n"
     ]
    },
    {
     "name": "stderr",
     "output_type": "stream",
     "text": [
      "/home/disk/sipn/nicway/anaconda3/envs/esio/lib/python3.6/site-packages/xarray/core/nanops.py:161: RuntimeWarning: Mean of empty slice\n",
      "  return np.nanmean(a, axis=axis, dtype=dtype)\n"
     ]
    },
    {
     "name": "stdout",
     "output_type": "stream",
     "text": [
      "saved  /home/disk/sipn/nicway/public_html/sipn/figures/model/all_model/sic/Regional_maps_NEW/Region_0_SIP_forecast_2019-11-03_07.png\n",
      "plotting hist obs SIP\n"
     ]
    },
    {
     "name": "stderr",
     "output_type": "stream",
     "text": [
      "/home/disk/sipn/nicway/anaconda3/envs/esio/lib/python3.6/site-packages/xarray/core/nanops.py:161: RuntimeWarning: Mean of empty slice\n",
      "  return np.nanmean(a, axis=axis, dtype=dtype)\n"
     ]
    },
    {
     "name": "stdout",
     "output_type": "stream",
     "text": [
      "saved  /home/disk/sipn/nicway/public_html/sipn/figures/model/all_model/sic/Regional_maps_NEW/Region_1_SIP_forecast_2019-11-03_07.png\n",
      "plotting hist obs SIP\n"
     ]
    },
    {
     "name": "stderr",
     "output_type": "stream",
     "text": [
      "/home/disk/sipn/nicway/anaconda3/envs/esio/lib/python3.6/site-packages/xarray/core/nanops.py:161: RuntimeWarning: Mean of empty slice\n",
      "  return np.nanmean(a, axis=axis, dtype=dtype)\n"
     ]
    },
    {
     "name": "stdout",
     "output_type": "stream",
     "text": [
      "saved  /home/disk/sipn/nicway/public_html/sipn/figures/model/all_model/sic/Regional_maps_NEW/Region_2_SIP_forecast_2019-11-03_07.png\n",
      "plotting hist obs SIP\n"
     ]
    },
    {
     "name": "stderr",
     "output_type": "stream",
     "text": [
      "/home/disk/sipn/nicway/anaconda3/envs/esio/lib/python3.6/site-packages/xarray/core/nanops.py:161: RuntimeWarning: Mean of empty slice\n",
      "  return np.nanmean(a, axis=axis, dtype=dtype)\n"
     ]
    },
    {
     "name": "stdout",
     "output_type": "stream",
     "text": [
      "saved  /home/disk/sipn/nicway/public_html/sipn/figures/model/all_model/sic/Regional_maps_NEW/Region_3_SIP_forecast_2019-11-03_07.png\n",
      "plotting hist obs SIP\n"
     ]
    },
    {
     "name": "stderr",
     "output_type": "stream",
     "text": [
      "/home/disk/sipn/nicway/anaconda3/envs/esio/lib/python3.6/site-packages/xarray/core/nanops.py:161: RuntimeWarning: Mean of empty slice\n",
      "  return np.nanmean(a, axis=axis, dtype=dtype)\n"
     ]
    },
    {
     "name": "stdout",
     "output_type": "stream",
     "text": [
      "saved  /home/disk/sipn/nicway/public_html/sipn/figures/model/all_model/sic/Regional_maps_NEW/Region_4_SIP_forecast_2019-11-03_07.png\n",
      "plotting hist obs SIP\n"
     ]
    },
    {
     "name": "stderr",
     "output_type": "stream",
     "text": [
      "/home/disk/sipn/nicway/anaconda3/envs/esio/lib/python3.6/site-packages/xarray/core/nanops.py:161: RuntimeWarning: Mean of empty slice\n",
      "  return np.nanmean(a, axis=axis, dtype=dtype)\n"
     ]
    },
    {
     "name": "stdout",
     "output_type": "stream",
     "text": [
      "saved  /home/disk/sipn/nicway/public_html/sipn/figures/model/all_model/sic/Regional_maps_NEW/Region_5_SIP_forecast_2019-11-03_07.png\n",
      "plotting hist obs SIP\n"
     ]
    },
    {
     "name": "stderr",
     "output_type": "stream",
     "text": [
      "/home/disk/sipn/nicway/anaconda3/envs/esio/lib/python3.6/site-packages/xarray/core/nanops.py:161: RuntimeWarning: Mean of empty slice\n",
      "  return np.nanmean(a, axis=axis, dtype=dtype)\n"
     ]
    },
    {
     "name": "stdout",
     "output_type": "stream",
     "text": [
      "saved  /home/disk/sipn/nicway/public_html/sipn/figures/model/all_model/sic/Regional_maps_NEW/Region_6_SIP_forecast_2019-11-03_07.png\n",
      "plotting hist obs SIP\n"
     ]
    },
    {
     "name": "stderr",
     "output_type": "stream",
     "text": [
      "/home/disk/sipn/nicway/anaconda3/envs/esio/lib/python3.6/site-packages/xarray/core/nanops.py:161: RuntimeWarning: Mean of empty slice\n",
      "  return np.nanmean(a, axis=axis, dtype=dtype)\n"
     ]
    },
    {
     "name": "stdout",
     "output_type": "stream",
     "text": [
      "saved  /home/disk/sipn/nicway/public_html/sipn/figures/model/all_model/sic/Regional_maps_NEW/Region_7_SIP_forecast_2019-11-03_07.png\n",
      "Processing forecast time:  154 days\n",
      "8\n",
      "models to plot  ['MME', 'climo10yrs', 'dampedAnomalyTrend', 'gfdlsipn', 'ukmetofficesipn', 'ecmwfsipn', 'meteofrsipn', 'usnavysipn']\n",
      "2 5 10\n",
      "saved  /home/disk/sipn/nicway/public_html/sipn/figures/model/all_model/sic/Regional_maps_NEW/Region_0_anomaly_forecast_2019-11-03_08.png\n",
      "saved  /home/disk/sipn/nicway/public_html/sipn/figures/model/all_model/sic/Regional_maps_NEW/Region_1_anomaly_forecast_2019-11-03_08.png\n",
      "saved  /home/disk/sipn/nicway/public_html/sipn/figures/model/all_model/sic/Regional_maps_NEW/Region_2_anomaly_forecast_2019-11-03_08.png\n",
      "saved  /home/disk/sipn/nicway/public_html/sipn/figures/model/all_model/sic/Regional_maps_NEW/Region_3_anomaly_forecast_2019-11-03_08.png\n",
      "saved  /home/disk/sipn/nicway/public_html/sipn/figures/model/all_model/sic/Regional_maps_NEW/Region_4_anomaly_forecast_2019-11-03_08.png\n",
      "saved  /home/disk/sipn/nicway/public_html/sipn/figures/model/all_model/sic/Regional_maps_NEW/Region_5_anomaly_forecast_2019-11-03_08.png\n",
      "saved  /home/disk/sipn/nicway/public_html/sipn/figures/model/all_model/sic/Regional_maps_NEW/Region_6_anomaly_forecast_2019-11-03_08.png\n",
      "saved  /home/disk/sipn/nicway/public_html/sipn/figures/model/all_model/sic/Regional_maps_NEW/Region_7_anomaly_forecast_2019-11-03_08.png\n",
      "saved  /home/disk/sipn/nicway/public_html/sipn/figures/model/all_model/sic/Regional_maps_NEW/Region_0_mean_forecast_2019-11-03_08.png\n",
      "saved  /home/disk/sipn/nicway/public_html/sipn/figures/model/all_model/sic/Regional_maps_NEW/Region_1_mean_forecast_2019-11-03_08.png\n",
      "saved  /home/disk/sipn/nicway/public_html/sipn/figures/model/all_model/sic/Regional_maps_NEW/Region_2_mean_forecast_2019-11-03_08.png\n",
      "saved  /home/disk/sipn/nicway/public_html/sipn/figures/model/all_model/sic/Regional_maps_NEW/Region_3_mean_forecast_2019-11-03_08.png\n",
      "saved  /home/disk/sipn/nicway/public_html/sipn/figures/model/all_model/sic/Regional_maps_NEW/Region_4_mean_forecast_2019-11-03_08.png\n",
      "saved  /home/disk/sipn/nicway/public_html/sipn/figures/model/all_model/sic/Regional_maps_NEW/Region_5_mean_forecast_2019-11-03_08.png\n",
      "saved  /home/disk/sipn/nicway/public_html/sipn/figures/model/all_model/sic/Regional_maps_NEW/Region_6_mean_forecast_2019-11-03_08.png\n",
      "saved  /home/disk/sipn/nicway/public_html/sipn/figures/model/all_model/sic/Regional_maps_NEW/Region_7_mean_forecast_2019-11-03_08.png\n",
      "plotting hist obs SIP\n"
     ]
    },
    {
     "name": "stderr",
     "output_type": "stream",
     "text": [
      "/home/disk/sipn/nicway/anaconda3/envs/esio/lib/python3.6/site-packages/xarray/core/nanops.py:161: RuntimeWarning: Mean of empty slice\n",
      "  return np.nanmean(a, axis=axis, dtype=dtype)\n"
     ]
    },
    {
     "name": "stdout",
     "output_type": "stream",
     "text": [
      "saved  /home/disk/sipn/nicway/public_html/sipn/figures/model/all_model/sic/Regional_maps_NEW/Region_0_SIP_forecast_2019-11-03_08.png\n",
      "plotting hist obs SIP\n"
     ]
    },
    {
     "name": "stderr",
     "output_type": "stream",
     "text": [
      "/home/disk/sipn/nicway/anaconda3/envs/esio/lib/python3.6/site-packages/xarray/core/nanops.py:161: RuntimeWarning: Mean of empty slice\n",
      "  return np.nanmean(a, axis=axis, dtype=dtype)\n"
     ]
    },
    {
     "name": "stdout",
     "output_type": "stream",
     "text": [
      "saved  /home/disk/sipn/nicway/public_html/sipn/figures/model/all_model/sic/Regional_maps_NEW/Region_1_SIP_forecast_2019-11-03_08.png\n",
      "plotting hist obs SIP\n"
     ]
    },
    {
     "name": "stderr",
     "output_type": "stream",
     "text": [
      "/home/disk/sipn/nicway/anaconda3/envs/esio/lib/python3.6/site-packages/xarray/core/nanops.py:161: RuntimeWarning: Mean of empty slice\n",
      "  return np.nanmean(a, axis=axis, dtype=dtype)\n"
     ]
    },
    {
     "name": "stdout",
     "output_type": "stream",
     "text": [
      "saved  /home/disk/sipn/nicway/public_html/sipn/figures/model/all_model/sic/Regional_maps_NEW/Region_2_SIP_forecast_2019-11-03_08.png\n",
      "plotting hist obs SIP\n"
     ]
    },
    {
     "name": "stderr",
     "output_type": "stream",
     "text": [
      "/home/disk/sipn/nicway/anaconda3/envs/esio/lib/python3.6/site-packages/xarray/core/nanops.py:161: RuntimeWarning: Mean of empty slice\n",
      "  return np.nanmean(a, axis=axis, dtype=dtype)\n"
     ]
    },
    {
     "name": "stdout",
     "output_type": "stream",
     "text": [
      "saved  /home/disk/sipn/nicway/public_html/sipn/figures/model/all_model/sic/Regional_maps_NEW/Region_3_SIP_forecast_2019-11-03_08.png\n",
      "plotting hist obs SIP\n"
     ]
    },
    {
     "name": "stderr",
     "output_type": "stream",
     "text": [
      "/home/disk/sipn/nicway/anaconda3/envs/esio/lib/python3.6/site-packages/xarray/core/nanops.py:161: RuntimeWarning: Mean of empty slice\n",
      "  return np.nanmean(a, axis=axis, dtype=dtype)\n"
     ]
    },
    {
     "name": "stdout",
     "output_type": "stream",
     "text": [
      "saved  /home/disk/sipn/nicway/public_html/sipn/figures/model/all_model/sic/Regional_maps_NEW/Region_4_SIP_forecast_2019-11-03_08.png\n",
      "plotting hist obs SIP\n"
     ]
    },
    {
     "name": "stderr",
     "output_type": "stream",
     "text": [
      "/home/disk/sipn/nicway/anaconda3/envs/esio/lib/python3.6/site-packages/xarray/core/nanops.py:161: RuntimeWarning: Mean of empty slice\n",
      "  return np.nanmean(a, axis=axis, dtype=dtype)\n"
     ]
    },
    {
     "name": "stdout",
     "output_type": "stream",
     "text": [
      "saved  /home/disk/sipn/nicway/public_html/sipn/figures/model/all_model/sic/Regional_maps_NEW/Region_5_SIP_forecast_2019-11-03_08.png\n",
      "plotting hist obs SIP\n"
     ]
    },
    {
     "name": "stderr",
     "output_type": "stream",
     "text": [
      "/home/disk/sipn/nicway/anaconda3/envs/esio/lib/python3.6/site-packages/xarray/core/nanops.py:161: RuntimeWarning: Mean of empty slice\n",
      "  return np.nanmean(a, axis=axis, dtype=dtype)\n"
     ]
    },
    {
     "name": "stdout",
     "output_type": "stream",
     "text": [
      "saved  /home/disk/sipn/nicway/public_html/sipn/figures/model/all_model/sic/Regional_maps_NEW/Region_6_SIP_forecast_2019-11-03_08.png\n",
      "plotting hist obs SIP\n"
     ]
    },
    {
     "name": "stderr",
     "output_type": "stream",
     "text": [
      "/home/disk/sipn/nicway/anaconda3/envs/esio/lib/python3.6/site-packages/xarray/core/nanops.py:161: RuntimeWarning: Mean of empty slice\n",
      "  return np.nanmean(a, axis=axis, dtype=dtype)\n"
     ]
    },
    {
     "name": "stdout",
     "output_type": "stream",
     "text": [
      "saved  /home/disk/sipn/nicway/public_html/sipn/figures/model/all_model/sic/Regional_maps_NEW/Region_7_SIP_forecast_2019-11-03_08.png\n",
      "Processing forecast time:  182 days\n",
      "9\n",
      "models to plot  ['MME', 'climo10yrs', 'dampedAnomalyTrend', 'gfdlsipn', 'ukmetofficesipn', 'ecmwfsipn', 'meteofrsipn', 'usnavysipn']\n",
      "2 5 10\n",
      "saved  /home/disk/sipn/nicway/public_html/sipn/figures/model/all_model/sic/Regional_maps_NEW/Region_0_anomaly_forecast_2019-11-03_09.png\n",
      "saved  /home/disk/sipn/nicway/public_html/sipn/figures/model/all_model/sic/Regional_maps_NEW/Region_1_anomaly_forecast_2019-11-03_09.png\n",
      "saved  /home/disk/sipn/nicway/public_html/sipn/figures/model/all_model/sic/Regional_maps_NEW/Region_2_anomaly_forecast_2019-11-03_09.png\n",
      "saved  /home/disk/sipn/nicway/public_html/sipn/figures/model/all_model/sic/Regional_maps_NEW/Region_3_anomaly_forecast_2019-11-03_09.png\n",
      "saved  /home/disk/sipn/nicway/public_html/sipn/figures/model/all_model/sic/Regional_maps_NEW/Region_4_anomaly_forecast_2019-11-03_09.png\n",
      "saved  /home/disk/sipn/nicway/public_html/sipn/figures/model/all_model/sic/Regional_maps_NEW/Region_5_anomaly_forecast_2019-11-03_09.png\n",
      "saved  /home/disk/sipn/nicway/public_html/sipn/figures/model/all_model/sic/Regional_maps_NEW/Region_6_anomaly_forecast_2019-11-03_09.png\n",
      "saved  /home/disk/sipn/nicway/public_html/sipn/figures/model/all_model/sic/Regional_maps_NEW/Region_7_anomaly_forecast_2019-11-03_09.png\n",
      "saved  /home/disk/sipn/nicway/public_html/sipn/figures/model/all_model/sic/Regional_maps_NEW/Region_0_mean_forecast_2019-11-03_09.png\n",
      "saved  /home/disk/sipn/nicway/public_html/sipn/figures/model/all_model/sic/Regional_maps_NEW/Region_1_mean_forecast_2019-11-03_09.png\n",
      "saved  /home/disk/sipn/nicway/public_html/sipn/figures/model/all_model/sic/Regional_maps_NEW/Region_2_mean_forecast_2019-11-03_09.png\n",
      "saved  /home/disk/sipn/nicway/public_html/sipn/figures/model/all_model/sic/Regional_maps_NEW/Region_3_mean_forecast_2019-11-03_09.png\n",
      "saved  /home/disk/sipn/nicway/public_html/sipn/figures/model/all_model/sic/Regional_maps_NEW/Region_4_mean_forecast_2019-11-03_09.png\n",
      "saved  /home/disk/sipn/nicway/public_html/sipn/figures/model/all_model/sic/Regional_maps_NEW/Region_5_mean_forecast_2019-11-03_09.png\n",
      "saved  /home/disk/sipn/nicway/public_html/sipn/figures/model/all_model/sic/Regional_maps_NEW/Region_6_mean_forecast_2019-11-03_09.png\n",
      "saved  /home/disk/sipn/nicway/public_html/sipn/figures/model/all_model/sic/Regional_maps_NEW/Region_7_mean_forecast_2019-11-03_09.png\n",
      "plotting hist obs SIP\n"
     ]
    },
    {
     "name": "stderr",
     "output_type": "stream",
     "text": [
      "/home/disk/sipn/nicway/anaconda3/envs/esio/lib/python3.6/site-packages/xarray/core/nanops.py:161: RuntimeWarning: Mean of empty slice\n",
      "  return np.nanmean(a, axis=axis, dtype=dtype)\n"
     ]
    },
    {
     "name": "stdout",
     "output_type": "stream",
     "text": [
      "saved  /home/disk/sipn/nicway/public_html/sipn/figures/model/all_model/sic/Regional_maps_NEW/Region_0_SIP_forecast_2019-11-03_09.png\n",
      "plotting hist obs SIP\n"
     ]
    },
    {
     "name": "stderr",
     "output_type": "stream",
     "text": [
      "/home/disk/sipn/nicway/anaconda3/envs/esio/lib/python3.6/site-packages/xarray/core/nanops.py:161: RuntimeWarning: Mean of empty slice\n",
      "  return np.nanmean(a, axis=axis, dtype=dtype)\n"
     ]
    },
    {
     "name": "stdout",
     "output_type": "stream",
     "text": [
      "saved  /home/disk/sipn/nicway/public_html/sipn/figures/model/all_model/sic/Regional_maps_NEW/Region_1_SIP_forecast_2019-11-03_09.png\n",
      "plotting hist obs SIP\n"
     ]
    },
    {
     "name": "stderr",
     "output_type": "stream",
     "text": [
      "/home/disk/sipn/nicway/anaconda3/envs/esio/lib/python3.6/site-packages/xarray/core/nanops.py:161: RuntimeWarning: Mean of empty slice\n",
      "  return np.nanmean(a, axis=axis, dtype=dtype)\n"
     ]
    },
    {
     "name": "stdout",
     "output_type": "stream",
     "text": [
      "saved  /home/disk/sipn/nicway/public_html/sipn/figures/model/all_model/sic/Regional_maps_NEW/Region_2_SIP_forecast_2019-11-03_09.png\n",
      "plotting hist obs SIP\n"
     ]
    },
    {
     "name": "stderr",
     "output_type": "stream",
     "text": [
      "/home/disk/sipn/nicway/anaconda3/envs/esio/lib/python3.6/site-packages/xarray/core/nanops.py:161: RuntimeWarning: Mean of empty slice\n",
      "  return np.nanmean(a, axis=axis, dtype=dtype)\n"
     ]
    },
    {
     "name": "stdout",
     "output_type": "stream",
     "text": [
      "saved  /home/disk/sipn/nicway/public_html/sipn/figures/model/all_model/sic/Regional_maps_NEW/Region_3_SIP_forecast_2019-11-03_09.png\n",
      "plotting hist obs SIP\n"
     ]
    },
    {
     "name": "stderr",
     "output_type": "stream",
     "text": [
      "/home/disk/sipn/nicway/anaconda3/envs/esio/lib/python3.6/site-packages/xarray/core/nanops.py:161: RuntimeWarning: Mean of empty slice\n",
      "  return np.nanmean(a, axis=axis, dtype=dtype)\n"
     ]
    },
    {
     "name": "stdout",
     "output_type": "stream",
     "text": [
      "saved  /home/disk/sipn/nicway/public_html/sipn/figures/model/all_model/sic/Regional_maps_NEW/Region_4_SIP_forecast_2019-11-03_09.png\n",
      "plotting hist obs SIP\n"
     ]
    },
    {
     "name": "stderr",
     "output_type": "stream",
     "text": [
      "/home/disk/sipn/nicway/anaconda3/envs/esio/lib/python3.6/site-packages/xarray/core/nanops.py:161: RuntimeWarning: Mean of empty slice\n",
      "  return np.nanmean(a, axis=axis, dtype=dtype)\n"
     ]
    },
    {
     "name": "stdout",
     "output_type": "stream",
     "text": [
      "saved  /home/disk/sipn/nicway/public_html/sipn/figures/model/all_model/sic/Regional_maps_NEW/Region_5_SIP_forecast_2019-11-03_09.png\n",
      "plotting hist obs SIP\n"
     ]
    },
    {
     "name": "stderr",
     "output_type": "stream",
     "text": [
      "/home/disk/sipn/nicway/anaconda3/envs/esio/lib/python3.6/site-packages/xarray/core/nanops.py:161: RuntimeWarning: Mean of empty slice\n",
      "  return np.nanmean(a, axis=axis, dtype=dtype)\n"
     ]
    },
    {
     "name": "stdout",
     "output_type": "stream",
     "text": [
      "saved  /home/disk/sipn/nicway/public_html/sipn/figures/model/all_model/sic/Regional_maps_NEW/Region_6_SIP_forecast_2019-11-03_09.png\n",
      "plotting hist obs SIP\n"
     ]
    },
    {
     "name": "stderr",
     "output_type": "stream",
     "text": [
      "/home/disk/sipn/nicway/anaconda3/envs/esio/lib/python3.6/site-packages/xarray/core/nanops.py:161: RuntimeWarning: Mean of empty slice\n",
      "  return np.nanmean(a, axis=axis, dtype=dtype)\n"
     ]
    },
    {
     "name": "stdout",
     "output_type": "stream",
     "text": [
      "saved  /home/disk/sipn/nicway/public_html/sipn/figures/model/all_model/sic/Regional_maps_NEW/Region_7_SIP_forecast_2019-11-03_09.png\n",
      "Took  36.364766116665365  minutes.\n",
      "2019-11-10T00:00:00.000000000\n",
      "all forecast times to be plotted, ft_to_plot  [                0   604800000000000  1209600000000000  1814400000000000\n",
      "  2419200000000000  5443200000000000  7862400000000000 10281600000000000\n",
      " 13305600000000000 15724800000000000]\n",
      "Processing forecast time:  0 days\n",
      "0\n",
      "models to plot  ['MME', 'climo10yrs', 'dampedAnomalyTrend', 'gfdlsipn', 'ukmetofficesipn', 'ecmwfsipn', 'meteofrsipn', 'usnavysipn', 'fgoalssipn', 'kma', 'ecmwf', 'metreofr', 'ukmo', 'ncep', 'usnavyncep', 'yopp', 'rasmesrl']\n",
      "4 5 19\n",
      "saved  /home/disk/sipn/nicway/public_html/sipn/figures/model/all_model/sic/Regional_maps_NEW/Region_0_anomaly_forecast_2019-11-10_00.png\n",
      "saved  /home/disk/sipn/nicway/public_html/sipn/figures/model/all_model/sic/Regional_maps_NEW/Region_1_anomaly_forecast_2019-11-10_00.png\n",
      "saved  /home/disk/sipn/nicway/public_html/sipn/figures/model/all_model/sic/Regional_maps_NEW/Region_2_anomaly_forecast_2019-11-10_00.png\n",
      "saved  /home/disk/sipn/nicway/public_html/sipn/figures/model/all_model/sic/Regional_maps_NEW/Region_3_anomaly_forecast_2019-11-10_00.png\n",
      "saved  /home/disk/sipn/nicway/public_html/sipn/figures/model/all_model/sic/Regional_maps_NEW/Region_4_anomaly_forecast_2019-11-10_00.png\n",
      "saved  /home/disk/sipn/nicway/public_html/sipn/figures/model/all_model/sic/Regional_maps_NEW/Region_5_anomaly_forecast_2019-11-10_00.png\n",
      "saved  /home/disk/sipn/nicway/public_html/sipn/figures/model/all_model/sic/Regional_maps_NEW/Region_6_anomaly_forecast_2019-11-10_00.png\n",
      "saved  /home/disk/sipn/nicway/public_html/sipn/figures/model/all_model/sic/Regional_maps_NEW/Region_7_anomaly_forecast_2019-11-10_00.png\n",
      "saved  /home/disk/sipn/nicway/public_html/sipn/figures/model/all_model/sic/Regional_maps_NEW/Region_0_mean_forecast_2019-11-10_00.png\n",
      "saved  /home/disk/sipn/nicway/public_html/sipn/figures/model/all_model/sic/Regional_maps_NEW/Region_1_mean_forecast_2019-11-10_00.png\n",
      "saved  /home/disk/sipn/nicway/public_html/sipn/figures/model/all_model/sic/Regional_maps_NEW/Region_2_mean_forecast_2019-11-10_00.png\n",
      "saved  /home/disk/sipn/nicway/public_html/sipn/figures/model/all_model/sic/Regional_maps_NEW/Region_3_mean_forecast_2019-11-10_00.png\n",
      "saved  /home/disk/sipn/nicway/public_html/sipn/figures/model/all_model/sic/Regional_maps_NEW/Region_4_mean_forecast_2019-11-10_00.png\n",
      "saved  /home/disk/sipn/nicway/public_html/sipn/figures/model/all_model/sic/Regional_maps_NEW/Region_5_mean_forecast_2019-11-10_00.png\n",
      "saved  /home/disk/sipn/nicway/public_html/sipn/figures/model/all_model/sic/Regional_maps_NEW/Region_6_mean_forecast_2019-11-10_00.png\n",
      "saved  /home/disk/sipn/nicway/public_html/sipn/figures/model/all_model/sic/Regional_maps_NEW/Region_7_mean_forecast_2019-11-10_00.png\n",
      "saved  /home/disk/sipn/nicway/public_html/sipn/figures/model/all_model/sic/Regional_maps_NEW/Region_0_SIP_forecast_2019-11-10_00.png\n",
      "saved  /home/disk/sipn/nicway/public_html/sipn/figures/model/all_model/sic/Regional_maps_NEW/Region_1_SIP_forecast_2019-11-10_00.png\n",
      "saved  /home/disk/sipn/nicway/public_html/sipn/figures/model/all_model/sic/Regional_maps_NEW/Region_2_SIP_forecast_2019-11-10_00.png\n",
      "saved  /home/disk/sipn/nicway/public_html/sipn/figures/model/all_model/sic/Regional_maps_NEW/Region_3_SIP_forecast_2019-11-10_00.png\n",
      "saved  /home/disk/sipn/nicway/public_html/sipn/figures/model/all_model/sic/Regional_maps_NEW/Region_4_SIP_forecast_2019-11-10_00.png\n",
      "saved  /home/disk/sipn/nicway/public_html/sipn/figures/model/all_model/sic/Regional_maps_NEW/Region_5_SIP_forecast_2019-11-10_00.png\n",
      "saved  /home/disk/sipn/nicway/public_html/sipn/figures/model/all_model/sic/Regional_maps_NEW/Region_6_SIP_forecast_2019-11-10_00.png\n",
      "saved  /home/disk/sipn/nicway/public_html/sipn/figures/model/all_model/sic/Regional_maps_NEW/Region_7_SIP_forecast_2019-11-10_00.png\n",
      "Processing forecast time:  7 days\n",
      "1\n",
      "models to plot  ['MME', 'climo10yrs', 'dampedAnomalyTrend', 'gfdlsipn', 'ukmetofficesipn', 'ecmwfsipn', 'meteofrsipn', 'usnavysipn', 'fgoalssipn', 'kma', 'ecmwf', 'metreofr', 'ukmo', 'ncep', 'usnavyncep', 'yopp', 'rasmesrl']\n",
      "4 5 19\n",
      "saved  /home/disk/sipn/nicway/public_html/sipn/figures/model/all_model/sic/Regional_maps_NEW/Region_0_anomaly_forecast_2019-11-10_01.png\n",
      "saved  /home/disk/sipn/nicway/public_html/sipn/figures/model/all_model/sic/Regional_maps_NEW/Region_1_anomaly_forecast_2019-11-10_01.png\n",
      "saved  /home/disk/sipn/nicway/public_html/sipn/figures/model/all_model/sic/Regional_maps_NEW/Region_2_anomaly_forecast_2019-11-10_01.png\n",
      "saved  /home/disk/sipn/nicway/public_html/sipn/figures/model/all_model/sic/Regional_maps_NEW/Region_3_anomaly_forecast_2019-11-10_01.png\n",
      "saved  /home/disk/sipn/nicway/public_html/sipn/figures/model/all_model/sic/Regional_maps_NEW/Region_4_anomaly_forecast_2019-11-10_01.png\n",
      "saved  /home/disk/sipn/nicway/public_html/sipn/figures/model/all_model/sic/Regional_maps_NEW/Region_5_anomaly_forecast_2019-11-10_01.png\n",
      "saved  /home/disk/sipn/nicway/public_html/sipn/figures/model/all_model/sic/Regional_maps_NEW/Region_6_anomaly_forecast_2019-11-10_01.png\n",
      "saved  /home/disk/sipn/nicway/public_html/sipn/figures/model/all_model/sic/Regional_maps_NEW/Region_7_anomaly_forecast_2019-11-10_01.png\n",
      "saved  /home/disk/sipn/nicway/public_html/sipn/figures/model/all_model/sic/Regional_maps_NEW/Region_0_mean_forecast_2019-11-10_01.png\n",
      "saved  /home/disk/sipn/nicway/public_html/sipn/figures/model/all_model/sic/Regional_maps_NEW/Region_1_mean_forecast_2019-11-10_01.png\n",
      "saved  /home/disk/sipn/nicway/public_html/sipn/figures/model/all_model/sic/Regional_maps_NEW/Region_2_mean_forecast_2019-11-10_01.png\n",
      "saved  /home/disk/sipn/nicway/public_html/sipn/figures/model/all_model/sic/Regional_maps_NEW/Region_3_mean_forecast_2019-11-10_01.png\n",
      "saved  /home/disk/sipn/nicway/public_html/sipn/figures/model/all_model/sic/Regional_maps_NEW/Region_4_mean_forecast_2019-11-10_01.png\n",
      "saved  /home/disk/sipn/nicway/public_html/sipn/figures/model/all_model/sic/Regional_maps_NEW/Region_5_mean_forecast_2019-11-10_01.png\n",
      "saved  /home/disk/sipn/nicway/public_html/sipn/figures/model/all_model/sic/Regional_maps_NEW/Region_6_mean_forecast_2019-11-10_01.png\n",
      "saved  /home/disk/sipn/nicway/public_html/sipn/figures/model/all_model/sic/Regional_maps_NEW/Region_7_mean_forecast_2019-11-10_01.png\n",
      "saved  /home/disk/sipn/nicway/public_html/sipn/figures/model/all_model/sic/Regional_maps_NEW/Region_0_SIP_forecast_2019-11-10_01.png\n",
      "saved  /home/disk/sipn/nicway/public_html/sipn/figures/model/all_model/sic/Regional_maps_NEW/Region_1_SIP_forecast_2019-11-10_01.png\n",
      "saved  /home/disk/sipn/nicway/public_html/sipn/figures/model/all_model/sic/Regional_maps_NEW/Region_2_SIP_forecast_2019-11-10_01.png\n",
      "saved  /home/disk/sipn/nicway/public_html/sipn/figures/model/all_model/sic/Regional_maps_NEW/Region_3_SIP_forecast_2019-11-10_01.png\n",
      "saved  /home/disk/sipn/nicway/public_html/sipn/figures/model/all_model/sic/Regional_maps_NEW/Region_4_SIP_forecast_2019-11-10_01.png\n",
      "saved  /home/disk/sipn/nicway/public_html/sipn/figures/model/all_model/sic/Regional_maps_NEW/Region_5_SIP_forecast_2019-11-10_01.png\n",
      "saved  /home/disk/sipn/nicway/public_html/sipn/figures/model/all_model/sic/Regional_maps_NEW/Region_6_SIP_forecast_2019-11-10_01.png\n",
      "saved  /home/disk/sipn/nicway/public_html/sipn/figures/model/all_model/sic/Regional_maps_NEW/Region_7_SIP_forecast_2019-11-10_01.png\n",
      "Processing forecast time:  14 days\n",
      "2\n",
      "models to plot  ['MME', 'climo10yrs', 'dampedAnomalyTrend', 'gfdlsipn', 'ukmetofficesipn', 'ecmwfsipn', 'meteofrsipn', 'usnavysipn', 'fgoalssipn', 'kma', 'ecmwf', 'metreofr', 'ukmo', 'ncep', 'usnavyncep', 'yopp', 'rasmesrl']\n",
      "4 5 19\n",
      "saved  /home/disk/sipn/nicway/public_html/sipn/figures/model/all_model/sic/Regional_maps_NEW/Region_0_anomaly_forecast_2019-11-10_02.png\n",
      "saved  /home/disk/sipn/nicway/public_html/sipn/figures/model/all_model/sic/Regional_maps_NEW/Region_1_anomaly_forecast_2019-11-10_02.png\n",
      "saved  /home/disk/sipn/nicway/public_html/sipn/figures/model/all_model/sic/Regional_maps_NEW/Region_2_anomaly_forecast_2019-11-10_02.png\n",
      "saved  /home/disk/sipn/nicway/public_html/sipn/figures/model/all_model/sic/Regional_maps_NEW/Region_3_anomaly_forecast_2019-11-10_02.png\n"
     ]
    },
    {
     "name": "stdout",
     "output_type": "stream",
     "text": [
      "saved  /home/disk/sipn/nicway/public_html/sipn/figures/model/all_model/sic/Regional_maps_NEW/Region_4_anomaly_forecast_2019-11-10_02.png\n",
      "saved  /home/disk/sipn/nicway/public_html/sipn/figures/model/all_model/sic/Regional_maps_NEW/Region_5_anomaly_forecast_2019-11-10_02.png\n",
      "saved  /home/disk/sipn/nicway/public_html/sipn/figures/model/all_model/sic/Regional_maps_NEW/Region_6_anomaly_forecast_2019-11-10_02.png\n",
      "saved  /home/disk/sipn/nicway/public_html/sipn/figures/model/all_model/sic/Regional_maps_NEW/Region_7_anomaly_forecast_2019-11-10_02.png\n",
      "saved  /home/disk/sipn/nicway/public_html/sipn/figures/model/all_model/sic/Regional_maps_NEW/Region_0_mean_forecast_2019-11-10_02.png\n",
      "saved  /home/disk/sipn/nicway/public_html/sipn/figures/model/all_model/sic/Regional_maps_NEW/Region_1_mean_forecast_2019-11-10_02.png\n",
      "saved  /home/disk/sipn/nicway/public_html/sipn/figures/model/all_model/sic/Regional_maps_NEW/Region_2_mean_forecast_2019-11-10_02.png\n",
      "saved  /home/disk/sipn/nicway/public_html/sipn/figures/model/all_model/sic/Regional_maps_NEW/Region_3_mean_forecast_2019-11-10_02.png\n",
      "saved  /home/disk/sipn/nicway/public_html/sipn/figures/model/all_model/sic/Regional_maps_NEW/Region_4_mean_forecast_2019-11-10_02.png\n",
      "saved  /home/disk/sipn/nicway/public_html/sipn/figures/model/all_model/sic/Regional_maps_NEW/Region_5_mean_forecast_2019-11-10_02.png\n",
      "saved  /home/disk/sipn/nicway/public_html/sipn/figures/model/all_model/sic/Regional_maps_NEW/Region_6_mean_forecast_2019-11-10_02.png\n",
      "saved  /home/disk/sipn/nicway/public_html/sipn/figures/model/all_model/sic/Regional_maps_NEW/Region_7_mean_forecast_2019-11-10_02.png\n",
      "plotting hist obs SIP\n"
     ]
    },
    {
     "name": "stderr",
     "output_type": "stream",
     "text": [
      "/home/disk/sipn/nicway/anaconda3/envs/esio/lib/python3.6/site-packages/xarray/core/nanops.py:161: RuntimeWarning: Mean of empty slice\n",
      "  return np.nanmean(a, axis=axis, dtype=dtype)\n"
     ]
    },
    {
     "name": "stdout",
     "output_type": "stream",
     "text": [
      "saved  /home/disk/sipn/nicway/public_html/sipn/figures/model/all_model/sic/Regional_maps_NEW/Region_0_SIP_forecast_2019-11-10_02.png\n",
      "plotting hist obs SIP\n"
     ]
    },
    {
     "name": "stderr",
     "output_type": "stream",
     "text": [
      "/home/disk/sipn/nicway/anaconda3/envs/esio/lib/python3.6/site-packages/xarray/core/nanops.py:161: RuntimeWarning: Mean of empty slice\n",
      "  return np.nanmean(a, axis=axis, dtype=dtype)\n"
     ]
    },
    {
     "name": "stdout",
     "output_type": "stream",
     "text": [
      "saved  /home/disk/sipn/nicway/public_html/sipn/figures/model/all_model/sic/Regional_maps_NEW/Region_1_SIP_forecast_2019-11-10_02.png\n",
      "plotting hist obs SIP\n"
     ]
    },
    {
     "name": "stderr",
     "output_type": "stream",
     "text": [
      "/home/disk/sipn/nicway/anaconda3/envs/esio/lib/python3.6/site-packages/xarray/core/nanops.py:161: RuntimeWarning: Mean of empty slice\n",
      "  return np.nanmean(a, axis=axis, dtype=dtype)\n"
     ]
    },
    {
     "name": "stdout",
     "output_type": "stream",
     "text": [
      "saved  /home/disk/sipn/nicway/public_html/sipn/figures/model/all_model/sic/Regional_maps_NEW/Region_2_SIP_forecast_2019-11-10_02.png\n",
      "plotting hist obs SIP\n"
     ]
    },
    {
     "name": "stderr",
     "output_type": "stream",
     "text": [
      "/home/disk/sipn/nicway/anaconda3/envs/esio/lib/python3.6/site-packages/xarray/core/nanops.py:161: RuntimeWarning: Mean of empty slice\n",
      "  return np.nanmean(a, axis=axis, dtype=dtype)\n"
     ]
    },
    {
     "name": "stdout",
     "output_type": "stream",
     "text": [
      "saved  /home/disk/sipn/nicway/public_html/sipn/figures/model/all_model/sic/Regional_maps_NEW/Region_3_SIP_forecast_2019-11-10_02.png\n",
      "plotting hist obs SIP\n"
     ]
    },
    {
     "name": "stderr",
     "output_type": "stream",
     "text": [
      "/home/disk/sipn/nicway/anaconda3/envs/esio/lib/python3.6/site-packages/xarray/core/nanops.py:161: RuntimeWarning: Mean of empty slice\n",
      "  return np.nanmean(a, axis=axis, dtype=dtype)\n"
     ]
    },
    {
     "name": "stdout",
     "output_type": "stream",
     "text": [
      "saved  /home/disk/sipn/nicway/public_html/sipn/figures/model/all_model/sic/Regional_maps_NEW/Region_4_SIP_forecast_2019-11-10_02.png\n",
      "plotting hist obs SIP\n"
     ]
    },
    {
     "name": "stderr",
     "output_type": "stream",
     "text": [
      "/home/disk/sipn/nicway/anaconda3/envs/esio/lib/python3.6/site-packages/xarray/core/nanops.py:161: RuntimeWarning: Mean of empty slice\n",
      "  return np.nanmean(a, axis=axis, dtype=dtype)\n"
     ]
    },
    {
     "name": "stdout",
     "output_type": "stream",
     "text": [
      "saved  /home/disk/sipn/nicway/public_html/sipn/figures/model/all_model/sic/Regional_maps_NEW/Region_5_SIP_forecast_2019-11-10_02.png\n",
      "plotting hist obs SIP\n"
     ]
    },
    {
     "name": "stderr",
     "output_type": "stream",
     "text": [
      "/home/disk/sipn/nicway/anaconda3/envs/esio/lib/python3.6/site-packages/xarray/core/nanops.py:161: RuntimeWarning: Mean of empty slice\n",
      "  return np.nanmean(a, axis=axis, dtype=dtype)\n"
     ]
    },
    {
     "name": "stdout",
     "output_type": "stream",
     "text": [
      "saved  /home/disk/sipn/nicway/public_html/sipn/figures/model/all_model/sic/Regional_maps_NEW/Region_6_SIP_forecast_2019-11-10_02.png\n",
      "plotting hist obs SIP\n"
     ]
    },
    {
     "name": "stderr",
     "output_type": "stream",
     "text": [
      "/home/disk/sipn/nicway/anaconda3/envs/esio/lib/python3.6/site-packages/xarray/core/nanops.py:161: RuntimeWarning: Mean of empty slice\n",
      "  return np.nanmean(a, axis=axis, dtype=dtype)\n"
     ]
    },
    {
     "name": "stdout",
     "output_type": "stream",
     "text": [
      "saved  /home/disk/sipn/nicway/public_html/sipn/figures/model/all_model/sic/Regional_maps_NEW/Region_7_SIP_forecast_2019-11-10_02.png\n",
      "Processing forecast time:  21 days\n",
      "3\n",
      "models to plot  ['MME', 'climo10yrs', 'dampedAnomalyTrend', 'gfdlsipn', 'ukmetofficesipn', 'ecmwfsipn', 'meteofrsipn', 'usnavysipn', 'fgoalssipn', 'kma', 'ecmwf', 'metreofr', 'ukmo', 'ncep', 'usnavyncep']\n",
      "4 5 17\n",
      "saved  /home/disk/sipn/nicway/public_html/sipn/figures/model/all_model/sic/Regional_maps_NEW/Region_0_anomaly_forecast_2019-11-10_03.png\n",
      "saved  /home/disk/sipn/nicway/public_html/sipn/figures/model/all_model/sic/Regional_maps_NEW/Region_1_anomaly_forecast_2019-11-10_03.png\n",
      "saved  /home/disk/sipn/nicway/public_html/sipn/figures/model/all_model/sic/Regional_maps_NEW/Region_2_anomaly_forecast_2019-11-10_03.png\n",
      "saved  /home/disk/sipn/nicway/public_html/sipn/figures/model/all_model/sic/Regional_maps_NEW/Region_3_anomaly_forecast_2019-11-10_03.png\n",
      "saved  /home/disk/sipn/nicway/public_html/sipn/figures/model/all_model/sic/Regional_maps_NEW/Region_4_anomaly_forecast_2019-11-10_03.png\n",
      "saved  /home/disk/sipn/nicway/public_html/sipn/figures/model/all_model/sic/Regional_maps_NEW/Region_5_anomaly_forecast_2019-11-10_03.png\n",
      "saved  /home/disk/sipn/nicway/public_html/sipn/figures/model/all_model/sic/Regional_maps_NEW/Region_6_anomaly_forecast_2019-11-10_03.png\n",
      "saved  /home/disk/sipn/nicway/public_html/sipn/figures/model/all_model/sic/Regional_maps_NEW/Region_7_anomaly_forecast_2019-11-10_03.png\n",
      "saved  /home/disk/sipn/nicway/public_html/sipn/figures/model/all_model/sic/Regional_maps_NEW/Region_0_mean_forecast_2019-11-10_03.png\n",
      "saved  /home/disk/sipn/nicway/public_html/sipn/figures/model/all_model/sic/Regional_maps_NEW/Region_1_mean_forecast_2019-11-10_03.png\n",
      "saved  /home/disk/sipn/nicway/public_html/sipn/figures/model/all_model/sic/Regional_maps_NEW/Region_2_mean_forecast_2019-11-10_03.png\n",
      "saved  /home/disk/sipn/nicway/public_html/sipn/figures/model/all_model/sic/Regional_maps_NEW/Region_3_mean_forecast_2019-11-10_03.png\n",
      "saved  /home/disk/sipn/nicway/public_html/sipn/figures/model/all_model/sic/Regional_maps_NEW/Region_4_mean_forecast_2019-11-10_03.png\n",
      "saved  /home/disk/sipn/nicway/public_html/sipn/figures/model/all_model/sic/Regional_maps_NEW/Region_5_mean_forecast_2019-11-10_03.png\n",
      "saved  /home/disk/sipn/nicway/public_html/sipn/figures/model/all_model/sic/Regional_maps_NEW/Region_6_mean_forecast_2019-11-10_03.png\n",
      "saved  /home/disk/sipn/nicway/public_html/sipn/figures/model/all_model/sic/Regional_maps_NEW/Region_7_mean_forecast_2019-11-10_03.png\n",
      "plotting hist obs SIP\n"
     ]
    },
    {
     "name": "stderr",
     "output_type": "stream",
     "text": [
      "/home/disk/sipn/nicway/anaconda3/envs/esio/lib/python3.6/site-packages/xarray/core/nanops.py:161: RuntimeWarning: Mean of empty slice\n",
      "  return np.nanmean(a, axis=axis, dtype=dtype)\n"
     ]
    },
    {
     "name": "stdout",
     "output_type": "stream",
     "text": [
      "saved  /home/disk/sipn/nicway/public_html/sipn/figures/model/all_model/sic/Regional_maps_NEW/Region_0_SIP_forecast_2019-11-10_03.png\n",
      "plotting hist obs SIP\n"
     ]
    },
    {
     "name": "stderr",
     "output_type": "stream",
     "text": [
      "/home/disk/sipn/nicway/anaconda3/envs/esio/lib/python3.6/site-packages/xarray/core/nanops.py:161: RuntimeWarning: Mean of empty slice\n",
      "  return np.nanmean(a, axis=axis, dtype=dtype)\n"
     ]
    },
    {
     "name": "stdout",
     "output_type": "stream",
     "text": [
      "saved  /home/disk/sipn/nicway/public_html/sipn/figures/model/all_model/sic/Regional_maps_NEW/Region_1_SIP_forecast_2019-11-10_03.png\n",
      "plotting hist obs SIP\n"
     ]
    },
    {
     "name": "stderr",
     "output_type": "stream",
     "text": [
      "/home/disk/sipn/nicway/anaconda3/envs/esio/lib/python3.6/site-packages/xarray/core/nanops.py:161: RuntimeWarning: Mean of empty slice\n",
      "  return np.nanmean(a, axis=axis, dtype=dtype)\n"
     ]
    },
    {
     "name": "stdout",
     "output_type": "stream",
     "text": [
      "saved  /home/disk/sipn/nicway/public_html/sipn/figures/model/all_model/sic/Regional_maps_NEW/Region_2_SIP_forecast_2019-11-10_03.png\n",
      "plotting hist obs SIP\n"
     ]
    },
    {
     "name": "stderr",
     "output_type": "stream",
     "text": [
      "/home/disk/sipn/nicway/anaconda3/envs/esio/lib/python3.6/site-packages/xarray/core/nanops.py:161: RuntimeWarning: Mean of empty slice\n",
      "  return np.nanmean(a, axis=axis, dtype=dtype)\n"
     ]
    },
    {
     "name": "stdout",
     "output_type": "stream",
     "text": [
      "saved  /home/disk/sipn/nicway/public_html/sipn/figures/model/all_model/sic/Regional_maps_NEW/Region_3_SIP_forecast_2019-11-10_03.png\n",
      "plotting hist obs SIP\n"
     ]
    },
    {
     "name": "stderr",
     "output_type": "stream",
     "text": [
      "/home/disk/sipn/nicway/anaconda3/envs/esio/lib/python3.6/site-packages/xarray/core/nanops.py:161: RuntimeWarning: Mean of empty slice\n",
      "  return np.nanmean(a, axis=axis, dtype=dtype)\n"
     ]
    },
    {
     "name": "stdout",
     "output_type": "stream",
     "text": [
      "saved  /home/disk/sipn/nicway/public_html/sipn/figures/model/all_model/sic/Regional_maps_NEW/Region_4_SIP_forecast_2019-11-10_03.png\n",
      "plotting hist obs SIP\n"
     ]
    },
    {
     "name": "stderr",
     "output_type": "stream",
     "text": [
      "/home/disk/sipn/nicway/anaconda3/envs/esio/lib/python3.6/site-packages/xarray/core/nanops.py:161: RuntimeWarning: Mean of empty slice\n",
      "  return np.nanmean(a, axis=axis, dtype=dtype)\n"
     ]
    },
    {
     "name": "stdout",
     "output_type": "stream",
     "text": [
      "saved  /home/disk/sipn/nicway/public_html/sipn/figures/model/all_model/sic/Regional_maps_NEW/Region_5_SIP_forecast_2019-11-10_03.png\n",
      "plotting hist obs SIP\n"
     ]
    },
    {
     "name": "stderr",
     "output_type": "stream",
     "text": [
      "/home/disk/sipn/nicway/anaconda3/envs/esio/lib/python3.6/site-packages/xarray/core/nanops.py:161: RuntimeWarning: Mean of empty slice\n",
      "  return np.nanmean(a, axis=axis, dtype=dtype)\n"
     ]
    },
    {
     "name": "stdout",
     "output_type": "stream",
     "text": [
      "saved  /home/disk/sipn/nicway/public_html/sipn/figures/model/all_model/sic/Regional_maps_NEW/Region_6_SIP_forecast_2019-11-10_03.png\n",
      "plotting hist obs SIP\n"
     ]
    },
    {
     "name": "stderr",
     "output_type": "stream",
     "text": [
      "/home/disk/sipn/nicway/anaconda3/envs/esio/lib/python3.6/site-packages/xarray/core/nanops.py:161: RuntimeWarning: Mean of empty slice\n",
      "  return np.nanmean(a, axis=axis, dtype=dtype)\n"
     ]
    },
    {
     "name": "stdout",
     "output_type": "stream",
     "text": [
      "saved  /home/disk/sipn/nicway/public_html/sipn/figures/model/all_model/sic/Regional_maps_NEW/Region_7_SIP_forecast_2019-11-10_03.png\n",
      "Processing forecast time:  28 days\n",
      "4\n",
      "models to plot  ['MME', 'climo10yrs', 'dampedAnomalyTrend', 'gfdlsipn', 'ukmetofficesipn', 'ecmwfsipn', 'meteofrsipn', 'usnavysipn', 'fgoalssipn', 'kma', 'ecmwf', 'metreofr', 'ukmo', 'ncep']\n",
      "3 5 16\n",
      "saved  /home/disk/sipn/nicway/public_html/sipn/figures/model/all_model/sic/Regional_maps_NEW/Region_0_anomaly_forecast_2019-11-10_04.png\n",
      "saved  /home/disk/sipn/nicway/public_html/sipn/figures/model/all_model/sic/Regional_maps_NEW/Region_1_anomaly_forecast_2019-11-10_04.png\n",
      "saved  /home/disk/sipn/nicway/public_html/sipn/figures/model/all_model/sic/Regional_maps_NEW/Region_2_anomaly_forecast_2019-11-10_04.png\n",
      "saved  /home/disk/sipn/nicway/public_html/sipn/figures/model/all_model/sic/Regional_maps_NEW/Region_3_anomaly_forecast_2019-11-10_04.png\n",
      "saved  /home/disk/sipn/nicway/public_html/sipn/figures/model/all_model/sic/Regional_maps_NEW/Region_4_anomaly_forecast_2019-11-10_04.png\n",
      "saved  /home/disk/sipn/nicway/public_html/sipn/figures/model/all_model/sic/Regional_maps_NEW/Region_5_anomaly_forecast_2019-11-10_04.png\n",
      "saved  /home/disk/sipn/nicway/public_html/sipn/figures/model/all_model/sic/Regional_maps_NEW/Region_6_anomaly_forecast_2019-11-10_04.png\n",
      "saved  /home/disk/sipn/nicway/public_html/sipn/figures/model/all_model/sic/Regional_maps_NEW/Region_7_anomaly_forecast_2019-11-10_04.png\n",
      "saved  /home/disk/sipn/nicway/public_html/sipn/figures/model/all_model/sic/Regional_maps_NEW/Region_0_mean_forecast_2019-11-10_04.png\n",
      "saved  /home/disk/sipn/nicway/public_html/sipn/figures/model/all_model/sic/Regional_maps_NEW/Region_1_mean_forecast_2019-11-10_04.png\n",
      "saved  /home/disk/sipn/nicway/public_html/sipn/figures/model/all_model/sic/Regional_maps_NEW/Region_2_mean_forecast_2019-11-10_04.png\n",
      "saved  /home/disk/sipn/nicway/public_html/sipn/figures/model/all_model/sic/Regional_maps_NEW/Region_3_mean_forecast_2019-11-10_04.png\n",
      "saved  /home/disk/sipn/nicway/public_html/sipn/figures/model/all_model/sic/Regional_maps_NEW/Region_4_mean_forecast_2019-11-10_04.png\n",
      "saved  /home/disk/sipn/nicway/public_html/sipn/figures/model/all_model/sic/Regional_maps_NEW/Region_5_mean_forecast_2019-11-10_04.png\n",
      "saved  /home/disk/sipn/nicway/public_html/sipn/figures/model/all_model/sic/Regional_maps_NEW/Region_6_mean_forecast_2019-11-10_04.png\n",
      "saved  /home/disk/sipn/nicway/public_html/sipn/figures/model/all_model/sic/Regional_maps_NEW/Region_7_mean_forecast_2019-11-10_04.png\n",
      "plotting hist obs SIP\n"
     ]
    },
    {
     "name": "stderr",
     "output_type": "stream",
     "text": [
      "/home/disk/sipn/nicway/anaconda3/envs/esio/lib/python3.6/site-packages/xarray/core/nanops.py:161: RuntimeWarning: Mean of empty slice\n",
      "  return np.nanmean(a, axis=axis, dtype=dtype)\n"
     ]
    },
    {
     "name": "stdout",
     "output_type": "stream",
     "text": [
      "saved  /home/disk/sipn/nicway/public_html/sipn/figures/model/all_model/sic/Regional_maps_NEW/Region_0_SIP_forecast_2019-11-10_04.png\n",
      "plotting hist obs SIP\n"
     ]
    },
    {
     "name": "stderr",
     "output_type": "stream",
     "text": [
      "/home/disk/sipn/nicway/anaconda3/envs/esio/lib/python3.6/site-packages/xarray/core/nanops.py:161: RuntimeWarning: Mean of empty slice\n",
      "  return np.nanmean(a, axis=axis, dtype=dtype)\n"
     ]
    },
    {
     "name": "stdout",
     "output_type": "stream",
     "text": [
      "saved  /home/disk/sipn/nicway/public_html/sipn/figures/model/all_model/sic/Regional_maps_NEW/Region_1_SIP_forecast_2019-11-10_04.png\n",
      "plotting hist obs SIP\n"
     ]
    },
    {
     "name": "stderr",
     "output_type": "stream",
     "text": [
      "/home/disk/sipn/nicway/anaconda3/envs/esio/lib/python3.6/site-packages/xarray/core/nanops.py:161: RuntimeWarning: Mean of empty slice\n",
      "  return np.nanmean(a, axis=axis, dtype=dtype)\n"
     ]
    },
    {
     "name": "stdout",
     "output_type": "stream",
     "text": [
      "saved  /home/disk/sipn/nicway/public_html/sipn/figures/model/all_model/sic/Regional_maps_NEW/Region_2_SIP_forecast_2019-11-10_04.png\n",
      "plotting hist obs SIP\n"
     ]
    },
    {
     "name": "stderr",
     "output_type": "stream",
     "text": [
      "/home/disk/sipn/nicway/anaconda3/envs/esio/lib/python3.6/site-packages/xarray/core/nanops.py:161: RuntimeWarning: Mean of empty slice\n",
      "  return np.nanmean(a, axis=axis, dtype=dtype)\n"
     ]
    },
    {
     "name": "stdout",
     "output_type": "stream",
     "text": [
      "saved  /home/disk/sipn/nicway/public_html/sipn/figures/model/all_model/sic/Regional_maps_NEW/Region_3_SIP_forecast_2019-11-10_04.png\n",
      "plotting hist obs SIP\n"
     ]
    },
    {
     "name": "stderr",
     "output_type": "stream",
     "text": [
      "/home/disk/sipn/nicway/anaconda3/envs/esio/lib/python3.6/site-packages/xarray/core/nanops.py:161: RuntimeWarning: Mean of empty slice\n",
      "  return np.nanmean(a, axis=axis, dtype=dtype)\n"
     ]
    },
    {
     "name": "stdout",
     "output_type": "stream",
     "text": [
      "saved  /home/disk/sipn/nicway/public_html/sipn/figures/model/all_model/sic/Regional_maps_NEW/Region_4_SIP_forecast_2019-11-10_04.png\n",
      "plotting hist obs SIP\n"
     ]
    },
    {
     "name": "stderr",
     "output_type": "stream",
     "text": [
      "/home/disk/sipn/nicway/anaconda3/envs/esio/lib/python3.6/site-packages/xarray/core/nanops.py:161: RuntimeWarning: Mean of empty slice\n",
      "  return np.nanmean(a, axis=axis, dtype=dtype)\n"
     ]
    },
    {
     "name": "stdout",
     "output_type": "stream",
     "text": [
      "saved  /home/disk/sipn/nicway/public_html/sipn/figures/model/all_model/sic/Regional_maps_NEW/Region_5_SIP_forecast_2019-11-10_04.png\n",
      "plotting hist obs SIP\n"
     ]
    },
    {
     "name": "stderr",
     "output_type": "stream",
     "text": [
      "/home/disk/sipn/nicway/anaconda3/envs/esio/lib/python3.6/site-packages/xarray/core/nanops.py:161: RuntimeWarning: Mean of empty slice\n",
      "  return np.nanmean(a, axis=axis, dtype=dtype)\n"
     ]
    },
    {
     "name": "stdout",
     "output_type": "stream",
     "text": [
      "saved  /home/disk/sipn/nicway/public_html/sipn/figures/model/all_model/sic/Regional_maps_NEW/Region_6_SIP_forecast_2019-11-10_04.png\n"
     ]
    },
    {
     "name": "stderr",
     "output_type": "stream",
     "text": [
      "/home/disk/sipn/nicway/anaconda3/envs/esio/lib/python3.6/site-packages/xarray/core/nanops.py:161: RuntimeWarning: Mean of empty slice\n",
      "  return np.nanmean(a, axis=axis, dtype=dtype)\n"
     ]
    },
    {
     "name": "stdout",
     "output_type": "stream",
     "text": [
      "plotting hist obs SIP\n",
      "saved  /home/disk/sipn/nicway/public_html/sipn/figures/model/all_model/sic/Regional_maps_NEW/Region_7_SIP_forecast_2019-11-10_04.png\n",
      "Processing forecast time:  63 days\n",
      "5\n",
      "models to plot  ['MME', 'climo10yrs', 'dampedAnomalyTrend', 'gfdlsipn', 'ukmetofficesipn', 'ecmwfsipn', 'meteofrsipn', 'usnavysipn', 'fgoalssipn']\n",
      "2 5 11\n",
      "saved  /home/disk/sipn/nicway/public_html/sipn/figures/model/all_model/sic/Regional_maps_NEW/Region_0_anomaly_forecast_2019-11-10_05.png\n",
      "saved  /home/disk/sipn/nicway/public_html/sipn/figures/model/all_model/sic/Regional_maps_NEW/Region_1_anomaly_forecast_2019-11-10_05.png\n",
      "saved  /home/disk/sipn/nicway/public_html/sipn/figures/model/all_model/sic/Regional_maps_NEW/Region_2_anomaly_forecast_2019-11-10_05.png\n",
      "saved  /home/disk/sipn/nicway/public_html/sipn/figures/model/all_model/sic/Regional_maps_NEW/Region_3_anomaly_forecast_2019-11-10_05.png\n",
      "saved  /home/disk/sipn/nicway/public_html/sipn/figures/model/all_model/sic/Regional_maps_NEW/Region_4_anomaly_forecast_2019-11-10_05.png\n",
      "saved  /home/disk/sipn/nicway/public_html/sipn/figures/model/all_model/sic/Regional_maps_NEW/Region_5_anomaly_forecast_2019-11-10_05.png\n",
      "saved  /home/disk/sipn/nicway/public_html/sipn/figures/model/all_model/sic/Regional_maps_NEW/Region_6_anomaly_forecast_2019-11-10_05.png\n",
      "saved  /home/disk/sipn/nicway/public_html/sipn/figures/model/all_model/sic/Regional_maps_NEW/Region_7_anomaly_forecast_2019-11-10_05.png\n",
      "saved  /home/disk/sipn/nicway/public_html/sipn/figures/model/all_model/sic/Regional_maps_NEW/Region_0_mean_forecast_2019-11-10_05.png\n",
      "saved  /home/disk/sipn/nicway/public_html/sipn/figures/model/all_model/sic/Regional_maps_NEW/Region_1_mean_forecast_2019-11-10_05.png\n",
      "saved  /home/disk/sipn/nicway/public_html/sipn/figures/model/all_model/sic/Regional_maps_NEW/Region_2_mean_forecast_2019-11-10_05.png\n",
      "saved  /home/disk/sipn/nicway/public_html/sipn/figures/model/all_model/sic/Regional_maps_NEW/Region_3_mean_forecast_2019-11-10_05.png\n",
      "saved  /home/disk/sipn/nicway/public_html/sipn/figures/model/all_model/sic/Regional_maps_NEW/Region_4_mean_forecast_2019-11-10_05.png\n",
      "saved  /home/disk/sipn/nicway/public_html/sipn/figures/model/all_model/sic/Regional_maps_NEW/Region_5_mean_forecast_2019-11-10_05.png\n",
      "saved  /home/disk/sipn/nicway/public_html/sipn/figures/model/all_model/sic/Regional_maps_NEW/Region_6_mean_forecast_2019-11-10_05.png\n",
      "saved  /home/disk/sipn/nicway/public_html/sipn/figures/model/all_model/sic/Regional_maps_NEW/Region_7_mean_forecast_2019-11-10_05.png\n",
      "plotting hist obs SIP\n"
     ]
    },
    {
     "name": "stderr",
     "output_type": "stream",
     "text": [
      "/home/disk/sipn/nicway/anaconda3/envs/esio/lib/python3.6/site-packages/xarray/core/nanops.py:161: RuntimeWarning: Mean of empty slice\n",
      "  return np.nanmean(a, axis=axis, dtype=dtype)\n"
     ]
    },
    {
     "name": "stdout",
     "output_type": "stream",
     "text": [
      "saved  /home/disk/sipn/nicway/public_html/sipn/figures/model/all_model/sic/Regional_maps_NEW/Region_0_SIP_forecast_2019-11-10_05.png\n",
      "plotting hist obs SIP\n"
     ]
    },
    {
     "name": "stderr",
     "output_type": "stream",
     "text": [
      "/home/disk/sipn/nicway/anaconda3/envs/esio/lib/python3.6/site-packages/xarray/core/nanops.py:161: RuntimeWarning: Mean of empty slice\n",
      "  return np.nanmean(a, axis=axis, dtype=dtype)\n"
     ]
    },
    {
     "name": "stdout",
     "output_type": "stream",
     "text": [
      "saved  /home/disk/sipn/nicway/public_html/sipn/figures/model/all_model/sic/Regional_maps_NEW/Region_1_SIP_forecast_2019-11-10_05.png\n",
      "plotting hist obs SIP\n"
     ]
    },
    {
     "name": "stderr",
     "output_type": "stream",
     "text": [
      "/home/disk/sipn/nicway/anaconda3/envs/esio/lib/python3.6/site-packages/xarray/core/nanops.py:161: RuntimeWarning: Mean of empty slice\n",
      "  return np.nanmean(a, axis=axis, dtype=dtype)\n"
     ]
    },
    {
     "name": "stdout",
     "output_type": "stream",
     "text": [
      "saved  /home/disk/sipn/nicway/public_html/sipn/figures/model/all_model/sic/Regional_maps_NEW/Region_2_SIP_forecast_2019-11-10_05.png\n",
      "plotting hist obs SIP\n"
     ]
    },
    {
     "name": "stderr",
     "output_type": "stream",
     "text": [
      "/home/disk/sipn/nicway/anaconda3/envs/esio/lib/python3.6/site-packages/xarray/core/nanops.py:161: RuntimeWarning: Mean of empty slice\n",
      "  return np.nanmean(a, axis=axis, dtype=dtype)\n"
     ]
    },
    {
     "name": "stdout",
     "output_type": "stream",
     "text": [
      "saved  /home/disk/sipn/nicway/public_html/sipn/figures/model/all_model/sic/Regional_maps_NEW/Region_3_SIP_forecast_2019-11-10_05.png\n",
      "plotting hist obs SIP\n"
     ]
    },
    {
     "name": "stderr",
     "output_type": "stream",
     "text": [
      "/home/disk/sipn/nicway/anaconda3/envs/esio/lib/python3.6/site-packages/xarray/core/nanops.py:161: RuntimeWarning: Mean of empty slice\n",
      "  return np.nanmean(a, axis=axis, dtype=dtype)\n"
     ]
    },
    {
     "name": "stdout",
     "output_type": "stream",
     "text": [
      "saved  /home/disk/sipn/nicway/public_html/sipn/figures/model/all_model/sic/Regional_maps_NEW/Region_4_SIP_forecast_2019-11-10_05.png\n",
      "plotting hist obs SIP\n"
     ]
    },
    {
     "name": "stderr",
     "output_type": "stream",
     "text": [
      "/home/disk/sipn/nicway/anaconda3/envs/esio/lib/python3.6/site-packages/xarray/core/nanops.py:161: RuntimeWarning: Mean of empty slice\n",
      "  return np.nanmean(a, axis=axis, dtype=dtype)\n"
     ]
    },
    {
     "name": "stdout",
     "output_type": "stream",
     "text": [
      "saved  /home/disk/sipn/nicway/public_html/sipn/figures/model/all_model/sic/Regional_maps_NEW/Region_5_SIP_forecast_2019-11-10_05.png\n",
      "plotting hist obs SIP\n"
     ]
    },
    {
     "name": "stderr",
     "output_type": "stream",
     "text": [
      "/home/disk/sipn/nicway/anaconda3/envs/esio/lib/python3.6/site-packages/xarray/core/nanops.py:161: RuntimeWarning: Mean of empty slice\n",
      "  return np.nanmean(a, axis=axis, dtype=dtype)\n"
     ]
    },
    {
     "name": "stdout",
     "output_type": "stream",
     "text": [
      "saved  /home/disk/sipn/nicway/public_html/sipn/figures/model/all_model/sic/Regional_maps_NEW/Region_6_SIP_forecast_2019-11-10_05.png\n",
      "plotting hist obs SIP\n"
     ]
    },
    {
     "name": "stderr",
     "output_type": "stream",
     "text": [
      "/home/disk/sipn/nicway/anaconda3/envs/esio/lib/python3.6/site-packages/xarray/core/nanops.py:161: RuntimeWarning: Mean of empty slice\n",
      "  return np.nanmean(a, axis=axis, dtype=dtype)\n"
     ]
    },
    {
     "name": "stdout",
     "output_type": "stream",
     "text": [
      "saved  /home/disk/sipn/nicway/public_html/sipn/figures/model/all_model/sic/Regional_maps_NEW/Region_7_SIP_forecast_2019-11-10_05.png\n",
      "Processing forecast time:  91 days\n",
      "6\n",
      "models to plot  ['MME', 'climo10yrs', 'dampedAnomalyTrend', 'gfdlsipn', 'ukmetofficesipn', 'ecmwfsipn', 'meteofrsipn', 'usnavysipn', 'fgoalssipn']\n",
      "2 5 11\n",
      "saved  /home/disk/sipn/nicway/public_html/sipn/figures/model/all_model/sic/Regional_maps_NEW/Region_0_anomaly_forecast_2019-11-10_06.png\n",
      "saved  /home/disk/sipn/nicway/public_html/sipn/figures/model/all_model/sic/Regional_maps_NEW/Region_1_anomaly_forecast_2019-11-10_06.png\n",
      "saved  /home/disk/sipn/nicway/public_html/sipn/figures/model/all_model/sic/Regional_maps_NEW/Region_2_anomaly_forecast_2019-11-10_06.png\n",
      "saved  /home/disk/sipn/nicway/public_html/sipn/figures/model/all_model/sic/Regional_maps_NEW/Region_3_anomaly_forecast_2019-11-10_06.png\n",
      "saved  /home/disk/sipn/nicway/public_html/sipn/figures/model/all_model/sic/Regional_maps_NEW/Region_4_anomaly_forecast_2019-11-10_06.png\n",
      "saved  /home/disk/sipn/nicway/public_html/sipn/figures/model/all_model/sic/Regional_maps_NEW/Region_5_anomaly_forecast_2019-11-10_06.png\n",
      "saved  /home/disk/sipn/nicway/public_html/sipn/figures/model/all_model/sic/Regional_maps_NEW/Region_6_anomaly_forecast_2019-11-10_06.png\n",
      "saved  /home/disk/sipn/nicway/public_html/sipn/figures/model/all_model/sic/Regional_maps_NEW/Region_7_anomaly_forecast_2019-11-10_06.png\n",
      "saved  /home/disk/sipn/nicway/public_html/sipn/figures/model/all_model/sic/Regional_maps_NEW/Region_0_mean_forecast_2019-11-10_06.png\n",
      "saved  /home/disk/sipn/nicway/public_html/sipn/figures/model/all_model/sic/Regional_maps_NEW/Region_1_mean_forecast_2019-11-10_06.png\n",
      "saved  /home/disk/sipn/nicway/public_html/sipn/figures/model/all_model/sic/Regional_maps_NEW/Region_2_mean_forecast_2019-11-10_06.png\n",
      "saved  /home/disk/sipn/nicway/public_html/sipn/figures/model/all_model/sic/Regional_maps_NEW/Region_3_mean_forecast_2019-11-10_06.png\n",
      "saved  /home/disk/sipn/nicway/public_html/sipn/figures/model/all_model/sic/Regional_maps_NEW/Region_4_mean_forecast_2019-11-10_06.png\n",
      "saved  /home/disk/sipn/nicway/public_html/sipn/figures/model/all_model/sic/Regional_maps_NEW/Region_5_mean_forecast_2019-11-10_06.png\n",
      "saved  /home/disk/sipn/nicway/public_html/sipn/figures/model/all_model/sic/Regional_maps_NEW/Region_6_mean_forecast_2019-11-10_06.png\n",
      "saved  /home/disk/sipn/nicway/public_html/sipn/figures/model/all_model/sic/Regional_maps_NEW/Region_7_mean_forecast_2019-11-10_06.png\n",
      "plotting hist obs SIP\n"
     ]
    },
    {
     "name": "stderr",
     "output_type": "stream",
     "text": [
      "/home/disk/sipn/nicway/anaconda3/envs/esio/lib/python3.6/site-packages/xarray/core/nanops.py:161: RuntimeWarning: Mean of empty slice\n",
      "  return np.nanmean(a, axis=axis, dtype=dtype)\n"
     ]
    },
    {
     "name": "stdout",
     "output_type": "stream",
     "text": [
      "saved  /home/disk/sipn/nicway/public_html/sipn/figures/model/all_model/sic/Regional_maps_NEW/Region_0_SIP_forecast_2019-11-10_06.png\n",
      "plotting hist obs SIP\n"
     ]
    },
    {
     "name": "stderr",
     "output_type": "stream",
     "text": [
      "/home/disk/sipn/nicway/anaconda3/envs/esio/lib/python3.6/site-packages/xarray/core/nanops.py:161: RuntimeWarning: Mean of empty slice\n",
      "  return np.nanmean(a, axis=axis, dtype=dtype)\n"
     ]
    },
    {
     "name": "stdout",
     "output_type": "stream",
     "text": [
      "saved  /home/disk/sipn/nicway/public_html/sipn/figures/model/all_model/sic/Regional_maps_NEW/Region_1_SIP_forecast_2019-11-10_06.png\n",
      "plotting hist obs SIP\n"
     ]
    },
    {
     "name": "stderr",
     "output_type": "stream",
     "text": [
      "/home/disk/sipn/nicway/anaconda3/envs/esio/lib/python3.6/site-packages/xarray/core/nanops.py:161: RuntimeWarning: Mean of empty slice\n",
      "  return np.nanmean(a, axis=axis, dtype=dtype)\n"
     ]
    },
    {
     "name": "stdout",
     "output_type": "stream",
     "text": [
      "saved  /home/disk/sipn/nicway/public_html/sipn/figures/model/all_model/sic/Regional_maps_NEW/Region_2_SIP_forecast_2019-11-10_06.png\n",
      "plotting hist obs SIP\n"
     ]
    },
    {
     "name": "stderr",
     "output_type": "stream",
     "text": [
      "/home/disk/sipn/nicway/anaconda3/envs/esio/lib/python3.6/site-packages/xarray/core/nanops.py:161: RuntimeWarning: Mean of empty slice\n",
      "  return np.nanmean(a, axis=axis, dtype=dtype)\n"
     ]
    },
    {
     "name": "stdout",
     "output_type": "stream",
     "text": [
      "saved  /home/disk/sipn/nicway/public_html/sipn/figures/model/all_model/sic/Regional_maps_NEW/Region_3_SIP_forecast_2019-11-10_06.png\n",
      "plotting hist obs SIP\n"
     ]
    },
    {
     "name": "stderr",
     "output_type": "stream",
     "text": [
      "/home/disk/sipn/nicway/anaconda3/envs/esio/lib/python3.6/site-packages/xarray/core/nanops.py:161: RuntimeWarning: Mean of empty slice\n",
      "  return np.nanmean(a, axis=axis, dtype=dtype)\n"
     ]
    },
    {
     "name": "stdout",
     "output_type": "stream",
     "text": [
      "saved  /home/disk/sipn/nicway/public_html/sipn/figures/model/all_model/sic/Regional_maps_NEW/Region_4_SIP_forecast_2019-11-10_06.png\n",
      "plotting hist obs SIP\n"
     ]
    },
    {
     "name": "stderr",
     "output_type": "stream",
     "text": [
      "/home/disk/sipn/nicway/anaconda3/envs/esio/lib/python3.6/site-packages/xarray/core/nanops.py:161: RuntimeWarning: Mean of empty slice\n",
      "  return np.nanmean(a, axis=axis, dtype=dtype)\n"
     ]
    },
    {
     "name": "stdout",
     "output_type": "stream",
     "text": [
      "saved  /home/disk/sipn/nicway/public_html/sipn/figures/model/all_model/sic/Regional_maps_NEW/Region_5_SIP_forecast_2019-11-10_06.png\n",
      "plotting hist obs SIP\n"
     ]
    },
    {
     "name": "stderr",
     "output_type": "stream",
     "text": [
      "/home/disk/sipn/nicway/anaconda3/envs/esio/lib/python3.6/site-packages/xarray/core/nanops.py:161: RuntimeWarning: Mean of empty slice\n",
      "  return np.nanmean(a, axis=axis, dtype=dtype)\n"
     ]
    },
    {
     "name": "stdout",
     "output_type": "stream",
     "text": [
      "saved  /home/disk/sipn/nicway/public_html/sipn/figures/model/all_model/sic/Regional_maps_NEW/Region_6_SIP_forecast_2019-11-10_06.png\n",
      "plotting hist obs SIP\n"
     ]
    },
    {
     "name": "stderr",
     "output_type": "stream",
     "text": [
      "/home/disk/sipn/nicway/anaconda3/envs/esio/lib/python3.6/site-packages/xarray/core/nanops.py:161: RuntimeWarning: Mean of empty slice\n",
      "  return np.nanmean(a, axis=axis, dtype=dtype)\n"
     ]
    },
    {
     "name": "stdout",
     "output_type": "stream",
     "text": [
      "saved  /home/disk/sipn/nicway/public_html/sipn/figures/model/all_model/sic/Regional_maps_NEW/Region_7_SIP_forecast_2019-11-10_06.png\n",
      "Processing forecast time:  119 days\n",
      "7\n",
      "models to plot  ['MME', 'climo10yrs', 'dampedAnomalyTrend', 'gfdlsipn', 'ukmetofficesipn', 'ecmwfsipn', 'meteofrsipn', 'usnavysipn']\n",
      "2 5 10\n",
      "saved  /home/disk/sipn/nicway/public_html/sipn/figures/model/all_model/sic/Regional_maps_NEW/Region_0_anomaly_forecast_2019-11-10_07.png\n",
      "saved  /home/disk/sipn/nicway/public_html/sipn/figures/model/all_model/sic/Regional_maps_NEW/Region_1_anomaly_forecast_2019-11-10_07.png\n",
      "saved  /home/disk/sipn/nicway/public_html/sipn/figures/model/all_model/sic/Regional_maps_NEW/Region_2_anomaly_forecast_2019-11-10_07.png\n",
      "saved  /home/disk/sipn/nicway/public_html/sipn/figures/model/all_model/sic/Regional_maps_NEW/Region_3_anomaly_forecast_2019-11-10_07.png\n",
      "saved  /home/disk/sipn/nicway/public_html/sipn/figures/model/all_model/sic/Regional_maps_NEW/Region_4_anomaly_forecast_2019-11-10_07.png\n",
      "saved  /home/disk/sipn/nicway/public_html/sipn/figures/model/all_model/sic/Regional_maps_NEW/Region_5_anomaly_forecast_2019-11-10_07.png\n",
      "saved  /home/disk/sipn/nicway/public_html/sipn/figures/model/all_model/sic/Regional_maps_NEW/Region_6_anomaly_forecast_2019-11-10_07.png\n",
      "saved  /home/disk/sipn/nicway/public_html/sipn/figures/model/all_model/sic/Regional_maps_NEW/Region_7_anomaly_forecast_2019-11-10_07.png\n",
      "saved  /home/disk/sipn/nicway/public_html/sipn/figures/model/all_model/sic/Regional_maps_NEW/Region_0_mean_forecast_2019-11-10_07.png\n",
      "saved  /home/disk/sipn/nicway/public_html/sipn/figures/model/all_model/sic/Regional_maps_NEW/Region_1_mean_forecast_2019-11-10_07.png\n",
      "saved  /home/disk/sipn/nicway/public_html/sipn/figures/model/all_model/sic/Regional_maps_NEW/Region_2_mean_forecast_2019-11-10_07.png\n",
      "saved  /home/disk/sipn/nicway/public_html/sipn/figures/model/all_model/sic/Regional_maps_NEW/Region_3_mean_forecast_2019-11-10_07.png\n",
      "saved  /home/disk/sipn/nicway/public_html/sipn/figures/model/all_model/sic/Regional_maps_NEW/Region_4_mean_forecast_2019-11-10_07.png\n",
      "saved  /home/disk/sipn/nicway/public_html/sipn/figures/model/all_model/sic/Regional_maps_NEW/Region_5_mean_forecast_2019-11-10_07.png\n",
      "saved  /home/disk/sipn/nicway/public_html/sipn/figures/model/all_model/sic/Regional_maps_NEW/Region_6_mean_forecast_2019-11-10_07.png\n",
      "saved  /home/disk/sipn/nicway/public_html/sipn/figures/model/all_model/sic/Regional_maps_NEW/Region_7_mean_forecast_2019-11-10_07.png\n",
      "plotting hist obs SIP\n"
     ]
    },
    {
     "name": "stderr",
     "output_type": "stream",
     "text": [
      "/home/disk/sipn/nicway/anaconda3/envs/esio/lib/python3.6/site-packages/xarray/core/nanops.py:161: RuntimeWarning: Mean of empty slice\n",
      "  return np.nanmean(a, axis=axis, dtype=dtype)\n"
     ]
    },
    {
     "name": "stdout",
     "output_type": "stream",
     "text": [
      "saved  /home/disk/sipn/nicway/public_html/sipn/figures/model/all_model/sic/Regional_maps_NEW/Region_0_SIP_forecast_2019-11-10_07.png\n",
      "plotting hist obs SIP\n"
     ]
    },
    {
     "name": "stderr",
     "output_type": "stream",
     "text": [
      "/home/disk/sipn/nicway/anaconda3/envs/esio/lib/python3.6/site-packages/xarray/core/nanops.py:161: RuntimeWarning: Mean of empty slice\n",
      "  return np.nanmean(a, axis=axis, dtype=dtype)\n"
     ]
    },
    {
     "name": "stdout",
     "output_type": "stream",
     "text": [
      "saved  /home/disk/sipn/nicway/public_html/sipn/figures/model/all_model/sic/Regional_maps_NEW/Region_1_SIP_forecast_2019-11-10_07.png\n",
      "plotting hist obs SIP\n"
     ]
    },
    {
     "name": "stderr",
     "output_type": "stream",
     "text": [
      "/home/disk/sipn/nicway/anaconda3/envs/esio/lib/python3.6/site-packages/xarray/core/nanops.py:161: RuntimeWarning: Mean of empty slice\n",
      "  return np.nanmean(a, axis=axis, dtype=dtype)\n"
     ]
    },
    {
     "name": "stdout",
     "output_type": "stream",
     "text": [
      "saved  /home/disk/sipn/nicway/public_html/sipn/figures/model/all_model/sic/Regional_maps_NEW/Region_2_SIP_forecast_2019-11-10_07.png\n",
      "plotting hist obs SIP\n"
     ]
    },
    {
     "name": "stderr",
     "output_type": "stream",
     "text": [
      "/home/disk/sipn/nicway/anaconda3/envs/esio/lib/python3.6/site-packages/xarray/core/nanops.py:161: RuntimeWarning: Mean of empty slice\n",
      "  return np.nanmean(a, axis=axis, dtype=dtype)\n"
     ]
    },
    {
     "name": "stdout",
     "output_type": "stream",
     "text": [
      "saved  /home/disk/sipn/nicway/public_html/sipn/figures/model/all_model/sic/Regional_maps_NEW/Region_3_SIP_forecast_2019-11-10_07.png\n",
      "plotting hist obs SIP\n"
     ]
    },
    {
     "name": "stderr",
     "output_type": "stream",
     "text": [
      "/home/disk/sipn/nicway/anaconda3/envs/esio/lib/python3.6/site-packages/xarray/core/nanops.py:161: RuntimeWarning: Mean of empty slice\n",
      "  return np.nanmean(a, axis=axis, dtype=dtype)\n"
     ]
    },
    {
     "name": "stdout",
     "output_type": "stream",
     "text": [
      "saved  /home/disk/sipn/nicway/public_html/sipn/figures/model/all_model/sic/Regional_maps_NEW/Region_4_SIP_forecast_2019-11-10_07.png\n",
      "plotting hist obs SIP\n"
     ]
    },
    {
     "name": "stderr",
     "output_type": "stream",
     "text": [
      "/home/disk/sipn/nicway/anaconda3/envs/esio/lib/python3.6/site-packages/xarray/core/nanops.py:161: RuntimeWarning: Mean of empty slice\n",
      "  return np.nanmean(a, axis=axis, dtype=dtype)\n"
     ]
    },
    {
     "name": "stdout",
     "output_type": "stream",
     "text": [
      "saved  /home/disk/sipn/nicway/public_html/sipn/figures/model/all_model/sic/Regional_maps_NEW/Region_5_SIP_forecast_2019-11-10_07.png\n",
      "plotting hist obs SIP\n"
     ]
    },
    {
     "name": "stderr",
     "output_type": "stream",
     "text": [
      "/home/disk/sipn/nicway/anaconda3/envs/esio/lib/python3.6/site-packages/xarray/core/nanops.py:161: RuntimeWarning: Mean of empty slice\n",
      "  return np.nanmean(a, axis=axis, dtype=dtype)\n"
     ]
    },
    {
     "name": "stdout",
     "output_type": "stream",
     "text": [
      "saved  /home/disk/sipn/nicway/public_html/sipn/figures/model/all_model/sic/Regional_maps_NEW/Region_6_SIP_forecast_2019-11-10_07.png\n",
      "plotting hist obs SIP\n"
     ]
    },
    {
     "name": "stderr",
     "output_type": "stream",
     "text": [
      "/home/disk/sipn/nicway/anaconda3/envs/esio/lib/python3.6/site-packages/xarray/core/nanops.py:161: RuntimeWarning: Mean of empty slice\n",
      "  return np.nanmean(a, axis=axis, dtype=dtype)\n"
     ]
    },
    {
     "name": "stdout",
     "output_type": "stream",
     "text": [
      "saved  /home/disk/sipn/nicway/public_html/sipn/figures/model/all_model/sic/Regional_maps_NEW/Region_7_SIP_forecast_2019-11-10_07.png\n",
      "Processing forecast time:  154 days\n",
      "8\n",
      "models to plot  ['MME', 'climo10yrs', 'dampedAnomalyTrend', 'gfdlsipn', 'ukmetofficesipn', 'ecmwfsipn', 'meteofrsipn', 'usnavysipn']\n",
      "2 5 10\n",
      "saved  /home/disk/sipn/nicway/public_html/sipn/figures/model/all_model/sic/Regional_maps_NEW/Region_0_anomaly_forecast_2019-11-10_08.png\n",
      "saved  /home/disk/sipn/nicway/public_html/sipn/figures/model/all_model/sic/Regional_maps_NEW/Region_1_anomaly_forecast_2019-11-10_08.png\n",
      "saved  /home/disk/sipn/nicway/public_html/sipn/figures/model/all_model/sic/Regional_maps_NEW/Region_2_anomaly_forecast_2019-11-10_08.png\n",
      "saved  /home/disk/sipn/nicway/public_html/sipn/figures/model/all_model/sic/Regional_maps_NEW/Region_3_anomaly_forecast_2019-11-10_08.png\n",
      "saved  /home/disk/sipn/nicway/public_html/sipn/figures/model/all_model/sic/Regional_maps_NEW/Region_4_anomaly_forecast_2019-11-10_08.png\n",
      "saved  /home/disk/sipn/nicway/public_html/sipn/figures/model/all_model/sic/Regional_maps_NEW/Region_5_anomaly_forecast_2019-11-10_08.png\n",
      "saved  /home/disk/sipn/nicway/public_html/sipn/figures/model/all_model/sic/Regional_maps_NEW/Region_6_anomaly_forecast_2019-11-10_08.png\n",
      "saved  /home/disk/sipn/nicway/public_html/sipn/figures/model/all_model/sic/Regional_maps_NEW/Region_7_anomaly_forecast_2019-11-10_08.png\n",
      "saved  /home/disk/sipn/nicway/public_html/sipn/figures/model/all_model/sic/Regional_maps_NEW/Region_0_mean_forecast_2019-11-10_08.png\n",
      "saved  /home/disk/sipn/nicway/public_html/sipn/figures/model/all_model/sic/Regional_maps_NEW/Region_1_mean_forecast_2019-11-10_08.png\n",
      "saved  /home/disk/sipn/nicway/public_html/sipn/figures/model/all_model/sic/Regional_maps_NEW/Region_2_mean_forecast_2019-11-10_08.png\n",
      "saved  /home/disk/sipn/nicway/public_html/sipn/figures/model/all_model/sic/Regional_maps_NEW/Region_3_mean_forecast_2019-11-10_08.png\n",
      "saved  /home/disk/sipn/nicway/public_html/sipn/figures/model/all_model/sic/Regional_maps_NEW/Region_4_mean_forecast_2019-11-10_08.png\n",
      "saved  /home/disk/sipn/nicway/public_html/sipn/figures/model/all_model/sic/Regional_maps_NEW/Region_5_mean_forecast_2019-11-10_08.png\n",
      "saved  /home/disk/sipn/nicway/public_html/sipn/figures/model/all_model/sic/Regional_maps_NEW/Region_6_mean_forecast_2019-11-10_08.png\n",
      "saved  /home/disk/sipn/nicway/public_html/sipn/figures/model/all_model/sic/Regional_maps_NEW/Region_7_mean_forecast_2019-11-10_08.png\n",
      "plotting hist obs SIP\n"
     ]
    },
    {
     "name": "stderr",
     "output_type": "stream",
     "text": [
      "/home/disk/sipn/nicway/anaconda3/envs/esio/lib/python3.6/site-packages/xarray/core/nanops.py:161: RuntimeWarning: Mean of empty slice\n",
      "  return np.nanmean(a, axis=axis, dtype=dtype)\n"
     ]
    },
    {
     "name": "stdout",
     "output_type": "stream",
     "text": [
      "saved  /home/disk/sipn/nicway/public_html/sipn/figures/model/all_model/sic/Regional_maps_NEW/Region_0_SIP_forecast_2019-11-10_08.png\n",
      "plotting hist obs SIP\n"
     ]
    },
    {
     "name": "stderr",
     "output_type": "stream",
     "text": [
      "/home/disk/sipn/nicway/anaconda3/envs/esio/lib/python3.6/site-packages/xarray/core/nanops.py:161: RuntimeWarning: Mean of empty slice\n",
      "  return np.nanmean(a, axis=axis, dtype=dtype)\n"
     ]
    },
    {
     "name": "stdout",
     "output_type": "stream",
     "text": [
      "saved  /home/disk/sipn/nicway/public_html/sipn/figures/model/all_model/sic/Regional_maps_NEW/Region_1_SIP_forecast_2019-11-10_08.png\n",
      "plotting hist obs SIP\n"
     ]
    },
    {
     "name": "stderr",
     "output_type": "stream",
     "text": [
      "/home/disk/sipn/nicway/anaconda3/envs/esio/lib/python3.6/site-packages/xarray/core/nanops.py:161: RuntimeWarning: Mean of empty slice\n",
      "  return np.nanmean(a, axis=axis, dtype=dtype)\n"
     ]
    },
    {
     "name": "stdout",
     "output_type": "stream",
     "text": [
      "saved  /home/disk/sipn/nicway/public_html/sipn/figures/model/all_model/sic/Regional_maps_NEW/Region_2_SIP_forecast_2019-11-10_08.png\n",
      "plotting hist obs SIP\n"
     ]
    },
    {
     "name": "stderr",
     "output_type": "stream",
     "text": [
      "/home/disk/sipn/nicway/anaconda3/envs/esio/lib/python3.6/site-packages/xarray/core/nanops.py:161: RuntimeWarning: Mean of empty slice\n",
      "  return np.nanmean(a, axis=axis, dtype=dtype)\n"
     ]
    },
    {
     "name": "stdout",
     "output_type": "stream",
     "text": [
      "saved  /home/disk/sipn/nicway/public_html/sipn/figures/model/all_model/sic/Regional_maps_NEW/Region_3_SIP_forecast_2019-11-10_08.png\n",
      "plotting hist obs SIP\n"
     ]
    },
    {
     "name": "stderr",
     "output_type": "stream",
     "text": [
      "/home/disk/sipn/nicway/anaconda3/envs/esio/lib/python3.6/site-packages/xarray/core/nanops.py:161: RuntimeWarning: Mean of empty slice\n",
      "  return np.nanmean(a, axis=axis, dtype=dtype)\n"
     ]
    },
    {
     "name": "stdout",
     "output_type": "stream",
     "text": [
      "saved  /home/disk/sipn/nicway/public_html/sipn/figures/model/all_model/sic/Regional_maps_NEW/Region_4_SIP_forecast_2019-11-10_08.png\n",
      "plotting hist obs SIP\n"
     ]
    },
    {
     "name": "stderr",
     "output_type": "stream",
     "text": [
      "/home/disk/sipn/nicway/anaconda3/envs/esio/lib/python3.6/site-packages/xarray/core/nanops.py:161: RuntimeWarning: Mean of empty slice\n",
      "  return np.nanmean(a, axis=axis, dtype=dtype)\n"
     ]
    },
    {
     "name": "stdout",
     "output_type": "stream",
     "text": [
      "saved  /home/disk/sipn/nicway/public_html/sipn/figures/model/all_model/sic/Regional_maps_NEW/Region_5_SIP_forecast_2019-11-10_08.png\n",
      "plotting hist obs SIP\n"
     ]
    },
    {
     "name": "stderr",
     "output_type": "stream",
     "text": [
      "/home/disk/sipn/nicway/anaconda3/envs/esio/lib/python3.6/site-packages/xarray/core/nanops.py:161: RuntimeWarning: Mean of empty slice\n",
      "  return np.nanmean(a, axis=axis, dtype=dtype)\n"
     ]
    },
    {
     "name": "stdout",
     "output_type": "stream",
     "text": [
      "saved  /home/disk/sipn/nicway/public_html/sipn/figures/model/all_model/sic/Regional_maps_NEW/Region_6_SIP_forecast_2019-11-10_08.png\n",
      "plotting hist obs SIP\n"
     ]
    },
    {
     "name": "stderr",
     "output_type": "stream",
     "text": [
      "/home/disk/sipn/nicway/anaconda3/envs/esio/lib/python3.6/site-packages/xarray/core/nanops.py:161: RuntimeWarning: Mean of empty slice\n",
      "  return np.nanmean(a, axis=axis, dtype=dtype)\n"
     ]
    },
    {
     "name": "stdout",
     "output_type": "stream",
     "text": [
      "saved  /home/disk/sipn/nicway/public_html/sipn/figures/model/all_model/sic/Regional_maps_NEW/Region_7_SIP_forecast_2019-11-10_08.png\n",
      "Processing forecast time:  182 days\n",
      "9\n",
      "models to plot  ['MME', 'climo10yrs', 'dampedAnomalyTrend', 'gfdlsipn', 'ukmetofficesipn', 'ecmwfsipn', 'meteofrsipn', 'usnavysipn']\n",
      "2 5 10\n",
      "saved  /home/disk/sipn/nicway/public_html/sipn/figures/model/all_model/sic/Regional_maps_NEW/Region_0_anomaly_forecast_2019-11-10_09.png\n",
      "saved  /home/disk/sipn/nicway/public_html/sipn/figures/model/all_model/sic/Regional_maps_NEW/Region_1_anomaly_forecast_2019-11-10_09.png\n",
      "saved  /home/disk/sipn/nicway/public_html/sipn/figures/model/all_model/sic/Regional_maps_NEW/Region_2_anomaly_forecast_2019-11-10_09.png\n",
      "saved  /home/disk/sipn/nicway/public_html/sipn/figures/model/all_model/sic/Regional_maps_NEW/Region_3_anomaly_forecast_2019-11-10_09.png\n",
      "saved  /home/disk/sipn/nicway/public_html/sipn/figures/model/all_model/sic/Regional_maps_NEW/Region_4_anomaly_forecast_2019-11-10_09.png\n",
      "saved  /home/disk/sipn/nicway/public_html/sipn/figures/model/all_model/sic/Regional_maps_NEW/Region_5_anomaly_forecast_2019-11-10_09.png\n",
      "saved  /home/disk/sipn/nicway/public_html/sipn/figures/model/all_model/sic/Regional_maps_NEW/Region_6_anomaly_forecast_2019-11-10_09.png\n",
      "saved  /home/disk/sipn/nicway/public_html/sipn/figures/model/all_model/sic/Regional_maps_NEW/Region_7_anomaly_forecast_2019-11-10_09.png\n",
      "saved  /home/disk/sipn/nicway/public_html/sipn/figures/model/all_model/sic/Regional_maps_NEW/Region_0_mean_forecast_2019-11-10_09.png\n",
      "saved  /home/disk/sipn/nicway/public_html/sipn/figures/model/all_model/sic/Regional_maps_NEW/Region_1_mean_forecast_2019-11-10_09.png\n",
      "saved  /home/disk/sipn/nicway/public_html/sipn/figures/model/all_model/sic/Regional_maps_NEW/Region_2_mean_forecast_2019-11-10_09.png\n",
      "saved  /home/disk/sipn/nicway/public_html/sipn/figures/model/all_model/sic/Regional_maps_NEW/Region_3_mean_forecast_2019-11-10_09.png\n",
      "saved  /home/disk/sipn/nicway/public_html/sipn/figures/model/all_model/sic/Regional_maps_NEW/Region_4_mean_forecast_2019-11-10_09.png\n",
      "saved  /home/disk/sipn/nicway/public_html/sipn/figures/model/all_model/sic/Regional_maps_NEW/Region_5_mean_forecast_2019-11-10_09.png\n",
      "saved  /home/disk/sipn/nicway/public_html/sipn/figures/model/all_model/sic/Regional_maps_NEW/Region_6_mean_forecast_2019-11-10_09.png\n",
      "saved  /home/disk/sipn/nicway/public_html/sipn/figures/model/all_model/sic/Regional_maps_NEW/Region_7_mean_forecast_2019-11-10_09.png\n"
     ]
    },
    {
     "name": "stderr",
     "output_type": "stream",
     "text": [
      "/home/disk/sipn/nicway/anaconda3/envs/esio/lib/python3.6/site-packages/xarray/core/nanops.py:161: RuntimeWarning: Mean of empty slice\n",
      "  return np.nanmean(a, axis=axis, dtype=dtype)\n"
     ]
    },
    {
     "name": "stdout",
     "output_type": "stream",
     "text": [
      "plotting hist obs SIP\n",
      "saved  /home/disk/sipn/nicway/public_html/sipn/figures/model/all_model/sic/Regional_maps_NEW/Region_0_SIP_forecast_2019-11-10_09.png\n",
      "plotting hist obs SIP\n"
     ]
    },
    {
     "name": "stderr",
     "output_type": "stream",
     "text": [
      "/home/disk/sipn/nicway/anaconda3/envs/esio/lib/python3.6/site-packages/xarray/core/nanops.py:161: RuntimeWarning: Mean of empty slice\n",
      "  return np.nanmean(a, axis=axis, dtype=dtype)\n"
     ]
    },
    {
     "name": "stdout",
     "output_type": "stream",
     "text": [
      "saved  /home/disk/sipn/nicway/public_html/sipn/figures/model/all_model/sic/Regional_maps_NEW/Region_1_SIP_forecast_2019-11-10_09.png\n",
      "plotting hist obs SIP\n"
     ]
    },
    {
     "name": "stderr",
     "output_type": "stream",
     "text": [
      "/home/disk/sipn/nicway/anaconda3/envs/esio/lib/python3.6/site-packages/xarray/core/nanops.py:161: RuntimeWarning: Mean of empty slice\n",
      "  return np.nanmean(a, axis=axis, dtype=dtype)\n"
     ]
    },
    {
     "name": "stdout",
     "output_type": "stream",
     "text": [
      "saved  /home/disk/sipn/nicway/public_html/sipn/figures/model/all_model/sic/Regional_maps_NEW/Region_2_SIP_forecast_2019-11-10_09.png\n",
      "plotting hist obs SIP\n"
     ]
    },
    {
     "name": "stderr",
     "output_type": "stream",
     "text": [
      "/home/disk/sipn/nicway/anaconda3/envs/esio/lib/python3.6/site-packages/xarray/core/nanops.py:161: RuntimeWarning: Mean of empty slice\n",
      "  return np.nanmean(a, axis=axis, dtype=dtype)\n"
     ]
    },
    {
     "name": "stdout",
     "output_type": "stream",
     "text": [
      "saved  /home/disk/sipn/nicway/public_html/sipn/figures/model/all_model/sic/Regional_maps_NEW/Region_3_SIP_forecast_2019-11-10_09.png\n",
      "plotting hist obs SIP\n"
     ]
    },
    {
     "name": "stderr",
     "output_type": "stream",
     "text": [
      "/home/disk/sipn/nicway/anaconda3/envs/esio/lib/python3.6/site-packages/xarray/core/nanops.py:161: RuntimeWarning: Mean of empty slice\n",
      "  return np.nanmean(a, axis=axis, dtype=dtype)\n"
     ]
    },
    {
     "name": "stdout",
     "output_type": "stream",
     "text": [
      "saved  /home/disk/sipn/nicway/public_html/sipn/figures/model/all_model/sic/Regional_maps_NEW/Region_4_SIP_forecast_2019-11-10_09.png\n",
      "plotting hist obs SIP\n"
     ]
    },
    {
     "name": "stderr",
     "output_type": "stream",
     "text": [
      "/home/disk/sipn/nicway/anaconda3/envs/esio/lib/python3.6/site-packages/xarray/core/nanops.py:161: RuntimeWarning: Mean of empty slice\n",
      "  return np.nanmean(a, axis=axis, dtype=dtype)\n"
     ]
    },
    {
     "name": "stdout",
     "output_type": "stream",
     "text": [
      "saved  /home/disk/sipn/nicway/public_html/sipn/figures/model/all_model/sic/Regional_maps_NEW/Region_5_SIP_forecast_2019-11-10_09.png\n",
      "plotting hist obs SIP\n"
     ]
    },
    {
     "name": "stderr",
     "output_type": "stream",
     "text": [
      "/home/disk/sipn/nicway/anaconda3/envs/esio/lib/python3.6/site-packages/xarray/core/nanops.py:161: RuntimeWarning: Mean of empty slice\n",
      "  return np.nanmean(a, axis=axis, dtype=dtype)\n"
     ]
    },
    {
     "name": "stdout",
     "output_type": "stream",
     "text": [
      "saved  /home/disk/sipn/nicway/public_html/sipn/figures/model/all_model/sic/Regional_maps_NEW/Region_6_SIP_forecast_2019-11-10_09.png\n",
      "plotting hist obs SIP\n"
     ]
    },
    {
     "name": "stderr",
     "output_type": "stream",
     "text": [
      "/home/disk/sipn/nicway/anaconda3/envs/esio/lib/python3.6/site-packages/xarray/core/nanops.py:161: RuntimeWarning: Mean of empty slice\n",
      "  return np.nanmean(a, axis=axis, dtype=dtype)\n"
     ]
    },
    {
     "name": "stdout",
     "output_type": "stream",
     "text": [
      "saved  /home/disk/sipn/nicway/public_html/sipn/figures/model/all_model/sic/Regional_maps_NEW/Region_7_SIP_forecast_2019-11-10_09.png\n",
      "Took  28.18723992848924  minutes.\n",
      "2019-11-17T00:00:00.000000000\n",
      "all forecast times to be plotted, ft_to_plot  [                0   604800000000000  1209600000000000  1814400000000000\n",
      "  2419200000000000  5443200000000000  7862400000000000 10281600000000000\n",
      " 13305600000000000 15724800000000000]\n",
      "Processing forecast time:  0 days\n",
      "0\n",
      "models to plot  ['MME', 'climo10yrs', 'dampedAnomalyTrend', 'gfdlsipn', 'ukmetofficesipn', 'ecmwfsipn', 'meteofrsipn', 'usnavysipn', 'fgoalssipn', 'kma', 'ecmwf', 'metreofr', 'ukmo', 'ncep', 'usnavyncep', 'yopp', 'rasmesrl']\n",
      "4 5 19\n",
      "saved  /home/disk/sipn/nicway/public_html/sipn/figures/model/all_model/sic/Regional_maps_NEW/Region_0_anomaly_forecast_2019-11-17_00.png\n",
      "saved  /home/disk/sipn/nicway/public_html/sipn/figures/model/all_model/sic/Regional_maps_NEW/Region_1_anomaly_forecast_2019-11-17_00.png\n",
      "saved  /home/disk/sipn/nicway/public_html/sipn/figures/model/all_model/sic/Regional_maps_NEW/Region_2_anomaly_forecast_2019-11-17_00.png\n",
      "saved  /home/disk/sipn/nicway/public_html/sipn/figures/model/all_model/sic/Regional_maps_NEW/Region_3_anomaly_forecast_2019-11-17_00.png\n",
      "saved  /home/disk/sipn/nicway/public_html/sipn/figures/model/all_model/sic/Regional_maps_NEW/Region_4_anomaly_forecast_2019-11-17_00.png\n",
      "saved  /home/disk/sipn/nicway/public_html/sipn/figures/model/all_model/sic/Regional_maps_NEW/Region_5_anomaly_forecast_2019-11-17_00.png\n",
      "saved  /home/disk/sipn/nicway/public_html/sipn/figures/model/all_model/sic/Regional_maps_NEW/Region_6_anomaly_forecast_2019-11-17_00.png\n",
      "saved  /home/disk/sipn/nicway/public_html/sipn/figures/model/all_model/sic/Regional_maps_NEW/Region_7_anomaly_forecast_2019-11-17_00.png\n",
      "saved  /home/disk/sipn/nicway/public_html/sipn/figures/model/all_model/sic/Regional_maps_NEW/Region_0_mean_forecast_2019-11-17_00.png\n",
      "saved  /home/disk/sipn/nicway/public_html/sipn/figures/model/all_model/sic/Regional_maps_NEW/Region_1_mean_forecast_2019-11-17_00.png\n",
      "saved  /home/disk/sipn/nicway/public_html/sipn/figures/model/all_model/sic/Regional_maps_NEW/Region_2_mean_forecast_2019-11-17_00.png\n",
      "saved  /home/disk/sipn/nicway/public_html/sipn/figures/model/all_model/sic/Regional_maps_NEW/Region_3_mean_forecast_2019-11-17_00.png\n",
      "saved  /home/disk/sipn/nicway/public_html/sipn/figures/model/all_model/sic/Regional_maps_NEW/Region_4_mean_forecast_2019-11-17_00.png\n",
      "saved  /home/disk/sipn/nicway/public_html/sipn/figures/model/all_model/sic/Regional_maps_NEW/Region_5_mean_forecast_2019-11-17_00.png\n",
      "saved  /home/disk/sipn/nicway/public_html/sipn/figures/model/all_model/sic/Regional_maps_NEW/Region_6_mean_forecast_2019-11-17_00.png\n",
      "saved  /home/disk/sipn/nicway/public_html/sipn/figures/model/all_model/sic/Regional_maps_NEW/Region_7_mean_forecast_2019-11-17_00.png\n",
      "saved  /home/disk/sipn/nicway/public_html/sipn/figures/model/all_model/sic/Regional_maps_NEW/Region_0_SIP_forecast_2019-11-17_00.png\n",
      "saved  /home/disk/sipn/nicway/public_html/sipn/figures/model/all_model/sic/Regional_maps_NEW/Region_1_SIP_forecast_2019-11-17_00.png\n",
      "saved  /home/disk/sipn/nicway/public_html/sipn/figures/model/all_model/sic/Regional_maps_NEW/Region_2_SIP_forecast_2019-11-17_00.png\n",
      "saved  /home/disk/sipn/nicway/public_html/sipn/figures/model/all_model/sic/Regional_maps_NEW/Region_3_SIP_forecast_2019-11-17_00.png\n",
      "saved  /home/disk/sipn/nicway/public_html/sipn/figures/model/all_model/sic/Regional_maps_NEW/Region_4_SIP_forecast_2019-11-17_00.png\n",
      "saved  /home/disk/sipn/nicway/public_html/sipn/figures/model/all_model/sic/Regional_maps_NEW/Region_5_SIP_forecast_2019-11-17_00.png\n",
      "saved  /home/disk/sipn/nicway/public_html/sipn/figures/model/all_model/sic/Regional_maps_NEW/Region_6_SIP_forecast_2019-11-17_00.png\n",
      "saved  /home/disk/sipn/nicway/public_html/sipn/figures/model/all_model/sic/Regional_maps_NEW/Region_7_SIP_forecast_2019-11-17_00.png\n",
      "Processing forecast time:  7 days\n",
      "1\n",
      "models to plot  ['MME', 'climo10yrs', 'dampedAnomalyTrend', 'gfdlsipn', 'ukmetofficesipn', 'ecmwfsipn', 'meteofrsipn', 'usnavysipn', 'fgoalssipn', 'kma', 'ecmwf', 'metreofr', 'ukmo', 'ncep', 'usnavyncep', 'yopp', 'rasmesrl']\n",
      "4 5 19\n",
      "saved  /home/disk/sipn/nicway/public_html/sipn/figures/model/all_model/sic/Regional_maps_NEW/Region_0_anomaly_forecast_2019-11-17_01.png\n",
      "saved  /home/disk/sipn/nicway/public_html/sipn/figures/model/all_model/sic/Regional_maps_NEW/Region_1_anomaly_forecast_2019-11-17_01.png\n",
      "saved  /home/disk/sipn/nicway/public_html/sipn/figures/model/all_model/sic/Regional_maps_NEW/Region_2_anomaly_forecast_2019-11-17_01.png\n",
      "saved  /home/disk/sipn/nicway/public_html/sipn/figures/model/all_model/sic/Regional_maps_NEW/Region_3_anomaly_forecast_2019-11-17_01.png\n",
      "saved  /home/disk/sipn/nicway/public_html/sipn/figures/model/all_model/sic/Regional_maps_NEW/Region_4_anomaly_forecast_2019-11-17_01.png\n",
      "saved  /home/disk/sipn/nicway/public_html/sipn/figures/model/all_model/sic/Regional_maps_NEW/Region_5_anomaly_forecast_2019-11-17_01.png\n",
      "saved  /home/disk/sipn/nicway/public_html/sipn/figures/model/all_model/sic/Regional_maps_NEW/Region_6_anomaly_forecast_2019-11-17_01.png\n",
      "saved  /home/disk/sipn/nicway/public_html/sipn/figures/model/all_model/sic/Regional_maps_NEW/Region_7_anomaly_forecast_2019-11-17_01.png\n",
      "saved  /home/disk/sipn/nicway/public_html/sipn/figures/model/all_model/sic/Regional_maps_NEW/Region_0_mean_forecast_2019-11-17_01.png\n",
      "saved  /home/disk/sipn/nicway/public_html/sipn/figures/model/all_model/sic/Regional_maps_NEW/Region_1_mean_forecast_2019-11-17_01.png\n",
      "saved  /home/disk/sipn/nicway/public_html/sipn/figures/model/all_model/sic/Regional_maps_NEW/Region_2_mean_forecast_2019-11-17_01.png\n",
      "saved  /home/disk/sipn/nicway/public_html/sipn/figures/model/all_model/sic/Regional_maps_NEW/Region_3_mean_forecast_2019-11-17_01.png\n",
      "saved  /home/disk/sipn/nicway/public_html/sipn/figures/model/all_model/sic/Regional_maps_NEW/Region_4_mean_forecast_2019-11-17_01.png\n",
      "saved  /home/disk/sipn/nicway/public_html/sipn/figures/model/all_model/sic/Regional_maps_NEW/Region_5_mean_forecast_2019-11-17_01.png\n",
      "saved  /home/disk/sipn/nicway/public_html/sipn/figures/model/all_model/sic/Regional_maps_NEW/Region_6_mean_forecast_2019-11-17_01.png\n",
      "saved  /home/disk/sipn/nicway/public_html/sipn/figures/model/all_model/sic/Regional_maps_NEW/Region_7_mean_forecast_2019-11-17_01.png\n",
      "plotting hist obs SIP\n"
     ]
    },
    {
     "name": "stderr",
     "output_type": "stream",
     "text": [
      "/home/disk/sipn/nicway/anaconda3/envs/esio/lib/python3.6/site-packages/xarray/core/nanops.py:161: RuntimeWarning: Mean of empty slice\n",
      "  return np.nanmean(a, axis=axis, dtype=dtype)\n"
     ]
    },
    {
     "name": "stdout",
     "output_type": "stream",
     "text": [
      "saved  /home/disk/sipn/nicway/public_html/sipn/figures/model/all_model/sic/Regional_maps_NEW/Region_0_SIP_forecast_2019-11-17_01.png\n",
      "plotting hist obs SIP\n"
     ]
    },
    {
     "name": "stderr",
     "output_type": "stream",
     "text": [
      "/home/disk/sipn/nicway/anaconda3/envs/esio/lib/python3.6/site-packages/xarray/core/nanops.py:161: RuntimeWarning: Mean of empty slice\n",
      "  return np.nanmean(a, axis=axis, dtype=dtype)\n"
     ]
    },
    {
     "name": "stdout",
     "output_type": "stream",
     "text": [
      "saved  /home/disk/sipn/nicway/public_html/sipn/figures/model/all_model/sic/Regional_maps_NEW/Region_1_SIP_forecast_2019-11-17_01.png\n",
      "plotting hist obs SIP\n"
     ]
    },
    {
     "name": "stderr",
     "output_type": "stream",
     "text": [
      "/home/disk/sipn/nicway/anaconda3/envs/esio/lib/python3.6/site-packages/xarray/core/nanops.py:161: RuntimeWarning: Mean of empty slice\n",
      "  return np.nanmean(a, axis=axis, dtype=dtype)\n"
     ]
    },
    {
     "name": "stdout",
     "output_type": "stream",
     "text": [
      "saved  /home/disk/sipn/nicway/public_html/sipn/figures/model/all_model/sic/Regional_maps_NEW/Region_2_SIP_forecast_2019-11-17_01.png\n",
      "plotting hist obs SIP\n"
     ]
    },
    {
     "name": "stderr",
     "output_type": "stream",
     "text": [
      "/home/disk/sipn/nicway/anaconda3/envs/esio/lib/python3.6/site-packages/xarray/core/nanops.py:161: RuntimeWarning: Mean of empty slice\n",
      "  return np.nanmean(a, axis=axis, dtype=dtype)\n"
     ]
    },
    {
     "name": "stdout",
     "output_type": "stream",
     "text": [
      "saved  /home/disk/sipn/nicway/public_html/sipn/figures/model/all_model/sic/Regional_maps_NEW/Region_3_SIP_forecast_2019-11-17_01.png\n",
      "plotting hist obs SIP\n"
     ]
    },
    {
     "name": "stderr",
     "output_type": "stream",
     "text": [
      "/home/disk/sipn/nicway/anaconda3/envs/esio/lib/python3.6/site-packages/xarray/core/nanops.py:161: RuntimeWarning: Mean of empty slice\n",
      "  return np.nanmean(a, axis=axis, dtype=dtype)\n"
     ]
    },
    {
     "name": "stdout",
     "output_type": "stream",
     "text": [
      "saved  /home/disk/sipn/nicway/public_html/sipn/figures/model/all_model/sic/Regional_maps_NEW/Region_4_SIP_forecast_2019-11-17_01.png\n",
      "plotting hist obs SIP\n"
     ]
    },
    {
     "name": "stderr",
     "output_type": "stream",
     "text": [
      "/home/disk/sipn/nicway/anaconda3/envs/esio/lib/python3.6/site-packages/xarray/core/nanops.py:161: RuntimeWarning: Mean of empty slice\n",
      "  return np.nanmean(a, axis=axis, dtype=dtype)\n"
     ]
    },
    {
     "name": "stdout",
     "output_type": "stream",
     "text": [
      "saved  /home/disk/sipn/nicway/public_html/sipn/figures/model/all_model/sic/Regional_maps_NEW/Region_5_SIP_forecast_2019-11-17_01.png\n",
      "plotting hist obs SIP\n"
     ]
    },
    {
     "name": "stderr",
     "output_type": "stream",
     "text": [
      "/home/disk/sipn/nicway/anaconda3/envs/esio/lib/python3.6/site-packages/xarray/core/nanops.py:161: RuntimeWarning: Mean of empty slice\n",
      "  return np.nanmean(a, axis=axis, dtype=dtype)\n"
     ]
    },
    {
     "name": "stdout",
     "output_type": "stream",
     "text": [
      "saved  /home/disk/sipn/nicway/public_html/sipn/figures/model/all_model/sic/Regional_maps_NEW/Region_6_SIP_forecast_2019-11-17_01.png\n",
      "plotting hist obs SIP\n"
     ]
    },
    {
     "name": "stderr",
     "output_type": "stream",
     "text": [
      "/home/disk/sipn/nicway/anaconda3/envs/esio/lib/python3.6/site-packages/xarray/core/nanops.py:161: RuntimeWarning: Mean of empty slice\n",
      "  return np.nanmean(a, axis=axis, dtype=dtype)\n"
     ]
    },
    {
     "name": "stdout",
     "output_type": "stream",
     "text": [
      "saved  /home/disk/sipn/nicway/public_html/sipn/figures/model/all_model/sic/Regional_maps_NEW/Region_7_SIP_forecast_2019-11-17_01.png\n",
      "Processing forecast time:  14 days\n",
      "2\n",
      "models to plot  ['MME', 'climo10yrs', 'dampedAnomalyTrend', 'gfdlsipn', 'ukmetofficesipn', 'ecmwfsipn', 'meteofrsipn', 'usnavysipn', 'fgoalssipn', 'kma', 'ecmwf', 'metreofr', 'ukmo', 'ncep', 'usnavyncep', 'yopp', 'rasmesrl']\n",
      "4 5 19\n",
      "saved  /home/disk/sipn/nicway/public_html/sipn/figures/model/all_model/sic/Regional_maps_NEW/Region_0_anomaly_forecast_2019-11-17_02.png\n",
      "saved  /home/disk/sipn/nicway/public_html/sipn/figures/model/all_model/sic/Regional_maps_NEW/Region_1_anomaly_forecast_2019-11-17_02.png\n",
      "saved  /home/disk/sipn/nicway/public_html/sipn/figures/model/all_model/sic/Regional_maps_NEW/Region_2_anomaly_forecast_2019-11-17_02.png\n",
      "saved  /home/disk/sipn/nicway/public_html/sipn/figures/model/all_model/sic/Regional_maps_NEW/Region_3_anomaly_forecast_2019-11-17_02.png\n",
      "saved  /home/disk/sipn/nicway/public_html/sipn/figures/model/all_model/sic/Regional_maps_NEW/Region_4_anomaly_forecast_2019-11-17_02.png\n",
      "saved  /home/disk/sipn/nicway/public_html/sipn/figures/model/all_model/sic/Regional_maps_NEW/Region_5_anomaly_forecast_2019-11-17_02.png\n",
      "saved  /home/disk/sipn/nicway/public_html/sipn/figures/model/all_model/sic/Regional_maps_NEW/Region_6_anomaly_forecast_2019-11-17_02.png\n",
      "saved  /home/disk/sipn/nicway/public_html/sipn/figures/model/all_model/sic/Regional_maps_NEW/Region_7_anomaly_forecast_2019-11-17_02.png\n",
      "saved  /home/disk/sipn/nicway/public_html/sipn/figures/model/all_model/sic/Regional_maps_NEW/Region_0_mean_forecast_2019-11-17_02.png\n",
      "saved  /home/disk/sipn/nicway/public_html/sipn/figures/model/all_model/sic/Regional_maps_NEW/Region_1_mean_forecast_2019-11-17_02.png\n",
      "saved  /home/disk/sipn/nicway/public_html/sipn/figures/model/all_model/sic/Regional_maps_NEW/Region_2_mean_forecast_2019-11-17_02.png\n",
      "saved  /home/disk/sipn/nicway/public_html/sipn/figures/model/all_model/sic/Regional_maps_NEW/Region_3_mean_forecast_2019-11-17_02.png\n",
      "saved  /home/disk/sipn/nicway/public_html/sipn/figures/model/all_model/sic/Regional_maps_NEW/Region_4_mean_forecast_2019-11-17_02.png\n",
      "saved  /home/disk/sipn/nicway/public_html/sipn/figures/model/all_model/sic/Regional_maps_NEW/Region_5_mean_forecast_2019-11-17_02.png\n",
      "saved  /home/disk/sipn/nicway/public_html/sipn/figures/model/all_model/sic/Regional_maps_NEW/Region_6_mean_forecast_2019-11-17_02.png\n",
      "saved  /home/disk/sipn/nicway/public_html/sipn/figures/model/all_model/sic/Regional_maps_NEW/Region_7_mean_forecast_2019-11-17_02.png\n",
      "plotting hist obs SIP\n"
     ]
    },
    {
     "name": "stderr",
     "output_type": "stream",
     "text": [
      "/home/disk/sipn/nicway/anaconda3/envs/esio/lib/python3.6/site-packages/xarray/core/nanops.py:161: RuntimeWarning: Mean of empty slice\n",
      "  return np.nanmean(a, axis=axis, dtype=dtype)\n"
     ]
    },
    {
     "name": "stdout",
     "output_type": "stream",
     "text": [
      "saved  /home/disk/sipn/nicway/public_html/sipn/figures/model/all_model/sic/Regional_maps_NEW/Region_0_SIP_forecast_2019-11-17_02.png\n",
      "plotting hist obs SIP\n"
     ]
    },
    {
     "name": "stderr",
     "output_type": "stream",
     "text": [
      "/home/disk/sipn/nicway/anaconda3/envs/esio/lib/python3.6/site-packages/xarray/core/nanops.py:161: RuntimeWarning: Mean of empty slice\n",
      "  return np.nanmean(a, axis=axis, dtype=dtype)\n"
     ]
    },
    {
     "name": "stdout",
     "output_type": "stream",
     "text": [
      "saved  /home/disk/sipn/nicway/public_html/sipn/figures/model/all_model/sic/Regional_maps_NEW/Region_1_SIP_forecast_2019-11-17_02.png\n",
      "plotting hist obs SIP\n"
     ]
    },
    {
     "name": "stderr",
     "output_type": "stream",
     "text": [
      "/home/disk/sipn/nicway/anaconda3/envs/esio/lib/python3.6/site-packages/xarray/core/nanops.py:161: RuntimeWarning: Mean of empty slice\n",
      "  return np.nanmean(a, axis=axis, dtype=dtype)\n"
     ]
    },
    {
     "name": "stdout",
     "output_type": "stream",
     "text": [
      "saved  /home/disk/sipn/nicway/public_html/sipn/figures/model/all_model/sic/Regional_maps_NEW/Region_2_SIP_forecast_2019-11-17_02.png\n",
      "plotting hist obs SIP\n"
     ]
    },
    {
     "name": "stderr",
     "output_type": "stream",
     "text": [
      "/home/disk/sipn/nicway/anaconda3/envs/esio/lib/python3.6/site-packages/xarray/core/nanops.py:161: RuntimeWarning: Mean of empty slice\n",
      "  return np.nanmean(a, axis=axis, dtype=dtype)\n"
     ]
    },
    {
     "name": "stdout",
     "output_type": "stream",
     "text": [
      "saved  /home/disk/sipn/nicway/public_html/sipn/figures/model/all_model/sic/Regional_maps_NEW/Region_3_SIP_forecast_2019-11-17_02.png\n",
      "plotting hist obs SIP\n"
     ]
    },
    {
     "name": "stderr",
     "output_type": "stream",
     "text": [
      "/home/disk/sipn/nicway/anaconda3/envs/esio/lib/python3.6/site-packages/xarray/core/nanops.py:161: RuntimeWarning: Mean of empty slice\n",
      "  return np.nanmean(a, axis=axis, dtype=dtype)\n"
     ]
    },
    {
     "name": "stdout",
     "output_type": "stream",
     "text": [
      "saved  /home/disk/sipn/nicway/public_html/sipn/figures/model/all_model/sic/Regional_maps_NEW/Region_4_SIP_forecast_2019-11-17_02.png\n",
      "plotting hist obs SIP\n"
     ]
    },
    {
     "name": "stderr",
     "output_type": "stream",
     "text": [
      "/home/disk/sipn/nicway/anaconda3/envs/esio/lib/python3.6/site-packages/xarray/core/nanops.py:161: RuntimeWarning: Mean of empty slice\n",
      "  return np.nanmean(a, axis=axis, dtype=dtype)\n"
     ]
    },
    {
     "name": "stdout",
     "output_type": "stream",
     "text": [
      "saved  /home/disk/sipn/nicway/public_html/sipn/figures/model/all_model/sic/Regional_maps_NEW/Region_5_SIP_forecast_2019-11-17_02.png\n",
      "plotting hist obs SIP\n"
     ]
    },
    {
     "name": "stderr",
     "output_type": "stream",
     "text": [
      "/home/disk/sipn/nicway/anaconda3/envs/esio/lib/python3.6/site-packages/xarray/core/nanops.py:161: RuntimeWarning: Mean of empty slice\n",
      "  return np.nanmean(a, axis=axis, dtype=dtype)\n"
     ]
    },
    {
     "name": "stdout",
     "output_type": "stream",
     "text": [
      "saved  /home/disk/sipn/nicway/public_html/sipn/figures/model/all_model/sic/Regional_maps_NEW/Region_6_SIP_forecast_2019-11-17_02.png\n",
      "plotting hist obs SIP\n"
     ]
    },
    {
     "name": "stderr",
     "output_type": "stream",
     "text": [
      "/home/disk/sipn/nicway/anaconda3/envs/esio/lib/python3.6/site-packages/xarray/core/nanops.py:161: RuntimeWarning: Mean of empty slice\n",
      "  return np.nanmean(a, axis=axis, dtype=dtype)\n"
     ]
    },
    {
     "name": "stdout",
     "output_type": "stream",
     "text": [
      "saved  /home/disk/sipn/nicway/public_html/sipn/figures/model/all_model/sic/Regional_maps_NEW/Region_7_SIP_forecast_2019-11-17_02.png\n",
      "Processing forecast time:  21 days\n",
      "3\n",
      "models to plot  ['MME', 'climo10yrs', 'dampedAnomalyTrend', 'gfdlsipn', 'ukmetofficesipn', 'ecmwfsipn', 'meteofrsipn', 'usnavysipn', 'fgoalssipn', 'kma', 'ecmwf', 'metreofr', 'ukmo', 'ncep', 'usnavyncep']\n",
      "4 5 17\n",
      "saved  /home/disk/sipn/nicway/public_html/sipn/figures/model/all_model/sic/Regional_maps_NEW/Region_0_anomaly_forecast_2019-11-17_03.png\n",
      "saved  /home/disk/sipn/nicway/public_html/sipn/figures/model/all_model/sic/Regional_maps_NEW/Region_1_anomaly_forecast_2019-11-17_03.png\n",
      "saved  /home/disk/sipn/nicway/public_html/sipn/figures/model/all_model/sic/Regional_maps_NEW/Region_2_anomaly_forecast_2019-11-17_03.png\n",
      "saved  /home/disk/sipn/nicway/public_html/sipn/figures/model/all_model/sic/Regional_maps_NEW/Region_3_anomaly_forecast_2019-11-17_03.png\n",
      "saved  /home/disk/sipn/nicway/public_html/sipn/figures/model/all_model/sic/Regional_maps_NEW/Region_4_anomaly_forecast_2019-11-17_03.png\n",
      "saved  /home/disk/sipn/nicway/public_html/sipn/figures/model/all_model/sic/Regional_maps_NEW/Region_5_anomaly_forecast_2019-11-17_03.png\n",
      "saved  /home/disk/sipn/nicway/public_html/sipn/figures/model/all_model/sic/Regional_maps_NEW/Region_6_anomaly_forecast_2019-11-17_03.png\n",
      "saved  /home/disk/sipn/nicway/public_html/sipn/figures/model/all_model/sic/Regional_maps_NEW/Region_7_anomaly_forecast_2019-11-17_03.png\n",
      "saved  /home/disk/sipn/nicway/public_html/sipn/figures/model/all_model/sic/Regional_maps_NEW/Region_0_mean_forecast_2019-11-17_03.png\n",
      "saved  /home/disk/sipn/nicway/public_html/sipn/figures/model/all_model/sic/Regional_maps_NEW/Region_1_mean_forecast_2019-11-17_03.png\n",
      "saved  /home/disk/sipn/nicway/public_html/sipn/figures/model/all_model/sic/Regional_maps_NEW/Region_2_mean_forecast_2019-11-17_03.png\n",
      "saved  /home/disk/sipn/nicway/public_html/sipn/figures/model/all_model/sic/Regional_maps_NEW/Region_3_mean_forecast_2019-11-17_03.png\n",
      "saved  /home/disk/sipn/nicway/public_html/sipn/figures/model/all_model/sic/Regional_maps_NEW/Region_4_mean_forecast_2019-11-17_03.png\n",
      "saved  /home/disk/sipn/nicway/public_html/sipn/figures/model/all_model/sic/Regional_maps_NEW/Region_5_mean_forecast_2019-11-17_03.png\n",
      "saved  /home/disk/sipn/nicway/public_html/sipn/figures/model/all_model/sic/Regional_maps_NEW/Region_6_mean_forecast_2019-11-17_03.png\n",
      "saved  /home/disk/sipn/nicway/public_html/sipn/figures/model/all_model/sic/Regional_maps_NEW/Region_7_mean_forecast_2019-11-17_03.png\n",
      "plotting hist obs SIP\n"
     ]
    },
    {
     "name": "stderr",
     "output_type": "stream",
     "text": [
      "/home/disk/sipn/nicway/anaconda3/envs/esio/lib/python3.6/site-packages/xarray/core/nanops.py:161: RuntimeWarning: Mean of empty slice\n",
      "  return np.nanmean(a, axis=axis, dtype=dtype)\n"
     ]
    },
    {
     "name": "stdout",
     "output_type": "stream",
     "text": [
      "saved  /home/disk/sipn/nicway/public_html/sipn/figures/model/all_model/sic/Regional_maps_NEW/Region_0_SIP_forecast_2019-11-17_03.png\n",
      "plotting hist obs SIP\n"
     ]
    },
    {
     "name": "stderr",
     "output_type": "stream",
     "text": [
      "/home/disk/sipn/nicway/anaconda3/envs/esio/lib/python3.6/site-packages/xarray/core/nanops.py:161: RuntimeWarning: Mean of empty slice\n",
      "  return np.nanmean(a, axis=axis, dtype=dtype)\n"
     ]
    },
    {
     "name": "stdout",
     "output_type": "stream",
     "text": [
      "saved  /home/disk/sipn/nicway/public_html/sipn/figures/model/all_model/sic/Regional_maps_NEW/Region_1_SIP_forecast_2019-11-17_03.png\n",
      "plotting hist obs SIP\n"
     ]
    },
    {
     "name": "stderr",
     "output_type": "stream",
     "text": [
      "/home/disk/sipn/nicway/anaconda3/envs/esio/lib/python3.6/site-packages/xarray/core/nanops.py:161: RuntimeWarning: Mean of empty slice\n",
      "  return np.nanmean(a, axis=axis, dtype=dtype)\n"
     ]
    },
    {
     "name": "stdout",
     "output_type": "stream",
     "text": [
      "saved  /home/disk/sipn/nicway/public_html/sipn/figures/model/all_model/sic/Regional_maps_NEW/Region_2_SIP_forecast_2019-11-17_03.png\n",
      "plotting hist obs SIP\n"
     ]
    },
    {
     "name": "stderr",
     "output_type": "stream",
     "text": [
      "/home/disk/sipn/nicway/anaconda3/envs/esio/lib/python3.6/site-packages/xarray/core/nanops.py:161: RuntimeWarning: Mean of empty slice\n",
      "  return np.nanmean(a, axis=axis, dtype=dtype)\n"
     ]
    },
    {
     "name": "stdout",
     "output_type": "stream",
     "text": [
      "saved  /home/disk/sipn/nicway/public_html/sipn/figures/model/all_model/sic/Regional_maps_NEW/Region_3_SIP_forecast_2019-11-17_03.png\n",
      "plotting hist obs SIP\n"
     ]
    },
    {
     "name": "stderr",
     "output_type": "stream",
     "text": [
      "/home/disk/sipn/nicway/anaconda3/envs/esio/lib/python3.6/site-packages/xarray/core/nanops.py:161: RuntimeWarning: Mean of empty slice\n",
      "  return np.nanmean(a, axis=axis, dtype=dtype)\n"
     ]
    },
    {
     "name": "stdout",
     "output_type": "stream",
     "text": [
      "saved  /home/disk/sipn/nicway/public_html/sipn/figures/model/all_model/sic/Regional_maps_NEW/Region_4_SIP_forecast_2019-11-17_03.png\n",
      "plotting hist obs SIP\n"
     ]
    },
    {
     "name": "stderr",
     "output_type": "stream",
     "text": [
      "/home/disk/sipn/nicway/anaconda3/envs/esio/lib/python3.6/site-packages/xarray/core/nanops.py:161: RuntimeWarning: Mean of empty slice\n",
      "  return np.nanmean(a, axis=axis, dtype=dtype)\n"
     ]
    },
    {
     "name": "stdout",
     "output_type": "stream",
     "text": [
      "saved  /home/disk/sipn/nicway/public_html/sipn/figures/model/all_model/sic/Regional_maps_NEW/Region_5_SIP_forecast_2019-11-17_03.png\n",
      "plotting hist obs SIP\n"
     ]
    },
    {
     "name": "stderr",
     "output_type": "stream",
     "text": [
      "/home/disk/sipn/nicway/anaconda3/envs/esio/lib/python3.6/site-packages/xarray/core/nanops.py:161: RuntimeWarning: Mean of empty slice\n",
      "  return np.nanmean(a, axis=axis, dtype=dtype)\n"
     ]
    },
    {
     "name": "stdout",
     "output_type": "stream",
     "text": [
      "saved  /home/disk/sipn/nicway/public_html/sipn/figures/model/all_model/sic/Regional_maps_NEW/Region_6_SIP_forecast_2019-11-17_03.png\n",
      "plotting hist obs SIP\n"
     ]
    },
    {
     "name": "stderr",
     "output_type": "stream",
     "text": [
      "/home/disk/sipn/nicway/anaconda3/envs/esio/lib/python3.6/site-packages/xarray/core/nanops.py:161: RuntimeWarning: Mean of empty slice\n",
      "  return np.nanmean(a, axis=axis, dtype=dtype)\n"
     ]
    },
    {
     "name": "stdout",
     "output_type": "stream",
     "text": [
      "saved  /home/disk/sipn/nicway/public_html/sipn/figures/model/all_model/sic/Regional_maps_NEW/Region_7_SIP_forecast_2019-11-17_03.png\n",
      "Processing forecast time:  28 days\n",
      "4\n",
      "models to plot  ['MME', 'climo10yrs', 'dampedAnomalyTrend', 'gfdlsipn', 'ukmetofficesipn', 'ecmwfsipn', 'meteofrsipn', 'usnavysipn', 'fgoalssipn', 'kma', 'ecmwf', 'metreofr', 'ukmo', 'ncep']\n",
      "3 5 16\n",
      "saved  /home/disk/sipn/nicway/public_html/sipn/figures/model/all_model/sic/Regional_maps_NEW/Region_0_anomaly_forecast_2019-11-17_04.png\n",
      "saved  /home/disk/sipn/nicway/public_html/sipn/figures/model/all_model/sic/Regional_maps_NEW/Region_1_anomaly_forecast_2019-11-17_04.png\n",
      "saved  /home/disk/sipn/nicway/public_html/sipn/figures/model/all_model/sic/Regional_maps_NEW/Region_2_anomaly_forecast_2019-11-17_04.png\n",
      "saved  /home/disk/sipn/nicway/public_html/sipn/figures/model/all_model/sic/Regional_maps_NEW/Region_3_anomaly_forecast_2019-11-17_04.png\n",
      "saved  /home/disk/sipn/nicway/public_html/sipn/figures/model/all_model/sic/Regional_maps_NEW/Region_4_anomaly_forecast_2019-11-17_04.png\n",
      "saved  /home/disk/sipn/nicway/public_html/sipn/figures/model/all_model/sic/Regional_maps_NEW/Region_5_anomaly_forecast_2019-11-17_04.png\n",
      "saved  /home/disk/sipn/nicway/public_html/sipn/figures/model/all_model/sic/Regional_maps_NEW/Region_6_anomaly_forecast_2019-11-17_04.png\n",
      "saved  /home/disk/sipn/nicway/public_html/sipn/figures/model/all_model/sic/Regional_maps_NEW/Region_7_anomaly_forecast_2019-11-17_04.png\n",
      "saved  /home/disk/sipn/nicway/public_html/sipn/figures/model/all_model/sic/Regional_maps_NEW/Region_0_mean_forecast_2019-11-17_04.png\n",
      "saved  /home/disk/sipn/nicway/public_html/sipn/figures/model/all_model/sic/Regional_maps_NEW/Region_1_mean_forecast_2019-11-17_04.png\n",
      "saved  /home/disk/sipn/nicway/public_html/sipn/figures/model/all_model/sic/Regional_maps_NEW/Region_2_mean_forecast_2019-11-17_04.png\n",
      "saved  /home/disk/sipn/nicway/public_html/sipn/figures/model/all_model/sic/Regional_maps_NEW/Region_3_mean_forecast_2019-11-17_04.png\n",
      "saved  /home/disk/sipn/nicway/public_html/sipn/figures/model/all_model/sic/Regional_maps_NEW/Region_4_mean_forecast_2019-11-17_04.png\n",
      "saved  /home/disk/sipn/nicway/public_html/sipn/figures/model/all_model/sic/Regional_maps_NEW/Region_5_mean_forecast_2019-11-17_04.png\n",
      "saved  /home/disk/sipn/nicway/public_html/sipn/figures/model/all_model/sic/Regional_maps_NEW/Region_6_mean_forecast_2019-11-17_04.png\n",
      "saved  /home/disk/sipn/nicway/public_html/sipn/figures/model/all_model/sic/Regional_maps_NEW/Region_7_mean_forecast_2019-11-17_04.png\n",
      "plotting hist obs SIP\n"
     ]
    },
    {
     "name": "stderr",
     "output_type": "stream",
     "text": [
      "/home/disk/sipn/nicway/anaconda3/envs/esio/lib/python3.6/site-packages/xarray/core/nanops.py:161: RuntimeWarning: Mean of empty slice\n",
      "  return np.nanmean(a, axis=axis, dtype=dtype)\n"
     ]
    },
    {
     "name": "stdout",
     "output_type": "stream",
     "text": [
      "saved  /home/disk/sipn/nicway/public_html/sipn/figures/model/all_model/sic/Regional_maps_NEW/Region_0_SIP_forecast_2019-11-17_04.png\n",
      "plotting hist obs SIP\n"
     ]
    },
    {
     "name": "stderr",
     "output_type": "stream",
     "text": [
      "/home/disk/sipn/nicway/anaconda3/envs/esio/lib/python3.6/site-packages/xarray/core/nanops.py:161: RuntimeWarning: Mean of empty slice\n",
      "  return np.nanmean(a, axis=axis, dtype=dtype)\n"
     ]
    },
    {
     "name": "stdout",
     "output_type": "stream",
     "text": [
      "saved  /home/disk/sipn/nicway/public_html/sipn/figures/model/all_model/sic/Regional_maps_NEW/Region_1_SIP_forecast_2019-11-17_04.png\n",
      "plotting hist obs SIP\n"
     ]
    },
    {
     "name": "stderr",
     "output_type": "stream",
     "text": [
      "/home/disk/sipn/nicway/anaconda3/envs/esio/lib/python3.6/site-packages/xarray/core/nanops.py:161: RuntimeWarning: Mean of empty slice\n",
      "  return np.nanmean(a, axis=axis, dtype=dtype)\n"
     ]
    },
    {
     "name": "stdout",
     "output_type": "stream",
     "text": [
      "saved  /home/disk/sipn/nicway/public_html/sipn/figures/model/all_model/sic/Regional_maps_NEW/Region_2_SIP_forecast_2019-11-17_04.png\n",
      "plotting hist obs SIP\n"
     ]
    },
    {
     "name": "stderr",
     "output_type": "stream",
     "text": [
      "/home/disk/sipn/nicway/anaconda3/envs/esio/lib/python3.6/site-packages/xarray/core/nanops.py:161: RuntimeWarning: Mean of empty slice\n",
      "  return np.nanmean(a, axis=axis, dtype=dtype)\n"
     ]
    },
    {
     "name": "stdout",
     "output_type": "stream",
     "text": [
      "saved  /home/disk/sipn/nicway/public_html/sipn/figures/model/all_model/sic/Regional_maps_NEW/Region_3_SIP_forecast_2019-11-17_04.png\n",
      "plotting hist obs SIP\n"
     ]
    },
    {
     "name": "stderr",
     "output_type": "stream",
     "text": [
      "/home/disk/sipn/nicway/anaconda3/envs/esio/lib/python3.6/site-packages/xarray/core/nanops.py:161: RuntimeWarning: Mean of empty slice\n",
      "  return np.nanmean(a, axis=axis, dtype=dtype)\n"
     ]
    },
    {
     "name": "stdout",
     "output_type": "stream",
     "text": [
      "saved  /home/disk/sipn/nicway/public_html/sipn/figures/model/all_model/sic/Regional_maps_NEW/Region_4_SIP_forecast_2019-11-17_04.png\n",
      "plotting hist obs SIP\n"
     ]
    },
    {
     "name": "stderr",
     "output_type": "stream",
     "text": [
      "/home/disk/sipn/nicway/anaconda3/envs/esio/lib/python3.6/site-packages/xarray/core/nanops.py:161: RuntimeWarning: Mean of empty slice\n",
      "  return np.nanmean(a, axis=axis, dtype=dtype)\n"
     ]
    },
    {
     "name": "stdout",
     "output_type": "stream",
     "text": [
      "saved  /home/disk/sipn/nicway/public_html/sipn/figures/model/all_model/sic/Regional_maps_NEW/Region_5_SIP_forecast_2019-11-17_04.png\n",
      "plotting hist obs SIP\n"
     ]
    },
    {
     "name": "stderr",
     "output_type": "stream",
     "text": [
      "/home/disk/sipn/nicway/anaconda3/envs/esio/lib/python3.6/site-packages/xarray/core/nanops.py:161: RuntimeWarning: Mean of empty slice\n",
      "  return np.nanmean(a, axis=axis, dtype=dtype)\n"
     ]
    },
    {
     "name": "stdout",
     "output_type": "stream",
     "text": [
      "saved  /home/disk/sipn/nicway/public_html/sipn/figures/model/all_model/sic/Regional_maps_NEW/Region_6_SIP_forecast_2019-11-17_04.png\n",
      "plotting hist obs SIP\n"
     ]
    },
    {
     "name": "stderr",
     "output_type": "stream",
     "text": [
      "/home/disk/sipn/nicway/anaconda3/envs/esio/lib/python3.6/site-packages/xarray/core/nanops.py:161: RuntimeWarning: Mean of empty slice\n",
      "  return np.nanmean(a, axis=axis, dtype=dtype)\n"
     ]
    },
    {
     "name": "stdout",
     "output_type": "stream",
     "text": [
      "saved  /home/disk/sipn/nicway/public_html/sipn/figures/model/all_model/sic/Regional_maps_NEW/Region_7_SIP_forecast_2019-11-17_04.png\n",
      "Processing forecast time:  63 days\n",
      "5\n",
      "models to plot  ['MME', 'climo10yrs', 'dampedAnomalyTrend', 'gfdlsipn', 'ukmetofficesipn', 'ecmwfsipn', 'meteofrsipn', 'usnavysipn', 'fgoalssipn']\n",
      "2 5 11\n",
      "saved  /home/disk/sipn/nicway/public_html/sipn/figures/model/all_model/sic/Regional_maps_NEW/Region_0_anomaly_forecast_2019-11-17_05.png\n",
      "saved  /home/disk/sipn/nicway/public_html/sipn/figures/model/all_model/sic/Regional_maps_NEW/Region_1_anomaly_forecast_2019-11-17_05.png\n",
      "saved  /home/disk/sipn/nicway/public_html/sipn/figures/model/all_model/sic/Regional_maps_NEW/Region_2_anomaly_forecast_2019-11-17_05.png\n",
      "saved  /home/disk/sipn/nicway/public_html/sipn/figures/model/all_model/sic/Regional_maps_NEW/Region_3_anomaly_forecast_2019-11-17_05.png\n",
      "saved  /home/disk/sipn/nicway/public_html/sipn/figures/model/all_model/sic/Regional_maps_NEW/Region_4_anomaly_forecast_2019-11-17_05.png\n",
      "saved  /home/disk/sipn/nicway/public_html/sipn/figures/model/all_model/sic/Regional_maps_NEW/Region_5_anomaly_forecast_2019-11-17_05.png\n",
      "saved  /home/disk/sipn/nicway/public_html/sipn/figures/model/all_model/sic/Regional_maps_NEW/Region_6_anomaly_forecast_2019-11-17_05.png\n",
      "saved  /home/disk/sipn/nicway/public_html/sipn/figures/model/all_model/sic/Regional_maps_NEW/Region_7_anomaly_forecast_2019-11-17_05.png\n",
      "saved  /home/disk/sipn/nicway/public_html/sipn/figures/model/all_model/sic/Regional_maps_NEW/Region_0_mean_forecast_2019-11-17_05.png\n",
      "saved  /home/disk/sipn/nicway/public_html/sipn/figures/model/all_model/sic/Regional_maps_NEW/Region_1_mean_forecast_2019-11-17_05.png\n",
      "saved  /home/disk/sipn/nicway/public_html/sipn/figures/model/all_model/sic/Regional_maps_NEW/Region_2_mean_forecast_2019-11-17_05.png\n",
      "saved  /home/disk/sipn/nicway/public_html/sipn/figures/model/all_model/sic/Regional_maps_NEW/Region_3_mean_forecast_2019-11-17_05.png\n",
      "saved  /home/disk/sipn/nicway/public_html/sipn/figures/model/all_model/sic/Regional_maps_NEW/Region_4_mean_forecast_2019-11-17_05.png\n",
      "saved  /home/disk/sipn/nicway/public_html/sipn/figures/model/all_model/sic/Regional_maps_NEW/Region_5_mean_forecast_2019-11-17_05.png\n",
      "saved  /home/disk/sipn/nicway/public_html/sipn/figures/model/all_model/sic/Regional_maps_NEW/Region_6_mean_forecast_2019-11-17_05.png\n",
      "saved  /home/disk/sipn/nicway/public_html/sipn/figures/model/all_model/sic/Regional_maps_NEW/Region_7_mean_forecast_2019-11-17_05.png\n",
      "plotting hist obs SIP\n"
     ]
    },
    {
     "name": "stderr",
     "output_type": "stream",
     "text": [
      "/home/disk/sipn/nicway/anaconda3/envs/esio/lib/python3.6/site-packages/xarray/core/nanops.py:161: RuntimeWarning: Mean of empty slice\n",
      "  return np.nanmean(a, axis=axis, dtype=dtype)\n"
     ]
    },
    {
     "name": "stdout",
     "output_type": "stream",
     "text": [
      "saved  /home/disk/sipn/nicway/public_html/sipn/figures/model/all_model/sic/Regional_maps_NEW/Region_0_SIP_forecast_2019-11-17_05.png\n",
      "plotting hist obs SIP\n"
     ]
    },
    {
     "name": "stderr",
     "output_type": "stream",
     "text": [
      "/home/disk/sipn/nicway/anaconda3/envs/esio/lib/python3.6/site-packages/xarray/core/nanops.py:161: RuntimeWarning: Mean of empty slice\n",
      "  return np.nanmean(a, axis=axis, dtype=dtype)\n"
     ]
    },
    {
     "name": "stdout",
     "output_type": "stream",
     "text": [
      "saved  /home/disk/sipn/nicway/public_html/sipn/figures/model/all_model/sic/Regional_maps_NEW/Region_1_SIP_forecast_2019-11-17_05.png\n",
      "plotting hist obs SIP\n"
     ]
    },
    {
     "name": "stderr",
     "output_type": "stream",
     "text": [
      "/home/disk/sipn/nicway/anaconda3/envs/esio/lib/python3.6/site-packages/xarray/core/nanops.py:161: RuntimeWarning: Mean of empty slice\n",
      "  return np.nanmean(a, axis=axis, dtype=dtype)\n"
     ]
    },
    {
     "name": "stdout",
     "output_type": "stream",
     "text": [
      "saved  /home/disk/sipn/nicway/public_html/sipn/figures/model/all_model/sic/Regional_maps_NEW/Region_2_SIP_forecast_2019-11-17_05.png\n",
      "plotting hist obs SIP\n"
     ]
    },
    {
     "name": "stderr",
     "output_type": "stream",
     "text": [
      "/home/disk/sipn/nicway/anaconda3/envs/esio/lib/python3.6/site-packages/xarray/core/nanops.py:161: RuntimeWarning: Mean of empty slice\n",
      "  return np.nanmean(a, axis=axis, dtype=dtype)\n"
     ]
    },
    {
     "name": "stdout",
     "output_type": "stream",
     "text": [
      "saved  /home/disk/sipn/nicway/public_html/sipn/figures/model/all_model/sic/Regional_maps_NEW/Region_3_SIP_forecast_2019-11-17_05.png\n",
      "plotting hist obs SIP\n"
     ]
    },
    {
     "name": "stderr",
     "output_type": "stream",
     "text": [
      "/home/disk/sipn/nicway/anaconda3/envs/esio/lib/python3.6/site-packages/xarray/core/nanops.py:161: RuntimeWarning: Mean of empty slice\n",
      "  return np.nanmean(a, axis=axis, dtype=dtype)\n"
     ]
    },
    {
     "name": "stdout",
     "output_type": "stream",
     "text": [
      "saved  /home/disk/sipn/nicway/public_html/sipn/figures/model/all_model/sic/Regional_maps_NEW/Region_4_SIP_forecast_2019-11-17_05.png\n",
      "plotting hist obs SIP\n"
     ]
    },
    {
     "name": "stderr",
     "output_type": "stream",
     "text": [
      "/home/disk/sipn/nicway/anaconda3/envs/esio/lib/python3.6/site-packages/xarray/core/nanops.py:161: RuntimeWarning: Mean of empty slice\n",
      "  return np.nanmean(a, axis=axis, dtype=dtype)\n"
     ]
    },
    {
     "name": "stdout",
     "output_type": "stream",
     "text": [
      "saved  /home/disk/sipn/nicway/public_html/sipn/figures/model/all_model/sic/Regional_maps_NEW/Region_5_SIP_forecast_2019-11-17_05.png\n",
      "plotting hist obs SIP\n"
     ]
    },
    {
     "name": "stderr",
     "output_type": "stream",
     "text": [
      "/home/disk/sipn/nicway/anaconda3/envs/esio/lib/python3.6/site-packages/xarray/core/nanops.py:161: RuntimeWarning: Mean of empty slice\n",
      "  return np.nanmean(a, axis=axis, dtype=dtype)\n"
     ]
    },
    {
     "name": "stdout",
     "output_type": "stream",
     "text": [
      "saved  /home/disk/sipn/nicway/public_html/sipn/figures/model/all_model/sic/Regional_maps_NEW/Region_6_SIP_forecast_2019-11-17_05.png\n",
      "plotting hist obs SIP\n"
     ]
    },
    {
     "name": "stderr",
     "output_type": "stream",
     "text": [
      "/home/disk/sipn/nicway/anaconda3/envs/esio/lib/python3.6/site-packages/xarray/core/nanops.py:161: RuntimeWarning: Mean of empty slice\n",
      "  return np.nanmean(a, axis=axis, dtype=dtype)\n"
     ]
    },
    {
     "name": "stdout",
     "output_type": "stream",
     "text": [
      "saved  /home/disk/sipn/nicway/public_html/sipn/figures/model/all_model/sic/Regional_maps_NEW/Region_7_SIP_forecast_2019-11-17_05.png\n",
      "Processing forecast time:  91 days\n",
      "6\n",
      "models to plot  ['MME', 'climo10yrs', 'dampedAnomalyTrend', 'gfdlsipn', 'ukmetofficesipn', 'ecmwfsipn', 'meteofrsipn', 'usnavysipn', 'fgoalssipn']\n",
      "2 5 11\n",
      "saved  /home/disk/sipn/nicway/public_html/sipn/figures/model/all_model/sic/Regional_maps_NEW/Region_0_anomaly_forecast_2019-11-17_06.png\n",
      "saved  /home/disk/sipn/nicway/public_html/sipn/figures/model/all_model/sic/Regional_maps_NEW/Region_1_anomaly_forecast_2019-11-17_06.png\n",
      "saved  /home/disk/sipn/nicway/public_html/sipn/figures/model/all_model/sic/Regional_maps_NEW/Region_2_anomaly_forecast_2019-11-17_06.png\n",
      "saved  /home/disk/sipn/nicway/public_html/sipn/figures/model/all_model/sic/Regional_maps_NEW/Region_3_anomaly_forecast_2019-11-17_06.png\n",
      "saved  /home/disk/sipn/nicway/public_html/sipn/figures/model/all_model/sic/Regional_maps_NEW/Region_4_anomaly_forecast_2019-11-17_06.png\n",
      "saved  /home/disk/sipn/nicway/public_html/sipn/figures/model/all_model/sic/Regional_maps_NEW/Region_5_anomaly_forecast_2019-11-17_06.png\n",
      "saved  /home/disk/sipn/nicway/public_html/sipn/figures/model/all_model/sic/Regional_maps_NEW/Region_6_anomaly_forecast_2019-11-17_06.png\n",
      "saved  /home/disk/sipn/nicway/public_html/sipn/figures/model/all_model/sic/Regional_maps_NEW/Region_7_anomaly_forecast_2019-11-17_06.png\n",
      "saved  /home/disk/sipn/nicway/public_html/sipn/figures/model/all_model/sic/Regional_maps_NEW/Region_0_mean_forecast_2019-11-17_06.png\n",
      "saved  /home/disk/sipn/nicway/public_html/sipn/figures/model/all_model/sic/Regional_maps_NEW/Region_1_mean_forecast_2019-11-17_06.png\n",
      "saved  /home/disk/sipn/nicway/public_html/sipn/figures/model/all_model/sic/Regional_maps_NEW/Region_2_mean_forecast_2019-11-17_06.png\n",
      "saved  /home/disk/sipn/nicway/public_html/sipn/figures/model/all_model/sic/Regional_maps_NEW/Region_3_mean_forecast_2019-11-17_06.png\n",
      "saved  /home/disk/sipn/nicway/public_html/sipn/figures/model/all_model/sic/Regional_maps_NEW/Region_4_mean_forecast_2019-11-17_06.png\n",
      "saved  /home/disk/sipn/nicway/public_html/sipn/figures/model/all_model/sic/Regional_maps_NEW/Region_5_mean_forecast_2019-11-17_06.png\n",
      "saved  /home/disk/sipn/nicway/public_html/sipn/figures/model/all_model/sic/Regional_maps_NEW/Region_6_mean_forecast_2019-11-17_06.png\n",
      "saved  /home/disk/sipn/nicway/public_html/sipn/figures/model/all_model/sic/Regional_maps_NEW/Region_7_mean_forecast_2019-11-17_06.png\n",
      "plotting hist obs SIP\n"
     ]
    },
    {
     "name": "stderr",
     "output_type": "stream",
     "text": [
      "/home/disk/sipn/nicway/anaconda3/envs/esio/lib/python3.6/site-packages/xarray/core/nanops.py:161: RuntimeWarning: Mean of empty slice\n",
      "  return np.nanmean(a, axis=axis, dtype=dtype)\n"
     ]
    },
    {
     "name": "stdout",
     "output_type": "stream",
     "text": [
      "saved  /home/disk/sipn/nicway/public_html/sipn/figures/model/all_model/sic/Regional_maps_NEW/Region_0_SIP_forecast_2019-11-17_06.png\n",
      "plotting hist obs SIP\n"
     ]
    },
    {
     "name": "stderr",
     "output_type": "stream",
     "text": [
      "/home/disk/sipn/nicway/anaconda3/envs/esio/lib/python3.6/site-packages/xarray/core/nanops.py:161: RuntimeWarning: Mean of empty slice\n",
      "  return np.nanmean(a, axis=axis, dtype=dtype)\n"
     ]
    },
    {
     "name": "stdout",
     "output_type": "stream",
     "text": [
      "saved  /home/disk/sipn/nicway/public_html/sipn/figures/model/all_model/sic/Regional_maps_NEW/Region_1_SIP_forecast_2019-11-17_06.png\n",
      "plotting hist obs SIP\n"
     ]
    },
    {
     "name": "stderr",
     "output_type": "stream",
     "text": [
      "/home/disk/sipn/nicway/anaconda3/envs/esio/lib/python3.6/site-packages/xarray/core/nanops.py:161: RuntimeWarning: Mean of empty slice\n",
      "  return np.nanmean(a, axis=axis, dtype=dtype)\n"
     ]
    },
    {
     "name": "stdout",
     "output_type": "stream",
     "text": [
      "saved  /home/disk/sipn/nicway/public_html/sipn/figures/model/all_model/sic/Regional_maps_NEW/Region_2_SIP_forecast_2019-11-17_06.png\n",
      "plotting hist obs SIP\n"
     ]
    },
    {
     "name": "stderr",
     "output_type": "stream",
     "text": [
      "/home/disk/sipn/nicway/anaconda3/envs/esio/lib/python3.6/site-packages/xarray/core/nanops.py:161: RuntimeWarning: Mean of empty slice\n",
      "  return np.nanmean(a, axis=axis, dtype=dtype)\n"
     ]
    },
    {
     "name": "stdout",
     "output_type": "stream",
     "text": [
      "saved  /home/disk/sipn/nicway/public_html/sipn/figures/model/all_model/sic/Regional_maps_NEW/Region_3_SIP_forecast_2019-11-17_06.png\n",
      "plotting hist obs SIP\n"
     ]
    },
    {
     "name": "stderr",
     "output_type": "stream",
     "text": [
      "/home/disk/sipn/nicway/anaconda3/envs/esio/lib/python3.6/site-packages/xarray/core/nanops.py:161: RuntimeWarning: Mean of empty slice\n",
      "  return np.nanmean(a, axis=axis, dtype=dtype)\n"
     ]
    },
    {
     "name": "stdout",
     "output_type": "stream",
     "text": [
      "saved  /home/disk/sipn/nicway/public_html/sipn/figures/model/all_model/sic/Regional_maps_NEW/Region_4_SIP_forecast_2019-11-17_06.png\n",
      "plotting hist obs SIP\n"
     ]
    },
    {
     "name": "stderr",
     "output_type": "stream",
     "text": [
      "/home/disk/sipn/nicway/anaconda3/envs/esio/lib/python3.6/site-packages/xarray/core/nanops.py:161: RuntimeWarning: Mean of empty slice\n",
      "  return np.nanmean(a, axis=axis, dtype=dtype)\n"
     ]
    },
    {
     "name": "stdout",
     "output_type": "stream",
     "text": [
      "saved  /home/disk/sipn/nicway/public_html/sipn/figures/model/all_model/sic/Regional_maps_NEW/Region_5_SIP_forecast_2019-11-17_06.png\n",
      "plotting hist obs SIP\n"
     ]
    },
    {
     "name": "stderr",
     "output_type": "stream",
     "text": [
      "/home/disk/sipn/nicway/anaconda3/envs/esio/lib/python3.6/site-packages/xarray/core/nanops.py:161: RuntimeWarning: Mean of empty slice\n",
      "  return np.nanmean(a, axis=axis, dtype=dtype)\n"
     ]
    },
    {
     "name": "stdout",
     "output_type": "stream",
     "text": [
      "saved  /home/disk/sipn/nicway/public_html/sipn/figures/model/all_model/sic/Regional_maps_NEW/Region_6_SIP_forecast_2019-11-17_06.png\n",
      "plotting hist obs SIP\n"
     ]
    },
    {
     "name": "stderr",
     "output_type": "stream",
     "text": [
      "/home/disk/sipn/nicway/anaconda3/envs/esio/lib/python3.6/site-packages/xarray/core/nanops.py:161: RuntimeWarning: Mean of empty slice\n",
      "  return np.nanmean(a, axis=axis, dtype=dtype)\n"
     ]
    },
    {
     "name": "stdout",
     "output_type": "stream",
     "text": [
      "saved  /home/disk/sipn/nicway/public_html/sipn/figures/model/all_model/sic/Regional_maps_NEW/Region_7_SIP_forecast_2019-11-17_06.png\n",
      "Processing forecast time:  119 days\n",
      "7\n",
      "models to plot  ['MME', 'climo10yrs', 'dampedAnomalyTrend', 'gfdlsipn', 'ukmetofficesipn', 'ecmwfsipn', 'meteofrsipn', 'usnavysipn']\n",
      "2 5 10\n",
      "saved  /home/disk/sipn/nicway/public_html/sipn/figures/model/all_model/sic/Regional_maps_NEW/Region_0_anomaly_forecast_2019-11-17_07.png\n",
      "saved  /home/disk/sipn/nicway/public_html/sipn/figures/model/all_model/sic/Regional_maps_NEW/Region_1_anomaly_forecast_2019-11-17_07.png\n",
      "saved  /home/disk/sipn/nicway/public_html/sipn/figures/model/all_model/sic/Regional_maps_NEW/Region_2_anomaly_forecast_2019-11-17_07.png\n",
      "saved  /home/disk/sipn/nicway/public_html/sipn/figures/model/all_model/sic/Regional_maps_NEW/Region_3_anomaly_forecast_2019-11-17_07.png\n",
      "saved  /home/disk/sipn/nicway/public_html/sipn/figures/model/all_model/sic/Regional_maps_NEW/Region_4_anomaly_forecast_2019-11-17_07.png\n",
      "saved  /home/disk/sipn/nicway/public_html/sipn/figures/model/all_model/sic/Regional_maps_NEW/Region_5_anomaly_forecast_2019-11-17_07.png\n",
      "saved  /home/disk/sipn/nicway/public_html/sipn/figures/model/all_model/sic/Regional_maps_NEW/Region_6_anomaly_forecast_2019-11-17_07.png\n",
      "saved  /home/disk/sipn/nicway/public_html/sipn/figures/model/all_model/sic/Regional_maps_NEW/Region_7_anomaly_forecast_2019-11-17_07.png\n",
      "saved  /home/disk/sipn/nicway/public_html/sipn/figures/model/all_model/sic/Regional_maps_NEW/Region_0_mean_forecast_2019-11-17_07.png\n",
      "saved  /home/disk/sipn/nicway/public_html/sipn/figures/model/all_model/sic/Regional_maps_NEW/Region_1_mean_forecast_2019-11-17_07.png\n",
      "saved  /home/disk/sipn/nicway/public_html/sipn/figures/model/all_model/sic/Regional_maps_NEW/Region_2_mean_forecast_2019-11-17_07.png\n",
      "saved  /home/disk/sipn/nicway/public_html/sipn/figures/model/all_model/sic/Regional_maps_NEW/Region_3_mean_forecast_2019-11-17_07.png\n",
      "saved  /home/disk/sipn/nicway/public_html/sipn/figures/model/all_model/sic/Regional_maps_NEW/Region_4_mean_forecast_2019-11-17_07.png\n",
      "saved  /home/disk/sipn/nicway/public_html/sipn/figures/model/all_model/sic/Regional_maps_NEW/Region_5_mean_forecast_2019-11-17_07.png\n",
      "saved  /home/disk/sipn/nicway/public_html/sipn/figures/model/all_model/sic/Regional_maps_NEW/Region_6_mean_forecast_2019-11-17_07.png\n",
      "saved  /home/disk/sipn/nicway/public_html/sipn/figures/model/all_model/sic/Regional_maps_NEW/Region_7_mean_forecast_2019-11-17_07.png\n",
      "plotting hist obs SIP\n"
     ]
    },
    {
     "name": "stderr",
     "output_type": "stream",
     "text": [
      "/home/disk/sipn/nicway/anaconda3/envs/esio/lib/python3.6/site-packages/xarray/core/nanops.py:161: RuntimeWarning: Mean of empty slice\n",
      "  return np.nanmean(a, axis=axis, dtype=dtype)\n"
     ]
    },
    {
     "name": "stdout",
     "output_type": "stream",
     "text": [
      "saved  /home/disk/sipn/nicway/public_html/sipn/figures/model/all_model/sic/Regional_maps_NEW/Region_0_SIP_forecast_2019-11-17_07.png\n",
      "plotting hist obs SIP\n"
     ]
    },
    {
     "name": "stderr",
     "output_type": "stream",
     "text": [
      "/home/disk/sipn/nicway/anaconda3/envs/esio/lib/python3.6/site-packages/xarray/core/nanops.py:161: RuntimeWarning: Mean of empty slice\n",
      "  return np.nanmean(a, axis=axis, dtype=dtype)\n"
     ]
    },
    {
     "name": "stdout",
     "output_type": "stream",
     "text": [
      "saved  /home/disk/sipn/nicway/public_html/sipn/figures/model/all_model/sic/Regional_maps_NEW/Region_1_SIP_forecast_2019-11-17_07.png\n",
      "plotting hist obs SIP\n"
     ]
    },
    {
     "name": "stderr",
     "output_type": "stream",
     "text": [
      "/home/disk/sipn/nicway/anaconda3/envs/esio/lib/python3.6/site-packages/xarray/core/nanops.py:161: RuntimeWarning: Mean of empty slice\n",
      "  return np.nanmean(a, axis=axis, dtype=dtype)\n"
     ]
    },
    {
     "name": "stdout",
     "output_type": "stream",
     "text": [
      "saved  /home/disk/sipn/nicway/public_html/sipn/figures/model/all_model/sic/Regional_maps_NEW/Region_2_SIP_forecast_2019-11-17_07.png\n",
      "plotting hist obs SIP\n"
     ]
    },
    {
     "name": "stderr",
     "output_type": "stream",
     "text": [
      "/home/disk/sipn/nicway/anaconda3/envs/esio/lib/python3.6/site-packages/xarray/core/nanops.py:161: RuntimeWarning: Mean of empty slice\n",
      "  return np.nanmean(a, axis=axis, dtype=dtype)\n"
     ]
    },
    {
     "name": "stdout",
     "output_type": "stream",
     "text": [
      "saved  /home/disk/sipn/nicway/public_html/sipn/figures/model/all_model/sic/Regional_maps_NEW/Region_3_SIP_forecast_2019-11-17_07.png\n",
      "plotting hist obs SIP\n"
     ]
    },
    {
     "name": "stderr",
     "output_type": "stream",
     "text": [
      "/home/disk/sipn/nicway/anaconda3/envs/esio/lib/python3.6/site-packages/xarray/core/nanops.py:161: RuntimeWarning: Mean of empty slice\n",
      "  return np.nanmean(a, axis=axis, dtype=dtype)\n"
     ]
    },
    {
     "name": "stdout",
     "output_type": "stream",
     "text": [
      "saved  /home/disk/sipn/nicway/public_html/sipn/figures/model/all_model/sic/Regional_maps_NEW/Region_4_SIP_forecast_2019-11-17_07.png\n",
      "plotting hist obs SIP\n"
     ]
    },
    {
     "name": "stderr",
     "output_type": "stream",
     "text": [
      "/home/disk/sipn/nicway/anaconda3/envs/esio/lib/python3.6/site-packages/xarray/core/nanops.py:161: RuntimeWarning: Mean of empty slice\n",
      "  return np.nanmean(a, axis=axis, dtype=dtype)\n"
     ]
    },
    {
     "name": "stdout",
     "output_type": "stream",
     "text": [
      "saved  /home/disk/sipn/nicway/public_html/sipn/figures/model/all_model/sic/Regional_maps_NEW/Region_5_SIP_forecast_2019-11-17_07.png\n",
      "plotting hist obs SIP\n"
     ]
    },
    {
     "name": "stderr",
     "output_type": "stream",
     "text": [
      "/home/disk/sipn/nicway/anaconda3/envs/esio/lib/python3.6/site-packages/xarray/core/nanops.py:161: RuntimeWarning: Mean of empty slice\n",
      "  return np.nanmean(a, axis=axis, dtype=dtype)\n"
     ]
    },
    {
     "name": "stdout",
     "output_type": "stream",
     "text": [
      "saved  /home/disk/sipn/nicway/public_html/sipn/figures/model/all_model/sic/Regional_maps_NEW/Region_6_SIP_forecast_2019-11-17_07.png\n",
      "plotting hist obs SIP\n"
     ]
    },
    {
     "name": "stderr",
     "output_type": "stream",
     "text": [
      "/home/disk/sipn/nicway/anaconda3/envs/esio/lib/python3.6/site-packages/xarray/core/nanops.py:161: RuntimeWarning: Mean of empty slice\n",
      "  return np.nanmean(a, axis=axis, dtype=dtype)\n"
     ]
    },
    {
     "name": "stdout",
     "output_type": "stream",
     "text": [
      "saved  /home/disk/sipn/nicway/public_html/sipn/figures/model/all_model/sic/Regional_maps_NEW/Region_7_SIP_forecast_2019-11-17_07.png\n",
      "Processing forecast time:  154 days\n",
      "8\n",
      "models to plot  ['MME', 'climo10yrs', 'dampedAnomalyTrend', 'gfdlsipn', 'ukmetofficesipn', 'ecmwfsipn', 'meteofrsipn', 'usnavysipn']\n",
      "2 5 10\n",
      "saved  /home/disk/sipn/nicway/public_html/sipn/figures/model/all_model/sic/Regional_maps_NEW/Region_0_anomaly_forecast_2019-11-17_08.png\n",
      "saved  /home/disk/sipn/nicway/public_html/sipn/figures/model/all_model/sic/Regional_maps_NEW/Region_1_anomaly_forecast_2019-11-17_08.png\n",
      "saved  /home/disk/sipn/nicway/public_html/sipn/figures/model/all_model/sic/Regional_maps_NEW/Region_2_anomaly_forecast_2019-11-17_08.png\n",
      "saved  /home/disk/sipn/nicway/public_html/sipn/figures/model/all_model/sic/Regional_maps_NEW/Region_3_anomaly_forecast_2019-11-17_08.png\n",
      "saved  /home/disk/sipn/nicway/public_html/sipn/figures/model/all_model/sic/Regional_maps_NEW/Region_4_anomaly_forecast_2019-11-17_08.png\n",
      "saved  /home/disk/sipn/nicway/public_html/sipn/figures/model/all_model/sic/Regional_maps_NEW/Region_5_anomaly_forecast_2019-11-17_08.png\n",
      "saved  /home/disk/sipn/nicway/public_html/sipn/figures/model/all_model/sic/Regional_maps_NEW/Region_6_anomaly_forecast_2019-11-17_08.png\n",
      "saved  /home/disk/sipn/nicway/public_html/sipn/figures/model/all_model/sic/Regional_maps_NEW/Region_7_anomaly_forecast_2019-11-17_08.png\n",
      "saved  /home/disk/sipn/nicway/public_html/sipn/figures/model/all_model/sic/Regional_maps_NEW/Region_0_mean_forecast_2019-11-17_08.png\n",
      "saved  /home/disk/sipn/nicway/public_html/sipn/figures/model/all_model/sic/Regional_maps_NEW/Region_1_mean_forecast_2019-11-17_08.png\n",
      "saved  /home/disk/sipn/nicway/public_html/sipn/figures/model/all_model/sic/Regional_maps_NEW/Region_2_mean_forecast_2019-11-17_08.png\n",
      "saved  /home/disk/sipn/nicway/public_html/sipn/figures/model/all_model/sic/Regional_maps_NEW/Region_3_mean_forecast_2019-11-17_08.png\n",
      "saved  /home/disk/sipn/nicway/public_html/sipn/figures/model/all_model/sic/Regional_maps_NEW/Region_4_mean_forecast_2019-11-17_08.png\n",
      "saved  /home/disk/sipn/nicway/public_html/sipn/figures/model/all_model/sic/Regional_maps_NEW/Region_5_mean_forecast_2019-11-17_08.png\n",
      "saved  /home/disk/sipn/nicway/public_html/sipn/figures/model/all_model/sic/Regional_maps_NEW/Region_6_mean_forecast_2019-11-17_08.png\n",
      "saved  /home/disk/sipn/nicway/public_html/sipn/figures/model/all_model/sic/Regional_maps_NEW/Region_7_mean_forecast_2019-11-17_08.png\n",
      "plotting hist obs SIP\n"
     ]
    },
    {
     "name": "stderr",
     "output_type": "stream",
     "text": [
      "/home/disk/sipn/nicway/anaconda3/envs/esio/lib/python3.6/site-packages/xarray/core/nanops.py:161: RuntimeWarning: Mean of empty slice\n",
      "  return np.nanmean(a, axis=axis, dtype=dtype)\n"
     ]
    },
    {
     "name": "stdout",
     "output_type": "stream",
     "text": [
      "saved  /home/disk/sipn/nicway/public_html/sipn/figures/model/all_model/sic/Regional_maps_NEW/Region_0_SIP_forecast_2019-11-17_08.png\n",
      "plotting hist obs SIP\n"
     ]
    },
    {
     "name": "stderr",
     "output_type": "stream",
     "text": [
      "/home/disk/sipn/nicway/anaconda3/envs/esio/lib/python3.6/site-packages/xarray/core/nanops.py:161: RuntimeWarning: Mean of empty slice\n",
      "  return np.nanmean(a, axis=axis, dtype=dtype)\n"
     ]
    },
    {
     "name": "stdout",
     "output_type": "stream",
     "text": [
      "saved  /home/disk/sipn/nicway/public_html/sipn/figures/model/all_model/sic/Regional_maps_NEW/Region_1_SIP_forecast_2019-11-17_08.png\n",
      "plotting hist obs SIP\n"
     ]
    },
    {
     "name": "stderr",
     "output_type": "stream",
     "text": [
      "/home/disk/sipn/nicway/anaconda3/envs/esio/lib/python3.6/site-packages/xarray/core/nanops.py:161: RuntimeWarning: Mean of empty slice\n",
      "  return np.nanmean(a, axis=axis, dtype=dtype)\n"
     ]
    },
    {
     "name": "stdout",
     "output_type": "stream",
     "text": [
      "saved  /home/disk/sipn/nicway/public_html/sipn/figures/model/all_model/sic/Regional_maps_NEW/Region_2_SIP_forecast_2019-11-17_08.png\n",
      "plotting hist obs SIP\n"
     ]
    },
    {
     "name": "stderr",
     "output_type": "stream",
     "text": [
      "/home/disk/sipn/nicway/anaconda3/envs/esio/lib/python3.6/site-packages/xarray/core/nanops.py:161: RuntimeWarning: Mean of empty slice\n",
      "  return np.nanmean(a, axis=axis, dtype=dtype)\n"
     ]
    },
    {
     "name": "stdout",
     "output_type": "stream",
     "text": [
      "saved  /home/disk/sipn/nicway/public_html/sipn/figures/model/all_model/sic/Regional_maps_NEW/Region_3_SIP_forecast_2019-11-17_08.png\n",
      "plotting hist obs SIP\n"
     ]
    },
    {
     "name": "stderr",
     "output_type": "stream",
     "text": [
      "/home/disk/sipn/nicway/anaconda3/envs/esio/lib/python3.6/site-packages/xarray/core/nanops.py:161: RuntimeWarning: Mean of empty slice\n",
      "  return np.nanmean(a, axis=axis, dtype=dtype)\n"
     ]
    },
    {
     "name": "stdout",
     "output_type": "stream",
     "text": [
      "saved  /home/disk/sipn/nicway/public_html/sipn/figures/model/all_model/sic/Regional_maps_NEW/Region_4_SIP_forecast_2019-11-17_08.png\n",
      "plotting hist obs SIP\n"
     ]
    },
    {
     "name": "stderr",
     "output_type": "stream",
     "text": [
      "/home/disk/sipn/nicway/anaconda3/envs/esio/lib/python3.6/site-packages/xarray/core/nanops.py:161: RuntimeWarning: Mean of empty slice\n",
      "  return np.nanmean(a, axis=axis, dtype=dtype)\n"
     ]
    },
    {
     "name": "stdout",
     "output_type": "stream",
     "text": [
      "saved  /home/disk/sipn/nicway/public_html/sipn/figures/model/all_model/sic/Regional_maps_NEW/Region_5_SIP_forecast_2019-11-17_08.png\n",
      "plotting hist obs SIP\n"
     ]
    },
    {
     "name": "stderr",
     "output_type": "stream",
     "text": [
      "/home/disk/sipn/nicway/anaconda3/envs/esio/lib/python3.6/site-packages/xarray/core/nanops.py:161: RuntimeWarning: Mean of empty slice\n",
      "  return np.nanmean(a, axis=axis, dtype=dtype)\n"
     ]
    },
    {
     "name": "stdout",
     "output_type": "stream",
     "text": [
      "saved  /home/disk/sipn/nicway/public_html/sipn/figures/model/all_model/sic/Regional_maps_NEW/Region_6_SIP_forecast_2019-11-17_08.png\n",
      "plotting hist obs SIP\n"
     ]
    },
    {
     "name": "stderr",
     "output_type": "stream",
     "text": [
      "/home/disk/sipn/nicway/anaconda3/envs/esio/lib/python3.6/site-packages/xarray/core/nanops.py:161: RuntimeWarning: Mean of empty slice\n",
      "  return np.nanmean(a, axis=axis, dtype=dtype)\n"
     ]
    },
    {
     "name": "stdout",
     "output_type": "stream",
     "text": [
      "saved  /home/disk/sipn/nicway/public_html/sipn/figures/model/all_model/sic/Regional_maps_NEW/Region_7_SIP_forecast_2019-11-17_08.png\n",
      "Processing forecast time:  182 days\n",
      "9\n",
      "models to plot  ['MME', 'climo10yrs', 'dampedAnomalyTrend', 'gfdlsipn', 'ukmetofficesipn', 'ecmwfsipn', 'meteofrsipn', 'usnavysipn']\n",
      "2 5 10\n",
      "saved  /home/disk/sipn/nicway/public_html/sipn/figures/model/all_model/sic/Regional_maps_NEW/Region_0_anomaly_forecast_2019-11-17_09.png\n",
      "saved  /home/disk/sipn/nicway/public_html/sipn/figures/model/all_model/sic/Regional_maps_NEW/Region_1_anomaly_forecast_2019-11-17_09.png\n",
      "saved  /home/disk/sipn/nicway/public_html/sipn/figures/model/all_model/sic/Regional_maps_NEW/Region_2_anomaly_forecast_2019-11-17_09.png\n",
      "saved  /home/disk/sipn/nicway/public_html/sipn/figures/model/all_model/sic/Regional_maps_NEW/Region_3_anomaly_forecast_2019-11-17_09.png\n",
      "saved  /home/disk/sipn/nicway/public_html/sipn/figures/model/all_model/sic/Regional_maps_NEW/Region_4_anomaly_forecast_2019-11-17_09.png\n",
      "saved  /home/disk/sipn/nicway/public_html/sipn/figures/model/all_model/sic/Regional_maps_NEW/Region_5_anomaly_forecast_2019-11-17_09.png\n",
      "saved  /home/disk/sipn/nicway/public_html/sipn/figures/model/all_model/sic/Regional_maps_NEW/Region_6_anomaly_forecast_2019-11-17_09.png\n",
      "saved  /home/disk/sipn/nicway/public_html/sipn/figures/model/all_model/sic/Regional_maps_NEW/Region_7_anomaly_forecast_2019-11-17_09.png\n",
      "saved  /home/disk/sipn/nicway/public_html/sipn/figures/model/all_model/sic/Regional_maps_NEW/Region_0_mean_forecast_2019-11-17_09.png\n",
      "saved  /home/disk/sipn/nicway/public_html/sipn/figures/model/all_model/sic/Regional_maps_NEW/Region_1_mean_forecast_2019-11-17_09.png\n",
      "saved  /home/disk/sipn/nicway/public_html/sipn/figures/model/all_model/sic/Regional_maps_NEW/Region_2_mean_forecast_2019-11-17_09.png\n",
      "saved  /home/disk/sipn/nicway/public_html/sipn/figures/model/all_model/sic/Regional_maps_NEW/Region_3_mean_forecast_2019-11-17_09.png\n",
      "saved  /home/disk/sipn/nicway/public_html/sipn/figures/model/all_model/sic/Regional_maps_NEW/Region_4_mean_forecast_2019-11-17_09.png\n",
      "saved  /home/disk/sipn/nicway/public_html/sipn/figures/model/all_model/sic/Regional_maps_NEW/Region_5_mean_forecast_2019-11-17_09.png\n",
      "saved  /home/disk/sipn/nicway/public_html/sipn/figures/model/all_model/sic/Regional_maps_NEW/Region_6_mean_forecast_2019-11-17_09.png\n",
      "saved  /home/disk/sipn/nicway/public_html/sipn/figures/model/all_model/sic/Regional_maps_NEW/Region_7_mean_forecast_2019-11-17_09.png\n",
      "plotting hist obs SIP\n"
     ]
    },
    {
     "name": "stderr",
     "output_type": "stream",
     "text": [
      "/home/disk/sipn/nicway/anaconda3/envs/esio/lib/python3.6/site-packages/xarray/core/nanops.py:161: RuntimeWarning: Mean of empty slice\n",
      "  return np.nanmean(a, axis=axis, dtype=dtype)\n"
     ]
    },
    {
     "name": "stdout",
     "output_type": "stream",
     "text": [
      "saved  /home/disk/sipn/nicway/public_html/sipn/figures/model/all_model/sic/Regional_maps_NEW/Region_0_SIP_forecast_2019-11-17_09.png\n",
      "plotting hist obs SIP\n"
     ]
    },
    {
     "name": "stderr",
     "output_type": "stream",
     "text": [
      "/home/disk/sipn/nicway/anaconda3/envs/esio/lib/python3.6/site-packages/xarray/core/nanops.py:161: RuntimeWarning: Mean of empty slice\n",
      "  return np.nanmean(a, axis=axis, dtype=dtype)\n"
     ]
    },
    {
     "name": "stdout",
     "output_type": "stream",
     "text": [
      "saved  /home/disk/sipn/nicway/public_html/sipn/figures/model/all_model/sic/Regional_maps_NEW/Region_1_SIP_forecast_2019-11-17_09.png\n",
      "plotting hist obs SIP\n"
     ]
    },
    {
     "name": "stderr",
     "output_type": "stream",
     "text": [
      "/home/disk/sipn/nicway/anaconda3/envs/esio/lib/python3.6/site-packages/xarray/core/nanops.py:161: RuntimeWarning: Mean of empty slice\n",
      "  return np.nanmean(a, axis=axis, dtype=dtype)\n"
     ]
    },
    {
     "name": "stdout",
     "output_type": "stream",
     "text": [
      "saved  /home/disk/sipn/nicway/public_html/sipn/figures/model/all_model/sic/Regional_maps_NEW/Region_2_SIP_forecast_2019-11-17_09.png\n",
      "plotting hist obs SIP\n"
     ]
    },
    {
     "name": "stderr",
     "output_type": "stream",
     "text": [
      "/home/disk/sipn/nicway/anaconda3/envs/esio/lib/python3.6/site-packages/xarray/core/nanops.py:161: RuntimeWarning: Mean of empty slice\n",
      "  return np.nanmean(a, axis=axis, dtype=dtype)\n"
     ]
    },
    {
     "name": "stdout",
     "output_type": "stream",
     "text": [
      "saved  /home/disk/sipn/nicway/public_html/sipn/figures/model/all_model/sic/Regional_maps_NEW/Region_3_SIP_forecast_2019-11-17_09.png\n",
      "plotting hist obs SIP\n"
     ]
    },
    {
     "name": "stderr",
     "output_type": "stream",
     "text": [
      "/home/disk/sipn/nicway/anaconda3/envs/esio/lib/python3.6/site-packages/xarray/core/nanops.py:161: RuntimeWarning: Mean of empty slice\n",
      "  return np.nanmean(a, axis=axis, dtype=dtype)\n"
     ]
    },
    {
     "name": "stdout",
     "output_type": "stream",
     "text": [
      "saved  /home/disk/sipn/nicway/public_html/sipn/figures/model/all_model/sic/Regional_maps_NEW/Region_4_SIP_forecast_2019-11-17_09.png\n",
      "plotting hist obs SIP\n"
     ]
    },
    {
     "name": "stderr",
     "output_type": "stream",
     "text": [
      "/home/disk/sipn/nicway/anaconda3/envs/esio/lib/python3.6/site-packages/xarray/core/nanops.py:161: RuntimeWarning: Mean of empty slice\n",
      "  return np.nanmean(a, axis=axis, dtype=dtype)\n"
     ]
    },
    {
     "name": "stdout",
     "output_type": "stream",
     "text": [
      "saved  /home/disk/sipn/nicway/public_html/sipn/figures/model/all_model/sic/Regional_maps_NEW/Region_5_SIP_forecast_2019-11-17_09.png\n",
      "plotting hist obs SIP\n"
     ]
    },
    {
     "name": "stderr",
     "output_type": "stream",
     "text": [
      "/home/disk/sipn/nicway/anaconda3/envs/esio/lib/python3.6/site-packages/xarray/core/nanops.py:161: RuntimeWarning: Mean of empty slice\n",
      "  return np.nanmean(a, axis=axis, dtype=dtype)\n"
     ]
    },
    {
     "name": "stdout",
     "output_type": "stream",
     "text": [
      "saved  /home/disk/sipn/nicway/public_html/sipn/figures/model/all_model/sic/Regional_maps_NEW/Region_6_SIP_forecast_2019-11-17_09.png\n",
      "plotting hist obs SIP\n"
     ]
    },
    {
     "name": "stderr",
     "output_type": "stream",
     "text": [
      "/home/disk/sipn/nicway/anaconda3/envs/esio/lib/python3.6/site-packages/xarray/core/nanops.py:161: RuntimeWarning: Mean of empty slice\n",
      "  return np.nanmean(a, axis=axis, dtype=dtype)\n"
     ]
    },
    {
     "name": "stdout",
     "output_type": "stream",
     "text": [
      "saved  /home/disk/sipn/nicway/public_html/sipn/figures/model/all_model/sic/Regional_maps_NEW/Region_7_SIP_forecast_2019-11-17_09.png\n",
      "Took  27.840053126953233  minutes.\n",
      "2019-11-24T00:00:00.000000000\n",
      "all forecast times to be plotted, ft_to_plot  [                0   604800000000000  1209600000000000  1814400000000000\n",
      "  2419200000000000  5443200000000000  7862400000000000 10281600000000000\n",
      " 13305600000000000 15724800000000000]\n",
      "Processing forecast time:  0 days\n",
      "0\n",
      "models to plot  ['MME', 'climo10yrs', 'dampedAnomalyTrend', 'gfdlsipn', 'ukmetofficesipn', 'ecmwfsipn', 'meteofrsipn', 'usnavysipn', 'fgoalssipn', 'kma', 'ecmwf', 'metreofr', 'ukmo', 'ncep', 'usnavyncep', 'yopp', 'rasmesrl']\n",
      "4 5 19\n",
      "saved  /home/disk/sipn/nicway/public_html/sipn/figures/model/all_model/sic/Regional_maps_NEW/Region_0_anomaly_forecast_2019-11-24_00.png\n",
      "saved  /home/disk/sipn/nicway/public_html/sipn/figures/model/all_model/sic/Regional_maps_NEW/Region_1_anomaly_forecast_2019-11-24_00.png\n",
      "saved  /home/disk/sipn/nicway/public_html/sipn/figures/model/all_model/sic/Regional_maps_NEW/Region_2_anomaly_forecast_2019-11-24_00.png\n",
      "saved  /home/disk/sipn/nicway/public_html/sipn/figures/model/all_model/sic/Regional_maps_NEW/Region_3_anomaly_forecast_2019-11-24_00.png\n",
      "saved  /home/disk/sipn/nicway/public_html/sipn/figures/model/all_model/sic/Regional_maps_NEW/Region_4_anomaly_forecast_2019-11-24_00.png\n",
      "saved  /home/disk/sipn/nicway/public_html/sipn/figures/model/all_model/sic/Regional_maps_NEW/Region_5_anomaly_forecast_2019-11-24_00.png\n",
      "saved  /home/disk/sipn/nicway/public_html/sipn/figures/model/all_model/sic/Regional_maps_NEW/Region_6_anomaly_forecast_2019-11-24_00.png\n",
      "saved  /home/disk/sipn/nicway/public_html/sipn/figures/model/all_model/sic/Regional_maps_NEW/Region_7_anomaly_forecast_2019-11-24_00.png\n",
      "saved  /home/disk/sipn/nicway/public_html/sipn/figures/model/all_model/sic/Regional_maps_NEW/Region_0_mean_forecast_2019-11-24_00.png\n",
      "saved  /home/disk/sipn/nicway/public_html/sipn/figures/model/all_model/sic/Regional_maps_NEW/Region_1_mean_forecast_2019-11-24_00.png\n",
      "saved  /home/disk/sipn/nicway/public_html/sipn/figures/model/all_model/sic/Regional_maps_NEW/Region_2_mean_forecast_2019-11-24_00.png\n",
      "saved  /home/disk/sipn/nicway/public_html/sipn/figures/model/all_model/sic/Regional_maps_NEW/Region_3_mean_forecast_2019-11-24_00.png\n",
      "saved  /home/disk/sipn/nicway/public_html/sipn/figures/model/all_model/sic/Regional_maps_NEW/Region_4_mean_forecast_2019-11-24_00.png\n",
      "saved  /home/disk/sipn/nicway/public_html/sipn/figures/model/all_model/sic/Regional_maps_NEW/Region_5_mean_forecast_2019-11-24_00.png\n",
      "saved  /home/disk/sipn/nicway/public_html/sipn/figures/model/all_model/sic/Regional_maps_NEW/Region_6_mean_forecast_2019-11-24_00.png\n",
      "saved  /home/disk/sipn/nicway/public_html/sipn/figures/model/all_model/sic/Regional_maps_NEW/Region_7_mean_forecast_2019-11-24_00.png\n",
      "plotting hist obs SIP\n"
     ]
    },
    {
     "name": "stderr",
     "output_type": "stream",
     "text": [
      "/home/disk/sipn/nicway/anaconda3/envs/esio/lib/python3.6/site-packages/xarray/core/nanops.py:161: RuntimeWarning: Mean of empty slice\n",
      "  return np.nanmean(a, axis=axis, dtype=dtype)\n"
     ]
    },
    {
     "name": "stdout",
     "output_type": "stream",
     "text": [
      "saved  /home/disk/sipn/nicway/public_html/sipn/figures/model/all_model/sic/Regional_maps_NEW/Region_0_SIP_forecast_2019-11-24_00.png\n",
      "plotting hist obs SIP\n"
     ]
    },
    {
     "name": "stderr",
     "output_type": "stream",
     "text": [
      "/home/disk/sipn/nicway/anaconda3/envs/esio/lib/python3.6/site-packages/xarray/core/nanops.py:161: RuntimeWarning: Mean of empty slice\n",
      "  return np.nanmean(a, axis=axis, dtype=dtype)\n"
     ]
    },
    {
     "name": "stdout",
     "output_type": "stream",
     "text": [
      "saved  /home/disk/sipn/nicway/public_html/sipn/figures/model/all_model/sic/Regional_maps_NEW/Region_1_SIP_forecast_2019-11-24_00.png\n",
      "plotting hist obs SIP\n"
     ]
    },
    {
     "name": "stderr",
     "output_type": "stream",
     "text": [
      "/home/disk/sipn/nicway/anaconda3/envs/esio/lib/python3.6/site-packages/xarray/core/nanops.py:161: RuntimeWarning: Mean of empty slice\n",
      "  return np.nanmean(a, axis=axis, dtype=dtype)\n"
     ]
    },
    {
     "name": "stdout",
     "output_type": "stream",
     "text": [
      "saved  /home/disk/sipn/nicway/public_html/sipn/figures/model/all_model/sic/Regional_maps_NEW/Region_2_SIP_forecast_2019-11-24_00.png\n",
      "plotting hist obs SIP\n"
     ]
    },
    {
     "name": "stderr",
     "output_type": "stream",
     "text": [
      "/home/disk/sipn/nicway/anaconda3/envs/esio/lib/python3.6/site-packages/xarray/core/nanops.py:161: RuntimeWarning: Mean of empty slice\n",
      "  return np.nanmean(a, axis=axis, dtype=dtype)\n"
     ]
    },
    {
     "name": "stdout",
     "output_type": "stream",
     "text": [
      "saved  /home/disk/sipn/nicway/public_html/sipn/figures/model/all_model/sic/Regional_maps_NEW/Region_3_SIP_forecast_2019-11-24_00.png\n",
      "plotting hist obs SIP\n"
     ]
    },
    {
     "name": "stderr",
     "output_type": "stream",
     "text": [
      "/home/disk/sipn/nicway/anaconda3/envs/esio/lib/python3.6/site-packages/xarray/core/nanops.py:161: RuntimeWarning: Mean of empty slice\n",
      "  return np.nanmean(a, axis=axis, dtype=dtype)\n"
     ]
    },
    {
     "name": "stdout",
     "output_type": "stream",
     "text": [
      "saved  /home/disk/sipn/nicway/public_html/sipn/figures/model/all_model/sic/Regional_maps_NEW/Region_4_SIP_forecast_2019-11-24_00.png\n",
      "plotting hist obs SIP\n"
     ]
    },
    {
     "name": "stderr",
     "output_type": "stream",
     "text": [
      "/home/disk/sipn/nicway/anaconda3/envs/esio/lib/python3.6/site-packages/xarray/core/nanops.py:161: RuntimeWarning: Mean of empty slice\n",
      "  return np.nanmean(a, axis=axis, dtype=dtype)\n"
     ]
    },
    {
     "name": "stdout",
     "output_type": "stream",
     "text": [
      "saved  /home/disk/sipn/nicway/public_html/sipn/figures/model/all_model/sic/Regional_maps_NEW/Region_5_SIP_forecast_2019-11-24_00.png\n",
      "plotting hist obs SIP\n"
     ]
    },
    {
     "name": "stderr",
     "output_type": "stream",
     "text": [
      "/home/disk/sipn/nicway/anaconda3/envs/esio/lib/python3.6/site-packages/xarray/core/nanops.py:161: RuntimeWarning: Mean of empty slice\n",
      "  return np.nanmean(a, axis=axis, dtype=dtype)\n"
     ]
    },
    {
     "name": "stdout",
     "output_type": "stream",
     "text": [
      "saved  /home/disk/sipn/nicway/public_html/sipn/figures/model/all_model/sic/Regional_maps_NEW/Region_6_SIP_forecast_2019-11-24_00.png\n",
      "plotting hist obs SIP\n"
     ]
    },
    {
     "name": "stderr",
     "output_type": "stream",
     "text": [
      "/home/disk/sipn/nicway/anaconda3/envs/esio/lib/python3.6/site-packages/xarray/core/nanops.py:161: RuntimeWarning: Mean of empty slice\n",
      "  return np.nanmean(a, axis=axis, dtype=dtype)\n"
     ]
    },
    {
     "name": "stdout",
     "output_type": "stream",
     "text": [
      "saved  /home/disk/sipn/nicway/public_html/sipn/figures/model/all_model/sic/Regional_maps_NEW/Region_7_SIP_forecast_2019-11-24_00.png\n",
      "Processing forecast time:  7 days\n",
      "1\n",
      "models to plot  ['MME', 'climo10yrs', 'dampedAnomalyTrend', 'gfdlsipn', 'ukmetofficesipn', 'ecmwfsipn', 'meteofrsipn', 'usnavysipn', 'fgoalssipn', 'kma', 'ecmwf', 'metreofr', 'ukmo', 'ncep', 'usnavyncep', 'yopp', 'rasmesrl']\n",
      "4 5 19\n",
      "saved  /home/disk/sipn/nicway/public_html/sipn/figures/model/all_model/sic/Regional_maps_NEW/Region_0_anomaly_forecast_2019-11-24_01.png\n",
      "saved  /home/disk/sipn/nicway/public_html/sipn/figures/model/all_model/sic/Regional_maps_NEW/Region_1_anomaly_forecast_2019-11-24_01.png\n",
      "saved  /home/disk/sipn/nicway/public_html/sipn/figures/model/all_model/sic/Regional_maps_NEW/Region_2_anomaly_forecast_2019-11-24_01.png\n",
      "saved  /home/disk/sipn/nicway/public_html/sipn/figures/model/all_model/sic/Regional_maps_NEW/Region_3_anomaly_forecast_2019-11-24_01.png\n",
      "saved  /home/disk/sipn/nicway/public_html/sipn/figures/model/all_model/sic/Regional_maps_NEW/Region_4_anomaly_forecast_2019-11-24_01.png\n",
      "saved  /home/disk/sipn/nicway/public_html/sipn/figures/model/all_model/sic/Regional_maps_NEW/Region_5_anomaly_forecast_2019-11-24_01.png\n",
      "saved  /home/disk/sipn/nicway/public_html/sipn/figures/model/all_model/sic/Regional_maps_NEW/Region_6_anomaly_forecast_2019-11-24_01.png\n",
      "saved  /home/disk/sipn/nicway/public_html/sipn/figures/model/all_model/sic/Regional_maps_NEW/Region_7_anomaly_forecast_2019-11-24_01.png\n",
      "saved  /home/disk/sipn/nicway/public_html/sipn/figures/model/all_model/sic/Regional_maps_NEW/Region_0_mean_forecast_2019-11-24_01.png\n",
      "saved  /home/disk/sipn/nicway/public_html/sipn/figures/model/all_model/sic/Regional_maps_NEW/Region_1_mean_forecast_2019-11-24_01.png\n",
      "saved  /home/disk/sipn/nicway/public_html/sipn/figures/model/all_model/sic/Regional_maps_NEW/Region_2_mean_forecast_2019-11-24_01.png\n",
      "saved  /home/disk/sipn/nicway/public_html/sipn/figures/model/all_model/sic/Regional_maps_NEW/Region_3_mean_forecast_2019-11-24_01.png\n",
      "saved  /home/disk/sipn/nicway/public_html/sipn/figures/model/all_model/sic/Regional_maps_NEW/Region_4_mean_forecast_2019-11-24_01.png\n",
      "saved  /home/disk/sipn/nicway/public_html/sipn/figures/model/all_model/sic/Regional_maps_NEW/Region_5_mean_forecast_2019-11-24_01.png\n",
      "saved  /home/disk/sipn/nicway/public_html/sipn/figures/model/all_model/sic/Regional_maps_NEW/Region_6_mean_forecast_2019-11-24_01.png\n",
      "saved  /home/disk/sipn/nicway/public_html/sipn/figures/model/all_model/sic/Regional_maps_NEW/Region_7_mean_forecast_2019-11-24_01.png\n",
      "plotting hist obs SIP\n"
     ]
    },
    {
     "name": "stderr",
     "output_type": "stream",
     "text": [
      "/home/disk/sipn/nicway/anaconda3/envs/esio/lib/python3.6/site-packages/xarray/core/nanops.py:161: RuntimeWarning: Mean of empty slice\n",
      "  return np.nanmean(a, axis=axis, dtype=dtype)\n"
     ]
    },
    {
     "name": "stdout",
     "output_type": "stream",
     "text": [
      "saved  /home/disk/sipn/nicway/public_html/sipn/figures/model/all_model/sic/Regional_maps_NEW/Region_0_SIP_forecast_2019-11-24_01.png\n",
      "plotting hist obs SIP\n"
     ]
    },
    {
     "name": "stderr",
     "output_type": "stream",
     "text": [
      "/home/disk/sipn/nicway/anaconda3/envs/esio/lib/python3.6/site-packages/xarray/core/nanops.py:161: RuntimeWarning: Mean of empty slice\n",
      "  return np.nanmean(a, axis=axis, dtype=dtype)\n"
     ]
    },
    {
     "name": "stdout",
     "output_type": "stream",
     "text": [
      "saved  /home/disk/sipn/nicway/public_html/sipn/figures/model/all_model/sic/Regional_maps_NEW/Region_1_SIP_forecast_2019-11-24_01.png\n",
      "plotting hist obs SIP\n"
     ]
    },
    {
     "name": "stderr",
     "output_type": "stream",
     "text": [
      "/home/disk/sipn/nicway/anaconda3/envs/esio/lib/python3.6/site-packages/xarray/core/nanops.py:161: RuntimeWarning: Mean of empty slice\n",
      "  return np.nanmean(a, axis=axis, dtype=dtype)\n"
     ]
    },
    {
     "name": "stdout",
     "output_type": "stream",
     "text": [
      "saved  /home/disk/sipn/nicway/public_html/sipn/figures/model/all_model/sic/Regional_maps_NEW/Region_2_SIP_forecast_2019-11-24_01.png\n",
      "plotting hist obs SIP\n"
     ]
    },
    {
     "name": "stderr",
     "output_type": "stream",
     "text": [
      "/home/disk/sipn/nicway/anaconda3/envs/esio/lib/python3.6/site-packages/xarray/core/nanops.py:161: RuntimeWarning: Mean of empty slice\n",
      "  return np.nanmean(a, axis=axis, dtype=dtype)\n"
     ]
    },
    {
     "name": "stdout",
     "output_type": "stream",
     "text": [
      "saved  /home/disk/sipn/nicway/public_html/sipn/figures/model/all_model/sic/Regional_maps_NEW/Region_3_SIP_forecast_2019-11-24_01.png\n",
      "plotting hist obs SIP\n"
     ]
    },
    {
     "name": "stderr",
     "output_type": "stream",
     "text": [
      "/home/disk/sipn/nicway/anaconda3/envs/esio/lib/python3.6/site-packages/xarray/core/nanops.py:161: RuntimeWarning: Mean of empty slice\n",
      "  return np.nanmean(a, axis=axis, dtype=dtype)\n"
     ]
    },
    {
     "name": "stdout",
     "output_type": "stream",
     "text": [
      "saved  /home/disk/sipn/nicway/public_html/sipn/figures/model/all_model/sic/Regional_maps_NEW/Region_4_SIP_forecast_2019-11-24_01.png\n",
      "plotting hist obs SIP\n"
     ]
    },
    {
     "name": "stderr",
     "output_type": "stream",
     "text": [
      "/home/disk/sipn/nicway/anaconda3/envs/esio/lib/python3.6/site-packages/xarray/core/nanops.py:161: RuntimeWarning: Mean of empty slice\n",
      "  return np.nanmean(a, axis=axis, dtype=dtype)\n"
     ]
    },
    {
     "name": "stdout",
     "output_type": "stream",
     "text": [
      "saved  /home/disk/sipn/nicway/public_html/sipn/figures/model/all_model/sic/Regional_maps_NEW/Region_5_SIP_forecast_2019-11-24_01.png\n",
      "plotting hist obs SIP\n"
     ]
    },
    {
     "name": "stderr",
     "output_type": "stream",
     "text": [
      "/home/disk/sipn/nicway/anaconda3/envs/esio/lib/python3.6/site-packages/xarray/core/nanops.py:161: RuntimeWarning: Mean of empty slice\n",
      "  return np.nanmean(a, axis=axis, dtype=dtype)\n"
     ]
    },
    {
     "name": "stdout",
     "output_type": "stream",
     "text": [
      "saved  /home/disk/sipn/nicway/public_html/sipn/figures/model/all_model/sic/Regional_maps_NEW/Region_6_SIP_forecast_2019-11-24_01.png\n",
      "plotting hist obs SIP\n"
     ]
    },
    {
     "name": "stderr",
     "output_type": "stream",
     "text": [
      "/home/disk/sipn/nicway/anaconda3/envs/esio/lib/python3.6/site-packages/xarray/core/nanops.py:161: RuntimeWarning: Mean of empty slice\n",
      "  return np.nanmean(a, axis=axis, dtype=dtype)\n"
     ]
    },
    {
     "name": "stdout",
     "output_type": "stream",
     "text": [
      "saved  /home/disk/sipn/nicway/public_html/sipn/figures/model/all_model/sic/Regional_maps_NEW/Region_7_SIP_forecast_2019-11-24_01.png\n",
      "Processing forecast time:  14 days\n",
      "2\n",
      "models to plot  ['MME', 'climo10yrs', 'dampedAnomalyTrend', 'gfdlsipn', 'ukmetofficesipn', 'ecmwfsipn', 'meteofrsipn', 'usnavysipn', 'fgoalssipn', 'kma', 'ecmwf', 'metreofr', 'ukmo', 'ncep', 'usnavyncep', 'yopp', 'rasmesrl']\n",
      "4 5 19\n",
      "saved  /home/disk/sipn/nicway/public_html/sipn/figures/model/all_model/sic/Regional_maps_NEW/Region_0_anomaly_forecast_2019-11-24_02.png\n",
      "saved  /home/disk/sipn/nicway/public_html/sipn/figures/model/all_model/sic/Regional_maps_NEW/Region_1_anomaly_forecast_2019-11-24_02.png\n",
      "saved  /home/disk/sipn/nicway/public_html/sipn/figures/model/all_model/sic/Regional_maps_NEW/Region_2_anomaly_forecast_2019-11-24_02.png\n",
      "saved  /home/disk/sipn/nicway/public_html/sipn/figures/model/all_model/sic/Regional_maps_NEW/Region_3_anomaly_forecast_2019-11-24_02.png\n",
      "saved  /home/disk/sipn/nicway/public_html/sipn/figures/model/all_model/sic/Regional_maps_NEW/Region_4_anomaly_forecast_2019-11-24_02.png\n",
      "saved  /home/disk/sipn/nicway/public_html/sipn/figures/model/all_model/sic/Regional_maps_NEW/Region_5_anomaly_forecast_2019-11-24_02.png\n",
      "saved  /home/disk/sipn/nicway/public_html/sipn/figures/model/all_model/sic/Regional_maps_NEW/Region_6_anomaly_forecast_2019-11-24_02.png\n",
      "saved  /home/disk/sipn/nicway/public_html/sipn/figures/model/all_model/sic/Regional_maps_NEW/Region_7_anomaly_forecast_2019-11-24_02.png\n",
      "saved  /home/disk/sipn/nicway/public_html/sipn/figures/model/all_model/sic/Regional_maps_NEW/Region_0_mean_forecast_2019-11-24_02.png\n",
      "saved  /home/disk/sipn/nicway/public_html/sipn/figures/model/all_model/sic/Regional_maps_NEW/Region_1_mean_forecast_2019-11-24_02.png\n",
      "saved  /home/disk/sipn/nicway/public_html/sipn/figures/model/all_model/sic/Regional_maps_NEW/Region_2_mean_forecast_2019-11-24_02.png\n",
      "saved  /home/disk/sipn/nicway/public_html/sipn/figures/model/all_model/sic/Regional_maps_NEW/Region_3_mean_forecast_2019-11-24_02.png\n",
      "saved  /home/disk/sipn/nicway/public_html/sipn/figures/model/all_model/sic/Regional_maps_NEW/Region_4_mean_forecast_2019-11-24_02.png\n",
      "saved  /home/disk/sipn/nicway/public_html/sipn/figures/model/all_model/sic/Regional_maps_NEW/Region_5_mean_forecast_2019-11-24_02.png\n",
      "saved  /home/disk/sipn/nicway/public_html/sipn/figures/model/all_model/sic/Regional_maps_NEW/Region_6_mean_forecast_2019-11-24_02.png\n",
      "saved  /home/disk/sipn/nicway/public_html/sipn/figures/model/all_model/sic/Regional_maps_NEW/Region_7_mean_forecast_2019-11-24_02.png\n",
      "plotting hist obs SIP\n"
     ]
    },
    {
     "name": "stderr",
     "output_type": "stream",
     "text": [
      "/home/disk/sipn/nicway/anaconda3/envs/esio/lib/python3.6/site-packages/xarray/core/nanops.py:161: RuntimeWarning: Mean of empty slice\n",
      "  return np.nanmean(a, axis=axis, dtype=dtype)\n"
     ]
    },
    {
     "name": "stdout",
     "output_type": "stream",
     "text": [
      "saved  /home/disk/sipn/nicway/public_html/sipn/figures/model/all_model/sic/Regional_maps_NEW/Region_0_SIP_forecast_2019-11-24_02.png\n",
      "plotting hist obs SIP\n"
     ]
    },
    {
     "name": "stderr",
     "output_type": "stream",
     "text": [
      "/home/disk/sipn/nicway/anaconda3/envs/esio/lib/python3.6/site-packages/xarray/core/nanops.py:161: RuntimeWarning: Mean of empty slice\n",
      "  return np.nanmean(a, axis=axis, dtype=dtype)\n"
     ]
    },
    {
     "name": "stdout",
     "output_type": "stream",
     "text": [
      "saved  /home/disk/sipn/nicway/public_html/sipn/figures/model/all_model/sic/Regional_maps_NEW/Region_1_SIP_forecast_2019-11-24_02.png\n",
      "plotting hist obs SIP\n"
     ]
    },
    {
     "name": "stderr",
     "output_type": "stream",
     "text": [
      "/home/disk/sipn/nicway/anaconda3/envs/esio/lib/python3.6/site-packages/xarray/core/nanops.py:161: RuntimeWarning: Mean of empty slice\n",
      "  return np.nanmean(a, axis=axis, dtype=dtype)\n"
     ]
    },
    {
     "name": "stdout",
     "output_type": "stream",
     "text": [
      "saved  /home/disk/sipn/nicway/public_html/sipn/figures/model/all_model/sic/Regional_maps_NEW/Region_2_SIP_forecast_2019-11-24_02.png\n",
      "plotting hist obs SIP\n"
     ]
    },
    {
     "name": "stderr",
     "output_type": "stream",
     "text": [
      "/home/disk/sipn/nicway/anaconda3/envs/esio/lib/python3.6/site-packages/xarray/core/nanops.py:161: RuntimeWarning: Mean of empty slice\n",
      "  return np.nanmean(a, axis=axis, dtype=dtype)\n"
     ]
    },
    {
     "name": "stdout",
     "output_type": "stream",
     "text": [
      "saved  /home/disk/sipn/nicway/public_html/sipn/figures/model/all_model/sic/Regional_maps_NEW/Region_3_SIP_forecast_2019-11-24_02.png\n",
      "plotting hist obs SIP\n"
     ]
    },
    {
     "name": "stderr",
     "output_type": "stream",
     "text": [
      "/home/disk/sipn/nicway/anaconda3/envs/esio/lib/python3.6/site-packages/xarray/core/nanops.py:161: RuntimeWarning: Mean of empty slice\n",
      "  return np.nanmean(a, axis=axis, dtype=dtype)\n"
     ]
    },
    {
     "name": "stdout",
     "output_type": "stream",
     "text": [
      "saved  /home/disk/sipn/nicway/public_html/sipn/figures/model/all_model/sic/Regional_maps_NEW/Region_4_SIP_forecast_2019-11-24_02.png\n",
      "plotting hist obs SIP\n"
     ]
    },
    {
     "name": "stderr",
     "output_type": "stream",
     "text": [
      "/home/disk/sipn/nicway/anaconda3/envs/esio/lib/python3.6/site-packages/xarray/core/nanops.py:161: RuntimeWarning: Mean of empty slice\n",
      "  return np.nanmean(a, axis=axis, dtype=dtype)\n"
     ]
    },
    {
     "name": "stdout",
     "output_type": "stream",
     "text": [
      "saved  /home/disk/sipn/nicway/public_html/sipn/figures/model/all_model/sic/Regional_maps_NEW/Region_5_SIP_forecast_2019-11-24_02.png\n",
      "plotting hist obs SIP\n"
     ]
    },
    {
     "name": "stderr",
     "output_type": "stream",
     "text": [
      "/home/disk/sipn/nicway/anaconda3/envs/esio/lib/python3.6/site-packages/xarray/core/nanops.py:161: RuntimeWarning: Mean of empty slice\n",
      "  return np.nanmean(a, axis=axis, dtype=dtype)\n"
     ]
    },
    {
     "name": "stdout",
     "output_type": "stream",
     "text": [
      "saved  /home/disk/sipn/nicway/public_html/sipn/figures/model/all_model/sic/Regional_maps_NEW/Region_6_SIP_forecast_2019-11-24_02.png\n",
      "plotting hist obs SIP\n"
     ]
    },
    {
     "name": "stderr",
     "output_type": "stream",
     "text": [
      "/home/disk/sipn/nicway/anaconda3/envs/esio/lib/python3.6/site-packages/xarray/core/nanops.py:161: RuntimeWarning: Mean of empty slice\n",
      "  return np.nanmean(a, axis=axis, dtype=dtype)\n"
     ]
    },
    {
     "name": "stdout",
     "output_type": "stream",
     "text": [
      "saved  /home/disk/sipn/nicway/public_html/sipn/figures/model/all_model/sic/Regional_maps_NEW/Region_7_SIP_forecast_2019-11-24_02.png\n",
      "Processing forecast time:  21 days\n",
      "3\n",
      "models to plot  ['MME', 'climo10yrs', 'dampedAnomalyTrend', 'gfdlsipn', 'ukmetofficesipn', 'ecmwfsipn', 'meteofrsipn', 'usnavysipn', 'fgoalssipn', 'kma', 'ecmwf', 'metreofr', 'ukmo', 'ncep', 'usnavyncep']\n",
      "4 5 17\n",
      "saved  /home/disk/sipn/nicway/public_html/sipn/figures/model/all_model/sic/Regional_maps_NEW/Region_0_anomaly_forecast_2019-11-24_03.png\n",
      "saved  /home/disk/sipn/nicway/public_html/sipn/figures/model/all_model/sic/Regional_maps_NEW/Region_1_anomaly_forecast_2019-11-24_03.png\n",
      "saved  /home/disk/sipn/nicway/public_html/sipn/figures/model/all_model/sic/Regional_maps_NEW/Region_2_anomaly_forecast_2019-11-24_03.png\n",
      "saved  /home/disk/sipn/nicway/public_html/sipn/figures/model/all_model/sic/Regional_maps_NEW/Region_3_anomaly_forecast_2019-11-24_03.png\n",
      "saved  /home/disk/sipn/nicway/public_html/sipn/figures/model/all_model/sic/Regional_maps_NEW/Region_4_anomaly_forecast_2019-11-24_03.png\n",
      "saved  /home/disk/sipn/nicway/public_html/sipn/figures/model/all_model/sic/Regional_maps_NEW/Region_5_anomaly_forecast_2019-11-24_03.png\n",
      "saved  /home/disk/sipn/nicway/public_html/sipn/figures/model/all_model/sic/Regional_maps_NEW/Region_6_anomaly_forecast_2019-11-24_03.png\n",
      "saved  /home/disk/sipn/nicway/public_html/sipn/figures/model/all_model/sic/Regional_maps_NEW/Region_7_anomaly_forecast_2019-11-24_03.png\n",
      "saved  /home/disk/sipn/nicway/public_html/sipn/figures/model/all_model/sic/Regional_maps_NEW/Region_0_mean_forecast_2019-11-24_03.png\n",
      "saved  /home/disk/sipn/nicway/public_html/sipn/figures/model/all_model/sic/Regional_maps_NEW/Region_1_mean_forecast_2019-11-24_03.png\n",
      "saved  /home/disk/sipn/nicway/public_html/sipn/figures/model/all_model/sic/Regional_maps_NEW/Region_2_mean_forecast_2019-11-24_03.png\n",
      "saved  /home/disk/sipn/nicway/public_html/sipn/figures/model/all_model/sic/Regional_maps_NEW/Region_3_mean_forecast_2019-11-24_03.png\n",
      "saved  /home/disk/sipn/nicway/public_html/sipn/figures/model/all_model/sic/Regional_maps_NEW/Region_4_mean_forecast_2019-11-24_03.png\n",
      "saved  /home/disk/sipn/nicway/public_html/sipn/figures/model/all_model/sic/Regional_maps_NEW/Region_5_mean_forecast_2019-11-24_03.png\n",
      "saved  /home/disk/sipn/nicway/public_html/sipn/figures/model/all_model/sic/Regional_maps_NEW/Region_6_mean_forecast_2019-11-24_03.png\n",
      "saved  /home/disk/sipn/nicway/public_html/sipn/figures/model/all_model/sic/Regional_maps_NEW/Region_7_mean_forecast_2019-11-24_03.png\n",
      "plotting hist obs SIP\n"
     ]
    },
    {
     "name": "stderr",
     "output_type": "stream",
     "text": [
      "/home/disk/sipn/nicway/anaconda3/envs/esio/lib/python3.6/site-packages/xarray/core/nanops.py:161: RuntimeWarning: Mean of empty slice\n",
      "  return np.nanmean(a, axis=axis, dtype=dtype)\n"
     ]
    },
    {
     "name": "stdout",
     "output_type": "stream",
     "text": [
      "saved  /home/disk/sipn/nicway/public_html/sipn/figures/model/all_model/sic/Regional_maps_NEW/Region_0_SIP_forecast_2019-11-24_03.png\n",
      "plotting hist obs SIP\n"
     ]
    },
    {
     "name": "stderr",
     "output_type": "stream",
     "text": [
      "/home/disk/sipn/nicway/anaconda3/envs/esio/lib/python3.6/site-packages/xarray/core/nanops.py:161: RuntimeWarning: Mean of empty slice\n",
      "  return np.nanmean(a, axis=axis, dtype=dtype)\n"
     ]
    },
    {
     "name": "stdout",
     "output_type": "stream",
     "text": [
      "saved  /home/disk/sipn/nicway/public_html/sipn/figures/model/all_model/sic/Regional_maps_NEW/Region_1_SIP_forecast_2019-11-24_03.png\n",
      "plotting hist obs SIP\n"
     ]
    },
    {
     "name": "stderr",
     "output_type": "stream",
     "text": [
      "/home/disk/sipn/nicway/anaconda3/envs/esio/lib/python3.6/site-packages/xarray/core/nanops.py:161: RuntimeWarning: Mean of empty slice\n",
      "  return np.nanmean(a, axis=axis, dtype=dtype)\n"
     ]
    },
    {
     "name": "stdout",
     "output_type": "stream",
     "text": [
      "saved  /home/disk/sipn/nicway/public_html/sipn/figures/model/all_model/sic/Regional_maps_NEW/Region_2_SIP_forecast_2019-11-24_03.png\n",
      "plotting hist obs SIP\n"
     ]
    },
    {
     "name": "stderr",
     "output_type": "stream",
     "text": [
      "/home/disk/sipn/nicway/anaconda3/envs/esio/lib/python3.6/site-packages/xarray/core/nanops.py:161: RuntimeWarning: Mean of empty slice\n",
      "  return np.nanmean(a, axis=axis, dtype=dtype)\n"
     ]
    },
    {
     "name": "stdout",
     "output_type": "stream",
     "text": [
      "saved  /home/disk/sipn/nicway/public_html/sipn/figures/model/all_model/sic/Regional_maps_NEW/Region_3_SIP_forecast_2019-11-24_03.png\n",
      "plotting hist obs SIP\n"
     ]
    },
    {
     "name": "stderr",
     "output_type": "stream",
     "text": [
      "/home/disk/sipn/nicway/anaconda3/envs/esio/lib/python3.6/site-packages/xarray/core/nanops.py:161: RuntimeWarning: Mean of empty slice\n",
      "  return np.nanmean(a, axis=axis, dtype=dtype)\n"
     ]
    },
    {
     "name": "stdout",
     "output_type": "stream",
     "text": [
      "saved  /home/disk/sipn/nicway/public_html/sipn/figures/model/all_model/sic/Regional_maps_NEW/Region_4_SIP_forecast_2019-11-24_03.png\n",
      "plotting hist obs SIP\n"
     ]
    },
    {
     "name": "stderr",
     "output_type": "stream",
     "text": [
      "/home/disk/sipn/nicway/anaconda3/envs/esio/lib/python3.6/site-packages/xarray/core/nanops.py:161: RuntimeWarning: Mean of empty slice\n",
      "  return np.nanmean(a, axis=axis, dtype=dtype)\n"
     ]
    },
    {
     "name": "stdout",
     "output_type": "stream",
     "text": [
      "saved  /home/disk/sipn/nicway/public_html/sipn/figures/model/all_model/sic/Regional_maps_NEW/Region_5_SIP_forecast_2019-11-24_03.png\n",
      "plotting hist obs SIP\n"
     ]
    },
    {
     "name": "stderr",
     "output_type": "stream",
     "text": [
      "/home/disk/sipn/nicway/anaconda3/envs/esio/lib/python3.6/site-packages/xarray/core/nanops.py:161: RuntimeWarning: Mean of empty slice\n",
      "  return np.nanmean(a, axis=axis, dtype=dtype)\n"
     ]
    },
    {
     "name": "stdout",
     "output_type": "stream",
     "text": [
      "saved  /home/disk/sipn/nicway/public_html/sipn/figures/model/all_model/sic/Regional_maps_NEW/Region_6_SIP_forecast_2019-11-24_03.png\n",
      "plotting hist obs SIP\n"
     ]
    },
    {
     "name": "stderr",
     "output_type": "stream",
     "text": [
      "/home/disk/sipn/nicway/anaconda3/envs/esio/lib/python3.6/site-packages/xarray/core/nanops.py:161: RuntimeWarning: Mean of empty slice\n",
      "  return np.nanmean(a, axis=axis, dtype=dtype)\n"
     ]
    },
    {
     "name": "stdout",
     "output_type": "stream",
     "text": [
      "saved  /home/disk/sipn/nicway/public_html/sipn/figures/model/all_model/sic/Regional_maps_NEW/Region_7_SIP_forecast_2019-11-24_03.png\n",
      "Processing forecast time:  28 days\n",
      "4\n",
      "models to plot  ['MME', 'climo10yrs', 'dampedAnomalyTrend', 'gfdlsipn', 'ukmetofficesipn', 'ecmwfsipn', 'meteofrsipn', 'usnavysipn', 'fgoalssipn', 'kma', 'ecmwf', 'metreofr', 'ukmo', 'ncep']\n",
      "3 5 16\n",
      "saved  /home/disk/sipn/nicway/public_html/sipn/figures/model/all_model/sic/Regional_maps_NEW/Region_0_anomaly_forecast_2019-11-24_04.png\n",
      "saved  /home/disk/sipn/nicway/public_html/sipn/figures/model/all_model/sic/Regional_maps_NEW/Region_1_anomaly_forecast_2019-11-24_04.png\n",
      "saved  /home/disk/sipn/nicway/public_html/sipn/figures/model/all_model/sic/Regional_maps_NEW/Region_2_anomaly_forecast_2019-11-24_04.png\n",
      "saved  /home/disk/sipn/nicway/public_html/sipn/figures/model/all_model/sic/Regional_maps_NEW/Region_3_anomaly_forecast_2019-11-24_04.png\n",
      "saved  /home/disk/sipn/nicway/public_html/sipn/figures/model/all_model/sic/Regional_maps_NEW/Region_4_anomaly_forecast_2019-11-24_04.png\n",
      "saved  /home/disk/sipn/nicway/public_html/sipn/figures/model/all_model/sic/Regional_maps_NEW/Region_5_anomaly_forecast_2019-11-24_04.png\n",
      "saved  /home/disk/sipn/nicway/public_html/sipn/figures/model/all_model/sic/Regional_maps_NEW/Region_6_anomaly_forecast_2019-11-24_04.png\n",
      "saved  /home/disk/sipn/nicway/public_html/sipn/figures/model/all_model/sic/Regional_maps_NEW/Region_7_anomaly_forecast_2019-11-24_04.png\n",
      "saved  /home/disk/sipn/nicway/public_html/sipn/figures/model/all_model/sic/Regional_maps_NEW/Region_0_mean_forecast_2019-11-24_04.png\n",
      "saved  /home/disk/sipn/nicway/public_html/sipn/figures/model/all_model/sic/Regional_maps_NEW/Region_1_mean_forecast_2019-11-24_04.png\n",
      "saved  /home/disk/sipn/nicway/public_html/sipn/figures/model/all_model/sic/Regional_maps_NEW/Region_2_mean_forecast_2019-11-24_04.png\n",
      "saved  /home/disk/sipn/nicway/public_html/sipn/figures/model/all_model/sic/Regional_maps_NEW/Region_3_mean_forecast_2019-11-24_04.png\n",
      "saved  /home/disk/sipn/nicway/public_html/sipn/figures/model/all_model/sic/Regional_maps_NEW/Region_4_mean_forecast_2019-11-24_04.png\n",
      "saved  /home/disk/sipn/nicway/public_html/sipn/figures/model/all_model/sic/Regional_maps_NEW/Region_5_mean_forecast_2019-11-24_04.png\n",
      "saved  /home/disk/sipn/nicway/public_html/sipn/figures/model/all_model/sic/Regional_maps_NEW/Region_6_mean_forecast_2019-11-24_04.png\n",
      "saved  /home/disk/sipn/nicway/public_html/sipn/figures/model/all_model/sic/Regional_maps_NEW/Region_7_mean_forecast_2019-11-24_04.png\n",
      "plotting hist obs SIP\n"
     ]
    },
    {
     "name": "stderr",
     "output_type": "stream",
     "text": [
      "/home/disk/sipn/nicway/anaconda3/envs/esio/lib/python3.6/site-packages/xarray/core/nanops.py:161: RuntimeWarning: Mean of empty slice\n",
      "  return np.nanmean(a, axis=axis, dtype=dtype)\n"
     ]
    },
    {
     "name": "stdout",
     "output_type": "stream",
     "text": [
      "saved  /home/disk/sipn/nicway/public_html/sipn/figures/model/all_model/sic/Regional_maps_NEW/Region_0_SIP_forecast_2019-11-24_04.png\n",
      "plotting hist obs SIP\n"
     ]
    },
    {
     "name": "stderr",
     "output_type": "stream",
     "text": [
      "/home/disk/sipn/nicway/anaconda3/envs/esio/lib/python3.6/site-packages/xarray/core/nanops.py:161: RuntimeWarning: Mean of empty slice\n",
      "  return np.nanmean(a, axis=axis, dtype=dtype)\n"
     ]
    },
    {
     "name": "stdout",
     "output_type": "stream",
     "text": [
      "saved  /home/disk/sipn/nicway/public_html/sipn/figures/model/all_model/sic/Regional_maps_NEW/Region_1_SIP_forecast_2019-11-24_04.png\n",
      "plotting hist obs SIP\n"
     ]
    },
    {
     "name": "stderr",
     "output_type": "stream",
     "text": [
      "/home/disk/sipn/nicway/anaconda3/envs/esio/lib/python3.6/site-packages/xarray/core/nanops.py:161: RuntimeWarning: Mean of empty slice\n",
      "  return np.nanmean(a, axis=axis, dtype=dtype)\n"
     ]
    },
    {
     "name": "stdout",
     "output_type": "stream",
     "text": [
      "saved  /home/disk/sipn/nicway/public_html/sipn/figures/model/all_model/sic/Regional_maps_NEW/Region_2_SIP_forecast_2019-11-24_04.png\n",
      "plotting hist obs SIP\n"
     ]
    },
    {
     "name": "stderr",
     "output_type": "stream",
     "text": [
      "/home/disk/sipn/nicway/anaconda3/envs/esio/lib/python3.6/site-packages/xarray/core/nanops.py:161: RuntimeWarning: Mean of empty slice\n",
      "  return np.nanmean(a, axis=axis, dtype=dtype)\n"
     ]
    },
    {
     "name": "stdout",
     "output_type": "stream",
     "text": [
      "saved  /home/disk/sipn/nicway/public_html/sipn/figures/model/all_model/sic/Regional_maps_NEW/Region_3_SIP_forecast_2019-11-24_04.png\n",
      "plotting hist obs SIP\n"
     ]
    },
    {
     "name": "stderr",
     "output_type": "stream",
     "text": [
      "/home/disk/sipn/nicway/anaconda3/envs/esio/lib/python3.6/site-packages/xarray/core/nanops.py:161: RuntimeWarning: Mean of empty slice\n",
      "  return np.nanmean(a, axis=axis, dtype=dtype)\n"
     ]
    },
    {
     "name": "stdout",
     "output_type": "stream",
     "text": [
      "saved  /home/disk/sipn/nicway/public_html/sipn/figures/model/all_model/sic/Regional_maps_NEW/Region_4_SIP_forecast_2019-11-24_04.png\n",
      "plotting hist obs SIP\n"
     ]
    },
    {
     "name": "stderr",
     "output_type": "stream",
     "text": [
      "/home/disk/sipn/nicway/anaconda3/envs/esio/lib/python3.6/site-packages/xarray/core/nanops.py:161: RuntimeWarning: Mean of empty slice\n",
      "  return np.nanmean(a, axis=axis, dtype=dtype)\n"
     ]
    },
    {
     "name": "stdout",
     "output_type": "stream",
     "text": [
      "saved  /home/disk/sipn/nicway/public_html/sipn/figures/model/all_model/sic/Regional_maps_NEW/Region_5_SIP_forecast_2019-11-24_04.png\n",
      "plotting hist obs SIP\n"
     ]
    },
    {
     "name": "stderr",
     "output_type": "stream",
     "text": [
      "/home/disk/sipn/nicway/anaconda3/envs/esio/lib/python3.6/site-packages/xarray/core/nanops.py:161: RuntimeWarning: Mean of empty slice\n",
      "  return np.nanmean(a, axis=axis, dtype=dtype)\n"
     ]
    },
    {
     "name": "stdout",
     "output_type": "stream",
     "text": [
      "saved  /home/disk/sipn/nicway/public_html/sipn/figures/model/all_model/sic/Regional_maps_NEW/Region_6_SIP_forecast_2019-11-24_04.png\n",
      "plotting hist obs SIP\n"
     ]
    },
    {
     "name": "stderr",
     "output_type": "stream",
     "text": [
      "/home/disk/sipn/nicway/anaconda3/envs/esio/lib/python3.6/site-packages/xarray/core/nanops.py:161: RuntimeWarning: Mean of empty slice\n",
      "  return np.nanmean(a, axis=axis, dtype=dtype)\n"
     ]
    },
    {
     "name": "stdout",
     "output_type": "stream",
     "text": [
      "saved  /home/disk/sipn/nicway/public_html/sipn/figures/model/all_model/sic/Regional_maps_NEW/Region_7_SIP_forecast_2019-11-24_04.png\n",
      "Processing forecast time:  63 days\n",
      "5\n",
      "models to plot  ['MME', 'climo10yrs', 'dampedAnomalyTrend', 'gfdlsipn', 'ukmetofficesipn', 'ecmwfsipn', 'meteofrsipn', 'usnavysipn', 'fgoalssipn']\n",
      "2 5 11\n",
      "saved  /home/disk/sipn/nicway/public_html/sipn/figures/model/all_model/sic/Regional_maps_NEW/Region_0_anomaly_forecast_2019-11-24_05.png\n",
      "saved  /home/disk/sipn/nicway/public_html/sipn/figures/model/all_model/sic/Regional_maps_NEW/Region_1_anomaly_forecast_2019-11-24_05.png\n",
      "saved  /home/disk/sipn/nicway/public_html/sipn/figures/model/all_model/sic/Regional_maps_NEW/Region_2_anomaly_forecast_2019-11-24_05.png\n",
      "saved  /home/disk/sipn/nicway/public_html/sipn/figures/model/all_model/sic/Regional_maps_NEW/Region_3_anomaly_forecast_2019-11-24_05.png\n",
      "saved  /home/disk/sipn/nicway/public_html/sipn/figures/model/all_model/sic/Regional_maps_NEW/Region_4_anomaly_forecast_2019-11-24_05.png\n",
      "saved  /home/disk/sipn/nicway/public_html/sipn/figures/model/all_model/sic/Regional_maps_NEW/Region_5_anomaly_forecast_2019-11-24_05.png\n",
      "saved  /home/disk/sipn/nicway/public_html/sipn/figures/model/all_model/sic/Regional_maps_NEW/Region_6_anomaly_forecast_2019-11-24_05.png\n",
      "saved  /home/disk/sipn/nicway/public_html/sipn/figures/model/all_model/sic/Regional_maps_NEW/Region_7_anomaly_forecast_2019-11-24_05.png\n",
      "saved  /home/disk/sipn/nicway/public_html/sipn/figures/model/all_model/sic/Regional_maps_NEW/Region_0_mean_forecast_2019-11-24_05.png\n",
      "saved  /home/disk/sipn/nicway/public_html/sipn/figures/model/all_model/sic/Regional_maps_NEW/Region_1_mean_forecast_2019-11-24_05.png\n",
      "saved  /home/disk/sipn/nicway/public_html/sipn/figures/model/all_model/sic/Regional_maps_NEW/Region_2_mean_forecast_2019-11-24_05.png\n",
      "saved  /home/disk/sipn/nicway/public_html/sipn/figures/model/all_model/sic/Regional_maps_NEW/Region_3_mean_forecast_2019-11-24_05.png\n",
      "saved  /home/disk/sipn/nicway/public_html/sipn/figures/model/all_model/sic/Regional_maps_NEW/Region_4_mean_forecast_2019-11-24_05.png\n",
      "saved  /home/disk/sipn/nicway/public_html/sipn/figures/model/all_model/sic/Regional_maps_NEW/Region_5_mean_forecast_2019-11-24_05.png\n",
      "saved  /home/disk/sipn/nicway/public_html/sipn/figures/model/all_model/sic/Regional_maps_NEW/Region_6_mean_forecast_2019-11-24_05.png\n",
      "saved  /home/disk/sipn/nicway/public_html/sipn/figures/model/all_model/sic/Regional_maps_NEW/Region_7_mean_forecast_2019-11-24_05.png\n",
      "plotting hist obs SIP\n"
     ]
    },
    {
     "name": "stderr",
     "output_type": "stream",
     "text": [
      "/home/disk/sipn/nicway/anaconda3/envs/esio/lib/python3.6/site-packages/xarray/core/nanops.py:161: RuntimeWarning: Mean of empty slice\n",
      "  return np.nanmean(a, axis=axis, dtype=dtype)\n"
     ]
    },
    {
     "name": "stdout",
     "output_type": "stream",
     "text": [
      "saved  /home/disk/sipn/nicway/public_html/sipn/figures/model/all_model/sic/Regional_maps_NEW/Region_0_SIP_forecast_2019-11-24_05.png\n",
      "plotting hist obs SIP\n"
     ]
    },
    {
     "name": "stderr",
     "output_type": "stream",
     "text": [
      "/home/disk/sipn/nicway/anaconda3/envs/esio/lib/python3.6/site-packages/xarray/core/nanops.py:161: RuntimeWarning: Mean of empty slice\n",
      "  return np.nanmean(a, axis=axis, dtype=dtype)\n"
     ]
    },
    {
     "name": "stdout",
     "output_type": "stream",
     "text": [
      "saved  /home/disk/sipn/nicway/public_html/sipn/figures/model/all_model/sic/Regional_maps_NEW/Region_1_SIP_forecast_2019-11-24_05.png\n",
      "plotting hist obs SIP\n"
     ]
    },
    {
     "name": "stderr",
     "output_type": "stream",
     "text": [
      "/home/disk/sipn/nicway/anaconda3/envs/esio/lib/python3.6/site-packages/xarray/core/nanops.py:161: RuntimeWarning: Mean of empty slice\n",
      "  return np.nanmean(a, axis=axis, dtype=dtype)\n"
     ]
    },
    {
     "name": "stdout",
     "output_type": "stream",
     "text": [
      "saved  /home/disk/sipn/nicway/public_html/sipn/figures/model/all_model/sic/Regional_maps_NEW/Region_2_SIP_forecast_2019-11-24_05.png\n",
      "plotting hist obs SIP\n"
     ]
    },
    {
     "name": "stderr",
     "output_type": "stream",
     "text": [
      "/home/disk/sipn/nicway/anaconda3/envs/esio/lib/python3.6/site-packages/xarray/core/nanops.py:161: RuntimeWarning: Mean of empty slice\n",
      "  return np.nanmean(a, axis=axis, dtype=dtype)\n"
     ]
    },
    {
     "name": "stdout",
     "output_type": "stream",
     "text": [
      "saved  /home/disk/sipn/nicway/public_html/sipn/figures/model/all_model/sic/Regional_maps_NEW/Region_3_SIP_forecast_2019-11-24_05.png\n",
      "plotting hist obs SIP\n"
     ]
    },
    {
     "name": "stderr",
     "output_type": "stream",
     "text": [
      "/home/disk/sipn/nicway/anaconda3/envs/esio/lib/python3.6/site-packages/xarray/core/nanops.py:161: RuntimeWarning: Mean of empty slice\n",
      "  return np.nanmean(a, axis=axis, dtype=dtype)\n"
     ]
    },
    {
     "name": "stdout",
     "output_type": "stream",
     "text": [
      "saved  /home/disk/sipn/nicway/public_html/sipn/figures/model/all_model/sic/Regional_maps_NEW/Region_4_SIP_forecast_2019-11-24_05.png\n",
      "plotting hist obs SIP\n"
     ]
    },
    {
     "name": "stderr",
     "output_type": "stream",
     "text": [
      "/home/disk/sipn/nicway/anaconda3/envs/esio/lib/python3.6/site-packages/xarray/core/nanops.py:161: RuntimeWarning: Mean of empty slice\n",
      "  return np.nanmean(a, axis=axis, dtype=dtype)\n"
     ]
    },
    {
     "name": "stdout",
     "output_type": "stream",
     "text": [
      "saved  /home/disk/sipn/nicway/public_html/sipn/figures/model/all_model/sic/Regional_maps_NEW/Region_5_SIP_forecast_2019-11-24_05.png\n",
      "plotting hist obs SIP\n"
     ]
    },
    {
     "name": "stderr",
     "output_type": "stream",
     "text": [
      "/home/disk/sipn/nicway/anaconda3/envs/esio/lib/python3.6/site-packages/xarray/core/nanops.py:161: RuntimeWarning: Mean of empty slice\n",
      "  return np.nanmean(a, axis=axis, dtype=dtype)\n"
     ]
    },
    {
     "name": "stdout",
     "output_type": "stream",
     "text": [
      "saved  /home/disk/sipn/nicway/public_html/sipn/figures/model/all_model/sic/Regional_maps_NEW/Region_6_SIP_forecast_2019-11-24_05.png\n",
      "plotting hist obs SIP\n"
     ]
    },
    {
     "name": "stderr",
     "output_type": "stream",
     "text": [
      "/home/disk/sipn/nicway/anaconda3/envs/esio/lib/python3.6/site-packages/xarray/core/nanops.py:161: RuntimeWarning: Mean of empty slice\n",
      "  return np.nanmean(a, axis=axis, dtype=dtype)\n"
     ]
    },
    {
     "name": "stdout",
     "output_type": "stream",
     "text": [
      "saved  /home/disk/sipn/nicway/public_html/sipn/figures/model/all_model/sic/Regional_maps_NEW/Region_7_SIP_forecast_2019-11-24_05.png\n",
      "Processing forecast time:  91 days\n",
      "6\n",
      "models to plot  ['MME', 'climo10yrs', 'dampedAnomalyTrend', 'gfdlsipn', 'ukmetofficesipn', 'ecmwfsipn', 'meteofrsipn', 'usnavysipn', 'fgoalssipn']\n",
      "2 5 11\n",
      "saved  /home/disk/sipn/nicway/public_html/sipn/figures/model/all_model/sic/Regional_maps_NEW/Region_0_anomaly_forecast_2019-11-24_06.png\n",
      "saved  /home/disk/sipn/nicway/public_html/sipn/figures/model/all_model/sic/Regional_maps_NEW/Region_1_anomaly_forecast_2019-11-24_06.png\n",
      "saved  /home/disk/sipn/nicway/public_html/sipn/figures/model/all_model/sic/Regional_maps_NEW/Region_2_anomaly_forecast_2019-11-24_06.png\n",
      "saved  /home/disk/sipn/nicway/public_html/sipn/figures/model/all_model/sic/Regional_maps_NEW/Region_3_anomaly_forecast_2019-11-24_06.png\n",
      "saved  /home/disk/sipn/nicway/public_html/sipn/figures/model/all_model/sic/Regional_maps_NEW/Region_4_anomaly_forecast_2019-11-24_06.png\n",
      "saved  /home/disk/sipn/nicway/public_html/sipn/figures/model/all_model/sic/Regional_maps_NEW/Region_5_anomaly_forecast_2019-11-24_06.png\n",
      "saved  /home/disk/sipn/nicway/public_html/sipn/figures/model/all_model/sic/Regional_maps_NEW/Region_6_anomaly_forecast_2019-11-24_06.png\n",
      "saved  /home/disk/sipn/nicway/public_html/sipn/figures/model/all_model/sic/Regional_maps_NEW/Region_7_anomaly_forecast_2019-11-24_06.png\n",
      "saved  /home/disk/sipn/nicway/public_html/sipn/figures/model/all_model/sic/Regional_maps_NEW/Region_0_mean_forecast_2019-11-24_06.png\n",
      "saved  /home/disk/sipn/nicway/public_html/sipn/figures/model/all_model/sic/Regional_maps_NEW/Region_1_mean_forecast_2019-11-24_06.png\n",
      "saved  /home/disk/sipn/nicway/public_html/sipn/figures/model/all_model/sic/Regional_maps_NEW/Region_2_mean_forecast_2019-11-24_06.png\n",
      "saved  /home/disk/sipn/nicway/public_html/sipn/figures/model/all_model/sic/Regional_maps_NEW/Region_3_mean_forecast_2019-11-24_06.png\n",
      "saved  /home/disk/sipn/nicway/public_html/sipn/figures/model/all_model/sic/Regional_maps_NEW/Region_4_mean_forecast_2019-11-24_06.png\n",
      "saved  /home/disk/sipn/nicway/public_html/sipn/figures/model/all_model/sic/Regional_maps_NEW/Region_5_mean_forecast_2019-11-24_06.png\n",
      "saved  /home/disk/sipn/nicway/public_html/sipn/figures/model/all_model/sic/Regional_maps_NEW/Region_6_mean_forecast_2019-11-24_06.png\n",
      "saved  /home/disk/sipn/nicway/public_html/sipn/figures/model/all_model/sic/Regional_maps_NEW/Region_7_mean_forecast_2019-11-24_06.png\n",
      "plotting hist obs SIP\n"
     ]
    },
    {
     "name": "stderr",
     "output_type": "stream",
     "text": [
      "/home/disk/sipn/nicway/anaconda3/envs/esio/lib/python3.6/site-packages/xarray/core/nanops.py:161: RuntimeWarning: Mean of empty slice\n",
      "  return np.nanmean(a, axis=axis, dtype=dtype)\n"
     ]
    },
    {
     "name": "stdout",
     "output_type": "stream",
     "text": [
      "saved  /home/disk/sipn/nicway/public_html/sipn/figures/model/all_model/sic/Regional_maps_NEW/Region_0_SIP_forecast_2019-11-24_06.png\n",
      "plotting hist obs SIP\n"
     ]
    },
    {
     "name": "stderr",
     "output_type": "stream",
     "text": [
      "/home/disk/sipn/nicway/anaconda3/envs/esio/lib/python3.6/site-packages/xarray/core/nanops.py:161: RuntimeWarning: Mean of empty slice\n",
      "  return np.nanmean(a, axis=axis, dtype=dtype)\n"
     ]
    },
    {
     "name": "stdout",
     "output_type": "stream",
     "text": [
      "saved  /home/disk/sipn/nicway/public_html/sipn/figures/model/all_model/sic/Regional_maps_NEW/Region_1_SIP_forecast_2019-11-24_06.png\n",
      "plotting hist obs SIP\n"
     ]
    },
    {
     "name": "stderr",
     "output_type": "stream",
     "text": [
      "/home/disk/sipn/nicway/anaconda3/envs/esio/lib/python3.6/site-packages/xarray/core/nanops.py:161: RuntimeWarning: Mean of empty slice\n",
      "  return np.nanmean(a, axis=axis, dtype=dtype)\n"
     ]
    },
    {
     "name": "stdout",
     "output_type": "stream",
     "text": [
      "saved  /home/disk/sipn/nicway/public_html/sipn/figures/model/all_model/sic/Regional_maps_NEW/Region_2_SIP_forecast_2019-11-24_06.png\n",
      "plotting hist obs SIP\n"
     ]
    },
    {
     "name": "stderr",
     "output_type": "stream",
     "text": [
      "/home/disk/sipn/nicway/anaconda3/envs/esio/lib/python3.6/site-packages/xarray/core/nanops.py:161: RuntimeWarning: Mean of empty slice\n",
      "  return np.nanmean(a, axis=axis, dtype=dtype)\n"
     ]
    },
    {
     "name": "stdout",
     "output_type": "stream",
     "text": [
      "saved  /home/disk/sipn/nicway/public_html/sipn/figures/model/all_model/sic/Regional_maps_NEW/Region_3_SIP_forecast_2019-11-24_06.png\n",
      "plotting hist obs SIP\n"
     ]
    },
    {
     "name": "stderr",
     "output_type": "stream",
     "text": [
      "/home/disk/sipn/nicway/anaconda3/envs/esio/lib/python3.6/site-packages/xarray/core/nanops.py:161: RuntimeWarning: Mean of empty slice\n",
      "  return np.nanmean(a, axis=axis, dtype=dtype)\n"
     ]
    },
    {
     "name": "stdout",
     "output_type": "stream",
     "text": [
      "saved  /home/disk/sipn/nicway/public_html/sipn/figures/model/all_model/sic/Regional_maps_NEW/Region_4_SIP_forecast_2019-11-24_06.png\n",
      "plotting hist obs SIP\n"
     ]
    },
    {
     "name": "stderr",
     "output_type": "stream",
     "text": [
      "/home/disk/sipn/nicway/anaconda3/envs/esio/lib/python3.6/site-packages/xarray/core/nanops.py:161: RuntimeWarning: Mean of empty slice\n",
      "  return np.nanmean(a, axis=axis, dtype=dtype)\n"
     ]
    },
    {
     "name": "stdout",
     "output_type": "stream",
     "text": [
      "saved  /home/disk/sipn/nicway/public_html/sipn/figures/model/all_model/sic/Regional_maps_NEW/Region_5_SIP_forecast_2019-11-24_06.png\n",
      "plotting hist obs SIP\n"
     ]
    },
    {
     "name": "stderr",
     "output_type": "stream",
     "text": [
      "/home/disk/sipn/nicway/anaconda3/envs/esio/lib/python3.6/site-packages/xarray/core/nanops.py:161: RuntimeWarning: Mean of empty slice\n",
      "  return np.nanmean(a, axis=axis, dtype=dtype)\n"
     ]
    },
    {
     "name": "stdout",
     "output_type": "stream",
     "text": [
      "saved  /home/disk/sipn/nicway/public_html/sipn/figures/model/all_model/sic/Regional_maps_NEW/Region_6_SIP_forecast_2019-11-24_06.png\n",
      "plotting hist obs SIP\n"
     ]
    },
    {
     "name": "stderr",
     "output_type": "stream",
     "text": [
      "/home/disk/sipn/nicway/anaconda3/envs/esio/lib/python3.6/site-packages/xarray/core/nanops.py:161: RuntimeWarning: Mean of empty slice\n",
      "  return np.nanmean(a, axis=axis, dtype=dtype)\n"
     ]
    },
    {
     "name": "stdout",
     "output_type": "stream",
     "text": [
      "saved  /home/disk/sipn/nicway/public_html/sipn/figures/model/all_model/sic/Regional_maps_NEW/Region_7_SIP_forecast_2019-11-24_06.png\n",
      "Processing forecast time:  119 days\n",
      "7\n",
      "models to plot  ['MME', 'climo10yrs', 'dampedAnomalyTrend', 'gfdlsipn', 'ukmetofficesipn', 'ecmwfsipn', 'meteofrsipn', 'usnavysipn']\n",
      "2 5 10\n",
      "saved  /home/disk/sipn/nicway/public_html/sipn/figures/model/all_model/sic/Regional_maps_NEW/Region_0_anomaly_forecast_2019-11-24_07.png\n",
      "saved  /home/disk/sipn/nicway/public_html/sipn/figures/model/all_model/sic/Regional_maps_NEW/Region_1_anomaly_forecast_2019-11-24_07.png\n",
      "saved  /home/disk/sipn/nicway/public_html/sipn/figures/model/all_model/sic/Regional_maps_NEW/Region_2_anomaly_forecast_2019-11-24_07.png\n",
      "saved  /home/disk/sipn/nicway/public_html/sipn/figures/model/all_model/sic/Regional_maps_NEW/Region_3_anomaly_forecast_2019-11-24_07.png\n",
      "saved  /home/disk/sipn/nicway/public_html/sipn/figures/model/all_model/sic/Regional_maps_NEW/Region_4_anomaly_forecast_2019-11-24_07.png\n",
      "saved  /home/disk/sipn/nicway/public_html/sipn/figures/model/all_model/sic/Regional_maps_NEW/Region_5_anomaly_forecast_2019-11-24_07.png\n",
      "saved  /home/disk/sipn/nicway/public_html/sipn/figures/model/all_model/sic/Regional_maps_NEW/Region_6_anomaly_forecast_2019-11-24_07.png\n",
      "saved  /home/disk/sipn/nicway/public_html/sipn/figures/model/all_model/sic/Regional_maps_NEW/Region_7_anomaly_forecast_2019-11-24_07.png\n",
      "saved  /home/disk/sipn/nicway/public_html/sipn/figures/model/all_model/sic/Regional_maps_NEW/Region_0_mean_forecast_2019-11-24_07.png\n",
      "saved  /home/disk/sipn/nicway/public_html/sipn/figures/model/all_model/sic/Regional_maps_NEW/Region_1_mean_forecast_2019-11-24_07.png\n",
      "saved  /home/disk/sipn/nicway/public_html/sipn/figures/model/all_model/sic/Regional_maps_NEW/Region_2_mean_forecast_2019-11-24_07.png\n",
      "saved  /home/disk/sipn/nicway/public_html/sipn/figures/model/all_model/sic/Regional_maps_NEW/Region_3_mean_forecast_2019-11-24_07.png\n",
      "saved  /home/disk/sipn/nicway/public_html/sipn/figures/model/all_model/sic/Regional_maps_NEW/Region_4_mean_forecast_2019-11-24_07.png\n",
      "saved  /home/disk/sipn/nicway/public_html/sipn/figures/model/all_model/sic/Regional_maps_NEW/Region_5_mean_forecast_2019-11-24_07.png\n",
      "saved  /home/disk/sipn/nicway/public_html/sipn/figures/model/all_model/sic/Regional_maps_NEW/Region_6_mean_forecast_2019-11-24_07.png\n",
      "saved  /home/disk/sipn/nicway/public_html/sipn/figures/model/all_model/sic/Regional_maps_NEW/Region_7_mean_forecast_2019-11-24_07.png\n",
      "plotting hist obs SIP\n"
     ]
    },
    {
     "name": "stderr",
     "output_type": "stream",
     "text": [
      "/home/disk/sipn/nicway/anaconda3/envs/esio/lib/python3.6/site-packages/xarray/core/nanops.py:161: RuntimeWarning: Mean of empty slice\n",
      "  return np.nanmean(a, axis=axis, dtype=dtype)\n"
     ]
    },
    {
     "name": "stdout",
     "output_type": "stream",
     "text": [
      "saved  /home/disk/sipn/nicway/public_html/sipn/figures/model/all_model/sic/Regional_maps_NEW/Region_0_SIP_forecast_2019-11-24_07.png\n",
      "plotting hist obs SIP\n"
     ]
    },
    {
     "name": "stderr",
     "output_type": "stream",
     "text": [
      "/home/disk/sipn/nicway/anaconda3/envs/esio/lib/python3.6/site-packages/xarray/core/nanops.py:161: RuntimeWarning: Mean of empty slice\n",
      "  return np.nanmean(a, axis=axis, dtype=dtype)\n"
     ]
    },
    {
     "name": "stdout",
     "output_type": "stream",
     "text": [
      "saved  /home/disk/sipn/nicway/public_html/sipn/figures/model/all_model/sic/Regional_maps_NEW/Region_1_SIP_forecast_2019-11-24_07.png\n",
      "plotting hist obs SIP\n"
     ]
    },
    {
     "name": "stderr",
     "output_type": "stream",
     "text": [
      "/home/disk/sipn/nicway/anaconda3/envs/esio/lib/python3.6/site-packages/xarray/core/nanops.py:161: RuntimeWarning: Mean of empty slice\n",
      "  return np.nanmean(a, axis=axis, dtype=dtype)\n"
     ]
    },
    {
     "name": "stdout",
     "output_type": "stream",
     "text": [
      "saved  /home/disk/sipn/nicway/public_html/sipn/figures/model/all_model/sic/Regional_maps_NEW/Region_2_SIP_forecast_2019-11-24_07.png\n",
      "plotting hist obs SIP\n"
     ]
    },
    {
     "name": "stderr",
     "output_type": "stream",
     "text": [
      "/home/disk/sipn/nicway/anaconda3/envs/esio/lib/python3.6/site-packages/xarray/core/nanops.py:161: RuntimeWarning: Mean of empty slice\n",
      "  return np.nanmean(a, axis=axis, dtype=dtype)\n"
     ]
    },
    {
     "name": "stdout",
     "output_type": "stream",
     "text": [
      "saved  /home/disk/sipn/nicway/public_html/sipn/figures/model/all_model/sic/Regional_maps_NEW/Region_3_SIP_forecast_2019-11-24_07.png\n",
      "plotting hist obs SIP\n"
     ]
    },
    {
     "name": "stderr",
     "output_type": "stream",
     "text": [
      "/home/disk/sipn/nicway/anaconda3/envs/esio/lib/python3.6/site-packages/xarray/core/nanops.py:161: RuntimeWarning: Mean of empty slice\n",
      "  return np.nanmean(a, axis=axis, dtype=dtype)\n"
     ]
    },
    {
     "name": "stdout",
     "output_type": "stream",
     "text": [
      "saved  /home/disk/sipn/nicway/public_html/sipn/figures/model/all_model/sic/Regional_maps_NEW/Region_4_SIP_forecast_2019-11-24_07.png\n",
      "plotting hist obs SIP\n"
     ]
    },
    {
     "name": "stderr",
     "output_type": "stream",
     "text": [
      "/home/disk/sipn/nicway/anaconda3/envs/esio/lib/python3.6/site-packages/xarray/core/nanops.py:161: RuntimeWarning: Mean of empty slice\n",
      "  return np.nanmean(a, axis=axis, dtype=dtype)\n"
     ]
    },
    {
     "name": "stdout",
     "output_type": "stream",
     "text": [
      "saved  /home/disk/sipn/nicway/public_html/sipn/figures/model/all_model/sic/Regional_maps_NEW/Region_5_SIP_forecast_2019-11-24_07.png\n",
      "plotting hist obs SIP\n"
     ]
    },
    {
     "name": "stderr",
     "output_type": "stream",
     "text": [
      "/home/disk/sipn/nicway/anaconda3/envs/esio/lib/python3.6/site-packages/xarray/core/nanops.py:161: RuntimeWarning: Mean of empty slice\n",
      "  return np.nanmean(a, axis=axis, dtype=dtype)\n"
     ]
    },
    {
     "name": "stdout",
     "output_type": "stream",
     "text": [
      "saved  /home/disk/sipn/nicway/public_html/sipn/figures/model/all_model/sic/Regional_maps_NEW/Region_6_SIP_forecast_2019-11-24_07.png\n",
      "plotting hist obs SIP\n"
     ]
    },
    {
     "name": "stderr",
     "output_type": "stream",
     "text": [
      "/home/disk/sipn/nicway/anaconda3/envs/esio/lib/python3.6/site-packages/xarray/core/nanops.py:161: RuntimeWarning: Mean of empty slice\n",
      "  return np.nanmean(a, axis=axis, dtype=dtype)\n"
     ]
    },
    {
     "name": "stdout",
     "output_type": "stream",
     "text": [
      "saved  /home/disk/sipn/nicway/public_html/sipn/figures/model/all_model/sic/Regional_maps_NEW/Region_7_SIP_forecast_2019-11-24_07.png\n",
      "Processing forecast time:  154 days\n",
      "8\n",
      "models to plot  ['MME', 'climo10yrs', 'dampedAnomalyTrend', 'gfdlsipn', 'ukmetofficesipn', 'ecmwfsipn', 'meteofrsipn', 'usnavysipn']\n",
      "2 5 10\n",
      "saved  /home/disk/sipn/nicway/public_html/sipn/figures/model/all_model/sic/Regional_maps_NEW/Region_0_anomaly_forecast_2019-11-24_08.png\n",
      "saved  /home/disk/sipn/nicway/public_html/sipn/figures/model/all_model/sic/Regional_maps_NEW/Region_1_anomaly_forecast_2019-11-24_08.png\n",
      "saved  /home/disk/sipn/nicway/public_html/sipn/figures/model/all_model/sic/Regional_maps_NEW/Region_2_anomaly_forecast_2019-11-24_08.png\n",
      "saved  /home/disk/sipn/nicway/public_html/sipn/figures/model/all_model/sic/Regional_maps_NEW/Region_3_anomaly_forecast_2019-11-24_08.png\n",
      "saved  /home/disk/sipn/nicway/public_html/sipn/figures/model/all_model/sic/Regional_maps_NEW/Region_4_anomaly_forecast_2019-11-24_08.png\n",
      "saved  /home/disk/sipn/nicway/public_html/sipn/figures/model/all_model/sic/Regional_maps_NEW/Region_5_anomaly_forecast_2019-11-24_08.png\n",
      "saved  /home/disk/sipn/nicway/public_html/sipn/figures/model/all_model/sic/Regional_maps_NEW/Region_6_anomaly_forecast_2019-11-24_08.png\n",
      "saved  /home/disk/sipn/nicway/public_html/sipn/figures/model/all_model/sic/Regional_maps_NEW/Region_7_anomaly_forecast_2019-11-24_08.png\n",
      "saved  /home/disk/sipn/nicway/public_html/sipn/figures/model/all_model/sic/Regional_maps_NEW/Region_0_mean_forecast_2019-11-24_08.png\n",
      "saved  /home/disk/sipn/nicway/public_html/sipn/figures/model/all_model/sic/Regional_maps_NEW/Region_1_mean_forecast_2019-11-24_08.png\n",
      "saved  /home/disk/sipn/nicway/public_html/sipn/figures/model/all_model/sic/Regional_maps_NEW/Region_2_mean_forecast_2019-11-24_08.png\n",
      "saved  /home/disk/sipn/nicway/public_html/sipn/figures/model/all_model/sic/Regional_maps_NEW/Region_3_mean_forecast_2019-11-24_08.png\n",
      "saved  /home/disk/sipn/nicway/public_html/sipn/figures/model/all_model/sic/Regional_maps_NEW/Region_4_mean_forecast_2019-11-24_08.png\n",
      "saved  /home/disk/sipn/nicway/public_html/sipn/figures/model/all_model/sic/Regional_maps_NEW/Region_5_mean_forecast_2019-11-24_08.png\n",
      "saved  /home/disk/sipn/nicway/public_html/sipn/figures/model/all_model/sic/Regional_maps_NEW/Region_6_mean_forecast_2019-11-24_08.png\n",
      "saved  /home/disk/sipn/nicway/public_html/sipn/figures/model/all_model/sic/Regional_maps_NEW/Region_7_mean_forecast_2019-11-24_08.png\n",
      "plotting hist obs SIP\n"
     ]
    },
    {
     "name": "stderr",
     "output_type": "stream",
     "text": [
      "/home/disk/sipn/nicway/anaconda3/envs/esio/lib/python3.6/site-packages/xarray/core/nanops.py:161: RuntimeWarning: Mean of empty slice\n",
      "  return np.nanmean(a, axis=axis, dtype=dtype)\n"
     ]
    },
    {
     "name": "stdout",
     "output_type": "stream",
     "text": [
      "saved  /home/disk/sipn/nicway/public_html/sipn/figures/model/all_model/sic/Regional_maps_NEW/Region_0_SIP_forecast_2019-11-24_08.png\n",
      "plotting hist obs SIP\n"
     ]
    },
    {
     "name": "stderr",
     "output_type": "stream",
     "text": [
      "/home/disk/sipn/nicway/anaconda3/envs/esio/lib/python3.6/site-packages/xarray/core/nanops.py:161: RuntimeWarning: Mean of empty slice\n",
      "  return np.nanmean(a, axis=axis, dtype=dtype)\n"
     ]
    },
    {
     "name": "stdout",
     "output_type": "stream",
     "text": [
      "saved  /home/disk/sipn/nicway/public_html/sipn/figures/model/all_model/sic/Regional_maps_NEW/Region_1_SIP_forecast_2019-11-24_08.png\n",
      "plotting hist obs SIP\n"
     ]
    },
    {
     "name": "stderr",
     "output_type": "stream",
     "text": [
      "/home/disk/sipn/nicway/anaconda3/envs/esio/lib/python3.6/site-packages/xarray/core/nanops.py:161: RuntimeWarning: Mean of empty slice\n",
      "  return np.nanmean(a, axis=axis, dtype=dtype)\n"
     ]
    },
    {
     "name": "stdout",
     "output_type": "stream",
     "text": [
      "saved  /home/disk/sipn/nicway/public_html/sipn/figures/model/all_model/sic/Regional_maps_NEW/Region_2_SIP_forecast_2019-11-24_08.png\n",
      "plotting hist obs SIP\n"
     ]
    },
    {
     "name": "stderr",
     "output_type": "stream",
     "text": [
      "/home/disk/sipn/nicway/anaconda3/envs/esio/lib/python3.6/site-packages/xarray/core/nanops.py:161: RuntimeWarning: Mean of empty slice\n",
      "  return np.nanmean(a, axis=axis, dtype=dtype)\n"
     ]
    },
    {
     "name": "stdout",
     "output_type": "stream",
     "text": [
      "saved  /home/disk/sipn/nicway/public_html/sipn/figures/model/all_model/sic/Regional_maps_NEW/Region_3_SIP_forecast_2019-11-24_08.png\n",
      "plotting hist obs SIP\n"
     ]
    },
    {
     "name": "stderr",
     "output_type": "stream",
     "text": [
      "/home/disk/sipn/nicway/anaconda3/envs/esio/lib/python3.6/site-packages/xarray/core/nanops.py:161: RuntimeWarning: Mean of empty slice\n",
      "  return np.nanmean(a, axis=axis, dtype=dtype)\n"
     ]
    },
    {
     "name": "stdout",
     "output_type": "stream",
     "text": [
      "saved  /home/disk/sipn/nicway/public_html/sipn/figures/model/all_model/sic/Regional_maps_NEW/Region_4_SIP_forecast_2019-11-24_08.png\n",
      "plotting hist obs SIP\n"
     ]
    },
    {
     "name": "stderr",
     "output_type": "stream",
     "text": [
      "/home/disk/sipn/nicway/anaconda3/envs/esio/lib/python3.6/site-packages/xarray/core/nanops.py:161: RuntimeWarning: Mean of empty slice\n",
      "  return np.nanmean(a, axis=axis, dtype=dtype)\n"
     ]
    },
    {
     "name": "stdout",
     "output_type": "stream",
     "text": [
      "saved  /home/disk/sipn/nicway/public_html/sipn/figures/model/all_model/sic/Regional_maps_NEW/Region_5_SIP_forecast_2019-11-24_08.png\n",
      "plotting hist obs SIP\n"
     ]
    },
    {
     "name": "stderr",
     "output_type": "stream",
     "text": [
      "/home/disk/sipn/nicway/anaconda3/envs/esio/lib/python3.6/site-packages/xarray/core/nanops.py:161: RuntimeWarning: Mean of empty slice\n",
      "  return np.nanmean(a, axis=axis, dtype=dtype)\n"
     ]
    },
    {
     "name": "stdout",
     "output_type": "stream",
     "text": [
      "saved  /home/disk/sipn/nicway/public_html/sipn/figures/model/all_model/sic/Regional_maps_NEW/Region_6_SIP_forecast_2019-11-24_08.png\n",
      "plotting hist obs SIP\n"
     ]
    },
    {
     "name": "stderr",
     "output_type": "stream",
     "text": [
      "/home/disk/sipn/nicway/anaconda3/envs/esio/lib/python3.6/site-packages/xarray/core/nanops.py:161: RuntimeWarning: Mean of empty slice\n",
      "  return np.nanmean(a, axis=axis, dtype=dtype)\n"
     ]
    },
    {
     "name": "stdout",
     "output_type": "stream",
     "text": [
      "saved  /home/disk/sipn/nicway/public_html/sipn/figures/model/all_model/sic/Regional_maps_NEW/Region_7_SIP_forecast_2019-11-24_08.png\n",
      "Processing forecast time:  182 days\n",
      "9\n",
      "models to plot  ['MME', 'climo10yrs', 'dampedAnomalyTrend', 'gfdlsipn', 'ukmetofficesipn', 'ecmwfsipn', 'meteofrsipn', 'usnavysipn']\n",
      "2 5 10\n",
      "saved  /home/disk/sipn/nicway/public_html/sipn/figures/model/all_model/sic/Regional_maps_NEW/Region_0_anomaly_forecast_2019-11-24_09.png\n",
      "saved  /home/disk/sipn/nicway/public_html/sipn/figures/model/all_model/sic/Regional_maps_NEW/Region_1_anomaly_forecast_2019-11-24_09.png\n",
      "saved  /home/disk/sipn/nicway/public_html/sipn/figures/model/all_model/sic/Regional_maps_NEW/Region_2_anomaly_forecast_2019-11-24_09.png\n",
      "saved  /home/disk/sipn/nicway/public_html/sipn/figures/model/all_model/sic/Regional_maps_NEW/Region_3_anomaly_forecast_2019-11-24_09.png\n",
      "saved  /home/disk/sipn/nicway/public_html/sipn/figures/model/all_model/sic/Regional_maps_NEW/Region_4_anomaly_forecast_2019-11-24_09.png\n",
      "saved  /home/disk/sipn/nicway/public_html/sipn/figures/model/all_model/sic/Regional_maps_NEW/Region_5_anomaly_forecast_2019-11-24_09.png\n",
      "saved  /home/disk/sipn/nicway/public_html/sipn/figures/model/all_model/sic/Regional_maps_NEW/Region_6_anomaly_forecast_2019-11-24_09.png\n",
      "saved  /home/disk/sipn/nicway/public_html/sipn/figures/model/all_model/sic/Regional_maps_NEW/Region_7_anomaly_forecast_2019-11-24_09.png\n",
      "saved  /home/disk/sipn/nicway/public_html/sipn/figures/model/all_model/sic/Regional_maps_NEW/Region_0_mean_forecast_2019-11-24_09.png\n",
      "saved  /home/disk/sipn/nicway/public_html/sipn/figures/model/all_model/sic/Regional_maps_NEW/Region_1_mean_forecast_2019-11-24_09.png\n",
      "saved  /home/disk/sipn/nicway/public_html/sipn/figures/model/all_model/sic/Regional_maps_NEW/Region_2_mean_forecast_2019-11-24_09.png\n",
      "saved  /home/disk/sipn/nicway/public_html/sipn/figures/model/all_model/sic/Regional_maps_NEW/Region_3_mean_forecast_2019-11-24_09.png\n",
      "saved  /home/disk/sipn/nicway/public_html/sipn/figures/model/all_model/sic/Regional_maps_NEW/Region_4_mean_forecast_2019-11-24_09.png\n",
      "saved  /home/disk/sipn/nicway/public_html/sipn/figures/model/all_model/sic/Regional_maps_NEW/Region_5_mean_forecast_2019-11-24_09.png\n",
      "saved  /home/disk/sipn/nicway/public_html/sipn/figures/model/all_model/sic/Regional_maps_NEW/Region_6_mean_forecast_2019-11-24_09.png\n",
      "saved  /home/disk/sipn/nicway/public_html/sipn/figures/model/all_model/sic/Regional_maps_NEW/Region_7_mean_forecast_2019-11-24_09.png\n",
      "plotting hist obs SIP\n"
     ]
    },
    {
     "name": "stderr",
     "output_type": "stream",
     "text": [
      "/home/disk/sipn/nicway/anaconda3/envs/esio/lib/python3.6/site-packages/xarray/core/nanops.py:161: RuntimeWarning: Mean of empty slice\n",
      "  return np.nanmean(a, axis=axis, dtype=dtype)\n"
     ]
    },
    {
     "name": "stdout",
     "output_type": "stream",
     "text": [
      "saved  /home/disk/sipn/nicway/public_html/sipn/figures/model/all_model/sic/Regional_maps_NEW/Region_0_SIP_forecast_2019-11-24_09.png\n",
      "plotting hist obs SIP\n"
     ]
    },
    {
     "name": "stderr",
     "output_type": "stream",
     "text": [
      "/home/disk/sipn/nicway/anaconda3/envs/esio/lib/python3.6/site-packages/xarray/core/nanops.py:161: RuntimeWarning: Mean of empty slice\n",
      "  return np.nanmean(a, axis=axis, dtype=dtype)\n"
     ]
    },
    {
     "name": "stdout",
     "output_type": "stream",
     "text": [
      "saved  /home/disk/sipn/nicway/public_html/sipn/figures/model/all_model/sic/Regional_maps_NEW/Region_1_SIP_forecast_2019-11-24_09.png\n",
      "plotting hist obs SIP\n"
     ]
    },
    {
     "name": "stderr",
     "output_type": "stream",
     "text": [
      "/home/disk/sipn/nicway/anaconda3/envs/esio/lib/python3.6/site-packages/xarray/core/nanops.py:161: RuntimeWarning: Mean of empty slice\n",
      "  return np.nanmean(a, axis=axis, dtype=dtype)\n"
     ]
    },
    {
     "name": "stdout",
     "output_type": "stream",
     "text": [
      "saved  /home/disk/sipn/nicway/public_html/sipn/figures/model/all_model/sic/Regional_maps_NEW/Region_2_SIP_forecast_2019-11-24_09.png\n",
      "plotting hist obs SIP\n"
     ]
    },
    {
     "name": "stderr",
     "output_type": "stream",
     "text": [
      "/home/disk/sipn/nicway/anaconda3/envs/esio/lib/python3.6/site-packages/xarray/core/nanops.py:161: RuntimeWarning: Mean of empty slice\n",
      "  return np.nanmean(a, axis=axis, dtype=dtype)\n"
     ]
    },
    {
     "name": "stdout",
     "output_type": "stream",
     "text": [
      "saved  /home/disk/sipn/nicway/public_html/sipn/figures/model/all_model/sic/Regional_maps_NEW/Region_3_SIP_forecast_2019-11-24_09.png\n",
      "plotting hist obs SIP\n"
     ]
    },
    {
     "name": "stderr",
     "output_type": "stream",
     "text": [
      "/home/disk/sipn/nicway/anaconda3/envs/esio/lib/python3.6/site-packages/xarray/core/nanops.py:161: RuntimeWarning: Mean of empty slice\n",
      "  return np.nanmean(a, axis=axis, dtype=dtype)\n"
     ]
    },
    {
     "name": "stdout",
     "output_type": "stream",
     "text": [
      "saved  /home/disk/sipn/nicway/public_html/sipn/figures/model/all_model/sic/Regional_maps_NEW/Region_4_SIP_forecast_2019-11-24_09.png\n",
      "plotting hist obs SIP\n"
     ]
    },
    {
     "name": "stderr",
     "output_type": "stream",
     "text": [
      "/home/disk/sipn/nicway/anaconda3/envs/esio/lib/python3.6/site-packages/xarray/core/nanops.py:161: RuntimeWarning: Mean of empty slice\n",
      "  return np.nanmean(a, axis=axis, dtype=dtype)\n"
     ]
    },
    {
     "name": "stdout",
     "output_type": "stream",
     "text": [
      "saved  /home/disk/sipn/nicway/public_html/sipn/figures/model/all_model/sic/Regional_maps_NEW/Region_5_SIP_forecast_2019-11-24_09.png\n",
      "plotting hist obs SIP\n"
     ]
    },
    {
     "name": "stderr",
     "output_type": "stream",
     "text": [
      "/home/disk/sipn/nicway/anaconda3/envs/esio/lib/python3.6/site-packages/xarray/core/nanops.py:161: RuntimeWarning: Mean of empty slice\n",
      "  return np.nanmean(a, axis=axis, dtype=dtype)\n"
     ]
    },
    {
     "name": "stdout",
     "output_type": "stream",
     "text": [
      "saved  /home/disk/sipn/nicway/public_html/sipn/figures/model/all_model/sic/Regional_maps_NEW/Region_6_SIP_forecast_2019-11-24_09.png\n",
      "plotting hist obs SIP\n"
     ]
    },
    {
     "name": "stderr",
     "output_type": "stream",
     "text": [
      "/home/disk/sipn/nicway/anaconda3/envs/esio/lib/python3.6/site-packages/xarray/core/nanops.py:161: RuntimeWarning: Mean of empty slice\n",
      "  return np.nanmean(a, axis=axis, dtype=dtype)\n"
     ]
    },
    {
     "name": "stdout",
     "output_type": "stream",
     "text": [
      "saved  /home/disk/sipn/nicway/public_html/sipn/figures/model/all_model/sic/Regional_maps_NEW/Region_7_SIP_forecast_2019-11-24_09.png\n",
      "Took  7.373325513388651  minutes.\n",
      "Finished plotting panArctic Maps.\n"
     ]
    }
   ],
   "source": [
    "if __name__ == '__main__':\n",
    "    # Start up Client\n",
    "    client = Client(n_workers=8)\n",
    "#     dask.config.set(scheduler='threads')  # overwrite default with threaded scheduler\n",
    "    \n",
    "    #############################################################\n",
    "    # Load in Data\n",
    "    #############################################################\n",
    "\n",
    "    for cvar in variables:\n",
    "\n",
    "        # Load in dask data from Zarr\n",
    "        ds_ALL = xr.open_zarr(os.path.join(E.data_dir,'model/zarr',cvar+'.zarr'))\n",
    "\n",
    "        # Define fig dir and make if doesn't exist\n",
    "        fig_dir = os.path.join(E.fig_dir, 'model', 'all_model', cvar, \"Regional_maps_NEW\")\n",
    "        if not os.path.exists(fig_dir):\n",
    "            os.makedirs(fig_dir)\n",
    "\n",
    "        # Call function\n",
    "        Update_Regional_Maps()\n"
   ]
  },
  {
   "cell_type": "code",
   "execution_count": null,
   "metadata": {},
   "outputs": [],
   "source": []
  },
  {
   "cell_type": "code",
   "execution_count": null,
   "metadata": {},
   "outputs": [],
   "source": []
  },
  {
   "cell_type": "code",
   "execution_count": null,
   "metadata": {},
   "outputs": [],
   "source": []
  },
  {
   "cell_type": "code",
   "execution_count": null,
   "metadata": {},
   "outputs": [],
   "source": []
  }
 ],
 "metadata": {
  "kernelspec": {
   "display_name": "Python 3",
   "language": "python",
   "name": "python3"
  },
  "language_info": {
   "codemirror_mode": {
    "name": "ipython",
    "version": 3
   },
   "file_extension": ".py",
   "mimetype": "text/x-python",
   "name": "python",
   "nbconvert_exporter": "python",
   "pygments_lexer": "ipython3",
   "version": "3.6.4"
  }
 },
 "nbformat": 4,
 "nbformat_minor": 2
}
