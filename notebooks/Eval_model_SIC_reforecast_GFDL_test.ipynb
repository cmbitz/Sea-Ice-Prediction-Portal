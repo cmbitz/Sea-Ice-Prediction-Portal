{
 "cells": [
  {
   "cell_type": "code",
   "execution_count": 6,
   "metadata": {},
   "outputs": [],
   "source": [
    "'''\n",
    "\n",
    "This code is part of the SIPN2 project focused on improving sub-seasonal to seasonal predictions of Arctic Sea Ice. \n",
    "If you use this code for a publication or presentation, please cite the reference in the README.md on the\n",
    "main page (https://github.com/NicWayand/ESIO). \n",
    "\n",
    "Questions or comments should be addressed to nicway@uw.edu\n",
    "\n",
    "Copyright (c) 2018 Nic Wayand\n",
    "\n",
    "GNU General Public License v3.0\n",
    "\n",
    "\n",
    "'''\n",
    "\n",
    "%matplotlib inline\n",
    "%load_ext autoreload\n",
    "%autoreload\n",
    "import matplotlib.pyplot as plt\n",
    "import matplotlib\n",
    "import numpy as np\n",
    "import numpy.ma as ma\n",
    "import struct\n",
    "import os\n",
    "import xarray as xr\n",
    "import glob\n",
    "import datetime \n",
    "import cartopy.crs as ccrs\n",
    "from cartopy.mpl.gridliner import LONGITUDE_FORMATTER, LATITUDE_FORMATTER\n",
    "import seaborn as sns\n",
    "\n",
    "# ESIO Imports\n",
    "\n",
    "from esio import EsioData as ed"
   ]
  },
  {
   "cell_type": "code",
   "execution_count": 7,
   "metadata": {},
   "outputs": [],
   "source": [
    "# from dask.distributed import Client\n",
    "# client = Client()\n",
    "# print(client)\n",
    "# import dask\n",
    "# dask.set_options(get=dask.get)\n"
   ]
  },
  {
   "cell_type": "code",
   "execution_count": 8,
   "metadata": {},
   "outputs": [],
   "source": [
    "# General plotting settings\n",
    "sns.set_style('whitegrid')\n",
    "sns.set_context(\"talk\", font_scale=1.5, rc={\"lines.linewidth\": 2.5})"
   ]
  },
  {
   "cell_type": "code",
   "execution_count": 9,
   "metadata": {},
   "outputs": [],
   "source": [
    "#############################################################\n",
    "# Load in Data\n",
    "#############################################################\n",
    "\n",
    "E = ed.EsioData.load()\n",
    "\n",
    "# Load in Obs\n",
    "data_dir = E.data_dir\n",
    "grid_dir = E.grid_dir\n",
    "temp_dir = r'/home/disk/sipn/nicway/data/model/temp'\n",
    "# fig_dir = os.path.join(E.fig_dir, 'obs', 'NSIDC_0081' , 'standard')\n",
    "da_51_in = xr.open_dataarray(E.obs['NSIDC_0051']['sipn_nc']+'/NSIDC_0051.nc')"
   ]
  },
  {
   "cell_type": "code",
   "execution_count": 10,
   "metadata": {},
   "outputs": [],
   "source": [
    "models = ['gfdlsipn']\n",
    "runType = 'reforecast'\n",
    "variables = ['sic']"
   ]
  },
  {
   "cell_type": "code",
   "execution_count": 11,
   "metadata": {},
   "outputs": [],
   "source": [
    "c_model = models[0]\n",
    "cvar = variables[0]"
   ]
  },
  {
   "cell_type": "code",
   "execution_count": 12,
   "metadata": {},
   "outputs": [],
   "source": [
    "# Load in Model\n",
    "model_forecast = os.path.join(E.model[c_model][runType]['sipn_nc'], '*.nc')\n",
    "ds_model = xr.open_mfdataset(model_forecast)\n",
    "ds_model.rename({'nj':'x', 'ni':'y'}, inplace=True)\n",
    "\n",
    "# Set attributes\n",
    "ds_model.attrs['model_label'] = E.model[c_model]['model_label']\n",
    "ds_model.attrs['model_grid_file'] = E.model[c_model]['grid']\n",
    "ds_model.attrs['stero_grid_file'] = E.obs['NSIDC_0051']['grid']"
   ]
  },
  {
   "cell_type": "code",
   "execution_count": null,
   "metadata": {},
   "outputs": [],
   "source": []
  },
  {
   "cell_type": "code",
   "execution_count": 13,
   "metadata": {},
   "outputs": [],
   "source": [
    "# Select by variable\n",
    "da_mod_in = ds_model[cvar]"
   ]
  },
  {
   "cell_type": "code",
   "execution_count": 15,
   "metadata": {},
   "outputs": [
    {
     "data": {
      "text/plain": [
       "('ensemble', 'init_time', 'fore_time', 'x', 'y')"
      ]
     },
     "execution_count": 15,
     "metadata": {},
     "output_type": "execute_result"
    }
   ],
   "source": [
    "da_mod_in.dims"
   ]
  },
  {
   "cell_type": "code",
   "execution_count": null,
   "metadata": {},
   "outputs": [],
   "source": [
    "# Mask out to common extent (both observations and model have non-null values)\n",
    "(da_obs, da_mod) = esio.mask_common_extent(da_51_in, da_mod_in)"
   ]
  },
  {
   "cell_type": "code",
   "execution_count": null,
   "metadata": {},
   "outputs": [],
   "source": [
    "# Aggregate over domain\n",
    "# TODO: USE the correct area!!\n",
    "da_obs_avg = da_obs.sum(dim='x').sum(dim='y')*(25*25)/(10**6)\n",
    "# da_79_avg = da_79.sum(dim='x').sum(dim='y')*(25*25)/(10**6)\n",
    "# da_81_avg = da_81.sum(dim='x').sum(dim='y')*(25*25)/(10**6)\n",
    "da_mod_avg = da_mod.sum(dim='x').sum(dim='y')*(25*25)/(10**6)"
   ]
  },
  {
   "cell_type": "code",
   "execution_count": null,
   "metadata": {},
   "outputs": [],
   "source": [
    "da_mod_avg #.fore_time.values.astype('timedelta64[D]')"
   ]
  },
  {
   "cell_type": "code",
   "execution_count": null,
   "metadata": {},
   "outputs": [],
   "source": [
    "# Aggreagate Obs to Model temporal time stamp\n",
    "# ex: gfdl data is monthly, time stamp at beinging of period\n",
    "da_obs_avg_mon = da_obs_avg.resample(time='MS', label='left').mean()\n",
    "da_mod_avg_mon = da_mod_avg #.resample(fore_time='d', label='left', keep_attrs=True).mean(dim='fore_time') # Already monthly means, "
   ]
  },
  {
   "cell_type": "code",
   "execution_count": null,
   "metadata": {},
   "outputs": [],
   "source": []
  },
  {
   "cell_type": "code",
   "execution_count": null,
   "metadata": {},
   "outputs": [],
   "source": []
  },
  {
   "cell_type": "code",
   "execution_count": null,
   "metadata": {},
   "outputs": [],
   "source": []
  },
  {
   "cell_type": "code",
   "execution_count": null,
   "metadata": {},
   "outputs": [],
   "source": [
    "# Trim to common time periods\n",
    "(ds_obs_trim, ds_mod_trim) = esio.trim_common_times(da_obs_avg_mon, da_mod_avg_mon)"
   ]
  },
  {
   "cell_type": "code",
   "execution_count": null,
   "metadata": {},
   "outputs": [],
   "source": []
  },
  {
   "cell_type": "code",
   "execution_count": null,
   "metadata": {},
   "outputs": [],
   "source": []
  },
  {
   "cell_type": "code",
   "execution_count": null,
   "metadata": {},
   "outputs": [],
   "source": []
  },
  {
   "cell_type": "code",
   "execution_count": null,
   "metadata": {},
   "outputs": [],
   "source": [
    "# Temp dump to netcdf then load\n",
    "os.chdir( temp_dir )\n",
    "c_e, datasets = zip(*ds_mod_trim.to_dataset(name='sic').groupby('ensemble'))\n",
    "paths = ['GFDL_extent_esns_%s.nc' % e for e in c_e]\n",
    "xr.save_mfdataset(datasets, paths)"
   ]
  },
  {
   "cell_type": "code",
   "execution_count": null,
   "metadata": {},
   "outputs": [],
   "source": [
    "print(\"Done!\")"
   ]
  },
  {
   "cell_type": "code",
   "execution_count": null,
   "metadata": {},
   "outputs": [],
   "source": [
    "# ds_mod_trim = None # Flush memory"
   ]
  },
  {
   "cell_type": "code",
   "execution_count": null,
   "metadata": {},
   "outputs": [],
   "source": [
    "# ds_mod_trim = xr.open_mfdataset(os.path.join(temp_dir, 'GFDL_extent_esns_*.nc'), concat_dim='ensemble')\n",
    "\n",
    "# ds_mod_trim = ds_mod_trim.reindex(ensemble=sorted(ds_mod_trim.ensemble.values))\n",
    "# # \n",
    "# ds_mod_trim.fore_time.values.astype('timedelta64[D]')"
   ]
  },
  {
   "cell_type": "code",
   "execution_count": null,
   "metadata": {},
   "outputs": [],
   "source": []
  },
  {
   "cell_type": "code",
   "execution_count": null,
   "metadata": {},
   "outputs": [],
   "source": [
    "# Slow way... loop over each init_time and forecast time, calcuate metric"
   ]
  },
  {
   "cell_type": "code",
   "execution_count": null,
   "metadata": {},
   "outputs": [],
   "source": [
    "# Format obs like model\n",
    "# da_obs_avg_mon_X = esio.format_obs_like_model(ds_mod_trim, ds_obs_trim)"
   ]
  },
  {
   "cell_type": "code",
   "execution_count": null,
   "metadata": {},
   "outputs": [],
   "source": [
    " # Get observational mean and sigma\n",
    "# (mu, sigma) = esio.clim_mu_sigma(da_obs_avg_mon, method='MK')"
   ]
  },
  {
   "cell_type": "code",
   "execution_count": null,
   "metadata": {},
   "outputs": [],
   "source": [
    "# c_nrmse = esio.NRMSE(ds_mod_trim, da_obs_avg_mon_X, sigma)\n",
    "# print(c_nrmse)"
   ]
  },
  {
   "cell_type": "code",
   "execution_count": null,
   "metadata": {},
   "outputs": [],
   "source": [
    "#NRMSE is following the same pattern per months as Hawkins et al. 2016.\n",
    "# f, ax1 = plt.subplots(1,1)\n",
    "# f.set_size_inches(20, 10)\n",
    "# c_nrmse.plot(ax=ax1)"
   ]
  },
  {
   "cell_type": "code",
   "execution_count": null,
   "metadata": {},
   "outputs": [],
   "source": []
  },
  {
   "cell_type": "code",
   "execution_count": null,
   "metadata": {},
   "outputs": [],
   "source": []
  }
 ],
 "metadata": {
  "kernelspec": {
   "display_name": "3.6.4 esio",
   "language": "python",
   "name": "esio"
  },
  "language_info": {
   "codemirror_mode": {
    "name": "ipython",
    "version": 3
   },
   "file_extension": ".py",
   "mimetype": "text/x-python",
   "name": "python",
   "nbconvert_exporter": "python",
   "pygments_lexer": "ipython3",
   "version": "3.6.4"
  }
 },
 "nbformat": 4,
 "nbformat_minor": 2
}
