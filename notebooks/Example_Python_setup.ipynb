{
 "cells": [
  {
   "cell_type": "markdown",
   "metadata": {},
   "source": [
    "# The SIPN2 Portal Project"
   ]
  },
  {
   "cell_type": "markdown",
   "metadata": {},
   "source": [
    "### Website shows model forecats of sea ice https://atmos.uw.edu/sipn/"
   ]
  },
  {
   "cell_type": "markdown",
   "metadata": {},
   "source": [
    "### Slides from recent talk on the project can be found [here](https://ppw2018.files.wordpress.com/2018/05/03_projects_wayand.pdf)\n",
    "\n"
   ]
  },
  {
   "cell_type": "markdown",
   "metadata": {},
   "source": [
    "## Python set up for working with ESIO code"
   ]
  },
  {
   "cell_type": "markdown",
   "metadata": {},
   "source": [
    "## Step 1: Get ESIO code"
   ]
  },
  {
   "cell_type": "markdown",
   "metadata": {},
   "source": [
    "First we need to grab the base code from the Github Repository.\n",
    "On your local computer, on the command line run:"
   ]
  },
  {
   "cell_type": "markdown",
   "metadata": {},
   "source": [
    ">`git clone https://github.com/NicWayand/ESIO.git`"
   ]
  },
  {
   "cell_type": "markdown",
   "metadata": {},
   "source": [
    "Which will download the current code to your computer and put it into a new folder called ESIO"
   ]
  },
  {
   "cell_type": "markdown",
   "metadata": {},
   "source": [
    "## Step 2: Get conda's python distribution"
   ]
  },
  {
   "cell_type": "markdown",
   "metadata": {},
   "source": [
    "Download it from here: https://www.anaconda.com/download/#linux or run the below command to grab it"
   ]
  },
  {
   "cell_type": "markdown",
   "metadata": {},
   "source": [
    ">wget https://repo.anaconda.com/archive/Anaconda3-5.1.0-Linux-x86_64.sh"
   ]
  },
  {
   "cell_type": "markdown",
   "metadata": {},
   "source": [
    "Follow installation instructions: https://conda.io/docs/user-guide/install/linux.html"
   ]
  },
  {
   "cell_type": "markdown",
   "metadata": {},
   "source": [
    "## Step 3: Create a new conda environment that has all needed python modules to run the ESIO code"
   ]
  },
  {
   "cell_type": "markdown",
   "metadata": {},
   "source": [
    "Move to the ESIO github dir on your local machine. There is a file there called `requirements_esio.txt`. Run the below command to create a new [environment](https://conda.io/docs/user-guide/tasks/manage-environments.html) (which holds all the specific python modules and versions required by the ESIO code)"
   ]
  },
  {
   "cell_type": "markdown",
   "metadata": {},
   "source": [
    ">conda env create -f requirements_esio.txt"
   ]
  },
  {
   "cell_type": "markdown",
   "metadata": {},
   "source": [
    "Then activate it with:"
   ]
  },
  {
   "cell_type": "markdown",
   "metadata": {},
   "source": [
    ">source activate esio"
   ]
  },
  {
   "cell_type": "markdown",
   "metadata": {},
   "source": [
    "Choices of editors:\n",
    "    - Jupyter Lab (recomended)\n",
    "    - Julpyter notebook \n",
    "    - Vim"
   ]
  },
  {
   "cell_type": "markdown",
   "metadata": {},
   "source": [
    "Start jupyter lab interface\n",
    "> jupyter lab"
   ]
  },
  {
   "cell_type": "markdown",
   "metadata": {},
   "source": []
  },
  {
   "cell_type": "code",
   "execution_count": null,
   "metadata": {},
   "outputs": [],
   "source": []
  }
 ],
 "metadata": {
  "kernelspec": {
   "display_name": "3.6.4 esio",
   "language": "python",
   "name": "esio"
  },
  "language_info": {
   "codemirror_mode": {
    "name": "ipython",
    "version": 3
   },
   "file_extension": ".py",
   "mimetype": "text/x-python",
   "name": "python",
   "nbconvert_exporter": "python",
   "pygments_lexer": "ipython3",
   "version": "3.6.4"
  }
 },
 "nbformat": 4,
 "nbformat_minor": 2
}
